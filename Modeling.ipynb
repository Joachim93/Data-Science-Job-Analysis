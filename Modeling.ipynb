{
 "cells": [
  {
   "cell_type": "markdown",
   "id": "dd8755bb-8b32-40ac-abbc-a1ce6d7fec97",
   "metadata": {},
   "source": [
    "# Zielstellung\n",
    "\n",
    "Ziel dieses Notebooks ist es, ein Machine Learning Modell zu entwerfen, welches das Gehalt einer Stelle bestmöglich aus den Angaben in der Jobbeschreibung vorhersagen soll.\n",
    "Vorgehen:\n",
    "- Test einer schwachen Baseline ==> Mittelwert aller Gehälter als Vorhersage nutzen\n",
    "- Test eines linearen Modelles\n",
    "- Test eines nichtlinearen Modelles"
   ]
  },
  {
   "cell_type": "code",
   "execution_count": 1,
   "id": "861f8e44-62cc-495b-982a-afb50afb6644",
   "metadata": {},
   "outputs": [],
   "source": [
    "import numpy as np\n",
    "import pandas as pd\n",
    "import seaborn as sns\n",
    "import matplotlib.pyplot as plt\n",
    "import plotly.express as px\n",
    "from sklearn.dummy import DummyRegressor\n",
    "from sklearn.metrics import mean_absolute_error\n",
    "from sklearn.model_selection import cross_validate, KFold, cross_val_predict, GroupKFold, train_test_split, GridSearchCV, cross_val_score, RandomizedSearchCV\n",
    "from sklearn.linear_model import LinearRegression, Ridge, Lasso\n",
    "from sklearn.preprocessing import OneHotEncoder, StandardScaler, PolynomialFeatures\n",
    "from sklearn.pipeline import Pipeline\n",
    "from sklearn.impute import SimpleImputer\n",
    "from sklearn.base import BaseEstimator, TransformerMixin\n",
    "from sklearn.ensemble import RandomForestRegressor, GradientBoostingRegressor\n",
    "from sklearn.compose import ColumnTransformer\n",
    "from sklearn.feature_extraction.text import CountVectorizer, TfidfTransformer\n",
    "from sklearn.svm import SVR, LinearSVR\n",
    "from sklearn.tree import DecisionTreeRegressor\n",
    "\n",
    "from xgboost import XGBRegressor\n",
    "from catboost import CatBoostRegressor\n",
    "from category_encoders.target_encoder import TargetEncoder\n",
    "\n",
    "import statsmodels.api as sm\n",
    "\n",
    "import warnings\n",
    "warnings.filterwarnings(\"ignore\")\n",
    "\n",
    "from tqdm import tqdm"
   ]
  },
  {
   "cell_type": "code",
   "execution_count": 2,
   "id": "71b42505-b0b5-406a-ab89-54f620594d01",
   "metadata": {},
   "outputs": [
    {
     "data": {
      "text/html": [
       "<div>\n",
       "<style scoped>\n",
       "    .dataframe tbody tr th:only-of-type {\n",
       "        vertical-align: middle;\n",
       "    }\n",
       "\n",
       "    .dataframe tbody tr th {\n",
       "        vertical-align: top;\n",
       "    }\n",
       "\n",
       "    .dataframe thead th {\n",
       "        text-align: right;\n",
       "    }\n",
       "</style>\n",
       "<table border=\"1\" class=\"dataframe\">\n",
       "  <thead>\n",
       "    <tr style=\"text-align: right;\">\n",
       "      <th></th>\n",
       "      <th>link</th>\n",
       "      <th>company</th>\n",
       "      <th>title</th>\n",
       "      <th>content</th>\n",
       "      <th>rating</th>\n",
       "      <th>num_ratings</th>\n",
       "      <th>company_link</th>\n",
       "      <th>release_date</th>\n",
       "      <th>company_size</th>\n",
       "      <th>permanent_employment</th>\n",
       "      <th>...</th>\n",
       "      <th>no_degree_info</th>\n",
       "      <th>computer_science</th>\n",
       "      <th>math/statistics</th>\n",
       "      <th>natural_science</th>\n",
       "      <th>engineering</th>\n",
       "      <th>business</th>\n",
       "      <th>little_experience</th>\n",
       "      <th>much_experience</th>\n",
       "      <th>no_experience_information</th>\n",
       "      <th>some_experience</th>\n",
       "    </tr>\n",
       "  </thead>\n",
       "  <tbody>\n",
       "    <tr>\n",
       "      <th>1</th>\n",
       "      <td>https://www.stepstone.de/stellenangebote--Mana...</td>\n",
       "      <td>BIG direkt gesund</td>\n",
       "      <td>Manager (m/w/d) Data Science &amp; Statistik</td>\n",
       "      <td>Direkter geht Karriere nicht.Einstieg bei der ...</td>\n",
       "      <td>4.3</td>\n",
       "      <td>16 Bewertungen</td>\n",
       "      <td>NaN</td>\n",
       "      <td>2022-06-03</td>\n",
       "      <td>NaN</td>\n",
       "      <td>True</td>\n",
       "      <td>...</td>\n",
       "      <td>True</td>\n",
       "      <td>False</td>\n",
       "      <td>True</td>\n",
       "      <td>False</td>\n",
       "      <td>False</td>\n",
       "      <td>True</td>\n",
       "      <td>False</td>\n",
       "      <td>False</td>\n",
       "      <td>True</td>\n",
       "      <td>False</td>\n",
       "    </tr>\n",
       "    <tr>\n",
       "      <th>2</th>\n",
       "      <td>https://www.stepstone.de/stellenangebote--Mana...</td>\n",
       "      <td>BIG direkt gesund</td>\n",
       "      <td>Manager (m/w/d) Data Science &amp; Statistik</td>\n",
       "      <td>Direkter geht Karriere nicht.Einstieg bei der ...</td>\n",
       "      <td>4.3</td>\n",
       "      <td>16 Bewertungen</td>\n",
       "      <td>NaN</td>\n",
       "      <td>2022-06-03</td>\n",
       "      <td>NaN</td>\n",
       "      <td>True</td>\n",
       "      <td>...</td>\n",
       "      <td>True</td>\n",
       "      <td>False</td>\n",
       "      <td>True</td>\n",
       "      <td>False</td>\n",
       "      <td>False</td>\n",
       "      <td>True</td>\n",
       "      <td>False</td>\n",
       "      <td>False</td>\n",
       "      <td>True</td>\n",
       "      <td>False</td>\n",
       "    </tr>\n",
       "    <tr>\n",
       "      <th>3</th>\n",
       "      <td>https://www.stepstone.de/stellenangebote--Data...</td>\n",
       "      <td>METRO Markets GmbH</td>\n",
       "      <td>Data Science Lead</td>\n",
       "      <td>We create the future of B2B commerce by giving...</td>\n",
       "      <td>NaN</td>\n",
       "      <td>NaN</td>\n",
       "      <td>NaN</td>\n",
       "      <td>2022-06-01</td>\n",
       "      <td>NaN</td>\n",
       "      <td>True</td>\n",
       "      <td>...</td>\n",
       "      <td>False</td>\n",
       "      <td>False</td>\n",
       "      <td>True</td>\n",
       "      <td>False</td>\n",
       "      <td>True</td>\n",
       "      <td>False</td>\n",
       "      <td>False</td>\n",
       "      <td>True</td>\n",
       "      <td>False</td>\n",
       "      <td>False</td>\n",
       "    </tr>\n",
       "    <tr>\n",
       "      <th>4</th>\n",
       "      <td>https://www.stepstone.de/stellenangebote--Busi...</td>\n",
       "      <td>R+V Allgemeine Versicherung AG</td>\n",
       "      <td>Business Analyst / Data Science (m/w/d)</td>\n",
       "      <td>Wie sich die Versicherung von morgen anfühlen ...</td>\n",
       "      <td>4.4</td>\n",
       "      <td>247 Bewertungen</td>\n",
       "      <td>https://www.stepstone.de/cmp/de/R-V-Allgemeine...</td>\n",
       "      <td>2022-06-01</td>\n",
       "      <td>10,001+</td>\n",
       "      <td>True</td>\n",
       "      <td>...</td>\n",
       "      <td>False</td>\n",
       "      <td>True</td>\n",
       "      <td>False</td>\n",
       "      <td>False</td>\n",
       "      <td>False</td>\n",
       "      <td>False</td>\n",
       "      <td>False</td>\n",
       "      <td>False</td>\n",
       "      <td>True</td>\n",
       "      <td>False</td>\n",
       "    </tr>\n",
       "    <tr>\n",
       "      <th>8</th>\n",
       "      <td>https://www.stepstone.de/stellenangebote--Data...</td>\n",
       "      <td>CHECK24</td>\n",
       "      <td>Data Science &amp; Artificial Intelligence Manager...</td>\n",
       "      <td>CHECK24 ist eines der führenden Online-Unterne...</td>\n",
       "      <td>4.5</td>\n",
       "      <td>179 Bewertungen</td>\n",
       "      <td>https://www.stepstone.de/cmp/de/CHECK24-112642...</td>\n",
       "      <td>2022-05-28</td>\n",
       "      <td>2501-5000</td>\n",
       "      <td>True</td>\n",
       "      <td>...</td>\n",
       "      <td>False</td>\n",
       "      <td>False</td>\n",
       "      <td>False</td>\n",
       "      <td>True</td>\n",
       "      <td>False</td>\n",
       "      <td>True</td>\n",
       "      <td>False</td>\n",
       "      <td>False</td>\n",
       "      <td>True</td>\n",
       "      <td>False</td>\n",
       "    </tr>\n",
       "  </tbody>\n",
       "</table>\n",
       "<p>5 rows × 88 columns</p>\n",
       "</div>"
      ],
      "text/plain": [
       "                                                link  \\\n",
       "1  https://www.stepstone.de/stellenangebote--Mana...   \n",
       "2  https://www.stepstone.de/stellenangebote--Mana...   \n",
       "3  https://www.stepstone.de/stellenangebote--Data...   \n",
       "4  https://www.stepstone.de/stellenangebote--Busi...   \n",
       "8  https://www.stepstone.de/stellenangebote--Data...   \n",
       "\n",
       "                          company  \\\n",
       "1               BIG direkt gesund   \n",
       "2               BIG direkt gesund   \n",
       "3              METRO Markets GmbH   \n",
       "4  R+V Allgemeine Versicherung AG   \n",
       "8                         CHECK24   \n",
       "\n",
       "                                               title  \\\n",
       "1           Manager (m/w/d) Data Science & Statistik   \n",
       "2           Manager (m/w/d) Data Science & Statistik   \n",
       "3                                  Data Science Lead   \n",
       "4            Business Analyst / Data Science (m/w/d)   \n",
       "8  Data Science & Artificial Intelligence Manager...   \n",
       "\n",
       "                                             content  rating      num_ratings  \\\n",
       "1  Direkter geht Karriere nicht.Einstieg bei der ...     4.3   16 Bewertungen   \n",
       "2  Direkter geht Karriere nicht.Einstieg bei der ...     4.3   16 Bewertungen   \n",
       "3  We create the future of B2B commerce by giving...     NaN              NaN   \n",
       "4  Wie sich die Versicherung von morgen anfühlen ...     4.4  247 Bewertungen   \n",
       "8  CHECK24 ist eines der führenden Online-Unterne...     4.5  179 Bewertungen   \n",
       "\n",
       "                                        company_link release_date  \\\n",
       "1                                                NaN   2022-06-03   \n",
       "2                                                NaN   2022-06-03   \n",
       "3                                                NaN   2022-06-01   \n",
       "4  https://www.stepstone.de/cmp/de/R-V-Allgemeine...   2022-06-01   \n",
       "8  https://www.stepstone.de/cmp/de/CHECK24-112642...   2022-05-28   \n",
       "\n",
       "  company_size  permanent_employment  ...  no_degree_info  computer_science  \\\n",
       "1          NaN                  True  ...            True             False   \n",
       "2          NaN                  True  ...            True             False   \n",
       "3          NaN                  True  ...           False             False   \n",
       "4      10,001+                  True  ...           False              True   \n",
       "8    2501-5000                  True  ...           False             False   \n",
       "\n",
       "   math/statistics  natural_science engineering business  little_experience  \\\n",
       "1             True            False       False     True              False   \n",
       "2             True            False       False     True              False   \n",
       "3             True            False        True    False              False   \n",
       "4            False            False       False    False              False   \n",
       "8            False             True       False     True              False   \n",
       "\n",
       "  much_experience  no_experience_information some_experience  \n",
       "1           False                       True           False  \n",
       "2           False                       True           False  \n",
       "3            True                      False           False  \n",
       "4           False                       True           False  \n",
       "8           False                       True           False  \n",
       "\n",
       "[5 rows x 88 columns]"
      ]
     },
     "execution_count": 2,
     "metadata": {},
     "output_type": "execute_result"
    }
   ],
   "source": [
    "df = pd.read_csv(\"data2/cleaned_wide.csv\")\n",
    "df.dropna(subset=[\"average_salary\"], inplace=True)\n",
    "df.head()"
   ]
  },
  {
   "cell_type": "code",
   "execution_count": 3,
   "id": "a75571b2-fc14-4b26-9b96-9adfee50e96f",
   "metadata": {},
   "outputs": [
    {
     "data": {
      "text/plain": [
       "(1687, 88)"
      ]
     },
     "execution_count": 3,
     "metadata": {},
     "output_type": "execute_result"
    }
   ],
   "source": [
    "df.shape"
   ]
  },
  {
   "cell_type": "markdown",
   "id": "df78585a-ea56-4d2c-8b05-de20307039b1",
   "metadata": {},
   "source": [
    "Innerhabl der EDA wurden bereits Attribute identifiziert, die im Bezug auf das Gehalt einer Stelle nicht relevant sind. Diese werden bei der Modellbildung von Beginn an ausgeschlossen."
   ]
  },
  {
   "cell_type": "code",
   "execution_count": 4,
   "id": "cd790fb3-2305-4a7d-a08c-b1d06735b37d",
   "metadata": {},
   "outputs": [
    {
     "data": {
      "text/plain": [
       "Index(['link', 'company', 'title', 'content', 'rating', 'num_ratings',\n",
       "       'company_link', 'release_date', 'company_size', 'permanent_employment',\n",
       "       'trainee', 'home_office_possible', 'part_time', 'full_time',\n",
       "       'title_category', 'experience_level', 'average_salary', 'main_location',\n",
       "       'multiple_locations', 'main_region', 'main_industry', 'python', 'r',\n",
       "       'sql', 'java', 'javascript', 'c', 'c++', 'c#', 'scala', 'julia',\n",
       "       'matlab', 'swift', 'go', 'sas', 'perl', 'php', 'html', 'css', 'excel',\n",
       "       'tableau', 'power_bi', 'spark', 'hadoop', 'hive', 'storm', 'snowflake',\n",
       "       'knime', 'aws', 'kafka', 'azure', 'google_cloud', 'docker', 'git',\n",
       "       'linux', 'kubernetes', 'jenkins', 'bigquery', 'gcp', 'airflow',\n",
       "       'cassandra', 'alteryx', 'pandas', 'numpy', 'tensorflow/keras',\n",
       "       'pytorch', 'matplotlib', 'seaborn', 'scikit-learn', 'plotly',\n",
       "       'streamlit', 'spacy', 'nltk', 'scipy', 'statsmodels', 'master', 'phd',\n",
       "       'bachelor', 'no_degree_info', 'computer_science', 'math/statistics',\n",
       "       'natural_science', 'engineering', 'business', 'little_experience',\n",
       "       'much_experience', 'no_experience_information', 'some_experience'],\n",
       "      dtype='object')"
      ]
     },
     "execution_count": 4,
     "metadata": {},
     "output_type": "execute_result"
    }
   ],
   "source": [
    "df.columns"
   ]
  },
  {
   "cell_type": "code",
   "execution_count": 5,
   "id": "bcac94eb-7476-45c2-ab4c-195254032018",
   "metadata": {},
   "outputs": [
    {
     "data": {
      "text/plain": [
       "Index(['company', 'company_size', 'home_office_possible', 'part_time',\n",
       "       'title_category', 'experience_level', 'average_salary', 'main_location',\n",
       "       'multiple_locations', 'main_region', 'main_industry', 'master', 'phd',\n",
       "       'bachelor', 'no_degree_info', 'little_experience', 'much_experience',\n",
       "       'no_experience_information', 'some_experience'],\n",
       "      dtype='object')"
      ]
     },
     "execution_count": 5,
     "metadata": {},
     "output_type": "execute_result"
    }
   ],
   "source": [
    "df.drop([\"link\", \"title\", \"content\", \"rating\", \"num_ratings\", \"company_link\", \"release_date\", \"permanent_employment\", \"trainee\", \"full_time\", \n",
    "        \"python\", \"r\", \"sql\", \"java\", \"javascript\", \"c\", \"c++\", \"c#\", \"scala\", \"julia\", \"matlab\", \"swift\", \"go\", \"sas\", \"perl\", \"php\", \"html\", \"css\", \"excel\",\n",
    "        \"tableau\", \"power_bi\", \"spark\", \"hadoop\", \"hive\", \"storm\", \"snowflake\", \"knime\", \"aws\", \"kafka\", \"azure\", \"google_cloud\", \"docker\", \"git\",\n",
    "        \"linux\", \"kubernetes\", \"jenkins\", \"bigquery\", \"gcp\", \"airflow\", \"cassandra\", \"alteryx\", \"pandas\", \"numpy\", \"tensorflow/keras\",\n",
    "        \"pytorch\", \"matplotlib\", \"seaborn\", \"scikit-learn\", \"plotly\", \"streamlit\", \"spacy\", \"nltk\", \"scipy\", \"statsmodels\", \"computer_science\", \"math/statistics\",\n",
    "        \"natural_science\", \"engineering\", \"business\"], axis=1, inplace=True)\n",
    "df.columns"
   ]
  },
  {
   "cell_type": "markdown",
   "id": "a58f79e0-97d2-479f-8f2c-560d26cbfc8b",
   "metadata": {},
   "source": [
    "Um später eine unverzerrte Schätzung der Modellgüt zu erreichen, wird als ersten ein Teil der Daten als Testdaten abgesplittet und weggelegt."
   ]
  },
  {
   "cell_type": "code",
   "execution_count": 6,
   "id": "ad5ad5c1-73d1-471b-9751-73f14d451bbf",
   "metadata": {},
   "outputs": [
    {
     "data": {
      "text/plain": [
       "((1349, 19), (338, 19))"
      ]
     },
     "execution_count": 6,
     "metadata": {},
     "output_type": "execute_result"
    }
   ],
   "source": [
    "df_train, df_test = train_test_split(df, test_size=0.2, random_state=0)\n",
    "df_train.shape, df_test.shape"
   ]
  },
  {
   "cell_type": "markdown",
   "id": "318fc700-95ee-42f1-a907-aebaecbcd398",
   "metadata": {},
   "source": [
    "Es existieren drei Attribute mit fehlenden Werten. Da es sich bei allen Attributen mit kategorische Features handelt, wurde sich dafür entschieden später jeweils eine zusätzliche Kategorie \"missing\" hinzuzufügen."
   ]
  },
  {
   "cell_type": "code",
   "execution_count": 7,
   "id": "aa098cce-95be-42f4-ad55-29b72c7424ed",
   "metadata": {},
   "outputs": [
    {
     "data": {
      "text/plain": [
       "company_size                 345\n",
       "main_industry                217\n",
       "main_region                   31\n",
       "no_experience_information      0\n",
       "much_experience                0\n",
       "little_experience              0\n",
       "no_degree_info                 0\n",
       "bachelor                       0\n",
       "phd                            0\n",
       "master                         0\n",
       "dtype: int64"
      ]
     },
     "execution_count": 7,
     "metadata": {},
     "output_type": "execute_result"
    }
   ],
   "source": [
    "df_train.isnull().sum().sort_values(ascending=False).head(10)"
   ]
  },
  {
   "cell_type": "markdown",
   "id": "1beee9d4-4208-49b3-9b4a-f1fe233ee574",
   "metadata": {},
   "source": [
    "Die Targetvariable ist näherungsweise normalverteilt, enthält jedoch einen relativ extremen Ausreißer. Bei der Verwendung eines linearen Modelles kann es sinnvoll sein, diesen aus den Trainingsdaten zu entfernen, um die restlichen Datenpunkte besser zu approximieren."
   ]
  },
  {
   "cell_type": "code",
   "execution_count": 8,
   "id": "e6ec3d9c-f2b2-4172-a8cf-954f5534c179",
   "metadata": {},
   "outputs": [
    {
     "data": {
      "text/plain": [
       "<AxesSubplot:xlabel='average_salary', ylabel='Count'>"
      ]
     },
     "execution_count": 8,
     "metadata": {},
     "output_type": "execute_result"
    },
    {
     "data": {
      "image/png": "[encoded data removed]",
      "text/plain": [
       "<Figure size 432x288 with 1 Axes>"
      ]
     },
     "metadata": {
      "needs_background": "light"
     },
     "output_type": "display_data"
    }
   ],
   "source": [
    "sns.histplot(x=df_train[\"average_salary\"])"
   ]
  },
  {
   "cell_type": "markdown",
   "id": "808f06f9-f43b-4d61-ac31-9e5650b4a886",
   "metadata": {},
   "source": [
    "### Schwache Baseline"
   ]
  },
  {
   "cell_type": "code",
   "execution_count": 9,
   "id": "2ab4c38b-1398-4571-8dae-c51a523ddf7b",
   "metadata": {},
   "outputs": [
    {
     "name": "stdout",
     "output_type": "stream",
     "text": [
      "train score: 9328.610852440717\n",
      "test score: 9331.5807791647\n"
     ]
    }
   ],
   "source": [
    "X = df_train.drop(\"average_salary\", axis=1)\n",
    "y = df_train[\"average_salary\"]\n",
    "model = DummyRegressor(strategy=\"mean\")\n",
    "results = cross_validate(model, X, y, scoring=\"neg_mean_absolute_error\", return_train_score=True)\n",
    "print(f\"train score: {np.abs(np.mean(results['train_score']))}\")\n",
    "print(f\"test score: {np.abs(np.mean(results['test_score']))}\")"
   ]
  },
  {
   "cell_type": "markdown",
   "id": "9e308105-db57-4ca5-9d7f-0fb570bdf26c",
   "metadata": {},
   "source": [
    "### Lineares Modell"
   ]
  },
  {
   "cell_type": "code",
   "execution_count": 10,
   "id": "b856a2cf-38da-4170-b730-c92f4947f504",
   "metadata": {},
   "outputs": [
    {
     "data": {
      "text/plain": [
       "Index(['company', 'company_size', 'home_office_possible', 'part_time',\n",
       "       'title_category', 'experience_level', 'average_salary', 'main_location',\n",
       "       'multiple_locations', 'main_region', 'main_industry', 'master', 'phd',\n",
       "       'bachelor', 'no_degree_info', 'little_experience', 'much_experience',\n",
       "       'no_experience_information', 'some_experience'],\n",
       "      dtype='object')"
      ]
     },
     "execution_count": 10,
     "metadata": {},
     "output_type": "execute_result"
    }
   ],
   "source": [
    "df_train.columns"
   ]
  },
  {
   "cell_type": "markdown",
   "id": "45b88981-9901-4d73-8ac3-1e39bdf65c8d",
   "metadata": {},
   "source": [
    "Im Rahmen der Vorverarbeitung werden alle fehlenden Werte zunächst durch die Kategorie \"missing_value\" ersetzt. Anschließend werden alle kategorischen Features mit One-Hot-Encoding in numerische Features umgewandelt. Eine Skalierung der Daten ist nicht notwendig, da der Datensatz nur kategorische Features enthält."
   ]
  },
  {
   "cell_type": "code",
   "execution_count": 11,
   "id": "a64a4d60-36f0-4d4a-aad6-e5ac487c3a28",
   "metadata": {},
   "outputs": [
    {
     "name": "stdout",
     "output_type": "stream",
     "text": [
      "train score: 3119.777764331356\n",
      "test score: 7104.9044378120725\n"
     ]
    }
   ],
   "source": [
    "X = df_train.drop([\"average_salary\"], axis=1)\n",
    "y = df_train[\"average_salary\"]\n",
    "\n",
    "pipe = Pipeline([\n",
    "    (\"imputer\", SimpleImputer(strategy=\"constant\", fill_value=\"missing_value\")),\n",
    "    (\"encoder\", OneHotEncoder(handle_unknown=\"ignore\")),\n",
    "    (\"model\", LinearRegression())\n",
    "])\n",
    "\n",
    "results = cross_validate(pipe, X, y, scoring=\"neg_mean_absolute_error\", return_train_score=True)\n",
    "print(f\"train score: {np.abs(np.mean(results['train_score']))}\")\n",
    "print(f\"test score: {np.abs(np.mean(results['test_score']))}\")"
   ]
  },
  {
   "cell_type": "markdown",
   "id": "60c592dc-847f-4a69-8c1f-e44018e62d57",
   "metadata": {},
   "source": [
    "Die Lineare Regression liefert bereits eine deutliche Verbesserung gegenüber der Baseline. Die große Differenz zwischen Trainings- u. Testfehler lässt jedoch darauf schließen, dass das Modell auf den Trainigsdaten overfittet. Daher wird als nächsten der Effekt zusätzlicher Regularisierung untersucht."
   ]
  },
  {
   "cell_type": "code",
   "execution_count": 12,
   "id": "14b5bbe1-53e6-4493-b8e0-dc884b17f034",
   "metadata": {},
   "outputs": [
    {
     "data": {
      "text/html": [
       "<div>\n",
       "<style scoped>\n",
       "    .dataframe tbody tr th:only-of-type {\n",
       "        vertical-align: middle;\n",
       "    }\n",
       "\n",
       "    .dataframe tbody tr th {\n",
       "        vertical-align: top;\n",
       "    }\n",
       "\n",
       "    .dataframe thead th {\n",
       "        text-align: right;\n",
       "    }\n",
       "</style>\n",
       "<table border=\"1\" class=\"dataframe\">\n",
       "  <thead>\n",
       "    <tr style=\"text-align: right;\">\n",
       "      <th></th>\n",
       "      <th>alpha</th>\n",
       "      <th>train_error</th>\n",
       "      <th>test_error</th>\n",
       "    </tr>\n",
       "  </thead>\n",
       "  <tbody>\n",
       "    <tr>\n",
       "      <th>9</th>\n",
       "      <td>{'model__alpha': 9}</td>\n",
       "      <td>5086.488276</td>\n",
       "      <td>6379.435049</td>\n",
       "    </tr>\n",
       "  </tbody>\n",
       "</table>\n",
       "</div>"
      ],
      "text/plain": [
       "                 alpha  train_error   test_error\n",
       "9  {'model__alpha': 9}  5086.488276  6379.435049"
      ]
     },
     "execution_count": 12,
     "metadata": {},
     "output_type": "execute_result"
    }
   ],
   "source": [
    "X = df_train.drop([\"average_salary\"], axis=1)\n",
    "y = df_train[\"average_salary\"]\n",
    "\n",
    "pipe = Pipeline([\n",
    "    (\"imputer\", SimpleImputer(strategy=\"constant\", fill_value=\"missing_value\")),\n",
    "    (\"encoder\", OneHotEncoder(handle_unknown=\"ignore\")),\n",
    "    (\"model\", Lasso())\n",
    "])\n",
    "\n",
    "param_grid = {\"model__alpha\": list(range(0,50))}\n",
    "grid = GridSearchCV(pipe, param_grid, scoring=\"neg_mean_absolute_error\", return_train_score=True, n_jobs=-1)\n",
    "grid.fit(X, y)\n",
    "\n",
    "results = pd.DataFrame({\"alpha\": grid.cv_results_[\"params\"], \"train_error\": np.abs(grid.cv_results_[\"mean_train_score\"]), \"test_error\": np.abs(grid.cv_results_[\"mean_test_score\"])})\n",
    "results.loc[results[\"test_error\"] == results[\"test_error\"].min()]"
   ]
  },
  {
   "cell_type": "code",
   "execution_count": 13,
   "id": "37b01795-3ed9-4cc1-a889-091456060e89",
   "metadata": {},
   "outputs": [
    {
     "data": {
      "text/plain": [
       "[<matplotlib.lines.Line2D at 0x1e0853e4370>]"
      ]
     },
     "execution_count": 13,
     "metadata": {},
     "output_type": "execute_result"
    },
    {
     "data": {
      "image/png": "[encoded data removed]",
      "text/plain": [
       "<Figure size 432x288 with 1 Axes>"
      ]
     },
     "metadata": {
      "needs_background": "light"
     },
     "output_type": "display_data"
    }
   ],
   "source": [
    "plt.plot(results[\"train_error\"])\n",
    "plt.plot(results[\"test_error\"])"
   ]
  },
  {
   "cell_type": "code",
   "execution_count": 14,
   "id": "bfcce078-a830-400b-839d-71cd0104842d",
   "metadata": {},
   "outputs": [],
   "source": [
    "# bringt die Entfernung des Ausreißers eine Verbesserung?"
   ]
  },
  {
   "cell_type": "code",
   "execution_count": 15,
   "id": "b33de2db-5874-483a-859a-5dfc7a7ac4db",
   "metadata": {},
   "outputs": [
    {
     "name": "stderr",
     "output_type": "stream",
     "text": [
      "100%|██████████████████████████████████████████████████████████████████████████████████| 50/50 [01:58<00:00,  2.37s/it]\n"
     ]
    },
    {
     "data": {
      "text/html": [
       "<div>\n",
       "<style scoped>\n",
       "    .dataframe tbody tr th:only-of-type {\n",
       "        vertical-align: middle;\n",
       "    }\n",
       "\n",
       "    .dataframe tbody tr th {\n",
       "        vertical-align: top;\n",
       "    }\n",
       "\n",
       "    .dataframe thead th {\n",
       "        text-align: right;\n",
       "    }\n",
       "</style>\n",
       "<table border=\"1\" class=\"dataframe\">\n",
       "  <thead>\n",
       "    <tr style=\"text-align: right;\">\n",
       "      <th></th>\n",
       "      <th>alpha</th>\n",
       "      <th>train_error</th>\n",
       "      <th>test_error</th>\n",
       "    </tr>\n",
       "  </thead>\n",
       "  <tbody>\n",
       "    <tr>\n",
       "      <th>9</th>\n",
       "      <td>9</td>\n",
       "      <td>5076.805744</td>\n",
       "      <td>6367.051075</td>\n",
       "    </tr>\n",
       "  </tbody>\n",
       "</table>\n",
       "</div>"
      ],
      "text/plain": [
       "   alpha  train_error   test_error\n",
       "9      9  5076.805744  6367.051075"
      ]
     },
     "execution_count": 15,
     "metadata": {},
     "output_type": "execute_result"
    }
   ],
   "source": [
    "X = df_train.drop([\"average_salary\"], axis=1)\n",
    "y = df_train[\"average_salary\"]\n",
    "\n",
    "kfold = KFold(5)\n",
    "train_error_grid = []\n",
    "test_error_grid = []\n",
    "alpha_list = list(range(0,50))\n",
    "\n",
    "for alpha in tqdm(range(0,50)):\n",
    "    pipe = Pipeline([\n",
    "        (\"imputer\", SimpleImputer(strategy=\"constant\", fill_value=\"missing_value\")),\n",
    "        (\"encoder\", OneHotEncoder(handle_unknown=\"ignore\")),\n",
    "        (\"model\", Lasso(alpha=alpha))\n",
    "    ])\n",
    "    train_error = []\n",
    "    test_error = []\n",
    "    for train, test in kfold.split(X, y):\n",
    "        X_train = X.iloc[train]\n",
    "        y_train = y.iloc[train]\n",
    "        X_train = X_train.loc[y_train<120000]\n",
    "        y_train = y_train.loc[y_train<120000]\n",
    "        X_test = X.iloc[test]\n",
    "        y_test = y.iloc[test]\n",
    "        pipe.fit(X_train, y_train)\n",
    "        y_pred_train = pipe.predict(X_train)\n",
    "        y_pred_test = pipe.predict(X_test)\n",
    "        train_error.append(mean_absolute_error(y_train, y_pred_train))\n",
    "        test_error.append(mean_absolute_error(y_test, y_pred_test))\n",
    "\n",
    "    train_error_grid.append(np.mean(train_error))\n",
    "    test_error_grid.append(np.mean(test_error))\n",
    "    pipe.fit(X,y)\n",
    "\n",
    "results = pd.DataFrame({\"alpha\": alpha_list, \"train_error\": train_error_grid, \"test_error\": test_error_grid})\n",
    "results.loc[results[\"test_error\"] == results[\"test_error\"].min()]"
   ]
  },
  {
   "cell_type": "markdown",
   "id": "830dc95b-bd9a-4620-b492-8d490f8b710b",
   "metadata": {},
   "source": [
    "Die Entfernung des Ausrteißers bringt noch einmal eine leichte Verbesserung auf den Testdaten mit sich, da die große Masse an Datenpunkten nun etwas besser dargestellt werden kann."
   ]
  },
  {
   "cell_type": "markdown",
   "id": "f51d8e33-82b1-4381-9dd8-e2c1615eaf22",
   "metadata": {},
   "source": [
    "### Nichtlineares Modell"
   ]
  },
  {
   "cell_type": "code",
   "execution_count": 16,
   "id": "6ffe1ccb-5b89-4a73-af9b-2c1959e8e8d4",
   "metadata": {},
   "outputs": [
    {
     "name": "stdout",
     "output_type": "stream",
     "text": [
      "Fitting 5 folds for each of 100 candidates, totalling 500 fits\n",
      "6329.217157790342\n"
     ]
    },
    {
     "data": {
      "text/plain": [
       "Pipeline(steps=[('encoder',\n",
       "                 Pipeline(steps=[('imputer',\n",
       "                                  SimpleImputer(fill_value='missing_value',\n",
       "                                                strategy='constant')),\n",
       "                                 ('encoder',\n",
       "                                  OneHotEncoder(handle_unknown='ignore'))])),\n",
       "                ('model',\n",
       "                 XGBRegressor(base_score=0.5, booster='gbtree', callbacks=None,\n",
       "                              colsample_bylevel=0.7, colsample_bynode=1,\n",
       "                              colsample_bytree=1, early_stopping_rounds=None,\n",
       "                              enable_categorical=Fals...\n",
       "                              gamma=5, gpu_id=-1, grow_policy='depthwise',\n",
       "                              importance_type=None, interaction_constraints='',\n",
       "                              learning_rate=0.05, max_bin=256,\n",
       "                              max_cat_to_onehot=4, max_delta_step=0,\n",
       "                              max_depth=5, max_leaves=0, min_child_weight=1,\n",
       "                              missing=nan, monotone_constraints='()',\n",
       "                              n_estimators=500, n_jobs=0, num_parallel_tree=1,\n",
       "                              predictor='auto', random_state=0, reg_alpha=5,\n",
       "                              reg_lambda=1, ...))])"
      ]
     },
     "execution_count": 16,
     "metadata": {},
     "output_type": "execute_result"
    }
   ],
   "source": [
    "X = df_train.drop([\"average_salary\"], axis=1)\n",
    "y = df_train[\"average_salary\"]\n",
    "\n",
    "onehot_encoding = Pipeline([\n",
    "    (\"imputer\", SimpleImputer(strategy=\"constant\", fill_value=\"missing_value\")),\n",
    "    (\"encoder\", OneHotEncoder(handle_unknown=\"ignore\"))\n",
    "])\n",
    "\n",
    "target_encoding = TargetEncoder()\n",
    "\n",
    "pipe = Pipeline([\n",
    "    (\"encoder\", None),\n",
    "    (\"model\", XGBRegressor(random_state=0))\n",
    "])\n",
    "\n",
    "param_grid = {\"encoder\": [onehot_encoding, target_encoding],\n",
    "              \"model__n_estimators\": [50, 100, 200, 500, 1000], \n",
    "              \"model__learning_rate\": [0.01, 0.05, 0.1, 0.2],\n",
    "              \"model__max_depth\": [5, 6, 7],\n",
    "              \"model__subsample\": [0.5, 0.7, 0.9, 1],\n",
    "              \"model__colsample_bylevel\": [0.5, 0.7, 0.9, 1],\n",
    "              \"model__reg_lambda\": [0, 1, 3, 5, 10],\n",
    "              \"model__reg_alpha\": [0, 1, 3, 5, 10],\n",
    "              \"model__gamma\": [0, 1, 3, 5, 10],}\n",
    "grid = RandomizedSearchCV(pipe, param_grid, n_iter=100, scoring=\"neg_mean_absolute_error\", return_train_score=True, verbose=1, n_jobs=-1, random_state=0)\n",
    "grid.fit(X, y)\n",
    "\n",
    "print(np.abs(grid.best_score_))\n",
    "grid.best_estimator_"
   ]
  },
  {
   "cell_type": "markdown",
   "id": "55017939-26b0-49cf-9ba1-a843039f87c9",
   "metadata": {},
   "source": [
    "Ein nichtlineares Modell brachte lediglich eine geringe Verbesserung gegenüber dem linearen Modell. Mit einer GridSearch hätte man eventuell noch eine leicht bessere Hyperparameterkombination finden können. Außerdem könnten andere Gradient Boosting Varianten wie LightGBM oder CatBoost noch einmal minimal besser abschneiden. Da die bisherigen Ergebnisse jedoch nicht darauf schließen lassen, dass ein nichtlineares Modell in diesem Szenario einen großen Mehrwert bietet, wird auf ein weiteres Tuning zugunsten der Performanz verzichtet.\n",
    "\n",
    "Auf der anderen Seite liefert das lineare Modell kürzere Rechen- u. Inferenzzeiten, einen geringeren Speicherbedarf sowie eine bessere Interpretierbarkeit. Daher wurde sich in diesem Szenario für das lineare Modell entschieden."
   ]
  },
  {
   "cell_type": "code",
   "execution_count": null,
   "id": "68fb13aa-c542-4034-b98f-19597f7eb8ea",
   "metadata": {},
   "outputs": [],
   "source": []
  },
  {
   "cell_type": "markdown",
   "id": "3e0418f9-aa5a-4cf2-bd8f-115b8871aed2",
   "metadata": {},
   "source": [
    "### Auswertung"
   ]
  },
  {
   "cell_type": "code",
   "execution_count": 17,
   "id": "a3f09f5d-32ed-4c08-9a44-06e8d8e4efc6",
   "metadata": {},
   "outputs": [
    {
     "name": "stdout",
     "output_type": "stream",
     "text": [
      "Mean Absolute Error on Test Set: 7167.544235785074\n"
     ]
    }
   ],
   "source": [
    "X_train = df_train.drop([\"average_salary\"], axis=1)\n",
    "y_train = df_train[\"average_salary\"]\n",
    "X_test = df_test.drop([\"average_salary\"], axis=1)\n",
    "y_test = df_test[\"average_salary\"]\n",
    "\n",
    "pipe = Pipeline([\n",
    "    (\"imputer\", SimpleImputer(strategy=\"constant\", fill_value=\"missing_value\")),\n",
    "    (\"encoder\", OneHotEncoder(handle_unknown=\"ignore\")),\n",
    "    (\"model\", Lasso(alpha=9))\n",
    "])\n",
    "\n",
    "X_train = X_train.loc[y_train<120000]\n",
    "y_train = y_train.loc[y_train<120000]\n",
    "pipe.fit(X_train, y_train)\n",
    "predictions = pipe.predict(X_test)\n",
    "print(f\"Mean Absolute Error on Test Set: {mean_absolute_error(y_test, predictions)}\")"
   ]
  },
  {
   "cell_type": "markdown",
   "id": "e989a512-cdd9-43db-9940-b4ec6b5280b0",
   "metadata": {},
   "source": [
    "Der Fehler auf den Testdaten ist deutlich höher als der Cross Validation Score. Dies ist ein Hinweis darauf, dass die Varianz des Fehlers aufgrund der kleinen Stichproben sehr groß ist. Für präzisere Aussagen über die Güte eines solchen Modells bräuchte man deutlich mehr Daten."
   ]
  },
  {
   "cell_type": "markdown",
   "id": "af645f2f-5cd3-4640-bf8d-b43392d4a1d5",
   "metadata": {},
   "source": [
    "Als nächstes sollen die Koeffizienten des Modelles interpretiert werden. Der OneHotEncoder von Scikit-Learn macht es relativ umständlich, die Namen der kodierten Features zu extrahieren. Daher wird die Pipeline im Folgenden leicht modifziert und stattdessen die Pandas-Methode get_dummies() genutzt, welche zu den gleichen Ergebnissen führt, jedoch die Namen der Features besser wählt."
   ]
  },
  {
   "cell_type": "code",
   "execution_count": 18,
   "id": "31c6c9c9-a4c9-41f5-b38e-637d23cbfcb7",
   "metadata": {},
   "outputs": [
    {
     "name": "stdout",
     "output_type": "stream",
     "text": [
      "train score: 5086.4885295106815\n",
      "test score: 6379.682653493428\n"
     ]
    }
   ],
   "source": [
    "X_train = df_train.drop([\"average_salary\"], axis=1)\n",
    "y_train = df_train[\"average_salary\"]\n",
    "X_train = pd.get_dummies(X_train, dummy_na=True)\n",
    "\n",
    "model = Lasso(alpha=9)\n",
    "\n",
    "results = cross_validate(model, X_train, y_train, scoring=\"neg_mean_absolute_error\", return_train_score=True)\n",
    "print(f\"train score: {np.abs(np.mean(results['train_score']))}\")\n",
    "print(f\"test score: {np.abs(np.mean(results['test_score']))}\")"
   ]
  },
  {
   "cell_type": "code",
   "execution_count": 19,
   "id": "5cd989ba-1b5c-4ed9-9132-9f52193f19cc",
   "metadata": {},
   "outputs": [
    {
     "data": {
      "text/html": [
       "<div>\n",
       "<style scoped>\n",
       "    .dataframe tbody tr th:only-of-type {\n",
       "        vertical-align: middle;\n",
       "    }\n",
       "\n",
       "    .dataframe tbody tr th {\n",
       "        vertical-align: top;\n",
       "    }\n",
       "\n",
       "    .dataframe thead th {\n",
       "        text-align: right;\n",
       "    }\n",
       "</style>\n",
       "<table border=\"1\" class=\"dataframe\">\n",
       "  <thead>\n",
       "    <tr style=\"text-align: right;\">\n",
       "      <th></th>\n",
       "      <th>feature</th>\n",
       "      <th>coefficient</th>\n",
       "    </tr>\n",
       "  </thead>\n",
       "  <tbody>\n",
       "    <tr>\n",
       "      <th>262</th>\n",
       "      <td>company_JLL</td>\n",
       "      <td>33765.238247</td>\n",
       "    </tr>\n",
       "    <tr>\n",
       "      <th>116</th>\n",
       "      <td>company_Cofinpro AG</td>\n",
       "      <td>23876.859368</td>\n",
       "    </tr>\n",
       "    <tr>\n",
       "      <th>88</th>\n",
       "      <td>company_Biotronik SE &amp; Co. KG</td>\n",
       "      <td>20365.086798</td>\n",
       "    </tr>\n",
       "    <tr>\n",
       "      <th>497</th>\n",
       "      <td>company_Wall GmbH</td>\n",
       "      <td>16783.022213</td>\n",
       "    </tr>\n",
       "    <tr>\n",
       "      <th>186</th>\n",
       "      <td>company_GE Aviation</td>\n",
       "      <td>16327.714120</td>\n",
       "    </tr>\n",
       "    <tr>\n",
       "      <th>377</th>\n",
       "      <td>company_Ratbacher GmbH</td>\n",
       "      <td>16084.697012</td>\n",
       "    </tr>\n",
       "    <tr>\n",
       "      <th>419</th>\n",
       "      <td>company_Siemens AG</td>\n",
       "      <td>14662.314562</td>\n",
       "    </tr>\n",
       "    <tr>\n",
       "      <th>119</th>\n",
       "      <td>company_Condo Group GmbH</td>\n",
       "      <td>-14545.045621</td>\n",
       "    </tr>\n",
       "    <tr>\n",
       "      <th>398</th>\n",
       "      <td>company_STRATO Customer Service GmbH</td>\n",
       "      <td>-14292.266645</td>\n",
       "    </tr>\n",
       "    <tr>\n",
       "      <th>461</th>\n",
       "      <td>company_Temedica GmbH</td>\n",
       "      <td>13522.759191</td>\n",
       "    </tr>\n",
       "  </tbody>\n",
       "</table>\n",
       "</div>"
      ],
      "text/plain": [
       "                                  feature   coefficient\n",
       "262                           company_JLL  33765.238247\n",
       "116                   company_Cofinpro AG  23876.859368\n",
       "88          company_Biotronik SE & Co. KG  20365.086798\n",
       "497                     company_Wall GmbH  16783.022213\n",
       "186                   company_GE Aviation  16327.714120\n",
       "377                company_Ratbacher GmbH  16084.697012\n",
       "419                    company_Siemens AG  14662.314562\n",
       "119              company_Condo Group GmbH -14545.045621\n",
       "398  company_STRATO Customer Service GmbH -14292.266645\n",
       "461                 company_Temedica GmbH  13522.759191"
      ]
     },
     "execution_count": 19,
     "metadata": {},
     "output_type": "execute_result"
    }
   ],
   "source": [
    "X_train = X_train.loc[y_train<120000]\n",
    "y_train = y_train.loc[y_train<120000]\n",
    "model.fit(X_train, y_train)\n",
    "importances = pd.DataFrame({\"feature\": X_train.columns, \"coefficient\": model.coef_})\n",
    "importances.sort_values(\"coefficient\", ascending=False, key=lambda x: np.abs(x)).head(10)"
   ]
  },
  {
   "cell_type": "markdown",
   "id": "c14fc0dc-b6d0-4a4b-a993-ed98ce0a6675",
   "metadata": {},
   "source": [
    "Ein erster Überblick zeigt, dass es sich bei den größten Koeffizienten des Modelles vor allem spezielle Unternehmesnamen handelt. Während es sicherlich interessant ist, zu wissenn, welche Unternehmen die höchsten Gehälter zahlen, soll in dieser Analyse vor allem auf etwas allgemeinere Faktoren geachtet werden. Daher werden im Folgenden alle Unternehmensnamen und Städtenamen außen vor gelassen."
   ]
  },
  {
   "cell_type": "code",
   "execution_count": 20,
   "id": "3ee4f89e-d215-46d5-8342-81ed208e3503",
   "metadata": {},
   "outputs": [
    {
     "data": {
      "text/html": [
       "<div>\n",
       "<style scoped>\n",
       "    .dataframe tbody tr th:only-of-type {\n",
       "        vertical-align: middle;\n",
       "    }\n",
       "\n",
       "    .dataframe tbody tr th {\n",
       "        vertical-align: top;\n",
       "    }\n",
       "\n",
       "    .dataframe thead th {\n",
       "        text-align: right;\n",
       "    }\n",
       "</style>\n",
       "<table border=\"1\" class=\"dataframe\">\n",
       "  <thead>\n",
       "    <tr style=\"text-align: right;\">\n",
       "      <th></th>\n",
       "      <th>feature</th>\n",
       "      <th>coefficient</th>\n",
       "    </tr>\n",
       "  </thead>\n",
       "  <tbody>\n",
       "    <tr>\n",
       "      <th>830</th>\n",
       "      <td>main_industry_Medizintechnik</td>\n",
       "      <td>6592.771187</td>\n",
       "    </tr>\n",
       "    <tr>\n",
       "      <th>602</th>\n",
       "      <td>experience_level_Senior</td>\n",
       "      <td>3986.208950</td>\n",
       "    </tr>\n",
       "    <tr>\n",
       "      <th>595</th>\n",
       "      <td>title_category_Data Science Manager</td>\n",
       "      <td>3969.152106</td>\n",
       "    </tr>\n",
       "    <tr>\n",
       "      <th>828</th>\n",
       "      <td>main_industry_Maschinen- und Anlagenbau</td>\n",
       "      <td>3566.596841</td>\n",
       "    </tr>\n",
       "    <tr>\n",
       "      <th>810</th>\n",
       "      <td>main_industry_Banken</td>\n",
       "      <td>2997.412490</td>\n",
       "    </tr>\n",
       "    <tr>\n",
       "      <th>596</th>\n",
       "      <td>title_category_Data Scientist</td>\n",
       "      <td>2936.664014</td>\n",
       "    </tr>\n",
       "    <tr>\n",
       "      <th>8</th>\n",
       "      <td>much_experience</td>\n",
       "      <td>2891.695759</td>\n",
       "    </tr>\n",
       "    <tr>\n",
       "      <th>799</th>\n",
       "      <td>main_region_Hesse</td>\n",
       "      <td>2730.129787</td>\n",
       "    </tr>\n",
       "    <tr>\n",
       "      <th>842</th>\n",
       "      <td>main_industry_Versicherungen</td>\n",
       "      <td>2447.260773</td>\n",
       "    </tr>\n",
       "    <tr>\n",
       "      <th>813</th>\n",
       "      <td>main_industry_Chemie- und Erdölverarbeitende I...</td>\n",
       "      <td>2125.868035</td>\n",
       "    </tr>\n",
       "  </tbody>\n",
       "</table>\n",
       "</div>"
      ],
      "text/plain": [
       "                                               feature  coefficient\n",
       "830                       main_industry_Medizintechnik  6592.771187\n",
       "602                            experience_level_Senior  3986.208950\n",
       "595                title_category_Data Science Manager  3969.152106\n",
       "828            main_industry_Maschinen- und Anlagenbau  3566.596841\n",
       "810                               main_industry_Banken  2997.412490\n",
       "596                      title_category_Data Scientist  2936.664014\n",
       "8                                      much_experience  2891.695759\n",
       "799                                  main_region_Hesse  2730.129787\n",
       "842                       main_industry_Versicherungen  2447.260773\n",
       "813  main_industry_Chemie- und Erdölverarbeitende I...  2125.868035"
      ]
     },
     "execution_count": 20,
     "metadata": {},
     "output_type": "execute_result"
    }
   ],
   "source": [
    "importances.loc[~importances[\"feature\"].str.contains(\"company|main_location\")].sort_values(\"coefficient\", ascending=False).head(10)"
   ]
  },
  {
   "cell_type": "markdown",
   "id": "c5a878ee-2d16-42c6-b13f-cce3f1401f59",
   "metadata": {},
   "source": [
    "In bestimmten Branchen wie Medizin, Maschinenbau oder Banken werden besonders hohe Gehalter gezahlt. Außerdem zahlen Position, wo mehr Erfahrung vorrausgesetzt wird besser als andere."
   ]
  },
  {
   "cell_type": "code",
   "execution_count": 21,
   "id": "ad0d76d1-7b69-4366-8ad7-c113d6059025",
   "metadata": {},
   "outputs": [
    {
     "data": {
      "text/html": [
       "<div>\n",
       "<style scoped>\n",
       "    .dataframe tbody tr th:only-of-type {\n",
       "        vertical-align: middle;\n",
       "    }\n",
       "\n",
       "    .dataframe tbody tr th {\n",
       "        vertical-align: top;\n",
       "    }\n",
       "\n",
       "    .dataframe thead th {\n",
       "        text-align: right;\n",
       "    }\n",
       "</style>\n",
       "<table border=\"1\" class=\"dataframe\">\n",
       "  <thead>\n",
       "    <tr style=\"text-align: right;\">\n",
       "      <th></th>\n",
       "      <th>feature</th>\n",
       "      <th>coefficient</th>\n",
       "    </tr>\n",
       "  </thead>\n",
       "  <tbody>\n",
       "    <tr>\n",
       "      <th>600</th>\n",
       "      <td>experience_level_Junior</td>\n",
       "      <td>-9375.848043</td>\n",
       "    </tr>\n",
       "    <tr>\n",
       "      <th>803</th>\n",
       "      <td>main_region_Saarland</td>\n",
       "      <td>-4645.766944</td>\n",
       "    </tr>\n",
       "    <tr>\n",
       "      <th>592</th>\n",
       "      <td>title_category_Data Analyst</td>\n",
       "      <td>-4377.447924</td>\n",
       "    </tr>\n",
       "    <tr>\n",
       "      <th>840</th>\n",
       "      <td>main_industry_Transport &amp; Logistik</td>\n",
       "      <td>-4010.966764</td>\n",
       "    </tr>\n",
       "    <tr>\n",
       "      <th>804</th>\n",
       "      <td>main_region_Saxony</td>\n",
       "      <td>-3914.359634</td>\n",
       "    </tr>\n",
       "    <tr>\n",
       "      <th>598</th>\n",
       "      <td>title_category_Software Engineer</td>\n",
       "      <td>-3529.225723</td>\n",
       "    </tr>\n",
       "    <tr>\n",
       "      <th>818</th>\n",
       "      <td>main_industry_Freizeit, Touristik, Kultur &amp; Sport</td>\n",
       "      <td>-2761.691772</td>\n",
       "    </tr>\n",
       "    <tr>\n",
       "      <th>845</th>\n",
       "      <td>main_industry_nan</td>\n",
       "      <td>-2714.936658</td>\n",
       "    </tr>\n",
       "    <tr>\n",
       "      <th>594</th>\n",
       "      <td>title_category_Data Science Consultant</td>\n",
       "      <td>-2163.970145</td>\n",
       "    </tr>\n",
       "    <tr>\n",
       "      <th>835</th>\n",
       "      <td>main_industry_Sonstige Branchen</td>\n",
       "      <td>-2094.559437</td>\n",
       "    </tr>\n",
       "  </tbody>\n",
       "</table>\n",
       "</div>"
      ],
      "text/plain": [
       "                                               feature  coefficient\n",
       "600                            experience_level_Junior -9375.848043\n",
       "803                               main_region_Saarland -4645.766944\n",
       "592                        title_category_Data Analyst -4377.447924\n",
       "840                 main_industry_Transport & Logistik -4010.966764\n",
       "804                                 main_region_Saxony -3914.359634\n",
       "598                   title_category_Software Engineer -3529.225723\n",
       "818  main_industry_Freizeit, Touristik, Kultur & Sport -2761.691772\n",
       "845                                  main_industry_nan -2714.936658\n",
       "594             title_category_Data Science Consultant -2163.970145\n",
       "835                    main_industry_Sonstige Branchen -2094.559437"
      ]
     },
     "execution_count": 21,
     "metadata": {},
     "output_type": "execute_result"
    }
   ],
   "source": [
    "importances.loc[~importances[\"feature\"].str.contains(\"company|main_location\")].sort_values(\"coefficient\", ascending=True).head(10)"
   ]
  },
  {
   "cell_type": "markdown",
   "id": "6a3d2c28-7276-47de-bc1a-f6f778396b29",
   "metadata": {},
   "source": [
    "In Junior Level Positionen werden wie zu erwarten die niedrigsten Gehälter bezahlt. Außerdem zeigt sich, dass im Saarland besonders niedrige Gehälter gezahlt werden. Dieser Koefizient kann jedoch auch das Resultat der sehr geringen Stichprobe für dieses Bundesland sein. Weiterhin wird deutlich, dass auch bestimmte Jobtitel im Schnitt deutlich schlechter bezahlt werden als andere."
   ]
  },
  {
   "cell_type": "markdown",
   "id": "af53bcb2-05d4-443c-baff-0a00e983924c",
   "metadata": {},
   "source": [
    "Im Folgenden wird noch einmal genauer auf einzelne zusammenhängende Kategorien eingegangen."
   ]
  },
  {
   "cell_type": "code",
   "execution_count": 22,
   "id": "9fe0e191-57a9-40c9-9512-a8c49be2e8a3",
   "metadata": {},
   "outputs": [
    {
     "data": {
      "text/html": [
       "<div>\n",
       "<style scoped>\n",
       "    .dataframe tbody tr th:only-of-type {\n",
       "        vertical-align: middle;\n",
       "    }\n",
       "\n",
       "    .dataframe tbody tr th {\n",
       "        vertical-align: top;\n",
       "    }\n",
       "\n",
       "    .dataframe thead th {\n",
       "        text-align: right;\n",
       "    }\n",
       "</style>\n",
       "<table border=\"1\" class=\"dataframe\">\n",
       "  <thead>\n",
       "    <tr style=\"text-align: right;\">\n",
       "      <th></th>\n",
       "      <th>feature</th>\n",
       "      <th>coefficient</th>\n",
       "    </tr>\n",
       "  </thead>\n",
       "  <tbody>\n",
       "    <tr>\n",
       "      <th>595</th>\n",
       "      <td>title_category_Data Science Manager</td>\n",
       "      <td>3969.152106</td>\n",
       "    </tr>\n",
       "    <tr>\n",
       "      <th>596</th>\n",
       "      <td>title_category_Data Scientist</td>\n",
       "      <td>2936.664014</td>\n",
       "    </tr>\n",
       "    <tr>\n",
       "      <th>593</th>\n",
       "      <td>title_category_Data Engineer</td>\n",
       "      <td>0.000000</td>\n",
       "    </tr>\n",
       "    <tr>\n",
       "      <th>597</th>\n",
       "      <td>title_category_Machine Learning Engineer</td>\n",
       "      <td>0.000000</td>\n",
       "    </tr>\n",
       "    <tr>\n",
       "      <th>599</th>\n",
       "      <td>title_category_nan</td>\n",
       "      <td>0.000000</td>\n",
       "    </tr>\n",
       "    <tr>\n",
       "      <th>594</th>\n",
       "      <td>title_category_Data Science Consultant</td>\n",
       "      <td>-2163.970145</td>\n",
       "    </tr>\n",
       "    <tr>\n",
       "      <th>598</th>\n",
       "      <td>title_category_Software Engineer</td>\n",
       "      <td>-3529.225723</td>\n",
       "    </tr>\n",
       "    <tr>\n",
       "      <th>592</th>\n",
       "      <td>title_category_Data Analyst</td>\n",
       "      <td>-4377.447924</td>\n",
       "    </tr>\n",
       "  </tbody>\n",
       "</table>\n",
       "</div>"
      ],
      "text/plain": [
       "                                      feature  coefficient\n",
       "595       title_category_Data Science Manager  3969.152106\n",
       "596             title_category_Data Scientist  2936.664014\n",
       "593              title_category_Data Engineer     0.000000\n",
       "597  title_category_Machine Learning Engineer     0.000000\n",
       "599                        title_category_nan     0.000000\n",
       "594    title_category_Data Science Consultant -2163.970145\n",
       "598          title_category_Software Engineer -3529.225723\n",
       "592               title_category_Data Analyst -4377.447924"
      ]
     },
     "execution_count": 22,
     "metadata": {},
     "output_type": "execute_result"
    }
   ],
   "source": [
    "importances.loc[importances[\"feature\"].str.contains(\"title_category_\")].sort_values(\"coefficient\", ascending=False)"
   ]
  },
  {
   "cell_type": "markdown",
   "id": "d6060b2b-9ae0-4ba2-ab5d-dbf6daf68af1",
   "metadata": {},
   "source": [
    "Zwischen den einzelnen Jobtiteln existieren teils starke Unterschiede, wie bereits während der EDA deutlich wurde."
   ]
  },
  {
   "cell_type": "code",
   "execution_count": 23,
   "id": "81e5e24e-1459-415f-a390-28e9146397d8",
   "metadata": {},
   "outputs": [
    {
     "data": {
      "text/html": [
       "<div>\n",
       "<style scoped>\n",
       "    .dataframe tbody tr th:only-of-type {\n",
       "        vertical-align: middle;\n",
       "    }\n",
       "\n",
       "    .dataframe tbody tr th {\n",
       "        vertical-align: top;\n",
       "    }\n",
       "\n",
       "    .dataframe thead th {\n",
       "        text-align: right;\n",
       "    }\n",
       "</style>\n",
       "<table border=\"1\" class=\"dataframe\">\n",
       "  <thead>\n",
       "    <tr style=\"text-align: right;\">\n",
       "      <th></th>\n",
       "      <th>feature</th>\n",
       "      <th>coefficient</th>\n",
       "    </tr>\n",
       "  </thead>\n",
       "  <tbody>\n",
       "    <tr>\n",
       "      <th>602</th>\n",
       "      <td>experience_level_Senior</td>\n",
       "      <td>3986.208950</td>\n",
       "    </tr>\n",
       "    <tr>\n",
       "      <th>601</th>\n",
       "      <td>experience_level_No Information</td>\n",
       "      <td>0.000000</td>\n",
       "    </tr>\n",
       "    <tr>\n",
       "      <th>603</th>\n",
       "      <td>experience_level_nan</td>\n",
       "      <td>0.000000</td>\n",
       "    </tr>\n",
       "    <tr>\n",
       "      <th>600</th>\n",
       "      <td>experience_level_Junior</td>\n",
       "      <td>-9375.848043</td>\n",
       "    </tr>\n",
       "  </tbody>\n",
       "</table>\n",
       "</div>"
      ],
      "text/plain": [
       "                             feature  coefficient\n",
       "602          experience_level_Senior  3986.208950\n",
       "601  experience_level_No Information     0.000000\n",
       "603             experience_level_nan     0.000000\n",
       "600          experience_level_Junior -9375.848043"
      ]
     },
     "execution_count": 23,
     "metadata": {},
     "output_type": "execute_result"
    }
   ],
   "source": [
    "importances.loc[importances[\"feature\"].str.contains(\"experience_level_\")].sort_values(\"coefficient\", ascending=False)"
   ]
  },
  {
   "cell_type": "markdown",
   "id": "d96ba28b-bf07-4756-bc0e-b714aa2f9cce",
   "metadata": {},
   "source": [
    "Auch beim benötigten Erfahrungslevel einer Position sind die erhaltenen Koeffizienten so, wie man es erwarten konnte."
   ]
  },
  {
   "cell_type": "code",
   "execution_count": 24,
   "id": "1623dd4e-be78-488a-9919-a9c2ac4d7ff3",
   "metadata": {},
   "outputs": [
    {
     "data": {
      "text/html": [
       "<div>\n",
       "<style scoped>\n",
       "    .dataframe tbody tr th:only-of-type {\n",
       "        vertical-align: middle;\n",
       "    }\n",
       "\n",
       "    .dataframe tbody tr th {\n",
       "        vertical-align: top;\n",
       "    }\n",
       "\n",
       "    .dataframe thead th {\n",
       "        text-align: right;\n",
       "    }\n",
       "</style>\n",
       "<table border=\"1\" class=\"dataframe\">\n",
       "  <thead>\n",
       "    <tr style=\"text-align: right;\">\n",
       "      <th></th>\n",
       "      <th>feature</th>\n",
       "      <th>coefficient</th>\n",
       "    </tr>\n",
       "  </thead>\n",
       "  <tbody>\n",
       "    <tr>\n",
       "      <th>8</th>\n",
       "      <td>much_experience</td>\n",
       "      <td>2891.695759</td>\n",
       "    </tr>\n",
       "    <tr>\n",
       "      <th>10</th>\n",
       "      <td>some_experience</td>\n",
       "      <td>720.990349</td>\n",
       "    </tr>\n",
       "    <tr>\n",
       "      <th>7</th>\n",
       "      <td>little_experience</td>\n",
       "      <td>-1553.158822</td>\n",
       "    </tr>\n",
       "  </tbody>\n",
       "</table>\n",
       "</div>"
      ],
      "text/plain": [
       "              feature  coefficient\n",
       "8     much_experience  2891.695759\n",
       "10    some_experience   720.990349\n",
       "7   little_experience -1553.158822"
      ]
     },
     "execution_count": 24,
     "metadata": {},
     "output_type": "execute_result"
    }
   ],
   "source": [
    "importances.loc[importances[\"feature\"].str.contains(\"little_experience|some_experience|much_experience\")].sort_values(\"coefficient\", ascending=False)"
   ]
  },
  {
   "cell_type": "markdown",
   "id": "ec00a806-5e3f-4026-b6d4-506f67fd8b88",
   "metadata": {},
   "source": [
    "Je größer die geforderte Berufserfahrung desto höher ist auch die Bezahlung."
   ]
  },
  {
   "cell_type": "code",
   "execution_count": 25,
   "id": "e45ebb9a-ab61-454d-a9e9-be0af8281d89",
   "metadata": {},
   "outputs": [
    {
     "data": {
      "text/html": [
       "<div>\n",
       "<style scoped>\n",
       "    .dataframe tbody tr th:only-of-type {\n",
       "        vertical-align: middle;\n",
       "    }\n",
       "\n",
       "    .dataframe tbody tr th {\n",
       "        vertical-align: top;\n",
       "    }\n",
       "\n",
       "    .dataframe thead th {\n",
       "        text-align: right;\n",
       "    }\n",
       "</style>\n",
       "<table border=\"1\" class=\"dataframe\">\n",
       "  <thead>\n",
       "    <tr style=\"text-align: right;\">\n",
       "      <th></th>\n",
       "      <th>feature</th>\n",
       "      <th>coefficient</th>\n",
       "    </tr>\n",
       "  </thead>\n",
       "  <tbody>\n",
       "    <tr>\n",
       "      <th>4</th>\n",
       "      <td>phd</td>\n",
       "      <td>1277.914004</td>\n",
       "    </tr>\n",
       "    <tr>\n",
       "      <th>3</th>\n",
       "      <td>master</td>\n",
       "      <td>532.562694</td>\n",
       "    </tr>\n",
       "    <tr>\n",
       "      <th>5</th>\n",
       "      <td>bachelor</td>\n",
       "      <td>0.000000</td>\n",
       "    </tr>\n",
       "    <tr>\n",
       "      <th>6</th>\n",
       "      <td>no_degree_info</td>\n",
       "      <td>-480.076062</td>\n",
       "    </tr>\n",
       "  </tbody>\n",
       "</table>\n",
       "</div>"
      ],
      "text/plain": [
       "          feature  coefficient\n",
       "4             phd  1277.914004\n",
       "3          master   532.562694\n",
       "5        bachelor     0.000000\n",
       "6  no_degree_info  -480.076062"
      ]
     },
     "execution_count": 25,
     "metadata": {},
     "output_type": "execute_result"
    }
   ],
   "source": [
    "importances.loc[importances[\"feature\"].str.contains(\"master|phd|bachelor|no_degree_info\")].sort_values(\"coefficient\", ascending=False)"
   ]
  },
  {
   "cell_type": "markdown",
   "id": "a8666105-3f94-4521-839e-e15ec2bc04b4",
   "metadata": {},
   "source": [
    "Je höher der gerforderte Abschluss desto höher ist auch die Bezahlung. Während der Extrahierung der entsprechenden Informationen im Rahmen der Vorverarbeitung war noch nicht ganz klar, ob bei einer fehlenden Angabe kein Abschluss gefordert wurde oder die Angabe lediglich vergessen wurde. Der negative Koeefizient macht deutlich, dass in diesen Fällen wahrscheinlich wirklich kein Abschluss notwendig ist."
   ]
  },
  {
   "cell_type": "code",
   "execution_count": 26,
   "id": "22641a66-8e35-4132-9805-e44e2da5884c",
   "metadata": {},
   "outputs": [
    {
     "data": {
      "text/html": [
       "<div>\n",
       "<style scoped>\n",
       "    .dataframe tbody tr th:only-of-type {\n",
       "        vertical-align: middle;\n",
       "    }\n",
       "\n",
       "    .dataframe tbody tr th {\n",
       "        vertical-align: top;\n",
       "    }\n",
       "\n",
       "    .dataframe thead th {\n",
       "        text-align: right;\n",
       "    }\n",
       "</style>\n",
       "<table border=\"1\" class=\"dataframe\">\n",
       "  <thead>\n",
       "    <tr style=\"text-align: right;\">\n",
       "      <th></th>\n",
       "      <th>feature</th>\n",
       "      <th>coefficient</th>\n",
       "    </tr>\n",
       "  </thead>\n",
       "  <tbody>\n",
       "    <tr>\n",
       "      <th>584</th>\n",
       "      <td>company_size_10,001+</td>\n",
       "      <td>4587.623598</td>\n",
       "    </tr>\n",
       "    <tr>\n",
       "      <th>588</th>\n",
       "      <td>company_size_5001-10,000</td>\n",
       "      <td>3535.127566</td>\n",
       "    </tr>\n",
       "    <tr>\n",
       "      <th>591</th>\n",
       "      <td>company_size_nan</td>\n",
       "      <td>1843.694648</td>\n",
       "    </tr>\n",
       "    <tr>\n",
       "      <th>586</th>\n",
       "      <td>company_size_2501-5000</td>\n",
       "      <td>1465.117297</td>\n",
       "    </tr>\n",
       "    <tr>\n",
       "      <th>589</th>\n",
       "      <td>company_size_501-1000</td>\n",
       "      <td>-0.000000</td>\n",
       "    </tr>\n",
       "    <tr>\n",
       "      <th>585</th>\n",
       "      <td>company_size_1001-2500</td>\n",
       "      <td>-97.946769</td>\n",
       "    </tr>\n",
       "    <tr>\n",
       "      <th>587</th>\n",
       "      <td>company_size_251-500</td>\n",
       "      <td>-1353.525209</td>\n",
       "    </tr>\n",
       "    <tr>\n",
       "      <th>583</th>\n",
       "      <td>company_size_0-50</td>\n",
       "      <td>-1528.553471</td>\n",
       "    </tr>\n",
       "    <tr>\n",
       "      <th>590</th>\n",
       "      <td>company_size_51-250</td>\n",
       "      <td>-2631.511763</td>\n",
       "    </tr>\n",
       "  </tbody>\n",
       "</table>\n",
       "</div>"
      ],
      "text/plain": [
       "                      feature  coefficient\n",
       "584      company_size_10,001+  4587.623598\n",
       "588  company_size_5001-10,000  3535.127566\n",
       "591          company_size_nan  1843.694648\n",
       "586    company_size_2501-5000  1465.117297\n",
       "589     company_size_501-1000    -0.000000\n",
       "585    company_size_1001-2500   -97.946769\n",
       "587      company_size_251-500 -1353.525209\n",
       "583         company_size_0-50 -1528.553471\n",
       "590       company_size_51-250 -2631.511763"
      ]
     },
     "execution_count": 26,
     "metadata": {},
     "output_type": "execute_result"
    }
   ],
   "source": [
    "importances.loc[importances[\"feature\"].str.contains(\"company_size_\")].sort_values(\"coefficient\", ascending=False)"
   ]
  },
  {
   "cell_type": "markdown",
   "id": "2623cc2b-63cb-4988-865e-f25be2801a97",
   "metadata": {},
   "source": [
    "Im Großen und Ganzen bestätigt sich der Trend, dass größere Unternehmen auch höhere Gehälter bezahlen. Im Rahmen der EDA sah es noch so aus, als ob die Unternehmensgröße 1001-2500 im Schnitt schlechtere Gehälter zahlt als deutlich kleinere Unternehmen. Dieser Effekt beruhte offensichtlich jedoch auf anderen Faktoren und wird in der multivariaten Betrachtung deutlich relativiert. Interessant ist auch das die negative Koeffizient der kleinsten Unternehmensgröße geringer ausfällt als der der zweitkleinsten. Dies kann ein Hinweis darauf sein, dass die Mitarbeiter in sehr kleinen Unternehmen eventuell mehrere Aufgaben gleichzeitig übernehmen und länger arbeiten müssen, um die fehlenden Mitarbeiter auszugleichen, dafür aber etwas besser kompensiert werden."
   ]
  },
  {
   "cell_type": "code",
   "execution_count": 27,
   "id": "db74e4f6-d394-488e-883d-0bc9d4d7681a",
   "metadata": {},
   "outputs": [
    {
     "data": {
      "text/html": [
       "<div>\n",
       "<style scoped>\n",
       "    .dataframe tbody tr th:only-of-type {\n",
       "        vertical-align: middle;\n",
       "    }\n",
       "\n",
       "    .dataframe tbody tr th {\n",
       "        vertical-align: top;\n",
       "    }\n",
       "\n",
       "    .dataframe thead th {\n",
       "        text-align: right;\n",
       "    }\n",
       "</style>\n",
       "<table border=\"1\" class=\"dataframe\">\n",
       "  <thead>\n",
       "    <tr style=\"text-align: right;\">\n",
       "      <th></th>\n",
       "      <th>feature</th>\n",
       "      <th>coefficient</th>\n",
       "    </tr>\n",
       "  </thead>\n",
       "  <tbody>\n",
       "    <tr>\n",
       "      <th>799</th>\n",
       "      <td>main_region_Hesse</td>\n",
       "      <td>2730.129787</td>\n",
       "    </tr>\n",
       "    <tr>\n",
       "      <th>794</th>\n",
       "      <td>main_region_Baden-Württemberg</td>\n",
       "      <td>1596.134356</td>\n",
       "    </tr>\n",
       "    <tr>\n",
       "      <th>798</th>\n",
       "      <td>main_region_Hamburg</td>\n",
       "      <td>1172.223029</td>\n",
       "    </tr>\n",
       "    <tr>\n",
       "      <th>796</th>\n",
       "      <td>main_region_Berlin</td>\n",
       "      <td>734.800931</td>\n",
       "    </tr>\n",
       "    <tr>\n",
       "      <th>808</th>\n",
       "      <td>main_region_nan</td>\n",
       "      <td>216.475838</td>\n",
       "    </tr>\n",
       "    <tr>\n",
       "      <th>807</th>\n",
       "      <td>main_region_Thuringia</td>\n",
       "      <td>0.765106</td>\n",
       "    </tr>\n",
       "    <tr>\n",
       "      <th>795</th>\n",
       "      <td>main_region_Bavaria</td>\n",
       "      <td>0.000000</td>\n",
       "    </tr>\n",
       "    <tr>\n",
       "      <th>797</th>\n",
       "      <td>main_region_Brandenburg</td>\n",
       "      <td>0.000000</td>\n",
       "    </tr>\n",
       "    <tr>\n",
       "      <th>805</th>\n",
       "      <td>main_region_Saxony-Anhalt</td>\n",
       "      <td>-0.000000</td>\n",
       "    </tr>\n",
       "    <tr>\n",
       "      <th>802</th>\n",
       "      <td>main_region_Rhineland-Palatinate</td>\n",
       "      <td>-788.054417</td>\n",
       "    </tr>\n",
       "    <tr>\n",
       "      <th>800</th>\n",
       "      <td>main_region_Lower Saxony</td>\n",
       "      <td>-861.819048</td>\n",
       "    </tr>\n",
       "    <tr>\n",
       "      <th>801</th>\n",
       "      <td>main_region_North Rhine-Westphalia</td>\n",
       "      <td>-984.300204</td>\n",
       "    </tr>\n",
       "    <tr>\n",
       "      <th>806</th>\n",
       "      <td>main_region_Schleswig-Holstein</td>\n",
       "      <td>-1500.233272</td>\n",
       "    </tr>\n",
       "    <tr>\n",
       "      <th>804</th>\n",
       "      <td>main_region_Saxony</td>\n",
       "      <td>-3914.359634</td>\n",
       "    </tr>\n",
       "    <tr>\n",
       "      <th>803</th>\n",
       "      <td>main_region_Saarland</td>\n",
       "      <td>-4645.766944</td>\n",
       "    </tr>\n",
       "  </tbody>\n",
       "</table>\n",
       "</div>"
      ],
      "text/plain": [
       "                                feature  coefficient\n",
       "799                   main_region_Hesse  2730.129787\n",
       "794       main_region_Baden-Württemberg  1596.134356\n",
       "798                 main_region_Hamburg  1172.223029\n",
       "796                  main_region_Berlin   734.800931\n",
       "808                     main_region_nan   216.475838\n",
       "807               main_region_Thuringia     0.765106\n",
       "795                 main_region_Bavaria     0.000000\n",
       "797             main_region_Brandenburg     0.000000\n",
       "805           main_region_Saxony-Anhalt    -0.000000\n",
       "802    main_region_Rhineland-Palatinate  -788.054417\n",
       "800            main_region_Lower Saxony  -861.819048\n",
       "801  main_region_North Rhine-Westphalia  -984.300204\n",
       "806      main_region_Schleswig-Holstein -1500.233272\n",
       "804                  main_region_Saxony -3914.359634\n",
       "803                main_region_Saarland -4645.766944"
      ]
     },
     "execution_count": 27,
     "metadata": {},
     "output_type": "execute_result"
    }
   ],
   "source": [
    "importances.loc[importances[\"feature\"].str.contains(\"main_region_\")].sort_values(\"coefficient\", ascending=False)"
   ]
  },
  {
   "cell_type": "markdown",
   "id": "bfd51a60-8657-42ec-b1cc-4f8d5991f6bf",
   "metadata": {},
   "source": [
    "Auffällig ist, dass Bayern, welches im Rahmen der EDA den zweithöchsten Wert aufwies in der multivariaten Betrachtung keinen positiven Koeffizienten aufweist. Dies kann jedoch auch daran liegen, dass ein Großteil dieser positiven Beziehung bereits in Städten wie z.B. München mit integriert. Die EDA hat gezeigt, dass das Hinzunehmen der einzelnen Städte in das Modell notwendig ist. Allerding wird hierduch auf ein gewisser Grad an Multikolinearität in das Modell mit eingeführt, was die Interpretation der Koeffizienten schwieriger macht."
   ]
  },
  {
   "cell_type": "code",
   "execution_count": null,
   "id": "290b81f2-aa3b-4d21-b459-b3fd49c5caa0",
   "metadata": {},
   "outputs": [],
   "source": []
  },
  {
   "cell_type": "code",
   "execution_count": null,
   "id": "f43b4c70-ac1c-4c1c-8724-21cade05b4d8",
   "metadata": {},
   "outputs": [],
   "source": []
  },
  {
   "cell_type": "markdown",
   "id": "ed6e9e90-1d28-4c00-b1b5-39d02f602eb0",
   "metadata": {},
   "source": [
    "### Zusammenfassung / Ausblick"
   ]
  },
  {
   "cell_type": "markdown",
   "id": "1bec1ae3-037a-43a2-9090-22cd29b023ea",
   "metadata": {},
   "source": [
    "Mit dem gefundenen Modell war es möglich, den mittleren Fehler von Gehaltsprognosen um 3000 Euro zu verringern. Trotzdem beträgt der verbleibende Fehler weiterhin merh als 6000 Euro. Alle Features, die Stepstone in seiner Beschreibung seines Machine Learning Modelles mit angibt, wurden auch in dieses Modell mit einbezogen. Die Regeln zur Extrahierung von Jobtiteln, verschiedener Skills oder der Berufserfahrung wurden nach bestem Gewissen aufgestellt. Es ist jedoch gut möglich, dass Stepstone bei der Extrahierung der dieser Informationen leicht anders vorgegangen ist und eventuell auch noch andere Keywords mit ausgewertet hat. Aus den Standortinformationen wurden im Rahmen dieses Modelles nur die Bundesländer zusätzlich mit Hilfe einer API extrahiert. Hier könnte man eventuell noch andere Features wie Einwohnerzahlen der Städte einbeziehen. \n",
    "\n",
    "Der wahrscheinlichste Grund für die schlechteren Ergebnisse ist die zu geringe Datenmenge. Im Rahmen der EDA wurde deutlich, dass einige Beziehungen zum Target durch die zu kleine Stichprobe noch sehr verzerrt sind (z.B. höchstes Durchschnittsgehalt in Thüringen). Die meisten Beziehungen des Modells ergeben grundsätzlich Sinn, sind jedoch noch relativ rauschbehaftet. So existiert in den verwendeten Daten z.B. keine monotone Abhängigkeit zwischen Gehalt und Unternehmensgröße. Eine größere Datenmenge würde helfen dieses Rauschen in den Daten zu minimieren und die wahren Beziehungen besser darzulegen. Auch der erhaltene Fehler auf den Testdaten ist im Moment noch relativ ungenau und würde ebenfalls von einer größeren Datenmenge profititeren.\n",
    "\n",
    "Abschließend sollte ebenfalls erwähnt werden, dass es sich bei den Werten des Target ebenfalls im Vorhersagen eines Modelles und keine echten Gehälter handelt. Attribute mit Python, R oder SQL, die im Rahmen dieser Analyse kaum einen Unterschied ausmachen, könnten eventuell wichtig für eine speziell auf Data Science Jobs ausgelegte Analyses sein.\n",
    "\n",
    "Alles in allem ist das erhaltene Modell nicht schlecht, besitzt jedoch eine Menge Optimierungspotenzial."
   ]
  },
  {
   "cell_type": "code",
   "execution_count": null,
   "id": "9d9c4ced-ad55-4fb2-bb9d-83347041a53b",
   "metadata": {},
   "outputs": [],
   "source": []
  },
  {
   "cell_type": "code",
   "execution_count": null,
   "id": "59481c45-7483-4a19-8f4c-abdd21e96cb9",
   "metadata": {},
   "outputs": [],
   "source": []
  },
  {
   "cell_type": "code",
   "execution_count": null,
   "id": "aa1f915c-6c62-4500-bc54-1874ca8d08f4",
   "metadata": {},
   "outputs": [],
   "source": []
  }
 ],
 "metadata": {
  "kernelspec": {
   "display_name": "jobsearch",
   "language": "python",
   "name": "jobsearch"
  },
  "language_info": {
   "codemirror_mode": {
    "name": "ipython",
    "version": 3
   },
   "file_extension": ".py",
   "mimetype": "text/x-python",
   "name": "python",
   "nbconvert_exporter": "python",
   "pygments_lexer": "ipython3",
   "version": "3.9.12"
  }
 },
 "nbformat": 4,
 "nbformat_minor": 5
}
