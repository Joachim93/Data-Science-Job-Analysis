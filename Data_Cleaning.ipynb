{
 "cells": [
  {
   "cell_type": "code",
   "execution_count": 1420,
   "id": "47e4a500-362a-41a0-96db-fd778e634cf1",
   "metadata": {},
   "outputs": [
    {
     "name": "stderr",
     "output_type": "stream",
     "text": [
      "[nltk_data] Downloading package stopwords to\n",
      "[nltk_data]     C:\\Users\\joach\\AppData\\Roaming\\nltk_data...\n",
      "[nltk_data]   Package stopwords is already up-to-date!\n"
     ]
    }
   ],
   "source": [
    "import numpy as np\n",
    "import pandas as pd\n",
    "import matplotlib.pyplot as plt\n",
    "import seaborn as sns\n",
    "import requests\n",
    "import plotly.express as px\n",
    "\n",
    "from sklearn.feature_extraction.text import CountVectorizer\n",
    "\n",
    "import nltk\n",
    "from nltk.corpus import stopwords\n",
    "nltk.download('stopwords')\n",
    "\n",
    "from tqdm import tqdm\n",
    "import re\n",
    "\n",
    "import warnings\n",
    "warnings.filterwarnings('ignore')"
   ]
  },
  {
   "cell_type": "code",
   "execution_count": 3,
   "id": "19c1d02d-3c4a-4deb-9631-80fce60e715b",
   "metadata": {},
   "outputs": [],
   "source": [
    "# df = pd.read_csv(\"data2/jobs2.csv\")\n",
    "# df = df.loc[(df[\"keyword\"] != \"Künstliche_Intelligenz\") & (df[\"keyword\"] != \"Artificial_Intelligence\")]\n",
    "# df.drop(\"keyword\", axis=1, inplace=True)\n",
    "# df.drop_duplicates(inplace=True)\n",
    "# df.shape"
   ]
  },
  {
   "cell_type": "code",
   "execution_count": 81,
   "id": "076e934b-2663-430c-9d02-6c9f0e286027",
   "metadata": {},
   "outputs": [],
   "source": [
    "# df = pd.read_csv(\"data2/jobs2.csv\")\n",
    "# df.drop(\"keyword\", axis=1, inplace=True)\n",
    "# df.drop_duplicates(inplace=True)\n",
    "# df.shape"
   ]
  },
  {
   "cell_type": "code",
   "execution_count": 958,
   "id": "87f8dc0c-e9e8-47d0-8f93-fc1f80a726e2",
   "metadata": {},
   "outputs": [
    {
     "data": {
      "text/plain": [
       "(3761, 14)"
      ]
     },
     "execution_count": 958,
     "metadata": {},
     "output_type": "execute_result"
    }
   ],
   "source": [
    "data_raw = pd.read_csv(\"data2/jobs_updated.csv\")\n",
    "data_raw.shape"
   ]
  },
  {
   "cell_type": "code",
   "execution_count": 927,
   "id": "3ee4f219-2e4a-4705-ad27-c3d4a7723331",
   "metadata": {},
   "outputs": [
    {
     "data": {
      "text/html": [
       "<div>\n",
       "<style scoped>\n",
       "    .dataframe tbody tr th:only-of-type {\n",
       "        vertical-align: middle;\n",
       "    }\n",
       "\n",
       "    .dataframe tbody tr th {\n",
       "        vertical-align: top;\n",
       "    }\n",
       "\n",
       "    .dataframe thead th {\n",
       "        text-align: right;\n",
       "    }\n",
       "</style>\n",
       "<table border=\"1\" class=\"dataframe\">\n",
       "  <thead>\n",
       "    <tr style=\"text-align: right;\">\n",
       "      <th></th>\n",
       "      <th>link</th>\n",
       "      <th>company</th>\n",
       "      <th>title</th>\n",
       "      <th>location</th>\n",
       "      <th>content</th>\n",
       "      <th>industry</th>\n",
       "      <th>rating</th>\n",
       "      <th>num_ratings</th>\n",
       "      <th>company_link</th>\n",
       "      <th>release_date</th>\n",
       "      <th>salary</th>\n",
       "      <th>company_size</th>\n",
       "      <th>contract_type</th>\n",
       "      <th>work_type</th>\n",
       "    </tr>\n",
       "  </thead>\n",
       "  <tbody>\n",
       "    <tr>\n",
       "      <th>0</th>\n",
       "      <td>https://www.stepstone.de/stellenangebote--Anal...</td>\n",
       "      <td>BearingPoint GmbH</td>\n",
       "      <td>Analyst Data Science &amp; Artificial Intelligence...</td>\n",
       "      <td>Walldorf, Stuttgart, München, Leipzig, Hamburg...</td>\n",
       "      <td>Design your own career.Make your point @ Beari...</td>\n",
       "      <td>Unternehmensberatg., Wirtschaftsprüfg., Recht</td>\n",
       "      <td>3.9</td>\n",
       "      <td>312 Bewertungen</td>\n",
       "      <td>https://www.stepstone.de/cmp/de/BearingPoint-G...</td>\n",
       "      <td>2022-06-03</td>\n",
       "      <td>NaN</td>\n",
       "      <td>2501-5000</td>\n",
       "      <td>Feste Anstellung</td>\n",
       "      <td>Vollzeit, Home Office möglich</td>\n",
       "    </tr>\n",
       "    <tr>\n",
       "      <th>1</th>\n",
       "      <td>https://www.stepstone.de/stellenangebote--Mana...</td>\n",
       "      <td>BIG direkt gesund</td>\n",
       "      <td>Manager (m/w/d) Data Science &amp; Statistik</td>\n",
       "      <td>Berlin</td>\n",
       "      <td>Direkter geht Karriere nicht.Einstieg bei der ...</td>\n",
       "      <td>NaN</td>\n",
       "      <td>4.3</td>\n",
       "      <td>16 Bewertungen</td>\n",
       "      <td>NaN</td>\n",
       "      <td>2022-06-03</td>\n",
       "      <td>51.000 - 68.000 €</td>\n",
       "      <td>NaN</td>\n",
       "      <td>Feste Anstellung</td>\n",
       "      <td>Vollzeit, Home Office möglich</td>\n",
       "    </tr>\n",
       "    <tr>\n",
       "      <th>2</th>\n",
       "      <td>https://www.stepstone.de/stellenangebote--Mana...</td>\n",
       "      <td>BIG direkt gesund</td>\n",
       "      <td>Manager (m/w/d) Data Science &amp; Statistik</td>\n",
       "      <td>Dortmund, Düsseldorf, Aachen</td>\n",
       "      <td>Direkter geht Karriere nicht.Einstieg bei der ...</td>\n",
       "      <td>NaN</td>\n",
       "      <td>4.3</td>\n",
       "      <td>16 Bewertungen</td>\n",
       "      <td>NaN</td>\n",
       "      <td>2022-06-03</td>\n",
       "      <td>51.000 - 74.000 €</td>\n",
       "      <td>NaN</td>\n",
       "      <td>Feste Anstellung</td>\n",
       "      <td>Vollzeit, Home Office möglich</td>\n",
       "    </tr>\n",
       "    <tr>\n",
       "      <th>3</th>\n",
       "      <td>https://www.stepstone.de/stellenangebote--Data...</td>\n",
       "      <td>METRO Markets GmbH</td>\n",
       "      <td>Data Science Lead</td>\n",
       "      <td>Düsseldorf, Palma de Mallorca</td>\n",
       "      <td>We create the future of B2B commerce by giving...</td>\n",
       "      <td>IT &amp; Internet</td>\n",
       "      <td>NaN</td>\n",
       "      <td>NaN</td>\n",
       "      <td>NaN</td>\n",
       "      <td>2022-06-01</td>\n",
       "      <td>74.000 - 98.000 €</td>\n",
       "      <td>NaN</td>\n",
       "      <td>Feste Anstellung</td>\n",
       "      <td>Vollzeit, Home Office möglich</td>\n",
       "    </tr>\n",
       "    <tr>\n",
       "      <th>4</th>\n",
       "      <td>https://www.stepstone.de/stellenangebote--Werk...</td>\n",
       "      <td>CHECK24</td>\n",
       "      <td>Werkstudent BI und Data Science Manager (m/w/d...</td>\n",
       "      <td>München</td>\n",
       "      <td>Bist Du bereit, etwas zu bewegen und neue, spa...</td>\n",
       "      <td>Finanzdienstleister|Versicherungen</td>\n",
       "      <td>4.5</td>\n",
       "      <td>179 Bewertungen</td>\n",
       "      <td>https://www.stepstone.de/cmp/de/CHECK24-112642...</td>\n",
       "      <td>2022-06-01</td>\n",
       "      <td>NaN</td>\n",
       "      <td>2501-5000</td>\n",
       "      <td>Studentenjobs, Werkstudent</td>\n",
       "      <td>Teilzeit</td>\n",
       "    </tr>\n",
       "  </tbody>\n",
       "</table>\n",
       "</div>"
      ],
      "text/plain": [
       "                                                link             company  \\\n",
       "0  https://www.stepstone.de/stellenangebote--Anal...   BearingPoint GmbH   \n",
       "1  https://www.stepstone.de/stellenangebote--Mana...   BIG direkt gesund   \n",
       "2  https://www.stepstone.de/stellenangebote--Mana...   BIG direkt gesund   \n",
       "3  https://www.stepstone.de/stellenangebote--Data...  METRO Markets GmbH   \n",
       "4  https://www.stepstone.de/stellenangebote--Werk...             CHECK24   \n",
       "\n",
       "                                               title  \\\n",
       "0  Analyst Data Science & Artificial Intelligence...   \n",
       "1           Manager (m/w/d) Data Science & Statistik   \n",
       "2           Manager (m/w/d) Data Science & Statistik   \n",
       "3                                  Data Science Lead   \n",
       "4  Werkstudent BI und Data Science Manager (m/w/d...   \n",
       "\n",
       "                                            location  \\\n",
       "0  Walldorf, Stuttgart, München, Leipzig, Hamburg...   \n",
       "1                                             Berlin   \n",
       "2                       Dortmund, Düsseldorf, Aachen   \n",
       "3                      Düsseldorf, Palma de Mallorca   \n",
       "4                                            München   \n",
       "\n",
       "                                             content  \\\n",
       "0  Design your own career.Make your point @ Beari...   \n",
       "1  Direkter geht Karriere nicht.Einstieg bei der ...   \n",
       "2  Direkter geht Karriere nicht.Einstieg bei der ...   \n",
       "3  We create the future of B2B commerce by giving...   \n",
       "4  Bist Du bereit, etwas zu bewegen und neue, spa...   \n",
       "\n",
       "                                        industry  rating      num_ratings  \\\n",
       "0  Unternehmensberatg., Wirtschaftsprüfg., Recht     3.9  312 Bewertungen   \n",
       "1                                            NaN     4.3   16 Bewertungen   \n",
       "2                                            NaN     4.3   16 Bewertungen   \n",
       "3                                  IT & Internet     NaN              NaN   \n",
       "4             Finanzdienstleister|Versicherungen     4.5  179 Bewertungen   \n",
       "\n",
       "                                        company_link release_date  \\\n",
       "0  https://www.stepstone.de/cmp/de/BearingPoint-G...   2022-06-03   \n",
       "1                                                NaN   2022-06-03   \n",
       "2                                                NaN   2022-06-03   \n",
       "3                                                NaN   2022-06-01   \n",
       "4  https://www.stepstone.de/cmp/de/CHECK24-112642...   2022-06-01   \n",
       "\n",
       "              salary company_size               contract_type  \\\n",
       "0                NaN    2501-5000            Feste Anstellung   \n",
       "1  51.000 - 68.000 €          NaN            Feste Anstellung   \n",
       "2  51.000 - 74.000 €          NaN            Feste Anstellung   \n",
       "3  74.000 - 98.000 €          NaN            Feste Anstellung   \n",
       "4                NaN    2501-5000  Studentenjobs, Werkstudent   \n",
       "\n",
       "                       work_type  \n",
       "0  Vollzeit, Home Office möglich  \n",
       "1  Vollzeit, Home Office möglich  \n",
       "2  Vollzeit, Home Office möglich  \n",
       "3  Vollzeit, Home Office möglich  \n",
       "4                       Teilzeit  "
      ]
     },
     "execution_count": 927,
     "metadata": {},
     "output_type": "execute_result"
    }
   ],
   "source": [
    "data_raw.head()"
   ]
  },
  {
   "cell_type": "code",
   "execution_count": 928,
   "id": "6c98c7ba-6968-42b6-8a85-23e04435922b",
   "metadata": {},
   "outputs": [
    {
     "data": {
      "text/plain": [
       "link                0\n",
       "company             0\n",
       "title               0\n",
       "location            0\n",
       "content             0\n",
       "industry          637\n",
       "rating           1137\n",
       "num_ratings      1137\n",
       "company_link      751\n",
       "release_date        0\n",
       "salary           1643\n",
       "company_size      974\n",
       "contract_type       0\n",
       "work_type           0\n",
       "dtype: int64"
      ]
     },
     "execution_count": 928,
     "metadata": {},
     "output_type": "execute_result"
    }
   ],
   "source": [
    "data_raw.isnull().sum()"
   ]
  },
  {
   "cell_type": "markdown",
   "id": "da2967b8-fdeb-4a47-a8f8-98dbedde025b",
   "metadata": {},
   "source": [
    "Vorgehen:\n",
    "- für die Gehaltprognose sind nur Vollzeit Jobs mit Festanstellung relevant\n",
    "    - zwei Dataframes erzeugen: gefiltert/ungefiltert\n",
    "    - auf dem gefilterten DF werden alle Gehaltsstatistiken ausgewertet\n",
    "    - anschließend werden die Transformationen auf dem ungefilterten DF ausgeführt und auf Edge Cases untersucht\n",
    "- Gehalt umwandeln\n",
    "- Jobtitel klassifizieren\n",
    "- Standorte säubern ==> zwei Dataframes erzeugen\n",
    "    - Long-Format ==> Visualisierung der Standorte (Jobs können mehrfach enthalten sein)\n",
    "    - Wide-Format ==> alle weiteren Analysen (jeder Job darf nur einmal enthalten sein)\n",
    "        - Data Cleaning im Long-Format durchführen und anschließend wieder zurück transformieren\n",
    "        - zusätzliche Features erzeugen (z.B. Anzahl der Standorte, Hauptstandort, binäre Features für Großstädte)\n",
    "- Branchen umwandeln\n",
    "    - OHE zum späteren Filtern nutzen\n",
    "    - zusätzliches Feature mit erster Branche behalten \n",
    "- Bewertungen / Anzahl der Bewertungen / Unternehmensgröße ist korrektes Format umwandeln\n",
    "- Text Mining auf den Inhalten der Jobbeschreibung durchführen"
   ]
  },
  {
   "cell_type": "code",
   "execution_count": null,
   "id": "32ce0dd1-6b26-41ca-9421-9befb124a531",
   "metadata": {},
   "outputs": [],
   "source": []
  },
  {
   "cell_type": "code",
   "execution_count": null,
   "id": "6a6bceb7-9ddb-4f7a-b81f-26a14a92fff9",
   "metadata": {},
   "outputs": [],
   "source": []
  },
  {
   "cell_type": "markdown",
   "id": "a4dc9dd9-6ee8-4b76-baf5-c25f67229ec5",
   "metadata": {
    "tags": []
   },
   "source": [
    "# Evaluate Contract Type"
   ]
  },
  {
   "cell_type": "markdown",
   "id": "9db34c60-02ca-48b8-8482-aeb2b9dce52f",
   "metadata": {},
   "source": [
    "Die erhaltenen Jobbeschreibungen fallen in viele unterschiedliche Kategorien, von denen viele jedoch für die kommende Analyse nicht relevant sind. Daher solllen in diesem Abschnitt zunächst alle nicht relevanten Anzeigen aus den Daten entfernt werden."
   ]
  },
  {
   "cell_type": "code",
   "execution_count": 929,
   "id": "069eda74-d5f7-4677-83d0-d9ac3257a14b",
   "metadata": {},
   "outputs": [
    {
     "data": {
      "text/plain": [
       "Feste Anstellung                                                            3218\n",
       "Befristeter Vertrag                                                          151\n",
       "Studentenjobs, Werkstudent                                                   117\n",
       "Praktikum                                                                     95\n",
       "Berufseinstieg/Trainee                                                        47\n",
       "Ausbildung, Studium                                                           44\n",
       "Praktikum, Studentenjobs, Werkstudent                                         28\n",
       "Bachelor-/Master-/Diplom-Arbeiten                                             23\n",
       "Promotion/Habilitation                                                        14\n",
       "Feste Anstellung, Berufseinstieg/Trainee                                       9\n",
       "Bachelor-/Master-/Diplom-Arbeiten, Praktikum                                   5\n",
       "Arbeitnehmerüberlassung                                                        4\n",
       "Feste Anstellung, Ausbildung, Studium                                          1\n",
       "Freie Mitarbeit/Projektmitarbeit                                               1\n",
       "Bachelor-/Master-/Diplom-Arbeiten, Studentenjobs, Werkstudent                  1\n",
       "Bachelor-/Master-/Diplom-Arbeiten, Praktikum, Studentenjobs, Werkstudent       1\n",
       "Arbeitnehmerüberlassung, Feste Anstellung                                      1\n",
       "Feste Anstellung, Studentenjobs, Werkstudent                                   1\n",
       "Name: contract_type, dtype: int64"
      ]
     },
     "execution_count": 929,
     "metadata": {},
     "output_type": "execute_result"
    }
   ],
   "source": [
    "data_raw[\"contract_type\"].value_counts()"
   ]
  },
  {
   "cell_type": "markdown",
   "id": "d75cb024-65ae-4f23-a44d-6d7f92c7fd62",
   "metadata": {},
   "source": [
    "Da einige Jobanzeigen mehrere Kategorien angeben, werden diese im folgenden für eine bessere Übersicht voneinander getrennt."
   ]
  },
  {
   "cell_type": "code",
   "execution_count": 930,
   "id": "d221cbfe-3c2b-4e7b-bacc-639bc365a4b1",
   "metadata": {},
   "outputs": [
    {
     "data": {
      "text/plain": [
       "Feste Anstellung                     3230\n",
       "Befristeter Vertrag                   151\n",
       "Studentenjobs                         148\n",
       "Werkstudent                           148\n",
       "Praktikum                             129\n",
       "Berufseinstieg/Trainee                 56\n",
       "Ausbildung                             45\n",
       "Studium                                45\n",
       "Bachelor-/Master-/Diplom-Arbeiten      30\n",
       "Promotion/Habilitation                 14\n",
       "Arbeitnehmerüberlassung                 5\n",
       "Freie Mitarbeit/Projektmitarbeit        1\n",
       "dtype: int64"
      ]
     },
     "execution_count": 930,
     "metadata": {},
     "output_type": "execute_result"
    }
   ],
   "source": [
    "contracts = data_raw[\"contract_type\"].str.replace(\", \", \",\").str.get_dummies(\",\")\n",
    "contracts.sum().sort_values(ascending=False)"
   ]
  },
  {
   "cell_type": "markdown",
   "id": "d7f97a95-859b-4bdd-98ce-eadea4db270d",
   "metadata": {},
   "source": [
    "Die einzigen Kategorien, die im weiteren Verlauf der Datenanalyse weiter betrachtet werden, sind \"Feste Anstellung\" und \"Berufseinstieg/Trainee\". Die restlichen Kategorien könnten theoretisch ebenfalls noch gesondert betrachtet werden. Aufgrund der teilweise sehr geringen Stichprobengrößen, wäre dies für die vorliegenden Daten jedoch nicht besonders aussagekräftig."
   ]
  },
  {
   "cell_type": "code",
   "execution_count": 1259,
   "id": "3933d910-8e4c-4451-91d2-4a0ea36514ba",
   "metadata": {},
   "outputs": [
    {
     "data": {
      "text/plain": [
       "(3277, 15)"
      ]
     },
     "execution_count": 1259,
     "metadata": {},
     "output_type": "execute_result"
    }
   ],
   "source": [
    "def filter_contract_types(df):\n",
    "    df_new = df.copy()\n",
    "    df_new[\"permanent_employment\"] = df_new[\"contract_type\"].str.contains(\"Feste Anstellung\")\n",
    "    df_new[\"trainee\"] = df_new[\"contract_type\"].str.contains(\"Trainee\")\n",
    "    df_new = df_new.loc[(df_new[\"permanent_employment\"] == 1) | (df_new[\"trainee\"] == 1)]\n",
    "    df_new = df_new.drop(\"contract_type\", axis=1)\n",
    "    return df_new\n",
    "\n",
    "data_cleaned = filter_contract_types(data_raw)\n",
    "data_cleaned.shape"
   ]
  },
  {
   "cell_type": "code",
   "execution_count": 943,
   "id": "a323f476-bf58-44f7-9921-f038f245a6e4",
   "metadata": {},
   "outputs": [
    {
     "data": {
      "text/plain": [
       "Index(['link', 'company', 'title', 'location', 'content', 'industry', 'rating',\n",
       "       'num_ratings', 'company_link', 'release_date', 'salary', 'company_size',\n",
       "       'work_type', 'permanent_employment', 'trainee'],\n",
       "      dtype='object')"
      ]
     },
     "execution_count": 943,
     "metadata": {},
     "output_type": "execute_result"
    }
   ],
   "source": [
    "data_cleaned.columns"
   ]
  },
  {
   "cell_type": "code",
   "execution_count": null,
   "id": "3700adfd-94bf-451d-a7b6-4026cbe2b90e",
   "metadata": {},
   "outputs": [],
   "source": []
  },
  {
   "cell_type": "code",
   "execution_count": null,
   "id": "4fe274d6-0734-4cc7-8a30-373becadfdb1",
   "metadata": {},
   "outputs": [],
   "source": []
  },
  {
   "cell_type": "markdown",
   "id": "cb4cf3d0-ec59-4044-836b-a41ca5234725",
   "metadata": {
    "tags": []
   },
   "source": [
    "# Evaluate Work Type"
   ]
  },
  {
   "cell_type": "code",
   "execution_count": 945,
   "id": "c6809a47-70c1-4f13-bb59-51d1f42dac9b",
   "metadata": {},
   "outputs": [
    {
     "data": {
      "text/plain": [
       "Vollzeit                                   1893\n",
       "Vollzeit, Home Office möglich              1093\n",
       "Vollzeit, Teilzeit, Home Office möglich     171\n",
       "Vollzeit, Teilzeit                          107\n",
       "Teilzeit                                     10\n",
       "Teilzeit, Home Office möglich                 3\n",
       "Name: work_type, dtype: int64"
      ]
     },
     "execution_count": 945,
     "metadata": {},
     "output_type": "execute_result"
    }
   ],
   "source": [
    "data_cleaned[\"work_type\"].value_counts()"
   ]
  },
  {
   "cell_type": "markdown",
   "id": "355d4a27-bcd7-472d-97c9-3eb6432dc20d",
   "metadata": {},
   "source": [
    "Unter den Jobbeschreibungen befinden sich sowohl Vollzeit- als auch Teilzeitjobs. Einige dieser Jobs können außerdem optional im Home Office durchgeführt werden. Da das Attribut \"work_type\" auch mehrere dieser Kategorien enthalten kann, wird es nachfolgend in drei einzelne Attribute aufgespaltet."
   ]
  },
  {
   "cell_type": "code",
   "execution_count": 1260,
   "id": "255098df-0106-443a-9b0d-3603a2bd7c45",
   "metadata": {},
   "outputs": [
    {
     "data": {
      "text/plain": [
       "(3277, 17)"
      ]
     },
     "execution_count": 1260,
     "metadata": {},
     "output_type": "execute_result"
    }
   ],
   "source": [
    "def convert_work_types(df):\n",
    "    df_new = df.copy()\n",
    "    work_types = data_cleaned[\"work_type\"].str.replace(\", \", \",\").str.get_dummies(\",\").astype(\"bool\")\n",
    "    work_types = work_types.rename({\"Vollzeit\": \"full_time\", \"Teilzeit\": \"part_time\", \"Home Office möglich\": \"home_office_possible\"}, axis=1)\n",
    "    df_new = pd.concat([df_new, work_types], axis=1)\n",
    "    df_new = df_new.drop(\"work_type\", axis=1)\n",
    "    return df_new\n",
    "\n",
    "data_cleaned = convert_work_types(data_cleaned)\n",
    "data_cleaned.shape"
   ]
  },
  {
   "cell_type": "code",
   "execution_count": null,
   "id": "f122ae0a-2f09-41a6-ab4c-de27b95176e7",
   "metadata": {},
   "outputs": [],
   "source": []
  },
  {
   "cell_type": "code",
   "execution_count": null,
   "id": "a9804f7b-960b-4b1e-acac-79ab4d216139",
   "metadata": {},
   "outputs": [],
   "source": []
  },
  {
   "cell_type": "markdown",
   "id": "e66155ef-04d3-4b05-bfb5-13bfbe41caef",
   "metadata": {
    "tags": []
   },
   "source": [
    "# Evaluate Job Title"
   ]
  },
  {
   "cell_type": "markdown",
   "id": "efbc9d19-9971-4eb2-b824-1ec5a9eda4b0",
   "metadata": {},
   "source": [
    "Das Problem bei Analyse der Jobtitel besteht darin, dass diese in keinem einheitlichen Format vorliegen und somit fast jeder Name einzigartig ist. Daher wird an dieser Stelle versucht, die Titel mit Hilfe einiger Regel in verschiedene Kategorien einzuteilen."
   ]
  },
  {
   "cell_type": "code",
   "execution_count": 1081,
   "id": "46ace5af-9068-4c12-9c80-b479e4347421",
   "metadata": {},
   "outputs": [
    {
     "data": {
      "text/plain": [
       "3041"
      ]
     },
     "execution_count": 1081,
     "metadata": {},
     "output_type": "execute_result"
    }
   ],
   "source": [
    "data_cleaned[\"title\"].nunique()"
   ]
  },
  {
   "cell_type": "code",
   "execution_count": 1122,
   "id": "e1e345a0-20f5-4781-8cf0-71a37948631c",
   "metadata": {},
   "outputs": [
    {
     "data": {
      "text/plain": [
       "Data Engineer (m/w/d)                                                            22\n",
       "Data Scientist (m/w/d)                                                           18\n",
       "Data Analyst (m/w/d)                                                             17\n",
       "Data Engineer (w/m/d)                                                             9\n",
       "Data Engineer (m/f/d)                                                             7\n",
       "                                                                                 ..\n",
       "Senior Sales Manager IT Solutions (m/w/d)                                         1\n",
       "W2‑Professur für Industrie 4.0 / IoT / Cyberphysische Systeme (m/w/d)             1\n",
       "Spezialist Global Pricing (m/w/d)                                                 1\n",
       "Sensor Fusion Data Engineer C++ / Python for L4 Autonomous Driving (f/m/div.)     1\n",
       "Senior Analyst im Bereich Economic Intelligence (w/m/d)                           1\n",
       "Name: title, Length: 3041, dtype: int64"
      ]
     },
     "execution_count": 1122,
     "metadata": {},
     "output_type": "execute_result"
    }
   ],
   "source": [
    "data_cleaned[\"title\"].value_counts()"
   ]
  },
  {
   "cell_type": "markdown",
   "id": "a24c5190-7163-4cb9-8b01-74a9a3270ab0",
   "metadata": {},
   "source": [
    "Um einen Überblick über häufig vorkommende Muster in den Jobtiteln zu bekommen, werden alle Titel zu einem einzigen String zusammengefasst und das vorkommen einzelner Wörter und Kombinationen an Wörter gezählt. "
   ]
  },
  {
   "cell_type": "code",
   "execution_count": 975,
   "id": "fee303fd-3d2e-4396-9409-7eb01853f7d0",
   "metadata": {},
   "outputs": [
    {
     "data": {
      "text/plain": [
       "405"
      ]
     },
     "execution_count": 975,
     "metadata": {},
     "output_type": "execute_result"
    }
   ],
   "source": [
    "stop_eng = set(stopwords.words('english'))\n",
    "stop_ger = set(stopwords.words('german'))\n",
    "stop_all = stop_eng.union(stop_ger)\n",
    "len(stop_all)"
   ]
  },
  {
   "cell_type": "code",
   "execution_count": 1082,
   "id": "5076d4a5-d382-4d39-951c-6bd08676590b",
   "metadata": {},
   "outputs": [
    {
     "data": {
      "text/html": [
       "<div>\n",
       "<style scoped>\n",
       "    .dataframe tbody tr th:only-of-type {\n",
       "        vertical-align: middle;\n",
       "    }\n",
       "\n",
       "    .dataframe tbody tr th {\n",
       "        vertical-align: top;\n",
       "    }\n",
       "\n",
       "    .dataframe thead th {\n",
       "        text-align: right;\n",
       "    }\n",
       "</style>\n",
       "<table border=\"1\" class=\"dataframe\">\n",
       "  <thead>\n",
       "    <tr style=\"text-align: right;\">\n",
       "      <th></th>\n",
       "      <th>keyword</th>\n",
       "      <th>count</th>\n",
       "    </tr>\n",
       "  </thead>\n",
       "  <tbody>\n",
       "    <tr>\n",
       "      <th>6042</th>\n",
       "      <td>data engineer</td>\n",
       "      <td>284</td>\n",
       "    </tr>\n",
       "    <tr>\n",
       "      <th>5787</th>\n",
       "      <td>data analyst</td>\n",
       "      <td>220</td>\n",
       "    </tr>\n",
       "    <tr>\n",
       "      <th>6393</th>\n",
       "      <td>data scientist</td>\n",
       "      <td>203</td>\n",
       "    </tr>\n",
       "    <tr>\n",
       "      <th>21854</th>\n",
       "      <td>senior consultant</td>\n",
       "      <td>151</td>\n",
       "    </tr>\n",
       "    <tr>\n",
       "      <th>21919</th>\n",
       "      <td>senior data</td>\n",
       "      <td>150</td>\n",
       "    </tr>\n",
       "    <tr>\n",
       "      <th>12227</th>\n",
       "      <td>im bereich</td>\n",
       "      <td>150</td>\n",
       "    </tr>\n",
       "    <tr>\n",
       "      <th>9009</th>\n",
       "      <td>engineer data</td>\n",
       "      <td>108</td>\n",
       "    </tr>\n",
       "    <tr>\n",
       "      <th>6336</th>\n",
       "      <td>data science</td>\n",
       "      <td>98</td>\n",
       "    </tr>\n",
       "    <tr>\n",
       "      <th>15426</th>\n",
       "      <td>machine learning</td>\n",
       "      <td>93</td>\n",
       "    </tr>\n",
       "    <tr>\n",
       "      <th>5900</th>\n",
       "      <td>data analytics</td>\n",
       "      <td>88</td>\n",
       "    </tr>\n",
       "    <tr>\n",
       "      <th>3944</th>\n",
       "      <td>business intelligence</td>\n",
       "      <td>82</td>\n",
       "    </tr>\n",
       "    <tr>\n",
       "      <th>22714</th>\n",
       "      <td>software engineer</td>\n",
       "      <td>76</td>\n",
       "    </tr>\n",
       "    <tr>\n",
       "      <th>21924</th>\n",
       "      <td>senior data engineer</td>\n",
       "      <td>64</td>\n",
       "    </tr>\n",
       "    <tr>\n",
       "      <th>1047</th>\n",
       "      <td>analyst data</td>\n",
       "      <td>63</td>\n",
       "    </tr>\n",
       "    <tr>\n",
       "      <th>22663</th>\n",
       "      <td>software developer</td>\n",
       "      <td>59</td>\n",
       "    </tr>\n",
       "    <tr>\n",
       "      <th>6070</th>\n",
       "      <td>data engineer data</td>\n",
       "      <td>58</td>\n",
       "    </tr>\n",
       "    <tr>\n",
       "      <th>3840</th>\n",
       "      <td>business analyst</td>\n",
       "      <td>57</td>\n",
       "    </tr>\n",
       "    <tr>\n",
       "      <th>19162</th>\n",
       "      <td>product owner</td>\n",
       "      <td>56</td>\n",
       "    </tr>\n",
       "    <tr>\n",
       "      <th>3664</th>\n",
       "      <td>big data</td>\n",
       "      <td>54</td>\n",
       "    </tr>\n",
       "    <tr>\n",
       "      <th>21930</th>\n",
       "      <td>senior data scientist</td>\n",
       "      <td>48</td>\n",
       "    </tr>\n",
       "  </tbody>\n",
       "</table>\n",
       "</div>"
      ],
      "text/plain": [
       "                     keyword  count\n",
       "6042           data engineer    284\n",
       "5787            data analyst    220\n",
       "6393          data scientist    203\n",
       "21854      senior consultant    151\n",
       "21919            senior data    150\n",
       "12227             im bereich    150\n",
       "9009           engineer data    108\n",
       "6336            data science     98\n",
       "15426       machine learning     93\n",
       "5900          data analytics     88\n",
       "3944   business intelligence     82\n",
       "22714      software engineer     76\n",
       "21924   senior data engineer     64\n",
       "1047            analyst data     63\n",
       "22663     software developer     59\n",
       "6070      data engineer data     58\n",
       "3840        business analyst     57\n",
       "19162          product owner     56\n",
       "3664                big data     54\n",
       "21930  senior data scientist     48"
      ]
     },
     "execution_count": 1082,
     "metadata": {},
     "output_type": "execute_result"
    }
   ],
   "source": [
    "# CountVectorizer erwatet eigentlich mehrere Beispiele\n",
    "l = []\n",
    "l.append(title_text)\n",
    "\n",
    "vectorizer = CountVectorizer(ngram_range=(2,3))\n",
    "vector = vectorizer.fit_transform(l)\n",
    "results = pd.DataFrame({\"keyword\": vectorizer.get_feature_names_out(), \"count\": vector.toarray().reshape(-1)})\n",
    "results = results.loc[~results[\"keyword\"].isin(stop_eng.union(stop_ger))]\n",
    "results.sort_values(\"count\", ascending=False).head(20)"
   ]
  },
  {
   "cell_type": "markdown",
   "id": "89fd7aaa-83e0-4595-9227-88c29df50017",
   "metadata": {},
   "source": [
    "Auf Basis der erhaltenen Erkenntnisse wurde ein Reihe von Regeln mit Hilfe regulärer Ausdrücke gebildet, die die vorhandenen Jobtitel in die folgenden Kategorien einteilt:\n",
    "- Software Engineer\n",
    "- Data Analyst\n",
    "- Data Scientist\n",
    "- Data Engineer\n",
    "- Machine Learning Engineer\n",
    "- Data Science Consultant\n",
    "- Data Science Manager\n",
    "\n",
    "Ein Problem, welches während der Herleitung der Regeln deutlich wurde ist, dass die erhaltenen Kategorien nicht exklusiv sind. So enthalten bespielweise einige Jobtitel die Bezeichung \"Data Analyst/Scientist\". Aus diesem Grund wurde sich dafür entschieden, die Einteilung hierarchisch vorzunehmen und uneindeutige Jobtitel im Zweifelsfall mit der übergeordneten Kategorie zu überschreiben."
   ]
  },
  {
   "cell_type": "code",
   "execution_count": 1280,
   "id": "7dfcf0d6-94cc-4ac1-bcd2-6ebb4082821d",
   "metadata": {},
   "outputs": [
    {
     "name": "stdout",
     "output_type": "stream",
     "text": [
      "3041\n"
     ]
    },
    {
     "name": "stderr",
     "output_type": "stream",
     "text": [
      "C:\\Users\\joach\\AppData\\Local\\Temp\\ipykernel_19968\\432586902.py:6: UserWarning:\n",
      "\n",
      "This pattern is interpreted as a regular expression, and has match groups. To actually get the groups, use str.extract.\n",
      "\n",
      "C:\\Users\\joach\\AppData\\Local\\Temp\\ipykernel_19968\\432586902.py:7: UserWarning:\n",
      "\n",
      "This pattern is interpreted as a regular expression, and has match groups. To actually get the groups, use str.extract.\n",
      "\n",
      "C:\\Users\\joach\\AppData\\Local\\Temp\\ipykernel_19968\\432586902.py:8: UserWarning:\n",
      "\n",
      "This pattern is interpreted as a regular expression, and has match groups. To actually get the groups, use str.extract.\n",
      "\n"
     ]
    },
    {
     "data": {
      "text/plain": [
       "Data Science Manager         746\n",
       "Others                       660\n",
       "Data Science Consultant      401\n",
       "Software Engineer            400\n",
       "Data Analyst                 362\n",
       "Data Engineer                358\n",
       "Data Scientist               202\n",
       "Machine Learning Engineer    148\n",
       "Name: title_category, dtype: int64"
      ]
     },
     "execution_count": 1280,
     "metadata": {},
     "output_type": "execute_result"
    }
   ],
   "source": [
    "def convert_title(df):\n",
    "    df_new = df.copy()\n",
    "    df_new[\"title_category\"] = \"Others\"\n",
    "    df_new.loc[df_new[\"title\"].str.contains(\"Software|Developer|Entwickler\", case=False, regex=True), \"title_category\"] = \"Software Engineer\"\n",
    "    df_new.loc[df_new[\"title\"].str.contains(\"Analyst|Business[- ]*Intelligence|Analytics|Reporting\", case=False, regex=True), \"title_category\"] = \"Data Analyst\"\n",
    "    df_new.loc[df_new[\"title\"].str.contains(\"Data[ \\S]*Scien|Research[ \\S]*(Scientist|Engineer)|Statistik\", case=False, regex=True), \"title_category\"] = \"Data Scientist\"\n",
    "    df_new.loc[df_new[\"title\"].str.contains(\"(Data|Cloud)[ \\S]*(Engineer|Archite(c|k)t|Specialist)|Data Warehouse|Datenbank|Database\", case=False, regex=True), \"title_category\"] = \"Data Engineer\"\n",
    "    df_new.loc[df_new[\"title\"].str.contains(\"Machine[- ]*Learning|Deep[- ]*Learning|(\\W|^)(AI|KI|ML|DL)(\\W|$)|Artificial[- ]*Intelligence|Künstliche[- ]*Intelligenz|MLOps\", case=False, regex=True), \"title_category\"] = \"Machine Learning Engineer\"   \n",
    "    df_new.loc[df_new[\"title\"].str.contains(\"Consultant|Berater|Consulting\", case=False, regex=True), \"title_category\"] = \"Data Science Consultant\"\n",
    "    # df_new.loc[df_new[\"title\"].str.contains(\"Manager|Head|Lead|Leiter|Leitung|Vorstand|Chief|(?<!Daten)(?<!Data )Management|Owner|Partner|Director\", case=False, regex=True), \"title_category\"] = \"Data Science Manager\" \n",
    "    df_new.loc[df_new[\"title\"].str.contains(\"Manager|Head|Lead|Leiter|Leitung|Vorstand|Chief|Owner|Partner|Director\", case=False, regex=True), \"title_category\"] = \"Data Science Manager\" \n",
    "    return df_new\n",
    "\n",
    "data_cleaned = convert_title(data_cleaned)\n",
    "print(data_cleaned[\"title\"].nunique())\n",
    "data_cleaned[\"title_category\"].value_counts()"
   ]
  },
  {
   "cell_type": "markdown",
   "id": "0b184ba3-22dc-4971-af39-48747b6aa5ea",
   "metadata": {},
   "source": [
    "Es wird deutlich, dass mehrere Jobanzeigen keiner der definierten Kategorien zugeordnet werden konnten. Dies liegt daran, dass beim Scrapen der Anzeigen nicht nur exakte Jobtitel sondern zusätzlich auch nach Keywords wie \"Data Science\" oder \"Machine Learning\" gesucht wurde, um möglichst viele mögliche Jobtitel zu integrieren. Dadurch wurden jedoch auch Jobs mit aufgenommen, bei denen das Unternehmen zwar in Richtung Data Science orientiert ist, der eigentliche Job aber nicht viel damit zu tun hat. Da mit den vorhandenen Regel versucht wurde alle relevanten Jobs bestmöglich zu erfassen, können alle weiteren Einträge von der weiteren Analyse ausgeschlossen werden."
   ]
  },
  {
   "cell_type": "code",
   "execution_count": 1282,
   "id": "e817b2ea-f3aa-424c-a552-acdc3ccbaf0b",
   "metadata": {},
   "outputs": [],
   "source": [
    "# with pd.option_context(\"display.max_colwidth\", None):\n",
    "#     print(data_cleaned.loc[(data_cleaned[\"title\"].str.contains(\"cloud\", case=False)) & (data_cleaned[\"title_category\"] == \"Others\"), \"title\"].head(20))"
   ]
  },
  {
   "cell_type": "code",
   "execution_count": 1283,
   "id": "0cdd8b79-f565-4878-b56d-24a6ce42a7c9",
   "metadata": {},
   "outputs": [
    {
     "name": "stdout",
     "output_type": "stream",
     "text": [
      "133                                                        Sr. Experience Researcher, International Product Led Growth\n",
      "137                                                                                            DevOps Engineer (m/w/d)\n",
      "162                                                                        Referent RTL Data (w/m/d) (RTL Deutschland)\n",
      "195                                                                                     Digital Health Experte (m/w/d)\n",
      "202                                                                                     IT Systemadministrator (m/w/d)\n",
      "203                                                                                     Mathematiker (m/w/d) Aktuariat\n",
      "206    IT-Experte/IT-Spezialist/in (m/w/d)\\nTelekommunikationsüberwachung und Elektronische Schnittstelle der Behörden\n",
      "207            IT-Experte/IT-Spezialist/in (w/m/d)\\nTelekommunikationsüberwachung / Informationstechnische Überwachung\n",
      "212                                                                             Wissenschaftlichen Mitarbeiter (w/m/d)\n",
      "219                            Produktverantwortlicher Werkstattliteratur im Bereich Global Services and Parts (w/m/d)\n",
      "Name: title, dtype: object\n"
     ]
    }
   ],
   "source": [
    "with pd.option_context(\"display.max_colwidth\", None):\n",
    "    print(data_cleaned.loc[data_cleaned[\"title_category\"] == \"Others\", \"title\"].head(10))"
   ]
  },
  {
   "cell_type": "code",
   "execution_count": 1284,
   "id": "ed2b560b-8e38-490f-9d9c-324351bd1b5d",
   "metadata": {},
   "outputs": [
    {
     "data": {
      "text/plain": [
       "Data Science Manager         746\n",
       "Data Science Consultant      401\n",
       "Software Engineer            400\n",
       "Data Analyst                 362\n",
       "Data Engineer                358\n",
       "Data Scientist               202\n",
       "Machine Learning Engineer    148\n",
       "Name: title_category, dtype: int64"
      ]
     },
     "execution_count": 1284,
     "metadata": {},
     "output_type": "execute_result"
    }
   ],
   "source": [
    "data_cleaned = data_cleaned.loc[data_cleaned[\"title_category\"] != \"Others\"]\n",
    "data_cleaned[\"title_category\"].value_counts()"
   ]
  },
  {
   "cell_type": "code",
   "execution_count": 1233,
   "id": "2fc0fb6d-cd6e-48e8-948b-fa0e7940e452",
   "metadata": {},
   "outputs": [
    {
     "data": {
      "text/plain": [
       "(2663, 19)"
      ]
     },
     "execution_count": 1233,
     "metadata": {},
     "output_type": "execute_result"
    }
   ],
   "source": [
    "data_cleaned.shape"
   ]
  },
  {
   "cell_type": "markdown",
   "id": "115d4f52-def8-449d-b017-cc3308d80b49",
   "metadata": {},
   "source": [
    "Weiterhin kann einigen Jobtiteln zusätzlich das benötigte Erfahrungslevel für die Position entnommen werden."
   ]
  },
  {
   "cell_type": "code",
   "execution_count": 1285,
   "id": "e4d183ef-7566-4e98-bffa-afe766df6f1d",
   "metadata": {},
   "outputs": [
    {
     "data": {
      "text/plain": [
       "No Information    1885\n",
       "Senior             601\n",
       "Junior             131\n",
       "Name: experience, dtype: int64"
      ]
     },
     "execution_count": 1285,
     "metadata": {},
     "output_type": "execute_result"
    }
   ],
   "source": [
    "def extract_experience(df):\n",
    "    df_new = df.copy()\n",
    "    df_new[\"experience\"] = \"No Information\"\n",
    "    df_new.loc[df_new[\"title\"].str.contains(\"Junior|Jr.\", case=False), \"experience\"] = \"Junior\"\n",
    "    df_new.loc[df_new[\"title\"].str.contains(\"Senior|Sr.\", case=False), \"experience\"] = \"Senior\"\n",
    "    return df_new\n",
    "\n",
    "data_cleaned = extract_experience(data_cleaned)\n",
    "data_cleaned[\"experience\"].value_counts()"
   ]
  },
  {
   "cell_type": "code",
   "execution_count": null,
   "id": "8c04a11a-5257-4a50-af7a-65c009af0775",
   "metadata": {},
   "outputs": [],
   "source": []
  },
  {
   "cell_type": "code",
   "execution_count": null,
   "id": "ed8348c9-81ab-47fc-ae3c-c6814e45b52f",
   "metadata": {},
   "outputs": [],
   "source": []
  },
  {
   "cell_type": "markdown",
   "id": "076e1415-c9da-4a06-b0d5-23c892571f6b",
   "metadata": {
    "tags": []
   },
   "source": [
    "# Evaluate Salary"
   ]
  },
  {
   "cell_type": "code",
   "execution_count": 1286,
   "id": "8759f729-570f-42b4-a13f-ae1006798fe3",
   "metadata": {},
   "outputs": [
    {
     "data": {
      "text/plain": [
       "(2617, 19)"
      ]
     },
     "execution_count": 1286,
     "metadata": {},
     "output_type": "execute_result"
    }
   ],
   "source": [
    "def convert_salary(df):\n",
    "    min_salaries = df[\"salary\"].str.split(\" \").str[0].str.replace(\".\", \"\", regex=False).astype(\"float\")\n",
    "    max_salaries = df[\"salary\"].str.split(\" \").str[2].str.replace(\".\", \"\", regex=False).astype(\"float\")\n",
    "    df[\"average_salary\"] = (min_salaries + max_salaries) / 2\n",
    "    df.drop(\"salary\", axis=1, inplace=True)\n",
    "    return df\n",
    "\n",
    "data_cleaned = convert_salary(data_cleaned)\n",
    "data_cleaned.shape"
   ]
  },
  {
   "cell_type": "code",
   "execution_count": 1287,
   "id": "c0ff132d-6089-4483-acb2-8b044c9d1a91",
   "metadata": {},
   "outputs": [
    {
     "data": {
      "text/plain": [
       "<AxesSubplot:xlabel='average_salary'>"
      ]
     },
     "execution_count": 1287,
     "metadata": {},
     "output_type": "execute_result"
    },
    {
     "data": {
      "image/png": "[encoded data removed]",
      "text/plain": [
       "<Figure size 432x288 with 1 Axes>"
      ]
     },
     "metadata": {
      "needs_background": "light"
     },
     "output_type": "display_data"
    }
   ],
   "source": [
    "sns.boxplot(x=data_cleaned[\"average_salary\"])"
   ]
  },
  {
   "cell_type": "markdown",
   "id": "ed27b5f4-5762-47b3-8d08-530560bf1e15",
   "metadata": {},
   "source": [
    "Bei der Betrachtung der Gehälter wird ein Ausreißer nahe 0 deutlich, der eigentlich nicht existieren dürfte. Eine nähere Betrachtung der Jobanzeige zeigt, dass der Rest der Daten komplett in Ordnung sind. Daher wurde sich an dieser Stelle dafür entschieden, die Anzeige in den Daten zu behalten und das Gehalt auf NaN zu setzen."
   ]
  },
  {
   "cell_type": "code",
   "execution_count": 1289,
   "id": "afb53593-52ad-443a-a137-fa78c7e6176a",
   "metadata": {},
   "outputs": [
    {
     "data": {
      "text/html": [
       "<div>\n",
       "<style scoped>\n",
       "    .dataframe tbody tr th:only-of-type {\n",
       "        vertical-align: middle;\n",
       "    }\n",
       "\n",
       "    .dataframe tbody tr th {\n",
       "        vertical-align: top;\n",
       "    }\n",
       "\n",
       "    .dataframe thead th {\n",
       "        text-align: right;\n",
       "    }\n",
       "</style>\n",
       "<table border=\"1\" class=\"dataframe\">\n",
       "  <thead>\n",
       "    <tr style=\"text-align: right;\">\n",
       "      <th></th>\n",
       "      <th>link</th>\n",
       "      <th>company</th>\n",
       "      <th>title</th>\n",
       "      <th>location</th>\n",
       "      <th>content</th>\n",
       "      <th>industry</th>\n",
       "      <th>rating</th>\n",
       "      <th>num_ratings</th>\n",
       "      <th>company_link</th>\n",
       "      <th>release_date</th>\n",
       "      <th>company_size</th>\n",
       "      <th>permanent_employment</th>\n",
       "      <th>trainee</th>\n",
       "      <th>home_office_possible</th>\n",
       "      <th>part_time</th>\n",
       "      <th>full_time</th>\n",
       "      <th>title_category</th>\n",
       "      <th>experience</th>\n",
       "      <th>average_salary</th>\n",
       "    </tr>\n",
       "  </thead>\n",
       "  <tbody>\n",
       "    <tr>\n",
       "      <th>2486</th>\n",
       "      <td>https://www.stepstone.de/stellenangebote--Expe...</td>\n",
       "      <td>Home Shopping Europe GmbH</td>\n",
       "      <td>Expert (m/w/d) Operations Analytics</td>\n",
       "      <td>Ismaning, Raum München</td>\n",
       "      <td>Zwischen Excelsheets und Live-TV, zwischen For...</td>\n",
       "      <td>IT &amp; Internet</td>\n",
       "      <td>4.3</td>\n",
       "      <td>49 Bewertungen</td>\n",
       "      <td>https://www.stepstone.de/cmp/de/Home-Shopping-...</td>\n",
       "      <td>2022-05-25</td>\n",
       "      <td>501-1000</td>\n",
       "      <td>True</td>\n",
       "      <td>False</td>\n",
       "      <td>True</td>\n",
       "      <td>False</td>\n",
       "      <td>True</td>\n",
       "      <td>Data Analyst</td>\n",
       "      <td>No Information</td>\n",
       "      <td>1.0</td>\n",
       "    </tr>\n",
       "  </tbody>\n",
       "</table>\n",
       "</div>"
      ],
      "text/plain": [
       "                                                   link  \\\n",
       "2486  https://www.stepstone.de/stellenangebote--Expe...   \n",
       "\n",
       "                        company                                title  \\\n",
       "2486  Home Shopping Europe GmbH  Expert (m/w/d) Operations Analytics   \n",
       "\n",
       "                    location  \\\n",
       "2486  Ismaning, Raum München   \n",
       "\n",
       "                                                content       industry  \\\n",
       "2486  Zwischen Excelsheets und Live-TV, zwischen For...  IT & Internet   \n",
       "\n",
       "      rating     num_ratings  \\\n",
       "2486     4.3  49 Bewertungen   \n",
       "\n",
       "                                           company_link release_date  \\\n",
       "2486  https://www.stepstone.de/cmp/de/Home-Shopping-...   2022-05-25   \n",
       "\n",
       "     company_size  permanent_employment  trainee  home_office_possible  \\\n",
       "2486     501-1000                  True    False                  True   \n",
       "\n",
       "      part_time  full_time title_category      experience  average_salary  \n",
       "2486      False       True   Data Analyst  No Information             1.0  "
      ]
     },
     "execution_count": 1289,
     "metadata": {},
     "output_type": "execute_result"
    }
   ],
   "source": [
    "data_cleaned.loc[data_cleaned[\"average_salary\"]<25000]"
   ]
  },
  {
   "cell_type": "code",
   "execution_count": 1290,
   "id": "0344d59e-561f-45bc-9a4f-73a491097fd6",
   "metadata": {},
   "outputs": [],
   "source": [
    "data_cleaned.loc[data_cleaned[\"average_salary\"]<25000, \"average_salary\"] = np.nan"
   ]
  },
  {
   "cell_type": "code",
   "execution_count": 1291,
   "id": "7117e614-9ea8-465a-863b-a7403851a030",
   "metadata": {},
   "outputs": [
    {
     "data": {
      "text/plain": [
       "<AxesSubplot:xlabel='average_salary'>"
      ]
     },
     "execution_count": 1291,
     "metadata": {},
     "output_type": "execute_result"
    },
    {
     "data": {
      "image/png": "[encoded data removed]",
      "text/plain": [
       "<Figure size 432x288 with 1 Axes>"
      ]
     },
     "metadata": {
      "needs_background": "light"
     },
     "output_type": "display_data"
    }
   ],
   "source": [
    "sns.boxplot(x=data_cleaned[\"average_salary\"])"
   ]
  },
  {
   "cell_type": "markdown",
   "id": "0d8aae59-099b-473b-9297-c94eb49992c7",
   "metadata": {},
   "source": [
    "Auch auf der rechten Seite existieren zwei Ausreißer. Bei nährerer Betrachtung wird jedoch deutlich, dass es sich hierbei um valide Datenpunkte handelt. Deshalb werden diese nicht aus den Daten entfernt. Beim späteren Training eines Machine Learning Modelles kann es jedoch sinnvoll sein, diese aus den Trainingsdaten auszuschließen, um die gelernten Beziehungen nicht zu verzerren."
   ]
  },
  {
   "cell_type": "code",
   "execution_count": 1294,
   "id": "4045149c-700e-41fd-870d-f76beff5cdca",
   "metadata": {},
   "outputs": [
    {
     "data": {
      "text/html": [
       "<div>\n",
       "<style scoped>\n",
       "    .dataframe tbody tr th:only-of-type {\n",
       "        vertical-align: middle;\n",
       "    }\n",
       "\n",
       "    .dataframe tbody tr th {\n",
       "        vertical-align: top;\n",
       "    }\n",
       "\n",
       "    .dataframe thead th {\n",
       "        text-align: right;\n",
       "    }\n",
       "</style>\n",
       "<table border=\"1\" class=\"dataframe\">\n",
       "  <thead>\n",
       "    <tr style=\"text-align: right;\">\n",
       "      <th></th>\n",
       "      <th>link</th>\n",
       "      <th>company</th>\n",
       "      <th>title</th>\n",
       "      <th>location</th>\n",
       "      <th>content</th>\n",
       "      <th>industry</th>\n",
       "      <th>rating</th>\n",
       "      <th>num_ratings</th>\n",
       "      <th>company_link</th>\n",
       "      <th>release_date</th>\n",
       "      <th>company_size</th>\n",
       "      <th>permanent_employment</th>\n",
       "      <th>trainee</th>\n",
       "      <th>home_office_possible</th>\n",
       "      <th>part_time</th>\n",
       "      <th>full_time</th>\n",
       "      <th>title_category</th>\n",
       "      <th>experience</th>\n",
       "      <th>average_salary</th>\n",
       "    </tr>\n",
       "  </thead>\n",
       "  <tbody>\n",
       "    <tr>\n",
       "      <th>1060</th>\n",
       "      <td>https://www.stepstone.de/stellenangebote--VP-G...</td>\n",
       "      <td>Evotec SE</td>\n",
       "      <td>VP Global Head Cellular Sciences (f/m/d)</td>\n",
       "      <td>Hamburg</td>\n",
       "      <td>Evotec is a life science company with a uniqu...</td>\n",
       "      <td>Pharmaindustrie</td>\n",
       "      <td>3.6</td>\n",
       "      <td>5 Bewertungen</td>\n",
       "      <td>NaN</td>\n",
       "      <td>2022-06-03</td>\n",
       "      <td>NaN</td>\n",
       "      <td>True</td>\n",
       "      <td>False</td>\n",
       "      <td>False</td>\n",
       "      <td>False</td>\n",
       "      <td>True</td>\n",
       "      <td>Data Science Manager</td>\n",
       "      <td>No Information</td>\n",
       "      <td>158000.0</td>\n",
       "    </tr>\n",
       "    <tr>\n",
       "      <th>3124</th>\n",
       "      <td>https://www.stepstone.de/stellenangebote--Supp...</td>\n",
       "      <td>Elmar Hertzog und Partner Management Consultan...</td>\n",
       "      <td>Supply Chain Strategy Director (f/m/d)</td>\n",
       "      <td>Berlin</td>\n",
       "      <td>Hertzog &amp; Partner was founded in 1978 and sinc...</td>\n",
       "      <td>NaN</td>\n",
       "      <td>NaN</td>\n",
       "      <td>NaN</td>\n",
       "      <td>NaN</td>\n",
       "      <td>2022-06-01</td>\n",
       "      <td>NaN</td>\n",
       "      <td>True</td>\n",
       "      <td>False</td>\n",
       "      <td>False</td>\n",
       "      <td>False</td>\n",
       "      <td>True</td>\n",
       "      <td>Data Science Manager</td>\n",
       "      <td>No Information</td>\n",
       "      <td>150000.0</td>\n",
       "    </tr>\n",
       "  </tbody>\n",
       "</table>\n",
       "</div>"
      ],
      "text/plain": [
       "                                                   link  \\\n",
       "1060  https://www.stepstone.de/stellenangebote--VP-G...   \n",
       "3124  https://www.stepstone.de/stellenangebote--Supp...   \n",
       "\n",
       "                                                company  \\\n",
       "1060                                          Evotec SE   \n",
       "3124  Elmar Hertzog und Partner Management Consultan...   \n",
       "\n",
       "                                         title location  \\\n",
       "1060  VP Global Head Cellular Sciences (f/m/d)  Hamburg   \n",
       "3124    Supply Chain Strategy Director (f/m/d)   Berlin   \n",
       "\n",
       "                                                content         industry  \\\n",
       "1060   Evotec is a life science company with a uniqu...  Pharmaindustrie   \n",
       "3124  Hertzog & Partner was founded in 1978 and sinc...              NaN   \n",
       "\n",
       "      rating    num_ratings company_link release_date company_size  \\\n",
       "1060     3.6  5 Bewertungen          NaN   2022-06-03          NaN   \n",
       "3124     NaN            NaN          NaN   2022-06-01          NaN   \n",
       "\n",
       "      permanent_employment  trainee  home_office_possible  part_time  \\\n",
       "1060                  True    False                 False      False   \n",
       "3124                  True    False                 False      False   \n",
       "\n",
       "      full_time        title_category      experience  average_salary  \n",
       "1060       True  Data Science Manager  No Information        158000.0  \n",
       "3124       True  Data Science Manager  No Information        150000.0  "
      ]
     },
     "execution_count": 1294,
     "metadata": {},
     "output_type": "execute_result"
    }
   ],
   "source": [
    "data_cleaned.loc[data_cleaned[\"average_salary\"]>120000]"
   ]
  },
  {
   "cell_type": "code",
   "execution_count": null,
   "id": "fbe41b15-c18f-4fb7-b4a8-26c870797582",
   "metadata": {},
   "outputs": [],
   "source": []
  },
  {
   "cell_type": "code",
   "execution_count": null,
   "id": "36c6f1e2-b570-456d-89fe-fa8695b89cfa",
   "metadata": {},
   "outputs": [],
   "source": []
  },
  {
   "cell_type": "markdown",
   "id": "504c4992-66e8-4249-8f4c-86cca595320a",
   "metadata": {
    "tags": []
   },
   "source": [
    "# Evaluate Location"
   ]
  },
  {
   "cell_type": "markdown",
   "id": "ec6b42f0-cb00-4bd1-8f6e-9deecaf2e050",
   "metadata": {},
   "source": [
    "In diesem Abschnitt werden die geografischen Informationen der Jobanzeigen verarbeitet. Ein erster Überblick über die Daten zeigt, dass Einträge existieren, für die mehrere Standorte angegeben sind. Für eine nähere Analyse müssen diese Einträge in mehrere Zeilen aufgesplittet werden, sodass jeder Eintrag nur noch einen einzigen Standort enthält."
   ]
  },
  {
   "cell_type": "code",
   "execution_count": 1301,
   "id": "bfc3e925-d338-41aa-bb56-0be19419537d",
   "metadata": {},
   "outputs": [
    {
     "data": {
      "text/plain": [
       "München                                                         212\n",
       "Berlin                                                          207\n",
       "Hamburg                                                         116\n",
       "Stuttgart                                                       112\n",
       "Düsseldorf                                                       73\n",
       "Frankfurt am Main                                                59\n",
       "Köln                                                             57\n",
       "bundesweit                                                       49\n",
       "Renningen                                                        33\n",
       "Berlin, Frankfurt am Main, Hamburg, Köln, München, Stuttgart     30\n",
       "Karlsruhe                                                        25\n",
       "Hannover                                                         21\n",
       "Ulm                                                              19\n",
       "Essen                                                            18\n",
       "Leonberg                                                         16\n",
       "Heidelberg                                                       15\n",
       "Frankfurt (Main)                                                 14\n",
       "Herzogenaurach                                                   14\n",
       "Mannheim                                                         14\n",
       "Oberkochen (Baden-Württemberg)                                   14\n",
       "Name: location, dtype: int64"
      ]
     },
     "execution_count": 1301,
     "metadata": {},
     "output_type": "execute_result"
    }
   ],
   "source": [
    "data_cleaned[\"location\"].value_counts().head(20)"
   ]
  },
  {
   "cell_type": "code",
   "execution_count": 1309,
   "id": "1b441bcb-eb09-4248-a1cb-cb90749cc3b3",
   "metadata": {},
   "outputs": [
    {
     "data": {
      "text/plain": [
       "1     1779\n",
       "2      202\n",
       "3      120\n",
       "6      108\n",
       "4       82\n",
       "7       71\n",
       "5       70\n",
       "10      65\n",
       "8       59\n",
       "9       41\n",
       "11      19\n",
       "12       1\n",
       "Name: location, dtype: int64"
      ]
     },
     "execution_count": 1309,
     "metadata": {},
     "output_type": "execute_result"
    }
   ],
   "source": [
    "num_words = data_cleaned[\"location\"].str.split(\",\").str.len()\n",
    "num_words.value_counts()"
   ]
  },
  {
   "cell_type": "markdown",
   "id": "09d69bc5-7908-4567-a903-06fefe1b3f51",
   "metadata": {},
   "source": [
    "Bei Betrachtung der geplitteten Werte wird deutlich, dass die Daten in keinem einheitlichen Format vorliegen. Für die Stadt \"Frankfurt\" liegen vier unterschiedliche Schreibweisen vor. Außerdem müssen Begriffe wie \"bundesweit\" oder \"Home-Office\" vereinheitlicht werden."
   ]
  },
  {
   "cell_type": "code",
   "execution_count": 1308,
   "id": "b27aa028-4bac-41cd-88bd-3213ea90af20",
   "metadata": {},
   "outputs": [
    {
     "data": {
      "text/plain": [
       "München              710\n",
       "Berlin               659\n",
       "Hamburg              516\n",
       "Stuttgart            434\n",
       "Düsseldorf           362\n",
       "Köln                 360\n",
       "Frankfurt am Main    248\n",
       "Hannover             157\n",
       "Frankfurt            152\n",
       "Nürnberg             124\n",
       "Leipzig               78\n",
       "Dortmund              74\n",
       "bundesweit            73\n",
       "Karlsruhe             68\n",
       "Frankfurt (Main)      66\n",
       "Essen                 63\n",
       "Münster               37\n",
       "Home-Office           36\n",
       "Frankfurt a. M.       36\n",
       "Ratingen              35\n",
       "Name: location, dtype: int64"
      ]
     },
     "execution_count": 1308,
     "metadata": {},
     "output_type": "execute_result"
    }
   ],
   "source": [
    "data_cleaned[\"location\"].str.split(\", \").explode().value_counts().head(20)"
   ]
  },
  {
   "cell_type": "markdown",
   "id": "96992e95-d071-451d-8195-43065bead3e2",
   "metadata": {},
   "source": [
    "Um alle Daten in ein einheitliches Format zu bringen sind eine Reihe unterschiedlicher Regeln erforderlich. Der Überichtlichkeit halber wurden an dieser Stelle alle erhaltenen Regeln in einer Funktion zusammengefasst und auf die Herleitung und Funktionsweise der einzelnen Regeln verzichtet."
   ]
  },
  {
   "cell_type": "code",
   "execution_count": 1354,
   "id": "7a8095a0-4dfc-4c7c-918f-76cee87da778",
   "metadata": {},
   "outputs": [
    {
     "name": "stdout",
     "output_type": "stream",
     "text": [
      "2617\n"
     ]
    },
    {
     "name": "stderr",
     "output_type": "stream",
     "text": [
      "C:\\Users\\joach\\AppData\\Local\\Temp\\ipykernel_19968\\563081657.py:21: UserWarning:\n",
      "\n",
      "This pattern is interpreted as a regular expression, and has match groups. To actually get the groups, use str.extract.\n",
      "\n"
     ]
    },
    {
     "data": {
      "text/plain": [
       "München         747\n",
       "Berlin          681\n",
       "Frankfurt       571\n",
       "Hamburg         538\n",
       "Stuttgart       452\n",
       "Köln            382\n",
       "Düsseldorf      377\n",
       "bundesweit      226\n",
       "Hannover        163\n",
       "Nürnberg        138\n",
       "Leipzig          80\n",
       "Dortmund         76\n",
       "Main             74\n",
       "Essen            72\n",
       "Karlsruhe        71\n",
       "Mannheim         40\n",
       "Ulm              38\n",
       "Ratingen         37\n",
       "Münster          37\n",
       "Ludwigshafen     36\n",
       "Name: location, dtype: int64"
      ]
     },
     "execution_count": 1354,
     "metadata": {},
     "output_type": "execute_result"
    }
   ],
   "source": [
    "# die folgende Funktion extrahiert die einzelnen Städtenamen mittels Regulärer Ausdrücke\n",
    "# die letzten Regel sind relativ individuell auf die verwendeten Daten abgestimmt\n",
    "# ==> müssten für neue Daten eventuell nochmal überarbeitet werden\n",
    "\n",
    "def extract_locations(df):\n",
    "    locations = df[\"location\"].str.split(\", ?\").explode()\n",
    "    locations = locations.str.split(\" ?/ ?\").explode()\n",
    "    locations = locations.str.split(\" oder \").explode()\n",
    "    locations = locations.str.split(\" und \").explode()\n",
    "    locations = locations.str.split(\" - \").explode()\n",
    "    locations = locations.str.split(\"; \").explode()\n",
    "    locations = locations.str.split(\" ?\\+ ?\").explode()\n",
    "    locations = locations.replace(\"^Raum \", \"\", regex=True)\n",
    "    locations = locations.str.replace(\" \\(?(bei|b\\.|an|am|a\\.|ob|in|im|vor|v\\.|\\+|%|u\\.a\\.|Raum)[)\\w\\d .]+\", \"\", regex=True)\n",
    "    locations = locations.str.replace(\"[ \\w-]*(Home|Office|Mobile|Remote|Bundes|Deutschland|Wahl|Standort|DACH|keine Angabe)[( \\w-]*\", \"bundesweit\", case=False, regex=True)\n",
    "    locations = locations.str.replace(\" ?(a\\.M\\.|Main|M\\.|\\.\\.\\.und weitere|Gutenbergquartier)$\", \"\", regex=True)\n",
    "    locations = locations.str.replace(\"(MBTI|bei|\\d{5}|Metropolregion|Fürstentum|Großraum|100%) ?\", \"\", regex=True)\n",
    "    locations = locations.str.replace(\"St.\", \"Sankt\", regex=False)\n",
    "    locations = locations.str.replace(\".\", \"\", regex=False)\n",
    "    locations = locations.str.split(\" \\(\").explode()\n",
    "    locations = locations.where(locations.str.contains(\"^(Bad|Sankt|Palma|New|Den|Schwäbisch|Lindau) \", regex=True), locations.str.split(\" \")).explode()\n",
    "    locations = locations.str.strip(\"[ )]\")\n",
    "    locations = locations.replace(\"^$\", np.nan, regex=True)\n",
    "    return locations\n",
    "\n",
    "locs = extract_locations(data_cleaned)\n",
    "# das Joinen über der Index ist möglich, da dieser bei der explode()-Methode dupliziert wird\n",
    "data_long = pd.merge(data_cleaned, locs, left_index=True, right_index=True, how=\"left\", suffixes=[\"_x\", None])\n",
    "data_long = data_long.drop(\"location_x\", axis=1)\n",
    "print(data_long.index.nunique())\n",
    "data_long[\"location\"].value_counts().head(20)"
   ]
  },
  {
   "cell_type": "code",
   "execution_count": 1329,
   "id": "81da9604-01e1-4a74-b861-03e3ed5ee6ba",
   "metadata": {},
   "outputs": [
    {
     "data": {
      "text/plain": [
       "(6312, 19)"
      ]
     },
     "execution_count": 1329,
     "metadata": {},
     "output_type": "execute_result"
    }
   ],
   "source": [
    "df_long.shape"
   ]
  },
  {
   "cell_type": "code",
   "execution_count": 1356,
   "id": "a8c9f467-36be-4815-a51f-877334c6d983",
   "metadata": {},
   "outputs": [],
   "source": [
    "data_long.to_csv(\"data2/cleaned_long2.csv\", index=False)"
   ]
  },
  {
   "cell_type": "markdown",
   "id": "c1152fdf-22d6-4029-b517-40df59c64194",
   "metadata": {},
   "source": [
    "Für eine regionale Analyse der Jobs war es notwendig, zusätzliche Informationen zu sammeln. Die Website https://positionstack.com/ bietet eine kostenlose API, um zu beliebigen Adressen die Geo-Koordinaten, sowie weitere Informationen wie Land oder Bundesland zurückzugeben. Im Code der positionstack.py wird für jeden im abgespeicherten Dataframe enthaltenen Standort ein GET-Request an die Positionstack-API gesendet, um die gewünschten Informationen zu erhalten."
   ]
  },
  {
   "cell_type": "code",
   "execution_count": 1388,
   "id": "3c32bf2c-e674-4188-ac8c-502b2a17d6e6",
   "metadata": {},
   "outputs": [
    {
     "data": {
      "text/html": [
       "<div>\n",
       "<style scoped>\n",
       "    .dataframe tbody tr th:only-of-type {\n",
       "        vertical-align: middle;\n",
       "    }\n",
       "\n",
       "    .dataframe tbody tr th {\n",
       "        vertical-align: top;\n",
       "    }\n",
       "\n",
       "    .dataframe thead th {\n",
       "        text-align: right;\n",
       "    }\n",
       "</style>\n",
       "<table border=\"1\" class=\"dataframe\">\n",
       "  <thead>\n",
       "    <tr style=\"text-align: right;\">\n",
       "      <th></th>\n",
       "      <th>latitude</th>\n",
       "      <th>longitude</th>\n",
       "      <th>type</th>\n",
       "      <th>name</th>\n",
       "      <th>number</th>\n",
       "      <th>postal_code</th>\n",
       "      <th>street</th>\n",
       "      <th>confidence</th>\n",
       "      <th>region</th>\n",
       "      <th>region_code</th>\n",
       "      <th>county</th>\n",
       "      <th>locality</th>\n",
       "      <th>administrative_area</th>\n",
       "      <th>neighbourhood</th>\n",
       "      <th>country</th>\n",
       "      <th>country_code</th>\n",
       "      <th>continent</th>\n",
       "      <th>label</th>\n",
       "      <th>location</th>\n",
       "    </tr>\n",
       "  </thead>\n",
       "  <tbody>\n",
       "    <tr>\n",
       "      <th>0</th>\n",
       "      <td>49.307822</td>\n",
       "      <td>8.641450</td>\n",
       "      <td>locality</td>\n",
       "      <td>Walldorf</td>\n",
       "      <td>NaN</td>\n",
       "      <td>NaN</td>\n",
       "      <td>NaN</td>\n",
       "      <td>1.0</td>\n",
       "      <td>Baden-Württemberg</td>\n",
       "      <td>BW</td>\n",
       "      <td>Rhein-Neckar-Kreis</td>\n",
       "      <td>Walldorf</td>\n",
       "      <td>Walldorf</td>\n",
       "      <td>NaN</td>\n",
       "      <td>Germany</td>\n",
       "      <td>DEU</td>\n",
       "      <td>Europe</td>\n",
       "      <td>Walldorf, BW, Germany</td>\n",
       "      <td>Walldorf</td>\n",
       "    </tr>\n",
       "    <tr>\n",
       "      <th>1</th>\n",
       "      <td>48.706310</td>\n",
       "      <td>9.119240</td>\n",
       "      <td>locality</td>\n",
       "      <td>Stuttgart</td>\n",
       "      <td>NaN</td>\n",
       "      <td>NaN</td>\n",
       "      <td>NaN</td>\n",
       "      <td>1.0</td>\n",
       "      <td>Baden-Württemberg</td>\n",
       "      <td>BW</td>\n",
       "      <td>Esslingen</td>\n",
       "      <td>Stuttgart</td>\n",
       "      <td>Leinfelden-Echterdingen</td>\n",
       "      <td>NaN</td>\n",
       "      <td>Germany</td>\n",
       "      <td>DEU</td>\n",
       "      <td>Europe</td>\n",
       "      <td>Stuttgart, BW, Germany</td>\n",
       "      <td>Stuttgart</td>\n",
       "    </tr>\n",
       "    <tr>\n",
       "      <th>2</th>\n",
       "      <td>48.152126</td>\n",
       "      <td>11.544467</td>\n",
       "      <td>locality</td>\n",
       "      <td>Munich</td>\n",
       "      <td>NaN</td>\n",
       "      <td>NaN</td>\n",
       "      <td>NaN</td>\n",
       "      <td>1.0</td>\n",
       "      <td>Bavaria</td>\n",
       "      <td>BY</td>\n",
       "      <td>Munich</td>\n",
       "      <td>Munich</td>\n",
       "      <td>München</td>\n",
       "      <td>NaN</td>\n",
       "      <td>Germany</td>\n",
       "      <td>DEU</td>\n",
       "      <td>Europe</td>\n",
       "      <td>Munich, BY, Germany</td>\n",
       "      <td>München</td>\n",
       "    </tr>\n",
       "    <tr>\n",
       "      <th>3</th>\n",
       "      <td>51.341053</td>\n",
       "      <td>12.404024</td>\n",
       "      <td>locality</td>\n",
       "      <td>Leipzig</td>\n",
       "      <td>NaN</td>\n",
       "      <td>NaN</td>\n",
       "      <td>NaN</td>\n",
       "      <td>1.0</td>\n",
       "      <td>Saxony</td>\n",
       "      <td>SN</td>\n",
       "      <td>Leipzig</td>\n",
       "      <td>Leipzig</td>\n",
       "      <td>Leipzig</td>\n",
       "      <td>NaN</td>\n",
       "      <td>Germany</td>\n",
       "      <td>DEU</td>\n",
       "      <td>Europe</td>\n",
       "      <td>Leipzig, SN, Germany</td>\n",
       "      <td>Leipzig</td>\n",
       "    </tr>\n",
       "    <tr>\n",
       "      <th>4</th>\n",
       "      <td>53.576158</td>\n",
       "      <td>10.007046</td>\n",
       "      <td>locality</td>\n",
       "      <td>Hamburg</td>\n",
       "      <td>NaN</td>\n",
       "      <td>NaN</td>\n",
       "      <td>NaN</td>\n",
       "      <td>1.0</td>\n",
       "      <td>Hamburg</td>\n",
       "      <td>HH</td>\n",
       "      <td>Hamburg</td>\n",
       "      <td>Hamburg</td>\n",
       "      <td>Hamburg</td>\n",
       "      <td>NaN</td>\n",
       "      <td>Germany</td>\n",
       "      <td>DEU</td>\n",
       "      <td>Europe</td>\n",
       "      <td>Hamburg, Germany</td>\n",
       "      <td>Hamburg</td>\n",
       "    </tr>\n",
       "  </tbody>\n",
       "</table>\n",
       "</div>"
      ],
      "text/plain": [
       "    latitude  longitude      type       name  number  postal_code street  \\\n",
       "0  49.307822   8.641450  locality   Walldorf     NaN          NaN    NaN   \n",
       "1  48.706310   9.119240  locality  Stuttgart     NaN          NaN    NaN   \n",
       "2  48.152126  11.544467  locality     Munich     NaN          NaN    NaN   \n",
       "3  51.341053  12.404024  locality    Leipzig     NaN          NaN    NaN   \n",
       "4  53.576158  10.007046  locality    Hamburg     NaN          NaN    NaN   \n",
       "\n",
       "   confidence             region region_code              county   locality  \\\n",
       "0         1.0  Baden-Württemberg          BW  Rhein-Neckar-Kreis   Walldorf   \n",
       "1         1.0  Baden-Württemberg          BW           Esslingen  Stuttgart   \n",
       "2         1.0            Bavaria          BY              Munich     Munich   \n",
       "3         1.0             Saxony          SN             Leipzig    Leipzig   \n",
       "4         1.0            Hamburg          HH             Hamburg    Hamburg   \n",
       "\n",
       "       administrative_area neighbourhood  country country_code continent  \\\n",
       "0                 Walldorf           NaN  Germany          DEU    Europe   \n",
       "1  Leinfelden-Echterdingen           NaN  Germany          DEU    Europe   \n",
       "2                  München           NaN  Germany          DEU    Europe   \n",
       "3                  Leipzig           NaN  Germany          DEU    Europe   \n",
       "4                  Hamburg           NaN  Germany          DEU    Europe   \n",
       "\n",
       "                    label   location  \n",
       "0   Walldorf, BW, Germany   Walldorf  \n",
       "1  Stuttgart, BW, Germany  Stuttgart  \n",
       "2     Munich, BY, Germany    München  \n",
       "3    Leipzig, SN, Germany    Leipzig  \n",
       "4        Hamburg, Germany    Hamburg  "
      ]
     },
     "execution_count": 1388,
     "metadata": {},
     "output_type": "execute_result"
    }
   ],
   "source": [
    "geo_data = pd.read_csv(\"data2/geo_data2.csv\")\n",
    "geo_data.head()"
   ]
  },
  {
   "cell_type": "markdown",
   "id": "152828a9-b574-4482-8651-963aac60351e",
   "metadata": {},
   "source": [
    "Die Übersicht aller fehlenden Werte zeigt, dass zu einigen Standorten keine Informationen abgerufen werden konnten. Eine nähere Analyse zeigt, dass es sich hierbei entweder im Jobs ohne festgeschriebenen Standort handelt oder um Standorte im Ausland. Da es sich hierbei lediglich um eine Analyse in Deutschland handelt können diese Standorte ohne Probleme aus den Daten entfernt werden."
   ]
  },
  {
   "cell_type": "code",
   "execution_count": 1389,
   "id": "c59bf28c-5dec-460a-a9df-8a4af1349790",
   "metadata": {},
   "outputs": [
    {
     "data": {
      "text/plain": [
       "latitude                12\n",
       "longitude               12\n",
       "type                    12\n",
       "name                    12\n",
       "number                 360\n",
       "postal_code            360\n",
       "street                 360\n",
       "confidence              12\n",
       "region                  13\n",
       "region_code             13\n",
       "county                  22\n",
       "locality                19\n",
       "administrative_area     19\n",
       "neighbourhood          356\n",
       "country                 12\n",
       "country_code            12\n",
       "continent               12\n",
       "label                   12\n",
       "location                 1\n",
       "dtype: int64"
      ]
     },
     "execution_count": 1389,
     "metadata": {},
     "output_type": "execute_result"
    }
   ],
   "source": [
    "geo_data.isnull().sum()"
   ]
  },
  {
   "cell_type": "code",
   "execution_count": 1391,
   "id": "1b4a7f95-3e2a-4ec1-8d9c-e61a79970c85",
   "metadata": {},
   "outputs": [
    {
     "data": {
      "text/plain": [
       "array(['bundesweit', 'Abingdon', 'Villach', 'Oensingen', 'Tallin',\n",
       "       'Liechtenstein', 'Dordrecht', 'Fuschl', 'Gutenbergquartier',\n",
       "       'Pilsen', 'bundesweit–bundesweit', 'Österreichweit'], dtype=object)"
      ]
     },
     "execution_count": 1391,
     "metadata": {},
     "output_type": "execute_result"
    }
   ],
   "source": [
    "geo_data.loc[geo_data[\"latitude\"].isnull(), \"location\"].unique()"
   ]
  },
  {
   "cell_type": "markdown",
   "id": "615d7ab7-2d6e-4c46-98c2-bd41f4b15f4c",
   "metadata": {},
   "source": [
    "Leider kann mit der Positionstack-API nicht in den Parametern festgelegt werden, dass nur Orte gefiltert werden sollen. Daher ist es möglich, dass  der Name einiger ausländischer Standorte zufällig mit dem Namen eines Veranstaltungsortes, Nachbarschaft etc. in Deutschland übereinstimmt. Auch diese Einträge müssen von der Analyse ausgeschlossen werden."
   ]
  },
  {
   "cell_type": "code",
   "execution_count": 1392,
   "id": "9de7b680-7b26-49bc-9c6f-1cf47c4ac294",
   "metadata": {},
   "outputs": [
    {
     "data": {
      "text/plain": [
       "locality         317\n",
       "venue             24\n",
       "neighbourhood     12\n",
       "region             4\n",
       "county             2\n",
       "country            1\n",
       "Name: type, dtype: int64"
      ]
     },
     "execution_count": 1392,
     "metadata": {},
     "output_type": "execute_result"
    }
   ],
   "source": [
    "geo_data[\"type\"].value_counts()"
   ]
  },
  {
   "cell_type": "code",
   "execution_count": 1394,
   "id": "1b9a20d5-7cca-48d1-b408-5f9f470ef0e4",
   "metadata": {},
   "outputs": [
    {
     "data": {
      "text/plain": [
       "array(['Palma de Mallorca', nan, 'Stockholm', 'Wien', 'Wiesloch-Walldorf',\n",
       "       'Zürich', 'Innsbruck', 'London', 'Brüssel', 'Brussels', 'Zagreb',\n",
       "       'hybrid', 'Europa', 'Luxembourg', 'Amsterdam', 'Austria',\n",
       "       'Österreich', 'Koblach', 'Ohm', 'Denver', 'Sankt Florian', 'Bern',\n",
       "       'Graz', 'weitere'], dtype=object)"
      ]
     },
     "execution_count": 1394,
     "metadata": {},
     "output_type": "execute_result"
    }
   ],
   "source": [
    "geo_data.loc[geo_data[\"type\"] == \"venue\", \"location\"].unique()"
   ]
  },
  {
   "cell_type": "code",
   "execution_count": null,
   "id": "d5a36668-03fb-4ef2-a8b9-dd4e9df5308f",
   "metadata": {},
   "outputs": [],
   "source": [
    "# bei Bedarf bundesweit vorher noch durch Koordinaten am Rand der Map ersetzen"
   ]
  },
  {
   "cell_type": "markdown",
   "id": "f3207724-5aeb-4463-98f3-be44133af335",
   "metadata": {},
   "source": [
    "Für die weiteren Untersuchungen können die Jobanzeigen mit den Geodaten über ein Inner Join miteinander verbunden werden."
   ]
  },
  {
   "cell_type": "code",
   "execution_count": 1395,
   "id": "f4be78a4-3fc2-42dc-9dca-0206916f5303",
   "metadata": {},
   "outputs": [
    {
     "data": {
      "text/html": [
       "<div>\n",
       "<style scoped>\n",
       "    .dataframe tbody tr th:only-of-type {\n",
       "        vertical-align: middle;\n",
       "    }\n",
       "\n",
       "    .dataframe tbody tr th {\n",
       "        vertical-align: top;\n",
       "    }\n",
       "\n",
       "    .dataframe thead th {\n",
       "        text-align: right;\n",
       "    }\n",
       "</style>\n",
       "<table border=\"1\" class=\"dataframe\">\n",
       "  <thead>\n",
       "    <tr style=\"text-align: right;\">\n",
       "      <th></th>\n",
       "      <th>link</th>\n",
       "      <th>company</th>\n",
       "      <th>title</th>\n",
       "      <th>content</th>\n",
       "      <th>industry</th>\n",
       "      <th>rating</th>\n",
       "      <th>num_ratings</th>\n",
       "      <th>company_link</th>\n",
       "      <th>release_date</th>\n",
       "      <th>company_size</th>\n",
       "      <th>...</th>\n",
       "      <th>title_category</th>\n",
       "      <th>experience</th>\n",
       "      <th>average_salary</th>\n",
       "      <th>location</th>\n",
       "      <th>latitude</th>\n",
       "      <th>longitude</th>\n",
       "      <th>name</th>\n",
       "      <th>region</th>\n",
       "      <th>county</th>\n",
       "      <th>administrative_area</th>\n",
       "    </tr>\n",
       "  </thead>\n",
       "  <tbody>\n",
       "    <tr>\n",
       "      <th>0</th>\n",
       "      <td>https://www.stepstone.de/stellenangebote--Anal...</td>\n",
       "      <td>BearingPoint GmbH</td>\n",
       "      <td>Analyst Data Science &amp; Artificial Intelligence...</td>\n",
       "      <td>Design your own career.Make your point @ Beari...</td>\n",
       "      <td>Unternehmensberatg., Wirtschaftsprüfg., Recht</td>\n",
       "      <td>3.9</td>\n",
       "      <td>312 Bewertungen</td>\n",
       "      <td>https://www.stepstone.de/cmp/de/BearingPoint-G...</td>\n",
       "      <td>2022-06-03</td>\n",
       "      <td>2501-5000</td>\n",
       "      <td>...</td>\n",
       "      <td>Machine Learning Engineer</td>\n",
       "      <td>No Information</td>\n",
       "      <td>NaN</td>\n",
       "      <td>Walldorf</td>\n",
       "      <td>49.307822</td>\n",
       "      <td>8.64145</td>\n",
       "      <td>Walldorf</td>\n",
       "      <td>Baden-Württemberg</td>\n",
       "      <td>Rhein-Neckar-Kreis</td>\n",
       "      <td>Walldorf</td>\n",
       "    </tr>\n",
       "    <tr>\n",
       "      <th>1</th>\n",
       "      <td>https://www.stepstone.de/stellenangebote--SAP-...</td>\n",
       "      <td>SAP SE</td>\n",
       "      <td>SAP IT Technology Consultant (f/m/d) AI Scient...</td>\n",
       "      <td>We are SAP\\nSAP Intelligent Enterprise Solutio...</td>\n",
       "      <td>NaN</td>\n",
       "      <td>4.6</td>\n",
       "      <td>232 Bewertungen</td>\n",
       "      <td>NaN</td>\n",
       "      <td>2022-06-01</td>\n",
       "      <td>NaN</td>\n",
       "      <td>...</td>\n",
       "      <td>Data Science Consultant</td>\n",
       "      <td>No Information</td>\n",
       "      <td>NaN</td>\n",
       "      <td>Walldorf</td>\n",
       "      <td>49.307822</td>\n",
       "      <td>8.64145</td>\n",
       "      <td>Walldorf</td>\n",
       "      <td>Baden-Württemberg</td>\n",
       "      <td>Rhein-Neckar-Kreis</td>\n",
       "      <td>Walldorf</td>\n",
       "    </tr>\n",
       "    <tr>\n",
       "      <th>2</th>\n",
       "      <td>https://www.stepstone.de/stellenangebote--Seni...</td>\n",
       "      <td>Deloitte</td>\n",
       "      <td>(Senior) Consultant Visual Analytics (m/w/d)</td>\n",
       "      <td>Du machst den Unterschied. Ob im Business Audi...</td>\n",
       "      <td>Unternehmensberatg., Wirtschaftsprüfg., Recht</td>\n",
       "      <td>4.2</td>\n",
       "      <td>470 Bewertungen</td>\n",
       "      <td>https://www.stepstone.de/cmp/de/Deloitte-92380...</td>\n",
       "      <td>2022-05-26</td>\n",
       "      <td>10,001+</td>\n",
       "      <td>...</td>\n",
       "      <td>Data Science Consultant</td>\n",
       "      <td>Senior</td>\n",
       "      <td>NaN</td>\n",
       "      <td>Walldorf</td>\n",
       "      <td>49.307822</td>\n",
       "      <td>8.64145</td>\n",
       "      <td>Walldorf</td>\n",
       "      <td>Baden-Württemberg</td>\n",
       "      <td>Rhein-Neckar-Kreis</td>\n",
       "      <td>Walldorf</td>\n",
       "    </tr>\n",
       "    <tr>\n",
       "      <th>3</th>\n",
       "      <td>https://www.stepstone.de/stellenangebote--Seni...</td>\n",
       "      <td>BearingPoint GmbH</td>\n",
       "      <td>(Senior) Consultant Data Analytics und Data En...</td>\n",
       "      <td>Design your own career.Make your point @ Beari...</td>\n",
       "      <td>Unternehmensberatg., Wirtschaftsprüfg., Recht</td>\n",
       "      <td>3.9</td>\n",
       "      <td>312 Bewertungen</td>\n",
       "      <td>https://www.stepstone.de/cmp/de/BearingPoint-G...</td>\n",
       "      <td>2022-06-03</td>\n",
       "      <td>2501-5000</td>\n",
       "      <td>...</td>\n",
       "      <td>Data Science Consultant</td>\n",
       "      <td>Senior</td>\n",
       "      <td>NaN</td>\n",
       "      <td>Walldorf</td>\n",
       "      <td>49.307822</td>\n",
       "      <td>8.64145</td>\n",
       "      <td>Walldorf</td>\n",
       "      <td>Baden-Württemberg</td>\n",
       "      <td>Rhein-Neckar-Kreis</td>\n",
       "      <td>Walldorf</td>\n",
       "    </tr>\n",
       "    <tr>\n",
       "      <th>4</th>\n",
       "      <td>https://www.stepstone.de/stellenangebote--Anal...</td>\n",
       "      <td>BearingPoint GmbH</td>\n",
       "      <td>Analyst Anti-Financial Crime (m/w/d)</td>\n",
       "      <td>Design your own career.Make your point @ Beari...</td>\n",
       "      <td>Unternehmensberatg., Wirtschaftsprüfg., Recht</td>\n",
       "      <td>3.9</td>\n",
       "      <td>312 Bewertungen</td>\n",
       "      <td>https://www.stepstone.de/cmp/de/BearingPoint-G...</td>\n",
       "      <td>2022-05-25</td>\n",
       "      <td>2501-5000</td>\n",
       "      <td>...</td>\n",
       "      <td>Data Analyst</td>\n",
       "      <td>No Information</td>\n",
       "      <td>NaN</td>\n",
       "      <td>Walldorf</td>\n",
       "      <td>49.307822</td>\n",
       "      <td>8.64145</td>\n",
       "      <td>Walldorf</td>\n",
       "      <td>Baden-Württemberg</td>\n",
       "      <td>Rhein-Neckar-Kreis</td>\n",
       "      <td>Walldorf</td>\n",
       "    </tr>\n",
       "  </tbody>\n",
       "</table>\n",
       "<p>5 rows × 25 columns</p>\n",
       "</div>"
      ],
      "text/plain": [
       "                                                link            company  \\\n",
       "0  https://www.stepstone.de/stellenangebote--Anal...  BearingPoint GmbH   \n",
       "1  https://www.stepstone.de/stellenangebote--SAP-...             SAP SE   \n",
       "2  https://www.stepstone.de/stellenangebote--Seni...           Deloitte   \n",
       "3  https://www.stepstone.de/stellenangebote--Seni...  BearingPoint GmbH   \n",
       "4  https://www.stepstone.de/stellenangebote--Anal...  BearingPoint GmbH   \n",
       "\n",
       "                                               title  \\\n",
       "0  Analyst Data Science & Artificial Intelligence...   \n",
       "1  SAP IT Technology Consultant (f/m/d) AI Scient...   \n",
       "2       (Senior) Consultant Visual Analytics (m/w/d)   \n",
       "3  (Senior) Consultant Data Analytics und Data En...   \n",
       "4               Analyst Anti-Financial Crime (m/w/d)   \n",
       "\n",
       "                                             content  \\\n",
       "0  Design your own career.Make your point @ Beari...   \n",
       "1  We are SAP\\nSAP Intelligent Enterprise Solutio...   \n",
       "2  Du machst den Unterschied. Ob im Business Audi...   \n",
       "3  Design your own career.Make your point @ Beari...   \n",
       "4  Design your own career.Make your point @ Beari...   \n",
       "\n",
       "                                        industry  rating      num_ratings  \\\n",
       "0  Unternehmensberatg., Wirtschaftsprüfg., Recht     3.9  312 Bewertungen   \n",
       "1                                            NaN     4.6  232 Bewertungen   \n",
       "2  Unternehmensberatg., Wirtschaftsprüfg., Recht     4.2  470 Bewertungen   \n",
       "3  Unternehmensberatg., Wirtschaftsprüfg., Recht     3.9  312 Bewertungen   \n",
       "4  Unternehmensberatg., Wirtschaftsprüfg., Recht     3.9  312 Bewertungen   \n",
       "\n",
       "                                        company_link release_date  \\\n",
       "0  https://www.stepstone.de/cmp/de/BearingPoint-G...   2022-06-03   \n",
       "1                                                NaN   2022-06-01   \n",
       "2  https://www.stepstone.de/cmp/de/Deloitte-92380...   2022-05-26   \n",
       "3  https://www.stepstone.de/cmp/de/BearingPoint-G...   2022-06-03   \n",
       "4  https://www.stepstone.de/cmp/de/BearingPoint-G...   2022-05-25   \n",
       "\n",
       "  company_size  ...             title_category      experience  \\\n",
       "0    2501-5000  ...  Machine Learning Engineer  No Information   \n",
       "1          NaN  ...    Data Science Consultant  No Information   \n",
       "2      10,001+  ...    Data Science Consultant          Senior   \n",
       "3    2501-5000  ...    Data Science Consultant          Senior   \n",
       "4    2501-5000  ...               Data Analyst  No Information   \n",
       "\n",
       "   average_salary  location   latitude longitude      name             region  \\\n",
       "0             NaN  Walldorf  49.307822   8.64145  Walldorf  Baden-Württemberg   \n",
       "1             NaN  Walldorf  49.307822   8.64145  Walldorf  Baden-Württemberg   \n",
       "2             NaN  Walldorf  49.307822   8.64145  Walldorf  Baden-Württemberg   \n",
       "3             NaN  Walldorf  49.307822   8.64145  Walldorf  Baden-Württemberg   \n",
       "4             NaN  Walldorf  49.307822   8.64145  Walldorf  Baden-Württemberg   \n",
       "\n",
       "               county  administrative_area  \n",
       "0  Rhein-Neckar-Kreis             Walldorf  \n",
       "1  Rhein-Neckar-Kreis             Walldorf  \n",
       "2  Rhein-Neckar-Kreis             Walldorf  \n",
       "3  Rhein-Neckar-Kreis             Walldorf  \n",
       "4  Rhein-Neckar-Kreis             Walldorf  \n",
       "\n",
       "[5 rows x 25 columns]"
      ]
     },
     "execution_count": 1395,
     "metadata": {},
     "output_type": "execute_result"
    }
   ],
   "source": [
    "geo_relevant = geo_data.loc[geo_data[\"type\"] == \"locality\", [\"latitude\", \"longitude\", \"name\", \"region\", \"county\", \"administrative_area\", \"location\"]]\n",
    "data_long_geo = pd.merge(data_long, geo_relevant, on=\"location\", how=\"inner\")\n",
    "data_long_geo.head()"
   ]
  },
  {
   "cell_type": "code",
   "execution_count": 1396,
   "id": "e5081989-18de-4824-add4-f90c3bf4a0ee",
   "metadata": {},
   "outputs": [
    {
     "data": {
      "text/plain": [
       "(5774, 25)"
      ]
     },
     "execution_count": 1396,
     "metadata": {},
     "output_type": "execute_result"
    }
   ],
   "source": [
    "data_long_geo.shape"
   ]
  },
  {
   "cell_type": "markdown",
   "id": "d5304bfe-bc69-4965-a768-58d8814f2ece",
   "metadata": {},
   "source": [
    "TODO für ML-Modell:\n",
    "- gesäuberte Standorte zurück in das Wide-Format umwandeln\n",
    "- mögliche Features:\n",
    "    - ein oder mehrere Standorte unterscheiden (eventuell sogar Anzahl der Standorte)\n",
    "    - für einzelne Standorte:\n",
    "        - Bundesländer zuordnen\n",
    "        - häufige Großstädte als Extra-Feature einsetzen"
   ]
  },
  {
   "cell_type": "code",
   "execution_count": 1399,
   "id": "0d56f82a-dda0-4a18-a4f9-6952a68a60fe",
   "metadata": {},
   "outputs": [],
   "source": [
    "# df_all[\"city_salary\"] = round(df_all.groupby(\"location_y\")[\"average_salary\"].transform(\"mean\"))\n",
    "# df_all[\"city_count\"] = df_all.groupby(\"location_y\")[\"average_salary\"].transform(\"count\")\n",
    "# df_all[\"city_salary\"].nunique()"
   ]
  },
  {
   "cell_type": "code",
   "execution_count": 74,
   "id": "dd20c014-2e2d-4e3f-95bd-8f602d935494",
   "metadata": {},
   "outputs": [],
   "source": [
    "# Karte von Deutschland mit Bundeländern bzw. Landkreisen im Hintergrund\n",
    "# gleicher Plot mit Plotly testen\n",
    "# Anzahl an Job in der Größe codieren\n",
    "# Standorte auch ohne Gehälter analysieren"
   ]
  },
  {
   "cell_type": "code",
   "execution_count": 1398,
   "id": "749bf75a-6e4a-440a-b8f9-c2474a1ec2e3",
   "metadata": {},
   "outputs": [],
   "source": [
    "data_long_geo.to_csv(\"data2/cleaned_long_geo.csv\", index=False)"
   ]
  },
  {
   "cell_type": "code",
   "execution_count": null,
   "id": "411673d4-4128-41b3-af1f-e766197db564",
   "metadata": {},
   "outputs": [],
   "source": []
  },
  {
   "cell_type": "code",
   "execution_count": null,
   "id": "4d4bffe2-cb45-49d4-8ebf-9774076d382a",
   "metadata": {},
   "outputs": [],
   "source": []
  },
  {
   "cell_type": "markdown",
   "id": "2c15c1c3-fcff-46bc-ab3c-fe79dde307fc",
   "metadata": {
    "tags": []
   },
   "source": [
    "# Evaluate Industry"
   ]
  },
  {
   "cell_type": "markdown",
   "id": "f38d9e20-7b1a-4752-a3aa-d3acb34b9f68",
   "metadata": {},
   "source": [
    "Ein Überlick der Branchen zeigt, dass viele der Unternehmen mehreren Branchen geichzeitig angehören."
   ]
  },
  {
   "cell_type": "code",
   "execution_count": 1416,
   "id": "26c9bf49-2b1f-4b74-8657-c79cd2004e05",
   "metadata": {},
   "outputs": [
    {
     "data": {
      "text/plain": [
       "IT & Internet                                                            445\n",
       "Unternehmensberatg., Wirtschaftsprüfg., Recht                            257\n",
       "Fahrzeugbau/-zulieferer                                                  173\n",
       "Fahrzeugbau/-zulieferer|IT & Internet|Konsumgüter/Gebrauchsgüter         162\n",
       "Elektrotechnik, Feinmechanik & Optik                                      76\n",
       "                                                                        ... \n",
       "Konsumgüter/Gebrauchsgüter|IT & Internet                                   1\n",
       "IT & Internet|Medien (Film, Funk, TV, Verlage)                             1\n",
       "Unternehmensberatg., Wirtschaftsprüfg., Recht|Fahrzeugbau/-zulieferer      1\n",
       "Groß- & Einzelhandel|Konsumgüter/Gebrauchsgüter                            1\n",
       "Groß- & Einzelhandel|Transport & Logistik                                  1\n",
       "Name: industry, Length: 132, dtype: int64"
      ]
     },
     "execution_count": 1416,
     "metadata": {},
     "output_type": "execute_result"
    }
   ],
   "source": [
    "data_cleaned[\"industry\"].value_counts()"
   ]
  },
  {
   "cell_type": "markdown",
   "id": "7331086d-8300-4040-860d-86812d0e38ea",
   "metadata": {},
   "source": [
    "Um dieses Attribut für ein späteres Modell zu benutzen, gibt es zwei unterschiedliche Möglichkeiten:\n",
    "- nur die erstgenannte Kategorie benutzen (Hauptbranche)\n",
    "- für jede mögliche Kategorie als eigenens Features nutzen (kein One Hot Encoding)\n",
    "\n",
    "In diesem Fall wurde sich für die erste Variante entschieden, um ..."
   ]
  },
  {
   "cell_type": "code",
   "execution_count": 1418,
   "id": "4a58f7e9-bbad-4924-9c94-95666f87ac03",
   "metadata": {},
   "outputs": [
    {
     "data": {
      "text/plain": [
       "IT & Internet                                    576\n",
       "Fahrzeugbau/-zulieferer                          388\n",
       "Unternehmensberatg., Wirtschaftsprüfg., Recht    259\n",
       "Groß- & Einzelhandel                             133\n",
       "Elektrotechnik, Feinmechanik & Optik              91\n",
       "Finanzdienstleister                               87\n",
       "Versicherungen                                    76\n",
       "Sonstige Branchen                                 72\n",
       "Personaldienstleistungen                          49\n",
       "Maschinen- und Anlagenbau                         43\n",
       "Banken                                            38\n",
       "Medien (Film, Funk, TV, Verlage)                  37\n",
       "Energie- und Wasserversorgung & Entsorgung        30\n",
       "Sonstige Dienstleistungen                         28\n",
       "Medizintechnik                                    25\n",
       "Textilien, Bekleidung & Lederwaren                25\n",
       "Telekommunikation                                 22\n",
       "Konsumgüter/Gebrauchsgüter                        22\n",
       "Baugewerbe/-industrie                             22\n",
       "Transport & Logistik                              20\n",
       "Agentur, Werbung, Marketing & PR                  19\n",
       "Pharmaindustrie                                   18\n",
       "Immobilien                                        16\n",
       "Gesundheit & soziale Dienste                      15\n",
       "Bildung & Training                                11\n",
       "Chemie- und Erdölverarbeitende Industrie          10\n",
       "Freizeit, Touristik, Kultur & Sport                9\n",
       "Wissenschaft & Forschung                           9\n",
       "Öffentlicher Dienst & Verbände                     6\n",
       "Luft- und Raumfahrt                                6\n",
       "Metallindustrie                                    5\n",
       "Nahrungs- & Genussmittel                           4\n",
       "Druck-, Papier- und Verpackungsindustrie           4\n",
       "Handwerk                                           2\n",
       "Sonstiges produzierendes Gewerbe                   1\n",
       "Hotel, Gastronomie & Catering                      1\n",
       "Holz- und Möbelindustrie                           1\n",
       "Land-, Forst- und Fischwirtschaft, Gartenbau       1\n",
       "Name: main_industry, dtype: int64"
      ]
     },
     "execution_count": 1418,
     "metadata": {},
     "output_type": "execute_result"
    }
   ],
   "source": [
    "def convert_industries(df):\n",
    "    df[\"main_industry\"] = df[\"industry\"].str.split(\"|\").str[0]\n",
    "    df.drop(\"industry\", axis=1, inplace=True)\n",
    "    return df\n",
    "        \n",
    "data_cleaned = convert_industries(data_cleaned)\n",
    "data_cleaned[\"main_industry\"].value_counts()"
   ]
  },
  {
   "cell_type": "markdown",
   "id": "6b8c1375-4c9e-473c-9288-7ac8e025acc3",
   "metadata": {},
   "source": [
    "Es wird deutlich, dass einige Kategorien mit sehr wenigen Einträgen existieren. Solche Kategorien können die Komplexität des Modells unnötig erhöhen, obwohl sie aufgrund ihrere geringen Stichprobengröße kaum nützliche Informationen enthalten. Eine Möglichkeit dies zu vermeiden, ist es alle seltenen Kategorien zu einer einzigen zusammenzufassen. Um an dieser Stelle jedoch keinen willkürlichen Schwellwert für diese Einteilung zu wählen, wurde sich dafür entschieden, diesen Schwellwert später als Hyperparameter in die Modellbildung einfließen zu lassen."
   ]
  },
  {
   "cell_type": "code",
   "execution_count": 1419,
   "id": "51e480c4-9ad4-4c2c-a228-312d95f235e2",
   "metadata": {},
   "outputs": [],
   "source": [
    "#  feature_engine.encoding.RareLabelEncoder"
   ]
  },
  {
   "cell_type": "code",
   "execution_count": null,
   "id": "0c92ef88-49b7-419a-930a-c1963cff0735",
   "metadata": {},
   "outputs": [],
   "source": []
  },
  {
   "cell_type": "markdown",
   "id": "912c1031-d069-4897-a94c-0d6c9464f3e1",
   "metadata": {},
   "source": [
    "# Evaluate Company Size"
   ]
  },
  {
   "cell_type": "code",
   "execution_count": 1421,
   "id": "8976c885-6ac1-4a51-9267-ddb19a64d23c",
   "metadata": {},
   "outputs": [
    {
     "data": {
      "text/plain": [
       "10,001+        1055\n",
       "2501-5000       235\n",
       "5001-10,000     155\n",
       "1001-2500       151\n",
       "51-250          116\n",
       "501-1000        100\n",
       "251-500          98\n",
       "11-50            28\n",
       "1000+            21\n",
       "1-10             12\n",
       "approx. 250       9\n",
       "0-50              1\n",
       "130               1\n",
       ">15               1\n",
       "Name: company_size, dtype: int64"
      ]
     },
     "execution_count": 1421,
     "metadata": {},
     "output_type": "execute_result"
    }
   ],
   "source": [
    "data_cleaned[\"company_size\"].value_counts()"
   ]
  },
  {
   "cell_type": "code",
   "execution_count": 1427,
   "id": "39918db1-ad41-4c47-b4e7-28cc2fd4b75f",
   "metadata": {},
   "outputs": [
    {
     "data": {
      "text/plain": [
       "10,001+        1055\n",
       "2501-5000       235\n",
       "1001-2500       172\n",
       "5001-10,000     155\n",
       "51-250          117\n",
       "251-500         107\n",
       "501-1000        100\n",
       "0-50             42\n",
       "Name: company_size, dtype: int64"
      ]
     },
     "execution_count": 1427,
     "metadata": {},
     "output_type": "execute_result"
    }
   ],
   "source": [
    "def convert_company_size(df):\n",
    "    df2 = df.copy()\n",
    "    df2[\"company_size\"] = df2[\"company_size\"].replace({\"11-50\": \"0-50\", \"1-10\": \"0-50\", \">15\": \"0-50\", \"1000+\": \"1001-2500\", \"130\": \"51-250\", \n",
    "                                                      \"approx. 250\": \"251-500\"})\n",
    "    return df2\n",
    "\n",
    "convert_company_size(data_cleaned)[\"company_size\"].value_counts()"
   ]
  },
  {
   "cell_type": "code",
   "execution_count": 1428,
   "id": "4f0e2750-c658-4d60-8558-06ee6cef5d06",
   "metadata": {},
   "outputs": [],
   "source": [
    "# eventuell noch weiter zusammenfassen"
   ]
  },
  {
   "cell_type": "code",
   "execution_count": null,
   "id": "0f486f3c-a663-4e92-9acd-5bb6578d1fdf",
   "metadata": {},
   "outputs": [],
   "source": []
  },
  {
   "cell_type": "code",
   "execution_count": null,
   "id": "c4e5d036-de52-45f2-9f72-3b16ffd6561b",
   "metadata": {},
   "outputs": [],
   "source": []
  },
  {
   "cell_type": "markdown",
   "id": "4e29c7e8-c153-4e1c-9671-c36c047d790c",
   "metadata": {
    "tags": []
   },
   "source": [
    "# Evaluate Content"
   ]
  },
  {
   "cell_type": "code",
   "execution_count": null,
   "id": "2be89063-d5d1-4017-8683-52267b4c502a",
   "metadata": {},
   "outputs": [],
   "source": []
  },
  {
   "cell_type": "markdown",
   "id": "49d4e650-41bd-4836-bb08-243e1d5bbd2f",
   "metadata": {},
   "source": []
  },
  {
   "cell_type": "code",
   "execution_count": null,
   "id": "380a939f-87ce-421b-a5d9-cc65ce548628",
   "metadata": {},
   "outputs": [],
   "source": [
    "# vor SQL ein Leerzeichen setzen, um es von NoSQL zu unterscheiden ==> MySQL noch zusätzlich mit angeben"
   ]
  },
  {
   "cell_type": "code",
   "execution_count": null,
   "id": "3093cb87-2710-4b12-a86f-bad637e94387",
   "metadata": {},
   "outputs": [],
   "source": [
    "# recommondation system, clustering, computer vision, natural language processing, data warehousing, visualization, kubernetes\n",
    "# autonomous driving, etl, CI/CD (continous integration/contunious delivery), Scrum, APIs, Git, Webscraping, Jenkins, Jira\n",
    "# mlflow, dash, gcp, reinforcement learning, forecasting, microsoft office, dask, linux, non-relational (MongoDB, ELK, Cassandra)\n",
    "\n",
    "\n",
    "# Eigeninitiative, Kommunikationsstärke, Teamfähigkeit, Innovationsgeist, Selbstorganisation, strukturiertes Denken, problem solving\n",
    "\n",
    "\n",
    "# verändern sich die Skills mit steigender Berufserfahrung"
   ]
  },
  {
   "cell_type": "code",
   "execution_count": null,
   "id": "80b12567-3dde-4ade-8dbf-78bfdc2de1ec",
   "metadata": {},
   "outputs": [],
   "source": [
    "# nochmal genauer überlegen, wie zusätzliche Programmiersprachen behandelt werden sollen \n",
    "# (Python+Julia oder ähnlicher sein als eine Beschreibung ohne beides)\n",
    "# versuchen zu unterscheiden, ob sie mit und oder oder verknüpft wurden\n",
    "# Summe aller Booleans zeilenweise analysieren"
   ]
  },
  {
   "cell_type": "markdown",
   "id": "ba708a45-a017-4b04-a700-7e55c38b4f70",
   "metadata": {},
   "source": [
    "Dieser Abschnitt befasst sich mit dem Extrahieren von Informationen aus dem Text der Jobbeschreibung. Hierzu gehören:\n",
    "- technische Skills (Programmiersprachen, Tools, Python Libraries)\n",
    "- erforderlischer Abschluss\n",
    "- mögliche Studiengänge\n",
    "- erforderliche Berufserfahrung\n",
    "\n",
    "Die ersten drei Aspekte können relativ einfach aus den Textdaten extrahiert werden. Das Finden der erforderlichen Berufserfahrung ist etwas komplizierter und wird deshalb im Anschluss gesondert betrachtet."
   ]
  },
  {
   "cell_type": "code",
   "execution_count": 840,
   "id": "287472b9-cd72-4c80-a501-1fd117e5d448",
   "metadata": {},
   "outputs": [
    {
     "name": "stderr",
     "output_type": "stream",
     "text": [
      "C:\\Users\\joach\\AppData\\Local\\Temp\\ipykernel_19968\\3806163619.py:5: UserWarning:\n",
      "\n",
      "This pattern is interpreted as a regular expression, and has match groups. To actually get the groups, use str.extract.\n",
      "\n",
      "C:\\Users\\joach\\AppData\\Local\\Temp\\ipykernel_19968\\3806163619.py:20: UserWarning:\n",
      "\n",
      "This pattern is interpreted as a regular expression, and has match groups. To actually get the groups, use str.extract.\n",
      "\n",
      "C:\\Users\\joach\\AppData\\Local\\Temp\\ipykernel_19968\\3806163619.py:30: UserWarning:\n",
      "\n",
      "This pattern is interpreted as a regular expression, and has match groups. To actually get the groups, use str.extract.\n",
      "\n",
      "C:\\Users\\joach\\AppData\\Local\\Temp\\ipykernel_19968\\3806163619.py:36: UserWarning:\n",
      "\n",
      "This pattern is interpreted as a regular expression, and has match groups. To actually get the groups, use str.extract.\n",
      "\n",
      "C:\\Users\\joach\\AppData\\Local\\Temp\\ipykernel_19968\\3806163619.py:55: UserWarning:\n",
      "\n",
      "This pattern is interpreted as a regular expression, and has match groups. To actually get the groups, use str.extract.\n",
      "\n",
      "C:\\Users\\joach\\AppData\\Local\\Temp\\ipykernel_19968\\3806163619.py:64: UserWarning:\n",
      "\n",
      "This pattern is interpreted as a regular expression, and has match groups. To actually get the groups, use str.extract.\n",
      "\n",
      "C:\\Users\\joach\\AppData\\Local\\Temp\\ipykernel_19968\\3806163619.py:65: UserWarning:\n",
      "\n",
      "This pattern is interpreted as a regular expression, and has match groups. To actually get the groups, use str.extract.\n",
      "\n",
      "C:\\Users\\joach\\AppData\\Local\\Temp\\ipykernel_19968\\3806163619.py:66: UserWarning:\n",
      "\n",
      "This pattern is interpreted as a regular expression, and has match groups. To actually get the groups, use str.extract.\n",
      "\n",
      "C:\\Users\\joach\\AppData\\Local\\Temp\\ipykernel_19968\\3806163619.py:68: UserWarning:\n",
      "\n",
      "This pattern is interpreted as a regular expression, and has match groups. To actually get the groups, use str.extract.\n",
      "\n",
      "C:\\Users\\joach\\AppData\\Local\\Temp\\ipykernel_19968\\3806163619.py:69: UserWarning:\n",
      "\n",
      "This pattern is interpreted as a regular expression, and has match groups. To actually get the groups, use str.extract.\n",
      "\n",
      "C:\\Users\\joach\\AppData\\Local\\Temp\\ipykernel_19968\\3806163619.py:70: UserWarning:\n",
      "\n",
      "This pattern is interpreted as a regular expression, and has match groups. To actually get the groups, use str.extract.\n",
      "\n",
      "C:\\Users\\joach\\AppData\\Local\\Temp\\ipykernel_19968\\3806163619.py:72: UserWarning:\n",
      "\n",
      "This pattern is interpreted as a regular expression, and has match groups. To actually get the groups, use str.extract.\n",
      "\n",
      "C:\\Users\\joach\\AppData\\Local\\Temp\\ipykernel_19968\\3806163619.py:73: UserWarning:\n",
      "\n",
      "This pattern is interpreted as a regular expression, and has match groups. To actually get the groups, use str.extract.\n",
      "\n"
     ]
    },
    {
     "data": {
      "text/plain": [
       "title_cat           2638\n",
       "link                2638\n",
       "content             2638\n",
       "python               922\n",
       "r                    513\n",
       "                    ... \n",
       "computer science    1517\n",
       "math/statistics      808\n",
       "natural science      491\n",
       "engineering          829\n",
       "bwl/vwl              589\n",
       "Length: 64, dtype: int64"
      ]
     },
     "execution_count": 840,
     "metadata": {},
     "output_type": "execute_result"
    }
   ],
   "source": [
    "def convert_content(x):\n",
    "    x2 = x[[\"title_cat\", \"link\", \"content\"]].copy()\n",
    "    # programming languages (19)\n",
    "    x2[\"python\"] = x2[\"content\"].str.contains(\"Python\", case=False)\n",
    "    x2[\"r\"] = x2[\"content\"].str.contains(\"\\WR(\\W|Studio)\", case=False, regex=True)\n",
    "    x2[\"sql\"] = x2[\"content\"].str.contains(\"Sql\", case=False)\n",
    "    x2[\"excel\"] = x2[\"content\"].str.contains(\"Excel\", case=True)\n",
    "    x2[\"java\"] = x2[\"content\"].str.contains(\"Java \", case=False)\n",
    "    x2[\"javascript\"] = x2[\"content\"].str.contains(\"Javascript\", case=False)\n",
    "    x2[\"c\"] = x2[\"content\"].str.contains(\"\\WC \", case=False, regex=True)\n",
    "    x2[\"c++\"] = x2[\"content\"].str.contains(\"C\\+\\+\", case=False, regex=True)\n",
    "    x2[\"c#\"] = x2[\"content\"].str.contains(\"C#\", case=False, regex=True)\n",
    "    x2[\"scala\"] = x2[\"content\"].str.contains(\"Scala \", case=False)\n",
    "    x2[\"julia\"] = x2[\"content\"].str.contains(\"Julia\", case=False)\n",
    "    x2[\"matlab\"] = x2[\"content\"].str.contains(\"Matlab\", case=False)\n",
    "    x2[\"swift\"] = x2[\"content\"].str.contains(\"Swift\", case=False)\n",
    "    x2[\"go\"] = x2[\"content\"].str.contains(\"\\WGo \", case=True)\n",
    "    x2[\"sas\"] = x2[\"content\"].str.contains(\"\\WSas\\W\", case=False, regex=True)\n",
    "    x2[\"tableau\"] = x2[\"content\"].str.contains(\"Tableau\", case=False)\n",
    "    x2[\"power_bi\"] = x2[\"content\"].str.contains(\"(Power BI|PBI)\", case=False, regex=True)\n",
    "    x2[\"perl\"] = x2[\"content\"].str.contains(\"Perl\", case=False)\n",
    "    x2[\"php\"] = x2[\"content\"].str.contains(\"Php\", case=False)\n",
    "    # Tools (20)\n",
    "    x2[\"spark\"] = x2[\"content\"].str.contains(\"Spark\", case=False)\n",
    "    x2[\"hadoop\"] = x2[\"content\"].str.contains(\"Hadoop\", case=False)\n",
    "    x2[\"hive\"] = x2[\"content\"].str.contains(\"Hive\", case=False)\n",
    "    x2[\"storm\"] = x2[\"content\"].str.contains(\"Storm\", case=False)\n",
    "    x2[\"snowflake\"] = x2[\"content\"].str.contains(\"Snowflake\", case=False)\n",
    "    x2[\"knime\"] = x2[\"content\"].str.contains(\"Knime\", case=False)\n",
    "    x2[\"aws\"] = x2[\"content\"].str.contains(\"(AWS|Amazon Web Services)\", case=False, regex=True)\n",
    "    x2[\"kafka\"] = x2[\"content\"].str.contains(\"Kafka\", case=False)\n",
    "    x2[\"azure\"] = x2[\"content\"].str.contains(\"Azure\", case=False)\n",
    "    x2[\"google_cloud\"] = x2[\"content\"].str.contains(\"Google Cloud\", case=False)\n",
    "    x2[\"docker\"] = x2[\"content\"].str.contains(\"Docker\", case=False)\n",
    "    x2[\"git\"] = x2[\"content\"].str.contains(\"\\WGit\", case=False, regex=True)\n",
    "    x2[\"linux\"] = x2[\"content\"].str.contains(\"(Linux|Unix)\", case=False, regex=True)\n",
    "    x2[\"kubernetes\"] = x2[\"content\"].str.contains(\"Kubernetes\", case=False)\n",
    "    x2[\"jenkins\"] = x2[\"content\"].str.contains(\"Jenkins\", case=False)\n",
    "    x2[\"bigquery\"] = x2[\"content\"].str.contains(\"Bigquery\", case=False)\n",
    "    x2[\"gcp\"] = x2[\"content\"].str.contains(\"GCP\", case=False)\n",
    "    x2[\"airflow\"] = x2[\"content\"].str.contains(\"Airflow\", case=False)\n",
    "    x2[\"cassandra\"] = x2[\"content\"].str.contains(\"Cassandra\", case=False)\n",
    "    x2[\"alteryx\"] = x2[\"content\"].str.contains(\"Alteryx\", case=False)\n",
    "    # Knowledge\n",
    "    # x2[\"machine_learning\"] = x2[\"content\"].str.contains(\"(Machine Learning|Machinelle[sn]? Lern)\", case=False, regex=True)\n",
    "    # x2[\"deep_learning\"] = x2[\"content\"].str.contains(\"(Deep Learning)\", case=False, regex=True)\n",
    "    # python libraries (14)\n",
    "    x2[\"pandas\"] = x2[\"content\"].str.contains(\"Pandas\", case=False)\n",
    "    x2[\"numpy\"] = x2[\"content\"].str.contains(\"Numpy\", case=False)\n",
    "    x2[\"tensorflow\"] = x2[\"content\"].str.contains(\"Tensorflow\", case=False)\n",
    "    x2[\"keras\"] = x2[\"content\"].str.contains(\"Keras\", case=False)\n",
    "    x2[\"pytorch\"] = x2[\"content\"].str.contains(\"Pytorch\", case=False)\n",
    "    x2[\"matplotlib\"] = x2[\"content\"].str.contains(\"Matplotlib\", case=False)\n",
    "    x2[\"seaborn\"] = x2[\"content\"].str.contains(\"Seaborn\", case=False)\n",
    "    x2[\"scikit-learn\"] = x2[\"content\"].str.contains(\"(scikit[ -]?learn|sklearn)\", case=False, regex=True)\n",
    "    x2[\"plotly\"] = x2[\"content\"].str.contains(\"plotly\", case=False)\n",
    "    x2[\"streamlit\"] = x2[\"content\"].str.contains(\"stream[ -]lit\", case=False)\n",
    "    x2[\"spacy\"] = x2[\"content\"].str.contains(\"spacy\", case=False)\n",
    "    x2[\"nltk\"] = x2[\"content\"].str.contains(\"nltk\", case=False)\n",
    "    x2[\"scipy\"] = x2[\"content\"].str.contains(\"scipy\", case=False)\n",
    "    x2[\"statsmodels\"] = x2[\"content\"].str.contains(\"statsmodels\", case=False)\n",
    "    # education (3)\n",
    "    # x2[\"bachelor\"] = x2[\"content\"].str.contains(\"bachelor\", case=False)\n",
    "    x2[\"master\"] = x2[\"content\"].str.contains(\"(master|diplom)\", case=False, regex=True)\n",
    "    x2[\"phd\"] = x2[\"content\"].str.contains(\"(doktor|phd|promotion)\", case=False, regex=True)\n",
    "    x2[\"degree\"] = x2[\"content\"].str.contains(\"(Studium|degree|Hochschulabschluss|studiert|Studienabschluss|studies|bachelor)\", case=False, regex=True)\n",
    "    # degrees (5)\n",
    "    x2[\"computer science\"] = x2[\"content\"].str.contains(\"(computer science|informatik|informatics)\", case=False, regex=True)\n",
    "    x2[\"math/statistics\"] = x2[\"content\"].str.contains(\"(math|Statistik|statistics|stats)\", case=False, regex=True)\n",
    "    x2[\"natural science\"] = x2[\"content\"].str.contains(\"(Physik|physics|Naturwissenschaft|natural science|Chemie|chemistry|Biologie|biology|natur-)\", case=False, regex=True)\n",
    "    x2[\"engineering\"] = x2[\"content\"].str.contains(\"(Ingenieurwesen|Ingenieurwissenschaft|Engineering)\", case=False, regex=True)\n",
    "    x2[\"business\"] = x2[\"content\"].str.contains(\"(bwl|Betriebswirtschaft|vwl|Volkswirtschaft|Wirtschaftswissenschaft)\", case=False, regex=True)\n",
    "    return x2\n",
    "\n",
    "requirements = convert_content(df_model.loc[df_model[\"title_cat\"] != \"Others\"])\n",
    "requirements.astype(\"bool\").sum()"
   ]
  },
  {
   "cell_type": "markdown",
   "id": "20a54929-4091-4150-87cd-405ff561beef",
   "metadata": {},
   "source": [
    "Das nächste Ziel war alle verfügbaren Informationen bezüglich erforderlicher Berufserfahrung zu extrahieren. Die benötigten Informationen befinden sich in der Regel vor bestimmten Schlüsselwörter wie z.B. Jahre oder jährige. Da die genannten Begriffe jedoch auch unter einem anderem Kontext in den Jobbeschreibungen vorkommen können, mussten einige zusätzliche Regel festgelegt werden. Die folgende Liste zeigt an, welche Begriffe in den vorhandenen Beschreibungen am häufigsten in Verbindung mit dem Wort \"Jahr\" auftreten."
   ]
  },
  {
   "cell_type": "code",
   "execution_count": 870,
   "id": "b65dc6e2-52cb-4967-9870-c4b1720a0151",
   "metadata": {},
   "outputs": [
    {
     "data": {
      "text/plain": [
       "Jahre Berufserfahrung          138\n",
       "Jahre Erfahrung                 76\n",
       "Jahr und                        45\n",
       "Jahres                          24\n",
       "Jahren Erfahrung                22\n",
       "Jahren                          20\n",
       "Jahre                           18\n",
       "Jahresurlaub                    17\n",
       "Jahre relevante                 17\n",
       "Jahren in                       14\n",
       "Jahr 1990                       14\n",
       "Jahren Entwicklungslösungen     13\n",
       "Jahren entlasten                13\n",
       "jahrzehntelanges                12\n",
       "Jahren erfolgreich              11\n",
       "Jahren motiviert                11\n",
       "Jahren das                      10\n",
       "Jahrzehnten                     10\n",
       "Jahren steht                     9\n",
       "Jahr Plus                        9\n",
       "Name: 0, dtype: int64"
      ]
     },
     "execution_count": 870,
     "metadata": {},
     "output_type": "execute_result"
    }
   ],
   "source": [
    "experience = df_model[\"content\"].str.extract(\"(Jahre?n? ?(\\w+))\", flags=re.IGNORECASE)\n",
    "experience[0].value_counts().head(20)"
   ]
  },
  {
   "cell_type": "markdown",
   "id": "c5456bf0-92fe-4193-8b84-58d25ef19bf2",
   "metadata": {},
   "source": [
    "Die relevanten Informationen werden sich in den meisten Fällen vor Ausdrücken wie \"Berufserfahrung\" oder \"Erfahrung\" befinden. Ausdrücke wie \"Jahresurlaub\" oder \"Jahrzehnten\" deuten hingegen nicht auf die gewünschten Informationen hin. Daher enthält der entwickelte reguläre Ausdruck einige zusätzliche Regeln, um nur die relevanten Vorkommen herauszusuchen. Als nächsten wird die Struktur der gesuchten Informationen vor dem entwickelten Ausdruck untersucht."
   ]
  },
  {
   "cell_type": "code",
   "execution_count": 869,
   "id": "05b59323-a7f1-4dce-9e74-187d66a5ec90",
   "metadata": {},
   "outputs": [
    {
     "data": {
      "text/plain": [
       "3          53\n",
       "2          41\n",
       "5          39\n",
       "drei       36\n",
       "zwei       35\n",
       "mehrere    18\n",
       "fünf       17\n",
       "3-5        13\n",
       "25         12\n",
       "2-3         9\n",
       "vier        7\n",
       "1-3         7\n",
       "Mehrere     7\n",
       "20          7\n",
       "4           7\n",
       "2-4         6\n",
       "einige      6\n",
       "ein         5\n",
       "120         5\n",
       "30          4\n",
       "Name: 0, dtype: int64"
      ]
     },
     "execution_count": 869,
     "metadata": {},
     "output_type": "execute_result"
    }
   ],
   "source": [
    "experience = df_model[\"content\"].str.extract(\"(\\S+) ?Jahre?n? ?(Beruf|\\S*erfahrung|relevant|praktisch|einschlägig|fundiert|Expertise)\", flags=re.IGNORECASE)\n",
    "experience[0].value_counts().head(20)"
   ]
  },
  {
   "cell_type": "markdown",
   "id": "0e1c0577-7da4-46d2-bc4d-08a7c8c71dd2",
   "metadata": {},
   "source": [
    "Es wird deutlich, dass die Daten in keinem konsistenten Format vorliegen. Inkonsistenzen, die noch behoben werden müssen:\n",
    "- ausgeschriebene Zahlen in Ziffern umwandeln\n",
    "- Intervalle durch den Mittelwert ersetzen\n",
    "- zusätzliche Zeichen wie ein Plus-Symbol oder Klammern entfernen\n",
    "- Ausreißer entfernen (alle Werte größer als 10)\n",
    "\n",
    "Im Folgenden wird dies für alle Daten durchgeführt. Außerdem wurden weitere Ausdrücke für ähnliche Muster auf dem selben Weg wie das erste hergeleitet und umgesetzt. Für eine bessere Übersichtlichkeit wird die Herleitung an dieser Stelle jedoch nicht weiter erläutert."
   ]
  },
  {
   "cell_type": "code",
   "execution_count": 887,
   "id": "0a8ab7ba-04fe-455a-8cb9-1899da82c92d",
   "metadata": {},
   "outputs": [],
   "source": [
    "# Helper Functions\n",
    "def drop_outliers(x):\n",
    "    try:\n",
    "        int_value = int(x)\n",
    "        if int_value > 10:\n",
    "            return np.nan\n",
    "        else:\n",
    "            return x\n",
    "    except:\n",
    "        return x\n",
    "\n",
    "def convert_ranges(x):\n",
    "    try:\n",
    "        splits = x.split(\"-\")\n",
    "        if len(splits) > 1:\n",
    "            return str(int((int(splits[0]) + int(splits[1])) / 2))\n",
    "        else:\n",
    "            return x\n",
    "        return splits\n",
    "    except:\n",
    "        return x \n",
    "\n",
    "def unify_words(x):\n",
    "    try:\n",
    "        x = x.lower()\n",
    "        return x\n",
    "    except:\n",
    "        return x\n",
    "    \n",
    "def drop_useless(x):\n",
    "    try:\n",
    "        int_value = int(x)\n",
    "        return x\n",
    "    except:\n",
    "        if x == \"much\":\n",
    "            return x\n",
    "        else:\n",
    "            return np.nan\n",
    "        \n",
    "def convert_keywords(x):\n",
    "    if type(x) == float:\n",
    "        return x\n",
    "    else:\n",
    "        if x in (\"erste\", \"first\", \"initial\"):\n",
    "            return \"little\"\n",
    "        else:\n",
    "            return \"some\""
   ]
  },
  {
   "cell_type": "code",
   "execution_count": 898,
   "id": "03c75946-5d1f-4a01-91fe-d9d63441cf79",
   "metadata": {},
   "outputs": [
    {
     "name": "stderr",
     "output_type": "stream",
     "text": [
      "C:\\Users\\joach\\AppData\\Local\\Temp\\ipykernel_19968\\2505187116.py:15: UserWarning:\n",
      "\n",
      "This pattern is interpreted as a regular expression, and has match groups. To actually get the groups, use str.extract.\n",
      "\n",
      "C:\\Users\\joach\\AppData\\Local\\Temp\\ipykernel_19968\\2505187116.py:28: UserWarning:\n",
      "\n",
      "This pattern is interpreted as a regular expression, and has match groups. To actually get the groups, use str.extract.\n",
      "\n"
     ]
    }
   ],
   "source": [
    "def extract_experience(x):\n",
    "    x2 = x[[\"title_cat\", \"link\", \"content\"]].copy()\n",
    "    # first pattern\n",
    "    experience = x2[\"content\"].str.extract(\"(\\S+) ?Jahre?n? ?(Beruf|\\S*erfahrung|relevant|praktisch|einschlägig|fundiert|Expertise)\", flags=re.IGNORECASE)[0]\n",
    "    experience = experience.apply(drop_outliers)\n",
    "    experience = experience.apply(convert_ranges)\n",
    "    experience = experience.replace({\"ein\": \"1\", \"zwei\": \"2\", \"drei\": \"3\", \"vier\": \"4\", \"fünf\": \"5\", \"sechs\": \"6\", \"sieben\": \"7\", \"acht\": \"8\", \"neun\": \"9\", \"zehn\": \"10\"})\n",
    "    experience = experience.apply(unify_words)\n",
    "    experience = experience.replace({\"einigen\": \"much\", \"einige\": \"much\", \"mehr\": \"much\", \"mehrere\": \"much\"})\n",
    "    digits = experience.str.extract(\"\\D*(\\d+)\\D*\")[0]\n",
    "    experience = digits.combine_first(experience)\n",
    "    experience = experience.apply(drop_useless)\n",
    "    # second pattern\n",
    "    experience_new = x2[\"content\"].str.extract(\"(\\S+) ?jährige[rn]? ?(Beruf|\\S*erfahrung|,? praktisch|,? relevant|,? einschlägig|,? fundiert|Expertise)\", flags=re.IGNORECASE)[0]\n",
    "    experience_new = experience_new.where(~(experience_new.str.contains(\"(mehr|lang)\", case=False, regex=True, na=False)), \"much\")\n",
    "    experience_new = experience_new.str.strip(\"- \")\n",
    "    experience_new = experience_new.apply(drop_outliers)\n",
    "    experience_new = experience_new.apply(unify_words)\n",
    "    experience_new = experience_new.replace({\"ein\": \"1\", \"zwei\": \"2\", \"drei\": \"3\", \"vier\": \"4\", \"fünf\": \"5\", \"sechs\": \"6\", \"sieben\": \"7\", \"acht\": \"8\", \"neun\": \"9\", \"zehn\": \"10\"})\n",
    "    experience_new = experience_new.apply(drop_useless)\n",
    "    experience = experience.combine_first(experience_new)\n",
    "    # third pattern\n",
    "    experience_new = x2[\"content\"].str.extract(\"(\\S+) ?years?( of)? ?(\\S* ?experience|professional|relevant|work|employment|proven|practical)\", flags=re.IGNORECASE)[0]\n",
    "    experience_new = experience_new.apply(convert_ranges)\n",
    "    digits = experience_new.str.extract(\"\\D*(\\d+)\\D*\")[0]\n",
    "    experience_new = digits.combine_first(experience_new)\n",
    "    experience_new = experience_new.apply(unify_words)\n",
    "    experience_new = experience_new.where(~(experience_new.str.contains(\"(several|multiple)\", case=False, regex=True, na=False)), \"much\")\n",
    "    experience_new = experience_new.replace({\"one\": \"1\", \"two\": \"2\", \"three\": \"3\", \"four\": \"4\", \"five\": \"5\", \"six\": \"6\", \"seven\": \"7\", \"eight\": \"8\", \"nine\": \"9\", \"ten\": \"10\"})\n",
    "    experience_new = experience_new.apply(drop_outliers)\n",
    "    experience_new = experience_new.apply(drop_useless)\n",
    "    experience = experience.combine_first(experience_new)\n",
    "    # fourth pattern\n",
    "    experience_new = x2[\"content\"].str.extract(\"(\\S+) ?Berufserfahrung\", flags=re.IGNORECASE)[0]\n",
    "    experience_new = experience_new.apply(unify_words)\n",
    "    experience_new = experience_new.apply(convert_keywords)\n",
    "    experience = experience.combine_first(experience_new)\n",
    "    # fifth pattern\n",
    "    experience_new = x2[\"content\"].str.extract(\"(\\S+) ?(professional|work|working|practical) experience\", flags=re.IGNORECASE)[0]\n",
    "    experience_new = experience_new.apply(unify_words)\n",
    "    experience_new = experience_new.apply(convert_keywords)\n",
    "    experience = experience.combine_first(experience_new)\n",
    "    # sixth pattern \n",
    "    experience_new = x2[\"content\"].str.extract(\"(Berufseinstieg|Berufseinsteiger)\", flags=re.IGNORECASE)[0]\n",
    "    experience_new = experience_new.replace({\"Berufseinstieg\": \"little\", \"Berufseinsteiger\": \"little\"})\n",
    "    experience = experience.combine_first(experience_new)\n",
    "    # seventh pattern\n",
    "    experience_new = x[\"experience\"].str.extract(\"(Junior|Senior)\", flags=re.IGNORECASE)[0]\n",
    "    experience_new = experience_new.replace({\"Junior\": \"little\", \"Senior\": \"much\"})\n",
    "    experience = experience.combine_first(experience_new)\n",
    "    # eighth pattern\n",
    "    experience_new = x[\"work_type\"].str.extract(\"(Berufseinstieg/Trainee)\", flags=re.IGNORECASE)[0]\n",
    "    experience_new = experience_new.replace({\"Berufseinstieg/Trainee\": \"little\"})\n",
    "    experience = experience.combine_first(experience_new)\n",
    "    x2[\"experience\"] = experience\n",
    "    return x2\n",
    "\n",
    "df_experience = extract_experience(df_model.loc[df[\"title_cat\"] != \"Others\"])"
   ]
  },
  {
   "cell_type": "code",
   "execution_count": 894,
   "id": "87e496c3-6b4f-47df-b7ee-bf3b05280598",
   "metadata": {},
   "outputs": [
    {
     "data": {
      "text/plain": [
       "0.3764215314632297"
      ]
     },
     "execution_count": 894,
     "metadata": {},
     "output_type": "execute_result"
    }
   ],
   "source": [
    "# Proportion of entries with Null-Values\n",
    "df_experience[\"experience\"].isnull().sum() / len(df_experience)"
   ]
  },
  {
   "cell_type": "code",
   "execution_count": 901,
   "id": "379d24d7-5710-469e-ba03-ff0f25f76912",
   "metadata": {},
   "outputs": [
    {
     "data": {
      "text/plain": [
       "much      724\n",
       "some      278\n",
       "little    180\n",
       "3         139\n",
       "5         113\n",
       "2         109\n",
       "4          45\n",
       "1          14\n",
       "6          13\n",
       "7          13\n",
       "8          10\n",
       "10          7\n",
       "Name: experience, dtype: int64"
      ]
     },
     "execution_count": 901,
     "metadata": {},
     "output_type": "execute_result"
    }
   ],
   "source": [
    "df_experience[\"experience\"].value_counts()"
   ]
  },
  {
   "cell_type": "markdown",
   "id": "b260db5c-7e81-4be1-ae38-7b2fd7ac7f5d",
   "metadata": {},
   "source": [
    "Da für einige Werte relativ wenige Einträge vorliegen, wurde sich dafür entschieden die Jahresangaben in etwas gröbere Kategorien zusammenzufassen."
   ]
  },
  {
   "cell_type": "code",
   "execution_count": 904,
   "id": "476f1355-6202-435e-ae21-0398fda57c98",
   "metadata": {},
   "outputs": [
    {
     "data": {
      "text/plain": [
       "much      880\n",
       "some      462\n",
       "little    303\n",
       "Name: experience_bins, dtype: int64"
      ]
     },
     "execution_count": 904,
     "metadata": {},
     "output_type": "execute_result"
    }
   ],
   "source": [
    "df_experience[\"experience_bins\"] = df_experience[\"experience\"].replace({\"1\": \"little\", \"2\": \"little\", \"3\": \"some\", \"4\": \"some\", \"5\": \"much\", \n",
    "                                                                 \"6\": \"much\", \"7\": \"much\", \"8\": \"much\", \"9\": \"much\", \"10\": \"much\"})\n",
    "df_experience[\"experience_bins\"].value_counts()"
   ]
  },
  {
   "cell_type": "markdown",
   "id": "fa1bf4f8-5076-4f92-9e5a-2ca21dda1cfd",
   "metadata": {},
   "source": [
    "Da es bei der Berufserfahrung keine Kategorien gibt, die gleichzeitig auftreten können, ist ein One-Hot-Encoding eigentlich nicht notwendig. Es wird jedoch trotzdem durchgeführt, um ein einheitliches Format der Daten zu gewährleisten und die spätere Analyse vereinheitlichen zu können. "
   ]
  },
  {
   "cell_type": "code",
   "execution_count": 907,
   "id": "32a8b0c3-b5a6-4176-955f-fc3c4f173232",
   "metadata": {},
   "outputs": [
    {
     "data": {
      "text/html": [
       "<div>\n",
       "<style scoped>\n",
       "    .dataframe tbody tr th:only-of-type {\n",
       "        vertical-align: middle;\n",
       "    }\n",
       "\n",
       "    .dataframe tbody tr th {\n",
       "        vertical-align: top;\n",
       "    }\n",
       "\n",
       "    .dataframe thead th {\n",
       "        text-align: right;\n",
       "    }\n",
       "</style>\n",
       "<table border=\"1\" class=\"dataframe\">\n",
       "  <thead>\n",
       "    <tr style=\"text-align: right;\">\n",
       "      <th></th>\n",
       "      <th>little</th>\n",
       "      <th>much</th>\n",
       "      <th>some</th>\n",
       "    </tr>\n",
       "  </thead>\n",
       "  <tbody>\n",
       "    <tr>\n",
       "      <th>0</th>\n",
       "      <td>0</td>\n",
       "      <td>0</td>\n",
       "      <td>0</td>\n",
       "    </tr>\n",
       "    <tr>\n",
       "      <th>1</th>\n",
       "      <td>0</td>\n",
       "      <td>0</td>\n",
       "      <td>0</td>\n",
       "    </tr>\n",
       "    <tr>\n",
       "      <th>2</th>\n",
       "      <td>0</td>\n",
       "      <td>0</td>\n",
       "      <td>0</td>\n",
       "    </tr>\n",
       "    <tr>\n",
       "      <th>3</th>\n",
       "      <td>0</td>\n",
       "      <td>1</td>\n",
       "      <td>0</td>\n",
       "    </tr>\n",
       "    <tr>\n",
       "      <th>5</th>\n",
       "      <td>0</td>\n",
       "      <td>0</td>\n",
       "      <td>0</td>\n",
       "    </tr>\n",
       "    <tr>\n",
       "      <th>...</th>\n",
       "      <td>...</td>\n",
       "      <td>...</td>\n",
       "      <td>...</td>\n",
       "    </tr>\n",
       "    <tr>\n",
       "      <th>3756</th>\n",
       "      <td>0</td>\n",
       "      <td>1</td>\n",
       "      <td>0</td>\n",
       "    </tr>\n",
       "    <tr>\n",
       "      <th>3757</th>\n",
       "      <td>0</td>\n",
       "      <td>1</td>\n",
       "      <td>0</td>\n",
       "    </tr>\n",
       "    <tr>\n",
       "      <th>3758</th>\n",
       "      <td>0</td>\n",
       "      <td>0</td>\n",
       "      <td>1</td>\n",
       "    </tr>\n",
       "    <tr>\n",
       "      <th>3759</th>\n",
       "      <td>0</td>\n",
       "      <td>0</td>\n",
       "      <td>1</td>\n",
       "    </tr>\n",
       "    <tr>\n",
       "      <th>3760</th>\n",
       "      <td>0</td>\n",
       "      <td>1</td>\n",
       "      <td>0</td>\n",
       "    </tr>\n",
       "  </tbody>\n",
       "</table>\n",
       "<p>2638 rows × 3 columns</p>\n",
       "</div>"
      ],
      "text/plain": [
       "      little  much  some\n",
       "0          0     0     0\n",
       "1          0     0     0\n",
       "2          0     0     0\n",
       "3          0     1     0\n",
       "5          0     0     0\n",
       "...      ...   ...   ...\n",
       "3756       0     1     0\n",
       "3757       0     1     0\n",
       "3758       0     0     1\n",
       "3759       0     0     1\n",
       "3760       0     1     0\n",
       "\n",
       "[2638 rows x 3 columns]"
      ]
     },
     "execution_count": 907,
     "metadata": {},
     "output_type": "execute_result"
    }
   ],
   "source": [
    "experience_dummies = pd.get_dummies(df_experience[\"experience_bins\"])\n",
    "experience_dummies"
   ]
  },
  {
   "cell_type": "markdown",
   "id": "82de35a3-5b28-4fb7-9acf-6ecc68314f34",
   "metadata": {},
   "source": [
    "Zusammenfassung mit dem Rest der Daten und Speichern als CSV-Datei."
   ]
  },
  {
   "cell_type": "code",
   "execution_count": 911,
   "id": "7edb9f15-72d1-4055-a6a3-0d79972067e2",
   "metadata": {},
   "outputs": [
    {
     "data": {
      "text/html": [
       "<div>\n",
       "<style scoped>\n",
       "    .dataframe tbody tr th:only-of-type {\n",
       "        vertical-align: middle;\n",
       "    }\n",
       "\n",
       "    .dataframe tbody tr th {\n",
       "        vertical-align: top;\n",
       "    }\n",
       "\n",
       "    .dataframe thead th {\n",
       "        text-align: right;\n",
       "    }\n",
       "</style>\n",
       "<table border=\"1\" class=\"dataframe\">\n",
       "  <thead>\n",
       "    <tr style=\"text-align: right;\">\n",
       "      <th></th>\n",
       "      <th>title_cat</th>\n",
       "      <th>link</th>\n",
       "      <th>content</th>\n",
       "      <th>python</th>\n",
       "      <th>r</th>\n",
       "      <th>sql</th>\n",
       "      <th>excel</th>\n",
       "      <th>java</th>\n",
       "      <th>javascript</th>\n",
       "      <th>c</th>\n",
       "      <th>...</th>\n",
       "      <th>phd</th>\n",
       "      <th>degree</th>\n",
       "      <th>computer science</th>\n",
       "      <th>math/statistics</th>\n",
       "      <th>natural science</th>\n",
       "      <th>engineering</th>\n",
       "      <th>bwl/vwl</th>\n",
       "      <th>little</th>\n",
       "      <th>much</th>\n",
       "      <th>some</th>\n",
       "    </tr>\n",
       "  </thead>\n",
       "  <tbody>\n",
       "    <tr>\n",
       "      <th>0</th>\n",
       "      <td>Machine Learning Engineer</td>\n",
       "      <td>https://www.stepstone.de/stellenangebote--Anal...</td>\n",
       "      <td>Design your own career.Make your point @ Beari...</td>\n",
       "      <td>True</td>\n",
       "      <td>True</td>\n",
       "      <td>False</td>\n",
       "      <td>False</td>\n",
       "      <td>False</td>\n",
       "      <td>False</td>\n",
       "      <td>False</td>\n",
       "      <td>...</td>\n",
       "      <td>False</td>\n",
       "      <td>True</td>\n",
       "      <td>True</td>\n",
       "      <td>True</td>\n",
       "      <td>True</td>\n",
       "      <td>True</td>\n",
       "      <td>True</td>\n",
       "      <td>0</td>\n",
       "      <td>0</td>\n",
       "      <td>0</td>\n",
       "    </tr>\n",
       "    <tr>\n",
       "      <th>1</th>\n",
       "      <td>Manager</td>\n",
       "      <td>https://www.stepstone.de/stellenangebote--Mana...</td>\n",
       "      <td>Direkter geht Karriere nicht.Einstieg bei der ...</td>\n",
       "      <td>True</td>\n",
       "      <td>True</td>\n",
       "      <td>True</td>\n",
       "      <td>False</td>\n",
       "      <td>False</td>\n",
       "      <td>False</td>\n",
       "      <td>False</td>\n",
       "      <td>...</td>\n",
       "      <td>False</td>\n",
       "      <td>False</td>\n",
       "      <td>False</td>\n",
       "      <td>True</td>\n",
       "      <td>False</td>\n",
       "      <td>False</td>\n",
       "      <td>True</td>\n",
       "      <td>0</td>\n",
       "      <td>0</td>\n",
       "      <td>0</td>\n",
       "    </tr>\n",
       "    <tr>\n",
       "      <th>2</th>\n",
       "      <td>Manager</td>\n",
       "      <td>https://www.stepstone.de/stellenangebote--Mana...</td>\n",
       "      <td>Direkter geht Karriere nicht.Einstieg bei der ...</td>\n",
       "      <td>True</td>\n",
       "      <td>True</td>\n",
       "      <td>True</td>\n",
       "      <td>False</td>\n",
       "      <td>False</td>\n",
       "      <td>False</td>\n",
       "      <td>False</td>\n",
       "      <td>...</td>\n",
       "      <td>False</td>\n",
       "      <td>False</td>\n",
       "      <td>False</td>\n",
       "      <td>True</td>\n",
       "      <td>False</td>\n",
       "      <td>False</td>\n",
       "      <td>True</td>\n",
       "      <td>0</td>\n",
       "      <td>0</td>\n",
       "      <td>0</td>\n",
       "    </tr>\n",
       "    <tr>\n",
       "      <th>3</th>\n",
       "      <td>Manager</td>\n",
       "      <td>https://www.stepstone.de/stellenangebote--Data...</td>\n",
       "      <td>We create the future of B2B commerce by giving...</td>\n",
       "      <td>True</td>\n",
       "      <td>False</td>\n",
       "      <td>True</td>\n",
       "      <td>False</td>\n",
       "      <td>False</td>\n",
       "      <td>False</td>\n",
       "      <td>False</td>\n",
       "      <td>...</td>\n",
       "      <td>False</td>\n",
       "      <td>True</td>\n",
       "      <td>False</td>\n",
       "      <td>True</td>\n",
       "      <td>False</td>\n",
       "      <td>True</td>\n",
       "      <td>False</td>\n",
       "      <td>0</td>\n",
       "      <td>1</td>\n",
       "      <td>0</td>\n",
       "    </tr>\n",
       "    <tr>\n",
       "      <th>5</th>\n",
       "      <td>Data Scientist</td>\n",
       "      <td>https://www.stepstone.de/stellenangebote--Busi...</td>\n",
       "      <td>Wie sich die Versicherung von morgen anfühlen ...</td>\n",
       "      <td>True</td>\n",
       "      <td>True</td>\n",
       "      <td>True</td>\n",
       "      <td>False</td>\n",
       "      <td>False</td>\n",
       "      <td>False</td>\n",
       "      <td>False</td>\n",
       "      <td>...</td>\n",
       "      <td>False</td>\n",
       "      <td>True</td>\n",
       "      <td>True</td>\n",
       "      <td>False</td>\n",
       "      <td>False</td>\n",
       "      <td>False</td>\n",
       "      <td>False</td>\n",
       "      <td>0</td>\n",
       "      <td>0</td>\n",
       "      <td>0</td>\n",
       "    </tr>\n",
       "    <tr>\n",
       "      <th>...</th>\n",
       "      <td>...</td>\n",
       "      <td>...</td>\n",
       "      <td>...</td>\n",
       "      <td>...</td>\n",
       "      <td>...</td>\n",
       "      <td>...</td>\n",
       "      <td>...</td>\n",
       "      <td>...</td>\n",
       "      <td>...</td>\n",
       "      <td>...</td>\n",
       "      <td>...</td>\n",
       "      <td>...</td>\n",
       "      <td>...</td>\n",
       "      <td>...</td>\n",
       "      <td>...</td>\n",
       "      <td>...</td>\n",
       "      <td>...</td>\n",
       "      <td>...</td>\n",
       "      <td>...</td>\n",
       "      <td>...</td>\n",
       "      <td>...</td>\n",
       "    </tr>\n",
       "    <tr>\n",
       "      <th>3756</th>\n",
       "      <td>Data Analyst</td>\n",
       "      <td>https://www.stepstone.de/stellenangebote--Seni...</td>\n",
       "      <td>EinleitungWe are all in for change. - Are you ...</td>\n",
       "      <td>False</td>\n",
       "      <td>False</td>\n",
       "      <td>False</td>\n",
       "      <td>False</td>\n",
       "      <td>False</td>\n",
       "      <td>False</td>\n",
       "      <td>False</td>\n",
       "      <td>...</td>\n",
       "      <td>False</td>\n",
       "      <td>True</td>\n",
       "      <td>False</td>\n",
       "      <td>False</td>\n",
       "      <td>False</td>\n",
       "      <td>False</td>\n",
       "      <td>True</td>\n",
       "      <td>0</td>\n",
       "      <td>1</td>\n",
       "      <td>0</td>\n",
       "    </tr>\n",
       "    <tr>\n",
       "      <th>3757</th>\n",
       "      <td>Data Analyst</td>\n",
       "      <td>https://www.stepstone.de/stellenangebote--Busi...</td>\n",
       "      <td>Als IT-Systemhaus der Bundeswehr und IT-Dienst...</td>\n",
       "      <td>False</td>\n",
       "      <td>False</td>\n",
       "      <td>True</td>\n",
       "      <td>True</td>\n",
       "      <td>False</td>\n",
       "      <td>False</td>\n",
       "      <td>False</td>\n",
       "      <td>...</td>\n",
       "      <td>False</td>\n",
       "      <td>True</td>\n",
       "      <td>False</td>\n",
       "      <td>False</td>\n",
       "      <td>False</td>\n",
       "      <td>False</td>\n",
       "      <td>False</td>\n",
       "      <td>0</td>\n",
       "      <td>1</td>\n",
       "      <td>0</td>\n",
       "    </tr>\n",
       "    <tr>\n",
       "      <th>3758</th>\n",
       "      <td>Data Science Consultant</td>\n",
       "      <td>https://www.stepstone.de/stellenangebote--Busi...</td>\n",
       "      <td>Beraterpersönlichkeiten für Business Intellige...</td>\n",
       "      <td>False</td>\n",
       "      <td>False</td>\n",
       "      <td>True</td>\n",
       "      <td>True</td>\n",
       "      <td>False</td>\n",
       "      <td>False</td>\n",
       "      <td>False</td>\n",
       "      <td>...</td>\n",
       "      <td>False</td>\n",
       "      <td>False</td>\n",
       "      <td>True</td>\n",
       "      <td>False</td>\n",
       "      <td>False</td>\n",
       "      <td>False</td>\n",
       "      <td>True</td>\n",
       "      <td>0</td>\n",
       "      <td>0</td>\n",
       "      <td>1</td>\n",
       "    </tr>\n",
       "    <tr>\n",
       "      <th>3759</th>\n",
       "      <td>Data Science Consultant</td>\n",
       "      <td>https://www.stepstone.de/stellenangebote--BI-C...</td>\n",
       "      <td>Über uns Die GEA ist einer der größten Systema...</td>\n",
       "      <td>False</td>\n",
       "      <td>False</td>\n",
       "      <td>True</td>\n",
       "      <td>False</td>\n",
       "      <td>False</td>\n",
       "      <td>False</td>\n",
       "      <td>False</td>\n",
       "      <td>...</td>\n",
       "      <td>False</td>\n",
       "      <td>True</td>\n",
       "      <td>True</td>\n",
       "      <td>False</td>\n",
       "      <td>False</td>\n",
       "      <td>False</td>\n",
       "      <td>False</td>\n",
       "      <td>0</td>\n",
       "      <td>0</td>\n",
       "      <td>1</td>\n",
       "    </tr>\n",
       "    <tr>\n",
       "      <th>3760</th>\n",
       "      <td>Data Analyst</td>\n",
       "      <td>https://www.stepstone.de/stellenangebote--Seni...</td>\n",
       "      <td>EinleitungWe are all in for change. - Are you ...</td>\n",
       "      <td>False</td>\n",
       "      <td>False</td>\n",
       "      <td>False</td>\n",
       "      <td>False</td>\n",
       "      <td>False</td>\n",
       "      <td>False</td>\n",
       "      <td>False</td>\n",
       "      <td>...</td>\n",
       "      <td>False</td>\n",
       "      <td>True</td>\n",
       "      <td>False</td>\n",
       "      <td>False</td>\n",
       "      <td>False</td>\n",
       "      <td>False</td>\n",
       "      <td>True</td>\n",
       "      <td>0</td>\n",
       "      <td>1</td>\n",
       "      <td>0</td>\n",
       "    </tr>\n",
       "  </tbody>\n",
       "</table>\n",
       "<p>2638 rows × 67 columns</p>\n",
       "</div>"
      ],
      "text/plain": [
       "                      title_cat  \\\n",
       "0     Machine Learning Engineer   \n",
       "1                       Manager   \n",
       "2                       Manager   \n",
       "3                       Manager   \n",
       "5                Data Scientist   \n",
       "...                         ...   \n",
       "3756               Data Analyst   \n",
       "3757               Data Analyst   \n",
       "3758    Data Science Consultant   \n",
       "3759    Data Science Consultant   \n",
       "3760               Data Analyst   \n",
       "\n",
       "                                                   link  \\\n",
       "0     https://www.stepstone.de/stellenangebote--Anal...   \n",
       "1     https://www.stepstone.de/stellenangebote--Mana...   \n",
       "2     https://www.stepstone.de/stellenangebote--Mana...   \n",
       "3     https://www.stepstone.de/stellenangebote--Data...   \n",
       "5     https://www.stepstone.de/stellenangebote--Busi...   \n",
       "...                                                 ...   \n",
       "3756  https://www.stepstone.de/stellenangebote--Seni...   \n",
       "3757  https://www.stepstone.de/stellenangebote--Busi...   \n",
       "3758  https://www.stepstone.de/stellenangebote--Busi...   \n",
       "3759  https://www.stepstone.de/stellenangebote--BI-C...   \n",
       "3760  https://www.stepstone.de/stellenangebote--Seni...   \n",
       "\n",
       "                                                content  python      r    sql  \\\n",
       "0     Design your own career.Make your point @ Beari...    True   True  False   \n",
       "1     Direkter geht Karriere nicht.Einstieg bei der ...    True   True   True   \n",
       "2     Direkter geht Karriere nicht.Einstieg bei der ...    True   True   True   \n",
       "3     We create the future of B2B commerce by giving...    True  False   True   \n",
       "5     Wie sich die Versicherung von morgen anfühlen ...    True   True   True   \n",
       "...                                                 ...     ...    ...    ...   \n",
       "3756  EinleitungWe are all in for change. - Are you ...   False  False  False   \n",
       "3757  Als IT-Systemhaus der Bundeswehr und IT-Dienst...   False  False   True   \n",
       "3758  Beraterpersönlichkeiten für Business Intellige...   False  False   True   \n",
       "3759  Über uns Die GEA ist einer der größten Systema...   False  False   True   \n",
       "3760  EinleitungWe are all in for change. - Are you ...   False  False  False   \n",
       "\n",
       "      excel   java  javascript      c  ...    phd  degree  computer science  \\\n",
       "0     False  False       False  False  ...  False    True              True   \n",
       "1     False  False       False  False  ...  False   False             False   \n",
       "2     False  False       False  False  ...  False   False             False   \n",
       "3     False  False       False  False  ...  False    True             False   \n",
       "5     False  False       False  False  ...  False    True              True   \n",
       "...     ...    ...         ...    ...  ...    ...     ...               ...   \n",
       "3756  False  False       False  False  ...  False    True             False   \n",
       "3757   True  False       False  False  ...  False    True             False   \n",
       "3758   True  False       False  False  ...  False   False              True   \n",
       "3759  False  False       False  False  ...  False    True              True   \n",
       "3760  False  False       False  False  ...  False    True             False   \n",
       "\n",
       "      math/statistics  natural science  engineering  bwl/vwl  little  much  \\\n",
       "0                True             True         True     True       0     0   \n",
       "1                True            False        False     True       0     0   \n",
       "2                True            False        False     True       0     0   \n",
       "3                True            False         True    False       0     1   \n",
       "5               False            False        False    False       0     0   \n",
       "...               ...              ...          ...      ...     ...   ...   \n",
       "3756            False            False        False     True       0     1   \n",
       "3757            False            False        False    False       0     1   \n",
       "3758            False            False        False     True       0     0   \n",
       "3759            False            False        False    False       0     0   \n",
       "3760            False            False        False     True       0     1   \n",
       "\n",
       "      some  \n",
       "0        0  \n",
       "1        0  \n",
       "2        0  \n",
       "3        0  \n",
       "5        0  \n",
       "...    ...  \n",
       "3756     0  \n",
       "3757     0  \n",
       "3758     1  \n",
       "3759     1  \n",
       "3760     0  \n",
       "\n",
       "[2638 rows x 67 columns]"
      ]
     },
     "execution_count": 911,
     "metadata": {},
     "output_type": "execute_result"
    }
   ],
   "source": [
    "results = pd.merge(requirements, experience_dummies, left_index=True, right_index=True)\n",
    "results"
   ]
  },
  {
   "cell_type": "code",
   "execution_count": 912,
   "id": "76ade5a8-bf81-4292-869d-437a05ba4e39",
   "metadata": {},
   "outputs": [],
   "source": [
    "results.to_csv(\"data2/requirements.csv\", index=False)"
   ]
  },
  {
   "cell_type": "code",
   "execution_count": null,
   "id": "8feafc7a-2b91-46d9-aaf4-3ac6b85f8af3",
   "metadata": {},
   "outputs": [],
   "source": []
  }
 ],
 "metadata": {
  "kernelspec": {
   "display_name": "jobsearch",
   "language": "python",
   "name": "jobsearch"
  },
  "language_info": {
   "codemirror_mode": {
    "name": "ipython",
    "version": 3
   },
   "file_extension": ".py",
   "mimetype": "text/x-python",
   "name": "python",
   "nbconvert_exporter": "python",
   "pygments_lexer": "ipython3",
   "version": "3.9.12"
  }
 },
 "nbformat": 4,
 "nbformat_minor": 5
}
