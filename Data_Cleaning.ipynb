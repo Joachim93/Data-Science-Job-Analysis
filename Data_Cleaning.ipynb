{
 "cells": [
  {
   "cell_type": "code",
   "execution_count": 1,
   "id": "47e4a500-362a-41a0-96db-fd778e634cf1",
   "metadata": {},
   "outputs": [
    {
     "name": "stderr",
     "output_type": "stream",
     "text": [
      "[nltk_data] Downloading package stopwords to\n",
      "[nltk_data]     C:\\Users\\joach\\AppData\\Roaming\\nltk_data...\n",
      "[nltk_data]   Package stopwords is already up-to-date!\n"
     ]
    }
   ],
   "source": [
    "import numpy as np\n",
    "import pandas as pd\n",
    "import matplotlib.pyplot as plt\n",
    "import seaborn as sns\n",
    "import requests\n",
    "import plotly.express as px\n",
    "\n",
    "from sklearn.feature_extraction.text import CountVectorizer\n",
    "\n",
    "import nltk\n",
    "from nltk.corpus import stopwords\n",
    "nltk.download('stopwords')\n",
    "\n",
    "from tqdm import tqdm"
   ]
  },
  {
   "cell_type": "code",
   "execution_count": 3,
   "id": "19c1d02d-3c4a-4deb-9631-80fce60e715b",
   "metadata": {},
   "outputs": [],
   "source": [
    "# df = pd.read_csv(\"data2/jobs2.csv\")\n",
    "# df = df.loc[(df[\"keyword\"] != \"Künstliche_Intelligenz\") & (df[\"keyword\"] != \"Artificial_Intelligence\")]\n",
    "# df.drop(\"keyword\", axis=1, inplace=True)\n",
    "# df.drop_duplicates(inplace=True)\n",
    "# df.shape"
   ]
  },
  {
   "cell_type": "code",
   "execution_count": 81,
   "id": "076e934b-2663-430c-9d02-6c9f0e286027",
   "metadata": {},
   "outputs": [],
   "source": [
    "# df = pd.read_csv(\"data2/jobs2.csv\")\n",
    "# df.drop(\"keyword\", axis=1, inplace=True)\n",
    "# df.drop_duplicates(inplace=True)\n",
    "# df.shape"
   ]
  },
  {
   "cell_type": "code",
   "execution_count": 3,
   "id": "87f8dc0c-e9e8-47d0-8f93-fc1f80a726e2",
   "metadata": {},
   "outputs": [
    {
     "data": {
      "text/plain": [
       "(3761, 14)"
      ]
     },
     "execution_count": 3,
     "metadata": {},
     "output_type": "execute_result"
    }
   ],
   "source": [
    "df = pd.read_csv(\"data2/jobs_updated.csv\")\n",
    "df.shape"
   ]
  },
  {
   "cell_type": "code",
   "execution_count": 4,
   "id": "3ee4f219-2e4a-4705-ad27-c3d4a7723331",
   "metadata": {},
   "outputs": [
    {
     "data": {
      "text/html": [
       "<div>\n",
       "<style scoped>\n",
       "    .dataframe tbody tr th:only-of-type {\n",
       "        vertical-align: middle;\n",
       "    }\n",
       "\n",
       "    .dataframe tbody tr th {\n",
       "        vertical-align: top;\n",
       "    }\n",
       "\n",
       "    .dataframe thead th {\n",
       "        text-align: right;\n",
       "    }\n",
       "</style>\n",
       "<table border=\"1\" class=\"dataframe\">\n",
       "  <thead>\n",
       "    <tr style=\"text-align: right;\">\n",
       "      <th></th>\n",
       "      <th>link</th>\n",
       "      <th>company</th>\n",
       "      <th>title</th>\n",
       "      <th>location</th>\n",
       "      <th>content</th>\n",
       "      <th>industry</th>\n",
       "      <th>rating</th>\n",
       "      <th>num_ratings</th>\n",
       "      <th>company_link</th>\n",
       "      <th>release_date</th>\n",
       "      <th>salary</th>\n",
       "      <th>company_size</th>\n",
       "      <th>contract_type</th>\n",
       "      <th>work_type</th>\n",
       "    </tr>\n",
       "  </thead>\n",
       "  <tbody>\n",
       "    <tr>\n",
       "      <th>0</th>\n",
       "      <td>https://www.stepstone.de/stellenangebote--Anal...</td>\n",
       "      <td>BearingPoint GmbH</td>\n",
       "      <td>Analyst Data Science &amp; Artificial Intelligence...</td>\n",
       "      <td>Walldorf, Stuttgart, München, Leipzig, Hamburg...</td>\n",
       "      <td>Design your own career.Make your point @ Beari...</td>\n",
       "      <td>Unternehmensberatg., Wirtschaftsprüfg., Recht</td>\n",
       "      <td>3.9</td>\n",
       "      <td>312 Bewertungen</td>\n",
       "      <td>https://www.stepstone.de/cmp/de/BearingPoint-G...</td>\n",
       "      <td>2022-06-03</td>\n",
       "      <td>NaN</td>\n",
       "      <td>2501-5000</td>\n",
       "      <td>Feste Anstellung</td>\n",
       "      <td>Vollzeit, Home Office möglich</td>\n",
       "    </tr>\n",
       "    <tr>\n",
       "      <th>1</th>\n",
       "      <td>https://www.stepstone.de/stellenangebote--Mana...</td>\n",
       "      <td>BIG direkt gesund</td>\n",
       "      <td>Manager (m/w/d) Data Science &amp; Statistik</td>\n",
       "      <td>Berlin</td>\n",
       "      <td>Direkter geht Karriere nicht.Einstieg bei der ...</td>\n",
       "      <td>NaN</td>\n",
       "      <td>4.3</td>\n",
       "      <td>16 Bewertungen</td>\n",
       "      <td>NaN</td>\n",
       "      <td>2022-06-03</td>\n",
       "      <td>51.000 - 68.000 €</td>\n",
       "      <td>NaN</td>\n",
       "      <td>Feste Anstellung</td>\n",
       "      <td>Vollzeit, Home Office möglich</td>\n",
       "    </tr>\n",
       "    <tr>\n",
       "      <th>2</th>\n",
       "      <td>https://www.stepstone.de/stellenangebote--Mana...</td>\n",
       "      <td>BIG direkt gesund</td>\n",
       "      <td>Manager (m/w/d) Data Science &amp; Statistik</td>\n",
       "      <td>Dortmund, Düsseldorf, Aachen</td>\n",
       "      <td>Direkter geht Karriere nicht.Einstieg bei der ...</td>\n",
       "      <td>NaN</td>\n",
       "      <td>4.3</td>\n",
       "      <td>16 Bewertungen</td>\n",
       "      <td>NaN</td>\n",
       "      <td>2022-06-03</td>\n",
       "      <td>51.000 - 74.000 €</td>\n",
       "      <td>NaN</td>\n",
       "      <td>Feste Anstellung</td>\n",
       "      <td>Vollzeit, Home Office möglich</td>\n",
       "    </tr>\n",
       "    <tr>\n",
       "      <th>3</th>\n",
       "      <td>https://www.stepstone.de/stellenangebote--Data...</td>\n",
       "      <td>METRO Markets GmbH</td>\n",
       "      <td>Data Science Lead</td>\n",
       "      <td>Düsseldorf, Palma de Mallorca</td>\n",
       "      <td>We create the future of B2B commerce by giving...</td>\n",
       "      <td>IT &amp; Internet</td>\n",
       "      <td>NaN</td>\n",
       "      <td>NaN</td>\n",
       "      <td>NaN</td>\n",
       "      <td>2022-06-01</td>\n",
       "      <td>74.000 - 98.000 €</td>\n",
       "      <td>NaN</td>\n",
       "      <td>Feste Anstellung</td>\n",
       "      <td>Vollzeit, Home Office möglich</td>\n",
       "    </tr>\n",
       "    <tr>\n",
       "      <th>4</th>\n",
       "      <td>https://www.stepstone.de/stellenangebote--Werk...</td>\n",
       "      <td>CHECK24</td>\n",
       "      <td>Werkstudent BI und Data Science Manager (m/w/d...</td>\n",
       "      <td>München</td>\n",
       "      <td>Bist Du bereit, etwas zu bewegen und neue, spa...</td>\n",
       "      <td>Finanzdienstleister|Versicherungen</td>\n",
       "      <td>4.5</td>\n",
       "      <td>179 Bewertungen</td>\n",
       "      <td>https://www.stepstone.de/cmp/de/CHECK24-112642...</td>\n",
       "      <td>2022-06-01</td>\n",
       "      <td>NaN</td>\n",
       "      <td>2501-5000</td>\n",
       "      <td>Studentenjobs, Werkstudent</td>\n",
       "      <td>Teilzeit</td>\n",
       "    </tr>\n",
       "  </tbody>\n",
       "</table>\n",
       "</div>"
      ],
      "text/plain": [
       "                                                link             company  \\\n",
       "0  https://www.stepstone.de/stellenangebote--Anal...   BearingPoint GmbH   \n",
       "1  https://www.stepstone.de/stellenangebote--Mana...   BIG direkt gesund   \n",
       "2  https://www.stepstone.de/stellenangebote--Mana...   BIG direkt gesund   \n",
       "3  https://www.stepstone.de/stellenangebote--Data...  METRO Markets GmbH   \n",
       "4  https://www.stepstone.de/stellenangebote--Werk...             CHECK24   \n",
       "\n",
       "                                               title  \\\n",
       "0  Analyst Data Science & Artificial Intelligence...   \n",
       "1           Manager (m/w/d) Data Science & Statistik   \n",
       "2           Manager (m/w/d) Data Science & Statistik   \n",
       "3                                  Data Science Lead   \n",
       "4  Werkstudent BI und Data Science Manager (m/w/d...   \n",
       "\n",
       "                                            location  \\\n",
       "0  Walldorf, Stuttgart, München, Leipzig, Hamburg...   \n",
       "1                                             Berlin   \n",
       "2                       Dortmund, Düsseldorf, Aachen   \n",
       "3                      Düsseldorf, Palma de Mallorca   \n",
       "4                                            München   \n",
       "\n",
       "                                             content  \\\n",
       "0  Design your own career.Make your point @ Beari...   \n",
       "1  Direkter geht Karriere nicht.Einstieg bei der ...   \n",
       "2  Direkter geht Karriere nicht.Einstieg bei der ...   \n",
       "3  We create the future of B2B commerce by giving...   \n",
       "4  Bist Du bereit, etwas zu bewegen und neue, spa...   \n",
       "\n",
       "                                        industry  rating      num_ratings  \\\n",
       "0  Unternehmensberatg., Wirtschaftsprüfg., Recht     3.9  312 Bewertungen   \n",
       "1                                            NaN     4.3   16 Bewertungen   \n",
       "2                                            NaN     4.3   16 Bewertungen   \n",
       "3                                  IT & Internet     NaN              NaN   \n",
       "4             Finanzdienstleister|Versicherungen     4.5  179 Bewertungen   \n",
       "\n",
       "                                        company_link release_date  \\\n",
       "0  https://www.stepstone.de/cmp/de/BearingPoint-G...   2022-06-03   \n",
       "1                                                NaN   2022-06-03   \n",
       "2                                                NaN   2022-06-03   \n",
       "3                                                NaN   2022-06-01   \n",
       "4  https://www.stepstone.de/cmp/de/CHECK24-112642...   2022-06-01   \n",
       "\n",
       "              salary company_size               contract_type  \\\n",
       "0                NaN    2501-5000            Feste Anstellung   \n",
       "1  51.000 - 68.000 €          NaN            Feste Anstellung   \n",
       "2  51.000 - 74.000 €          NaN            Feste Anstellung   \n",
       "3  74.000 - 98.000 €          NaN            Feste Anstellung   \n",
       "4                NaN    2501-5000  Studentenjobs, Werkstudent   \n",
       "\n",
       "                       work_type  \n",
       "0  Vollzeit, Home Office möglich  \n",
       "1  Vollzeit, Home Office möglich  \n",
       "2  Vollzeit, Home Office möglich  \n",
       "3  Vollzeit, Home Office möglich  \n",
       "4                       Teilzeit  "
      ]
     },
     "execution_count": 4,
     "metadata": {},
     "output_type": "execute_result"
    }
   ],
   "source": [
    "df.head()"
   ]
  },
  {
   "cell_type": "code",
   "execution_count": 5,
   "id": "e1a1bd89-84a4-4fd1-9fab-78dff2d33fbc",
   "metadata": {},
   "outputs": [
    {
     "name": "stdout",
     "output_type": "stream",
     "text": [
      "https://www.stepstone.de/stellenangebote--Senior-DevOps-Engineer-Data-Science-Berlin-Schoeneberg-NEW-YORKER--8236735-inline.html\n"
     ]
    }
   ],
   "source": [
    "with pd.option_context(\"display.max_colwidth\", None):\n",
    "    print(df.loc[21, \"link\"])"
   ]
  },
  {
   "cell_type": "code",
   "execution_count": 6,
   "id": "6c98c7ba-6968-42b6-8a85-23e04435922b",
   "metadata": {},
   "outputs": [
    {
     "data": {
      "text/plain": [
       "link                0\n",
       "company             0\n",
       "title               0\n",
       "location            0\n",
       "content             0\n",
       "industry          637\n",
       "rating           1137\n",
       "num_ratings      1137\n",
       "company_link      751\n",
       "release_date        0\n",
       "salary           1643\n",
       "company_size      974\n",
       "contract_type       0\n",
       "work_type           0\n",
       "dtype: int64"
      ]
     },
     "execution_count": 6,
     "metadata": {},
     "output_type": "execute_result"
    }
   ],
   "source": [
    "df.isnull().sum()"
   ]
  },
  {
   "cell_type": "markdown",
   "id": "da2967b8-fdeb-4a47-a8f8-98dbedde025b",
   "metadata": {},
   "source": [
    "Vorgehen:\n",
    "- für die Gehaltprognose sind nur Vollzeit Jobs mit Festanstellung relevant\n",
    "    - zwei Dataframes erzeugen: gefiltert/ungefiltert\n",
    "    - auf dem gefilterten DF werden alle Gehaltsstatistiken ausgewertet\n",
    "    - anschließend werden die Transformationen auf dem ungefilterten DF ausgeführt und auf Edge Cases untersucht\n",
    "- Gehalt umwandeln\n",
    "- Jobtitel klassifizieren\n",
    "- Standorte säubern ==> zwei Dataframes erzeugen\n",
    "    - Long-Format ==> Visualisierung der Standorte (Jobs können mehrfach enthalten sein)\n",
    "    - Wide-Format ==> alle weiteren Analysen (jeder Job darf nur einmal enthalten sein)\n",
    "        - Data Cleaning im Long-Format durchführen und anschließend wieder zurück transformieren\n",
    "        - zusätzliche Features erzeugen (z.B. Anzahl der Standorte, Hauptstandort, binäre Features für Großstädte)\n",
    "- Branchen umwandeln\n",
    "    - OHE zum späteren Filtern nutzen\n",
    "    - zusätzliches Feature mit erster Branche behalten \n",
    "- Bewertungen / Anzahl der Bewertungen / Unternehmensgröße ist korrektes Format umwandeln\n",
    "- Text Mining auf den Inhalten der Jobbeschreibung durchführen"
   ]
  },
  {
   "cell_type": "code",
   "execution_count": null,
   "id": "32ce0dd1-6b26-41ca-9421-9befb124a531",
   "metadata": {},
   "outputs": [],
   "source": []
  },
  {
   "cell_type": "code",
   "execution_count": null,
   "id": "6a6bceb7-9ddb-4f7a-b81f-26a14a92fff9",
   "metadata": {},
   "outputs": [],
   "source": []
  },
  {
   "cell_type": "markdown",
   "id": "a4dc9dd9-6ee8-4b76-baf5-c25f67229ec5",
   "metadata": {
    "jp-MarkdownHeadingCollapsed": true,
    "tags": []
   },
   "source": [
    "# Evaluate Contract Type"
   ]
  },
  {
   "cell_type": "code",
   "execution_count": 8,
   "id": "069eda74-d5f7-4677-83d0-d9ac3257a14b",
   "metadata": {},
   "outputs": [
    {
     "data": {
      "text/plain": [
       "Feste Anstellung                                                            3218\n",
       "Befristeter Vertrag                                                          151\n",
       "Studentenjobs, Werkstudent                                                   117\n",
       "Praktikum                                                                     95\n",
       "Berufseinstieg/Trainee                                                        47\n",
       "Ausbildung, Studium                                                           44\n",
       "Praktikum, Studentenjobs, Werkstudent                                         28\n",
       "Bachelor-/Master-/Diplom-Arbeiten                                             23\n",
       "Promotion/Habilitation                                                        14\n",
       "Feste Anstellung, Berufseinstieg/Trainee                                       9\n",
       "Bachelor-/Master-/Diplom-Arbeiten, Praktikum                                   5\n",
       "Arbeitnehmerüberlassung                                                        4\n",
       "Feste Anstellung, Ausbildung, Studium                                          1\n",
       "Freie Mitarbeit/Projektmitarbeit                                               1\n",
       "Bachelor-/Master-/Diplom-Arbeiten, Studentenjobs, Werkstudent                  1\n",
       "Bachelor-/Master-/Diplom-Arbeiten, Praktikum, Studentenjobs, Werkstudent       1\n",
       "Arbeitnehmerüberlassung, Feste Anstellung                                      1\n",
       "Feste Anstellung, Studentenjobs, Werkstudent                                   1\n",
       "Name: contract_type, dtype: int64"
      ]
     },
     "execution_count": 8,
     "metadata": {},
     "output_type": "execute_result"
    }
   ],
   "source": [
    "df[\"contract_type\"].value_counts()"
   ]
  },
  {
   "cell_type": "code",
   "execution_count": 9,
   "id": "9d7d77bb-e3f5-4f15-8f58-6668eed3b39f",
   "metadata": {},
   "outputs": [],
   "source": [
    "# Festanstellung + Trainee\n",
    "# Praktikum + Abschlussarbeit + (Studentenjob)\n",
    "# Arbeitnehmerüberlassung (Leiharbeit) einmalig mit Festanstellung ==> Kategorie entfernen\n",
    "# einmal Duales Studium (Festanstellung + Studium)\n",
    "# Freie Mitarbeit bedeutet Festanstellung"
   ]
  },
  {
   "cell_type": "code",
   "execution_count": 10,
   "id": "d221cbfe-3c2b-4e7b-bacc-639bc365a4b1",
   "metadata": {},
   "outputs": [
    {
     "data": {
      "text/plain": [
       "Feste Anstellung                     3230\n",
       "Befristeter Vertrag                   151\n",
       "Studentenjobs                         148\n",
       "Werkstudent                           148\n",
       "Praktikum                             129\n",
       "Berufseinstieg/Trainee                 56\n",
       "Ausbildung                             45\n",
       "Studium                                45\n",
       "Bachelor-/Master-/Diplom-Arbeiten      30\n",
       "Promotion/Habilitation                 14\n",
       "Arbeitnehmerüberlassung                 5\n",
       "Freie Mitarbeit/Projektmitarbeit        1\n",
       "dtype: int64"
      ]
     },
     "execution_count": 10,
     "metadata": {},
     "output_type": "execute_result"
    }
   ],
   "source": [
    "contracts = df[\"contract_type\"].str.replace(\", \", \",\").str.get_dummies(\",\")\n",
    "contracts.sum().sort_values(ascending=False)"
   ]
  },
  {
   "cell_type": "code",
   "execution_count": 11,
   "id": "023d1684-c5a5-4d82-957c-fcd85f96a5a7",
   "metadata": {},
   "outputs": [],
   "source": [
    "# später mit str.contains(\"a|b|c\") filtern"
   ]
  },
  {
   "cell_type": "code",
   "execution_count": 12,
   "id": "f3e8e5bb-90c3-4279-b1d7-c99d49740abc",
   "metadata": {},
   "outputs": [
    {
     "data": {
      "text/plain": [
       "Feste Anstellung             3231\n",
       "Befristeter Vertrag           151\n",
       "Studentenjobs/Werkstudent     148\n",
       "Praktikum                     129\n",
       "Berufseinstieg/Trainee         56\n",
       "Ausbildung/Studium             45\n",
       "Abschlussarbeit                30\n",
       "Promotion/Habilitation         14\n",
       "Arbeitnehmerüberlassung         5\n",
       "dtype: int64"
      ]
     },
     "execution_count": 12,
     "metadata": {},
     "output_type": "execute_result"
    }
   ],
   "source": [
    "def convert_contract(x):\n",
    "    x[\"contract_type\"] = x[\"contract_type\"].str.replace(\", Werkstudent\", \"/Werkstudent\")\n",
    "    x[\"contract_type\"] = x[\"contract_type\"].str.replace(\", Studium\", \"/Studium\")\n",
    "    x[\"contract_type\"] = x[\"contract_type\"].str.replace(\"Freie Mitarbeit/Projektmitarbeit\", \"Feste Anstellung\")\n",
    "    x[\"contract_type\"] = x[\"contract_type\"].str.replace(\"Bachelor-/Master-/Diplom-Arbeiten\", \"Abschlussarbeit\")\n",
    "    return x\n",
    "\n",
    "df = convert_contract(df)\n",
    "contracts = df[\"contract_type\"].str.replace(\", \", \",\").str.get_dummies(\",\")\n",
    "contracts.sum().sort_values(ascending=False)"
   ]
  },
  {
   "cell_type": "code",
   "execution_count": 13,
   "id": "d8375e83-b541-4a24-bf2b-6a26cecefe84",
   "metadata": {},
   "outputs": [
    {
     "data": {
      "text/plain": [
       "(3761, 23)"
      ]
     },
     "execution_count": 13,
     "metadata": {},
     "output_type": "execute_result"
    }
   ],
   "source": [
    "df = pd.concat([df, contracts], axis=1)\n",
    "df.shape"
   ]
  },
  {
   "cell_type": "code",
   "execution_count": 14,
   "id": "030678a6-4c97-4d6e-96b8-edec609d312f",
   "metadata": {},
   "outputs": [],
   "source": [
    "# wieviele Gehaltsangaben existieren für Jobs ohne Festanstellung?\n",
    "# Studentenjobs und Werkstudent sind gleich\n",
    "# Ausbildung und Studium sind gleich\n",
    "# die einzelnen Kategorien sind nicht exklusiv"
   ]
  },
  {
   "cell_type": "code",
   "execution_count": 15,
   "id": "d4650854-3292-4e94-b304-ff53fa279381",
   "metadata": {},
   "outputs": [
    {
     "data": {
      "text/plain": [
       "True     524\n",
       "False      6\n",
       "Name: salary, dtype: int64"
      ]
     },
     "execution_count": 15,
     "metadata": {},
     "output_type": "execute_result"
    }
   ],
   "source": [
    "df.loc[df[\"Feste Anstellung\"]==0, \"salary\"].isnull().value_counts()"
   ]
  },
  {
   "cell_type": "code",
   "execution_count": 16,
   "id": "c95809c2-d043-4caf-8ba6-7cba1cf5158b",
   "metadata": {},
   "outputs": [
    {
     "data": {
      "text/plain": [
       "Feste Anstellung                               3219\n",
       "Feste Anstellung, Berufseinstieg/Trainee          9\n",
       "Feste Anstellung, Ausbildung/Studium              1\n",
       "Arbeitnehmerüberlassung, Feste Anstellung         1\n",
       "Feste Anstellung, Studentenjobs/Werkstudent       1\n",
       "Name: contract_type, dtype: int64"
      ]
     },
     "execution_count": 16,
     "metadata": {},
     "output_type": "execute_result"
    }
   ],
   "source": [
    "df.loc[(contracts[\"Feste Anstellung\"] == 1), \"contract_type\"].value_counts()"
   ]
  },
  {
   "cell_type": "code",
   "execution_count": 17,
   "id": "f8367229-ba27-4efd-b8f2-9e6e4346e10f",
   "metadata": {},
   "outputs": [],
   "source": [
    "# für Jobs ohne contract_type Festanstellung existieren lediglich 6 Gehaltsprognosen für 530 Jobs\n",
    "# von daher macht es wenig Sinn in das spätere Modell auch andere Stelle außer mit Festanstellung miteinzubeziehen"
   ]
  },
  {
   "cell_type": "code",
   "execution_count": 18,
   "id": "570c2103-52b7-4571-9d6d-bb90f75f91e1",
   "metadata": {},
   "outputs": [
    {
     "data": {
      "text/plain": [
       "Feste Anstellung                               2104\n",
       "Feste Anstellung, Berufseinstieg/Trainee          6\n",
       "Arbeitnehmerüberlassung, Feste Anstellung         1\n",
       "Feste Anstellung, Studentenjobs/Werkstudent       1\n",
       "Name: contract_type, dtype: int64"
      ]
     },
     "execution_count": 18,
     "metadata": {},
     "output_type": "execute_result"
    }
   ],
   "source": [
    "df.loc[(df[\"Feste Anstellung\"] == 1) & (df[\"salary\"].notnull()), \"contract_type\"].value_counts()"
   ]
  },
  {
   "cell_type": "code",
   "execution_count": 19,
   "id": "ced6ba3c-cb23-43dd-bf7b-e8ab08995b14",
   "metadata": {},
   "outputs": [
    {
     "data": {
      "text/plain": [
       "(3231, 23)"
      ]
     },
     "execution_count": 19,
     "metadata": {},
     "output_type": "execute_result"
    }
   ],
   "source": [
    "df_model = df.loc[df[\"Feste Anstellung\"] == 1]\n",
    "df_model.shape"
   ]
  },
  {
   "cell_type": "code",
   "execution_count": null,
   "id": "38df275c-003e-4625-a9d6-db34502209f4",
   "metadata": {},
   "outputs": [],
   "source": []
  },
  {
   "cell_type": "markdown",
   "id": "cb4cf3d0-ec59-4044-836b-a41ca5234725",
   "metadata": {
    "jp-MarkdownHeadingCollapsed": true,
    "tags": []
   },
   "source": [
    "# Evaluate Work Type"
   ]
  },
  {
   "cell_type": "code",
   "execution_count": 20,
   "id": "c6809a47-70c1-4f13-bb59-51d1f42dac9b",
   "metadata": {},
   "outputs": [
    {
     "data": {
      "text/plain": [
       "Vollzeit                                   2084\n",
       "Vollzeit, Home Office möglich              1150\n",
       "Vollzeit, Teilzeit, Home Office möglich     214\n",
       "Vollzeit, Teilzeit                          174\n",
       "Teilzeit                                     99\n",
       "Teilzeit, Home Office möglich                40\n",
       "Name: work_type, dtype: int64"
      ]
     },
     "execution_count": 20,
     "metadata": {},
     "output_type": "execute_result"
    }
   ],
   "source": [
    "df[\"work_type\"].value_counts()"
   ]
  },
  {
   "cell_type": "code",
   "execution_count": 21,
   "id": "759333f5-0d77-4e5b-9d8a-e86ff73774ab",
   "metadata": {},
   "outputs": [
    {
     "data": {
      "text/plain": [
       "Vollzeit                                   220\n",
       "Teilzeit                                    89\n",
       "Vollzeit, Home Office möglich               72\n",
       "Vollzeit, Teilzeit                          68\n",
       "Vollzeit, Teilzeit, Home Office möglich     44\n",
       "Teilzeit, Home Office möglich               37\n",
       "Name: work_type, dtype: int64"
      ]
     },
     "execution_count": 21,
     "metadata": {},
     "output_type": "execute_result"
    }
   ],
   "source": [
    "df.loc[df[\"Feste Anstellung\"] == 0, \"work_type\"].value_counts()"
   ]
  },
  {
   "cell_type": "code",
   "execution_count": 22,
   "id": "5c1880aa-171b-4452-86d5-f5f49cdc2008",
   "metadata": {},
   "outputs": [],
   "source": [
    "# scheinbar keine Veränderung der Verteilung in Abhängigkeit vom Contract Type"
   ]
  },
  {
   "cell_type": "code",
   "execution_count": 23,
   "id": "2f8c47ef-32fb-48ed-91d9-75ac0758e4fa",
   "metadata": {},
   "outputs": [
    {
     "data": {
      "text/plain": [
       "work_type\n",
       "Vollzeit                                   1162\n",
       "Vollzeit, Home Office möglich               761\n",
       "Vollzeit, Teilzeit, Home Office möglich     122\n",
       "Vollzeit, Teilzeit                           71\n",
       "Teilzeit                                      2\n",
       "Teilzeit, Home Office möglich                 0\n",
       "Name: salary, dtype: int64"
      ]
     },
     "execution_count": 23,
     "metadata": {},
     "output_type": "execute_result"
    }
   ],
   "source": [
    "df.groupby(\"work_type\")[\"salary\"].apply(lambda x: x.notnull().sum()).sort_values(ascending=False)"
   ]
  },
  {
   "cell_type": "code",
   "execution_count": 24,
   "id": "9a70dba0-84f9-490c-8517-06092cb0bb05",
   "metadata": {},
   "outputs": [],
   "source": [
    "# für Teilzeit Jobs existieren kaum Gehaltsprognosen ==> nicht in das Modell mit einbeziehen\n",
    "# wirkt sich Homeoffice auf Gehalt aus?\n",
    "# ist Homeoffice abhängig vom Jobtyp, Unternehmen, Erfahrungslevel?"
   ]
  },
  {
   "cell_type": "code",
   "execution_count": 25,
   "id": "255098df-0106-443a-9b0d-3603a2bd7c45",
   "metadata": {},
   "outputs": [
    {
     "data": {
      "text/html": [
       "<div>\n",
       "<style scoped>\n",
       "    .dataframe tbody tr th:only-of-type {\n",
       "        vertical-align: middle;\n",
       "    }\n",
       "\n",
       "    .dataframe tbody tr th {\n",
       "        vertical-align: top;\n",
       "    }\n",
       "\n",
       "    .dataframe thead th {\n",
       "        text-align: right;\n",
       "    }\n",
       "</style>\n",
       "<table border=\"1\" class=\"dataframe\">\n",
       "  <thead>\n",
       "    <tr style=\"text-align: right;\">\n",
       "      <th></th>\n",
       "      <th>Home Office möglich</th>\n",
       "      <th>Teilzeit</th>\n",
       "      <th>Vollzeit</th>\n",
       "    </tr>\n",
       "  </thead>\n",
       "  <tbody>\n",
       "    <tr>\n",
       "      <th>0</th>\n",
       "      <td>1</td>\n",
       "      <td>0</td>\n",
       "      <td>1</td>\n",
       "    </tr>\n",
       "    <tr>\n",
       "      <th>1</th>\n",
       "      <td>1</td>\n",
       "      <td>0</td>\n",
       "      <td>1</td>\n",
       "    </tr>\n",
       "    <tr>\n",
       "      <th>2</th>\n",
       "      <td>1</td>\n",
       "      <td>0</td>\n",
       "      <td>1</td>\n",
       "    </tr>\n",
       "    <tr>\n",
       "      <th>3</th>\n",
       "      <td>1</td>\n",
       "      <td>0</td>\n",
       "      <td>1</td>\n",
       "    </tr>\n",
       "    <tr>\n",
       "      <th>4</th>\n",
       "      <td>0</td>\n",
       "      <td>1</td>\n",
       "      <td>0</td>\n",
       "    </tr>\n",
       "    <tr>\n",
       "      <th>...</th>\n",
       "      <td>...</td>\n",
       "      <td>...</td>\n",
       "      <td>...</td>\n",
       "    </tr>\n",
       "    <tr>\n",
       "      <th>3756</th>\n",
       "      <td>0</td>\n",
       "      <td>0</td>\n",
       "      <td>1</td>\n",
       "    </tr>\n",
       "    <tr>\n",
       "      <th>3757</th>\n",
       "      <td>1</td>\n",
       "      <td>0</td>\n",
       "      <td>1</td>\n",
       "    </tr>\n",
       "    <tr>\n",
       "      <th>3758</th>\n",
       "      <td>0</td>\n",
       "      <td>0</td>\n",
       "      <td>1</td>\n",
       "    </tr>\n",
       "    <tr>\n",
       "      <th>3759</th>\n",
       "      <td>0</td>\n",
       "      <td>0</td>\n",
       "      <td>1</td>\n",
       "    </tr>\n",
       "    <tr>\n",
       "      <th>3760</th>\n",
       "      <td>0</td>\n",
       "      <td>0</td>\n",
       "      <td>1</td>\n",
       "    </tr>\n",
       "  </tbody>\n",
       "</table>\n",
       "<p>3761 rows × 3 columns</p>\n",
       "</div>"
      ],
      "text/plain": [
       "      Home Office möglich  Teilzeit  Vollzeit\n",
       "0                       1         0         1\n",
       "1                       1         0         1\n",
       "2                       1         0         1\n",
       "3                       1         0         1\n",
       "4                       0         1         0\n",
       "...                   ...       ...       ...\n",
       "3756                    0         0         1\n",
       "3757                    1         0         1\n",
       "3758                    0         0         1\n",
       "3759                    0         0         1\n",
       "3760                    0         0         1\n",
       "\n",
       "[3761 rows x 3 columns]"
      ]
     },
     "execution_count": 25,
     "metadata": {},
     "output_type": "execute_result"
    }
   ],
   "source": [
    "work_types = df[\"work_type\"].str.replace(\", \", \",\").str.get_dummies(\",\")\n",
    "work_types"
   ]
  },
  {
   "cell_type": "code",
   "execution_count": 26,
   "id": "1b77b731-3aba-4ddb-881d-76285d9e0f48",
   "metadata": {},
   "outputs": [
    {
     "data": {
      "text/plain": [
       "(3761, 26)"
      ]
     },
     "execution_count": 26,
     "metadata": {},
     "output_type": "execute_result"
    }
   ],
   "source": [
    "df = pd.concat([df, work_types], axis=1)\n",
    "df.shape"
   ]
  },
  {
   "cell_type": "code",
   "execution_count": 27,
   "id": "e0993fab-6cdb-4cb4-9a74-9fb97212c506",
   "metadata": {},
   "outputs": [
    {
     "data": {
      "text/plain": [
       "Teilzeit\n",
       "0    0.594620\n",
       "1    0.370019\n",
       "Name: salary, dtype: float64"
      ]
     },
     "execution_count": 27,
     "metadata": {},
     "output_type": "execute_result"
    }
   ],
   "source": [
    "df.groupby(df[\"Teilzeit\"])[\"salary\"].apply(lambda x: x.notnull().sum() / len(x)).sort_values(ascending=False)"
   ]
  },
  {
   "cell_type": "code",
   "execution_count": 28,
   "id": "5f4c54af-7a19-4e8d-b0c5-2cedb7da3067",
   "metadata": {},
   "outputs": [
    {
     "data": {
      "text/plain": [
       "Home Office möglich\n",
       "1    0.628917\n",
       "0    0.523971\n",
       "Name: salary, dtype: float64"
      ]
     },
     "execution_count": 28,
     "metadata": {},
     "output_type": "execute_result"
    }
   ],
   "source": [
    "df.groupby(df[\"Home Office möglich\"])[\"salary\"].apply(lambda x: x.notnull().sum() / len(x)).sort_values(ascending=False)"
   ]
  },
  {
   "cell_type": "code",
   "execution_count": 29,
   "id": "7d7eed54-1c62-4a01-8683-7c52405e6f71",
   "metadata": {},
   "outputs": [
    {
     "data": {
      "text/plain": [
       "Teilzeit                         99\n",
       "Teilzeit, Home Office möglich    40\n",
       "Name: work_type, dtype: int64"
      ]
     },
     "execution_count": 29,
     "metadata": {},
     "output_type": "execute_result"
    }
   ],
   "source": [
    "df.loc[df[\"Vollzeit\"]==0, \"work_type\"].value_counts()"
   ]
  },
  {
   "cell_type": "code",
   "execution_count": 30,
   "id": "1b6ce36c-a5a6-417a-b359-94f519fdcbdb",
   "metadata": {},
   "outputs": [
    {
     "data": {
      "text/plain": [
       "(3218, 26)"
      ]
     },
     "execution_count": 30,
     "metadata": {},
     "output_type": "execute_result"
    }
   ],
   "source": [
    "df_model = df.loc[(df[\"Feste Anstellung\"] == 1) & (df[\"Vollzeit\"] == 1)]\n",
    "df_model.shape"
   ]
  },
  {
   "cell_type": "code",
   "execution_count": null,
   "id": "808dce00-0bbc-48db-a62f-6f92278af194",
   "metadata": {},
   "outputs": [],
   "source": []
  },
  {
   "cell_type": "code",
   "execution_count": null,
   "id": "f122ae0a-2f09-41a6-ab4c-de27b95176e7",
   "metadata": {},
   "outputs": [],
   "source": []
  },
  {
   "cell_type": "markdown",
   "id": "076e1415-c9da-4a06-b0d5-23c892571f6b",
   "metadata": {
    "jp-MarkdownHeadingCollapsed": true,
    "tags": []
   },
   "source": [
    "# Evaluate Salary"
   ]
  },
  {
   "cell_type": "code",
   "execution_count": 31,
   "id": "8759f729-570f-42b4-a13f-ae1006798fe3",
   "metadata": {},
   "outputs": [],
   "source": [
    "def convert_salary(x):\n",
    "    x[\"min_salary\"] = x[\"salary\"].str.split(\" \").str[0].str.replace(\".\", \"\", regex=False).astype(\"float\")\n",
    "    x[\"max_salary\"] = x[\"salary\"].str.split(\" \").str[2].str.replace(\".\", \"\", regex=False).astype(\"float\")\n",
    "    x[\"average_salary\"] = (x[\"min_salary\"] + x[\"max_salary\"]) / 2\n",
    "    x.drop(\"salary\", axis=1, inplace=True)\n",
    "    return x\n",
    "\n",
    "df = convert_salary(df)"
   ]
  },
  {
   "cell_type": "code",
   "execution_count": 32,
   "id": "c0ff132d-6089-4483-acb2-8b044c9d1a91",
   "metadata": {},
   "outputs": [
    {
     "data": {
      "text/plain": [
       "<AxesSubplot:xlabel='average_salary'>"
      ]
     },
     "execution_count": 32,
     "metadata": {},
     "output_type": "execute_result"
    },
    {
     "data": {
      "image/png": "[encoded data removed]",
      "text/plain": [
       "<Figure size 432x288 with 1 Axes>"
      ]
     },
     "metadata": {
      "needs_background": "light"
     },
     "output_type": "display_data"
    }
   ],
   "source": [
    "sns.boxplot(x=df[\"average_salary\"])"
   ]
  },
  {
   "cell_type": "code",
   "execution_count": 33,
   "id": "9195839c-f2d8-4a78-a92c-364aa816bf55",
   "metadata": {},
   "outputs": [],
   "source": [
    "# Ausreißer bei 0 muss auf jeden Fall entfernt werden\n",
    "# zum Trainieren des Modelles kann es sinnvoll sein, andere Ausreißer ebenfalls zu entfernen (könnten Ergebnisse verzerren)"
   ]
  },
  {
   "cell_type": "code",
   "execution_count": 34,
   "id": "0344d59e-561f-45bc-9a4f-73a491097fd6",
   "metadata": {},
   "outputs": [],
   "source": [
    "df.loc[df[\"average_salary\"]<25000, [\"min_salary\", \"max_salary\", \"average_salary\"]] = np.nan"
   ]
  },
  {
   "cell_type": "code",
   "execution_count": 35,
   "id": "4045149c-700e-41fd-870d-f76beff5cdca",
   "metadata": {},
   "outputs": [
    {
     "data": {
      "text/html": [
       "<div>\n",
       "<style scoped>\n",
       "    .dataframe tbody tr th:only-of-type {\n",
       "        vertical-align: middle;\n",
       "    }\n",
       "\n",
       "    .dataframe tbody tr th {\n",
       "        vertical-align: top;\n",
       "    }\n",
       "\n",
       "    .dataframe thead th {\n",
       "        text-align: right;\n",
       "    }\n",
       "</style>\n",
       "<table border=\"1\" class=\"dataframe\">\n",
       "  <thead>\n",
       "    <tr style=\"text-align: right;\">\n",
       "      <th></th>\n",
       "      <th>link</th>\n",
       "      <th>company</th>\n",
       "      <th>title</th>\n",
       "      <th>location</th>\n",
       "      <th>content</th>\n",
       "      <th>industry</th>\n",
       "      <th>rating</th>\n",
       "      <th>num_ratings</th>\n",
       "      <th>company_link</th>\n",
       "      <th>release_date</th>\n",
       "      <th>...</th>\n",
       "      <th>Feste Anstellung</th>\n",
       "      <th>Praktikum</th>\n",
       "      <th>Promotion/Habilitation</th>\n",
       "      <th>Studentenjobs/Werkstudent</th>\n",
       "      <th>Home Office möglich</th>\n",
       "      <th>Teilzeit</th>\n",
       "      <th>Vollzeit</th>\n",
       "      <th>min_salary</th>\n",
       "      <th>max_salary</th>\n",
       "      <th>average_salary</th>\n",
       "    </tr>\n",
       "  </thead>\n",
       "  <tbody>\n",
       "    <tr>\n",
       "      <th>1060</th>\n",
       "      <td>https://www.stepstone.de/stellenangebote--VP-G...</td>\n",
       "      <td>Evotec SE</td>\n",
       "      <td>VP Global Head Cellular Sciences (f/m/d)</td>\n",
       "      <td>Hamburg</td>\n",
       "      <td>Evotec is a life science company with a uniqu...</td>\n",
       "      <td>Pharmaindustrie</td>\n",
       "      <td>3.6</td>\n",
       "      <td>5 Bewertungen</td>\n",
       "      <td>NaN</td>\n",
       "      <td>2022-06-03</td>\n",
       "      <td>...</td>\n",
       "      <td>1</td>\n",
       "      <td>0</td>\n",
       "      <td>0</td>\n",
       "      <td>0</td>\n",
       "      <td>0</td>\n",
       "      <td>0</td>\n",
       "      <td>1</td>\n",
       "      <td>142000.0</td>\n",
       "      <td>174000.0</td>\n",
       "      <td>158000.0</td>\n",
       "    </tr>\n",
       "    <tr>\n",
       "      <th>3124</th>\n",
       "      <td>https://www.stepstone.de/stellenangebote--Supp...</td>\n",
       "      <td>Elmar Hertzog und Partner Management Consultan...</td>\n",
       "      <td>Supply Chain Strategy Director (f/m/d)</td>\n",
       "      <td>Berlin</td>\n",
       "      <td>Hertzog &amp; Partner was founded in 1978 and sinc...</td>\n",
       "      <td>NaN</td>\n",
       "      <td>NaN</td>\n",
       "      <td>NaN</td>\n",
       "      <td>NaN</td>\n",
       "      <td>2022-06-01</td>\n",
       "      <td>...</td>\n",
       "      <td>1</td>\n",
       "      <td>0</td>\n",
       "      <td>0</td>\n",
       "      <td>0</td>\n",
       "      <td>0</td>\n",
       "      <td>0</td>\n",
       "      <td>1</td>\n",
       "      <td>120000.0</td>\n",
       "      <td>180000.0</td>\n",
       "      <td>150000.0</td>\n",
       "    </tr>\n",
       "  </tbody>\n",
       "</table>\n",
       "<p>2 rows × 28 columns</p>\n",
       "</div>"
      ],
      "text/plain": [
       "                                                   link  \\\n",
       "1060  https://www.stepstone.de/stellenangebote--VP-G...   \n",
       "3124  https://www.stepstone.de/stellenangebote--Supp...   \n",
       "\n",
       "                                                company  \\\n",
       "1060                                          Evotec SE   \n",
       "3124  Elmar Hertzog und Partner Management Consultan...   \n",
       "\n",
       "                                         title location  \\\n",
       "1060  VP Global Head Cellular Sciences (f/m/d)  Hamburg   \n",
       "3124    Supply Chain Strategy Director (f/m/d)   Berlin   \n",
       "\n",
       "                                                content         industry  \\\n",
       "1060   Evotec is a life science company with a uniqu...  Pharmaindustrie   \n",
       "3124  Hertzog & Partner was founded in 1978 and sinc...              NaN   \n",
       "\n",
       "      rating    num_ratings company_link release_date  ... Feste Anstellung  \\\n",
       "1060     3.6  5 Bewertungen          NaN   2022-06-03  ...                1   \n",
       "3124     NaN            NaN          NaN   2022-06-01  ...                1   \n",
       "\n",
       "     Praktikum Promotion/Habilitation  Studentenjobs/Werkstudent  \\\n",
       "1060         0                      0                          0   \n",
       "3124         0                      0                          0   \n",
       "\n",
       "      Home Office möglich  Teilzeit  Vollzeit  min_salary  max_salary  \\\n",
       "1060                    0         0         1    142000.0    174000.0   \n",
       "3124                    0         0         1    120000.0    180000.0   \n",
       "\n",
       "      average_salary  \n",
       "1060        158000.0  \n",
       "3124        150000.0  \n",
       "\n",
       "[2 rows x 28 columns]"
      ]
     },
     "execution_count": 35,
     "metadata": {},
     "output_type": "execute_result"
    }
   ],
   "source": [
    "df.loc[df[\"average_salary\"]>120000]"
   ]
  },
  {
   "cell_type": "code",
   "execution_count": 36,
   "id": "b8ade412-b28a-4c1a-8d4c-95ac0f58ee89",
   "metadata": {},
   "outputs": [],
   "source": [
    "# gehört eigentlich zur EDA"
   ]
  },
  {
   "cell_type": "code",
   "execution_count": 37,
   "id": "c6f353e9-27b0-4f42-bf79-da0a349294d8",
   "metadata": {},
   "outputs": [
    {
     "ename": "KeyError",
     "evalue": "'title_cat'",
     "output_type": "error",
     "traceback": [
      "\u001b[1;31m---------------------------------------------------------------------------\u001b[0m",
      "\u001b[1;31mKeyError\u001b[0m                                  Traceback (most recent call last)",
      "Input \u001b[1;32mIn [37]\u001b[0m, in \u001b[0;36m<cell line: 1>\u001b[1;34m()\u001b[0m\n\u001b[1;32m----> 1\u001b[0m titles_grouped \u001b[38;5;241m=\u001b[39m \u001b[43mdf\u001b[49m\u001b[38;5;241;43m.\u001b[39;49m\u001b[43mgroupby\u001b[49m\u001b[43m(\u001b[49m\u001b[38;5;124;43m\"\u001b[39;49m\u001b[38;5;124;43mtitle_cat\u001b[39;49m\u001b[38;5;124;43m\"\u001b[39;49m\u001b[43m)\u001b[49m[\u001b[38;5;124m\"\u001b[39m\u001b[38;5;124maverage_salary\u001b[39m\u001b[38;5;124m\"\u001b[39m]\u001b[38;5;241m.\u001b[39magg([\u001b[38;5;124m\"\u001b[39m\u001b[38;5;124mmean\u001b[39m\u001b[38;5;124m\"\u001b[39m, \u001b[38;5;124m\"\u001b[39m\u001b[38;5;124mstd\u001b[39m\u001b[38;5;124m\"\u001b[39m, \u001b[38;5;124m\"\u001b[39m\u001b[38;5;124mcount\u001b[39m\u001b[38;5;124m\"\u001b[39m])\u001b[38;5;241m.\u001b[39msort_values(\u001b[38;5;124m\"\u001b[39m\u001b[38;5;124mmean\u001b[39m\u001b[38;5;124m\"\u001b[39m, ascending\u001b[38;5;241m=\u001b[39m\u001b[38;5;28;01mFalse\u001b[39;00m)\n\u001b[0;32m      2\u001b[0m \u001b[38;5;28;01mwith\u001b[39;00m pd\u001b[38;5;241m.\u001b[39moption_context(\u001b[38;5;124m'\u001b[39m\u001b[38;5;124mdisplay.precision\u001b[39m\u001b[38;5;124m'\u001b[39m, \u001b[38;5;241m0\u001b[39m):\n\u001b[0;32m      3\u001b[0m     \u001b[38;5;28mprint\u001b[39m(titles_grouped)\n",
      "File \u001b[1;32m~\\anaconda3\\envs\\jobsearch\\lib\\site-packages\\pandas\\core\\frame.py:7712\u001b[0m, in \u001b[0;36mDataFrame.groupby\u001b[1;34m(self, by, axis, level, as_index, sort, group_keys, squeeze, observed, dropna)\u001b[0m\n\u001b[0;32m   7707\u001b[0m axis \u001b[38;5;241m=\u001b[39m \u001b[38;5;28mself\u001b[39m\u001b[38;5;241m.\u001b[39m_get_axis_number(axis)\n\u001b[0;32m   7709\u001b[0m \u001b[38;5;66;03m# https://github.com/python/mypy/issues/7642\u001b[39;00m\n\u001b[0;32m   7710\u001b[0m \u001b[38;5;66;03m# error: Argument \"squeeze\" to \"DataFrameGroupBy\" has incompatible type\u001b[39;00m\n\u001b[0;32m   7711\u001b[0m \u001b[38;5;66;03m# \"Union[bool, NoDefault]\"; expected \"bool\"\u001b[39;00m\n\u001b[1;32m-> 7712\u001b[0m \u001b[38;5;28;01mreturn\u001b[39;00m \u001b[43mDataFrameGroupBy\u001b[49m\u001b[43m(\u001b[49m\n\u001b[0;32m   7713\u001b[0m \u001b[43m    \u001b[49m\u001b[43mobj\u001b[49m\u001b[38;5;241;43m=\u001b[39;49m\u001b[38;5;28;43mself\u001b[39;49m\u001b[43m,\u001b[49m\n\u001b[0;32m   7714\u001b[0m \u001b[43m    \u001b[49m\u001b[43mkeys\u001b[49m\u001b[38;5;241;43m=\u001b[39;49m\u001b[43mby\u001b[49m\u001b[43m,\u001b[49m\n\u001b[0;32m   7715\u001b[0m \u001b[43m    \u001b[49m\u001b[43maxis\u001b[49m\u001b[38;5;241;43m=\u001b[39;49m\u001b[43maxis\u001b[49m\u001b[43m,\u001b[49m\n\u001b[0;32m   7716\u001b[0m \u001b[43m    \u001b[49m\u001b[43mlevel\u001b[49m\u001b[38;5;241;43m=\u001b[39;49m\u001b[43mlevel\u001b[49m\u001b[43m,\u001b[49m\n\u001b[0;32m   7717\u001b[0m \u001b[43m    \u001b[49m\u001b[43mas_index\u001b[49m\u001b[38;5;241;43m=\u001b[39;49m\u001b[43mas_index\u001b[49m\u001b[43m,\u001b[49m\n\u001b[0;32m   7718\u001b[0m \u001b[43m    \u001b[49m\u001b[43msort\u001b[49m\u001b[38;5;241;43m=\u001b[39;49m\u001b[43msort\u001b[49m\u001b[43m,\u001b[49m\n\u001b[0;32m   7719\u001b[0m \u001b[43m    \u001b[49m\u001b[43mgroup_keys\u001b[49m\u001b[38;5;241;43m=\u001b[39;49m\u001b[43mgroup_keys\u001b[49m\u001b[43m,\u001b[49m\n\u001b[0;32m   7720\u001b[0m \u001b[43m    \u001b[49m\u001b[43msqueeze\u001b[49m\u001b[38;5;241;43m=\u001b[39;49m\u001b[43msqueeze\u001b[49m\u001b[43m,\u001b[49m\u001b[43m  \u001b[49m\u001b[38;5;66;43;03m# type: ignore[arg-type]\u001b[39;49;00m\n\u001b[0;32m   7721\u001b[0m \u001b[43m    \u001b[49m\u001b[43mobserved\u001b[49m\u001b[38;5;241;43m=\u001b[39;49m\u001b[43mobserved\u001b[49m\u001b[43m,\u001b[49m\n\u001b[0;32m   7722\u001b[0m \u001b[43m    \u001b[49m\u001b[43mdropna\u001b[49m\u001b[38;5;241;43m=\u001b[39;49m\u001b[43mdropna\u001b[49m\u001b[43m,\u001b[49m\n\u001b[0;32m   7723\u001b[0m \u001b[43m\u001b[49m\u001b[43m)\u001b[49m\n",
      "File \u001b[1;32m~\\anaconda3\\envs\\jobsearch\\lib\\site-packages\\pandas\\core\\groupby\\groupby.py:882\u001b[0m, in \u001b[0;36mGroupBy.__init__\u001b[1;34m(self, obj, keys, axis, level, grouper, exclusions, selection, as_index, sort, group_keys, squeeze, observed, mutated, dropna)\u001b[0m\n\u001b[0;32m    879\u001b[0m \u001b[38;5;28;01mif\u001b[39;00m grouper \u001b[38;5;129;01mis\u001b[39;00m \u001b[38;5;28;01mNone\u001b[39;00m:\n\u001b[0;32m    880\u001b[0m     \u001b[38;5;28;01mfrom\u001b[39;00m \u001b[38;5;21;01mpandas\u001b[39;00m\u001b[38;5;21;01m.\u001b[39;00m\u001b[38;5;21;01mcore\u001b[39;00m\u001b[38;5;21;01m.\u001b[39;00m\u001b[38;5;21;01mgroupby\u001b[39;00m\u001b[38;5;21;01m.\u001b[39;00m\u001b[38;5;21;01mgrouper\u001b[39;00m \u001b[38;5;28;01mimport\u001b[39;00m get_grouper\n\u001b[1;32m--> 882\u001b[0m     grouper, exclusions, obj \u001b[38;5;241m=\u001b[39m \u001b[43mget_grouper\u001b[49m\u001b[43m(\u001b[49m\n\u001b[0;32m    883\u001b[0m \u001b[43m        \u001b[49m\u001b[43mobj\u001b[49m\u001b[43m,\u001b[49m\n\u001b[0;32m    884\u001b[0m \u001b[43m        \u001b[49m\u001b[43mkeys\u001b[49m\u001b[43m,\u001b[49m\n\u001b[0;32m    885\u001b[0m \u001b[43m        \u001b[49m\u001b[43maxis\u001b[49m\u001b[38;5;241;43m=\u001b[39;49m\u001b[43maxis\u001b[49m\u001b[43m,\u001b[49m\n\u001b[0;32m    886\u001b[0m \u001b[43m        \u001b[49m\u001b[43mlevel\u001b[49m\u001b[38;5;241;43m=\u001b[39;49m\u001b[43mlevel\u001b[49m\u001b[43m,\u001b[49m\n\u001b[0;32m    887\u001b[0m \u001b[43m        \u001b[49m\u001b[43msort\u001b[49m\u001b[38;5;241;43m=\u001b[39;49m\u001b[43msort\u001b[49m\u001b[43m,\u001b[49m\n\u001b[0;32m    888\u001b[0m \u001b[43m        \u001b[49m\u001b[43mobserved\u001b[49m\u001b[38;5;241;43m=\u001b[39;49m\u001b[43mobserved\u001b[49m\u001b[43m,\u001b[49m\n\u001b[0;32m    889\u001b[0m \u001b[43m        \u001b[49m\u001b[43mmutated\u001b[49m\u001b[38;5;241;43m=\u001b[39;49m\u001b[38;5;28;43mself\u001b[39;49m\u001b[38;5;241;43m.\u001b[39;49m\u001b[43mmutated\u001b[49m\u001b[43m,\u001b[49m\n\u001b[0;32m    890\u001b[0m \u001b[43m        \u001b[49m\u001b[43mdropna\u001b[49m\u001b[38;5;241;43m=\u001b[39;49m\u001b[38;5;28;43mself\u001b[39;49m\u001b[38;5;241;43m.\u001b[39;49m\u001b[43mdropna\u001b[49m\u001b[43m,\u001b[49m\n\u001b[0;32m    891\u001b[0m \u001b[43m    \u001b[49m\u001b[43m)\u001b[49m\n\u001b[0;32m    893\u001b[0m \u001b[38;5;28mself\u001b[39m\u001b[38;5;241m.\u001b[39mobj \u001b[38;5;241m=\u001b[39m obj\n\u001b[0;32m    894\u001b[0m \u001b[38;5;28mself\u001b[39m\u001b[38;5;241m.\u001b[39maxis \u001b[38;5;241m=\u001b[39m obj\u001b[38;5;241m.\u001b[39m_get_axis_number(axis)\n",
      "File \u001b[1;32m~\\anaconda3\\envs\\jobsearch\\lib\\site-packages\\pandas\\core\\groupby\\grouper.py:882\u001b[0m, in \u001b[0;36mget_grouper\u001b[1;34m(obj, key, axis, level, sort, observed, mutated, validate, dropna)\u001b[0m\n\u001b[0;32m    880\u001b[0m         in_axis, level, gpr \u001b[38;5;241m=\u001b[39m \u001b[38;5;28;01mFalse\u001b[39;00m, gpr, \u001b[38;5;28;01mNone\u001b[39;00m\n\u001b[0;32m    881\u001b[0m     \u001b[38;5;28;01melse\u001b[39;00m:\n\u001b[1;32m--> 882\u001b[0m         \u001b[38;5;28;01mraise\u001b[39;00m \u001b[38;5;167;01mKeyError\u001b[39;00m(gpr)\n\u001b[0;32m    883\u001b[0m \u001b[38;5;28;01melif\u001b[39;00m \u001b[38;5;28misinstance\u001b[39m(gpr, Grouper) \u001b[38;5;129;01mand\u001b[39;00m gpr\u001b[38;5;241m.\u001b[39mkey \u001b[38;5;129;01mis\u001b[39;00m \u001b[38;5;129;01mnot\u001b[39;00m \u001b[38;5;28;01mNone\u001b[39;00m:\n\u001b[0;32m    884\u001b[0m     \u001b[38;5;66;03m# Add key to exclusions\u001b[39;00m\n\u001b[0;32m    885\u001b[0m     exclusions\u001b[38;5;241m.\u001b[39madd(gpr\u001b[38;5;241m.\u001b[39mkey)\n",
      "\u001b[1;31mKeyError\u001b[0m: 'title_cat'"
     ]
    }
   ],
   "source": [
    "titles_grouped = df.groupby(\"title_cat\")[\"average_salary\"].agg([\"mean\", \"std\", \"count\"]).sort_values(\"mean\", ascending=False)\n",
    "with pd.option_context('display.precision', 0):\n",
    "    print(titles_grouped)"
   ]
  },
  {
   "cell_type": "code",
   "execution_count": null,
   "id": "1860c2c9-d39a-4111-aa52-a43f13d24fea",
   "metadata": {},
   "outputs": [
    {
     "data": {
      "text/plain": [
       "<AxesSubplot:xlabel='title_cat', ylabel='mean'>"
      ]
     },
     "execution_count": 39,
     "metadata": {},
     "output_type": "execute_result"
    },
    {
     "data": {
      "image/png": "[encoded data removed]",
      "text/plain": [
       "<Figure size 1152x576 with 1 Axes>"
      ]
     },
     "metadata": {
      "needs_background": "light"
     },
     "output_type": "display_data"
    }
   ],
   "source": [
    "plt.figure(figsize=(16,8))\n",
    "sns.barplot(x=titles_grouped.index, y=titles_grouped[\"mean\"], palette=\"rainbow\")"
   ]
  },
  {
   "cell_type": "code",
   "execution_count": 41,
   "id": "afa036c3-6a3f-402b-845a-389c2cf10b60",
   "metadata": {},
   "outputs": [
    {
     "data": {
      "text/plain": [
       "<AxesSubplot:xlabel='title_cat', ylabel='average_salary'>"
      ]
     },
     "execution_count": 41,
     "metadata": {},
     "output_type": "execute_result"
    },
    {
     "data": {
      "image/png": "[encoded data removed]",
      "text/plain": [
       "<Figure size 1152x576 with 1 Axes>"
      ]
     },
     "metadata": {
      "needs_background": "light"
     },
     "output_type": "display_data"
    }
   ],
   "source": [
    "plt.figure(figsize=(16,8))\n",
    "sns.boxplot(data=df, x=\"title_cat\", y=\"average_salary\", order=titles_grouped.index, palette=\"rainbow\")"
   ]
  },
  {
   "cell_type": "code",
   "execution_count": 42,
   "id": "2d5f9020-bf39-45fe-829c-f74cc0741c38",
   "metadata": {},
   "outputs": [],
   "source": [
    "# Verteilung der Gehälter entspricht dem, was man erwarten kann\n",
    "# hohes Durchschnittsgehalt bei Data Scientists kann daran liegen, dass Research Scientist hier mit eingegliedert wurde\n",
    "# Manager und Other unterliegen der größten Varianz, da hier eine Menge unterschiedlicher Bezeichnungen einfließen\n",
    "# eventuell macht es Sinn für die Modellbildung die sehr hohen Managergehälter beim Training auszuschließen"
   ]
  },
  {
   "cell_type": "code",
   "execution_count": 45,
   "id": "8ada5161-8219-4f6b-aac0-0c4be8bafe17",
   "metadata": {},
   "outputs": [
    {
     "data": {
      "text/plain": [
       "<AxesSubplot:xlabel='title_cat', ylabel='average_salary'>"
      ]
     },
     "execution_count": 45,
     "metadata": {},
     "output_type": "execute_result"
    },
    {
     "data": {
      "image/png": "[encoded data removed]",
      "text/plain": [
       "<Figure size 1152x576 with 1 Axes>"
      ]
     },
     "metadata": {
      "needs_background": "light"
     },
     "output_type": "display_data"
    }
   ],
   "source": [
    "plt.figure(figsize=(16,8))\n",
    "sns.violinplot(data=df, x=\"title_cat\", y=\"average_salary\", order=titles_grouped.index, palette=\"rainbow\")"
   ]
  },
  {
   "cell_type": "code",
   "execution_count": 46,
   "id": "7d0c4cef-a926-433c-8d6c-6ba2ab05679e",
   "metadata": {},
   "outputs": [
    {
     "name": "stdout",
     "output_type": "stream",
     "text": [
      "             mean    std  count\n",
      "experience                     \n",
      "Senior      67566  11044    270\n",
      "Manager     67211  15096    527\n",
      "Mid-Level   60310  11087   1244\n",
      "Junior      50197   6200     74\n"
     ]
    }
   ],
   "source": [
    "titles_grouped = df.groupby(\"experience\")[\"average_salary\"].agg([\"mean\", \"std\", \"count\"]).sort_values(\"mean\", ascending=False)\n",
    "with pd.option_context('display.precision', 0):\n",
    "    print(titles_grouped)"
   ]
  },
  {
   "cell_type": "code",
   "execution_count": 47,
   "id": "b4e156fd-aa4b-4c39-957b-1901fbe7259f",
   "metadata": {},
   "outputs": [
    {
     "data": {
      "text/html": [
       "<div>\n",
       "<style scoped>\n",
       "    .dataframe tbody tr th:only-of-type {\n",
       "        vertical-align: middle;\n",
       "    }\n",
       "\n",
       "    .dataframe tbody tr th {\n",
       "        vertical-align: top;\n",
       "    }\n",
       "\n",
       "    .dataframe thead th {\n",
       "        text-align: right;\n",
       "    }\n",
       "</style>\n",
       "<table border=\"1\" class=\"dataframe\">\n",
       "  <thead>\n",
       "    <tr style=\"text-align: right;\">\n",
       "      <th></th>\n",
       "      <th>link</th>\n",
       "      <th>company</th>\n",
       "      <th>title</th>\n",
       "      <th>location</th>\n",
       "      <th>contract_type</th>\n",
       "      <th>work_type</th>\n",
       "      <th>content</th>\n",
       "      <th>industry</th>\n",
       "      <th>rating</th>\n",
       "      <th>num_ratings</th>\n",
       "      <th>company_link</th>\n",
       "      <th>release_date</th>\n",
       "      <th>company_size</th>\n",
       "      <th>title_cat</th>\n",
       "      <th>experience</th>\n",
       "      <th>min_salary</th>\n",
       "      <th>max_salary</th>\n",
       "      <th>average_salary</th>\n",
       "    </tr>\n",
       "  </thead>\n",
       "  <tbody>\n",
       "    <tr>\n",
       "      <th>5882</th>\n",
       "      <td>https://www.stepstone.de/stellenangebote--Sach...</td>\n",
       "      <td>SWT-AöR</td>\n",
       "      <td>Sachbearbeiter:in Prozessmanagement (m/w/d)</td>\n",
       "      <td>Trier</td>\n",
       "      <td>Feste Anstellung</td>\n",
       "      <td>Vollzeit</td>\n",
       "      <td>Für unsere Abteilung „Abrechnung/Marktprozesse...</td>\n",
       "      <td>NaN</td>\n",
       "      <td>NaN</td>\n",
       "      <td>NaN</td>\n",
       "      <td>NaN</td>\n",
       "      <td>2022-05-31</td>\n",
       "      <td>NaN</td>\n",
       "      <td>Manager</td>\n",
       "      <td>Manager</td>\n",
       "      <td>35000.0</td>\n",
       "      <td>44000.0</td>\n",
       "      <td>39500.0</td>\n",
       "    </tr>\n",
       "    <tr>\n",
       "      <th>6553</th>\n",
       "      <td>https://www.stepstone.de/stellenangebote--Cont...</td>\n",
       "      <td>STRATO Customer Service GmbH</td>\n",
       "      <td>Content Manager (m/w/d)</td>\n",
       "      <td>Berlin</td>\n",
       "      <td>Feste Anstellung</td>\n",
       "      <td>Vollzeit</td>\n",
       "      <td>Einleitung Die STRATO Customer Service GmbH er...</td>\n",
       "      <td>NaN</td>\n",
       "      <td>NaN</td>\n",
       "      <td>NaN</td>\n",
       "      <td>NaN</td>\n",
       "      <td>2022-06-02</td>\n",
       "      <td>NaN</td>\n",
       "      <td>Manager</td>\n",
       "      <td>Manager</td>\n",
       "      <td>26000.0</td>\n",
       "      <td>41000.0</td>\n",
       "      <td>33500.0</td>\n",
       "    </tr>\n",
       "    <tr>\n",
       "      <th>7653</th>\n",
       "      <td>https://www.stepstone.de/stellenangebote--Supp...</td>\n",
       "      <td>Robert Half</td>\n",
       "      <td>Support Specialist / Teamassistenz (w/m/d) Bew...</td>\n",
       "      <td>Deutschland</td>\n",
       "      <td>Feste Anstellung</td>\n",
       "      <td>Vollzeit</td>\n",
       "      <td>Support Specialist / Teamassistenz (w/m/d) Bew...</td>\n",
       "      <td>Personaldienstleistungen</td>\n",
       "      <td>3.9</td>\n",
       "      <td>728 Bewertungen</td>\n",
       "      <td>https://www.stepstone.de/cmp/de/Robert-Half-38...</td>\n",
       "      <td>2022-05-31</td>\n",
       "      <td>1001-2500</td>\n",
       "      <td>Manager</td>\n",
       "      <td>Manager</td>\n",
       "      <td>29000.0</td>\n",
       "      <td>34000.0</td>\n",
       "      <td>31500.0</td>\n",
       "    </tr>\n",
       "    <tr>\n",
       "      <th>7654</th>\n",
       "      <td>https://www.stepstone.de/stellenangebote--Supp...</td>\n",
       "      <td>Robert Half</td>\n",
       "      <td>Support Specialist / Teamassistenz (w/m/d) Ver...</td>\n",
       "      <td>Hamburg</td>\n",
       "      <td>Feste Anstellung</td>\n",
       "      <td>Vollzeit</td>\n",
       "      <td>Support Specialist / Teamassistenz (w/m/d) Ver...</td>\n",
       "      <td>Personaldienstleistungen</td>\n",
       "      <td>3.9</td>\n",
       "      <td>728 Bewertungen</td>\n",
       "      <td>https://www.stepstone.de/cmp/de/Robert-Half-38...</td>\n",
       "      <td>2022-05-31</td>\n",
       "      <td>1001-2500</td>\n",
       "      <td>Manager</td>\n",
       "      <td>Manager</td>\n",
       "      <td>33000.0</td>\n",
       "      <td>37000.0</td>\n",
       "      <td>35000.0</td>\n",
       "    </tr>\n",
       "    <tr>\n",
       "      <th>7686</th>\n",
       "      <td>https://www.stepstone.de/stellenangebote--Assi...</td>\n",
       "      <td>Condo Group GmbH</td>\n",
       "      <td>Assistenz (m/w/d) der Standortleitung / Vertri...</td>\n",
       "      <td>Köln</td>\n",
       "      <td>Feste Anstellung</td>\n",
       "      <td>Vollzeit</td>\n",
       "      <td>CONDO ist ein voll-digitalisierter Real Estate...</td>\n",
       "      <td>NaN</td>\n",
       "      <td>NaN</td>\n",
       "      <td>NaN</td>\n",
       "      <td>NaN</td>\n",
       "      <td>2022-05-20</td>\n",
       "      <td>NaN</td>\n",
       "      <td>Manager</td>\n",
       "      <td>Manager</td>\n",
       "      <td>32000.0</td>\n",
       "      <td>47000.0</td>\n",
       "      <td>39500.0</td>\n",
       "    </tr>\n",
       "  </tbody>\n",
       "</table>\n",
       "</div>"
      ],
      "text/plain": [
       "                                                   link  \\\n",
       "5882  https://www.stepstone.de/stellenangebote--Sach...   \n",
       "6553  https://www.stepstone.de/stellenangebote--Cont...   \n",
       "7653  https://www.stepstone.de/stellenangebote--Supp...   \n",
       "7654  https://www.stepstone.de/stellenangebote--Supp...   \n",
       "7686  https://www.stepstone.de/stellenangebote--Assi...   \n",
       "\n",
       "                           company  \\\n",
       "5882                       SWT-AöR   \n",
       "6553  STRATO Customer Service GmbH   \n",
       "7653                   Robert Half   \n",
       "7654                   Robert Half   \n",
       "7686              Condo Group GmbH   \n",
       "\n",
       "                                                  title     location  \\\n",
       "5882        Sachbearbeiter:in Prozessmanagement (m/w/d)        Trier   \n",
       "6553                            Content Manager (m/w/d)       Berlin   \n",
       "7653  Support Specialist / Teamassistenz (w/m/d) Bew...  Deutschland   \n",
       "7654  Support Specialist / Teamassistenz (w/m/d) Ver...      Hamburg   \n",
       "7686  Assistenz (m/w/d) der Standortleitung / Vertri...         Köln   \n",
       "\n",
       "         contract_type work_type  \\\n",
       "5882  Feste Anstellung  Vollzeit   \n",
       "6553  Feste Anstellung  Vollzeit   \n",
       "7653  Feste Anstellung  Vollzeit   \n",
       "7654  Feste Anstellung  Vollzeit   \n",
       "7686  Feste Anstellung  Vollzeit   \n",
       "\n",
       "                                                content  \\\n",
       "5882  Für unsere Abteilung „Abrechnung/Marktprozesse...   \n",
       "6553  Einleitung Die STRATO Customer Service GmbH er...   \n",
       "7653  Support Specialist / Teamassistenz (w/m/d) Bew...   \n",
       "7654  Support Specialist / Teamassistenz (w/m/d) Ver...   \n",
       "7686  CONDO ist ein voll-digitalisierter Real Estate...   \n",
       "\n",
       "                      industry  rating      num_ratings  \\\n",
       "5882                       NaN     NaN              NaN   \n",
       "6553                       NaN     NaN              NaN   \n",
       "7653  Personaldienstleistungen     3.9  728 Bewertungen   \n",
       "7654  Personaldienstleistungen     3.9  728 Bewertungen   \n",
       "7686                       NaN     NaN              NaN   \n",
       "\n",
       "                                           company_link release_date  \\\n",
       "5882                                                NaN   2022-05-31   \n",
       "6553                                                NaN   2022-06-02   \n",
       "7653  https://www.stepstone.de/cmp/de/Robert-Half-38...   2022-05-31   \n",
       "7654  https://www.stepstone.de/cmp/de/Robert-Half-38...   2022-05-31   \n",
       "7686                                                NaN   2022-05-20   \n",
       "\n",
       "     company_size title_cat experience  min_salary  max_salary  average_salary  \n",
       "5882          NaN   Manager    Manager     35000.0     44000.0         39500.0  \n",
       "6553          NaN   Manager    Manager     26000.0     41000.0         33500.0  \n",
       "7653    1001-2500   Manager    Manager     29000.0     34000.0         31500.0  \n",
       "7654    1001-2500   Manager    Manager     33000.0     37000.0         35000.0  \n",
       "7686          NaN   Manager    Manager     32000.0     47000.0         39500.0  "
      ]
     },
     "execution_count": 47,
     "metadata": {},
     "output_type": "execute_result"
    }
   ],
   "source": [
    "df.loc[(df[\"title_cat\"] == \"Manager\") & (df[\"average_salary\"]<40000)]"
   ]
  },
  {
   "cell_type": "code",
   "execution_count": 48,
   "id": "62d4e04e-6bad-4646-aae8-dd875baabee0",
   "metadata": {},
   "outputs": [],
   "source": [
    "# dass Manager im Schnitt nicht noch weiter vorne liegen, liegt daran, dass bei der obigen Zuordnung auch Assitenten des Managers\n",
    "# nicht von diesem zu unterscheiden waren ==> treiben den Schnitt nach unten\n",
    "# eine genauere Einteilung würde eine viele feinere Analyse erfordern, die sehr viel Zeit in Anspruch nehmen würde"
   ]
  },
  {
   "cell_type": "code",
   "execution_count": null,
   "id": "36c6f1e2-b570-456d-89fe-fa8695b89cfa",
   "metadata": {},
   "outputs": [],
   "source": []
  },
  {
   "cell_type": "code",
   "execution_count": null,
   "id": "bc0823c7-dcaf-483b-8da3-1356dcb7ac4a",
   "metadata": {},
   "outputs": [],
   "source": []
  },
  {
   "cell_type": "code",
   "execution_count": null,
   "id": "2f86675e-035c-486e-98e9-70e10aebb340",
   "metadata": {},
   "outputs": [],
   "source": []
  },
  {
   "cell_type": "code",
   "execution_count": null,
   "id": "9d14d205-9b56-4ebf-b3be-2cacca0238cf",
   "metadata": {},
   "outputs": [],
   "source": []
  },
  {
   "cell_type": "code",
   "execution_count": null,
   "id": "aebcf399-3a60-45f4-8d55-16f3cedf3692",
   "metadata": {},
   "outputs": [],
   "source": []
  },
  {
   "cell_type": "code",
   "execution_count": null,
   "id": "007ae1ae-7f15-4df3-9f38-91a8bdaff598",
   "metadata": {},
   "outputs": [],
   "source": []
  },
  {
   "cell_type": "code",
   "execution_count": null,
   "id": "27f8ddf3-d611-41fd-9893-0326a62bc5cd",
   "metadata": {},
   "outputs": [],
   "source": []
  },
  {
   "cell_type": "code",
   "execution_count": null,
   "id": "edf6fb9e-f24f-4913-a5e0-b30434f2c8b3",
   "metadata": {},
   "outputs": [],
   "source": []
  },
  {
   "cell_type": "markdown",
   "id": "e66155ef-04d3-4b05-bfb5-13bfbe41caef",
   "metadata": {
    "tags": []
   },
   "source": [
    "# Evaluate Job Title"
   ]
  },
  {
   "cell_type": "code",
   "execution_count": 7,
   "id": "e1e345a0-20f5-4781-8cf0-71a37948631c",
   "metadata": {},
   "outputs": [
    {
     "data": {
      "text/plain": [
       "Data Engineer (m/w/d)                                      22\n",
       "Data Scientist (m/w/d)                                     19\n",
       "Data Analyst (m/w/d)                                       17\n",
       "Data Engineer (w/m/d)                                       9\n",
       "DevOps Engineer (m/w/d)                                     7\n",
       "                                                           ..\n",
       "Automation Workflow Developer - Electron Microscopy         1\n",
       "Senior Data Engineer - Central DWH, Global Data (f/m/d)     1\n",
       "Junior Python Developer (m/f/d)                             1\n",
       "Actuarial Data Scientist (m/w/d)                            1\n",
       "Senior Analyst im Bereich Economic Intelligence (w/m/d)     1\n",
       "Name: title, Length: 3508, dtype: int64"
      ]
     },
     "execution_count": 7,
     "metadata": {},
     "output_type": "execute_result"
    }
   ],
   "source": [
    "df[\"title\"].value_counts()"
   ]
  },
  {
   "cell_type": "code",
   "execution_count": 8,
   "id": "2e69c893-1b4b-4b66-b47b-b28d2aba5564",
   "metadata": {},
   "outputs": [],
   "source": [
    "# es existieren sehr viele unterschiedliche Jobtitel ==> für weitere Analysen müssen diese zu Gruppen zusammengefasst werden"
   ]
  },
  {
   "cell_type": "code",
   "execution_count": 9,
   "id": "5137fd42-70cd-4763-bb60-d4d1ef13ec3d",
   "metadata": {},
   "outputs": [
    {
     "data": {
      "text/plain": [
       "'Analyst Data Science & Artificial Intelligence (m/w/d) | Manager (m/w/d) Data Science & Statistik | '"
      ]
     },
     "execution_count": 9,
     "metadata": {},
     "output_type": "execute_result"
    }
   ],
   "source": [
    "title_text = \" | \".join(df[\"title\"])\n",
    "title_text[:100]"
   ]
  },
  {
   "cell_type": "code",
   "execution_count": 10,
   "id": "fee303fd-3d2e-4396-9409-7eb01853f7d0",
   "metadata": {},
   "outputs": [
    {
     "data": {
      "text/plain": [
       "405"
      ]
     },
     "execution_count": 10,
     "metadata": {},
     "output_type": "execute_result"
    }
   ],
   "source": [
    "stop_eng = set(stopwords.words('english'))\n",
    "stop_ger = set(stopwords.words('german'))\n",
    "stop_all = stop_eng.union(stop_ger)\n",
    "len(stop_all)"
   ]
  },
  {
   "cell_type": "code",
   "execution_count": 11,
   "id": "5076d4a5-d382-4d39-951c-6bd08676590b",
   "metadata": {},
   "outputs": [
    {
     "data": {
      "text/html": [
       "<div>\n",
       "<style scoped>\n",
       "    .dataframe tbody tr th:only-of-type {\n",
       "        vertical-align: middle;\n",
       "    }\n",
       "\n",
       "    .dataframe tbody tr th {\n",
       "        vertical-align: top;\n",
       "    }\n",
       "\n",
       "    .dataframe thead th {\n",
       "        text-align: right;\n",
       "    }\n",
       "</style>\n",
       "<table border=\"1\" class=\"dataframe\">\n",
       "  <thead>\n",
       "    <tr style=\"text-align: right;\">\n",
       "      <th></th>\n",
       "      <th>keyword</th>\n",
       "      <th>count</th>\n",
       "    </tr>\n",
       "  </thead>\n",
       "  <tbody>\n",
       "    <tr>\n",
       "      <th>6042</th>\n",
       "      <td>data engineer</td>\n",
       "      <td>284</td>\n",
       "    </tr>\n",
       "    <tr>\n",
       "      <th>5787</th>\n",
       "      <td>data analyst</td>\n",
       "      <td>220</td>\n",
       "    </tr>\n",
       "    <tr>\n",
       "      <th>6393</th>\n",
       "      <td>data scientist</td>\n",
       "      <td>203</td>\n",
       "    </tr>\n",
       "    <tr>\n",
       "      <th>21854</th>\n",
       "      <td>senior consultant</td>\n",
       "      <td>151</td>\n",
       "    </tr>\n",
       "    <tr>\n",
       "      <th>21919</th>\n",
       "      <td>senior data</td>\n",
       "      <td>150</td>\n",
       "    </tr>\n",
       "    <tr>\n",
       "      <th>12227</th>\n",
       "      <td>im bereich</td>\n",
       "      <td>150</td>\n",
       "    </tr>\n",
       "    <tr>\n",
       "      <th>9009</th>\n",
       "      <td>engineer data</td>\n",
       "      <td>108</td>\n",
       "    </tr>\n",
       "    <tr>\n",
       "      <th>6336</th>\n",
       "      <td>data science</td>\n",
       "      <td>98</td>\n",
       "    </tr>\n",
       "    <tr>\n",
       "      <th>15426</th>\n",
       "      <td>machine learning</td>\n",
       "      <td>93</td>\n",
       "    </tr>\n",
       "    <tr>\n",
       "      <th>5900</th>\n",
       "      <td>data analytics</td>\n",
       "      <td>88</td>\n",
       "    </tr>\n",
       "    <tr>\n",
       "      <th>3944</th>\n",
       "      <td>business intelligence</td>\n",
       "      <td>82</td>\n",
       "    </tr>\n",
       "    <tr>\n",
       "      <th>22714</th>\n",
       "      <td>software engineer</td>\n",
       "      <td>76</td>\n",
       "    </tr>\n",
       "    <tr>\n",
       "      <th>21924</th>\n",
       "      <td>senior data engineer</td>\n",
       "      <td>64</td>\n",
       "    </tr>\n",
       "    <tr>\n",
       "      <th>1047</th>\n",
       "      <td>analyst data</td>\n",
       "      <td>63</td>\n",
       "    </tr>\n",
       "    <tr>\n",
       "      <th>22663</th>\n",
       "      <td>software developer</td>\n",
       "      <td>59</td>\n",
       "    </tr>\n",
       "    <tr>\n",
       "      <th>6070</th>\n",
       "      <td>data engineer data</td>\n",
       "      <td>58</td>\n",
       "    </tr>\n",
       "    <tr>\n",
       "      <th>3840</th>\n",
       "      <td>business analyst</td>\n",
       "      <td>57</td>\n",
       "    </tr>\n",
       "    <tr>\n",
       "      <th>19162</th>\n",
       "      <td>product owner</td>\n",
       "      <td>56</td>\n",
       "    </tr>\n",
       "    <tr>\n",
       "      <th>3664</th>\n",
       "      <td>big data</td>\n",
       "      <td>54</td>\n",
       "    </tr>\n",
       "    <tr>\n",
       "      <th>21930</th>\n",
       "      <td>senior data scientist</td>\n",
       "      <td>48</td>\n",
       "    </tr>\n",
       "    <tr>\n",
       "      <th>22028</th>\n",
       "      <td>senior manager</td>\n",
       "      <td>48</td>\n",
       "    </tr>\n",
       "    <tr>\n",
       "      <th>21887</th>\n",
       "      <td>senior consultant manager</td>\n",
       "      <td>47</td>\n",
       "    </tr>\n",
       "    <tr>\n",
       "      <th>5102</th>\n",
       "      <td>consultant manager</td>\n",
       "      <td>47</td>\n",
       "    </tr>\n",
       "    <tr>\n",
       "      <th>15823</th>\n",
       "      <td>manager data</td>\n",
       "      <td>45</td>\n",
       "    </tr>\n",
       "    <tr>\n",
       "      <th>9417</th>\n",
       "      <td>engineer senior</td>\n",
       "      <td>44</td>\n",
       "    </tr>\n",
       "    <tr>\n",
       "      <th>7524</th>\n",
       "      <td>devops engineer</td>\n",
       "      <td>41</td>\n",
       "    </tr>\n",
       "    <tr>\n",
       "      <th>23051</th>\n",
       "      <td>solution architect</td>\n",
       "      <td>40</td>\n",
       "    </tr>\n",
       "    <tr>\n",
       "      <th>783</th>\n",
       "      <td>all genders</td>\n",
       "      <td>40</td>\n",
       "    </tr>\n",
       "    <tr>\n",
       "      <th>8214</th>\n",
       "      <td>div senior</td>\n",
       "      <td>37</td>\n",
       "    </tr>\n",
       "    <tr>\n",
       "      <th>13835</th>\n",
       "      <td>it consultant</td>\n",
       "      <td>36</td>\n",
       "    </tr>\n",
       "    <tr>\n",
       "      <th>11087</th>\n",
       "      <td>full stack</td>\n",
       "      <td>35</td>\n",
       "    </tr>\n",
       "    <tr>\n",
       "      <th>9020</th>\n",
       "      <td>engineer data engineer</td>\n",
       "      <td>34</td>\n",
       "    </tr>\n",
       "    <tr>\n",
       "      <th>17013</th>\n",
       "      <td>mitarbeiter in</td>\n",
       "      <td>34</td>\n",
       "    </tr>\n",
       "    <tr>\n",
       "      <th>5817</th>\n",
       "      <td>data analyst data</td>\n",
       "      <td>34</td>\n",
       "    </tr>\n",
       "    <tr>\n",
       "      <th>14004</th>\n",
       "      <td>it security</td>\n",
       "      <td>33</td>\n",
       "    </tr>\n",
       "    <tr>\n",
       "      <th>10693</th>\n",
       "      <td>financial services</td>\n",
       "      <td>33</td>\n",
       "    </tr>\n",
       "    <tr>\n",
       "      <th>4921</th>\n",
       "      <td>consultant data</td>\n",
       "      <td>32</td>\n",
       "    </tr>\n",
       "    <tr>\n",
       "      <th>12588</th>\n",
       "      <td>in der</td>\n",
       "      <td>32</td>\n",
       "    </tr>\n",
       "    <tr>\n",
       "      <th>22777</th>\n",
       "      <td>software entwickler</td>\n",
       "      <td>32</td>\n",
       "    </tr>\n",
       "    <tr>\n",
       "      <th>14277</th>\n",
       "      <td>junior consultant</td>\n",
       "      <td>32</td>\n",
       "    </tr>\n",
       "    <tr>\n",
       "      <th>23938</th>\n",
       "      <td>supply chain</td>\n",
       "      <td>31</td>\n",
       "    </tr>\n",
       "    <tr>\n",
       "      <th>21300</th>\n",
       "      <td>scientist data</td>\n",
       "      <td>31</td>\n",
       "    </tr>\n",
       "    <tr>\n",
       "      <th>19132</th>\n",
       "      <td>product manager</td>\n",
       "      <td>30</td>\n",
       "    </tr>\n",
       "    <tr>\n",
       "      <th>331</th>\n",
       "      <td>account manager</td>\n",
       "      <td>29</td>\n",
       "    </tr>\n",
       "    <tr>\n",
       "      <th>6410</th>\n",
       "      <td>data scientist data</td>\n",
       "      <td>27</td>\n",
       "    </tr>\n",
       "    <tr>\n",
       "      <th>15009</th>\n",
       "      <td>learning engineer</td>\n",
       "      <td>27</td>\n",
       "    </tr>\n",
       "    <tr>\n",
       "      <th>11991</th>\n",
       "      <td>head of</td>\n",
       "      <td>27</td>\n",
       "    </tr>\n",
       "    <tr>\n",
       "      <th>19535</th>\n",
       "      <td>project manager</td>\n",
       "      <td>27</td>\n",
       "    </tr>\n",
       "    <tr>\n",
       "      <th>21920</th>\n",
       "      <td>senior data analyst</td>\n",
       "      <td>26</td>\n",
       "    </tr>\n",
       "    <tr>\n",
       "      <th>15446</th>\n",
       "      <td>machine learning engineer</td>\n",
       "      <td>26</td>\n",
       "    </tr>\n",
       "  </tbody>\n",
       "</table>\n",
       "</div>"
      ],
      "text/plain": [
       "                         keyword  count\n",
       "6042               data engineer    284\n",
       "5787                data analyst    220\n",
       "6393              data scientist    203\n",
       "21854          senior consultant    151\n",
       "21919                senior data    150\n",
       "12227                 im bereich    150\n",
       "9009               engineer data    108\n",
       "6336                data science     98\n",
       "15426           machine learning     93\n",
       "5900              data analytics     88\n",
       "3944       business intelligence     82\n",
       "22714          software engineer     76\n",
       "21924       senior data engineer     64\n",
       "1047                analyst data     63\n",
       "22663         software developer     59\n",
       "6070          data engineer data     58\n",
       "3840            business analyst     57\n",
       "19162              product owner     56\n",
       "3664                    big data     54\n",
       "21930      senior data scientist     48\n",
       "22028             senior manager     48\n",
       "21887  senior consultant manager     47\n",
       "5102          consultant manager     47\n",
       "15823               manager data     45\n",
       "9417             engineer senior     44\n",
       "7524             devops engineer     41\n",
       "23051         solution architect     40\n",
       "783                  all genders     40\n",
       "8214                  div senior     37\n",
       "13835              it consultant     36\n",
       "11087                 full stack     35\n",
       "9020      engineer data engineer     34\n",
       "17013             mitarbeiter in     34\n",
       "5817           data analyst data     34\n",
       "14004                it security     33\n",
       "10693         financial services     33\n",
       "4921             consultant data     32\n",
       "12588                     in der     32\n",
       "22777        software entwickler     32\n",
       "14277          junior consultant     32\n",
       "23938               supply chain     31\n",
       "21300             scientist data     31\n",
       "19132            product manager     30\n",
       "331              account manager     29\n",
       "6410         data scientist data     27\n",
       "15009          learning engineer     27\n",
       "11991                    head of     27\n",
       "19535            project manager     27\n",
       "21920        senior data analyst     26\n",
       "15446  machine learning engineer     26"
      ]
     },
     "execution_count": 11,
     "metadata": {},
     "output_type": "execute_result"
    }
   ],
   "source": [
    "# CountVectorizer erwatet eigentlich mehrere Beispiele\n",
    "l = []\n",
    "l.append(title_text)\n",
    "\n",
    "vectorizer = CountVectorizer(ngram_range=(2,3))\n",
    "vector = vectorizer.fit_transform(l)\n",
    "results = pd.DataFrame({\"keyword\": vectorizer.get_feature_names_out(), \"count\": vector.toarray().reshape(-1)})\n",
    "results = results.loc[~results[\"keyword\"].isin(stop_eng.union(stop_ger))]\n",
    "results.sort_values(\"count\", ascending=False).head(50)"
   ]
  },
  {
   "cell_type": "code",
   "execution_count": 12,
   "id": "7dfcf0d6-94cc-4ac1-bcd2-6ebb4082821d",
   "metadata": {},
   "outputs": [
    {
     "name": "stdout",
     "output_type": "stream",
     "text": [
      "3508\n"
     ]
    },
    {
     "data": {
      "text/plain": [
       "Manager                      954\n",
       "Others                       867\n",
       "Software Engineer            390\n",
       "Data Analyst                 387\n",
       "Data Science Consultant      373\n",
       "Machine Learning Engineer    316\n",
       "Data Engineer                265\n",
       "Data Scientist               209\n",
       "Name: title_cat, dtype: int64"
      ]
     },
     "execution_count": 12,
     "metadata": {},
     "output_type": "execute_result"
    }
   ],
   "source": [
    "def convert_title(x):\n",
    "    x[\"title_cat\"] = \"Others\"\n",
    "    x.loc[x[\"title\"].str.contains(\"Software|Developer|Entwickler\", case=False, regex=True), \"title_cat\"] = \"Software Engineer\"\n",
    "    x.loc[x[\"title\"].str.contains(\"Analyst|Business[- ]*Intelligence|Analytics\", case=False), \"title_cat\"] = \"Data Analyst\"\n",
    "    x.loc[x[\"title\"].str.contains(\"Data[- ]*Scientist|Data[- ]*Science|Research[- ]*Scientist|Research[- ]*Engineer\", case=False), \"title_cat\"] = \"Data Scientist\"\n",
    "    x.loc[x[\"title\"].str.contains(\"Data[- ]*Engineer|Data[- ]*Architekt|Data[- ]*Architect\", case=False, regex=True), \"title_cat\"] = \"Data Engineer\"\n",
    "    x.loc[x[\"title\"].str.contains(\"Machine[- ]*Learning|Deep[- ]*Learning|AI|KI|ML|DL|Artificial[- ]*Intelligence|Künstliche[- ]*Intelligenz|Modeling|Algorithm\", case=False), \"title_cat\"] = \"Machine Learning Engineer\"   \n",
    "    x.loc[x[\"title\"].str.contains(\"Consultant|Berater|Consulting\", case=False, regex=True), \"title_cat\"] = \"Data Science Consultant\"\n",
    "    x.loc[x[\"title\"].str.contains(\"Manager|Head|Lead|Leiter|Leitung|Vorstand|Chief|Management|Owner|Partner|Director\", case=False), \"title_cat\"] = \"Manager\" \n",
    "    return x\n",
    "\n",
    "df = convert_title(df)\n",
    "print(df[\"title\"].nunique())\n",
    "df[\"title_cat\"].value_counts()"
   ]
  },
  {
   "cell_type": "code",
   "execution_count": 44,
   "id": "d4b71f93-fca6-4346-b106-c7afe65f9e52",
   "metadata": {},
   "outputs": [],
   "source": [
    "# die Titel in den Jobbeschreibungen sind teilweise nicht exklusiv\n",
    "# ein Job kann nach der obigen Reihenfolge zunächst als Data Scientist eingestuft und später mit Machine Learning überschrieben werden"
   ]
  },
  {
   "cell_type": "code",
   "execution_count": 45,
   "id": "330b126d-77b1-46d5-a3de-d2220dd670cf",
   "metadata": {},
   "outputs": [
    {
     "data": {
      "text/html": [
       "<div>\n",
       "<style scoped>\n",
       "    .dataframe tbody tr th:only-of-type {\n",
       "        vertical-align: middle;\n",
       "    }\n",
       "\n",
       "    .dataframe tbody tr th {\n",
       "        vertical-align: top;\n",
       "    }\n",
       "\n",
       "    .dataframe thead th {\n",
       "        text-align: right;\n",
       "    }\n",
       "</style>\n",
       "<table border=\"1\" class=\"dataframe\">\n",
       "  <thead>\n",
       "    <tr style=\"text-align: right;\">\n",
       "      <th></th>\n",
       "      <th>keyword</th>\n",
       "      <th>count</th>\n",
       "    </tr>\n",
       "  </thead>\n",
       "  <tbody>\n",
       "    <tr>\n",
       "      <th>3039</th>\n",
       "      <td>im bereich</td>\n",
       "      <td>56</td>\n",
       "    </tr>\n",
       "    <tr>\n",
       "      <th>1634</th>\n",
       "      <td>devops engineer</td>\n",
       "      <td>29</td>\n",
       "    </tr>\n",
       "    <tr>\n",
       "      <th>5737</th>\n",
       "      <td>solution architect</td>\n",
       "      <td>29</td>\n",
       "    </tr>\n",
       "    <tr>\n",
       "      <th>4273</th>\n",
       "      <td>mitarbeiter in</td>\n",
       "      <td>28</td>\n",
       "    </tr>\n",
       "    <tr>\n",
       "      <th>6970</th>\n",
       "      <td>wissenschaftliche mitarbeiter</td>\n",
       "      <td>19</td>\n",
       "    </tr>\n",
       "    <tr>\n",
       "      <th>6971</th>\n",
       "      <td>wissenschaftliche mitarbeiter in</td>\n",
       "      <td>15</td>\n",
       "    </tr>\n",
       "    <tr>\n",
       "      <th>2084</th>\n",
       "      <td>engineer data</td>\n",
       "      <td>15</td>\n",
       "    </tr>\n",
       "    <tr>\n",
       "      <th>3186</th>\n",
       "      <td>in der</td>\n",
       "      <td>11</td>\n",
       "    </tr>\n",
       "    <tr>\n",
       "      <th>3615</th>\n",
       "      <td>it security</td>\n",
       "      <td>11</td>\n",
       "    </tr>\n",
       "    <tr>\n",
       "      <th>1908</th>\n",
       "      <td>duales studium</td>\n",
       "      <td>11</td>\n",
       "    </tr>\n",
       "    <tr>\n",
       "      <th>6139</th>\n",
       "      <td>system engineer</td>\n",
       "      <td>11</td>\n",
       "    </tr>\n",
       "    <tr>\n",
       "      <th>2728</th>\n",
       "      <td>für die</td>\n",
       "      <td>11</td>\n",
       "    </tr>\n",
       "    <tr>\n",
       "      <th>100</th>\n",
       "      <td>ab juli</td>\n",
       "      <td>9</td>\n",
       "    </tr>\n",
       "    <tr>\n",
       "      <th>3682</th>\n",
       "      <td>juli 2022</td>\n",
       "      <td>8</td>\n",
       "    </tr>\n",
       "    <tr>\n",
       "      <th>3233</th>\n",
       "      <td>in im</td>\n",
       "      <td>8</td>\n",
       "    </tr>\n",
       "    <tr>\n",
       "      <th>101</th>\n",
       "      <td>ab juli 2022</td>\n",
       "      <td>8</td>\n",
       "    </tr>\n",
       "    <tr>\n",
       "      <th>1429</th>\n",
       "      <td>data steward</td>\n",
       "      <td>8</td>\n",
       "    </tr>\n",
       "    <tr>\n",
       "      <th>4790</th>\n",
       "      <td>praktikant werkstudent</td>\n",
       "      <td>8</td>\n",
       "    </tr>\n",
       "    <tr>\n",
       "      <th>3644</th>\n",
       "      <td>it support</td>\n",
       "      <td>7</td>\n",
       "    </tr>\n",
       "    <tr>\n",
       "      <th>3638</th>\n",
       "      <td>it spezialist</td>\n",
       "      <td>7</td>\n",
       "    </tr>\n",
       "  </tbody>\n",
       "</table>\n",
       "</div>"
      ],
      "text/plain": [
       "                               keyword  count\n",
       "3039                        im bereich     56\n",
       "1634                   devops engineer     29\n",
       "5737                solution architect     29\n",
       "4273                    mitarbeiter in     28\n",
       "6970     wissenschaftliche mitarbeiter     19\n",
       "6971  wissenschaftliche mitarbeiter in     15\n",
       "2084                     engineer data     15\n",
       "3186                            in der     11\n",
       "3615                       it security     11\n",
       "1908                    duales studium     11\n",
       "6139                   system engineer     11\n",
       "2728                           für die     11\n",
       "100                            ab juli      9\n",
       "3682                         juli 2022      8\n",
       "3233                             in im      8\n",
       "101                       ab juli 2022      8\n",
       "1429                      data steward      8\n",
       "4790            praktikant werkstudent      8\n",
       "3644                        it support      7\n",
       "3638                     it spezialist      7"
      ]
     },
     "execution_count": 45,
     "metadata": {},
     "output_type": "execute_result"
    }
   ],
   "source": [
    "df_other = df.loc[df[\"title_cat\"]==\"Others\"]\n",
    "title_text = \" | \".join(df_other[\"title\"])\n",
    "l = []\n",
    "l.append(title_text)\n",
    "\n",
    "vectorizer = CountVectorizer(ngram_range=(2,3))\n",
    "vector = vectorizer.fit_transform(l)\n",
    "results = pd.DataFrame({\"keyword\": vectorizer.get_feature_names_out(), \"count\": vector.toarray().reshape(-1)})\n",
    "results = results.loc[~results[\"keyword\"].isin(stop_eng.union(stop_ger))]\n",
    "results.sort_values(\"count\", ascending=False).head(20)"
   ]
  },
  {
   "cell_type": "code",
   "execution_count": 207,
   "id": "a8e8864b-5ee4-4f36-8fcf-10fe407e3dfb",
   "metadata": {},
   "outputs": [],
   "source": [
    "# die restlichen Begriffe wie z.B. devops engineer wurden manuell inspiziert und als nicht weiter relevant empfunden"
   ]
  },
  {
   "cell_type": "code",
   "execution_count": 13,
   "id": "e4d183ef-7566-4e98-bffa-afe766df6f1d",
   "metadata": {},
   "outputs": [
    {
     "data": {
      "text/plain": [
       "Mid-Level    2223\n",
       "Manager       936\n",
       "Senior        490\n",
       "Junior        112\n",
       "Name: experience, dtype: int64"
      ]
     },
     "execution_count": 13,
     "metadata": {},
     "output_type": "execute_result"
    }
   ],
   "source": [
    "def extract_experience(x):\n",
    "    x[\"experience\"] = \"Mid-Level\"\n",
    "    x.loc[x[\"title\"].str.contains(\"Junior\", case=False), \"experience\"] = \"Junior\"\n",
    "    x.loc[x[\"title\"].str.contains(\"Senior\", case=False), \"experience\"] = \"Senior\"\n",
    "    x.loc[x[\"title\"].str.contains(\"Manager|Head|Lead|Leiter|Leitung|Vorstand|Chief|Management|Owner|Partner\", case=False, regex=True), \"experience\"] = \"Manager\"\n",
    "    return x\n",
    "\n",
    "df = extract_experience(df)\n",
    "df[\"experience\"].value_counts()"
   ]
  },
  {
   "cell_type": "code",
   "execution_count": null,
   "id": "c0357e95-6189-4356-9c49-d75394d541d6",
   "metadata": {},
   "outputs": [],
   "source": []
  },
  {
   "cell_type": "code",
   "execution_count": null,
   "id": "aa6b23be-9041-4871-a97c-951102d7309d",
   "metadata": {},
   "outputs": [],
   "source": []
  },
  {
   "cell_type": "markdown",
   "id": "504c4992-66e8-4249-8f4c-86cca595320a",
   "metadata": {
    "jp-MarkdownHeadingCollapsed": true,
    "tags": []
   },
   "source": [
    "# Evaluate Location"
   ]
  },
  {
   "cell_type": "code",
   "execution_count": 47,
   "id": "20a5cdda-b30c-4e7d-9ac7-3edd2a4f3911",
   "metadata": {},
   "outputs": [
    {
     "data": {
      "text/html": [
       "<div>\n",
       "<style scoped>\n",
       "    .dataframe tbody tr th:only-of-type {\n",
       "        vertical-align: middle;\n",
       "    }\n",
       "\n",
       "    .dataframe tbody tr th {\n",
       "        vertical-align: top;\n",
       "    }\n",
       "\n",
       "    .dataframe thead th {\n",
       "        text-align: right;\n",
       "    }\n",
       "</style>\n",
       "<table border=\"1\" class=\"dataframe\">\n",
       "  <thead>\n",
       "    <tr style=\"text-align: right;\">\n",
       "      <th></th>\n",
       "      <th>link</th>\n",
       "      <th>company</th>\n",
       "      <th>title</th>\n",
       "      <th>location</th>\n",
       "      <th>content</th>\n",
       "      <th>industry</th>\n",
       "      <th>rating</th>\n",
       "      <th>num_ratings</th>\n",
       "      <th>company_link</th>\n",
       "      <th>release_date</th>\n",
       "      <th>...</th>\n",
       "      <th>Promotion/Habilitation</th>\n",
       "      <th>Studentenjobs/Werkstudent</th>\n",
       "      <th>Home Office möglich</th>\n",
       "      <th>Teilzeit</th>\n",
       "      <th>Vollzeit</th>\n",
       "      <th>min_salary</th>\n",
       "      <th>max_salary</th>\n",
       "      <th>average_salary</th>\n",
       "      <th>title_cat</th>\n",
       "      <th>experience</th>\n",
       "    </tr>\n",
       "  </thead>\n",
       "  <tbody>\n",
       "    <tr>\n",
       "      <th>0</th>\n",
       "      <td>https://www.stepstone.de/stellenangebote--Anal...</td>\n",
       "      <td>BearingPoint GmbH</td>\n",
       "      <td>Analyst Data Science &amp; Artificial Intelligence...</td>\n",
       "      <td>Walldorf, Stuttgart, München, Leipzig, Hamburg...</td>\n",
       "      <td>Design your own career.Make your point @ Beari...</td>\n",
       "      <td>Unternehmensberatg., Wirtschaftsprüfg., Recht</td>\n",
       "      <td>3.9</td>\n",
       "      <td>312 Bewertungen</td>\n",
       "      <td>https://www.stepstone.de/cmp/de/BearingPoint-G...</td>\n",
       "      <td>2022-06-03</td>\n",
       "      <td>...</td>\n",
       "      <td>0</td>\n",
       "      <td>0</td>\n",
       "      <td>1</td>\n",
       "      <td>0</td>\n",
       "      <td>1</td>\n",
       "      <td>NaN</td>\n",
       "      <td>NaN</td>\n",
       "      <td>NaN</td>\n",
       "      <td>Machine Learning Engineer</td>\n",
       "      <td>Mid-Level</td>\n",
       "    </tr>\n",
       "    <tr>\n",
       "      <th>1</th>\n",
       "      <td>https://www.stepstone.de/stellenangebote--Mana...</td>\n",
       "      <td>BIG direkt gesund</td>\n",
       "      <td>Manager (m/w/d) Data Science &amp; Statistik</td>\n",
       "      <td>Berlin</td>\n",
       "      <td>Direkter geht Karriere nicht.Einstieg bei der ...</td>\n",
       "      <td>NaN</td>\n",
       "      <td>4.3</td>\n",
       "      <td>16 Bewertungen</td>\n",
       "      <td>NaN</td>\n",
       "      <td>2022-06-03</td>\n",
       "      <td>...</td>\n",
       "      <td>0</td>\n",
       "      <td>0</td>\n",
       "      <td>1</td>\n",
       "      <td>0</td>\n",
       "      <td>1</td>\n",
       "      <td>51000.0</td>\n",
       "      <td>68000.0</td>\n",
       "      <td>59500.0</td>\n",
       "      <td>Manager</td>\n",
       "      <td>Manager</td>\n",
       "    </tr>\n",
       "    <tr>\n",
       "      <th>2</th>\n",
       "      <td>https://www.stepstone.de/stellenangebote--Mana...</td>\n",
       "      <td>BIG direkt gesund</td>\n",
       "      <td>Manager (m/w/d) Data Science &amp; Statistik</td>\n",
       "      <td>Dortmund, Düsseldorf, Aachen</td>\n",
       "      <td>Direkter geht Karriere nicht.Einstieg bei der ...</td>\n",
       "      <td>NaN</td>\n",
       "      <td>4.3</td>\n",
       "      <td>16 Bewertungen</td>\n",
       "      <td>NaN</td>\n",
       "      <td>2022-06-03</td>\n",
       "      <td>...</td>\n",
       "      <td>0</td>\n",
       "      <td>0</td>\n",
       "      <td>1</td>\n",
       "      <td>0</td>\n",
       "      <td>1</td>\n",
       "      <td>51000.0</td>\n",
       "      <td>74000.0</td>\n",
       "      <td>62500.0</td>\n",
       "      <td>Manager</td>\n",
       "      <td>Manager</td>\n",
       "    </tr>\n",
       "    <tr>\n",
       "      <th>3</th>\n",
       "      <td>https://www.stepstone.de/stellenangebote--Data...</td>\n",
       "      <td>METRO Markets GmbH</td>\n",
       "      <td>Data Science Lead</td>\n",
       "      <td>Düsseldorf, Palma de Mallorca</td>\n",
       "      <td>We create the future of B2B commerce by giving...</td>\n",
       "      <td>IT &amp; Internet</td>\n",
       "      <td>NaN</td>\n",
       "      <td>NaN</td>\n",
       "      <td>NaN</td>\n",
       "      <td>2022-06-01</td>\n",
       "      <td>...</td>\n",
       "      <td>0</td>\n",
       "      <td>0</td>\n",
       "      <td>1</td>\n",
       "      <td>0</td>\n",
       "      <td>1</td>\n",
       "      <td>74000.0</td>\n",
       "      <td>98000.0</td>\n",
       "      <td>86000.0</td>\n",
       "      <td>Manager</td>\n",
       "      <td>Manager</td>\n",
       "    </tr>\n",
       "    <tr>\n",
       "      <th>4</th>\n",
       "      <td>https://www.stepstone.de/stellenangebote--Werk...</td>\n",
       "      <td>CHECK24</td>\n",
       "      <td>Werkstudent BI und Data Science Manager (m/w/d...</td>\n",
       "      <td>München</td>\n",
       "      <td>Bist Du bereit, etwas zu bewegen und neue, spa...</td>\n",
       "      <td>Finanzdienstleister|Versicherungen</td>\n",
       "      <td>4.5</td>\n",
       "      <td>179 Bewertungen</td>\n",
       "      <td>https://www.stepstone.de/cmp/de/CHECK24-112642...</td>\n",
       "      <td>2022-06-01</td>\n",
       "      <td>...</td>\n",
       "      <td>0</td>\n",
       "      <td>1</td>\n",
       "      <td>0</td>\n",
       "      <td>1</td>\n",
       "      <td>0</td>\n",
       "      <td>NaN</td>\n",
       "      <td>NaN</td>\n",
       "      <td>NaN</td>\n",
       "      <td>Manager</td>\n",
       "      <td>Manager</td>\n",
       "    </tr>\n",
       "  </tbody>\n",
       "</table>\n",
       "<p>5 rows × 30 columns</p>\n",
       "</div>"
      ],
      "text/plain": [
       "                                                link             company  \\\n",
       "0  https://www.stepstone.de/stellenangebote--Anal...   BearingPoint GmbH   \n",
       "1  https://www.stepstone.de/stellenangebote--Mana...   BIG direkt gesund   \n",
       "2  https://www.stepstone.de/stellenangebote--Mana...   BIG direkt gesund   \n",
       "3  https://www.stepstone.de/stellenangebote--Data...  METRO Markets GmbH   \n",
       "4  https://www.stepstone.de/stellenangebote--Werk...             CHECK24   \n",
       "\n",
       "                                               title  \\\n",
       "0  Analyst Data Science & Artificial Intelligence...   \n",
       "1           Manager (m/w/d) Data Science & Statistik   \n",
       "2           Manager (m/w/d) Data Science & Statistik   \n",
       "3                                  Data Science Lead   \n",
       "4  Werkstudent BI und Data Science Manager (m/w/d...   \n",
       "\n",
       "                                            location  \\\n",
       "0  Walldorf, Stuttgart, München, Leipzig, Hamburg...   \n",
       "1                                             Berlin   \n",
       "2                       Dortmund, Düsseldorf, Aachen   \n",
       "3                      Düsseldorf, Palma de Mallorca   \n",
       "4                                            München   \n",
       "\n",
       "                                             content  \\\n",
       "0  Design your own career.Make your point @ Beari...   \n",
       "1  Direkter geht Karriere nicht.Einstieg bei der ...   \n",
       "2  Direkter geht Karriere nicht.Einstieg bei der ...   \n",
       "3  We create the future of B2B commerce by giving...   \n",
       "4  Bist Du bereit, etwas zu bewegen und neue, spa...   \n",
       "\n",
       "                                        industry  rating      num_ratings  \\\n",
       "0  Unternehmensberatg., Wirtschaftsprüfg., Recht     3.9  312 Bewertungen   \n",
       "1                                            NaN     4.3   16 Bewertungen   \n",
       "2                                            NaN     4.3   16 Bewertungen   \n",
       "3                                  IT & Internet     NaN              NaN   \n",
       "4             Finanzdienstleister|Versicherungen     4.5  179 Bewertungen   \n",
       "\n",
       "                                        company_link release_date  ...  \\\n",
       "0  https://www.stepstone.de/cmp/de/BearingPoint-G...   2022-06-03  ...   \n",
       "1                                                NaN   2022-06-03  ...   \n",
       "2                                                NaN   2022-06-03  ...   \n",
       "3                                                NaN   2022-06-01  ...   \n",
       "4  https://www.stepstone.de/cmp/de/CHECK24-112642...   2022-06-01  ...   \n",
       "\n",
       "  Promotion/Habilitation Studentenjobs/Werkstudent Home Office möglich  \\\n",
       "0                      0                         0                   1   \n",
       "1                      0                         0                   1   \n",
       "2                      0                         0                   1   \n",
       "3                      0                         0                   1   \n",
       "4                      0                         1                   0   \n",
       "\n",
       "   Teilzeit  Vollzeit  min_salary  max_salary  average_salary  \\\n",
       "0         0         1         NaN         NaN             NaN   \n",
       "1         0         1     51000.0     68000.0         59500.0   \n",
       "2         0         1     51000.0     74000.0         62500.0   \n",
       "3         0         1     74000.0     98000.0         86000.0   \n",
       "4         1         0         NaN         NaN             NaN   \n",
       "\n",
       "                   title_cat  experience  \n",
       "0  Machine Learning Engineer   Mid-Level  \n",
       "1                    Manager     Manager  \n",
       "2                    Manager     Manager  \n",
       "3                    Manager     Manager  \n",
       "4                    Manager     Manager  \n",
       "\n",
       "[5 rows x 30 columns]"
      ]
     },
     "execution_count": 47,
     "metadata": {},
     "output_type": "execute_result"
    }
   ],
   "source": [
    "df.head()"
   ]
  },
  {
   "cell_type": "code",
   "execution_count": 48,
   "id": "28473006-730d-436c-87a1-734e4700b8d4",
   "metadata": {},
   "outputs": [],
   "source": [
    "# wird bei mehreren Standorten kein Gehalt vorhergesagt?"
   ]
  },
  {
   "cell_type": "code",
   "execution_count": 49,
   "id": "bfc3e925-d338-41aa-bb56-0be19419537d",
   "metadata": {},
   "outputs": [
    {
     "data": {
      "text/plain": [
       "München                                                                                  291\n",
       "Berlin                                                                                   280\n",
       "Hamburg                                                                                  178\n",
       "Stuttgart                                                                                178\n",
       "Düsseldorf                                                                               104\n",
       "                                                                                        ... \n",
       "Dortmund, Berlin, Hamburg, Köln, Düsseldorf, Paderborn                                     1\n",
       "Verden (Aller)                                                                             1\n",
       "Berlin, Bonn, Hamburg, Frankfurt am Main, Leipzig, München, Nürnberg, Stuttgart, Wien      1\n",
       "Kirchheim bei München, Berlin, Leipzig, Köln                                               1\n",
       "Boenen                                                                                     1\n",
       "Name: location, Length: 1149, dtype: int64"
      ]
     },
     "execution_count": 49,
     "metadata": {},
     "output_type": "execute_result"
    }
   ],
   "source": [
    "df[\"location\"].value_counts()"
   ]
  },
  {
   "cell_type": "code",
   "execution_count": 50,
   "id": "1b441bcb-eb09-4248-a1cb-cb90749cc3b3",
   "metadata": {},
   "outputs": [
    {
     "data": {
      "text/plain": [
       "1     2733\n",
       "2      260\n",
       "3      152\n",
       "6      129\n",
       "4       96\n",
       "10      86\n",
       "5       83\n",
       "7       75\n",
       "8       65\n",
       "9       55\n",
       "11      26\n",
       "12       1\n",
       "Name: location, dtype: int64"
      ]
     },
     "execution_count": 50,
     "metadata": {},
     "output_type": "execute_result"
    }
   ],
   "source": [
    "num_locations = df[\"location\"].str.split(\",\").str.len()\n",
    "num_locations.value_counts()"
   ]
  },
  {
   "cell_type": "code",
   "execution_count": 51,
   "id": "36426723-7532-40ce-a81e-fc19cea9ff1a",
   "metadata": {},
   "outputs": [],
   "source": [
    "# Feature erst nach dem Cleaning hinzufügen"
   ]
  },
  {
   "cell_type": "code",
   "execution_count": 52,
   "id": "b51a06f9-52ee-47e4-976c-b75b5b431c7a",
   "metadata": {},
   "outputs": [],
   "source": [
    "# später in die EDA verschieben"
   ]
  },
  {
   "cell_type": "code",
   "execution_count": 53,
   "id": "f3dddf5a-4bc1-413d-afc4-26e439cf2300",
   "metadata": {},
   "outputs": [
    {
     "data": {
      "text/html": [
       "<div>\n",
       "<style scoped>\n",
       "    .dataframe tbody tr th:only-of-type {\n",
       "        vertical-align: middle;\n",
       "    }\n",
       "\n",
       "    .dataframe tbody tr th {\n",
       "        vertical-align: top;\n",
       "    }\n",
       "\n",
       "    .dataframe thead th {\n",
       "        text-align: right;\n",
       "    }\n",
       "</style>\n",
       "<table border=\"1\" class=\"dataframe\">\n",
       "  <thead>\n",
       "    <tr style=\"text-align: right;\">\n",
       "      <th></th>\n",
       "      <th>&lt;lambda_0&gt;</th>\n",
       "      <th>count</th>\n",
       "    </tr>\n",
       "    <tr>\n",
       "      <th>location</th>\n",
       "      <th></th>\n",
       "      <th></th>\n",
       "    </tr>\n",
       "  </thead>\n",
       "  <tbody>\n",
       "    <tr>\n",
       "      <th>1</th>\n",
       "      <td>0.449323</td>\n",
       "      <td>1505</td>\n",
       "    </tr>\n",
       "    <tr>\n",
       "      <th>2</th>\n",
       "      <td>0.373077</td>\n",
       "      <td>163</td>\n",
       "    </tr>\n",
       "    <tr>\n",
       "      <th>3</th>\n",
       "      <td>0.342105</td>\n",
       "      <td>100</td>\n",
       "    </tr>\n",
       "    <tr>\n",
       "      <th>4</th>\n",
       "      <td>0.489583</td>\n",
       "      <td>49</td>\n",
       "    </tr>\n",
       "    <tr>\n",
       "      <th>5</th>\n",
       "      <td>0.493976</td>\n",
       "      <td>42</td>\n",
       "    </tr>\n",
       "    <tr>\n",
       "      <th>6</th>\n",
       "      <td>0.441860</td>\n",
       "      <td>72</td>\n",
       "    </tr>\n",
       "    <tr>\n",
       "      <th>7</th>\n",
       "      <td>0.266667</td>\n",
       "      <td>55</td>\n",
       "    </tr>\n",
       "    <tr>\n",
       "      <th>8</th>\n",
       "      <td>0.723077</td>\n",
       "      <td>18</td>\n",
       "    </tr>\n",
       "    <tr>\n",
       "      <th>9</th>\n",
       "      <td>0.309091</td>\n",
       "      <td>38</td>\n",
       "    </tr>\n",
       "    <tr>\n",
       "      <th>10</th>\n",
       "      <td>0.302326</td>\n",
       "      <td>60</td>\n",
       "    </tr>\n",
       "    <tr>\n",
       "      <th>11</th>\n",
       "      <td>0.538462</td>\n",
       "      <td>12</td>\n",
       "    </tr>\n",
       "    <tr>\n",
       "      <th>12</th>\n",
       "      <td>0.000000</td>\n",
       "      <td>1</td>\n",
       "    </tr>\n",
       "  </tbody>\n",
       "</table>\n",
       "</div>"
      ],
      "text/plain": [
       "          <lambda_0>  count\n",
       "location                   \n",
       "1           0.449323   1505\n",
       "2           0.373077    163\n",
       "3           0.342105    100\n",
       "4           0.489583     49\n",
       "5           0.493976     42\n",
       "6           0.441860     72\n",
       "7           0.266667     55\n",
       "8           0.723077     18\n",
       "9           0.309091     38\n",
       "10          0.302326     60\n",
       "11          0.538462     12\n",
       "12          0.000000      1"
      ]
     },
     "execution_count": 53,
     "metadata": {},
     "output_type": "execute_result"
    }
   ],
   "source": [
    "df.groupby(num_locations)[\"average_salary\"].agg([lambda x: x.isnull().sum()/len(x), \"count\"]).sort_index()"
   ]
  },
  {
   "cell_type": "code",
   "execution_count": 54,
   "id": "30d2f465-d298-403d-a0c9-37650a826cbe",
   "metadata": {},
   "outputs": [
    {
     "data": {
      "text/html": [
       "<div>\n",
       "<style scoped>\n",
       "    .dataframe tbody tr th:only-of-type {\n",
       "        vertical-align: middle;\n",
       "    }\n",
       "\n",
       "    .dataframe tbody tr th {\n",
       "        vertical-align: top;\n",
       "    }\n",
       "\n",
       "    .dataframe thead th {\n",
       "        text-align: right;\n",
       "    }\n",
       "</style>\n",
       "<table border=\"1\" class=\"dataframe\">\n",
       "  <thead>\n",
       "    <tr style=\"text-align: right;\">\n",
       "      <th></th>\n",
       "      <th>&lt;lambda_0&gt;</th>\n",
       "      <th>count</th>\n",
       "    </tr>\n",
       "    <tr>\n",
       "      <th>location</th>\n",
       "      <th></th>\n",
       "      <th></th>\n",
       "    </tr>\n",
       "  </thead>\n",
       "  <tbody>\n",
       "    <tr>\n",
       "      <th>False</th>\n",
       "      <td>0.449323</td>\n",
       "      <td>1505</td>\n",
       "    </tr>\n",
       "    <tr>\n",
       "      <th>True</th>\n",
       "      <td>0.406615</td>\n",
       "      <td>610</td>\n",
       "    </tr>\n",
       "  </tbody>\n",
       "</table>\n",
       "</div>"
      ],
      "text/plain": [
       "          <lambda_0>  count\n",
       "location                   \n",
       "False       0.449323   1505\n",
       "True        0.406615    610"
      ]
     },
     "execution_count": 54,
     "metadata": {},
     "output_type": "execute_result"
    }
   ],
   "source": [
    "df.groupby(num_locations>1)[\"average_salary\"].agg([lambda x: x.isnull().sum()/len(x), \"count\"]).sort_index()"
   ]
  },
  {
   "cell_type": "code",
   "execution_count": 55,
   "id": "1b66be02-4570-4594-8002-050a420c61ad",
   "metadata": {},
   "outputs": [],
   "source": [
    "# für Visualisierungszwecke kann ein Beispiel pro Standort angelegt werden\n",
    "# Karte voll nicht die Anzahl der Jobs, sondern deren Verteilung darstellen"
   ]
  },
  {
   "cell_type": "code",
   "execution_count": 56,
   "id": "7a8095a0-4dfc-4c7c-918f-76cee87da778",
   "metadata": {},
   "outputs": [
    {
     "name": "stderr",
     "output_type": "stream",
     "text": [
      "C:\\Users\\joach\\AppData\\Local\\Temp\\ipykernel_11040\\1330462000.py:21: UserWarning: This pattern is interpreted as a regular expression, and has match groups. To actually get the groups, use str.extract.\n",
      "  locations = locations.where(locations.str.contains(\"^(Bad|Sankt|Palma|New|Den|Schwäbisch|Lindau) \", regex=True), locations.str.split(\" \")).explode()\n"
     ]
    },
    {
     "data": {
      "text/plain": [
       "3761"
      ]
     },
     "execution_count": 56,
     "metadata": {},
     "output_type": "execute_result"
    }
   ],
   "source": [
    "# die folgende Funktion extrahiert die einzelnen Städtenamen mittels Regulärer Ausdrücke\n",
    "# die letzten Regel sind relativ individuell auf die verwendeten Daten abgestimmt\n",
    "# ==> müssten für neue Daten eventuell nochmal überarbeitet werden\n",
    "\n",
    "def extract_locations(x):\n",
    "    locations = df[\"location\"].str.split(\", ?\").explode()\n",
    "    locations = locations.str.split(\" ?/ ?\").explode()\n",
    "    locations = locations.str.split(\" oder \").explode()\n",
    "    locations = locations.str.split(\" und \").explode()\n",
    "    locations = locations.str.split(\" - \").explode()\n",
    "    locations = locations.str.split(\"; \").explode()\n",
    "    locations = locations.str.split(\" ?\\+ ?\").explode()\n",
    "    locations = locations.replace(\"^Raum \", \"\", regex=True)\n",
    "    locations = locations.str.replace(\" \\(?(bei|b.|an|am|a.|ob|in|im|vor|v.|\\+|%|u.a.|Raum)[)\\w\\d .]+\", \"\", regex=True)\n",
    "    locations = locations.str.replace(\"[ \\w-]*(Home|Office|Mobile|Remote|Bundes|Deutschland|Wahl|Standort|DACH|keine Angabe)[( \\w-]*\", \"bundesweit\", case=False, regex=True)\n",
    "    locations = locations.str.replace(\" ?(a\\.M\\.|Main|M\\.|...und weitere|Gutenbergquartier)$\", \"\", regex=True)\n",
    "    locations = locations.str.replace(\"(MBTI|bei|\\d{5}|Metropolregion|Fürstentum|Großraum|u.a.|100%) ?\", \"\", regex=True)\n",
    "    locations = locations.str.replace(\"St.\", \"Sankt\", regex=False)\n",
    "    locations = locations.str.replace(\".\", \"\", regex=False)\n",
    "    locations = locations.str.split(\" \\(\").explode()\n",
    "    locations = locations.where(locations.str.contains(\"^(Bad|Sankt|Palma|New|Den|Schwäbisch|Lindau) \", regex=True), locations.str.split(\" \")).explode()\n",
    "    locations = locations.str.strip(\"[ )]\")\n",
    "    return locations\n",
    "\n",
    "locs = extract_locations(df)\n",
    "df_long = pd.merge(df, locs, left_index=True, right_index=True, how=\"left\")\n",
    "df_long = df_long.loc[df_long[\"location_y\"] != \"\"]\n",
    "df_long.index.nunique()"
   ]
  },
  {
   "cell_type": "code",
   "execution_count": 57,
   "id": "8f118e55-ae89-4e6c-8356-04c684ffb613",
   "metadata": {},
   "outputs": [],
   "source": [
    "# für die EDA pro Standort einen Eintrag verwenden\n",
    "# für das Modell eine Kategorie für Unternehmen mit mehreren Standorten verwenden\n",
    "# Hauptsitz des Unternehmens zusätzlich als Feature nutzen"
   ]
  },
  {
   "cell_type": "markdown",
   "id": "6566c655-fb9c-4dff-b53f-f86d5d5002df",
   "metadata": {
    "tags": []
   },
   "source": [
    "## Extract additional information for each location"
   ]
  },
  {
   "cell_type": "code",
   "execution_count": 58,
   "id": "7dcfd3dc-25b6-471f-a77a-f2faf6308c03",
   "metadata": {},
   "outputs": [
    {
     "data": {
      "text/html": [
       "<div>\n",
       "<style scoped>\n",
       "    .dataframe tbody tr th:only-of-type {\n",
       "        vertical-align: middle;\n",
       "    }\n",
       "\n",
       "    .dataframe tbody tr th {\n",
       "        vertical-align: top;\n",
       "    }\n",
       "\n",
       "    .dataframe thead th {\n",
       "        text-align: right;\n",
       "    }\n",
       "</style>\n",
       "<table border=\"1\" class=\"dataframe\">\n",
       "  <thead>\n",
       "    <tr style=\"text-align: right;\">\n",
       "      <th></th>\n",
       "      <th>latitude</th>\n",
       "      <th>longitude</th>\n",
       "      <th>type</th>\n",
       "      <th>name</th>\n",
       "      <th>number</th>\n",
       "      <th>postal_code</th>\n",
       "      <th>street</th>\n",
       "      <th>confidence</th>\n",
       "      <th>region</th>\n",
       "      <th>region_code</th>\n",
       "      <th>...</th>\n",
       "      <th>locality</th>\n",
       "      <th>administrative_area</th>\n",
       "      <th>neighbourhood</th>\n",
       "      <th>country</th>\n",
       "      <th>country_code</th>\n",
       "      <th>continent</th>\n",
       "      <th>label</th>\n",
       "      <th>location</th>\n",
       "      <th>keyword</th>\n",
       "      <th>count</th>\n",
       "    </tr>\n",
       "  </thead>\n",
       "  <tbody>\n",
       "    <tr>\n",
       "      <th>0</th>\n",
       "      <td>49.307822</td>\n",
       "      <td>8.641450</td>\n",
       "      <td>locality</td>\n",
       "      <td>Walldorf</td>\n",
       "      <td>NaN</td>\n",
       "      <td>NaN</td>\n",
       "      <td>NaN</td>\n",
       "      <td>1.0</td>\n",
       "      <td>Baden-Württemberg</td>\n",
       "      <td>BW</td>\n",
       "      <td>...</td>\n",
       "      <td>Walldorf</td>\n",
       "      <td>Walldorf</td>\n",
       "      <td>NaN</td>\n",
       "      <td>Germany</td>\n",
       "      <td>DEU</td>\n",
       "      <td>Europe</td>\n",
       "      <td>Walldorf, BW, Germany</td>\n",
       "      <td>Walldorf</td>\n",
       "      <td>NaN</td>\n",
       "      <td>NaN</td>\n",
       "    </tr>\n",
       "    <tr>\n",
       "      <th>1</th>\n",
       "      <td>48.706310</td>\n",
       "      <td>9.119240</td>\n",
       "      <td>locality</td>\n",
       "      <td>Stuttgart</td>\n",
       "      <td>NaN</td>\n",
       "      <td>NaN</td>\n",
       "      <td>NaN</td>\n",
       "      <td>1.0</td>\n",
       "      <td>Baden-Württemberg</td>\n",
       "      <td>BW</td>\n",
       "      <td>...</td>\n",
       "      <td>Stuttgart</td>\n",
       "      <td>Leinfelden-Echterdingen</td>\n",
       "      <td>NaN</td>\n",
       "      <td>Germany</td>\n",
       "      <td>DEU</td>\n",
       "      <td>Europe</td>\n",
       "      <td>Stuttgart, BW, Germany</td>\n",
       "      <td>Stuttgart</td>\n",
       "      <td>NaN</td>\n",
       "      <td>NaN</td>\n",
       "    </tr>\n",
       "    <tr>\n",
       "      <th>2</th>\n",
       "      <td>48.152126</td>\n",
       "      <td>11.544467</td>\n",
       "      <td>locality</td>\n",
       "      <td>Munich</td>\n",
       "      <td>NaN</td>\n",
       "      <td>NaN</td>\n",
       "      <td>NaN</td>\n",
       "      <td>1.0</td>\n",
       "      <td>Bavaria</td>\n",
       "      <td>BY</td>\n",
       "      <td>...</td>\n",
       "      <td>Munich</td>\n",
       "      <td>München</td>\n",
       "      <td>NaN</td>\n",
       "      <td>Germany</td>\n",
       "      <td>DEU</td>\n",
       "      <td>Europe</td>\n",
       "      <td>Munich, BY, Germany</td>\n",
       "      <td>München</td>\n",
       "      <td>NaN</td>\n",
       "      <td>NaN</td>\n",
       "    </tr>\n",
       "    <tr>\n",
       "      <th>3</th>\n",
       "      <td>51.341053</td>\n",
       "      <td>12.404024</td>\n",
       "      <td>locality</td>\n",
       "      <td>Leipzig</td>\n",
       "      <td>NaN</td>\n",
       "      <td>NaN</td>\n",
       "      <td>NaN</td>\n",
       "      <td>1.0</td>\n",
       "      <td>Saxony</td>\n",
       "      <td>SN</td>\n",
       "      <td>...</td>\n",
       "      <td>Leipzig</td>\n",
       "      <td>Leipzig</td>\n",
       "      <td>NaN</td>\n",
       "      <td>Germany</td>\n",
       "      <td>DEU</td>\n",
       "      <td>Europe</td>\n",
       "      <td>Leipzig, SN, Germany</td>\n",
       "      <td>Leipzig</td>\n",
       "      <td>NaN</td>\n",
       "      <td>NaN</td>\n",
       "    </tr>\n",
       "    <tr>\n",
       "      <th>4</th>\n",
       "      <td>53.576158</td>\n",
       "      <td>10.007046</td>\n",
       "      <td>locality</td>\n",
       "      <td>Hamburg</td>\n",
       "      <td>NaN</td>\n",
       "      <td>NaN</td>\n",
       "      <td>NaN</td>\n",
       "      <td>1.0</td>\n",
       "      <td>Hamburg</td>\n",
       "      <td>HH</td>\n",
       "      <td>...</td>\n",
       "      <td>Hamburg</td>\n",
       "      <td>Hamburg</td>\n",
       "      <td>NaN</td>\n",
       "      <td>Germany</td>\n",
       "      <td>DEU</td>\n",
       "      <td>Europe</td>\n",
       "      <td>Hamburg, Germany</td>\n",
       "      <td>Hamburg</td>\n",
       "      <td>NaN</td>\n",
       "      <td>NaN</td>\n",
       "    </tr>\n",
       "  </tbody>\n",
       "</table>\n",
       "<p>5 rows × 21 columns</p>\n",
       "</div>"
      ],
      "text/plain": [
       "    latitude  longitude      type       name number  postal_code street  \\\n",
       "0  49.307822   8.641450  locality   Walldorf    NaN          NaN    NaN   \n",
       "1  48.706310   9.119240  locality  Stuttgart    NaN          NaN    NaN   \n",
       "2  48.152126  11.544467  locality     Munich    NaN          NaN    NaN   \n",
       "3  51.341053  12.404024  locality    Leipzig    NaN          NaN    NaN   \n",
       "4  53.576158  10.007046  locality    Hamburg    NaN          NaN    NaN   \n",
       "\n",
       "   confidence             region region_code  ...   locality  \\\n",
       "0         1.0  Baden-Württemberg          BW  ...   Walldorf   \n",
       "1         1.0  Baden-Württemberg          BW  ...  Stuttgart   \n",
       "2         1.0            Bavaria          BY  ...     Munich   \n",
       "3         1.0             Saxony          SN  ...    Leipzig   \n",
       "4         1.0            Hamburg          HH  ...    Hamburg   \n",
       "\n",
       "       administrative_area neighbourhood  country country_code continent  \\\n",
       "0                 Walldorf           NaN  Germany          DEU    Europe   \n",
       "1  Leinfelden-Echterdingen           NaN  Germany          DEU    Europe   \n",
       "2                  München           NaN  Germany          DEU    Europe   \n",
       "3                  Leipzig           NaN  Germany          DEU    Europe   \n",
       "4                  Hamburg           NaN  Germany          DEU    Europe   \n",
       "\n",
       "                    label   location keyword  count  \n",
       "0   Walldorf, BW, Germany   Walldorf     NaN    NaN  \n",
       "1  Stuttgart, BW, Germany  Stuttgart     NaN    NaN  \n",
       "2     Munich, BY, Germany    München     NaN    NaN  \n",
       "3    Leipzig, SN, Germany    Leipzig     NaN    NaN  \n",
       "4        Hamburg, Germany    Hamburg     NaN    NaN  \n",
       "\n",
       "[5 rows x 21 columns]"
      ]
     },
     "execution_count": 58,
     "metadata": {},
     "output_type": "execute_result"
    }
   ],
   "source": [
    "geo_data = pd.read_csv(\"data2/geo_data.csv\", index_col=0)\n",
    "geo_data.head()"
   ]
  },
  {
   "cell_type": "code",
   "execution_count": 59,
   "id": "da8109ae-37ec-456f-913f-6111062d4c85",
   "metadata": {},
   "outputs": [
    {
     "data": {
      "text/html": [
       "<div>\n",
       "<style scoped>\n",
       "    .dataframe tbody tr th:only-of-type {\n",
       "        vertical-align: middle;\n",
       "    }\n",
       "\n",
       "    .dataframe tbody tr th {\n",
       "        vertical-align: top;\n",
       "    }\n",
       "\n",
       "    .dataframe thead th {\n",
       "        text-align: right;\n",
       "    }\n",
       "</style>\n",
       "<table border=\"1\" class=\"dataframe\">\n",
       "  <thead>\n",
       "    <tr style=\"text-align: right;\">\n",
       "      <th></th>\n",
       "      <th>latitude</th>\n",
       "      <th>longitude</th>\n",
       "      <th>type</th>\n",
       "      <th>name</th>\n",
       "      <th>number</th>\n",
       "      <th>postal_code</th>\n",
       "      <th>street</th>\n",
       "      <th>confidence</th>\n",
       "      <th>region</th>\n",
       "      <th>region_code</th>\n",
       "      <th>...</th>\n",
       "      <th>locality</th>\n",
       "      <th>administrative_area</th>\n",
       "      <th>neighbourhood</th>\n",
       "      <th>country</th>\n",
       "      <th>country_code</th>\n",
       "      <th>continent</th>\n",
       "      <th>label</th>\n",
       "      <th>location</th>\n",
       "      <th>keyword</th>\n",
       "      <th>count</th>\n",
       "    </tr>\n",
       "  </thead>\n",
       "  <tbody>\n",
       "    <tr>\n",
       "      <th>119</th>\n",
       "      <td>54.073601</td>\n",
       "      <td>10.772152</td>\n",
       "      <td>venue</td>\n",
       "      <td>London</td>\n",
       "      <td>NaN</td>\n",
       "      <td>NaN</td>\n",
       "      <td>NaN</td>\n",
       "      <td>1.0</td>\n",
       "      <td>Schleswig-Holstein</td>\n",
       "      <td>SH</td>\n",
       "      <td>...</td>\n",
       "      <td>Sierksdorf</td>\n",
       "      <td>Ostholstein-Mitte</td>\n",
       "      <td>NaN</td>\n",
       "      <td>Germany</td>\n",
       "      <td>DEU</td>\n",
       "      <td>Europe</td>\n",
       "      <td>London, Sierksdorf, SH, Germany</td>\n",
       "      <td>London</td>\n",
       "      <td>NaN</td>\n",
       "      <td>NaN</td>\n",
       "    </tr>\n",
       "  </tbody>\n",
       "</table>\n",
       "<p>1 rows × 21 columns</p>\n",
       "</div>"
      ],
      "text/plain": [
       "      latitude  longitude   type    name number  postal_code street  \\\n",
       "119  54.073601  10.772152  venue  London    NaN          NaN    NaN   \n",
       "\n",
       "     confidence              region region_code  ...    locality  \\\n",
       "119         1.0  Schleswig-Holstein          SH  ...  Sierksdorf   \n",
       "\n",
       "    administrative_area neighbourhood  country country_code continent  \\\n",
       "119   Ostholstein-Mitte           NaN  Germany          DEU    Europe   \n",
       "\n",
       "                               label location keyword  count  \n",
       "119  London, Sierksdorf, SH, Germany   London     NaN    NaN  \n",
       "\n",
       "[1 rows x 21 columns]"
      ]
     },
     "execution_count": 59,
     "metadata": {},
     "output_type": "execute_result"
    }
   ],
   "source": [
    "geo_data.loc[geo_data[\"location\"]==\"London\"]"
   ]
  },
  {
   "cell_type": "code",
   "execution_count": 60,
   "id": "5bc80a48-551a-4236-8c5e-c4e83e3b4292",
   "metadata": {},
   "outputs": [],
   "source": [
    "# kann man bei der API angeben, dass nur Orte gefiltert werden sollen"
   ]
  },
  {
   "cell_type": "code",
   "execution_count": 61,
   "id": "0ef8d23a-2771-4add-b6c9-9f817847c9c4",
   "metadata": {},
   "outputs": [
    {
     "data": {
      "text/html": [
       "<div>\n",
       "<style scoped>\n",
       "    .dataframe tbody tr th:only-of-type {\n",
       "        vertical-align: middle;\n",
       "    }\n",
       "\n",
       "    .dataframe tbody tr th {\n",
       "        vertical-align: top;\n",
       "    }\n",
       "\n",
       "    .dataframe thead th {\n",
       "        text-align: right;\n",
       "    }\n",
       "</style>\n",
       "<table border=\"1\" class=\"dataframe\">\n",
       "  <thead>\n",
       "    <tr style=\"text-align: right;\">\n",
       "      <th></th>\n",
       "      <th>latitude</th>\n",
       "      <th>longitude</th>\n",
       "      <th>name</th>\n",
       "      <th>confidence</th>\n",
       "      <th>region</th>\n",
       "      <th>county</th>\n",
       "      <th>administrative_area</th>\n",
       "      <th>location</th>\n",
       "    </tr>\n",
       "  </thead>\n",
       "  <tbody>\n",
       "    <tr>\n",
       "      <th>0</th>\n",
       "      <td>49.307822</td>\n",
       "      <td>8.641450</td>\n",
       "      <td>Walldorf</td>\n",
       "      <td>1.0</td>\n",
       "      <td>Baden-Württemberg</td>\n",
       "      <td>Rhein-Neckar-Kreis</td>\n",
       "      <td>Walldorf</td>\n",
       "      <td>Walldorf</td>\n",
       "    </tr>\n",
       "    <tr>\n",
       "      <th>1</th>\n",
       "      <td>48.706310</td>\n",
       "      <td>9.119240</td>\n",
       "      <td>Stuttgart</td>\n",
       "      <td>1.0</td>\n",
       "      <td>Baden-Württemberg</td>\n",
       "      <td>Esslingen</td>\n",
       "      <td>Leinfelden-Echterdingen</td>\n",
       "      <td>Stuttgart</td>\n",
       "    </tr>\n",
       "    <tr>\n",
       "      <th>2</th>\n",
       "      <td>48.152126</td>\n",
       "      <td>11.544467</td>\n",
       "      <td>Munich</td>\n",
       "      <td>1.0</td>\n",
       "      <td>Bavaria</td>\n",
       "      <td>Munich</td>\n",
       "      <td>München</td>\n",
       "      <td>München</td>\n",
       "    </tr>\n",
       "    <tr>\n",
       "      <th>3</th>\n",
       "      <td>51.341053</td>\n",
       "      <td>12.404024</td>\n",
       "      <td>Leipzig</td>\n",
       "      <td>1.0</td>\n",
       "      <td>Saxony</td>\n",
       "      <td>Leipzig</td>\n",
       "      <td>Leipzig</td>\n",
       "      <td>Leipzig</td>\n",
       "    </tr>\n",
       "    <tr>\n",
       "      <th>4</th>\n",
       "      <td>53.576158</td>\n",
       "      <td>10.007046</td>\n",
       "      <td>Hamburg</td>\n",
       "      <td>1.0</td>\n",
       "      <td>Hamburg</td>\n",
       "      <td>Hamburg</td>\n",
       "      <td>Hamburg</td>\n",
       "      <td>Hamburg</td>\n",
       "    </tr>\n",
       "    <tr>\n",
       "      <th>...</th>\n",
       "      <td>...</td>\n",
       "      <td>...</td>\n",
       "      <td>...</td>\n",
       "      <td>...</td>\n",
       "      <td>...</td>\n",
       "      <td>...</td>\n",
       "      <td>...</td>\n",
       "      <td>...</td>\n",
       "    </tr>\n",
       "    <tr>\n",
       "      <th>483</th>\n",
       "      <td>48.147440</td>\n",
       "      <td>8.546390</td>\n",
       "      <td>Horgen</td>\n",
       "      <td>0.6</td>\n",
       "      <td>Baden-Württemberg</td>\n",
       "      <td>Rottweil</td>\n",
       "      <td>Rottweil</td>\n",
       "      <td>Horgen</td>\n",
       "    </tr>\n",
       "    <tr>\n",
       "      <th>484</th>\n",
       "      <td>50.723299</td>\n",
       "      <td>10.889006</td>\n",
       "      <td>Martinroda</td>\n",
       "      <td>1.0</td>\n",
       "      <td>Thuringia</td>\n",
       "      <td>Ilm-Kreis</td>\n",
       "      <td>Geratal</td>\n",
       "      <td>Martinroda</td>\n",
       "    </tr>\n",
       "    <tr>\n",
       "      <th>485</th>\n",
       "      <td>50.626108</td>\n",
       "      <td>6.947908</td>\n",
       "      <td>Rheinbach</td>\n",
       "      <td>1.0</td>\n",
       "      <td>North Rhine-Westphalia</td>\n",
       "      <td>Rhein-Sieg-Kreis</td>\n",
       "      <td>Rheinbach</td>\n",
       "      <td>Rheinbach</td>\n",
       "    </tr>\n",
       "    <tr>\n",
       "      <th>486</th>\n",
       "      <td>50.898267</td>\n",
       "      <td>7.176529</td>\n",
       "      <td>Rösrath</td>\n",
       "      <td>1.0</td>\n",
       "      <td>North Rhine-Westphalia</td>\n",
       "      <td>Rheinisch-Bergischer Kreis</td>\n",
       "      <td>Rösrath</td>\n",
       "      <td>Rösrath</td>\n",
       "    </tr>\n",
       "    <tr>\n",
       "      <th>487</th>\n",
       "      <td>51.599252</td>\n",
       "      <td>7.756528</td>\n",
       "      <td>Bönen</td>\n",
       "      <td>1.0</td>\n",
       "      <td>North Rhine-Westphalia</td>\n",
       "      <td>Unna</td>\n",
       "      <td>Bönen</td>\n",
       "      <td>Boenen</td>\n",
       "    </tr>\n",
       "  </tbody>\n",
       "</table>\n",
       "<p>488 rows × 8 columns</p>\n",
       "</div>"
      ],
      "text/plain": [
       "      latitude  longitude        name  confidence                  region  \\\n",
       "0    49.307822   8.641450    Walldorf         1.0       Baden-Württemberg   \n",
       "1    48.706310   9.119240   Stuttgart         1.0       Baden-Württemberg   \n",
       "2    48.152126  11.544467      Munich         1.0                 Bavaria   \n",
       "3    51.341053  12.404024     Leipzig         1.0                  Saxony   \n",
       "4    53.576158  10.007046     Hamburg         1.0                 Hamburg   \n",
       "..         ...        ...         ...         ...                     ...   \n",
       "483  48.147440   8.546390      Horgen         0.6       Baden-Württemberg   \n",
       "484  50.723299  10.889006  Martinroda         1.0               Thuringia   \n",
       "485  50.626108   6.947908   Rheinbach         1.0  North Rhine-Westphalia   \n",
       "486  50.898267   7.176529     Rösrath         1.0  North Rhine-Westphalia   \n",
       "487  51.599252   7.756528       Bönen         1.0  North Rhine-Westphalia   \n",
       "\n",
       "                         county      administrative_area    location  \n",
       "0            Rhein-Neckar-Kreis                 Walldorf    Walldorf  \n",
       "1                     Esslingen  Leinfelden-Echterdingen   Stuttgart  \n",
       "2                        Munich                  München     München  \n",
       "3                       Leipzig                  Leipzig     Leipzig  \n",
       "4                       Hamburg                  Hamburg     Hamburg  \n",
       "..                          ...                      ...         ...  \n",
       "483                    Rottweil                 Rottweil      Horgen  \n",
       "484                   Ilm-Kreis                  Geratal  Martinroda  \n",
       "485            Rhein-Sieg-Kreis                Rheinbach   Rheinbach  \n",
       "486  Rheinisch-Bergischer Kreis                  Rösrath     Rösrath  \n",
       "487                        Unna                    Bönen      Boenen  \n",
       "\n",
       "[488 rows x 8 columns]"
      ]
     },
     "execution_count": 61,
     "metadata": {},
     "output_type": "execute_result"
    }
   ],
   "source": [
    "geo_relevant = geo_data[[\"latitude\", \"longitude\", \"name\", \"confidence\", \"region\", \"county\", \"administrative_area\", \"location\"]]\n",
    "geo_relevant"
   ]
  },
  {
   "cell_type": "code",
   "execution_count": 62,
   "id": "18c66afd-0515-4572-a289-d5b6c62c4b04",
   "metadata": {},
   "outputs": [
    {
     "data": {
      "text/plain": [
       "latitude               23\n",
       "longitude              23\n",
       "name                   23\n",
       "confidence             23\n",
       "region                 24\n",
       "county                 36\n",
       "administrative_area    33\n",
       "location                1\n",
       "dtype: int64"
      ]
     },
     "execution_count": 62,
     "metadata": {},
     "output_type": "execute_result"
    }
   ],
   "source": [
    "geo_relevant.isnull().sum()"
   ]
  },
  {
   "cell_type": "code",
   "execution_count": 63,
   "id": "91cd68b0-1db0-449e-ad5d-8c596c7a142a",
   "metadata": {},
   "outputs": [
    {
     "data": {
      "text/plain": [
       "latitude               452\n",
       "longitude              452\n",
       "name                   452\n",
       "confidence               5\n",
       "region                  16\n",
       "county                 235\n",
       "administrative_area    410\n",
       "location               487\n",
       "dtype: int64"
      ]
     },
     "execution_count": 63,
     "metadata": {},
     "output_type": "execute_result"
    }
   ],
   "source": [
    "geo_relevant.nunique()"
   ]
  },
  {
   "cell_type": "code",
   "execution_count": 64,
   "id": "3cd9d719-309d-484c-96b0-6513658cf9d4",
   "metadata": {},
   "outputs": [
    {
     "name": "stdout",
     "output_type": "stream",
     "text": [
      "5126    https://www.stepstone.de/stellenangebote--Client-Engineer-m-w-d-Hannover-Wedemark-Muenster-Duisburg-Ratiodata-SE--7504357-inline.html\n",
      "Name: link, dtype: object\n"
     ]
    }
   ],
   "source": [
    "df2 = pd.read_csv(\"data2/cleaned_long.csv\")\n",
    "with pd.option_context(\"display.max_colwidth\", None):\n",
    "    print(df2.loc[df2[\"location_y\"] == \"MĂŒnster\", \"link\"])"
   ]
  },
  {
   "cell_type": "code",
   "execution_count": 65,
   "id": "521a7c48-18ef-42c3-afac-a7951d95f28e",
   "metadata": {},
   "outputs": [
    {
     "data": {
      "text/plain": [
       "14                       NaN\n",
       "37                bundesweit\n",
       "54             Liechtenstein\n",
       "84                Herzogenah\n",
       "179                 Abingdon\n",
       "191                  Villach\n",
       "238                Oensingen\n",
       "254                   Tallin\n",
       "311                Dordrecht\n",
       "333                     Nekt\n",
       "335                   Fuschl\n",
       "346             Weitertstadt\n",
       "359                  Bregenz\n",
       "381        Gutenbergquartier\n",
       "400                 MĂŒnster\n",
       "407                 Karlsuhe\n",
       "421                 Drresden\n",
       "424                   Pilsen\n",
       "440    bundesweit–bundesweit\n",
       "448                     Ullm\n",
       "455                      FFM\n",
       "462           Österreichweit\n",
       "471                    Nesen\n",
       "Name: location, dtype: object"
      ]
     },
     "execution_count": 65,
     "metadata": {},
     "output_type": "execute_result"
    }
   ],
   "source": [
    "geo_data.loc[geo_data[\"latitude\"].isnull(), \"location\"]"
   ]
  },
  {
   "cell_type": "markdown",
   "id": "e1a0209a-a606-442d-9ba0-06e35622f36b",
   "metadata": {},
   "source": [
    "- die Zuordnung ist soweit okay\n",
    "    - es kann nicht jeder einzelne Rechtschreibfehler korrigiert werden\n",
    "    - leere locations wahrscheinlich entfernen (vorher nochmal im df anschauen)\n",
    "    - bundesweit eine Koordinate außerhalb Deutschlands zuweisen\n",
    "    - Orte außerhalb von Deutschland entfernen (Analyse soll sich nur auf Deutschland beziehen)"
   ]
  },
  {
   "cell_type": "code",
   "execution_count": 67,
   "id": "25a46290-1558-485e-953c-5735f04c22d4",
   "metadata": {},
   "outputs": [
    {
     "data": {
      "text/html": [
       "<div>\n",
       "<style scoped>\n",
       "    .dataframe tbody tr th:only-of-type {\n",
       "        vertical-align: middle;\n",
       "    }\n",
       "\n",
       "    .dataframe tbody tr th {\n",
       "        vertical-align: top;\n",
       "    }\n",
       "\n",
       "    .dataframe thead th {\n",
       "        text-align: right;\n",
       "    }\n",
       "</style>\n",
       "<table border=\"1\" class=\"dataframe\">\n",
       "  <thead>\n",
       "    <tr style=\"text-align: right;\">\n",
       "      <th></th>\n",
       "      <th>link</th>\n",
       "      <th>company</th>\n",
       "      <th>title</th>\n",
       "      <th>location_x</th>\n",
       "      <th>content</th>\n",
       "      <th>industry</th>\n",
       "      <th>rating</th>\n",
       "      <th>num_ratings</th>\n",
       "      <th>company_link</th>\n",
       "      <th>release_date</th>\n",
       "      <th>...</th>\n",
       "      <th>experience</th>\n",
       "      <th>location_y</th>\n",
       "      <th>latitude</th>\n",
       "      <th>longitude</th>\n",
       "      <th>name</th>\n",
       "      <th>confidence</th>\n",
       "      <th>region</th>\n",
       "      <th>county</th>\n",
       "      <th>administrative_area</th>\n",
       "      <th>location</th>\n",
       "    </tr>\n",
       "  </thead>\n",
       "  <tbody>\n",
       "    <tr>\n",
       "      <th>0</th>\n",
       "      <td>https://www.stepstone.de/stellenangebote--Anal...</td>\n",
       "      <td>BearingPoint GmbH</td>\n",
       "      <td>Analyst Data Science &amp; Artificial Intelligence...</td>\n",
       "      <td>Walldorf, Stuttgart, München, Leipzig, Hamburg...</td>\n",
       "      <td>Design your own career.Make your point @ Beari...</td>\n",
       "      <td>Unternehmensberatg., Wirtschaftsprüfg., Recht</td>\n",
       "      <td>3.9</td>\n",
       "      <td>312 Bewertungen</td>\n",
       "      <td>https://www.stepstone.de/cmp/de/BearingPoint-G...</td>\n",
       "      <td>2022-06-03</td>\n",
       "      <td>...</td>\n",
       "      <td>Mid-Level</td>\n",
       "      <td>Walldorf</td>\n",
       "      <td>49.307822</td>\n",
       "      <td>8.641450</td>\n",
       "      <td>Walldorf</td>\n",
       "      <td>1.0</td>\n",
       "      <td>Baden-Württemberg</td>\n",
       "      <td>Rhein-Neckar-Kreis</td>\n",
       "      <td>Walldorf</td>\n",
       "      <td>Walldorf</td>\n",
       "    </tr>\n",
       "    <tr>\n",
       "      <th>1</th>\n",
       "      <td>https://www.stepstone.de/stellenangebote--Anal...</td>\n",
       "      <td>BearingPoint GmbH</td>\n",
       "      <td>Analyst Data Science &amp; Artificial Intelligence...</td>\n",
       "      <td>Walldorf, Stuttgart, München, Leipzig, Hamburg...</td>\n",
       "      <td>Design your own career.Make your point @ Beari...</td>\n",
       "      <td>Unternehmensberatg., Wirtschaftsprüfg., Recht</td>\n",
       "      <td>3.9</td>\n",
       "      <td>312 Bewertungen</td>\n",
       "      <td>https://www.stepstone.de/cmp/de/BearingPoint-G...</td>\n",
       "      <td>2022-06-03</td>\n",
       "      <td>...</td>\n",
       "      <td>Mid-Level</td>\n",
       "      <td>Stuttgart</td>\n",
       "      <td>48.706310</td>\n",
       "      <td>9.119240</td>\n",
       "      <td>Stuttgart</td>\n",
       "      <td>1.0</td>\n",
       "      <td>Baden-Württemberg</td>\n",
       "      <td>Esslingen</td>\n",
       "      <td>Leinfelden-Echterdingen</td>\n",
       "      <td>Stuttgart</td>\n",
       "    </tr>\n",
       "    <tr>\n",
       "      <th>2</th>\n",
       "      <td>https://www.stepstone.de/stellenangebote--Anal...</td>\n",
       "      <td>BearingPoint GmbH</td>\n",
       "      <td>Analyst Data Science &amp; Artificial Intelligence...</td>\n",
       "      <td>Walldorf, Stuttgart, München, Leipzig, Hamburg...</td>\n",
       "      <td>Design your own career.Make your point @ Beari...</td>\n",
       "      <td>Unternehmensberatg., Wirtschaftsprüfg., Recht</td>\n",
       "      <td>3.9</td>\n",
       "      <td>312 Bewertungen</td>\n",
       "      <td>https://www.stepstone.de/cmp/de/BearingPoint-G...</td>\n",
       "      <td>2022-06-03</td>\n",
       "      <td>...</td>\n",
       "      <td>Mid-Level</td>\n",
       "      <td>München</td>\n",
       "      <td>48.152126</td>\n",
       "      <td>11.544467</td>\n",
       "      <td>Munich</td>\n",
       "      <td>1.0</td>\n",
       "      <td>Bavaria</td>\n",
       "      <td>Munich</td>\n",
       "      <td>München</td>\n",
       "      <td>München</td>\n",
       "    </tr>\n",
       "    <tr>\n",
       "      <th>3</th>\n",
       "      <td>https://www.stepstone.de/stellenangebote--Anal...</td>\n",
       "      <td>BearingPoint GmbH</td>\n",
       "      <td>Analyst Data Science &amp; Artificial Intelligence...</td>\n",
       "      <td>Walldorf, Stuttgart, München, Leipzig, Hamburg...</td>\n",
       "      <td>Design your own career.Make your point @ Beari...</td>\n",
       "      <td>Unternehmensberatg., Wirtschaftsprüfg., Recht</td>\n",
       "      <td>3.9</td>\n",
       "      <td>312 Bewertungen</td>\n",
       "      <td>https://www.stepstone.de/cmp/de/BearingPoint-G...</td>\n",
       "      <td>2022-06-03</td>\n",
       "      <td>...</td>\n",
       "      <td>Mid-Level</td>\n",
       "      <td>Leipzig</td>\n",
       "      <td>51.341053</td>\n",
       "      <td>12.404024</td>\n",
       "      <td>Leipzig</td>\n",
       "      <td>1.0</td>\n",
       "      <td>Saxony</td>\n",
       "      <td>Leipzig</td>\n",
       "      <td>Leipzig</td>\n",
       "      <td>Leipzig</td>\n",
       "    </tr>\n",
       "    <tr>\n",
       "      <th>4</th>\n",
       "      <td>https://www.stepstone.de/stellenangebote--Anal...</td>\n",
       "      <td>BearingPoint GmbH</td>\n",
       "      <td>Analyst Data Science &amp; Artificial Intelligence...</td>\n",
       "      <td>Walldorf, Stuttgart, München, Leipzig, Hamburg...</td>\n",
       "      <td>Design your own career.Make your point @ Beari...</td>\n",
       "      <td>Unternehmensberatg., Wirtschaftsprüfg., Recht</td>\n",
       "      <td>3.9</td>\n",
       "      <td>312 Bewertungen</td>\n",
       "      <td>https://www.stepstone.de/cmp/de/BearingPoint-G...</td>\n",
       "      <td>2022-06-03</td>\n",
       "      <td>...</td>\n",
       "      <td>Mid-Level</td>\n",
       "      <td>Hamburg</td>\n",
       "      <td>53.576158</td>\n",
       "      <td>10.007046</td>\n",
       "      <td>Hamburg</td>\n",
       "      <td>1.0</td>\n",
       "      <td>Hamburg</td>\n",
       "      <td>Hamburg</td>\n",
       "      <td>Hamburg</td>\n",
       "      <td>Hamburg</td>\n",
       "    </tr>\n",
       "  </tbody>\n",
       "</table>\n",
       "<p>5 rows × 39 columns</p>\n",
       "</div>"
      ],
      "text/plain": [
       "                                                link            company  \\\n",
       "0  https://www.stepstone.de/stellenangebote--Anal...  BearingPoint GmbH   \n",
       "1  https://www.stepstone.de/stellenangebote--Anal...  BearingPoint GmbH   \n",
       "2  https://www.stepstone.de/stellenangebote--Anal...  BearingPoint GmbH   \n",
       "3  https://www.stepstone.de/stellenangebote--Anal...  BearingPoint GmbH   \n",
       "4  https://www.stepstone.de/stellenangebote--Anal...  BearingPoint GmbH   \n",
       "\n",
       "                                               title  \\\n",
       "0  Analyst Data Science & Artificial Intelligence...   \n",
       "1  Analyst Data Science & Artificial Intelligence...   \n",
       "2  Analyst Data Science & Artificial Intelligence...   \n",
       "3  Analyst Data Science & Artificial Intelligence...   \n",
       "4  Analyst Data Science & Artificial Intelligence...   \n",
       "\n",
       "                                          location_x  \\\n",
       "0  Walldorf, Stuttgart, München, Leipzig, Hamburg...   \n",
       "1  Walldorf, Stuttgart, München, Leipzig, Hamburg...   \n",
       "2  Walldorf, Stuttgart, München, Leipzig, Hamburg...   \n",
       "3  Walldorf, Stuttgart, München, Leipzig, Hamburg...   \n",
       "4  Walldorf, Stuttgart, München, Leipzig, Hamburg...   \n",
       "\n",
       "                                             content  \\\n",
       "0  Design your own career.Make your point @ Beari...   \n",
       "1  Design your own career.Make your point @ Beari...   \n",
       "2  Design your own career.Make your point @ Beari...   \n",
       "3  Design your own career.Make your point @ Beari...   \n",
       "4  Design your own career.Make your point @ Beari...   \n",
       "\n",
       "                                        industry  rating      num_ratings  \\\n",
       "0  Unternehmensberatg., Wirtschaftsprüfg., Recht     3.9  312 Bewertungen   \n",
       "1  Unternehmensberatg., Wirtschaftsprüfg., Recht     3.9  312 Bewertungen   \n",
       "2  Unternehmensberatg., Wirtschaftsprüfg., Recht     3.9  312 Bewertungen   \n",
       "3  Unternehmensberatg., Wirtschaftsprüfg., Recht     3.9  312 Bewertungen   \n",
       "4  Unternehmensberatg., Wirtschaftsprüfg., Recht     3.9  312 Bewertungen   \n",
       "\n",
       "                                        company_link release_date  ...  \\\n",
       "0  https://www.stepstone.de/cmp/de/BearingPoint-G...   2022-06-03  ...   \n",
       "1  https://www.stepstone.de/cmp/de/BearingPoint-G...   2022-06-03  ...   \n",
       "2  https://www.stepstone.de/cmp/de/BearingPoint-G...   2022-06-03  ...   \n",
       "3  https://www.stepstone.de/cmp/de/BearingPoint-G...   2022-06-03  ...   \n",
       "4  https://www.stepstone.de/cmp/de/BearingPoint-G...   2022-06-03  ...   \n",
       "\n",
       "  experience location_y   latitude  longitude       name  confidence  \\\n",
       "0  Mid-Level   Walldorf  49.307822   8.641450   Walldorf         1.0   \n",
       "1  Mid-Level  Stuttgart  48.706310   9.119240  Stuttgart         1.0   \n",
       "2  Mid-Level    München  48.152126  11.544467     Munich         1.0   \n",
       "3  Mid-Level    Leipzig  51.341053  12.404024    Leipzig         1.0   \n",
       "4  Mid-Level    Hamburg  53.576158  10.007046    Hamburg         1.0   \n",
       "\n",
       "              region              county      administrative_area   location  \n",
       "0  Baden-Württemberg  Rhein-Neckar-Kreis                 Walldorf   Walldorf  \n",
       "1  Baden-Württemberg           Esslingen  Leinfelden-Echterdingen  Stuttgart  \n",
       "2            Bavaria              Munich                  München    München  \n",
       "3             Saxony             Leipzig                  Leipzig    Leipzig  \n",
       "4            Hamburg             Hamburg                  Hamburg    Hamburg  \n",
       "\n",
       "[5 rows x 39 columns]"
      ]
     },
     "execution_count": 67,
     "metadata": {},
     "output_type": "execute_result"
    }
   ],
   "source": [
    "df_all = pd.merge(df_long, geo_relevant, left_on=\"location_y\", right_on=\"location\", how=\"left\")\n",
    "df_all.head()"
   ]
  },
  {
   "cell_type": "code",
   "execution_count": 68,
   "id": "16924549-fe3a-4a8f-8a8f-5717ce069046",
   "metadata": {},
   "outputs": [
    {
     "data": {
      "text/plain": [
       "Index(['link', 'company', 'title', 'location_x', 'content', 'industry',\n",
       "       'rating', 'num_ratings', 'company_link', 'release_date', 'company_size',\n",
       "       'contract_type', 'work_type', 'Abschlussarbeit',\n",
       "       'Arbeitnehmerüberlassung', 'Ausbildung/Studium', 'Befristeter Vertrag',\n",
       "       'Berufseinstieg/Trainee', 'Feste Anstellung', 'Praktikum',\n",
       "       'Promotion/Habilitation', 'Studentenjobs/Werkstudent',\n",
       "       'Home Office möglich', 'Teilzeit', 'Vollzeit', 'min_salary',\n",
       "       'max_salary', 'average_salary', 'title_cat', 'experience', 'location_y',\n",
       "       'latitude', 'longitude', 'name', 'confidence', 'region', 'county',\n",
       "       'administrative_area', 'location'],\n",
       "      dtype='object')"
      ]
     },
     "execution_count": 68,
     "metadata": {},
     "output_type": "execute_result"
    }
   ],
   "source": [
    "df_all.columns"
   ]
  },
  {
   "cell_type": "code",
   "execution_count": 69,
   "id": "709279d1-f41e-4e05-80d9-b81aeed741d3",
   "metadata": {},
   "outputs": [],
   "source": [
    "# extra Kategorie für Großstädte (über 50/100 Vorkommen)"
   ]
  },
  {
   "cell_type": "code",
   "execution_count": 70,
   "id": "6771024b-e117-4fa6-ade0-effd8ed009cb",
   "metadata": {},
   "outputs": [
    {
     "data": {
      "text/plain": [
       "(8174, 39)"
      ]
     },
     "execution_count": 70,
     "metadata": {},
     "output_type": "execute_result"
    }
   ],
   "source": [
    "df_all.shape"
   ]
  },
  {
   "cell_type": "code",
   "execution_count": 71,
   "id": "09e8d038-1041-4dc1-a3c1-0fb787f213e4",
   "metadata": {},
   "outputs": [
    {
     "data": {
      "text/plain": [
       "link                         8174\n",
       "company                      8174\n",
       "title                        8174\n",
       "location_x                   8174\n",
       "content                      8174\n",
       "industry                     7288\n",
       "rating                       6537\n",
       "num_ratings                  6537\n",
       "company_link                 7180\n",
       "release_date                 8174\n",
       "company_size                 6843\n",
       "contract_type                8174\n",
       "work_type                    8174\n",
       "Abschlussarbeit              8174\n",
       "Arbeitnehmerüberlassung      8174\n",
       "Ausbildung/Studium           8174\n",
       "Befristeter Vertrag          8174\n",
       "Berufseinstieg/Trainee       8174\n",
       "Feste Anstellung             8174\n",
       "Praktikum                    8174\n",
       "Promotion/Habilitation       8174\n",
       "Studentenjobs/Werkstudent    8174\n",
       "Home Office möglich          8174\n",
       "Teilzeit                     8174\n",
       "Vollzeit                     8174\n",
       "min_salary                   4705\n",
       "max_salary                   4703\n",
       "average_salary               4703\n",
       "title_cat                    8174\n",
       "experience                   8174\n",
       "location_y                   8174\n",
       "latitude                     7848\n",
       "longitude                    7848\n",
       "name                         7848\n",
       "confidence                   7848\n",
       "region                       7846\n",
       "county                       6929\n",
       "administrative_area          7815\n",
       "location                     8174\n",
       "dtype: int64"
      ]
     },
     "execution_count": 71,
     "metadata": {},
     "output_type": "execute_result"
    }
   ],
   "source": [
    "df_all.notnull().sum()"
   ]
  },
  {
   "cell_type": "code",
   "execution_count": 72,
   "id": "3a3f79d4-05a5-4715-a942-2cd0c98f5f2f",
   "metadata": {},
   "outputs": [],
   "source": [
    "# Long-Df für ML Modell testen"
   ]
  },
  {
   "cell_type": "code",
   "execution_count": 73,
   "id": "0d56f82a-dda0-4a18-a4f9-6952a68a60fe",
   "metadata": {},
   "outputs": [
    {
     "data": {
      "text/plain": [
       "207"
      ]
     },
     "execution_count": 73,
     "metadata": {},
     "output_type": "execute_result"
    }
   ],
   "source": [
    "df_all[\"city_salary\"] = round(df_all.groupby(\"location_y\")[\"average_salary\"].transform(\"mean\"))\n",
    "df_all[\"city_count\"] = df_all.groupby(\"location_y\")[\"average_salary\"].transform(\"count\")\n",
    "df_all[\"city_salary\"].nunique()"
   ]
  },
  {
   "cell_type": "code",
   "execution_count": 74,
   "id": "dd20c014-2e2d-4e3f-95bd-8f602d935494",
   "metadata": {},
   "outputs": [],
   "source": [
    "# Karte von Deutschland mit Bundeländern bzw. Landkreisen im Hintergrund\n",
    "# gleicher Plot mit Plotly testen\n",
    "# Anzahl an Job in der Größe codieren\n",
    "# Standorte auch ohne Gehälter analysieren"
   ]
  },
  {
   "cell_type": "code",
   "execution_count": 75,
   "id": "749bf75a-6e4a-440a-b8f9-c2474a1ec2e3",
   "metadata": {},
   "outputs": [],
   "source": [
    "df_all.to_csv(\"data2/cleaned_long.csv\", index=False)"
   ]
  },
  {
   "cell_type": "code",
   "execution_count": null,
   "id": "d65cb5c7-a056-4239-982f-723f3e75e6f5",
   "metadata": {},
   "outputs": [],
   "source": []
  },
  {
   "cell_type": "code",
   "execution_count": null,
   "id": "cc8d0db5-5d11-469d-97fe-055c3d51751e",
   "metadata": {},
   "outputs": [],
   "source": []
  },
  {
   "cell_type": "markdown",
   "id": "2c15c1c3-fcff-46bc-ab3c-fe79dde307fc",
   "metadata": {
    "jp-MarkdownHeadingCollapsed": true,
    "tags": []
   },
   "source": [
    "# Evaluate Industry"
   ]
  },
  {
   "cell_type": "code",
   "execution_count": 76,
   "id": "26c9bf49-2b1f-4b74-8657-c79cd2004e05",
   "metadata": {},
   "outputs": [
    {
     "data": {
      "text/plain": [
       "IT & Internet                                                                      589\n",
       "Unternehmensberatg., Wirtschaftsprüfg., Recht                                      304\n",
       "Fahrzeugbau/-zulieferer                                                            278\n",
       "Fahrzeugbau/-zulieferer|IT & Internet|Konsumgüter/Gebrauchsgüter                   219\n",
       "Elektrotechnik, Feinmechanik & Optik                                               115\n",
       "                                                                                  ... \n",
       "Agentur, Werbung, Marketing & PR|Telekommunikation                                   1\n",
       "Elektrotechnik, Feinmechanik & Optik|Energie- und Wasserversorgung & Entsorgung      1\n",
       "Konsumgüter/Gebrauchsgüter|IT & Internet                                             1\n",
       "Fahrzeugbau/-zulieferer|Groß- & Einzelhandel                                         1\n",
       "IT & Internet|Medien (Film, Funk, TV, Verlage)                                       1\n",
       "Name: industry, Length: 158, dtype: int64"
      ]
     },
     "execution_count": 76,
     "metadata": {},
     "output_type": "execute_result"
    }
   ],
   "source": [
    "df[\"industry\"].value_counts()"
   ]
  },
  {
   "cell_type": "code",
   "execution_count": 77,
   "id": "c91fe10c-36ce-4f59-8646-797ebe0464fa",
   "metadata": {},
   "outputs": [],
   "source": [
    "# erhaltene Werte mit Gehaltreport vergleichen\n",
    "# testen, ob Codierung mit dem Gehaltsreport eine Verbesserung bringt"
   ]
  },
  {
   "cell_type": "code",
   "execution_count": 78,
   "id": "fbea6ea6-2a51-43ef-a679-5a91e3035fa6",
   "metadata": {},
   "outputs": [],
   "source": [
    "df_filtered = df.loc[df[\"contract_type\"] == \"Festanstellung\"]"
   ]
  },
  {
   "cell_type": "code",
   "execution_count": 79,
   "id": "4a58f7e9-bbad-4924-9c94-95666f87ac03",
   "metadata": {},
   "outputs": [
    {
     "data": {
      "text/plain": [
       "IT & Internet                                    1188\n",
       "Fahrzeugbau/-zulieferer                           611\n",
       "Unternehmensberatg., Wirtschaftsprüfg., Recht     400\n",
       "Konsumgüter/Gebrauchsgüter                        260\n",
       "Groß- & Einzelhandel                              178\n",
       "Finanzdienstleister                               157\n",
       "Transport & Logistik                              152\n",
       "Elektrotechnik, Feinmechanik & Optik              145\n",
       "Versicherungen                                    131\n",
       "Sonstige Branchen                                 109\n",
       "Maschinen- und Anlagenbau                         108\n",
       "Telekommunikation                                  72\n",
       "Personaldienstleistungen                           70\n",
       "Wissenschaft & Forschung                           70\n",
       "Sonstige Dienstleistungen                          68\n",
       "Medizintechnik                                     63\n",
       "Banken                                             62\n",
       "Medien (Film, Funk, TV, Verlage)                   55\n",
       "Energie- und Wasserversorgung & Entsorgung         53\n",
       "Bildung & Training                                 43\n",
       "Agentur, Werbung, Marketing & PR                   41\n",
       "Gesundheit & soziale Dienste                       41\n",
       "Baugewerbe/-industrie                              39\n",
       "Freizeit, Touristik, Kultur & Sport                35\n",
       "Textilien, Bekleidung & Lederwaren                 33\n",
       "Pharmaindustrie                                    32\n",
       "Öffentlicher Dienst & Verbände                     27\n",
       "Immobilien                                         26\n",
       "Nahrungs- & Genussmittel                           26\n",
       "Chemie- und Erdölverarbeitende Industrie           17\n",
       "Metallindustrie                                    14\n",
       "Luft- und Raumfahrt                                12\n",
       "Druck-, Papier- und Verpackungsindustrie            6\n",
       "Holz- und Möbelindustrie                            3\n",
       "Handwerk                                            2\n",
       "Glas-, Keramik-Herstellung & -verarbeitung          2\n",
       "Sonstiges produzierendes Gewerbe                    1\n",
       "Land-, Forst- und Fischwirtschaft, Gartenbau        1\n",
       "Hotel, Gastronomie & Catering                       1\n",
       "dtype: int64"
      ]
     },
     "execution_count": 79,
     "metadata": {},
     "output_type": "execute_result"
    }
   ],
   "source": [
    "df[\"industry\"].str.get_dummies(\"|\").sum().sort_values(ascending=False)"
   ]
  },
  {
   "cell_type": "code",
   "execution_count": null,
   "id": "51e480c4-9ad4-4c2c-a228-312d95f235e2",
   "metadata": {},
   "outputs": [],
   "source": []
  },
  {
   "cell_type": "code",
   "execution_count": null,
   "id": "0c92ef88-49b7-419a-930a-c1963cff0735",
   "metadata": {},
   "outputs": [],
   "source": []
  },
  {
   "cell_type": "markdown",
   "id": "4e29c7e8-c153-4e1c-9671-c36c047d790c",
   "metadata": {
    "tags": []
   },
   "source": [
    "# Evaluate Content"
   ]
  },
  {
   "cell_type": "code",
   "execution_count": 233,
   "id": "88f5bdab-ec7a-4c59-8c59-dfcc6fa778e2",
   "metadata": {},
   "outputs": [
    {
     "data": {
      "text/html": [
       "<div>\n",
       "<style scoped>\n",
       "    .dataframe tbody tr th:only-of-type {\n",
       "        vertical-align: middle;\n",
       "    }\n",
       "\n",
       "    .dataframe tbody tr th {\n",
       "        vertical-align: top;\n",
       "    }\n",
       "\n",
       "    .dataframe thead th {\n",
       "        text-align: right;\n",
       "    }\n",
       "</style>\n",
       "<table border=\"1\" class=\"dataframe\">\n",
       "  <thead>\n",
       "    <tr style=\"text-align: right;\">\n",
       "      <th></th>\n",
       "      <th>keyword</th>\n",
       "      <th>count</th>\n",
       "    </tr>\n",
       "  </thead>\n",
       "  <tbody>\n",
       "    <tr>\n",
       "      <th>268912</th>\n",
       "      <td>data</td>\n",
       "      <td>9413</td>\n",
       "    </tr>\n",
       "    <tr>\n",
       "      <th>1029724</th>\n",
       "      <td>sowie</td>\n",
       "      <td>7613</td>\n",
       "    </tr>\n",
       "    <tr>\n",
       "      <th>1082567</th>\n",
       "      <td>team</td>\n",
       "      <td>6707</td>\n",
       "    </tr>\n",
       "    <tr>\n",
       "      <th>611100</th>\n",
       "      <td>in der</td>\n",
       "      <td>4360</td>\n",
       "    </tr>\n",
       "    <tr>\n",
       "      <th>100855</th>\n",
       "      <td>arbeiten</td>\n",
       "      <td>3516</td>\n",
       "    </tr>\n",
       "    <tr>\n",
       "      <th>171208</th>\n",
       "      <td>bereich</td>\n",
       "      <td>3470</td>\n",
       "    </tr>\n",
       "    <tr>\n",
       "      <th>707021</th>\n",
       "      <td>kunden</td>\n",
       "      <td>3430</td>\n",
       "    </tr>\n",
       "    <tr>\n",
       "      <th>1088786</th>\n",
       "      <td>teams</td>\n",
       "      <td>3322</td>\n",
       "    </tr>\n",
       "    <tr>\n",
       "      <th>1209661</th>\n",
       "      <td>unserer</td>\n",
       "      <td>3200</td>\n",
       "    </tr>\n",
       "    <tr>\n",
       "      <th>213808</th>\n",
       "      <td>business</td>\n",
       "      <td>3098</td>\n",
       "    </tr>\n",
       "    <tr>\n",
       "      <th>461621</th>\n",
       "      <td>experience</td>\n",
       "      <td>3037</td>\n",
       "    </tr>\n",
       "    <tr>\n",
       "      <th>205636</th>\n",
       "      <td>bottom</td>\n",
       "      <td>3006</td>\n",
       "    </tr>\n",
       "    <tr>\n",
       "      <th>554957</th>\n",
       "      <td>gute</td>\n",
       "      <td>3001</td>\n",
       "    </tr>\n",
       "    <tr>\n",
       "      <th>1316777</th>\n",
       "      <td>work</td>\n",
       "      <td>2945</td>\n",
       "    </tr>\n",
       "    <tr>\n",
       "      <th>513331</th>\n",
       "      <td>für die</td>\n",
       "      <td>2897</td>\n",
       "    </tr>\n",
       "    <tr>\n",
       "      <th>196150</th>\n",
       "      <td>bieten</td>\n",
       "      <td>2872</td>\n",
       "    </tr>\n",
       "    <tr>\n",
       "      <th>562404</th>\n",
       "      <td>hast</td>\n",
       "      <td>2848</td>\n",
       "    </tr>\n",
       "    <tr>\n",
       "      <th>680711</th>\n",
       "      <td>kenntnisse</td>\n",
       "      <td>2845</td>\n",
       "    </tr>\n",
       "    <tr>\n",
       "      <th>1020714</th>\n",
       "      <td>software</td>\n",
       "      <td>2745</td>\n",
       "    </tr>\n",
       "    <tr>\n",
       "      <th>439259</th>\n",
       "      <td>erfahrung</td>\n",
       "      <td>2704</td>\n",
       "    </tr>\n",
       "    <tr>\n",
       "      <th>432655</th>\n",
       "      <td>entwicklung</td>\n",
       "      <td>2693</td>\n",
       "    </tr>\n",
       "    <tr>\n",
       "      <th>127981</th>\n",
       "      <td>aufgaben</td>\n",
       "      <td>2681</td>\n",
       "    </tr>\n",
       "    <tr>\n",
       "      <th>740857</th>\n",
       "      <td>lösungen</td>\n",
       "      <td>2679</td>\n",
       "    </tr>\n",
       "    <tr>\n",
       "      <th>598142</th>\n",
       "      <td>im bereich</td>\n",
       "      <td>2583</td>\n",
       "    </tr>\n",
       "    <tr>\n",
       "      <th>748293</th>\n",
       "      <td>management</td>\n",
       "      <td>2580</td>\n",
       "    </tr>\n",
       "    <tr>\n",
       "      <th>164365</th>\n",
       "      <td>bei uns</td>\n",
       "      <td>2467</td>\n",
       "    </tr>\n",
       "    <tr>\n",
       "      <th>1214334</th>\n",
       "      <td>unternehmen</td>\n",
       "      <td>2385</td>\n",
       "    </tr>\n",
       "    <tr>\n",
       "      <th>231866</th>\n",
       "      <td>cloud</td>\n",
       "      <td>2374</td>\n",
       "    </tr>\n",
       "    <tr>\n",
       "      <th>161986</th>\n",
       "      <td>bei der</td>\n",
       "      <td>2262</td>\n",
       "    </tr>\n",
       "    <tr>\n",
       "      <th>191312</th>\n",
       "      <td>bewerbung</td>\n",
       "      <td>2228</td>\n",
       "    </tr>\n",
       "    <tr>\n",
       "      <th>721109</th>\n",
       "      <td>learning</td>\n",
       "      <td>2222</td>\n",
       "    </tr>\n",
       "    <tr>\n",
       "      <th>65400</th>\n",
       "      <td>analytics</td>\n",
       "      <td>2208</td>\n",
       "    </tr>\n",
       "    <tr>\n",
       "      <th>852631</th>\n",
       "      <td>online</td>\n",
       "      <td>2137</td>\n",
       "    </tr>\n",
       "    <tr>\n",
       "      <th>983014</th>\n",
       "      <td>science</td>\n",
       "      <td>2086</td>\n",
       "    </tr>\n",
       "    <tr>\n",
       "      <th>1095967</th>\n",
       "      <td>technologien</td>\n",
       "      <td>2077</td>\n",
       "    </tr>\n",
       "    <tr>\n",
       "      <th>1318364</th>\n",
       "      <td>working</td>\n",
       "      <td>2050</td>\n",
       "    </tr>\n",
       "    <tr>\n",
       "      <th>613249</th>\n",
       "      <td>in einem</td>\n",
       "      <td>2043</td>\n",
       "    </tr>\n",
       "    <tr>\n",
       "      <th>500841</th>\n",
       "      <td>freuen</td>\n",
       "      <td>2015</td>\n",
       "    </tr>\n",
       "    <tr>\n",
       "      <th>525704</th>\n",
       "      <td>gemeinsam</td>\n",
       "      <td>1961</td>\n",
       "    </tr>\n",
       "    <tr>\n",
       "      <th>997422</th>\n",
       "      <td>services</td>\n",
       "      <td>1955</td>\n",
       "    </tr>\n",
       "    <tr>\n",
       "      <th>634875</th>\n",
       "      <td>innen</td>\n",
       "      <td>1931</td>\n",
       "    </tr>\n",
       "    <tr>\n",
       "      <th>765413</th>\n",
       "      <td>mehr</td>\n",
       "      <td>1918</td>\n",
       "    </tr>\n",
       "    <tr>\n",
       "      <th>335564</th>\n",
       "      <td>development</td>\n",
       "      <td>1874</td>\n",
       "    </tr>\n",
       "    <tr>\n",
       "      <th>285745</th>\n",
       "      <td>de</td>\n",
       "      <td>1871</td>\n",
       "    </tr>\n",
       "    <tr>\n",
       "      <th>767823</th>\n",
       "      <td>menschen</td>\n",
       "      <td>1861</td>\n",
       "    </tr>\n",
       "    <tr>\n",
       "      <th>258935</th>\n",
       "      <td>dabei</td>\n",
       "      <td>1843</td>\n",
       "    </tr>\n",
       "    <tr>\n",
       "      <th>1099579</th>\n",
       "      <td>teil</td>\n",
       "      <td>1797</td>\n",
       "    </tr>\n",
       "    <tr>\n",
       "      <th>818701</th>\n",
       "      <td>neue</td>\n",
       "      <td>1746</td>\n",
       "    </tr>\n",
       "    <tr>\n",
       "      <th>669825</th>\n",
       "      <td>job</td>\n",
       "      <td>1733</td>\n",
       "    </tr>\n",
       "    <tr>\n",
       "      <th>844888</th>\n",
       "      <td>of the</td>\n",
       "      <td>1727</td>\n",
       "    </tr>\n",
       "  </tbody>\n",
       "</table>\n",
       "</div>"
      ],
      "text/plain": [
       "              keyword  count\n",
       "268912           data   9413\n",
       "1029724         sowie   7613\n",
       "1082567          team   6707\n",
       "611100         in der   4360\n",
       "100855       arbeiten   3516\n",
       "171208        bereich   3470\n",
       "707021         kunden   3430\n",
       "1088786         teams   3322\n",
       "1209661       unserer   3200\n",
       "213808       business   3098\n",
       "461621     experience   3037\n",
       "205636         bottom   3006\n",
       "554957           gute   3001\n",
       "1316777          work   2945\n",
       "513331        für die   2897\n",
       "196150         bieten   2872\n",
       "562404           hast   2848\n",
       "680711     kenntnisse   2845\n",
       "1020714      software   2745\n",
       "439259      erfahrung   2704\n",
       "432655    entwicklung   2693\n",
       "127981       aufgaben   2681\n",
       "740857       lösungen   2679\n",
       "598142     im bereich   2583\n",
       "748293     management   2580\n",
       "164365        bei uns   2467\n",
       "1214334   unternehmen   2385\n",
       "231866          cloud   2374\n",
       "161986        bei der   2262\n",
       "191312      bewerbung   2228\n",
       "721109       learning   2222\n",
       "65400       analytics   2208\n",
       "852631         online   2137\n",
       "983014        science   2086\n",
       "1095967  technologien   2077\n",
       "1318364       working   2050\n",
       "613249       in einem   2043\n",
       "500841         freuen   2015\n",
       "525704      gemeinsam   1961\n",
       "997422       services   1955\n",
       "634875          innen   1931\n",
       "765413           mehr   1918\n",
       "335564    development   1874\n",
       "285745             de   1871\n",
       "767823       menschen   1861\n",
       "258935          dabei   1843\n",
       "1099579          teil   1797\n",
       "818701           neue   1746\n",
       "669825            job   1733\n",
       "844888         of the   1727"
      ]
     },
     "execution_count": 233,
     "metadata": {},
     "output_type": "execute_result"
    }
   ],
   "source": [
    "content_text = \" | \".join(df[\"content\"])\n",
    "# CountVectorizer erwatet eigentlich mehrere Beispiele\n",
    "l = []\n",
    "l.append(content_text)\n",
    "\n",
    "vectorizer = CountVectorizer(ngram_range=(1,3))\n",
    "vector = vectorizer.fit_transform(l)\n",
    "results = pd.DataFrame({\"keyword\": vectorizer.get_feature_names_out(), \"count\": vector.toarray().reshape(-1)})\n",
    "results = results.loc[~results[\"keyword\"].isin(stop_eng.union(stop_ger))]\n",
    "results.sort_values(\"count\", ascending=False).head(50)"
   ]
  },
  {
   "cell_type": "code",
   "execution_count": 234,
   "id": "69088029-9717-451c-bd1a-28816617b4ca",
   "metadata": {},
   "outputs": [],
   "source": [
    "# nicht sehr aussagekräftig ==> stattdessen wichtige Keyword aus bereits bestehenden Analysen übernehmen"
   ]
  },
  {
   "cell_type": "code",
   "execution_count": 56,
   "id": "00c3f0ca-1cb7-430e-a159-d95f0403414d",
   "metadata": {},
   "outputs": [
    {
     "name": "stderr",
     "output_type": "stream",
     "text": [
      "C:\\Users\\joach\\AppData\\Local\\Temp\\ipykernel_19968\\3599566088.py:5: UserWarning:\n",
      "\n",
      "This pattern is interpreted as a regular expression, and has match groups. To actually get the groups, use str.extract.\n",
      "\n",
      "C:\\Users\\joach\\AppData\\Local\\Temp\\ipykernel_19968\\3599566088.py:20: UserWarning:\n",
      "\n",
      "This pattern is interpreted as a regular expression, and has match groups. To actually get the groups, use str.extract.\n",
      "\n",
      "C:\\Users\\joach\\AppData\\Local\\Temp\\ipykernel_19968\\3599566088.py:30: UserWarning:\n",
      "\n",
      "This pattern is interpreted as a regular expression, and has match groups. To actually get the groups, use str.extract.\n",
      "\n",
      "C:\\Users\\joach\\AppData\\Local\\Temp\\ipykernel_19968\\3599566088.py:36: UserWarning:\n",
      "\n",
      "This pattern is interpreted as a regular expression, and has match groups. To actually get the groups, use str.extract.\n",
      "\n",
      "C:\\Users\\joach\\AppData\\Local\\Temp\\ipykernel_19968\\3599566088.py:55: UserWarning:\n",
      "\n",
      "This pattern is interpreted as a regular expression, and has match groups. To actually get the groups, use str.extract.\n",
      "\n"
     ]
    },
    {
     "data": {
      "text/plain": [
       "title_cat       2894\n",
       "link            2894\n",
       "content         2894\n",
       "python          1026\n",
       "r                577\n",
       "sql              822\n",
       "excel            389\n",
       "java             136\n",
       "javascript       171\n",
       "c                 35\n",
       "c++              253\n",
       "c#               143\n",
       "scala             29\n",
       "julia             51\n",
       "matlab            86\n",
       "swift              6\n",
       "go                15\n",
       "sas               66\n",
       "tableau          211\n",
       "power_bi         172\n",
       "perl              47\n",
       "php               31\n",
       "spark            228\n",
       "hadoop            85\n",
       "hive              36\n",
       "storm             11\n",
       "snowflake         38\n",
       "knime             20\n",
       "aws              336\n",
       "kafka            109\n",
       "azure            342\n",
       "google_cloud      64\n",
       "docker           210\n",
       "git              252\n",
       "linux            155\n",
       "kubernetes       190\n",
       "jenkins           58\n",
       "bigquery          63\n",
       "gcp               76\n",
       "airflow           71\n",
       "cassandra         13\n",
       "alteryx           28\n",
       "pandas            59\n",
       "numpy             26\n",
       "tensorflow       119\n",
       "keras             36\n",
       "pytorch           85\n",
       "matplotlib        12\n",
       "seaborn            0\n",
       "scikit-learn      63\n",
       "plotly             3\n",
       "streamlit          1\n",
       "spacy              8\n",
       "nltk               2\n",
       "scipy              6\n",
       "statsmodels        4\n",
       "dtype: int64"
      ]
     },
     "execution_count": 56,
     "metadata": {},
     "output_type": "execute_result"
    }
   ],
   "source": [
    "def convert_content(x):\n",
    "    x2 = x[[\"title_cat\", \"link\", \"content\"]].copy()\n",
    "    # programming languages (19)\n",
    "    x2[\"python\"] = x2[\"content\"].str.contains(\"Python\", case=False)\n",
    "    x2[\"r\"] = x2[\"content\"].str.contains(\"\\WR(\\W|Studio)\", case=False, regex=True)\n",
    "    x2[\"sql\"] = x2[\"content\"].str.contains(\"Sql\", case=False)\n",
    "    x2[\"excel\"] = x2[\"content\"].str.contains(\"Excel\", case=True)\n",
    "    x2[\"java\"] = x2[\"content\"].str.contains(\"Java \", case=False)\n",
    "    x2[\"javascript\"] = x2[\"content\"].str.contains(\"Javascript\", case=False)\n",
    "    x2[\"c\"] = x2[\"content\"].str.contains(\"\\WC \", case=False, regex=True)\n",
    "    x2[\"c++\"] = x2[\"content\"].str.contains(\"C\\+\\+\", case=False, regex=True)\n",
    "    x2[\"c#\"] = x2[\"content\"].str.contains(\"C#\", case=False, regex=True)\n",
    "    x2[\"scala\"] = x2[\"content\"].str.contains(\"Scala \", case=False)\n",
    "    x2[\"julia\"] = x2[\"content\"].str.contains(\"Julia\", case=False)\n",
    "    x2[\"matlab\"] = x2[\"content\"].str.contains(\"Matlab\", case=False)\n",
    "    x2[\"swift\"] = x2[\"content\"].str.contains(\"Swift\", case=False)\n",
    "    x2[\"go\"] = x2[\"content\"].str.contains(\"\\WGo \", case=True)\n",
    "    x2[\"sas\"] = x2[\"content\"].str.contains(\"\\WSas\\W\", case=False, regex=True)\n",
    "    x2[\"tableau\"] = x2[\"content\"].str.contains(\"Tableau\", case=False)\n",
    "    x2[\"power_bi\"] = x2[\"content\"].str.contains(\"(Power BI|PBI)\", case=False, regex=True)\n",
    "    x2[\"perl\"] = x2[\"content\"].str.contains(\"Perl\", case=False)\n",
    "    x2[\"php\"] = x2[\"content\"].str.contains(\"Php\", case=False)\n",
    "    # Tools (20)\n",
    "    x2[\"spark\"] = x2[\"content\"].str.contains(\"Spark\", case=False)\n",
    "    x2[\"hadoop\"] = x2[\"content\"].str.contains(\"Hadoop\", case=False)\n",
    "    x2[\"hive\"] = x2[\"content\"].str.contains(\"Hive\", case=False)\n",
    "    x2[\"storm\"] = x2[\"content\"].str.contains(\"Storm\", case=False)\n",
    "    x2[\"snowflake\"] = x2[\"content\"].str.contains(\"Snowflake\", case=False)\n",
    "    x2[\"knime\"] = x2[\"content\"].str.contains(\"Knime\", case=False)\n",
    "    x2[\"aws\"] = x2[\"content\"].str.contains(\"(AWS|Amazon Web Services)\", case=False, regex=True)\n",
    "    x2[\"kafka\"] = x2[\"content\"].str.contains(\"Kafka\", case=False)\n",
    "    x2[\"azure\"] = x2[\"content\"].str.contains(\"Azure\", case=False)\n",
    "    x2[\"google_cloud\"] = x2[\"content\"].str.contains(\"Google Cloud\", case=False)\n",
    "    x2[\"docker\"] = x2[\"content\"].str.contains(\"Docker\", case=False)\n",
    "    x2[\"git\"] = x2[\"content\"].str.contains(\"\\WGit\", case=False, regex=True)\n",
    "    x2[\"linux\"] = x2[\"content\"].str.contains(\"(Linux|Unix)\", case=False, regex=True)\n",
    "    x2[\"kubernetes\"] = x2[\"content\"].str.contains(\"Kubernetes\", case=False)\n",
    "    x2[\"jenkins\"] = x2[\"content\"].str.contains(\"Jenkins\", case=False)\n",
    "    x2[\"bigquery\"] = x2[\"content\"].str.contains(\"Bigquery\", case=False)\n",
    "    x2[\"gcp\"] = x2[\"content\"].str.contains(\"GCP\", case=False)\n",
    "    x2[\"airflow\"] = x2[\"content\"].str.contains(\"Airflow\", case=False)\n",
    "    x2[\"cassandra\"] = x2[\"content\"].str.contains(\"Cassandra\", case=False)\n",
    "    x2[\"alteryx\"] = x2[\"content\"].str.contains(\"Alteryx\", case=False)\n",
    "    # Knowledge\n",
    "    # x2[\"machine_learning\"] = x2[\"content\"].str.contains(\"(Machine Learning|Machinelle[sn]? Lern)\", case=False, regex=True)\n",
    "    # x2[\"deep_learning\"] = x2[\"content\"].str.contains(\"(Deep Learning)\", case=False, regex=True)\n",
    "    # python libraries (14)\n",
    "    x2[\"pandas\"] = x2[\"content\"].str.contains(\"Pandas\", case=False)\n",
    "    x2[\"numpy\"] = x2[\"content\"].str.contains(\"Numpy\", case=False)\n",
    "    x2[\"tensorflow\"] = x2[\"content\"].str.contains(\"Tensorflow\", case=False)\n",
    "    x2[\"keras\"] = x2[\"content\"].str.contains(\"Keras\", case=False)\n",
    "    x2[\"pytorch\"] = x2[\"content\"].str.contains(\"Pytorch\", case=False)\n",
    "    x2[\"matplotlib\"] = x2[\"content\"].str.contains(\"Matplotlib\", case=False)\n",
    "    x2[\"seaborn\"] = x2[\"content\"].str.contains(\"Seaborn\", case=False)\n",
    "    x2[\"scikit-learn\"] = x2[\"content\"].str.contains(\"(scikit[ -]?learn|sklearn)\", case=False, regex=True)\n",
    "    x2[\"plotly\"] = x2[\"content\"].str.contains(\"plotly\", case=False)\n",
    "    x2[\"streamlit\"] = x2[\"content\"].str.contains(\"stream[ -]lit\", case=False)\n",
    "    x2[\"spacy\"] = x2[\"content\"].str.contains(\"spacy\", case=False)\n",
    "    x2[\"nltk\"] = x2[\"content\"].str.contains(\"nltk\", case=False)\n",
    "    x2[\"scipy\"] = x2[\"content\"].str.contains(\"scipy\", case=False)\n",
    "    x2[\"statsmodels\"] = x2[\"content\"].str.contains(\"statsmodels\", case=False)\n",
    "    return x2\n",
    "\n",
    "df2 = convert_content(df.loc[df[\"title_cat\"] != \"Others\"])\n",
    "df2.astype(\"bool\").sum()"
   ]
  },
  {
   "cell_type": "code",
   "execution_count": null,
   "id": "380a939f-87ce-421b-a5d9-cc65ce548628",
   "metadata": {},
   "outputs": [],
   "source": [
    "# vor SQL ein Leerzeichen setzen, um es von NoSQL zu unterscheiden ==> MySQL noch zusätzlich mit angeben"
   ]
  },
  {
   "cell_type": "code",
   "execution_count": null,
   "id": "3093cb87-2710-4b12-a86f-bad637e94387",
   "metadata": {},
   "outputs": [],
   "source": [
    "# recommondation system, clustering, computer vision, natural language processing, data warehousing, visualization, kubernetes\n",
    "# autonomous driving, etl, CI/CD (continous integration/contunious delivery), Scrum, APIs, Git, Webscraping, Jenkins, Jira\n",
    "# mlflow, dash, gcp, reinforcement learning, forecasting, microsoft office, dask, linux, non-relational (MongoDB, ELK, Cassandra)\n",
    "\n",
    "\n",
    "# Eigeninitiative, Kommunikationsstärke, Teamfähigkeit, Innovationsgeist, Selbstorganisation, strukturiertes Denken, problem solving\n",
    "\n",
    "\n",
    "# verändern sich die Skills mit steigender Berufserfahrung"
   ]
  },
  {
   "cell_type": "code",
   "execution_count": 49,
   "id": "d7d42d6e-6f34-44a3-8ab0-de03619fdc1d",
   "metadata": {},
   "outputs": [
    {
     "name": "stdout",
     "output_type": "stream",
     "text": [
      "0       https://www.stepstone.de/stellenangebote--Analyst-Data-Science-Artificial-Intelligence-m-w-d-Walldorf-Stuttgart-Muenchen-Leipzig-Hamburg-Frankfurt-am-Main-Duesseldorf-Berlin-BearingPoint-GmbH--7944366-inline.html\n",
      "1                                                                                               https://www.stepstone.de/stellenangebote--Manager-m-w-d-Data-Science-Statistik-Berlin-BIG-direkt-gesund--8362563-inline.html\n",
      "2                                                                          https://www.stepstone.de/stellenangebote--Manager-m-w-d-Data-Science-Statistik-Dortmund-Duesseldorf-Aachen-BIG-direkt-gesund--8362548-inline.html\n",
      "3                                                                                          https://www.stepstone.de/stellenangebote--Data-Science-Lead-Duesseldorf-Palma-de-Mallorca-METRO-Markets-GmbH--8300873-inline.html\n",
      "5                                                                                https://www.stepstone.de/stellenangebote--Business-Analyst-Data-Science-m-w-d-Wiesbaden-R-V-Allgemeine-Versicherung-AG--8243604-inline.html\n",
      "                                                                                                                ...                                                                                                         \n",
      "3752                                                              https://www.stepstone.de/stellenangebote--BI-Business-Intelligence-Consultant-m-w-d-Hamburg-Kiel-Bremen-Luebeck-Lueneburg-Obungi-GmbH--7635933-inline.html\n",
      "3755          https://www.stepstone.de/stellenangebote--IT-Projektleitung-Verfahrensverantwortung-w-m-d-Bereich-Business-Intelligence-Berlin-Hamburg-Martinroda-Informationstechnikzentrum-Bund-ITZBund--8355218-inline.html\n",
      "3756                                                             https://www.stepstone.de/stellenangebote--Senior-Analyst-im-Bereich-Market-Intelligence-w-m-d-Leinfelden-Echterdingen-Daimler-Truck-AG--7946367-inline.html\n",
      "3757                                                                                           https://www.stepstone.de/stellenangebote--Business-Intelligence-Expert-m-w-d-Rheinbach-Muenchen-BWI-GmbH--8298924-inline.html\n",
      "3760                                                           https://www.stepstone.de/stellenangebote--Senior-Analyst-im-Bereich-Economic-Intelligence-w-m-d-Leinfelden-Echterdingen-Daimler-Truck-AG--7941448-inline.html\n",
      "Name: link, Length: 1743, dtype: object\n"
     ]
    }
   ],
   "source": [
    "with pd.option_context(\"display.max_colwidth\", None):\n",
    "    print(df2.loc[df2[\"git\"]==True, \"link\"])"
   ]
  },
  {
   "cell_type": "code",
   "execution_count": 84,
   "id": "3f58ca10-653a-416e-8e5a-31e1d7697463",
   "metadata": {},
   "outputs": [
    {
     "data": {
      "text/plain": [
       "Index(['title_cat', 'link', 'content', 'python', 'r', 'sql', 'excel', 'java',\n",
       "       'c', 'scala', 'julia', 'matlab', 'swift', 'go', 'sas', 'tableau',\n",
       "       'power_bi', 'spark', 'hadoop', 'hive', 'cloudera', 'rapid_miner',\n",
       "       'storm', 'snowflake', 'knime', 'machine_learning', 'deep_learning',\n",
       "       'pandas', 'numpy', 'tensorflow', 'keras', 'pytorch', 'matplotlib',\n",
       "       'seaborn', 'scikit-learn', 'plotly', 'streamlit', 'spacy', 'nltk'],\n",
       "      dtype='object')"
      ]
     },
     "execution_count": 84,
     "metadata": {},
     "output_type": "execute_result"
    }
   ],
   "source": [
    "df2.columns"
   ]
  },
  {
   "cell_type": "code",
   "execution_count": 83,
   "id": "e9cb9438-473a-47e7-88b1-2ab61b40ef89",
   "metadata": {},
   "outputs": [],
   "source": [
    "df2.to_csv(\"data2/skills.csv\", index=False)"
   ]
  },
  {
   "cell_type": "code",
   "execution_count": null,
   "id": "80b12567-3dde-4ade-8dbf-78bfdc2de1ec",
   "metadata": {},
   "outputs": [],
   "source": [
    "# nochmal genauer überlegen, wie zusätzliche Programmiersprachen behandelt werden sollen \n",
    "# (Python+Julia oder ähnlicher sein als eine Beschreibung ohne beides)\n",
    "# versuchen zu unterscheiden, ob sie mit und oder oder verknüpft wurden\n",
    "# Summe aller Booleans zeilenweise analysieren\n",
    "# Grouped Bar Chart plotten, wenn verschiedene Jobtitel ausgewählt wurden\n",
    "# Studiengang, Abschluss, Berufserfahrung als weitere Kategorie einführen"
   ]
  },
  {
   "cell_type": "code",
   "execution_count": 256,
   "id": "f9cf93f1-aec4-4356-b256-1d23dfc48369",
   "metadata": {},
   "outputs": [
    {
     "data": {
      "text/plain": [
       "Manager                      954\n",
       "Others                       867\n",
       "Software Engineer            390\n",
       "Data Analyst                 387\n",
       "Data Science Consultant      373\n",
       "Machine Learning Engineer    316\n",
       "Data Engineer                265\n",
       "Data Scientist               209\n",
       "Name: title_cat, dtype: int64"
      ]
     },
     "execution_count": 256,
     "metadata": {},
     "output_type": "execute_result"
    }
   ],
   "source": [
    "df2[\"title_cat\"].value_counts()"
   ]
  },
  {
   "cell_type": "code",
   "execution_count": 60,
   "id": "036fbf51-2c4e-4327-9afb-a34594496c0f",
   "metadata": {},
   "outputs": [
    {
     "data": {
      "text/plain": [
       "['a', 'a', 'b', 'b', 'b']"
      ]
     },
     "execution_count": 60,
     "metadata": {},
     "output_type": "execute_result"
    }
   ],
   "source": [
    "2*[\"a\"]+3*[\"b\"]"
   ]
  },
  {
   "cell_type": "code",
   "execution_count": 73,
   "id": "76c6e309-8338-4f06-b902-80fd70201322",
   "metadata": {},
   "outputs": [
    {
     "data": {
      "text/html": [
       "<div>\n",
       "<style scoped>\n",
       "    .dataframe tbody tr th:only-of-type {\n",
       "        vertical-align: middle;\n",
       "    }\n",
       "\n",
       "    .dataframe tbody tr th {\n",
       "        vertical-align: top;\n",
       "    }\n",
       "\n",
       "    .dataframe thead th {\n",
       "        text-align: right;\n",
       "    }\n",
       "</style>\n",
       "<table border=\"1\" class=\"dataframe\">\n",
       "  <thead>\n",
       "    <tr style=\"text-align: right;\">\n",
       "      <th></th>\n",
       "      <th>value</th>\n",
       "      <th>type</th>\n",
       "    </tr>\n",
       "  </thead>\n",
       "  <tbody>\n",
       "    <tr>\n",
       "      <th>python</th>\n",
       "      <td>35.45</td>\n",
       "      <td>language</td>\n",
       "    </tr>\n",
       "    <tr>\n",
       "      <th>sql</th>\n",
       "      <td>28.40</td>\n",
       "      <td>language</td>\n",
       "    </tr>\n",
       "    <tr>\n",
       "      <th>r</th>\n",
       "      <td>19.94</td>\n",
       "      <td>language</td>\n",
       "    </tr>\n",
       "    <tr>\n",
       "      <th>excel</th>\n",
       "      <td>13.44</td>\n",
       "      <td>language</td>\n",
       "    </tr>\n",
       "    <tr>\n",
       "      <th>azure</th>\n",
       "      <td>11.82</td>\n",
       "      <td>technology</td>\n",
       "    </tr>\n",
       "  </tbody>\n",
       "</table>\n",
       "</div>"
      ],
      "text/plain": [
       "        value        type\n",
       "python  35.45    language\n",
       "sql     28.40    language\n",
       "r       19.94    language\n",
       "excel   13.44    language\n",
       "azure   11.82  technology"
      ]
     },
     "execution_count": 73,
     "metadata": {},
     "output_type": "execute_result"
    }
   ],
   "source": [
    "percentages = pd.Series(df2.drop([\"title_cat\", \"content\", \"link\"], axis=1).sum() * 100 / len(df2), name=\"value\")\n",
    "percentages = percentages.apply(lambda x: round(x,2))\n",
    "percentages = percentages.to_frame()\n",
    "percentages[\"type\"] = 19*[\"language\"] + 20*[\"technology\"] + 14*[\"library\"]\n",
    "percentages = percentages.sort_values(\"value\", ascending=False)\n",
    "percentages.iloc[:5]"
   ]
  },
  {
   "cell_type": "code",
   "execution_count": null,
   "id": "326f4271-16c6-4a7b-b3ce-259c84eac9a7",
   "metadata": {},
   "outputs": [],
   "source": []
  },
  {
   "cell_type": "code",
   "execution_count": 82,
   "id": "a50fd6fe-edff-4d47-8184-2ab74c66377b",
   "metadata": {},
   "outputs": [
    {
     "data": {
      "application/vnd.plotly.v1+json": {
       "config": {
        "plotlyServerURL": "https://plot.ly"
       },
       "data": [
        {
         "alignmentgroup": "True",
         "hovertemplate": "color=language<br>Skills=%{x}<br>Percentages=%{y}<extra></extra>",
         "legendgroup": "language",
         "marker": {
          "color": "#636efa",
          "pattern": {
           "shape": ""
          }
         },
         "name": "language",
         "offsetgroup": "language",
         "orientation": "v",
         "showlegend": true,
         "textposition": "auto",
         "type": "bar",
         "x": [
          "python",
          "sql",
          "r",
          "excel",
          "c++",
          "tableau",
          "power_bi",
          "javascript",
          "c#",
          "java",
          "matlab"
         ],
         "xaxis": "x",
         "y": [
          35.45,
          28.4,
          19.94,
          13.44,
          8.74,
          7.29,
          5.94,
          5.91,
          4.94,
          4.7,
          2.97
         ],
         "yaxis": "y"
        },
        {
         "alignmentgroup": "True",
         "hovertemplate": "color=technology<br>Skills=%{x}<br>Percentages=%{y}<extra></extra>",
         "legendgroup": "technology",
         "marker": {
          "color": "#EF553B",
          "pattern": {
           "shape": ""
          }
         },
         "name": "technology",
         "offsetgroup": "technology",
         "orientation": "v",
         "showlegend": true,
         "textposition": "auto",
         "type": "bar",
         "x": [
          "azure",
          "aws",
          "git",
          "spark",
          "docker",
          "kubernetes",
          "linux",
          "kafka"
         ],
         "xaxis": "x",
         "y": [
          11.82,
          11.61,
          8.71,
          7.88,
          7.26,
          6.57,
          5.36,
          3.77
         ],
         "yaxis": "y"
        },
        {
         "alignmentgroup": "True",
         "hovertemplate": "color=library<br>Skills=%{x}<br>Percentages=%{y}<extra></extra>",
         "legendgroup": "library",
         "marker": {
          "color": "#00cc96",
          "pattern": {
           "shape": ""
          }
         },
         "name": "library",
         "offsetgroup": "library",
         "orientation": "v",
         "showlegend": true,
         "textposition": "auto",
         "type": "bar",
         "x": [
          "tensorflow"
         ],
         "xaxis": "x",
         "y": [
          4.11
         ],
         "yaxis": "y"
        }
       ],
       "layout": {
        "autosize": true,
        "barmode": "relative",
        "legend": {
         "title": {
          "text": "color"
         },
         "tracegroupgap": 0
        },
        "showlegend": false,
        "template": {
         "data": {
          "bar": [
           {
            "error_x": {
             "color": "#2a3f5f"
            },
            "error_y": {
             "color": "#2a3f5f"
            },
            "marker": {
             "line": {
              "color": "#E5ECF6",
              "width": 0.5
             },
             "pattern": {
              "fillmode": "overlay",
              "size": 10,
              "solidity": 0.2
             }
            },
            "type": "bar"
           }
          ],
          "barpolar": [
           {
            "marker": {
             "line": {
              "color": "#E5ECF6",
              "width": 0.5
             },
             "pattern": {
              "fillmode": "overlay",
              "size": 10,
              "solidity": 0.2
             }
            },
            "type": "barpolar"
           }
          ],
          "carpet": [
           {
            "aaxis": {
             "endlinecolor": "#2a3f5f",
             "gridcolor": "white",
             "linecolor": "white",
             "minorgridcolor": "white",
             "startlinecolor": "#2a3f5f"
            },
            "baxis": {
             "endlinecolor": "#2a3f5f",
             "gridcolor": "white",
             "linecolor": "white",
             "minorgridcolor": "white",
             "startlinecolor": "#2a3f5f"
            },
            "type": "carpet"
           }
          ],
          "choropleth": [
           {
            "colorbar": {
             "outlinewidth": 0,
             "ticks": ""
            },
            "type": "choropleth"
           }
          ],
          "contour": [
           {
            "colorbar": {
             "outlinewidth": 0,
             "ticks": ""
            },
            "colorscale": [
             [
              0,
              "#0d0887"
             ],
             [
              0.1111111111111111,
              "#46039f"
             ],
             [
              0.2222222222222222,
              "#7201a8"
             ],
             [
              0.3333333333333333,
              "#9c179e"
             ],
             [
              0.4444444444444444,
              "#bd3786"
             ],
             [
              0.5555555555555556,
              "#d8576b"
             ],
             [
              0.6666666666666666,
              "#ed7953"
             ],
             [
              0.7777777777777778,
              "#fb9f3a"
             ],
             [
              0.8888888888888888,
              "#fdca26"
             ],
             [
              1,
              "#f0f921"
             ]
            ],
            "type": "contour"
           }
          ],
          "contourcarpet": [
           {
            "colorbar": {
             "outlinewidth": 0,
             "ticks": ""
            },
            "type": "contourcarpet"
           }
          ],
          "heatmap": [
           {
            "colorbar": {
             "outlinewidth": 0,
             "ticks": ""
            },
            "colorscale": [
             [
              0,
              "#0d0887"
             ],
             [
              0.1111111111111111,
              "#46039f"
             ],
             [
              0.2222222222222222,
              "#7201a8"
             ],
             [
              0.3333333333333333,
              "#9c179e"
             ],
             [
              0.4444444444444444,
              "#bd3786"
             ],
             [
              0.5555555555555556,
              "#d8576b"
             ],
             [
              0.6666666666666666,
              "#ed7953"
             ],
             [
              0.7777777777777778,
              "#fb9f3a"
             ],
             [
              0.8888888888888888,
              "#fdca26"
             ],
             [
              1,
              "#f0f921"
             ]
            ],
            "type": "heatmap"
           }
          ],
          "heatmapgl": [
           {
            "colorbar": {
             "outlinewidth": 0,
             "ticks": ""
            },
            "colorscale": [
             [
              0,
              "#0d0887"
             ],
             [
              0.1111111111111111,
              "#46039f"
             ],
             [
              0.2222222222222222,
              "#7201a8"
             ],
             [
              0.3333333333333333,
              "#9c179e"
             ],
             [
              0.4444444444444444,
              "#bd3786"
             ],
             [
              0.5555555555555556,
              "#d8576b"
             ],
             [
              0.6666666666666666,
              "#ed7953"
             ],
             [
              0.7777777777777778,
              "#fb9f3a"
             ],
             [
              0.8888888888888888,
              "#fdca26"
             ],
             [
              1,
              "#f0f921"
             ]
            ],
            "type": "heatmapgl"
           }
          ],
          "histogram": [
           {
            "marker": {
             "pattern": {
              "fillmode": "overlay",
              "size": 10,
              "solidity": 0.2
             }
            },
            "type": "histogram"
           }
          ],
          "histogram2d": [
           {
            "colorbar": {
             "outlinewidth": 0,
             "ticks": ""
            },
            "colorscale": [
             [
              0,
              "#0d0887"
             ],
             [
              0.1111111111111111,
              "#46039f"
             ],
             [
              0.2222222222222222,
              "#7201a8"
             ],
             [
              0.3333333333333333,
              "#9c179e"
             ],
             [
              0.4444444444444444,
              "#bd3786"
             ],
             [
              0.5555555555555556,
              "#d8576b"
             ],
             [
              0.6666666666666666,
              "#ed7953"
             ],
             [
              0.7777777777777778,
              "#fb9f3a"
             ],
             [
              0.8888888888888888,
              "#fdca26"
             ],
             [
              1,
              "#f0f921"
             ]
            ],
            "type": "histogram2d"
           }
          ],
          "histogram2dcontour": [
           {
            "colorbar": {
             "outlinewidth": 0,
             "ticks": ""
            },
            "colorscale": [
             [
              0,
              "#0d0887"
             ],
             [
              0.1111111111111111,
              "#46039f"
             ],
             [
              0.2222222222222222,
              "#7201a8"
             ],
             [
              0.3333333333333333,
              "#9c179e"
             ],
             [
              0.4444444444444444,
              "#bd3786"
             ],
             [
              0.5555555555555556,
              "#d8576b"
             ],
             [
              0.6666666666666666,
              "#ed7953"
             ],
             [
              0.7777777777777778,
              "#fb9f3a"
             ],
             [
              0.8888888888888888,
              "#fdca26"
             ],
             [
              1,
              "#f0f921"
             ]
            ],
            "type": "histogram2dcontour"
           }
          ],
          "mesh3d": [
           {
            "colorbar": {
             "outlinewidth": 0,
             "ticks": ""
            },
            "type": "mesh3d"
           }
          ],
          "parcoords": [
           {
            "line": {
             "colorbar": {
              "outlinewidth": 0,
              "ticks": ""
             }
            },
            "type": "parcoords"
           }
          ],
          "pie": [
           {
            "automargin": true,
            "type": "pie"
           }
          ],
          "scatter": [
           {
            "marker": {
             "colorbar": {
              "outlinewidth": 0,
              "ticks": ""
             }
            },
            "type": "scatter"
           }
          ],
          "scatter3d": [
           {
            "line": {
             "colorbar": {
              "outlinewidth": 0,
              "ticks": ""
             }
            },
            "marker": {
             "colorbar": {
              "outlinewidth": 0,
              "ticks": ""
             }
            },
            "type": "scatter3d"
           }
          ],
          "scattercarpet": [
           {
            "marker": {
             "colorbar": {
              "outlinewidth": 0,
              "ticks": ""
             }
            },
            "type": "scattercarpet"
           }
          ],
          "scattergeo": [
           {
            "marker": {
             "colorbar": {
              "outlinewidth": 0,
              "ticks": ""
             }
            },
            "type": "scattergeo"
           }
          ],
          "scattergl": [
           {
            "marker": {
             "colorbar": {
              "outlinewidth": 0,
              "ticks": ""
             }
            },
            "type": "scattergl"
           }
          ],
          "scattermapbox": [
           {
            "marker": {
             "colorbar": {
              "outlinewidth": 0,
              "ticks": ""
             }
            },
            "type": "scattermapbox"
           }
          ],
          "scatterpolar": [
           {
            "marker": {
             "colorbar": {
              "outlinewidth": 0,
              "ticks": ""
             }
            },
            "type": "scatterpolar"
           }
          ],
          "scatterpolargl": [
           {
            "marker": {
             "colorbar": {
              "outlinewidth": 0,
              "ticks": ""
             }
            },
            "type": "scatterpolargl"
           }
          ],
          "scatterternary": [
           {
            "marker": {
             "colorbar": {
              "outlinewidth": 0,
              "ticks": ""
             }
            },
            "type": "scatterternary"
           }
          ],
          "surface": [
           {
            "colorbar": {
             "outlinewidth": 0,
             "ticks": ""
            },
            "colorscale": [
             [
              0,
              "#0d0887"
             ],
             [
              0.1111111111111111,
              "#46039f"
             ],
             [
              0.2222222222222222,
              "#7201a8"
             ],
             [
              0.3333333333333333,
              "#9c179e"
             ],
             [
              0.4444444444444444,
              "#bd3786"
             ],
             [
              0.5555555555555556,
              "#d8576b"
             ],
             [
              0.6666666666666666,
              "#ed7953"
             ],
             [
              0.7777777777777778,
              "#fb9f3a"
             ],
             [
              0.8888888888888888,
              "#fdca26"
             ],
             [
              1,
              "#f0f921"
             ]
            ],
            "type": "surface"
           }
          ],
          "table": [
           {
            "cells": {
             "fill": {
              "color": "#EBF0F8"
             },
             "line": {
              "color": "white"
             }
            },
            "header": {
             "fill": {
              "color": "#C8D4E3"
             },
             "line": {
              "color": "white"
             }
            },
            "type": "table"
           }
          ]
         },
         "layout": {
          "annotationdefaults": {
           "arrowcolor": "#2a3f5f",
           "arrowhead": 0,
           "arrowwidth": 1
          },
          "autotypenumbers": "strict",
          "coloraxis": {
           "colorbar": {
            "outlinewidth": 0,
            "ticks": ""
           }
          },
          "colorscale": {
           "diverging": [
            [
             0,
             "#8e0152"
            ],
            [
             0.1,
             "#c51b7d"
            ],
            [
             0.2,
             "#de77ae"
            ],
            [
             0.3,
             "#f1b6da"
            ],
            [
             0.4,
             "#fde0ef"
            ],
            [
             0.5,
             "#f7f7f7"
            ],
            [
             0.6,
             "#e6f5d0"
            ],
            [
             0.7,
             "#b8e186"
            ],
            [
             0.8,
             "#7fbc41"
            ],
            [
             0.9,
             "#4d9221"
            ],
            [
             1,
             "#276419"
            ]
           ],
           "sequential": [
            [
             0,
             "#0d0887"
            ],
            [
             0.1111111111111111,
             "#46039f"
            ],
            [
             0.2222222222222222,
             "#7201a8"
            ],
            [
             0.3333333333333333,
             "#9c179e"
            ],
            [
             0.4444444444444444,
             "#bd3786"
            ],
            [
             0.5555555555555556,
             "#d8576b"
            ],
            [
             0.6666666666666666,
             "#ed7953"
            ],
            [
             0.7777777777777778,
             "#fb9f3a"
            ],
            [
             0.8888888888888888,
             "#fdca26"
            ],
            [
             1,
             "#f0f921"
            ]
           ],
           "sequentialminus": [
            [
             0,
             "#0d0887"
            ],
            [
             0.1111111111111111,
             "#46039f"
            ],
            [
             0.2222222222222222,
             "#7201a8"
            ],
            [
             0.3333333333333333,
             "#9c179e"
            ],
            [
             0.4444444444444444,
             "#bd3786"
            ],
            [
             0.5555555555555556,
             "#d8576b"
            ],
            [
             0.6666666666666666,
             "#ed7953"
            ],
            [
             0.7777777777777778,
             "#fb9f3a"
            ],
            [
             0.8888888888888888,
             "#fdca26"
            ],
            [
             1,
             "#f0f921"
            ]
           ]
          },
          "colorway": [
           "#636efa",
           "#EF553B",
           "#00cc96",
           "#ab63fa",
           "#FFA15A",
           "#19d3f3",
           "#FF6692",
           "#B6E880",
           "#FF97FF",
           "#FECB52"
          ],
          "font": {
           "color": "#2a3f5f"
          },
          "geo": {
           "bgcolor": "white",
           "lakecolor": "white",
           "landcolor": "#E5ECF6",
           "showlakes": true,
           "showland": true,
           "subunitcolor": "white"
          },
          "hoverlabel": {
           "align": "left"
          },
          "hovermode": "closest",
          "mapbox": {
           "style": "light"
          },
          "paper_bgcolor": "white",
          "plot_bgcolor": "#E5ECF6",
          "polar": {
           "angularaxis": {
            "gridcolor": "white",
            "linecolor": "white",
            "ticks": ""
           },
           "bgcolor": "#E5ECF6",
           "radialaxis": {
            "gridcolor": "white",
            "linecolor": "white",
            "ticks": ""
           }
          },
          "scene": {
           "xaxis": {
            "backgroundcolor": "#E5ECF6",
            "gridcolor": "white",
            "gridwidth": 2,
            "linecolor": "white",
            "showbackground": true,
            "ticks": "",
            "zerolinecolor": "white"
           },
           "yaxis": {
            "backgroundcolor": "#E5ECF6",
            "gridcolor": "white",
            "gridwidth": 2,
            "linecolor": "white",
            "showbackground": true,
            "ticks": "",
            "zerolinecolor": "white"
           },
           "zaxis": {
            "backgroundcolor": "#E5ECF6",
            "gridcolor": "white",
            "gridwidth": 2,
            "linecolor": "white",
            "showbackground": true,
            "ticks": "",
            "zerolinecolor": "white"
           }
          },
          "shapedefaults": {
           "line": {
            "color": "#2a3f5f"
           }
          },
          "ternary": {
           "aaxis": {
            "gridcolor": "white",
            "linecolor": "white",
            "ticks": ""
           },
           "baxis": {
            "gridcolor": "white",
            "linecolor": "white",
            "ticks": ""
           },
           "bgcolor": "#E5ECF6",
           "caxis": {
            "gridcolor": "white",
            "linecolor": "white",
            "ticks": ""
           }
          },
          "title": {
           "x": 0.05
          },
          "xaxis": {
           "automargin": true,
           "gridcolor": "white",
           "linecolor": "white",
           "ticks": "",
           "title": {
            "standoff": 15
           },
           "zerolinecolor": "white",
           "zerolinewidth": 2
          },
          "yaxis": {
           "automargin": true,
           "gridcolor": "white",
           "linecolor": "white",
           "ticks": "",
           "title": {
            "standoff": 15
           },
           "zerolinecolor": "white",
           "zerolinewidth": 2
          }
         }
        },
        "title": {
         "text": "Most required Skills for Data Science Jobs"
        },
        "xaxis": {
         "anchor": "y",
         "autorange": true,
         "domain": [
          0,
          1
         ],
         "range": [
          -0.5,
          19.5
         ],
         "title": {
          "text": "Skills"
         },
         "type": "category"
        },
        "yaxis": {
         "anchor": "x",
         "autorange": true,
         "domain": [
          0,
          1
         ],
         "range": [
          0,
          37.31578947368421
         ],
         "title": {
          "text": "Percentages"
         },
         "type": "linear"
        }
       }
      },
      "image/png": "[encoded data removed]",
      "text/html": [
       "<div>                            <div id=\"84abe2be-17cc-493c-b1a9-ea5976de1f03\" class=\"plotly-graph-div\" style=\"height:525px; width:100%;\"></div>            <script type=\"text/javascript\">                require([\"plotly\"], function(Plotly) {                    window.PLOTLYENV=window.PLOTLYENV || {};                                    if (document.getElementById(\"84abe2be-17cc-493c-b1a9-ea5976de1f03\")) {                    Plotly.newPlot(                        \"84abe2be-17cc-493c-b1a9-ea5976de1f03\",                        [{\"alignmentgroup\":\"True\",\"hovertemplate\":\"color=language<br>Skills=%{x}<br>Percentages=%{y}<extra></extra>\",\"legendgroup\":\"language\",\"marker\":{\"color\":\"#636efa\",\"pattern\":{\"shape\":\"\"}},\"name\":\"language\",\"offsetgroup\":\"language\",\"orientation\":\"v\",\"showlegend\":true,\"textposition\":\"auto\",\"x\":[\"python\",\"sql\",\"r\",\"excel\",\"c++\",\"tableau\",\"power_bi\",\"javascript\",\"c#\",\"java\",\"matlab\"],\"xaxis\":\"x\",\"y\":[35.45,28.4,19.94,13.44,8.74,7.29,5.94,5.91,4.94,4.7,2.97],\"yaxis\":\"y\",\"type\":\"bar\"},{\"alignmentgroup\":\"True\",\"hovertemplate\":\"color=technology<br>Skills=%{x}<br>Percentages=%{y}<extra></extra>\",\"legendgroup\":\"technology\",\"marker\":{\"color\":\"#EF553B\",\"pattern\":{\"shape\":\"\"}},\"name\":\"technology\",\"offsetgroup\":\"technology\",\"orientation\":\"v\",\"showlegend\":true,\"textposition\":\"auto\",\"x\":[\"azure\",\"aws\",\"git\",\"spark\",\"docker\",\"kubernetes\",\"linux\",\"kafka\"],\"xaxis\":\"x\",\"y\":[11.82,11.61,8.71,7.88,7.26,6.57,5.36,3.77],\"yaxis\":\"y\",\"type\":\"bar\"},{\"alignmentgroup\":\"True\",\"hovertemplate\":\"color=library<br>Skills=%{x}<br>Percentages=%{y}<extra></extra>\",\"legendgroup\":\"library\",\"marker\":{\"color\":\"#00cc96\",\"pattern\":{\"shape\":\"\"}},\"name\":\"library\",\"offsetgroup\":\"library\",\"orientation\":\"v\",\"showlegend\":true,\"textposition\":\"auto\",\"x\":[\"tensorflow\"],\"xaxis\":\"x\",\"y\":[4.11],\"yaxis\":\"y\",\"type\":\"bar\"}],                        {\"template\":{\"data\":{\"bar\":[{\"error_x\":{\"color\":\"#2a3f5f\"},\"error_y\":{\"color\":\"#2a3f5f\"},\"marker\":{\"line\":{\"color\":\"#E5ECF6\",\"width\":0.5},\"pattern\":{\"fillmode\":\"overlay\",\"size\":10,\"solidity\":0.2}},\"type\":\"bar\"}],\"barpolar\":[{\"marker\":{\"line\":{\"color\":\"#E5ECF6\",\"width\":0.5},\"pattern\":{\"fillmode\":\"overlay\",\"size\":10,\"solidity\":0.2}},\"type\":\"barpolar\"}],\"carpet\":[{\"aaxis\":{\"endlinecolor\":\"#2a3f5f\",\"gridcolor\":\"white\",\"linecolor\":\"white\",\"minorgridcolor\":\"white\",\"startlinecolor\":\"#2a3f5f\"},\"baxis\":{\"endlinecolor\":\"#2a3f5f\",\"gridcolor\":\"white\",\"linecolor\":\"white\",\"minorgridcolor\":\"white\",\"startlinecolor\":\"#2a3f5f\"},\"type\":\"carpet\"}],\"choropleth\":[{\"colorbar\":{\"outlinewidth\":0,\"ticks\":\"\"},\"type\":\"choropleth\"}],\"contour\":[{\"colorbar\":{\"outlinewidth\":0,\"ticks\":\"\"},\"colorscale\":[[0.0,\"#0d0887\"],[0.1111111111111111,\"#46039f\"],[0.2222222222222222,\"#7201a8\"],[0.3333333333333333,\"#9c179e\"],[0.4444444444444444,\"#bd3786\"],[0.5555555555555556,\"#d8576b\"],[0.6666666666666666,\"#ed7953\"],[0.7777777777777778,\"#fb9f3a\"],[0.8888888888888888,\"#fdca26\"],[1.0,\"#f0f921\"]],\"type\":\"contour\"}],\"contourcarpet\":[{\"colorbar\":{\"outlinewidth\":0,\"ticks\":\"\"},\"type\":\"contourcarpet\"}],\"heatmap\":[{\"colorbar\":{\"outlinewidth\":0,\"ticks\":\"\"},\"colorscale\":[[0.0,\"#0d0887\"],[0.1111111111111111,\"#46039f\"],[0.2222222222222222,\"#7201a8\"],[0.3333333333333333,\"#9c179e\"],[0.4444444444444444,\"#bd3786\"],[0.5555555555555556,\"#d8576b\"],[0.6666666666666666,\"#ed7953\"],[0.7777777777777778,\"#fb9f3a\"],[0.8888888888888888,\"#fdca26\"],[1.0,\"#f0f921\"]],\"type\":\"heatmap\"}],\"heatmapgl\":[{\"colorbar\":{\"outlinewidth\":0,\"ticks\":\"\"},\"colorscale\":[[0.0,\"#0d0887\"],[0.1111111111111111,\"#46039f\"],[0.2222222222222222,\"#7201a8\"],[0.3333333333333333,\"#9c179e\"],[0.4444444444444444,\"#bd3786\"],[0.5555555555555556,\"#d8576b\"],[0.6666666666666666,\"#ed7953\"],[0.7777777777777778,\"#fb9f3a\"],[0.8888888888888888,\"#fdca26\"],[1.0,\"#f0f921\"]],\"type\":\"heatmapgl\"}],\"histogram\":[{\"marker\":{\"pattern\":{\"fillmode\":\"overlay\",\"size\":10,\"solidity\":0.2}},\"type\":\"histogram\"}],\"histogram2d\":[{\"colorbar\":{\"outlinewidth\":0,\"ticks\":\"\"},\"colorscale\":[[0.0,\"#0d0887\"],[0.1111111111111111,\"#46039f\"],[0.2222222222222222,\"#7201a8\"],[0.3333333333333333,\"#9c179e\"],[0.4444444444444444,\"#bd3786\"],[0.5555555555555556,\"#d8576b\"],[0.6666666666666666,\"#ed7953\"],[0.7777777777777778,\"#fb9f3a\"],[0.8888888888888888,\"#fdca26\"],[1.0,\"#f0f921\"]],\"type\":\"histogram2d\"}],\"histogram2dcontour\":[{\"colorbar\":{\"outlinewidth\":0,\"ticks\":\"\"},\"colorscale\":[[0.0,\"#0d0887\"],[0.1111111111111111,\"#46039f\"],[0.2222222222222222,\"#7201a8\"],[0.3333333333333333,\"#9c179e\"],[0.4444444444444444,\"#bd3786\"],[0.5555555555555556,\"#d8576b\"],[0.6666666666666666,\"#ed7953\"],[0.7777777777777778,\"#fb9f3a\"],[0.8888888888888888,\"#fdca26\"],[1.0,\"#f0f921\"]],\"type\":\"histogram2dcontour\"}],\"mesh3d\":[{\"colorbar\":{\"outlinewidth\":0,\"ticks\":\"\"},\"type\":\"mesh3d\"}],\"parcoords\":[{\"line\":{\"colorbar\":{\"outlinewidth\":0,\"ticks\":\"\"}},\"type\":\"parcoords\"}],\"pie\":[{\"automargin\":true,\"type\":\"pie\"}],\"scatter\":[{\"marker\":{\"colorbar\":{\"outlinewidth\":0,\"ticks\":\"\"}},\"type\":\"scatter\"}],\"scatter3d\":[{\"line\":{\"colorbar\":{\"outlinewidth\":0,\"ticks\":\"\"}},\"marker\":{\"colorbar\":{\"outlinewidth\":0,\"ticks\":\"\"}},\"type\":\"scatter3d\"}],\"scattercarpet\":[{\"marker\":{\"colorbar\":{\"outlinewidth\":0,\"ticks\":\"\"}},\"type\":\"scattercarpet\"}],\"scattergeo\":[{\"marker\":{\"colorbar\":{\"outlinewidth\":0,\"ticks\":\"\"}},\"type\":\"scattergeo\"}],\"scattergl\":[{\"marker\":{\"colorbar\":{\"outlinewidth\":0,\"ticks\":\"\"}},\"type\":\"scattergl\"}],\"scattermapbox\":[{\"marker\":{\"colorbar\":{\"outlinewidth\":0,\"ticks\":\"\"}},\"type\":\"scattermapbox\"}],\"scatterpolar\":[{\"marker\":{\"colorbar\":{\"outlinewidth\":0,\"ticks\":\"\"}},\"type\":\"scatterpolar\"}],\"scatterpolargl\":[{\"marker\":{\"colorbar\":{\"outlinewidth\":0,\"ticks\":\"\"}},\"type\":\"scatterpolargl\"}],\"scatterternary\":[{\"marker\":{\"colorbar\":{\"outlinewidth\":0,\"ticks\":\"\"}},\"type\":\"scatterternary\"}],\"surface\":[{\"colorbar\":{\"outlinewidth\":0,\"ticks\":\"\"},\"colorscale\":[[0.0,\"#0d0887\"],[0.1111111111111111,\"#46039f\"],[0.2222222222222222,\"#7201a8\"],[0.3333333333333333,\"#9c179e\"],[0.4444444444444444,\"#bd3786\"],[0.5555555555555556,\"#d8576b\"],[0.6666666666666666,\"#ed7953\"],[0.7777777777777778,\"#fb9f3a\"],[0.8888888888888888,\"#fdca26\"],[1.0,\"#f0f921\"]],\"type\":\"surface\"}],\"table\":[{\"cells\":{\"fill\":{\"color\":\"#EBF0F8\"},\"line\":{\"color\":\"white\"}},\"header\":{\"fill\":{\"color\":\"#C8D4E3\"},\"line\":{\"color\":\"white\"}},\"type\":\"table\"}]},\"layout\":{\"annotationdefaults\":{\"arrowcolor\":\"#2a3f5f\",\"arrowhead\":0,\"arrowwidth\":1},\"autotypenumbers\":\"strict\",\"coloraxis\":{\"colorbar\":{\"outlinewidth\":0,\"ticks\":\"\"}},\"colorscale\":{\"diverging\":[[0,\"#8e0152\"],[0.1,\"#c51b7d\"],[0.2,\"#de77ae\"],[0.3,\"#f1b6da\"],[0.4,\"#fde0ef\"],[0.5,\"#f7f7f7\"],[0.6,\"#e6f5d0\"],[0.7,\"#b8e186\"],[0.8,\"#7fbc41\"],[0.9,\"#4d9221\"],[1,\"#276419\"]],\"sequential\":[[0.0,\"#0d0887\"],[0.1111111111111111,\"#46039f\"],[0.2222222222222222,\"#7201a8\"],[0.3333333333333333,\"#9c179e\"],[0.4444444444444444,\"#bd3786\"],[0.5555555555555556,\"#d8576b\"],[0.6666666666666666,\"#ed7953\"],[0.7777777777777778,\"#fb9f3a\"],[0.8888888888888888,\"#fdca26\"],[1.0,\"#f0f921\"]],\"sequentialminus\":[[0.0,\"#0d0887\"],[0.1111111111111111,\"#46039f\"],[0.2222222222222222,\"#7201a8\"],[0.3333333333333333,\"#9c179e\"],[0.4444444444444444,\"#bd3786\"],[0.5555555555555556,\"#d8576b\"],[0.6666666666666666,\"#ed7953\"],[0.7777777777777778,\"#fb9f3a\"],[0.8888888888888888,\"#fdca26\"],[1.0,\"#f0f921\"]]},\"colorway\":[\"#636efa\",\"#EF553B\",\"#00cc96\",\"#ab63fa\",\"#FFA15A\",\"#19d3f3\",\"#FF6692\",\"#B6E880\",\"#FF97FF\",\"#FECB52\"],\"font\":{\"color\":\"#2a3f5f\"},\"geo\":{\"bgcolor\":\"white\",\"lakecolor\":\"white\",\"landcolor\":\"#E5ECF6\",\"showlakes\":true,\"showland\":true,\"subunitcolor\":\"white\"},\"hoverlabel\":{\"align\":\"left\"},\"hovermode\":\"closest\",\"mapbox\":{\"style\":\"light\"},\"paper_bgcolor\":\"white\",\"plot_bgcolor\":\"#E5ECF6\",\"polar\":{\"angularaxis\":{\"gridcolor\":\"white\",\"linecolor\":\"white\",\"ticks\":\"\"},\"bgcolor\":\"#E5ECF6\",\"radialaxis\":{\"gridcolor\":\"white\",\"linecolor\":\"white\",\"ticks\":\"\"}},\"scene\":{\"xaxis\":{\"backgroundcolor\":\"#E5ECF6\",\"gridcolor\":\"white\",\"gridwidth\":2,\"linecolor\":\"white\",\"showbackground\":true,\"ticks\":\"\",\"zerolinecolor\":\"white\"},\"yaxis\":{\"backgroundcolor\":\"#E5ECF6\",\"gridcolor\":\"white\",\"gridwidth\":2,\"linecolor\":\"white\",\"showbackground\":true,\"ticks\":\"\",\"zerolinecolor\":\"white\"},\"zaxis\":{\"backgroundcolor\":\"#E5ECF6\",\"gridcolor\":\"white\",\"gridwidth\":2,\"linecolor\":\"white\",\"showbackground\":true,\"ticks\":\"\",\"zerolinecolor\":\"white\"}},\"shapedefaults\":{\"line\":{\"color\":\"#2a3f5f\"}},\"ternary\":{\"aaxis\":{\"gridcolor\":\"white\",\"linecolor\":\"white\",\"ticks\":\"\"},\"baxis\":{\"gridcolor\":\"white\",\"linecolor\":\"white\",\"ticks\":\"\"},\"bgcolor\":\"#E5ECF6\",\"caxis\":{\"gridcolor\":\"white\",\"linecolor\":\"white\",\"ticks\":\"\"}},\"title\":{\"x\":0.05},\"xaxis\":{\"automargin\":true,\"gridcolor\":\"white\",\"linecolor\":\"white\",\"ticks\":\"\",\"title\":{\"standoff\":15},\"zerolinecolor\":\"white\",\"zerolinewidth\":2},\"yaxis\":{\"automargin\":true,\"gridcolor\":\"white\",\"linecolor\":\"white\",\"ticks\":\"\",\"title\":{\"standoff\":15},\"zerolinecolor\":\"white\",\"zerolinewidth\":2}}},\"xaxis\":{\"anchor\":\"y\",\"domain\":[0.0,1.0],\"title\":{\"text\":\"Skills\"}},\"yaxis\":{\"anchor\":\"x\",\"domain\":[0.0,1.0],\"title\":{\"text\":\"Percentages\"}},\"legend\":{\"title\":{\"text\":\"color\"},\"tracegroupgap\":0},\"title\":{\"text\":\"Most required Skills for Data Science Jobs\"},\"barmode\":\"relative\",\"showlegend\":false},                        {\"responsive\": true}                    ).then(function(){\n",
       "                            \n",
       "var gd = document.getElementById('84abe2be-17cc-493c-b1a9-ea5976de1f03');\n",
       "var x = new MutationObserver(function (mutations, observer) {{\n",
       "        var display = window.getComputedStyle(gd).display;\n",
       "        if (!display || display === 'none') {{\n",
       "            console.log([gd, 'removed!']);\n",
       "            Plotly.purge(gd);\n",
       "            observer.disconnect();\n",
       "        }}\n",
       "}});\n",
       "\n",
       "// Listen for the removal of the full notebook cells\n",
       "var notebookContainer = gd.closest('#notebook-container');\n",
       "if (notebookContainer) {{\n",
       "    x.observe(notebookContainer, {childList: true});\n",
       "}}\n",
       "\n",
       "// Listen for the clearing of the current output cell\n",
       "var outputEl = gd.closest('.output');\n",
       "if (outputEl) {{\n",
       "    x.observe(outputEl, {childList: true});\n",
       "}}\n",
       "\n",
       "                        })                };                });            </script>        </div>"
      ]
     },
     "metadata": {},
     "output_type": "display_data"
    }
   ],
   "source": [
    "fig = px.bar(percentages[\"value\"][:20], title=\"Most required Skills for Data Science Jobs\", \n",
    "             labels={\"_value\": \"Percentages\", \"index\": \"Skills\"})\n",
    "fig.layout.update(showlegend=False)\n",
    "fig"
   ]
  },
  {
   "cell_type": "code",
   "execution_count": 85,
   "id": "fc59ca69-409a-4006-80d6-84a40bb9dc67",
   "metadata": {},
   "outputs": [
    {
     "data": {
      "text/html": [
       "<div>\n",
       "<style scoped>\n",
       "    .dataframe tbody tr th:only-of-type {\n",
       "        vertical-align: middle;\n",
       "    }\n",
       "\n",
       "    .dataframe tbody tr th {\n",
       "        vertical-align: top;\n",
       "    }\n",
       "\n",
       "    .dataframe thead th {\n",
       "        text-align: right;\n",
       "    }\n",
       "</style>\n",
       "<table border=\"1\" class=\"dataframe\">\n",
       "  <thead>\n",
       "    <tr style=\"text-align: right;\">\n",
       "      <th></th>\n",
       "      <th>title_cat</th>\n",
       "      <th>link</th>\n",
       "      <th>content</th>\n",
       "      <th>python</th>\n",
       "      <th>r</th>\n",
       "      <th>sql</th>\n",
       "      <th>excel</th>\n",
       "      <th>java</th>\n",
       "      <th>javascript</th>\n",
       "      <th>c</th>\n",
       "      <th>...</th>\n",
       "      <th>pytorch</th>\n",
       "      <th>matplotlib</th>\n",
       "      <th>seaborn</th>\n",
       "      <th>scikit-learn</th>\n",
       "      <th>plotly</th>\n",
       "      <th>streamlit</th>\n",
       "      <th>spacy</th>\n",
       "      <th>nltk</th>\n",
       "      <th>scipy</th>\n",
       "      <th>statsmodels</th>\n",
       "    </tr>\n",
       "  </thead>\n",
       "  <tbody>\n",
       "    <tr>\n",
       "      <th>0</th>\n",
       "      <td>Machine Learning Engineer</td>\n",
       "      <td>https://www.stepstone.de/stellenangebote--Anal...</td>\n",
       "      <td>Design your own career.Make your point @ Beari...</td>\n",
       "      <td>True</td>\n",
       "      <td>True</td>\n",
       "      <td>False</td>\n",
       "      <td>False</td>\n",
       "      <td>False</td>\n",
       "      <td>False</td>\n",
       "      <td>False</td>\n",
       "      <td>...</td>\n",
       "      <td>False</td>\n",
       "      <td>False</td>\n",
       "      <td>False</td>\n",
       "      <td>False</td>\n",
       "      <td>False</td>\n",
       "      <td>False</td>\n",
       "      <td>False</td>\n",
       "      <td>False</td>\n",
       "      <td>False</td>\n",
       "      <td>False</td>\n",
       "    </tr>\n",
       "  </tbody>\n",
       "</table>\n",
       "<p>1 rows × 56 columns</p>\n",
       "</div>"
      ],
      "text/plain": [
       "                   title_cat  \\\n",
       "0  Machine Learning Engineer   \n",
       "\n",
       "                                                link  \\\n",
       "0  https://www.stepstone.de/stellenangebote--Anal...   \n",
       "\n",
       "                                             content  python     r    sql  \\\n",
       "0  Design your own career.Make your point @ Beari...    True  True  False   \n",
       "\n",
       "   excel   java  javascript      c  ...  pytorch  matplotlib  seaborn  \\\n",
       "0  False  False       False  False  ...    False       False    False   \n",
       "\n",
       "   scikit-learn  plotly  streamlit  spacy   nltk  scipy  statsmodels  \n",
       "0         False   False      False  False  False  False        False  \n",
       "\n",
       "[1 rows x 56 columns]"
      ]
     },
     "execution_count": 85,
     "metadata": {},
     "output_type": "execute_result"
    }
   ],
   "source": [
    "df2.head(1)"
   ]
  },
  {
   "cell_type": "code",
   "execution_count": 118,
   "id": "e629922d-bf49-4bad-966f-30931b80f9e4",
   "metadata": {},
   "outputs": [
    {
     "data": {
      "application/vnd.plotly.v1+json": {
       "config": {
        "plotlyServerURL": "https://plot.ly"
       },
       "data": [
        {
         "alignmentgroup": "True",
         "hovertemplate": "title=Data Scientist<br>skill=%{x}<br>Percentages=%{y}<extra></extra>",
         "legendgroup": "Data Scientist",
         "marker": {
          "color": "#636efa",
          "pattern": {
           "shape": ""
          }
         },
         "name": "Data Scientist",
         "offsetgroup": "Data Scientist",
         "orientation": "v",
         "showlegend": true,
         "textposition": "auto",
         "type": "bar",
         "x": [
          "python",
          "sql",
          "r",
          "azure",
          "spark",
          "tensorflow",
          "git",
          "pytorch",
          "c++",
          "aws",
          "scikit-learn",
          "tableau",
          "pandas",
          "excel",
          "sas",
          "docker",
          "hadoop",
          "power_bi",
          "matlab",
          "linux",
          "keras",
          "javascript",
          "java",
          "kubernetes",
          "numpy",
          "hive",
          "julia",
          "airflow",
          "google_cloud",
          "spacy",
          "knime",
          "statsmodels",
          "scipy",
          "gcp",
          "bigquery",
          "c#",
          "scala",
          "snowflake",
          "php",
          "kafka",
          "matplotlib",
          "c",
          "alteryx",
          "jenkins",
          "perl",
          "storm"
         ],
         "xaxis": "x",
         "y": [
          80.86,
          48.33,
          43.06,
          17.7,
          17.22,
          16.75,
          16.75,
          11.48,
          11.48,
          11,
          11,
          10.05,
          9.57,
          8.13,
          8.13,
          7.18,
          6.7,
          6.7,
          6.7,
          5.74,
          5.26,
          4.78,
          4.31,
          4.31,
          4.31,
          3.35,
          3.35,
          2.87,
          2.87,
          2.39,
          2.39,
          1.91,
          1.91,
          1.91,
          1.91,
          1.44,
          1.44,
          1.44,
          1.44,
          0.96,
          0.96,
          0.96,
          0.96,
          0.48,
          0.48,
          0.48
         ],
         "yaxis": "y"
        },
        {
         "alignmentgroup": "True",
         "hovertemplate": "title=Data Analyst<br>skill=%{x}<br>Percentages=%{y}<extra></extra>",
         "legendgroup": "Data Analyst",
         "marker": {
          "color": "#EF553B",
          "pattern": {
           "shape": ""
          }
         },
         "name": "Data Analyst",
         "offsetgroup": "Data Analyst",
         "orientation": "v",
         "showlegend": true,
         "textposition": "auto",
         "type": "bar",
         "x": [
          "sql",
          "python",
          "r",
          "excel",
          "tableau",
          "power_bi",
          "aws",
          "azure",
          "spark",
          "bigquery",
          "linux",
          "alteryx",
          "java",
          "javascript",
          "sas",
          "snowflake",
          "c#",
          "git",
          "google_cloud",
          "knime",
          "perl",
          "matlab",
          "pandas",
          "php",
          "kubernetes",
          "docker",
          "kafka",
          "c",
          "julia",
          "hive",
          "hadoop",
          "scikit-learn",
          "tensorflow",
          "gcp",
          "airflow",
          "c++",
          "scala",
          "plotly",
          "jenkins",
          "storm",
          "cassandra",
          "go",
          "keras",
          "pytorch",
          "matplotlib"
         ],
         "xaxis": "x",
         "y": [
          52.45,
          35.14,
          29.2,
          26.87,
          23.51,
          19.64,
          7.49,
          5.17,
          4.65,
          4.39,
          3.36,
          3.36,
          3.1,
          3.1,
          3.1,
          2.33,
          2.07,
          1.81,
          1.81,
          1.81,
          1.55,
          1.55,
          1.29,
          1.03,
          0.78,
          0.78,
          0.78,
          0.78,
          0.78,
          0.78,
          0.78,
          0.52,
          0.52,
          0.52,
          0.52,
          0.52,
          0.52,
          0.52,
          0.26,
          0.26,
          0.26,
          0.26,
          0.26,
          0.26,
          0.26
         ],
         "yaxis": "y"
        }
       ],
       "layout": {
        "autosize": true,
        "barmode": "group",
        "legend": {
         "title": {
          "text": "title"
         },
         "tracegroupgap": 0
        },
        "template": {
         "data": {
          "bar": [
           {
            "error_x": {
             "color": "#2a3f5f"
            },
            "error_y": {
             "color": "#2a3f5f"
            },
            "marker": {
             "line": {
              "color": "#E5ECF6",
              "width": 0.5
             },
             "pattern": {
              "fillmode": "overlay",
              "size": 10,
              "solidity": 0.2
             }
            },
            "type": "bar"
           }
          ],
          "barpolar": [
           {
            "marker": {
             "line": {
              "color": "#E5ECF6",
              "width": 0.5
             },
             "pattern": {
              "fillmode": "overlay",
              "size": 10,
              "solidity": 0.2
             }
            },
            "type": "barpolar"
           }
          ],
          "carpet": [
           {
            "aaxis": {
             "endlinecolor": "#2a3f5f",
             "gridcolor": "white",
             "linecolor": "white",
             "minorgridcolor": "white",
             "startlinecolor": "#2a3f5f"
            },
            "baxis": {
             "endlinecolor": "#2a3f5f",
             "gridcolor": "white",
             "linecolor": "white",
             "minorgridcolor": "white",
             "startlinecolor": "#2a3f5f"
            },
            "type": "carpet"
           }
          ],
          "choropleth": [
           {
            "colorbar": {
             "outlinewidth": 0,
             "ticks": ""
            },
            "type": "choropleth"
           }
          ],
          "contour": [
           {
            "colorbar": {
             "outlinewidth": 0,
             "ticks": ""
            },
            "colorscale": [
             [
              0,
              "#0d0887"
             ],
             [
              0.1111111111111111,
              "#46039f"
             ],
             [
              0.2222222222222222,
              "#7201a8"
             ],
             [
              0.3333333333333333,
              "#9c179e"
             ],
             [
              0.4444444444444444,
              "#bd3786"
             ],
             [
              0.5555555555555556,
              "#d8576b"
             ],
             [
              0.6666666666666666,
              "#ed7953"
             ],
             [
              0.7777777777777778,
              "#fb9f3a"
             ],
             [
              0.8888888888888888,
              "#fdca26"
             ],
             [
              1,
              "#f0f921"
             ]
            ],
            "type": "contour"
           }
          ],
          "contourcarpet": [
           {
            "colorbar": {
             "outlinewidth": 0,
             "ticks": ""
            },
            "type": "contourcarpet"
           }
          ],
          "heatmap": [
           {
            "colorbar": {
             "outlinewidth": 0,
             "ticks": ""
            },
            "colorscale": [
             [
              0,
              "#0d0887"
             ],
             [
              0.1111111111111111,
              "#46039f"
             ],
             [
              0.2222222222222222,
              "#7201a8"
             ],
             [
              0.3333333333333333,
              "#9c179e"
             ],
             [
              0.4444444444444444,
              "#bd3786"
             ],
             [
              0.5555555555555556,
              "#d8576b"
             ],
             [
              0.6666666666666666,
              "#ed7953"
             ],
             [
              0.7777777777777778,
              "#fb9f3a"
             ],
             [
              0.8888888888888888,
              "#fdca26"
             ],
             [
              1,
              "#f0f921"
             ]
            ],
            "type": "heatmap"
           }
          ],
          "heatmapgl": [
           {
            "colorbar": {
             "outlinewidth": 0,
             "ticks": ""
            },
            "colorscale": [
             [
              0,
              "#0d0887"
             ],
             [
              0.1111111111111111,
              "#46039f"
             ],
             [
              0.2222222222222222,
              "#7201a8"
             ],
             [
              0.3333333333333333,
              "#9c179e"
             ],
             [
              0.4444444444444444,
              "#bd3786"
             ],
             [
              0.5555555555555556,
              "#d8576b"
             ],
             [
              0.6666666666666666,
              "#ed7953"
             ],
             [
              0.7777777777777778,
              "#fb9f3a"
             ],
             [
              0.8888888888888888,
              "#fdca26"
             ],
             [
              1,
              "#f0f921"
             ]
            ],
            "type": "heatmapgl"
           }
          ],
          "histogram": [
           {
            "marker": {
             "pattern": {
              "fillmode": "overlay",
              "size": 10,
              "solidity": 0.2
             }
            },
            "type": "histogram"
           }
          ],
          "histogram2d": [
           {
            "colorbar": {
             "outlinewidth": 0,
             "ticks": ""
            },
            "colorscale": [
             [
              0,
              "#0d0887"
             ],
             [
              0.1111111111111111,
              "#46039f"
             ],
             [
              0.2222222222222222,
              "#7201a8"
             ],
             [
              0.3333333333333333,
              "#9c179e"
             ],
             [
              0.4444444444444444,
              "#bd3786"
             ],
             [
              0.5555555555555556,
              "#d8576b"
             ],
             [
              0.6666666666666666,
              "#ed7953"
             ],
             [
              0.7777777777777778,
              "#fb9f3a"
             ],
             [
              0.8888888888888888,
              "#fdca26"
             ],
             [
              1,
              "#f0f921"
             ]
            ],
            "type": "histogram2d"
           }
          ],
          "histogram2dcontour": [
           {
            "colorbar": {
             "outlinewidth": 0,
             "ticks": ""
            },
            "colorscale": [
             [
              0,
              "#0d0887"
             ],
             [
              0.1111111111111111,
              "#46039f"
             ],
             [
              0.2222222222222222,
              "#7201a8"
             ],
             [
              0.3333333333333333,
              "#9c179e"
             ],
             [
              0.4444444444444444,
              "#bd3786"
             ],
             [
              0.5555555555555556,
              "#d8576b"
             ],
             [
              0.6666666666666666,
              "#ed7953"
             ],
             [
              0.7777777777777778,
              "#fb9f3a"
             ],
             [
              0.8888888888888888,
              "#fdca26"
             ],
             [
              1,
              "#f0f921"
             ]
            ],
            "type": "histogram2dcontour"
           }
          ],
          "mesh3d": [
           {
            "colorbar": {
             "outlinewidth": 0,
             "ticks": ""
            },
            "type": "mesh3d"
           }
          ],
          "parcoords": [
           {
            "line": {
             "colorbar": {
              "outlinewidth": 0,
              "ticks": ""
             }
            },
            "type": "parcoords"
           }
          ],
          "pie": [
           {
            "automargin": true,
            "type": "pie"
           }
          ],
          "scatter": [
           {
            "marker": {
             "colorbar": {
              "outlinewidth": 0,
              "ticks": ""
             }
            },
            "type": "scatter"
           }
          ],
          "scatter3d": [
           {
            "line": {
             "colorbar": {
              "outlinewidth": 0,
              "ticks": ""
             }
            },
            "marker": {
             "colorbar": {
              "outlinewidth": 0,
              "ticks": ""
             }
            },
            "type": "scatter3d"
           }
          ],
          "scattercarpet": [
           {
            "marker": {
             "colorbar": {
              "outlinewidth": 0,
              "ticks": ""
             }
            },
            "type": "scattercarpet"
           }
          ],
          "scattergeo": [
           {
            "marker": {
             "colorbar": {
              "outlinewidth": 0,
              "ticks": ""
             }
            },
            "type": "scattergeo"
           }
          ],
          "scattergl": [
           {
            "marker": {
             "colorbar": {
              "outlinewidth": 0,
              "ticks": ""
             }
            },
            "type": "scattergl"
           }
          ],
          "scattermapbox": [
           {
            "marker": {
             "colorbar": {
              "outlinewidth": 0,
              "ticks": ""
             }
            },
            "type": "scattermapbox"
           }
          ],
          "scatterpolar": [
           {
            "marker": {
             "colorbar": {
              "outlinewidth": 0,
              "ticks": ""
             }
            },
            "type": "scatterpolar"
           }
          ],
          "scatterpolargl": [
           {
            "marker": {
             "colorbar": {
              "outlinewidth": 0,
              "ticks": ""
             }
            },
            "type": "scatterpolargl"
           }
          ],
          "scatterternary": [
           {
            "marker": {
             "colorbar": {
              "outlinewidth": 0,
              "ticks": ""
             }
            },
            "type": "scatterternary"
           }
          ],
          "surface": [
           {
            "colorbar": {
             "outlinewidth": 0,
             "ticks": ""
            },
            "colorscale": [
             [
              0,
              "#0d0887"
             ],
             [
              0.1111111111111111,
              "#46039f"
             ],
             [
              0.2222222222222222,
              "#7201a8"
             ],
             [
              0.3333333333333333,
              "#9c179e"
             ],
             [
              0.4444444444444444,
              "#bd3786"
             ],
             [
              0.5555555555555556,
              "#d8576b"
             ],
             [
              0.6666666666666666,
              "#ed7953"
             ],
             [
              0.7777777777777778,
              "#fb9f3a"
             ],
             [
              0.8888888888888888,
              "#fdca26"
             ],
             [
              1,
              "#f0f921"
             ]
            ],
            "type": "surface"
           }
          ],
          "table": [
           {
            "cells": {
             "fill": {
              "color": "#EBF0F8"
             },
             "line": {
              "color": "white"
             }
            },
            "header": {
             "fill": {
              "color": "#C8D4E3"
             },
             "line": {
              "color": "white"
             }
            },
            "type": "table"
           }
          ]
         },
         "layout": {
          "annotationdefaults": {
           "arrowcolor": "#2a3f5f",
           "arrowhead": 0,
           "arrowwidth": 1
          },
          "autotypenumbers": "strict",
          "coloraxis": {
           "colorbar": {
            "outlinewidth": 0,
            "ticks": ""
           }
          },
          "colorscale": {
           "diverging": [
            [
             0,
             "#8e0152"
            ],
            [
             0.1,
             "#c51b7d"
            ],
            [
             0.2,
             "#de77ae"
            ],
            [
             0.3,
             "#f1b6da"
            ],
            [
             0.4,
             "#fde0ef"
            ],
            [
             0.5,
             "#f7f7f7"
            ],
            [
             0.6,
             "#e6f5d0"
            ],
            [
             0.7,
             "#b8e186"
            ],
            [
             0.8,
             "#7fbc41"
            ],
            [
             0.9,
             "#4d9221"
            ],
            [
             1,
             "#276419"
            ]
           ],
           "sequential": [
            [
             0,
             "#0d0887"
            ],
            [
             0.1111111111111111,
             "#46039f"
            ],
            [
             0.2222222222222222,
             "#7201a8"
            ],
            [
             0.3333333333333333,
             "#9c179e"
            ],
            [
             0.4444444444444444,
             "#bd3786"
            ],
            [
             0.5555555555555556,
             "#d8576b"
            ],
            [
             0.6666666666666666,
             "#ed7953"
            ],
            [
             0.7777777777777778,
             "#fb9f3a"
            ],
            [
             0.8888888888888888,
             "#fdca26"
            ],
            [
             1,
             "#f0f921"
            ]
           ],
           "sequentialminus": [
            [
             0,
             "#0d0887"
            ],
            [
             0.1111111111111111,
             "#46039f"
            ],
            [
             0.2222222222222222,
             "#7201a8"
            ],
            [
             0.3333333333333333,
             "#9c179e"
            ],
            [
             0.4444444444444444,
             "#bd3786"
            ],
            [
             0.5555555555555556,
             "#d8576b"
            ],
            [
             0.6666666666666666,
             "#ed7953"
            ],
            [
             0.7777777777777778,
             "#fb9f3a"
            ],
            [
             0.8888888888888888,
             "#fdca26"
            ],
            [
             1,
             "#f0f921"
            ]
           ]
          },
          "colorway": [
           "#636efa",
           "#EF553B",
           "#00cc96",
           "#ab63fa",
           "#FFA15A",
           "#19d3f3",
           "#FF6692",
           "#B6E880",
           "#FF97FF",
           "#FECB52"
          ],
          "font": {
           "color": "#2a3f5f"
          },
          "geo": {
           "bgcolor": "white",
           "lakecolor": "white",
           "landcolor": "#E5ECF6",
           "showlakes": true,
           "showland": true,
           "subunitcolor": "white"
          },
          "hoverlabel": {
           "align": "left"
          },
          "hovermode": "closest",
          "mapbox": {
           "style": "light"
          },
          "paper_bgcolor": "white",
          "plot_bgcolor": "#E5ECF6",
          "polar": {
           "angularaxis": {
            "gridcolor": "white",
            "linecolor": "white",
            "ticks": ""
           },
           "bgcolor": "#E5ECF6",
           "radialaxis": {
            "gridcolor": "white",
            "linecolor": "white",
            "ticks": ""
           }
          },
          "scene": {
           "xaxis": {
            "backgroundcolor": "#E5ECF6",
            "gridcolor": "white",
            "gridwidth": 2,
            "linecolor": "white",
            "showbackground": true,
            "ticks": "",
            "zerolinecolor": "white"
           },
           "yaxis": {
            "backgroundcolor": "#E5ECF6",
            "gridcolor": "white",
            "gridwidth": 2,
            "linecolor": "white",
            "showbackground": true,
            "ticks": "",
            "zerolinecolor": "white"
           },
           "zaxis": {
            "backgroundcolor": "#E5ECF6",
            "gridcolor": "white",
            "gridwidth": 2,
            "linecolor": "white",
            "showbackground": true,
            "ticks": "",
            "zerolinecolor": "white"
           }
          },
          "shapedefaults": {
           "line": {
            "color": "#2a3f5f"
           }
          },
          "ternary": {
           "aaxis": {
            "gridcolor": "white",
            "linecolor": "white",
            "ticks": ""
           },
           "baxis": {
            "gridcolor": "white",
            "linecolor": "white",
            "ticks": ""
           },
           "bgcolor": "#E5ECF6",
           "caxis": {
            "gridcolor": "white",
            "linecolor": "white",
            "ticks": ""
           }
          },
          "title": {
           "x": 0.05
          },
          "xaxis": {
           "automargin": true,
           "gridcolor": "white",
           "linecolor": "white",
           "ticks": "",
           "title": {
            "standoff": 15
           },
           "zerolinecolor": "white",
           "zerolinewidth": 2
          },
          "yaxis": {
           "automargin": true,
           "gridcolor": "white",
           "linecolor": "white",
           "ticks": "",
           "title": {
            "standoff": 15
           },
           "zerolinecolor": "white",
           "zerolinewidth": 2
          }
         }
        },
        "title": {
         "text": "Most required Skills for Data Science Jobs"
        },
        "xaxis": {
         "anchor": "y",
         "autorange": true,
         "domain": [
          0,
          1
         ],
         "range": [
          -0.5,
          48.5
         ],
         "title": {
          "text": "skill"
         },
         "type": "category"
        },
        "yaxis": {
         "anchor": "x",
         "autorange": true,
         "domain": [
          0,
          1
         ],
         "range": [
          0,
          85.11578947368422
         ],
         "title": {
          "text": "Percentages"
         },
         "type": "linear"
        }
       }
      },
      "image/png": "[encoded data removed]",
      "text/html": [
       "<div>                            <div id=\"280d0454-b783-4d74-b569-f17ee9c13c51\" class=\"plotly-graph-div\" style=\"height:525px; width:100%;\"></div>            <script type=\"text/javascript\">                require([\"plotly\"], function(Plotly) {                    window.PLOTLYENV=window.PLOTLYENV || {};                                    if (document.getElementById(\"280d0454-b783-4d74-b569-f17ee9c13c51\")) {                    Plotly.newPlot(                        \"280d0454-b783-4d74-b569-f17ee9c13c51\",                        [{\"alignmentgroup\":\"True\",\"hovertemplate\":\"title=Data Scientist<br>skill=%{x}<br>Percentages=%{y}<extra></extra>\",\"legendgroup\":\"Data Scientist\",\"marker\":{\"color\":\"#636efa\",\"pattern\":{\"shape\":\"\"}},\"name\":\"Data Scientist\",\"offsetgroup\":\"Data Scientist\",\"orientation\":\"v\",\"showlegend\":true,\"textposition\":\"auto\",\"x\":[\"python\",\"sql\",\"r\",\"azure\",\"spark\",\"tensorflow\",\"git\",\"pytorch\",\"c++\",\"aws\",\"scikit-learn\",\"tableau\",\"pandas\",\"excel\",\"sas\",\"docker\",\"hadoop\",\"power_bi\",\"matlab\",\"linux\",\"keras\",\"javascript\",\"java\",\"kubernetes\",\"numpy\",\"hive\",\"julia\",\"airflow\",\"google_cloud\",\"spacy\",\"knime\",\"statsmodels\",\"scipy\",\"gcp\",\"bigquery\",\"c#\",\"scala\",\"snowflake\",\"php\",\"kafka\",\"matplotlib\",\"c\",\"alteryx\",\"jenkins\",\"perl\",\"storm\"],\"xaxis\":\"x\",\"y\":[80.86,48.33,43.06,17.7,17.22,16.75,16.75,11.48,11.48,11.0,11.0,10.05,9.57,8.13,8.13,7.18,6.7,6.7,6.7,5.74,5.26,4.78,4.31,4.31,4.31,3.35,3.35,2.87,2.87,2.39,2.39,1.91,1.91,1.91,1.91,1.44,1.44,1.44,1.44,0.96,0.96,0.96,0.96,0.48,0.48,0.48],\"yaxis\":\"y\",\"type\":\"bar\"},{\"alignmentgroup\":\"True\",\"hovertemplate\":\"title=Data Analyst<br>skill=%{x}<br>Percentages=%{y}<extra></extra>\",\"legendgroup\":\"Data Analyst\",\"marker\":{\"color\":\"#EF553B\",\"pattern\":{\"shape\":\"\"}},\"name\":\"Data Analyst\",\"offsetgroup\":\"Data Analyst\",\"orientation\":\"v\",\"showlegend\":true,\"textposition\":\"auto\",\"x\":[\"sql\",\"python\",\"r\",\"excel\",\"tableau\",\"power_bi\",\"aws\",\"azure\",\"spark\",\"bigquery\",\"linux\",\"alteryx\",\"java\",\"javascript\",\"sas\",\"snowflake\",\"c#\",\"git\",\"google_cloud\",\"knime\",\"perl\",\"matlab\",\"pandas\",\"php\",\"kubernetes\",\"docker\",\"kafka\",\"c\",\"julia\",\"hive\",\"hadoop\",\"scikit-learn\",\"tensorflow\",\"gcp\",\"airflow\",\"c++\",\"scala\",\"plotly\",\"jenkins\",\"storm\",\"cassandra\",\"go\",\"keras\",\"pytorch\",\"matplotlib\"],\"xaxis\":\"x\",\"y\":[52.45,35.14,29.2,26.87,23.51,19.64,7.49,5.17,4.65,4.39,3.36,3.36,3.1,3.1,3.1,2.33,2.07,1.81,1.81,1.81,1.55,1.55,1.29,1.03,0.78,0.78,0.78,0.78,0.78,0.78,0.78,0.52,0.52,0.52,0.52,0.52,0.52,0.52,0.26,0.26,0.26,0.26,0.26,0.26,0.26],\"yaxis\":\"y\",\"type\":\"bar\"}],                        {\"template\":{\"data\":{\"bar\":[{\"error_x\":{\"color\":\"#2a3f5f\"},\"error_y\":{\"color\":\"#2a3f5f\"},\"marker\":{\"line\":{\"color\":\"#E5ECF6\",\"width\":0.5},\"pattern\":{\"fillmode\":\"overlay\",\"size\":10,\"solidity\":0.2}},\"type\":\"bar\"}],\"barpolar\":[{\"marker\":{\"line\":{\"color\":\"#E5ECF6\",\"width\":0.5},\"pattern\":{\"fillmode\":\"overlay\",\"size\":10,\"solidity\":0.2}},\"type\":\"barpolar\"}],\"carpet\":[{\"aaxis\":{\"endlinecolor\":\"#2a3f5f\",\"gridcolor\":\"white\",\"linecolor\":\"white\",\"minorgridcolor\":\"white\",\"startlinecolor\":\"#2a3f5f\"},\"baxis\":{\"endlinecolor\":\"#2a3f5f\",\"gridcolor\":\"white\",\"linecolor\":\"white\",\"minorgridcolor\":\"white\",\"startlinecolor\":\"#2a3f5f\"},\"type\":\"carpet\"}],\"choropleth\":[{\"colorbar\":{\"outlinewidth\":0,\"ticks\":\"\"},\"type\":\"choropleth\"}],\"contour\":[{\"colorbar\":{\"outlinewidth\":0,\"ticks\":\"\"},\"colorscale\":[[0.0,\"#0d0887\"],[0.1111111111111111,\"#46039f\"],[0.2222222222222222,\"#7201a8\"],[0.3333333333333333,\"#9c179e\"],[0.4444444444444444,\"#bd3786\"],[0.5555555555555556,\"#d8576b\"],[0.6666666666666666,\"#ed7953\"],[0.7777777777777778,\"#fb9f3a\"],[0.8888888888888888,\"#fdca26\"],[1.0,\"#f0f921\"]],\"type\":\"contour\"}],\"contourcarpet\":[{\"colorbar\":{\"outlinewidth\":0,\"ticks\":\"\"},\"type\":\"contourcarpet\"}],\"heatmap\":[{\"colorbar\":{\"outlinewidth\":0,\"ticks\":\"\"},\"colorscale\":[[0.0,\"#0d0887\"],[0.1111111111111111,\"#46039f\"],[0.2222222222222222,\"#7201a8\"],[0.3333333333333333,\"#9c179e\"],[0.4444444444444444,\"#bd3786\"],[0.5555555555555556,\"#d8576b\"],[0.6666666666666666,\"#ed7953\"],[0.7777777777777778,\"#fb9f3a\"],[0.8888888888888888,\"#fdca26\"],[1.0,\"#f0f921\"]],\"type\":\"heatmap\"}],\"heatmapgl\":[{\"colorbar\":{\"outlinewidth\":0,\"ticks\":\"\"},\"colorscale\":[[0.0,\"#0d0887\"],[0.1111111111111111,\"#46039f\"],[0.2222222222222222,\"#7201a8\"],[0.3333333333333333,\"#9c179e\"],[0.4444444444444444,\"#bd3786\"],[0.5555555555555556,\"#d8576b\"],[0.6666666666666666,\"#ed7953\"],[0.7777777777777778,\"#fb9f3a\"],[0.8888888888888888,\"#fdca26\"],[1.0,\"#f0f921\"]],\"type\":\"heatmapgl\"}],\"histogram\":[{\"marker\":{\"pattern\":{\"fillmode\":\"overlay\",\"size\":10,\"solidity\":0.2}},\"type\":\"histogram\"}],\"histogram2d\":[{\"colorbar\":{\"outlinewidth\":0,\"ticks\":\"\"},\"colorscale\":[[0.0,\"#0d0887\"],[0.1111111111111111,\"#46039f\"],[0.2222222222222222,\"#7201a8\"],[0.3333333333333333,\"#9c179e\"],[0.4444444444444444,\"#bd3786\"],[0.5555555555555556,\"#d8576b\"],[0.6666666666666666,\"#ed7953\"],[0.7777777777777778,\"#fb9f3a\"],[0.8888888888888888,\"#fdca26\"],[1.0,\"#f0f921\"]],\"type\":\"histogram2d\"}],\"histogram2dcontour\":[{\"colorbar\":{\"outlinewidth\":0,\"ticks\":\"\"},\"colorscale\":[[0.0,\"#0d0887\"],[0.1111111111111111,\"#46039f\"],[0.2222222222222222,\"#7201a8\"],[0.3333333333333333,\"#9c179e\"],[0.4444444444444444,\"#bd3786\"],[0.5555555555555556,\"#d8576b\"],[0.6666666666666666,\"#ed7953\"],[0.7777777777777778,\"#fb9f3a\"],[0.8888888888888888,\"#fdca26\"],[1.0,\"#f0f921\"]],\"type\":\"histogram2dcontour\"}],\"mesh3d\":[{\"colorbar\":{\"outlinewidth\":0,\"ticks\":\"\"},\"type\":\"mesh3d\"}],\"parcoords\":[{\"line\":{\"colorbar\":{\"outlinewidth\":0,\"ticks\":\"\"}},\"type\":\"parcoords\"}],\"pie\":[{\"automargin\":true,\"type\":\"pie\"}],\"scatter\":[{\"marker\":{\"colorbar\":{\"outlinewidth\":0,\"ticks\":\"\"}},\"type\":\"scatter\"}],\"scatter3d\":[{\"line\":{\"colorbar\":{\"outlinewidth\":0,\"ticks\":\"\"}},\"marker\":{\"colorbar\":{\"outlinewidth\":0,\"ticks\":\"\"}},\"type\":\"scatter3d\"}],\"scattercarpet\":[{\"marker\":{\"colorbar\":{\"outlinewidth\":0,\"ticks\":\"\"}},\"type\":\"scattercarpet\"}],\"scattergeo\":[{\"marker\":{\"colorbar\":{\"outlinewidth\":0,\"ticks\":\"\"}},\"type\":\"scattergeo\"}],\"scattergl\":[{\"marker\":{\"colorbar\":{\"outlinewidth\":0,\"ticks\":\"\"}},\"type\":\"scattergl\"}],\"scattermapbox\":[{\"marker\":{\"colorbar\":{\"outlinewidth\":0,\"ticks\":\"\"}},\"type\":\"scattermapbox\"}],\"scatterpolar\":[{\"marker\":{\"colorbar\":{\"outlinewidth\":0,\"ticks\":\"\"}},\"type\":\"scatterpolar\"}],\"scatterpolargl\":[{\"marker\":{\"colorbar\":{\"outlinewidth\":0,\"ticks\":\"\"}},\"type\":\"scatterpolargl\"}],\"scatterternary\":[{\"marker\":{\"colorbar\":{\"outlinewidth\":0,\"ticks\":\"\"}},\"type\":\"scatterternary\"}],\"surface\":[{\"colorbar\":{\"outlinewidth\":0,\"ticks\":\"\"},\"colorscale\":[[0.0,\"#0d0887\"],[0.1111111111111111,\"#46039f\"],[0.2222222222222222,\"#7201a8\"],[0.3333333333333333,\"#9c179e\"],[0.4444444444444444,\"#bd3786\"],[0.5555555555555556,\"#d8576b\"],[0.6666666666666666,\"#ed7953\"],[0.7777777777777778,\"#fb9f3a\"],[0.8888888888888888,\"#fdca26\"],[1.0,\"#f0f921\"]],\"type\":\"surface\"}],\"table\":[{\"cells\":{\"fill\":{\"color\":\"#EBF0F8\"},\"line\":{\"color\":\"white\"}},\"header\":{\"fill\":{\"color\":\"#C8D4E3\"},\"line\":{\"color\":\"white\"}},\"type\":\"table\"}]},\"layout\":{\"annotationdefaults\":{\"arrowcolor\":\"#2a3f5f\",\"arrowhead\":0,\"arrowwidth\":1},\"autotypenumbers\":\"strict\",\"coloraxis\":{\"colorbar\":{\"outlinewidth\":0,\"ticks\":\"\"}},\"colorscale\":{\"diverging\":[[0,\"#8e0152\"],[0.1,\"#c51b7d\"],[0.2,\"#de77ae\"],[0.3,\"#f1b6da\"],[0.4,\"#fde0ef\"],[0.5,\"#f7f7f7\"],[0.6,\"#e6f5d0\"],[0.7,\"#b8e186\"],[0.8,\"#7fbc41\"],[0.9,\"#4d9221\"],[1,\"#276419\"]],\"sequential\":[[0.0,\"#0d0887\"],[0.1111111111111111,\"#46039f\"],[0.2222222222222222,\"#7201a8\"],[0.3333333333333333,\"#9c179e\"],[0.4444444444444444,\"#bd3786\"],[0.5555555555555556,\"#d8576b\"],[0.6666666666666666,\"#ed7953\"],[0.7777777777777778,\"#fb9f3a\"],[0.8888888888888888,\"#fdca26\"],[1.0,\"#f0f921\"]],\"sequentialminus\":[[0.0,\"#0d0887\"],[0.1111111111111111,\"#46039f\"],[0.2222222222222222,\"#7201a8\"],[0.3333333333333333,\"#9c179e\"],[0.4444444444444444,\"#bd3786\"],[0.5555555555555556,\"#d8576b\"],[0.6666666666666666,\"#ed7953\"],[0.7777777777777778,\"#fb9f3a\"],[0.8888888888888888,\"#fdca26\"],[1.0,\"#f0f921\"]]},\"colorway\":[\"#636efa\",\"#EF553B\",\"#00cc96\",\"#ab63fa\",\"#FFA15A\",\"#19d3f3\",\"#FF6692\",\"#B6E880\",\"#FF97FF\",\"#FECB52\"],\"font\":{\"color\":\"#2a3f5f\"},\"geo\":{\"bgcolor\":\"white\",\"lakecolor\":\"white\",\"landcolor\":\"#E5ECF6\",\"showlakes\":true,\"showland\":true,\"subunitcolor\":\"white\"},\"hoverlabel\":{\"align\":\"left\"},\"hovermode\":\"closest\",\"mapbox\":{\"style\":\"light\"},\"paper_bgcolor\":\"white\",\"plot_bgcolor\":\"#E5ECF6\",\"polar\":{\"angularaxis\":{\"gridcolor\":\"white\",\"linecolor\":\"white\",\"ticks\":\"\"},\"bgcolor\":\"#E5ECF6\",\"radialaxis\":{\"gridcolor\":\"white\",\"linecolor\":\"white\",\"ticks\":\"\"}},\"scene\":{\"xaxis\":{\"backgroundcolor\":\"#E5ECF6\",\"gridcolor\":\"white\",\"gridwidth\":2,\"linecolor\":\"white\",\"showbackground\":true,\"ticks\":\"\",\"zerolinecolor\":\"white\"},\"yaxis\":{\"backgroundcolor\":\"#E5ECF6\",\"gridcolor\":\"white\",\"gridwidth\":2,\"linecolor\":\"white\",\"showbackground\":true,\"ticks\":\"\",\"zerolinecolor\":\"white\"},\"zaxis\":{\"backgroundcolor\":\"#E5ECF6\",\"gridcolor\":\"white\",\"gridwidth\":2,\"linecolor\":\"white\",\"showbackground\":true,\"ticks\":\"\",\"zerolinecolor\":\"white\"}},\"shapedefaults\":{\"line\":{\"color\":\"#2a3f5f\"}},\"ternary\":{\"aaxis\":{\"gridcolor\":\"white\",\"linecolor\":\"white\",\"ticks\":\"\"},\"baxis\":{\"gridcolor\":\"white\",\"linecolor\":\"white\",\"ticks\":\"\"},\"bgcolor\":\"#E5ECF6\",\"caxis\":{\"gridcolor\":\"white\",\"linecolor\":\"white\",\"ticks\":\"\"}},\"title\":{\"x\":0.05},\"xaxis\":{\"automargin\":true,\"gridcolor\":\"white\",\"linecolor\":\"white\",\"ticks\":\"\",\"title\":{\"standoff\":15},\"zerolinecolor\":\"white\",\"zerolinewidth\":2},\"yaxis\":{\"automargin\":true,\"gridcolor\":\"white\",\"linecolor\":\"white\",\"ticks\":\"\",\"title\":{\"standoff\":15},\"zerolinecolor\":\"white\",\"zerolinewidth\":2}}},\"xaxis\":{\"anchor\":\"y\",\"domain\":[0.0,1.0],\"title\":{\"text\":\"skill\"}},\"yaxis\":{\"anchor\":\"x\",\"domain\":[0.0,1.0],\"title\":{\"text\":\"Percentages\"}},\"legend\":{\"title\":{\"text\":\"title\"},\"tracegroupgap\":0},\"title\":{\"text\":\"Most required Skills for Data Science Jobs\"},\"barmode\":\"group\"},                        {\"responsive\": true}                    ).then(function(){\n",
       "                            \n",
       "var gd = document.getElementById('280d0454-b783-4d74-b569-f17ee9c13c51');\n",
       "var x = new MutationObserver(function (mutations, observer) {{\n",
       "        var display = window.getComputedStyle(gd).display;\n",
       "        if (!display || display === 'none') {{\n",
       "            console.log([gd, 'removed!']);\n",
       "            Plotly.purge(gd);\n",
       "            observer.disconnect();\n",
       "        }}\n",
       "}});\n",
       "\n",
       "// Listen for the removal of the full notebook cells\n",
       "var notebookContainer = gd.closest('#notebook-container');\n",
       "if (notebookContainer) {{\n",
       "    x.observe(notebookContainer, {childList: true});\n",
       "}}\n",
       "\n",
       "// Listen for the clearing of the current output cell\n",
       "var outputEl = gd.closest('.output');\n",
       "if (outputEl) {{\n",
       "    x.observe(outputEl, {childList: true});\n",
       "}}\n",
       "\n",
       "                        })                };                });            </script>        </div>"
      ]
     },
     "metadata": {},
     "output_type": "display_data"
    }
   ],
   "source": [
    "first_choice = \"Data Scientist\"\n",
    "second_choice = \"Data Analyst\"\n",
    "df_first = df2.loc[df2[\"title_cat\"] == first_choice]\n",
    "df_second = df2.loc[df2[\"title_cat\"] == second_choice]\n",
    "\n",
    "\n",
    "percentages_first = pd.Series(df_first.drop([\"title_cat\", \"content\", \"link\"], axis=1).sum() * 100 / len(df_first), name=\"value\").to_frame()\n",
    "percentages_first[\"type\"] = 19*[\"language\"] + 20*[\"technology\"] + 14*[\"library\"]\n",
    "percentages_second = pd.Series(df_second.drop([\"title_cat\", \"content\", \"link\"], axis=1).sum() * 100 / len(df_second), name=\"value\").to_frame()\n",
    "percentages_second[\"type\"] = 19*[\"language\"] + 20*[\"technology\"] + 14*[\"library\"]\n",
    "percentages = pd.concat([percentages_first, percentages_second], keys=[first_choice, second_choice])\n",
    "percentages = percentages.reset_index().rename({\"level_0\": \"title\", \"level_1\": \"skill\"}, axis=1)\n",
    "percentages = percentages.loc[percentages[\"value\"] > 0]\n",
    "\n",
    "\n",
    "percentages[\"value\"] = percentages[\"value\"].apply(lambda x: round(x,2))\n",
    "percentages = percentages.sort_values(\"value\", ascending=False)\n",
    "percentages\n",
    "\n",
    "fig = px.bar(percentages,\n",
    "            x=\"skill\",\n",
    "            y=\"value\",\n",
    "            color=\"title\",\n",
    "            title=\"Most required Skills for Data Science Jobs\", \n",
    "            labels={\"value\": \"Percentages\"},\n",
    "            barmode=\"group\")\n",
    "# fig.layout.update(showlegend=False)\n",
    "fig"
   ]
  },
  {
   "cell_type": "code",
   "execution_count": 133,
   "id": "05c20d89-d4ae-404a-9f66-e2ea4894e83a",
   "metadata": {},
   "outputs": [
    {
     "data": {
      "text/html": [
       "<div>\n",
       "<style scoped>\n",
       "    .dataframe tbody tr th:only-of-type {\n",
       "        vertical-align: middle;\n",
       "    }\n",
       "\n",
       "    .dataframe tbody tr th {\n",
       "        vertical-align: top;\n",
       "    }\n",
       "\n",
       "    .dataframe thead th {\n",
       "        text-align: right;\n",
       "    }\n",
       "</style>\n",
       "<table border=\"1\" class=\"dataframe\">\n",
       "  <thead>\n",
       "    <tr style=\"text-align: right;\">\n",
       "      <th></th>\n",
       "      <th>index</th>\n",
       "      <th>Data Scientist</th>\n",
       "      <th>type</th>\n",
       "      <th>Data Analyst</th>\n",
       "    </tr>\n",
       "  </thead>\n",
       "  <tbody>\n",
       "    <tr>\n",
       "      <th>2</th>\n",
       "      <td>sql</td>\n",
       "      <td>48.33</td>\n",
       "      <td>language</td>\n",
       "      <td>52.45</td>\n",
       "    </tr>\n",
       "    <tr>\n",
       "      <th>0</th>\n",
       "      <td>python</td>\n",
       "      <td>80.86</td>\n",
       "      <td>language</td>\n",
       "      <td>35.14</td>\n",
       "    </tr>\n",
       "    <tr>\n",
       "      <th>1</th>\n",
       "      <td>r</td>\n",
       "      <td>43.06</td>\n",
       "      <td>language</td>\n",
       "      <td>29.20</td>\n",
       "    </tr>\n",
       "    <tr>\n",
       "      <th>3</th>\n",
       "      <td>excel</td>\n",
       "      <td>8.13</td>\n",
       "      <td>language</td>\n",
       "      <td>26.87</td>\n",
       "    </tr>\n",
       "    <tr>\n",
       "      <th>15</th>\n",
       "      <td>tableau</td>\n",
       "      <td>10.05</td>\n",
       "      <td>language</td>\n",
       "      <td>23.51</td>\n",
       "    </tr>\n",
       "    <tr>\n",
       "      <th>16</th>\n",
       "      <td>power_bi</td>\n",
       "      <td>6.70</td>\n",
       "      <td>language</td>\n",
       "      <td>19.64</td>\n",
       "    </tr>\n",
       "    <tr>\n",
       "      <th>25</th>\n",
       "      <td>aws</td>\n",
       "      <td>11.00</td>\n",
       "      <td>technology</td>\n",
       "      <td>7.49</td>\n",
       "    </tr>\n",
       "    <tr>\n",
       "      <th>27</th>\n",
       "      <td>azure</td>\n",
       "      <td>17.70</td>\n",
       "      <td>technology</td>\n",
       "      <td>5.17</td>\n",
       "    </tr>\n",
       "    <tr>\n",
       "      <th>19</th>\n",
       "      <td>spark</td>\n",
       "      <td>17.22</td>\n",
       "      <td>technology</td>\n",
       "      <td>4.65</td>\n",
       "    </tr>\n",
       "    <tr>\n",
       "      <th>34</th>\n",
       "      <td>bigquery</td>\n",
       "      <td>1.91</td>\n",
       "      <td>technology</td>\n",
       "      <td>4.39</td>\n",
       "    </tr>\n",
       "    <tr>\n",
       "      <th>38</th>\n",
       "      <td>alteryx</td>\n",
       "      <td>0.96</td>\n",
       "      <td>technology</td>\n",
       "      <td>3.36</td>\n",
       "    </tr>\n",
       "    <tr>\n",
       "      <th>31</th>\n",
       "      <td>linux</td>\n",
       "      <td>5.74</td>\n",
       "      <td>technology</td>\n",
       "      <td>3.36</td>\n",
       "    </tr>\n",
       "    <tr>\n",
       "      <th>5</th>\n",
       "      <td>javascript</td>\n",
       "      <td>4.78</td>\n",
       "      <td>language</td>\n",
       "      <td>3.10</td>\n",
       "    </tr>\n",
       "    <tr>\n",
       "      <th>4</th>\n",
       "      <td>java</td>\n",
       "      <td>4.31</td>\n",
       "      <td>language</td>\n",
       "      <td>3.10</td>\n",
       "    </tr>\n",
       "    <tr>\n",
       "      <th>14</th>\n",
       "      <td>sas</td>\n",
       "      <td>8.13</td>\n",
       "      <td>language</td>\n",
       "      <td>3.10</td>\n",
       "    </tr>\n",
       "    <tr>\n",
       "      <th>23</th>\n",
       "      <td>snowflake</td>\n",
       "      <td>1.44</td>\n",
       "      <td>technology</td>\n",
       "      <td>2.33</td>\n",
       "    </tr>\n",
       "    <tr>\n",
       "      <th>8</th>\n",
       "      <td>c#</td>\n",
       "      <td>1.44</td>\n",
       "      <td>language</td>\n",
       "      <td>2.07</td>\n",
       "    </tr>\n",
       "    <tr>\n",
       "      <th>30</th>\n",
       "      <td>git</td>\n",
       "      <td>16.75</td>\n",
       "      <td>technology</td>\n",
       "      <td>1.81</td>\n",
       "    </tr>\n",
       "    <tr>\n",
       "      <th>28</th>\n",
       "      <td>google_cloud</td>\n",
       "      <td>2.87</td>\n",
       "      <td>technology</td>\n",
       "      <td>1.81</td>\n",
       "    </tr>\n",
       "    <tr>\n",
       "      <th>24</th>\n",
       "      <td>knime</td>\n",
       "      <td>2.39</td>\n",
       "      <td>technology</td>\n",
       "      <td>1.81</td>\n",
       "    </tr>\n",
       "    <tr>\n",
       "      <th>11</th>\n",
       "      <td>matlab</td>\n",
       "      <td>6.70</td>\n",
       "      <td>language</td>\n",
       "      <td>1.55</td>\n",
       "    </tr>\n",
       "    <tr>\n",
       "      <th>17</th>\n",
       "      <td>perl</td>\n",
       "      <td>0.48</td>\n",
       "      <td>language</td>\n",
       "      <td>1.55</td>\n",
       "    </tr>\n",
       "    <tr>\n",
       "      <th>39</th>\n",
       "      <td>pandas</td>\n",
       "      <td>9.57</td>\n",
       "      <td>library</td>\n",
       "      <td>1.29</td>\n",
       "    </tr>\n",
       "    <tr>\n",
       "      <th>18</th>\n",
       "      <td>php</td>\n",
       "      <td>1.44</td>\n",
       "      <td>language</td>\n",
       "      <td>1.03</td>\n",
       "    </tr>\n",
       "    <tr>\n",
       "      <th>32</th>\n",
       "      <td>kubernetes</td>\n",
       "      <td>4.31</td>\n",
       "      <td>technology</td>\n",
       "      <td>0.78</td>\n",
       "    </tr>\n",
       "    <tr>\n",
       "      <th>29</th>\n",
       "      <td>docker</td>\n",
       "      <td>7.18</td>\n",
       "      <td>technology</td>\n",
       "      <td>0.78</td>\n",
       "    </tr>\n",
       "    <tr>\n",
       "      <th>26</th>\n",
       "      <td>kafka</td>\n",
       "      <td>0.96</td>\n",
       "      <td>technology</td>\n",
       "      <td>0.78</td>\n",
       "    </tr>\n",
       "    <tr>\n",
       "      <th>21</th>\n",
       "      <td>hive</td>\n",
       "      <td>3.35</td>\n",
       "      <td>technology</td>\n",
       "      <td>0.78</td>\n",
       "    </tr>\n",
       "    <tr>\n",
       "      <th>20</th>\n",
       "      <td>hadoop</td>\n",
       "      <td>6.70</td>\n",
       "      <td>technology</td>\n",
       "      <td>0.78</td>\n",
       "    </tr>\n",
       "    <tr>\n",
       "      <th>6</th>\n",
       "      <td>c</td>\n",
       "      <td>0.96</td>\n",
       "      <td>language</td>\n",
       "      <td>0.78</td>\n",
       "    </tr>\n",
       "    <tr>\n",
       "      <th>10</th>\n",
       "      <td>julia</td>\n",
       "      <td>3.35</td>\n",
       "      <td>language</td>\n",
       "      <td>0.78</td>\n",
       "    </tr>\n",
       "    <tr>\n",
       "      <th>36</th>\n",
       "      <td>airflow</td>\n",
       "      <td>2.87</td>\n",
       "      <td>technology</td>\n",
       "      <td>0.52</td>\n",
       "    </tr>\n",
       "    <tr>\n",
       "      <th>46</th>\n",
       "      <td>scikit-learn</td>\n",
       "      <td>11.00</td>\n",
       "      <td>library</td>\n",
       "      <td>0.52</td>\n",
       "    </tr>\n",
       "    <tr>\n",
       "      <th>47</th>\n",
       "      <td>plotly</td>\n",
       "      <td>0.00</td>\n",
       "      <td>library</td>\n",
       "      <td>0.52</td>\n",
       "    </tr>\n",
       "    <tr>\n",
       "      <th>41</th>\n",
       "      <td>tensorflow</td>\n",
       "      <td>16.75</td>\n",
       "      <td>library</td>\n",
       "      <td>0.52</td>\n",
       "    </tr>\n",
       "    <tr>\n",
       "      <th>7</th>\n",
       "      <td>c++</td>\n",
       "      <td>11.48</td>\n",
       "      <td>language</td>\n",
       "      <td>0.52</td>\n",
       "    </tr>\n",
       "    <tr>\n",
       "      <th>35</th>\n",
       "      <td>gcp</td>\n",
       "      <td>1.91</td>\n",
       "      <td>technology</td>\n",
       "      <td>0.52</td>\n",
       "    </tr>\n",
       "    <tr>\n",
       "      <th>9</th>\n",
       "      <td>scala</td>\n",
       "      <td>1.44</td>\n",
       "      <td>language</td>\n",
       "      <td>0.52</td>\n",
       "    </tr>\n",
       "    <tr>\n",
       "      <th>37</th>\n",
       "      <td>cassandra</td>\n",
       "      <td>0.00</td>\n",
       "      <td>technology</td>\n",
       "      <td>0.26</td>\n",
       "    </tr>\n",
       "    <tr>\n",
       "      <th>33</th>\n",
       "      <td>jenkins</td>\n",
       "      <td>0.48</td>\n",
       "      <td>technology</td>\n",
       "      <td>0.26</td>\n",
       "    </tr>\n",
       "    <tr>\n",
       "      <th>22</th>\n",
       "      <td>storm</td>\n",
       "      <td>0.48</td>\n",
       "      <td>technology</td>\n",
       "      <td>0.26</td>\n",
       "    </tr>\n",
       "    <tr>\n",
       "      <th>42</th>\n",
       "      <td>keras</td>\n",
       "      <td>5.26</td>\n",
       "      <td>library</td>\n",
       "      <td>0.26</td>\n",
       "    </tr>\n",
       "    <tr>\n",
       "      <th>43</th>\n",
       "      <td>pytorch</td>\n",
       "      <td>11.48</td>\n",
       "      <td>library</td>\n",
       "      <td>0.26</td>\n",
       "    </tr>\n",
       "    <tr>\n",
       "      <th>44</th>\n",
       "      <td>matplotlib</td>\n",
       "      <td>0.96</td>\n",
       "      <td>library</td>\n",
       "      <td>0.26</td>\n",
       "    </tr>\n",
       "    <tr>\n",
       "      <th>13</th>\n",
       "      <td>go</td>\n",
       "      <td>0.00</td>\n",
       "      <td>language</td>\n",
       "      <td>0.26</td>\n",
       "    </tr>\n",
       "    <tr>\n",
       "      <th>40</th>\n",
       "      <td>numpy</td>\n",
       "      <td>4.31</td>\n",
       "      <td>library</td>\n",
       "      <td>0.00</td>\n",
       "    </tr>\n",
       "    <tr>\n",
       "      <th>49</th>\n",
       "      <td>spacy</td>\n",
       "      <td>2.39</td>\n",
       "      <td>library</td>\n",
       "      <td>0.00</td>\n",
       "    </tr>\n",
       "    <tr>\n",
       "      <th>51</th>\n",
       "      <td>scipy</td>\n",
       "      <td>1.91</td>\n",
       "      <td>library</td>\n",
       "      <td>0.00</td>\n",
       "    </tr>\n",
       "    <tr>\n",
       "      <th>52</th>\n",
       "      <td>statsmodels</td>\n",
       "      <td>1.91</td>\n",
       "      <td>library</td>\n",
       "      <td>0.00</td>\n",
       "    </tr>\n",
       "  </tbody>\n",
       "</table>\n",
       "</div>"
      ],
      "text/plain": [
       "           index  Data Scientist        type  Data Analyst\n",
       "2            sql           48.33    language         52.45\n",
       "0         python           80.86    language         35.14\n",
       "1              r           43.06    language         29.20\n",
       "3          excel            8.13    language         26.87\n",
       "15       tableau           10.05    language         23.51\n",
       "16      power_bi            6.70    language         19.64\n",
       "25           aws           11.00  technology          7.49\n",
       "27         azure           17.70  technology          5.17\n",
       "19         spark           17.22  technology          4.65\n",
       "34      bigquery            1.91  technology          4.39\n",
       "38       alteryx            0.96  technology          3.36\n",
       "31         linux            5.74  technology          3.36\n",
       "5     javascript            4.78    language          3.10\n",
       "4           java            4.31    language          3.10\n",
       "14           sas            8.13    language          3.10\n",
       "23     snowflake            1.44  technology          2.33\n",
       "8             c#            1.44    language          2.07\n",
       "30           git           16.75  technology          1.81\n",
       "28  google_cloud            2.87  technology          1.81\n",
       "24         knime            2.39  technology          1.81\n",
       "11        matlab            6.70    language          1.55\n",
       "17          perl            0.48    language          1.55\n",
       "39        pandas            9.57     library          1.29\n",
       "18           php            1.44    language          1.03\n",
       "32    kubernetes            4.31  technology          0.78\n",
       "29        docker            7.18  technology          0.78\n",
       "26         kafka            0.96  technology          0.78\n",
       "21          hive            3.35  technology          0.78\n",
       "20        hadoop            6.70  technology          0.78\n",
       "6              c            0.96    language          0.78\n",
       "10         julia            3.35    language          0.78\n",
       "36       airflow            2.87  technology          0.52\n",
       "46  scikit-learn           11.00     library          0.52\n",
       "47        plotly            0.00     library          0.52\n",
       "41    tensorflow           16.75     library          0.52\n",
       "7            c++           11.48    language          0.52\n",
       "35           gcp            1.91  technology          0.52\n",
       "9          scala            1.44    language          0.52\n",
       "37     cassandra            0.00  technology          0.26\n",
       "33       jenkins            0.48  technology          0.26\n",
       "22         storm            0.48  technology          0.26\n",
       "42         keras            5.26     library          0.26\n",
       "43       pytorch           11.48     library          0.26\n",
       "44    matplotlib            0.96     library          0.26\n",
       "13            go            0.00    language          0.26\n",
       "40         numpy            4.31     library          0.00\n",
       "49         spacy            2.39     library          0.00\n",
       "51         scipy            1.91     library          0.00\n",
       "52   statsmodels            1.91     library          0.00"
      ]
     },
     "execution_count": 133,
     "metadata": {},
     "output_type": "execute_result"
    }
   ],
   "source": [
    "first_choice = \"Data Scientist\"\n",
    "second_choice = \"Data Analyst\"\n",
    "df_first = df2.loc[df2[\"title_cat\"] == first_choice]\n",
    "df_second = df2.loc[df2[\"title_cat\"] == second_choice]\n",
    "\n",
    "\n",
    "percentages_first = pd.Series(df_first.drop([\"title_cat\", \"content\", \"link\"], axis=1).sum() * 100 / len(df_first), name=first_choice).to_frame()\n",
    "percentages_first[\"type\"] = 19*[\"language\"] + 20*[\"technology\"] + 14*[\"library\"]\n",
    "percentages_second = pd.Series(df_second.drop([\"title_cat\", \"content\", \"link\"], axis=1).sum() * 100 / len(df_second), name=second_choice).to_frame()\n",
    "# percentages_second[\"type\"] = 19*[\"language\"] + 20*[\"technology\"] + 14*[\"library\"]\n",
    "percentages = pd.merge(percentages_first, percentages_second, left_index=True, right_index=True)\n",
    "percentages = percentages.reset_index()\n",
    "percentages = percentages.loc[(percentages[first_choice] > 0) | (percentages[second_choice] > 0)]\n",
    "\n",
    "\n",
    "percentages[first_choice] = percentages[first_choice].apply(lambda x: round(x,2))\n",
    "percentages[second_choice] = percentages[second_choice].apply(lambda x: round(x,2))\n",
    "percentages = percentages.sort_values(second_choice, ascending=False)\n",
    "percentages\n",
    "\n",
    "# fig = px.bar(percentages,\n",
    "#             x=\"index\",\n",
    "#             y=[first_choice, second_choice],\n",
    "#             # color=\"title\",\n",
    "#             title=\"Most required Skills for Data Science Jobs\", \n",
    "#             labels={\"value\": \"Percentages\"},\n",
    "#             barmode=\"group\")\n",
    "# # fig.layout.update(showlegend=False)\n",
    "# fig"
   ]
  },
  {
   "cell_type": "code",
   "execution_count": 135,
   "id": "4e27a3b7-a4b8-4f48-9a7b-319415b69974",
   "metadata": {},
   "outputs": [
    {
     "data": {
      "text/plain": [
       "['a', 'b', 'c', 'a']"
      ]
     },
     "execution_count": 135,
     "metadata": {},
     "output_type": "execute_result"
    }
   ],
   "source": [
    "l = [\"a\", \"b\", \"c\"]\n",
    "l + [\"a\"]"
   ]
  },
  {
   "cell_type": "code",
   "execution_count": null,
   "id": "5b1b21b7-34c0-4647-8de6-4b839616b284",
   "metadata": {},
   "outputs": [],
   "source": []
  }
 ],
 "metadata": {
  "kernelspec": {
   "display_name": "jobsearch",
   "language": "python",
   "name": "jobsearch"
  },
  "language_info": {
   "codemirror_mode": {
    "name": "ipython",
    "version": 3
   },
   "file_extension": ".py",
   "mimetype": "text/x-python",
   "name": "python",
   "nbconvert_exporter": "python",
   "pygments_lexer": "ipython3",
   "version": "3.9.12"
  }
 },
 "nbformat": 4,
 "nbformat_minor": 5
}
