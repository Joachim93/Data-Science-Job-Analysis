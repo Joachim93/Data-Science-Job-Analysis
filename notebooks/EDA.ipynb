{
 "cells": [
  {
   "cell_type": "markdown",
   "id": "d30ed27a-d81e-4dac-82af-1afd8b6a2f9c",
   "metadata": {
    "tags": []
   },
   "source": [
    "# Overview\n",
    "\n",
    "This notebook deals with the analysis of the data. The following questions were investigated:\n",
    "\n",
    "- [Which programming languages are most commonly used?](#languages)\n",
    "- [Which tools are used most frequently?](#tools)\n",
    "- [Which Python libraries are most commonly used?](#libraries)\n",
    "- [Where and how often is machine learning used in the industry?](#machine_learning)\n",
    "- [What soft skills are most often required?](#soft_skills)\n",
    "- [What degrees are required?](#degrees)\n",
    "- [How much work experience is required?](#experience)\n",
    "- [Does the size of a company have an impact on the positions being sought?](#company_size)\n",
    "- [Which attributes increase the home office probability?](#home_office)\n",
    "- [In which regions of Germany are most Data Science jobs offered?](#regions)\n",
    "- [Which companies search the most for new data roles?](#company)\n",
    "- [Which attributes influence the salary of a job?](#salary)\n",
    "\n",
    "All plots generated with Plotly are actually interactive. However, since Github cannot render dynamic content, the plots were all converted to a static format using fig.show(\"svg\"). To access the interactive features of the plots, they must be displayed with fig.show() instead."
   ]
  },
  {
   "cell_type": "code",
   "execution_count": null,
   "id": "35d604cd-040d-4a27-9714-452352532652",
   "metadata": {},
   "outputs": [],
   "source": [
    "import warnings\n",
    "\n",
    "import numpy as np\n",
    "import pandas as pd\n",
    "import plotly.express as px\n",
    "\n",
    "warnings.filterwarnings('ignore')"
   ]
  },
  {
   "cell_type": "code",
   "execution_count": null,
   "id": "a1819b4c-062a-4b17-803a-3557c487f9b4",
   "metadata": {},
   "outputs": [],
   "source": [
    "df_wide = pd.read_csv(\"../data/data_wide.csv\")\n",
    "df_wide = df_wide.loc[df_wide[\"title_category\"] != \"Others\"]\n",
    "df_wide.head()"
   ]
  },
  {
   "cell_type": "code",
   "execution_count": null,
   "id": "5daa9003-5c72-4d0d-afda-b5f55ea0f04b",
   "metadata": {},
   "outputs": [],
   "source": [
    "df_wide.columns"
   ]
  },
  {
   "cell_type": "markdown",
   "id": "93134907-c29d-48e8-8938-235f743b3298",
   "metadata": {},
   "source": [
    "The data contains a number of different attributes. However, for many of the following analyses, only a subset of the attributes is needed. Therefore, an additional column index is introduced at this point, which divides the attributes into different groups and allows for easier filtering."
   ]
  },
  {
   "cell_type": "code",
   "execution_count": null,
   "id": "b5728154-2486-4cec-9e0d-a44eac67ed4a",
   "metadata": {},
   "outputs": [],
   "source": [
    "groups = 21*[\"general_info\"] + 18*[\"languages\"] + 19*[\"tools\"] + 14*[\"libraries\"] + 4*[\"education\"] + 5*[\"degree\"] + 8*[\"knowledge\"] + 10*[\"soft_skills\"] + 4*[\"experience\"]\n",
    "df_wide.columns = pd.MultiIndex.from_arrays([groups, df_wide.columns])\n",
    "df_wide.head(1)"
   ]
  },
  {
   "cell_type": "markdown",
   "id": "73e7f84f-41b8-4f98-a0c5-9f755291812d",
   "metadata": {},
   "source": [
    " "
   ]
  },
  {
   "cell_type": "markdown",
   "id": "f5561a82-be5f-4bc0-94b3-71b17a723db2",
   "metadata": {},
   "source": [
    "<a id=\"languages\"></a>"
   ]
  },
  {
   "cell_type": "markdown",
   "id": "4191ca7a-76bd-4fff-8250-16c3530b203f",
   "metadata": {
    "tags": []
   },
   "source": [
    "## Which programming languages are most commonly used?"
   ]
  },
  {
   "cell_type": "code",
   "execution_count": null,
   "id": "36279f75-1512-4fcc-bb66-2bea81528d3e",
   "metadata": {},
   "outputs": [],
   "source": [
    "percentages = df_wide[\"languages\"].mean().apply(lambda x: round(x*100,2)).sort_values(ascending=False)\n",
    "fig = px.bar(percentages, labels={\"value\": \"percentage\", \"index\": \"language\"}, width=1000, height=500,\n",
    "             title=\"Most Commonly Used Programming Languages\")\n",
    "fig.update_layout(showlegend=False, title={\"x\": 0.5})\n",
    "fig.show(\"svg\")"
   ]
  },
  {
   "cell_type": "markdown",
   "id": "161b7118-0644-45ed-8336-112225b39d5f",
   "metadata": {},
   "source": [
    "For the sake of clarity, only the most common categories are used in the following and in all further analyses for the subdivision into different job titles."
   ]
  },
  {
   "cell_type": "code",
   "execution_count": null,
   "id": "47d9b0cb-d901-4f21-ae1e-39195aad20a5",
   "metadata": {},
   "outputs": [],
   "source": [
    "df_selected = df_wide[\"languages\"][[\"python\", \"sql\", \"r\", \"c++\", \"javascript\", \"html\", \"c#\", \"java\"]].groupby(\n",
    "    df_wide[\"general_info\", \"title_category\"]).mean().apply(lambda x: round(x*100,2))\n",
    "df_selected.index.set_names([\"title\"], inplace=True)\n",
    "fig = px.bar(df_selected, barmode=\"group\", labels={\"value\": \"percentage\", \"variable\": \"language\"}, width=1000, height=500,\n",
    "             title=\"Most Commonly Used Programming Languages\")\n",
    "fig.update_layout(title={\"x\": 0.5})\n",
    "fig.show(\"svg\")"
   ]
  },
  {
   "cell_type": "markdown",
   "id": "8baa4b20-a2ef-4a10-bce7-35e8e20b79f1",
   "metadata": {},
   "source": [
    "Summary:\n",
    "- programming languages used vary widely between job titles\n",
    "- Python, R and Sql are most commonly used regardless of job title\n",
    "    - however, in jobs with a greater focus on programming, such as Machine Learning Engineer or Software Engineer, Python is preferred over R\n",
    "    - in positions as analyst, consultant or manager, the distribution is balanced\n",
    "- other programming languages are generally much less widespread\n",
    "    - only as Machine Learning Engineer or Software Engineer other languages like C++ are expected in some cases"
   ]
  },
  {
   "cell_type": "markdown",
   "id": "3c6a613c-cc5c-4e42-8f36-1cccac101ae2",
   "metadata": {},
   "source": [
    " "
   ]
  },
  {
   "cell_type": "markdown",
   "id": "927c41d3-20ea-404c-a84c-172fae69a5c5",
   "metadata": {},
   "source": [
    "<a id=\"tools\"></a>"
   ]
  },
  {
   "cell_type": "markdown",
   "id": "63d4a321-a297-415d-b8ba-57e25804e766",
   "metadata": {
    "tags": []
   },
   "source": [
    "## Which tools are most commonly used?"
   ]
  },
  {
   "cell_type": "code",
   "execution_count": null,
   "id": "cf56adaa-e61b-4b4d-96bd-191be2cfc3f6",
   "metadata": {},
   "outputs": [],
   "source": [
    "percentages = df_wide[\"tools\"].mean().apply(lambda x: round(x*100,2)).sort_values(ascending=False)\n",
    "fig = px.bar(percentages, labels={\"value\": \"percentage\", \"index\": \"tool\"}, width=1000, height=500, title=\"Most Commonly Used Tools\")\n",
    "fig.update_layout(showlegend=False, title={\"x\": 0.5})\n",
    "fig.show(\"svg\")"
   ]
  },
  {
   "cell_type": "code",
   "execution_count": null,
   "id": "6a37fa80-f256-4c30-ad2b-13e66d9198d2",
   "metadata": {},
   "outputs": [],
   "source": [
    "df_selected = df_wide[\"tools\"][[\"azure\", \"aws\", \"excel\", \"git\", \"spark\", \"tableau\", \"docker\", \"kubernetes\", \"power_bi\", \"linux\"]].groupby(\n",
    "    df_wide[\"general_info\", \"title_category\"]).mean().apply(lambda x: round(x*100,2))\n",
    "df_selected.index.set_names([\"title\"], inplace=True)\n",
    "fig = px.bar(df_selected, barmode=\"group\", labels={\"value\": \"percentage\", \"variable\": \"tool\"}, width=1000, height=500,\n",
    "             title=\"Most Commonly Used Tools\")\n",
    "fig.update_layout(title={\"x\": 0.5})\n",
    "fig.show(\"svg\")"
   ]
  },
  {
   "cell_type": "markdown",
   "id": "fc9fe898-520b-46a7-a9b6-7251097219c8",
   "metadata": {},
   "source": [
    "Summary:\n",
    "- with regard to the tools used, three rough groups can be divided\n",
    "    - for a data engineer, data scientist, machine learning engineer or software engineer, mastery of many different tools is required\n",
    "        - a platform for cloud computing (e.g., Azure or AWS).\n",
    "        - Git for version control and collaboration with other team members\n",
    "        - Frameworks for processing huge amounts of data (e.g., Spark)\n",
    "        - Frameworks for containerization (Docker and Kubernetes)\n",
    "    - for a data science consultant or data science manager, tools are rather secondary\n",
    "    - as a data analyst, software for visualizing data (Tableau, Power BI or Excel) is needed most of all"
   ]
  },
  {
   "cell_type": "markdown",
   "id": "79cb8eea-0e39-428a-9286-6d43d0431928",
   "metadata": {},
   "source": [
    " "
   ]
  },
  {
   "cell_type": "markdown",
   "id": "51d9ec85-f2b9-45e0-a5f1-6f2c7516edf2",
   "metadata": {},
   "source": [
    "<a id=\"libraries\"></a>"
   ]
  },
  {
   "cell_type": "markdown",
   "id": "624441bb-1410-4506-a59e-4f2ed6738bac",
   "metadata": {
    "tags": []
   },
   "source": [
    "## Which Python libraries are most commonly used?"
   ]
  },
  {
   "cell_type": "code",
   "execution_count": null,
   "id": "c4ea7ac6-5cb7-4242-94f5-59ad5b2f543a",
   "metadata": {},
   "outputs": [],
   "source": [
    "percentages = df_wide[\"libraries\"].mean().apply(lambda x: round(x*100,2)).sort_values(ascending=False)\n",
    "fig = px.bar(percentages, labels={\"value\": \"percentage\", \"index\": \"library\"}, width=1000, height=500,\n",
    "             title=\"Most Commonly Used Python Libraries\")\n",
    "fig.update_layout(showlegend=False, title={\"x\": 0.5})\n",
    "fig.show(\"svg\")"
   ]
  },
  {
   "cell_type": "code",
   "execution_count": null,
   "id": "a1e4c5ae-6404-4750-9389-abab0ceb0d2b",
   "metadata": {},
   "outputs": [],
   "source": [
    "df_selected = df_wide[\"libraries\"][[\"tensorflow/keras\", \"pytorch\", \"pandas\", \"scikit-learn\", \"numpy\", \"matplotlib\"]].groupby(\n",
    "    df_wide[\"general_info\", \"title_category\"]).mean().apply(lambda x: round(x*100,2))\n",
    "df_selected.index.set_names([\"title\"], inplace=True)\n",
    "fig = px.bar(df_selected, barmode=\"group\", labels={\"value\": \"percentage\", \"variable\": \"library\"}, width=1000, height=500,\n",
    "             title=\"Most Commonly Used Python Libraries\")\n",
    "fig.update_layout(title={\"x\": 0.5})\n",
    "fig.show(\"svg\")"
   ]
  },
  {
   "cell_type": "markdown",
   "id": "9555c3c5-b6db-430f-917f-8374c6870987",
   "metadata": {},
   "source": [
    "Summary:\n",
    "- only a small percentage of job ads include Python libraries \n",
    "    - however, it may be that some ads already include them under Python and therefore do not explicitly mention them again\n",
    "- only for Data Scientists and Machine Learning Engineers certain libraries are regularly requested\n",
    "    - Deep Learning Libraries like Tensorflow/Keras and Pytorch\n",
    "        - Tensorflow currently still has the upper hand here\n",
    "    - Pandas for efficient data manipulation\n",
    "    - Scikit-Learn for classic machine learning models"
   ]
  },
  {
   "cell_type": "markdown",
   "id": "2f798d01-fc78-40c9-837b-08c1f9951e41",
   "metadata": {},
   "source": [
    " "
   ]
  },
  {
   "cell_type": "markdown",
   "id": "4a4fd3fb-9533-406d-9cef-f2c0e49b8cb8",
   "metadata": {},
   "source": [
    "<a id=\"machine_learning\"></a>"
   ]
  },
  {
   "cell_type": "markdown",
   "id": "877819a9-6980-4796-85f3-c1ea5f8ecea4",
   "metadata": {},
   "source": [
    "## Where and how often is machine learning used in the industry?"
   ]
  },
  {
   "cell_type": "code",
   "execution_count": null,
   "id": "e9f41713-4be0-44a0-9b33-0078713b4236",
   "metadata": {},
   "outputs": [],
   "source": [
    "percentages = df_wide[\"knowledge\"].mean().apply(lambda x: round(x*100,2)).sort_values(ascending=False)\n",
    "fig = px.bar(percentages, labels={\"value\": \"percentage\", \"index\": \"knowledge\"}, width=1000, height=500,\n",
    "             title=\"Most Commonly Used Machine Learning Knowledge\")\n",
    "fig.update_layout(showlegend=False, title={\"x\": 0.5})\n",
    "fig.show(\"svg\")"
   ]
  },
  {
   "cell_type": "code",
   "execution_count": null,
   "id": "6daa97ae-55e9-47e7-9874-2cf6021d1229",
   "metadata": {},
   "outputs": [],
   "source": [
    "df_selected = df_wide[\"knowledge\"][[\"machine_learning\", \"predictive_modeling\", \"robotics\", \"deep_learning\", \"computer_vision\",\n",
    "                                    \"natural_language_processing\", \"autonomous_driving\", \"reinforcement_learning\"]].groupby(\n",
    "    df_wide[\"general_info\", \"title_category\"]).mean().apply(lambda x: round(x*100,2))\n",
    "df_selected.index.set_names([\"title\"], inplace=True)\n",
    "fig = px.bar(df_selected, barmode=\"group\", labels={\"value\": \"percentage\", \"variable\": \"knowledge\"}, width=1000, height=500,\n",
    "             title=\"Most Commonly Used Machine Learning Knowledge\")\n",
    "fig.update_layout(title={\"x\": 0.5})\n",
    "fig.show(\"svg\")"
   ]
  },
  {
   "cell_type": "markdown",
   "id": "5d65b780-64cf-46c5-90f5-763200910c75",
   "metadata": {},
   "source": [
    "Summary:\n",
    "- Machine Learning is only mentioned in a quarter of the job advertisements\n",
    "    - for Data Scientists and Machine Learning Engineers, however, this topic is much more relevant than for other jobs\n",
    "- only one fifth of these Machine Learning applications are Deep Learning applications\n",
    "    - the majority of current applications are currently related to predictive modeling using classical algorithms\n",
    "    - only among the Machine Learning Engineers are there several job advertisements that apply Deep Learning in the area of computer vision."
   ]
  },
  {
   "cell_type": "markdown",
   "id": "9115b7b3-09d2-4a75-b271-68a2caace134",
   "metadata": {},
   "source": [
    " "
   ]
  },
  {
   "cell_type": "markdown",
   "id": "0556ad62-301b-4c67-bf51-7cf8090a0e6a",
   "metadata": {},
   "source": [
    "<a id=\"soft_skills\"></a>"
   ]
  },
  {
   "cell_type": "markdown",
   "id": "5d8dbd4e-d5e3-42c2-b915-4437029d1912",
   "metadata": {},
   "source": [
    "## What soft skills are most often required?"
   ]
  },
  {
   "cell_type": "code",
   "execution_count": null,
   "id": "01590942-508e-4c5d-9e51-92988e79b22a",
   "metadata": {},
   "outputs": [],
   "source": [
    "percentages = df_wide[\"soft_skills\"].mean().apply(lambda x: round(x*100,2)).sort_values(ascending=False)\n",
    "fig = px.bar(percentages, labels={\"value\": \"percentage\", \"index\": \"soft_skills\"}, width=1000, height=500,\n",
    "             title=\"Most Commonly Searched Soft Skills\")\n",
    "fig.update_layout(showlegend=False, title={\"x\": 0.5})\n",
    "fig.show(\"svg\")"
   ]
  },
  {
   "cell_type": "code",
   "execution_count": null,
   "id": "025b6d77-3f21-4b58-8424-ad823ca36464",
   "metadata": {},
   "outputs": [],
   "source": [
    "df_selected = df_wide[\"soft_skills\"][[\"communication\", \"motivation\", \"initiative\", \"teamwork\", \"critical_thinking\", \"flexibility\", \n",
    "                                      \"structured_working\", \"creativity\", \"business_focus\", \"leadership\"]].groupby(\n",
    "    df_wide[\"general_info\", \"title_category\"]).mean().apply(lambda x: round(x*100,2))\n",
    "df_selected.index.set_names([\"title\"], inplace=True)\n",
    "fig = px.bar(df_selected, barmode=\"group\", labels={\"value\": \"percentage\", \"variable\": \"soft_skills\"}, width=1000, height=500,\n",
    "             title=\"Most Commonly Searched Soft Skills\")\n",
    "fig.update_layout(title={\"x\": 0.5})\n",
    "fig.show(\"svg\")"
   ]
  },
  {
   "cell_type": "markdown",
   "id": "e2722ea0-1dc3-4168-adf5-2fc4a47e35d6",
   "metadata": {},
   "source": [
    "Summary:\n",
    "- the most frequently required soft skills are communication and motivation, followed by initiative and teamwork\n",
    "    - the distribution of soft skills is very similar for all positions\n",
    "- smaller deviations exist, however\n",
    "    - for Data Science Managers, communication, business focus and leadership are required comparatively more often than for other jobs\n",
    "    - for a Consultant, flexibility (e.g. willingness to travel) is in the foreground\n",
    "    - It is also noticeable that creativity is comparatively often required for Machine Learning Engineers.\n",
    "- overall, it is difficult to identify clear differences in soft skills, as these are always desirable, regardless of the exact position."
   ]
  },
  {
   "cell_type": "markdown",
   "id": "225d92da-3382-46b5-999f-105898fd134b",
   "metadata": {},
   "source": [
    " "
   ]
  },
  {
   "cell_type": "markdown",
   "id": "493293a2-9412-483c-a89a-418632ebdf2f",
   "metadata": {},
   "source": [
    "<a id=\"degrees\"></a>"
   ]
  },
  {
   "cell_type": "markdown",
   "id": "8a84761c-043d-46f5-934e-61113829d73b",
   "metadata": {
    "tags": []
   },
   "source": [
    "## What degrees are required?"
   ]
  },
  {
   "cell_type": "code",
   "execution_count": null,
   "id": "53ab30c9-62e7-4cfe-abc4-cbd943099099",
   "metadata": {},
   "outputs": [],
   "source": [
    "percentages = df_wide[\"education\"][[\"no_degree_info\", \"bachelor\", \"master\", \"phd\"]].mean().apply(lambda x: round(x*100,2))\n",
    "fig = px.bar(percentages, labels={\"value\": \"percentage\", \"index\": \"education\"}, width=1000, height=500,\n",
    "             title=\"Required Degrees\")\n",
    "fig.update_layout(showlegend=False, title={\"x\": 0.5})\n",
    "fig.show(\"svg\")"
   ]
  },
  {
   "cell_type": "code",
   "execution_count": null,
   "id": "5c1790b8-80e8-47ee-80d6-a656c805a17e",
   "metadata": {},
   "outputs": [],
   "source": [
    "df_selected = df_wide[\"education\"][[\"no_degree_info\", \"bachelor\", \"master\", \"phd\"]].groupby(\n",
    "    df_wide[\"general_info\", \"title_category\"]).mean().apply(lambda x: round(x*100,2))\n",
    "df_selected.index.set_names([\"title\"], inplace=True)\n",
    "fig = px.bar(df_selected, barmode=\"group\", labels={\"value\": \"percentage\", \"variable\": \"education\"}, width=1000, height=500,\n",
    "             title=\"Required Degrees\")\n",
    "fig.update_layout(title={\"x\": 0.5})\n",
    "fig.show(\"svg\")"
   ]
  },
  {
   "cell_type": "markdown",
   "id": "69e0be1c-2d11-4d92-ae7c-1362042bac9b",
   "metadata": {},
   "source": [
    "Summary:\n",
    "- a degree is required for a majority of the positions\n",
    "    - the ratio between bachelor and master is unfortunately not representative in this analysis\n",
    "        - all job advertisements that only require a degree have been classified under \"bachelor\".\n",
    "        - theoretically, however, a master's degree can also be meant in some cases\n",
    "- the distribution of requirements is relatively similar between the job titles\n",
    "    - it is noticeable that a Master's degree or Phd is explicitly required comparatively often for Data Scientist and Machine Learning Engineer."
   ]
  },
  {
   "cell_type": "code",
   "execution_count": null,
   "id": "f7e7d1f5-2169-4f58-9e02-1ed8c9a63cab",
   "metadata": {},
   "outputs": [],
   "source": [
    "percentages = df_wide[\"degree\"].mean().apply(lambda x: round(x*100,2)).sort_values(ascending=False)\n",
    "fig = px.bar(percentages, labels={\"value\": \"percentage\", \"index\": \"degree\"}, width=1000, height=500, title=\"Required Study Majors\")\n",
    "fig.update_layout(showlegend=False, title={\"x\": 0.5})\n",
    "fig.show(\"svg\")"
   ]
  },
  {
   "cell_type": "code",
   "execution_count": null,
   "id": "ba8ac1b9-37c2-47ae-a773-b91673fdf208",
   "metadata": {},
   "outputs": [],
   "source": [
    "df_selected = df_wide[\"degree\"][[\"computer_science\", \"engineering\", \"math/statistics\", \"business\", \"natural_science\"]].groupby(\n",
    "    df_wide[\"general_info\", \"title_category\"]).mean().apply(lambda x: round(x*100,2))\n",
    "df_selected.index.set_names([\"title\"], inplace=True)\n",
    "fig = px.bar(df_selected, barmode=\"group\", labels={\"value\": \"percentage\", \"variable\": \"degree\"}, width=1000, height=500,\n",
    "             title=\"Required Study Majors\")\n",
    "fig.update_layout(title={\"x\": 0.5})\n",
    "fig.show(\"svg\")"
   ]
  },
  {
   "cell_type": "markdown",
   "id": "f3939555-742a-4f15-bdb2-3fff060fefff",
   "metadata": {},
   "source": [
    "Summary:\n",
    "- a Computer Science degree is the best choice to get a Data Science job\n",
    "- of course, a Data Science degree would also be acceptable for most jobs\n",
    "    - since the term \"Data Science\" occurs several times in most job descriptions anyway, it would be difficult to extract only those occurrences that refer to a degree program\n",
    "- for the job of a Data Scientist, a comparatively high value is placed on mathematics/statistics skills\n",
    "- a business degree is particularly suitable for employment as a consultant, manager or analyst"
   ]
  },
  {
   "cell_type": "markdown",
   "id": "e190cf97-751e-4aeb-82c9-f0d3f32b9f36",
   "metadata": {},
   "source": [
    " "
   ]
  },
  {
   "cell_type": "markdown",
   "id": "3baee5e8-bbc8-4358-9e36-08951f874503",
   "metadata": {},
   "source": [
    " <a id=\"experience\"></a>"
   ]
  },
  {
   "cell_type": "markdown",
   "id": "30a98406-14fc-458f-9bf7-5c8d8c6c0f47",
   "metadata": {
    "tags": []
   },
   "source": [
    "## How much work experience is required?"
   ]
  },
  {
   "cell_type": "markdown",
   "id": "397a557e-9af0-4219-991e-f47319073d23",
   "metadata": {},
   "source": [
    "Because of the relatively small sample sizes for exact years, work experience was divided into three categories during preprocessing:\n",
    "- little experience: 0-2 years\n",
    "- some experience: 3-4 years\n",
    "- much experience: 5+ years"
   ]
  },
  {
   "cell_type": "code",
   "execution_count": null,
   "id": "f0972275-01d0-4a42-8da9-6ec1cb730eaa",
   "metadata": {},
   "outputs": [],
   "source": [
    "percentages = (df_wide[\"experience\"][[\"no_experience_information\", \"little_experience\", \"some_experience\", \"much_experience\"]]\n",
    "               .mean().apply(lambda x: round(x*100,2)))\n",
    "fig = px.bar(percentages, labels={\"value\": \"percentage\", \"index\": \"experience\"}, width=1000, height=500,\n",
    "             title=\"Required Professional Experience\")\n",
    "fig.update_layout(showlegend=False, title={\"x\": 0.5})\n",
    "fig.show(\"svg\")"
   ]
  },
  {
   "cell_type": "code",
   "execution_count": null,
   "id": "43bfa03e-391a-4d1d-a623-359e716c74b7",
   "metadata": {},
   "outputs": [],
   "source": [
    "df_selected = df_wide[\"experience\"][[\"little_experience\", \"some_experience\", \"much_experience\"]].groupby(\n",
    "    df_wide[\"general_info\", \"title_category\"]).mean().apply(lambda x: round(x*100,2))\n",
    "df_selected.index.set_names([\"title\"], inplace=True)\n",
    "fig = px.bar(df_selected, barmode=\"group\", labels={\"value\": \"percentage\", \"variable\": \"experience\"}, width=1000, height=500,\n",
    "             title=\"Required Professional Experience\")\n",
    "fig.update_layout(title={\"x\": 0.5})\n",
    "fig.show(\"svg\")"
   ]
  },
  {
   "cell_type": "markdown",
   "id": "c808ba40-8a7d-45ec-b22f-2fed6a972d26",
   "metadata": {},
   "source": [
    "Summary:\n",
    "- the distribution of work experience is very similar for all job titles\n",
    "    - Applicants with longer work experience are increasingly sought after\n",
    "- as an entry-level employee, you have the best chances to start as a data analyst or data science consultant.\n",
    "- it is interesting to note that even some managerial positions require only little work experience."
   ]
  },
  {
   "cell_type": "markdown",
   "id": "2b17fe33-8470-4935-a499-581005cd3516",
   "metadata": {},
   "source": [
    " "
   ]
  },
  {
   "cell_type": "markdown",
   "id": "0cb0cffc-fd1e-4b78-b4cb-8423249f58cb",
   "metadata": {},
   "source": [
    "<a id=\"company_size\"></a>"
   ]
  },
  {
   "cell_type": "markdown",
   "id": "5971fe3d-a1d7-4f14-9f02-d8283a87ae93",
   "metadata": {
    "tags": []
   },
   "source": [
    "## Does the size of a company have an impact on the positions being sought?"
   ]
  },
  {
   "cell_type": "code",
   "execution_count": null,
   "id": "f7176e19-9b01-47d3-b472-1d651b33e4b2",
   "metadata": {},
   "outputs": [],
   "source": [
    "df_wide = df_wide.droplevel(0, axis=1)\n",
    "df_wide.head(1)"
   ]
  },
  {
   "cell_type": "code",
   "execution_count": null,
   "id": "69ecb83f-3fd6-46bf-9cda-13871b83b934",
   "metadata": {},
   "outputs": [],
   "source": [
    "df_wide[\"company_size\"].value_counts()"
   ]
  },
  {
   "cell_type": "code",
   "execution_count": null,
   "id": "71868d56-a740-48c1-9134-35bedf45eaa2",
   "metadata": {},
   "outputs": [],
   "source": [
    "size_groups = df_wide[\"company_size\"].map({\"10,001+\": \"big\", \"5001-10,000\": \"medium\", \"2501-5000\": \"medium\", \"1001-2500\": \"medium\", \n",
    "                                           \"501-1000\": \"small\", \"251-500\": \"small\", \"51-250\": \"small\", \"0-50\": \"small\"})"
   ]
  },
  {
   "cell_type": "code",
   "execution_count": null,
   "id": "419542ef-1e13-4c1e-b3a7-740ede8bbb54",
   "metadata": {},
   "outputs": [],
   "source": [
    "fig = px.bar(size_groups.value_counts(), labels={\"value\": \"number of jobs\", \"index\": \"company size\"}, width=1000, height=500,\n",
    "             title=\"Number of Jobs per Company Size\")\n",
    "fig.update_layout(showlegend=False, title={\"x\": 0.5})\n",
    "fig.show(\"svg\")"
   ]
  },
  {
   "cell_type": "code",
   "execution_count": null,
   "id": "a0747e2a-891d-417f-8335-d4291e3a2542",
   "metadata": {},
   "outputs": [],
   "source": [
    "# Normalization over the company size ==> all bars of one color sum up to 100 percent\n",
    "percentages = pd.crosstab(df_wide[\"title_category\"], size_groups, normalize=\"columns\").apply(lambda x: round(x*100, 2))\n",
    "fig = px.bar(percentages, barmode=\"group\", labels={\"value\": \"percentage\", \"title_category\": \"title\"}, width=1000, height=500,\n",
    "             title=\"Most Searched Job Titles per Company Size\")\n",
    "fig.update_layout(title={\"x\": 0.5})\n",
    "fig.show(\"svg\")"
   ]
  },
  {
   "cell_type": "markdown",
   "id": "85dae2f7-7082-4c0d-b1eb-e0d6864fbc4c",
   "metadata": {},
   "source": [
    "Summary:\n",
    "- at first glance, no relevant pattern can be identified\n",
    "- medium-sized companies are comparatively often looking for data analysts, while small and large companies are looking more for machine learning engineers and software engineers"
   ]
  },
  {
   "cell_type": "code",
   "execution_count": null,
   "id": "f9fb3fdd-28d7-45f9-ba62-7f57c82ea5b0",
   "metadata": {},
   "outputs": [],
   "source": [
    "percentages = (df_wide.groupby(size_groups)[[\"machine_learning\", \"predictive_modeling\", \"robotics\", \"deep_learning\", \"computer_vision\", \n",
    "                                            \"natural_language_processing\", \"autonomous_driving\", \"reinforcement_learning\"]]\n",
    "               .mean().apply(lambda x: round(x*100,2)))\n",
    "fig = px.bar(percentages.T, barmode=\"group\", labels={\"value\": \"percentage\", \"index\": \"knowledge\"}, width=1000, height=500,\n",
    "             title=\"Most Commonly Searched Machine Learning Knowledge per Company Size\")\n",
    "fig.update_layout(title={\"x\": 0.5})\n",
    "fig.show(\"svg\")"
   ]
  },
  {
   "cell_type": "markdown",
   "id": "32908239-1b43-4d2c-b10b-008ec3e980de",
   "metadata": {},
   "source": [
    "Summary:\n",
    "- on average, larger companies are looking for slightly more jobs with knowledge in machine learning\n",
    "- however, it is interesting to see that small companies offer more jobs in predictive modeling, deep learning and computer vision than medium sized ones"
   ]
  },
  {
   "cell_type": "markdown",
   "id": "b5184875-36e6-4c22-9ff5-b9773201dd34",
   "metadata": {},
   "source": [
    " "
   ]
  },
  {
   "cell_type": "markdown",
   "id": "1467a665-920d-4dca-86f3-1f660be8380c",
   "metadata": {},
   "source": [
    "<a id=\"home_office\"></a>"
   ]
  },
  {
   "cell_type": "markdown",
   "id": "226ff1c9-76d0-40bc-a853-c5201ba1cf81",
   "metadata": {
    "tags": []
   },
   "source": [
    "## Which attributes increase the home office probability?"
   ]
  },
  {
   "cell_type": "code",
   "execution_count": null,
   "id": "87b3de93-1b7b-4756-9b5a-8f3c4abbcb74",
   "metadata": {},
   "outputs": [],
   "source": [
    "mean = df_wide[\"home_office_possible\"].mean()*100\n",
    "mean"
   ]
  },
  {
   "cell_type": "code",
   "execution_count": null,
   "id": "41c16592-e16a-459c-8c48-de410e1a7f14",
   "metadata": {},
   "outputs": [],
   "source": [
    "fig = px.bar(df_wide.groupby(\"title_category\")[\"home_office_possible\"].mean().sort_values(ascending=False).apply(lambda x: round(x*100,2)), \n",
    "             labels={\"value\": \"percentage\", \"title_category\": \"title\"}, width=1000, height=500, title=\"Home Office Possibility per Jobtitle\")\n",
    "fig.update_layout(showlegend=False, title={\"x\": 0.5})\n",
    "fig.add_hline(y=mean, line_color=\"red\", line_dash=\"dash\")\n",
    "fig.show(\"svg\")"
   ]
  },
  {
   "cell_type": "code",
   "execution_count": null,
   "id": "32142b84-c380-44f5-88e4-f4cb44d57b3d",
   "metadata": {},
   "outputs": [],
   "source": [
    "experience = df_wide[[\"no_experience_information\", \"little_experience\", \"some_experience\", \"much_experience\"]].idxmax(axis=1)\n",
    "percentages = (df_wide.groupby(experience)[\"home_office_possible\"].mean().apply(lambda x: round(x*100,2))\n",
    "               [[\"no_experience_information\", \"little_experience\", \"some_experience\", \"much_experience\"]])\n",
    "fig = px.bar(percentages, labels={\"value\": \"percentage\", \"index\": \"experience\"}, width=1000, height=500,\n",
    "             title=\"Home Office Possibility per Experience Level\")\n",
    "fig.update_layout(showlegend=False, title={\"x\": 0.5})\n",
    "fig.add_hline(y=mean, line_color=\"red\", line_dash=\"dash\")\n",
    "fig.show(\"svg\")"
   ]
  },
  {
   "cell_type": "code",
   "execution_count": null,
   "id": "ea7b3169-ba0f-4c9d-a5ae-0e0c3f95b9e2",
   "metadata": {},
   "outputs": [],
   "source": [
    "fig = px.bar(df_wide.groupby(size_groups)[\"home_office_possible\"].mean().sort_values(ascending=False).apply(lambda x: round(x*100,2)),\n",
    "             labels={\"value\": \"percentage\"}, width=1000, height=500, title=\"Home Office Possibility per Company Size\")\n",
    "fig.update_layout(showlegend=False, title={\"x\": 0.5})\n",
    "fig.add_hline(y=mean, line_color=\"red\", line_dash=\"dash\")\n",
    "fig.show(\"svg\")"
   ]
  },
  {
   "cell_type": "markdown",
   "id": "65788f0a-2b69-4e30-95cf-da0bcae92e5e",
   "metadata": {},
   "source": [
    "Summary:\n",
    "- there are noticeable differences between the different job titles regarding home office\n",
    "- the experience level of the person has hardly any influence on the possibility for home office\n",
    "- the smaller the company, the higher the chance to do the job in the home office"
   ]
  },
  {
   "cell_type": "markdown",
   "id": "9b11474d-34b2-40f6-bcc8-0e9ddeea69bf",
   "metadata": {},
   "source": [
    " "
   ]
  },
  {
   "cell_type": "markdown",
   "id": "9777f5b3-cb3c-4ca3-bf63-09dda822874f",
   "metadata": {},
   "source": [
    "<a id=\"regions\"></a>"
   ]
  },
  {
   "cell_type": "markdown",
   "id": "cd779442-6fd5-4a90-8c7c-d69b1e8abac7",
   "metadata": {
    "tags": []
   },
   "source": [
    "## In which regions of Germany are most Data Science jobs offered?"
   ]
  },
  {
   "cell_type": "code",
   "execution_count": null,
   "id": "38bc1154-cf3f-47cc-b2c1-a8020ca46776",
   "metadata": {},
   "outputs": [],
   "source": [
    "df_long = pd.read_csv(\"../data/data_long.csv\")\n",
    "df_long.head()"
   ]
  },
  {
   "cell_type": "code",
   "execution_count": null,
   "id": "ce88dd47-ed5c-40be-ab5b-6070ea472aca",
   "metadata": {},
   "outputs": [],
   "source": [
    "fig = px.bar(df_long[\"region\"].value_counts(), labels={\"value\": \"number of jobs\", \"index\": \"region\"}, width=1000, height=500,\n",
    "             title=\"Number of Jobs per Region\")\n",
    "fig.update_layout(showlegend=False, title={\"x\": 0.5})\n",
    "fig.show(\"svg\")"
   ]
  },
  {
   "cell_type": "code",
   "execution_count": null,
   "id": "d20e859e-7b6b-47a8-8c57-67139d55d9d3",
   "metadata": {},
   "outputs": [],
   "source": [
    "fig = px.bar(df_long[\"location\"].value_counts().head(10), labels={\"value\": \"number of jobs\", \"index\": \"city\"}, width=1000, height=500,\n",
    "             title=\"Number of Jobs per City\")\n",
    "fig.update_layout(showlegend=False, title={\"x\": 0.5})\n",
    "fig.show(\"svg\")"
   ]
  },
  {
   "cell_type": "code",
   "execution_count": null,
   "id": "2cead3e2-7827-4050-b636-b820852e9a89",
   "metadata": {},
   "outputs": [],
   "source": [
    "df_map = df_long.groupby([\"location\", \"latitude\", \"longitude\"], as_index=False)[\"link\"].agg({\"number of jobs\": \"count\"})\n",
    "\n",
    "df_map[\"size\"] = np.log(df_map[\"number of jobs\"] + 1)\n",
    "\n",
    "fig = px.scatter_mapbox(df_map,\n",
    "                        lat=\"latitude\", lon=\"longitude\",\n",
    "                        hover_name=\"location\",\n",
    "                        hover_data={\"latitude\": False, \"longitude\": False, \"size\": False, \"number of jobs\": True},\n",
    "                        color_discrete_sequence=[\"blue\"],\n",
    "                        mapbox_style=\"carto-positron\",\n",
    "                        size=\"size\",\n",
    "                        size_max=20,\n",
    "                        zoom=5,\n",
    "                        opacity=0.5,\n",
    "                        center={\"lat\": 51, \"lon\": 10},\n",
    "                        width=650, height=750,\n",
    "                        title=\"Geographical Distribution of Jobs\")\n",
    "\n",
    "# Scatter mapbox does not render in Github\n",
    "# fig.update_layout(title={\"x\": 0.5})\n",
    "# fig.show()"
   ]
  },
  {
   "cell_type": "markdown",
   "id": "e74aa9e3-e63f-42ef-8659-0f65812bc3b0",
   "metadata": {},
   "source": [
    " "
   ]
  },
  {
   "cell_type": "markdown",
   "id": "d0bd33fb-9cac-4abb-b461-fa08e4618737",
   "metadata": {},
   "source": [
    "<a id=\"company\"></a>"
   ]
  },
  {
   "cell_type": "markdown",
   "id": "aa27470d-8419-4801-9281-d8b8c3b57782",
   "metadata": {},
   "source": [
    "## Which companies search the most for new data roles?"
   ]
  },
  {
   "cell_type": "code",
   "execution_count": null,
   "id": "29d76a2c-4502-4d35-8657-c3cc7acb015d",
   "metadata": {},
   "outputs": [],
   "source": [
    "fig = px.bar(df_wide[\"company\"].value_counts()[:20], labels={\"value\": \"number of jobs\", \"index\": \"company\"}, width=1000, height=500,\n",
    "             title=\"Number of Jobs per Company\")\n",
    "fig.update_layout(showlegend=False, title={\"x\": 0.5})\n",
    "fig.show(\"svg\")"
   ]
  },
  {
   "cell_type": "markdown",
   "id": "143c7e47-51cc-4b64-8068-b65621c68d3e",
   "metadata": {},
   "source": [
    " "
   ]
  },
  {
   "cell_type": "markdown",
   "id": "78cebe2a-f831-4a5e-ab61-2141bb194768",
   "metadata": {},
   "source": [
    "<a id=\"salary\"></a>"
   ]
  },
  {
   "cell_type": "markdown",
   "id": "5e181a13-f2d5-4fe0-8636-e37f49221c5a",
   "metadata": {
    "tags": []
   },
   "source": [
    "## Which attributes influence the salary of a job?"
   ]
  },
  {
   "cell_type": "markdown",
   "id": "4034558c-d707-4924-817c-0c20b298a488",
   "metadata": {},
   "source": [
    "The salary data used are not real salaries but already forecasts of a machine learning model developed by Stepstone. According to Stepstone, the forecasts of this model are based on three factors:\n",
    "- job characteristics\n",
    "- employer profile\n",
    "- qualifications"
   ]
  },
  {
   "cell_type": "code",
   "execution_count": null,
   "id": "8f480942-157d-43b3-acde-1e9c0fd2a74c",
   "metadata": {},
   "outputs": [],
   "source": [
    "df_salary = df_wide.loc[df_wide[\"average_salary\"].notnull()]\n",
    "df_salary.shape"
   ]
  },
  {
   "cell_type": "markdown",
   "id": "4b80a339-7851-40be-b4d9-110cdc3fcebd",
   "metadata": {},
   "source": [
    " "
   ]
  },
  {
   "cell_type": "markdown",
   "id": "70eb945c-672c-4bff-b801-009c95414aa2",
   "metadata": {},
   "source": [
    "### Influence of the job characteristics"
   ]
  },
  {
   "cell_type": "markdown",
   "id": "3d0ec575-a702-45ec-8569-6d79f9685bbe",
   "metadata": {},
   "source": [
    "Job characteristics include:\n",
    "- job title\n",
    "- experience level\n",
    "- work type / contract type"
   ]
  },
  {
   "cell_type": "code",
   "execution_count": null,
   "id": "4be2bfae-4bd6-45f9-b798-2cc8cf46cde1",
   "metadata": {},
   "outputs": [],
   "source": [
    "salaries = df_salary.groupby(\"title_category\")[\"average_salary\"].mean().sort_values(ascending=False)\n",
    "fig = px.box(df_salary, x=\"title_category\", y=\"average_salary\", color=\"title_category\", labels={\"title_category\": \"title\"},\n",
    "             width=1000, height=500, category_orders={\"title_category\": salaries.index}, title=\"Salaries for Different Job Titles\")\n",
    "fig.update_layout(showlegend=False, title={\"x\": 0.5})\n",
    "fig.show(\"svg\")"
   ]
  },
  {
   "cell_type": "code",
   "execution_count": null,
   "id": "95497067-2f79-4e12-a20b-10e610f89d46",
   "metadata": {},
   "outputs": [],
   "source": [
    "salaries = df_salary.groupby(\"experience_level\")[\"average_salary\"].mean().sort_values(ascending=False)\n",
    "fig = px.box(df_salary, x=\"experience_level\", y=\"average_salary\", color=\"experience_level\", width=1000, height=500,\n",
    "             category_orders={\"experience_level\": salaries.index}, title=\"Salaries for Different Experience Levels\")\n",
    "fig.update_layout(showlegend=False, title={\"x\": 0.5})\n",
    "fig.show(\"svg\")"
   ]
  },
  {
   "cell_type": "markdown",
   "id": "aa6c6007-2bf2-4903-ad5b-485d5f698866",
   "metadata": {},
   "source": [
    "In addition to the job title, other information is included in the job ads:\n",
    "- contract type (permanent employment / trainee)\n",
    "- work type (full time, part time, home office possible)\n",
    "\n",
    "However, for many of these, the sample collected is too small to draw conclusions."
   ]
  },
  {
   "cell_type": "code",
   "execution_count": null,
   "id": "a747fa1f-0f36-4431-a0ce-ee7c1a96f9d2",
   "metadata": {},
   "outputs": [],
   "source": [
    "salaries = df_salary.groupby(\"permanent_employment\")[\"average_salary\"].agg([\"mean\", \"count\"]).sort_values(\"count\", ascending=False)\n",
    "salaries"
   ]
  },
  {
   "cell_type": "code",
   "execution_count": null,
   "id": "6192cd50-c801-429c-9493-10a7d5f8acaf",
   "metadata": {},
   "outputs": [],
   "source": [
    "salaries = df_salary.groupby(\"trainee\")[\"average_salary\"].agg([\"mean\", \"count\"]).sort_values(\"count\", ascending=False)\n",
    "salaries"
   ]
  },
  {
   "cell_type": "code",
   "execution_count": null,
   "id": "27707dff-bac3-41c5-b0fe-f9f32fccad6d",
   "metadata": {},
   "outputs": [],
   "source": [
    "salaries = df_salary.groupby(\"full_time\")[\"average_salary\"].agg([\"mean\", \"count\"]).sort_values(\"count\", ascending=False)\n",
    "salaries"
   ]
  },
  {
   "cell_type": "code",
   "execution_count": null,
   "id": "19595dc6-8634-4208-95b2-507262c506b4",
   "metadata": {},
   "outputs": [],
   "source": [
    "salaries = df_salary.groupby(\"part_time\")[\"average_salary\"].agg([\"mean\", \"count\"]).sort_values(\"count\", ascending=False)\n",
    "salaries"
   ]
  },
  {
   "cell_type": "code",
   "execution_count": null,
   "id": "55db042b-4e91-4d02-98a3-69d30540fa04",
   "metadata": {},
   "outputs": [],
   "source": [
    "fig = px.box(df_salary, x=\"part_time\", y=\"average_salary\", color=\"part_time\", width=1000, height=500,\n",
    "             category_orders={\"experience_level\": salaries.index}, title=\"Salaries for Part Time Jobs\")\n",
    "fig.update_layout(showlegend=False, title={\"x\": 0.5})\n",
    "fig.show(\"svg\")"
   ]
  },
  {
   "cell_type": "code",
   "execution_count": null,
   "id": "6003ab08-fa4b-4478-b5e0-5355179bfa67",
   "metadata": {},
   "outputs": [],
   "source": [
    "salaries = df_salary.groupby(\"home_office_possible\")[\"average_salary\"].agg([\"mean\", \"count\"]).sort_values(\"count\", ascending=False)\n",
    "salaries"
   ]
  },
  {
   "cell_type": "code",
   "execution_count": null,
   "id": "51b39e59-6418-455e-b6e2-be09e60dd2c9",
   "metadata": {},
   "outputs": [],
   "source": [
    "fig = px.box(df_salary, x=\"home_office_possible\", y=\"average_salary\", color=\"home_office_possible\", width=1000, height=500,\n",
    "             category_orders={\"experience_level\": salaries.index}, title=\"Salaries for Jobs With Home Office\")\n",
    "fig.update_layout(showlegend=False, title={\"x\": 0.5})\n",
    "fig.show(\"svg\")"
   ]
  },
  {
   "cell_type": "markdown",
   "id": "1fa3a176-a3b0-4113-9ea2-2a12f9ce7f9b",
   "metadata": {},
   "source": [
    "Summary:\n",
    "- the job title has a great influence on the salary\n",
    "- the higher the experience level, the higher the salary\n",
    "- for the features \"permanent_employment\", \"trainee\" and \"full_time\" there are too few data points for the respective weaker represented category to integrate these features into the later model.\n",
    "    - the information from \"trainee\" has already been integrated into the \"experience\" feature during preprocessing\n",
    "- for the feature \"part_time\" does not seem to make a big difference\n",
    "- jobs without the possibility of a home office are on average paid better"
   ]
  },
  {
   "cell_type": "markdown",
   "id": "ee641688-4112-49f9-8e2c-940819de124d",
   "metadata": {},
   "source": [
    " "
   ]
  },
  {
   "cell_type": "markdown",
   "id": "d9b50643-0f19-441c-9a3f-657279971975",
   "metadata": {},
   "source": [
    "### Influence of the employee profile"
   ]
  },
  {
   "cell_type": "markdown",
   "id": "976ddf54-0c54-405b-8eae-38963a4c1bcd",
   "metadata": {},
   "source": [
    "Employer profile includes:\n",
    "- location information\n",
    "- line of business\n",
    "- company size"
   ]
  },
  {
   "cell_type": "code",
   "execution_count": null,
   "id": "18f12f19-50dc-4f48-9d13-6e213d35f50f",
   "metadata": {},
   "outputs": [],
   "source": [
    "salaries = df_salary.groupby(\"main_region\")[\"average_salary\"].agg([\"mean\", \"count\"]).sort_values(\"mean\", ascending=False)\n",
    "fig = px.box(df_salary.dropna(subset=[\"main_region\"]), x=\"main_region\", y=\"average_salary\", color=\"main_region\", \n",
    "             width=1000, height=500, category_orders={\"main_region\": salaries.index}, title=\"Salaries for Different Regions\")\n",
    "fig.update_layout(showlegend=False, title={\"x\": 0.5})\n",
    "fig.show(\"svg\")"
   ]
  },
  {
   "cell_type": "code",
   "execution_count": null,
   "id": "75f5937d-156e-44f6-a304-505527b1b0f5",
   "metadata": {},
   "outputs": [],
   "source": [
    "locations = df_salary.loc[df_salary[\"main_region\"]==\"North Rhine-Westphalia\", \"main_location\"].value_counts().head(10)\n",
    "top_locations = df_salary.loc[df_salary[\"main_location\"].isin(locations.index)]\n",
    "salaries = top_locations.groupby(\"main_location\")[\"average_salary\"].agg([\"mean\", \"count\"]).sort_values(\"mean\", ascending=False)\n",
    "fig = px.box(top_locations, x=\"main_location\", y=\"average_salary\", color=\"main_location\", width=1000, height=500,\n",
    "             category_orders={\"main_location\": salaries.index}, title=\"Salaries for Different Cities\")\n",
    "fig.update_layout(showlegend=False, title={\"x\": 0.5})\n",
    "fig.show(\"svg\")"
   ]
  },
  {
   "cell_type": "code",
   "execution_count": null,
   "id": "8155e54b-8fb9-44a2-975c-c55ad54c355b",
   "metadata": {},
   "outputs": [],
   "source": [
    "salaries = df_salary.groupby(\"multiple_locations\")[\"average_salary\"].mean().sort_values(ascending=False)\n",
    "fig = px.box(df_salary, x=\"multiple_locations\", y=\"average_salary\", color=\"multiple_locations\", width=1000, height=500,\n",
    "             title=\"Salaries for Jobs With Multiple Locations\")\n",
    "fig.update_layout(showlegend=False, title={\"x\": 0.5})\n",
    "fig.show(\"svg\")"
   ]
  },
  {
   "cell_type": "code",
   "execution_count": null,
   "id": "02b9e2ba-4826-4019-a3f7-106dc4917b0a",
   "metadata": {},
   "outputs": [],
   "source": [
    "industries = df_salary[\"main_industry\"].value_counts().head(10)\n",
    "top_industries = df_salary.loc[df_salary[\"main_industry\"].isin(industries.index)]\n",
    "salaries = top_industries.groupby(\"main_industry\")[\"average_salary\"].agg([\"mean\", \"count\"]).sort_values(\"mean\", ascending=False)\n",
    "fig = px.box(top_industries, x=\"main_industry\", y=\"average_salary\", color=\"main_industry\", width=1000, height=500,\n",
    "             category_orders={\"main_industry\": salaries.index}, title=\"Salaries for Different Industries\")\n",
    "fig.update_layout(showlegend=False, title={\"x\": 0.5})\n",
    "fig.show(\"svg\")"
   ]
  },
  {
   "cell_type": "code",
   "execution_count": null,
   "id": "a27fc266-6b48-480b-9d65-ce3f0eb96b94",
   "metadata": {},
   "outputs": [],
   "source": [
    "salaries = df_salary.groupby(\"company_size\")[\"average_salary\"].mean().sort_values(ascending=False)\n",
    "fig = px.box(df_salary.dropna(subset=[\"company_size\"]), x=\"company_size\", y=\"average_salary\", color=\"company_size\", width=1000, height=500,\n",
    "             category_orders={\"company_size\": [\"10,001+\", \"5001-10,000\", \"2501-5000\", \"1001-2500\", \"501-1000\", \"251-500\", \"51-250\", \"0-50\"]},\n",
    "             title=\"Salaries for Different Company Sizes\")\n",
    "fig.update_layout(showlegend=False, title={\"x\": 0.5})\n",
    "fig.show(\"svg\")"
   ]
  },
  {
   "cell_type": "code",
   "execution_count": null,
   "id": "06cae309-f706-4920-b67a-a990cf19ba17",
   "metadata": {},
   "outputs": [],
   "source": [
    "fig = px.scatter(df_salary, x=\"rating\", y=\"average_salary\", width=1000, height=500, trendline=\"ols\",\n",
    "                 title=\"Relationship Between Rating and Salary\")\n",
    "\n",
    "# Scatterplot does not render in Github\n",
    "# fig.update_layout(showlegend=False, title={\"x\": 0.5})\n",
    "# fig.show()"
   ]
  },
  {
   "cell_type": "markdown",
   "id": "8a478d19-650c-40c5-88ee-85f5e27c74fc",
   "metadata": {},
   "source": [
    "Summary:\n",
    "- both the states and the cities themselves have a large impact on the salary\n",
    "- in both cases, however, many rare categories exist ==> in the later model, pay attention to enough regularization to not overfit on this one\n",
    "- also with the feature \"multiple_locations\" exists a small difference\n",
    "    - whether this effect is based on this feature or can be explained by other features is not possible to judge\n",
    "- for the industry of a company also has an influence on the salary\n",
    "- larger companies pay on average larger salaries\n",
    "- the rating of a company does not seem to correlate with the paid salaries"
   ]
  },
  {
   "cell_type": "markdown",
   "id": "0e8a0585-c9b1-4c2d-a54d-035c9041ef2e",
   "metadata": {},
   "source": [
    " "
   ]
  },
  {
   "cell_type": "markdown",
   "id": "2bb477e2-5812-44b0-aa24-2b9221d98dfc",
   "metadata": {
    "tags": []
   },
   "source": [
    "### Influence of the required qualifications"
   ]
  },
  {
   "cell_type": "markdown",
   "id": "6a24bf7a-26e1-4ad1-a552-6d1c0dc9c9a1",
   "metadata": {},
   "source": [
    "Required qualifications include:\n",
    "- amount of work experience\n",
    "- type of degree\n",
    "- field of study\n",
    "\n",
    "Since Stepstone's model also has to make predictions for completely different career fields than Data Science, it is very unlikely that these models include Data-Science-specific tools in its predictions. Therefore, extracted skills such as Python or SQL are not considered in this analysis."
   ]
  },
  {
   "cell_type": "code",
   "execution_count": null,
   "id": "3179a970-e35b-4096-8d48-d7ea7cadb7f3",
   "metadata": {},
   "outputs": [],
   "source": [
    "def get_salary(s):\n",
    "    return np.where(s, df_salary[\"average_salary\"], np.nan)"
   ]
  },
  {
   "cell_type": "code",
   "execution_count": null,
   "id": "a53fcb03-401c-45a2-bb3a-58acc61a8f40",
   "metadata": {},
   "outputs": [],
   "source": [
    "df_experience = df_salary[[\"little_experience\", \"some_experience\", \"much_experience\", \"no_experience_information\"]]\n",
    "df_experience = df_experience.apply(get_salary)\n",
    "df_experience.head()"
   ]
  },
  {
   "cell_type": "code",
   "execution_count": null,
   "id": "cc8be791-261d-42fd-b37c-845aa9e866a1",
   "metadata": {},
   "outputs": [],
   "source": [
    "salaries = df_experience.mean().sort_values(ascending=False)\n",
    "fig = px.box(df_experience, width=1000, height=500, color=\"variable\", category_orders={\"variable\": salaries.index},\n",
    "             title=\"Salaries for Different Experience Levels\")\n",
    "fig.update_layout(showlegend=False, title={\"x\": 0.5})\n",
    "fig.show(\"svg\")"
   ]
  },
  {
   "cell_type": "code",
   "execution_count": null,
   "id": "5840b5b7-1ce1-4991-8a0a-38b02464410a",
   "metadata": {},
   "outputs": [],
   "source": [
    "df_education = df_salary[[\"master\", \"phd\", \"bachelor\", \"no_degree_info\"]]\n",
    "df_education = df_education.apply(get_salary)\n",
    "\n",
    "salaries = df_education.mean().sort_values(ascending=False)\n",
    "fig = px.box(df_education, width=1000, height=500, color=\"variable\", category_orders={\"variable\": salaries.index},\n",
    "             title=\"Salaries for Different Degrees\")\n",
    "fig.update_layout(showlegend=False, title={\"x\": 0.5})\n",
    "fig.show(\"svg\")"
   ]
  },
  {
   "cell_type": "code",
   "execution_count": null,
   "id": "4aeb72e8-5afe-47c1-892f-c1bb91357e8e",
   "metadata": {},
   "outputs": [],
   "source": [
    "df_degree = df_salary[[\"computer_science\", \"math/statistics\", \"natural_science\", \"engineering\", \"business\"]]\n",
    "df_degree = df_degree.apply(get_salary)\n",
    "\n",
    "salaries = df_degree.mean().sort_values(ascending=False)\n",
    "fig = px.box(df_degree, width=1000, height=500, color=\"variable\", category_orders={\"variable\": salaries.index},\n",
    "             title=\"Salaries for Different Study Majors\")\n",
    "fig.update_layout(showlegend=False, title={\"x\": 0.5})\n",
    "fig.show(\"svg\")"
   ]
  },
  {
   "cell_type": "markdown",
   "id": "4a0a5919-b201-4f7a-8e4d-81da371a0d9f",
   "metadata": {},
   "source": [
    "Summary:\n",
    "- the greater the work experience, the higher the salary\n",
    "- the higher the degree, the higher the salary\n",
    "- the average salaries between different study programs differ minimally\n",
    "    - however, it does not look like the distributions differ significantly for the different study programs (study program was probably not integrated to the model)"
   ]
  },
  {
   "cell_type": "code",
   "execution_count": null,
   "id": "20842752-c773-44bd-892d-6261b974abda",
   "metadata": {},
   "outputs": [],
   "source": []
  }
 ],
 "metadata": {
  "kernelspec": {
   "display_name": "jobsearch",
   "language": "python",
   "name": "jobsearch"
  },
  "language_info": {
   "codemirror_mode": {
    "name": "ipython",
    "version": 3
   },
   "file_extension": ".py",
   "mimetype": "text/x-python",
   "name": "python",
   "nbconvert_exporter": "python",
   "pygments_lexer": "ipython3",
   "version": "3.9.12"
  }
 },
 "nbformat": 4,
 "nbformat_minor": 5
}
