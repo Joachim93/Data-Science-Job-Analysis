{
 "cells": [
  {
   "cell_type": "markdown",
   "id": "4a664102-0cd1-420b-b558-87b2c83d46de",
   "metadata": {},
   "source": [
    "# Overview\n",
    "\n",
    "The goal of this notebook is to design a machine learning model to predict the salary of a job as best as possible from the information in the job description and to inerpret it afterwards. The procedure was as follows:\n",
    "- [Test of a baseline](#baseline)\n",
    "- [Test of linear models](#linear_models)\n",
    "- [Test of non-linear models](#non-linear_models)\n",
    "- [Interpretation of the results](#interpretation)\n",
    "- [Summary of the results](#summary)"
   ]
  },
  {
   "cell_type": "code",
   "execution_count": 1,
   "id": "4871d85e-618d-49b3-86f2-b884a4c01def",
   "metadata": {},
   "outputs": [],
   "source": [
    "import warnings\n",
    "\n",
    "import numpy as np\n",
    "import pandas as pd\n",
    "import seaborn as sns\n",
    "import matplotlib.pyplot as plt\n",
    "from category_encoders.ordinal import OrdinalEncoder\n",
    "from category_encoders.target_encoder import TargetEncoder\n",
    "from sklearn.compose import TransformedTargetRegressor\n",
    "from sklearn.dummy import DummyRegressor\n",
    "from sklearn.ensemble import RandomForestRegressor\n",
    "from sklearn.impute import SimpleImputer\n",
    "from sklearn.linear_model import LinearRegression, Lasso, Ridge, ElasticNet\n",
    "from sklearn.metrics import mean_absolute_error\n",
    "from sklearn.model_selection import cross_validate, KFold, train_test_split, GridSearchCV, RandomizedSearchCV\n",
    "from sklearn.pipeline import Pipeline\n",
    "from sklearn.preprocessing import OneHotEncoder, PolynomialFeatures\n",
    "from sklearn.svm import SVR\n",
    "from tqdm import tqdm\n",
    "from xgboost import XGBRegressor\n",
    "\n",
    "warnings.filterwarnings(\"ignore\")"
   ]
  },
  {
   "cell_type": "code",
   "execution_count": 2,
   "id": "5adb70ae-52ab-4ef5-bac2-eb2f2e11237a",
   "metadata": {},
   "outputs": [
    {
     "name": "stdout",
     "output_type": "stream",
     "text": [
      "(1687, 103)\n"
     ]
    },
    {
     "data": {
      "text/html": [
       "<div>\n",
       "<style scoped>\n",
       "    .dataframe tbody tr th:only-of-type {\n",
       "        vertical-align: middle;\n",
       "    }\n",
       "\n",
       "    .dataframe tbody tr th {\n",
       "        vertical-align: top;\n",
       "    }\n",
       "\n",
       "    .dataframe thead th {\n",
       "        text-align: right;\n",
       "    }\n",
       "</style>\n",
       "<table border=\"1\" class=\"dataframe\">\n",
       "  <thead>\n",
       "    <tr style=\"text-align: right;\">\n",
       "      <th></th>\n",
       "      <th>link</th>\n",
       "      <th>company</th>\n",
       "      <th>title</th>\n",
       "      <th>content</th>\n",
       "      <th>rating</th>\n",
       "      <th>num_ratings</th>\n",
       "      <th>company_link</th>\n",
       "      <th>release_date</th>\n",
       "      <th>company_size</th>\n",
       "      <th>permanent_employment</th>\n",
       "      <th>...</th>\n",
       "      <th>creativity</th>\n",
       "      <th>leadership</th>\n",
       "      <th>flexibility</th>\n",
       "      <th>business_focus</th>\n",
       "      <th>initiative</th>\n",
       "      <th>structured_working</th>\n",
       "      <th>little_experience</th>\n",
       "      <th>much_experience</th>\n",
       "      <th>no_experience_information</th>\n",
       "      <th>some_experience</th>\n",
       "    </tr>\n",
       "  </thead>\n",
       "  <tbody>\n",
       "    <tr>\n",
       "      <th>1</th>\n",
       "      <td>https://www.stepstone.de/stellenangebote--Mana...</td>\n",
       "      <td>BIG direkt gesund</td>\n",
       "      <td>Manager (m/w/d) Data Science &amp; Statistik</td>\n",
       "      <td>Direkter geht Karriere nicht.Einstieg bei der ...</td>\n",
       "      <td>4.3</td>\n",
       "      <td>16 Bewertungen</td>\n",
       "      <td>NaN</td>\n",
       "      <td>2022-06-03</td>\n",
       "      <td>NaN</td>\n",
       "      <td>True</td>\n",
       "      <td>...</td>\n",
       "      <td>False</td>\n",
       "      <td>False</td>\n",
       "      <td>False</td>\n",
       "      <td>False</td>\n",
       "      <td>False</td>\n",
       "      <td>False</td>\n",
       "      <td>False</td>\n",
       "      <td>False</td>\n",
       "      <td>True</td>\n",
       "      <td>False</td>\n",
       "    </tr>\n",
       "    <tr>\n",
       "      <th>2</th>\n",
       "      <td>https://www.stepstone.de/stellenangebote--Mana...</td>\n",
       "      <td>BIG direkt gesund</td>\n",
       "      <td>Manager (m/w/d) Data Science &amp; Statistik</td>\n",
       "      <td>Direkter geht Karriere nicht.Einstieg bei der ...</td>\n",
       "      <td>4.3</td>\n",
       "      <td>16 Bewertungen</td>\n",
       "      <td>NaN</td>\n",
       "      <td>2022-06-03</td>\n",
       "      <td>NaN</td>\n",
       "      <td>True</td>\n",
       "      <td>...</td>\n",
       "      <td>False</td>\n",
       "      <td>False</td>\n",
       "      <td>False</td>\n",
       "      <td>False</td>\n",
       "      <td>False</td>\n",
       "      <td>False</td>\n",
       "      <td>False</td>\n",
       "      <td>False</td>\n",
       "      <td>True</td>\n",
       "      <td>False</td>\n",
       "    </tr>\n",
       "    <tr>\n",
       "      <th>3</th>\n",
       "      <td>https://www.stepstone.de/stellenangebote--Data...</td>\n",
       "      <td>METRO Markets GmbH</td>\n",
       "      <td>Data Science Lead</td>\n",
       "      <td>We create the future of B2B commerce by giving...</td>\n",
       "      <td>NaN</td>\n",
       "      <td>NaN</td>\n",
       "      <td>NaN</td>\n",
       "      <td>2022-06-01</td>\n",
       "      <td>NaN</td>\n",
       "      <td>True</td>\n",
       "      <td>...</td>\n",
       "      <td>False</td>\n",
       "      <td>False</td>\n",
       "      <td>True</td>\n",
       "      <td>False</td>\n",
       "      <td>False</td>\n",
       "      <td>False</td>\n",
       "      <td>False</td>\n",
       "      <td>True</td>\n",
       "      <td>False</td>\n",
       "      <td>False</td>\n",
       "    </tr>\n",
       "    <tr>\n",
       "      <th>4</th>\n",
       "      <td>https://www.stepstone.de/stellenangebote--Busi...</td>\n",
       "      <td>R+V Allgemeine Versicherung AG</td>\n",
       "      <td>Business Analyst / Data Science (m/w/d)</td>\n",
       "      <td>Wie sich die Versicherung von morgen anfühlen ...</td>\n",
       "      <td>4.4</td>\n",
       "      <td>247 Bewertungen</td>\n",
       "      <td>https://www.stepstone.de/cmp/de/R-V-Allgemeine...</td>\n",
       "      <td>2022-06-01</td>\n",
       "      <td>10,001+</td>\n",
       "      <td>True</td>\n",
       "      <td>...</td>\n",
       "      <td>False</td>\n",
       "      <td>False</td>\n",
       "      <td>False</td>\n",
       "      <td>False</td>\n",
       "      <td>True</td>\n",
       "      <td>False</td>\n",
       "      <td>False</td>\n",
       "      <td>False</td>\n",
       "      <td>True</td>\n",
       "      <td>False</td>\n",
       "    </tr>\n",
       "    <tr>\n",
       "      <th>8</th>\n",
       "      <td>https://www.stepstone.de/stellenangebote--Data...</td>\n",
       "      <td>CHECK24</td>\n",
       "      <td>Data Science &amp; Artificial Intelligence Manager...</td>\n",
       "      <td>CHECK24 ist eines der führenden Online-Unterne...</td>\n",
       "      <td>4.5</td>\n",
       "      <td>179 Bewertungen</td>\n",
       "      <td>https://www.stepstone.de/cmp/de/CHECK24-112642...</td>\n",
       "      <td>2022-05-28</td>\n",
       "      <td>2501-5000</td>\n",
       "      <td>True</td>\n",
       "      <td>...</td>\n",
       "      <td>False</td>\n",
       "      <td>True</td>\n",
       "      <td>False</td>\n",
       "      <td>False</td>\n",
       "      <td>False</td>\n",
       "      <td>False</td>\n",
       "      <td>False</td>\n",
       "      <td>False</td>\n",
       "      <td>True</td>\n",
       "      <td>False</td>\n",
       "    </tr>\n",
       "  </tbody>\n",
       "</table>\n",
       "<p>5 rows × 103 columns</p>\n",
       "</div>"
      ],
      "text/plain": [
       "                                                link  \\\n",
       "1  https://www.stepstone.de/stellenangebote--Mana...   \n",
       "2  https://www.stepstone.de/stellenangebote--Mana...   \n",
       "3  https://www.stepstone.de/stellenangebote--Data...   \n",
       "4  https://www.stepstone.de/stellenangebote--Busi...   \n",
       "8  https://www.stepstone.de/stellenangebote--Data...   \n",
       "\n",
       "                          company  \\\n",
       "1               BIG direkt gesund   \n",
       "2               BIG direkt gesund   \n",
       "3              METRO Markets GmbH   \n",
       "4  R+V Allgemeine Versicherung AG   \n",
       "8                         CHECK24   \n",
       "\n",
       "                                               title  \\\n",
       "1           Manager (m/w/d) Data Science & Statistik   \n",
       "2           Manager (m/w/d) Data Science & Statistik   \n",
       "3                                  Data Science Lead   \n",
       "4            Business Analyst / Data Science (m/w/d)   \n",
       "8  Data Science & Artificial Intelligence Manager...   \n",
       "\n",
       "                                             content  rating      num_ratings  \\\n",
       "1  Direkter geht Karriere nicht.Einstieg bei der ...     4.3   16 Bewertungen   \n",
       "2  Direkter geht Karriere nicht.Einstieg bei der ...     4.3   16 Bewertungen   \n",
       "3  We create the future of B2B commerce by giving...     NaN              NaN   \n",
       "4  Wie sich die Versicherung von morgen anfühlen ...     4.4  247 Bewertungen   \n",
       "8  CHECK24 ist eines der führenden Online-Unterne...     4.5  179 Bewertungen   \n",
       "\n",
       "                                        company_link release_date  \\\n",
       "1                                                NaN   2022-06-03   \n",
       "2                                                NaN   2022-06-03   \n",
       "3                                                NaN   2022-06-01   \n",
       "4  https://www.stepstone.de/cmp/de/R-V-Allgemeine...   2022-06-01   \n",
       "8  https://www.stepstone.de/cmp/de/CHECK24-112642...   2022-05-28   \n",
       "\n",
       "  company_size  permanent_employment  ...  creativity  leadership  \\\n",
       "1          NaN                  True  ...       False       False   \n",
       "2          NaN                  True  ...       False       False   \n",
       "3          NaN                  True  ...       False       False   \n",
       "4      10,001+                  True  ...       False       False   \n",
       "8    2501-5000                  True  ...       False        True   \n",
       "\n",
       "   flexibility  business_focus initiative structured_working  \\\n",
       "1        False           False      False              False   \n",
       "2        False           False      False              False   \n",
       "3         True           False      False              False   \n",
       "4        False           False       True              False   \n",
       "8        False           False      False              False   \n",
       "\n",
       "   little_experience much_experience  no_experience_information  \\\n",
       "1              False           False                       True   \n",
       "2              False           False                       True   \n",
       "3              False            True                      False   \n",
       "4              False           False                       True   \n",
       "8              False           False                       True   \n",
       "\n",
       "  some_experience  \n",
       "1           False  \n",
       "2           False  \n",
       "3           False  \n",
       "4           False  \n",
       "8           False  \n",
       "\n",
       "[5 rows x 103 columns]"
      ]
     },
     "execution_count": 2,
     "metadata": {},
     "output_type": "execute_result"
    }
   ],
   "source": [
    "df = pd.read_csv(\"../data/data_wide.csv\")\n",
    "df = df.loc[df[\"title_category\"] != \"Others\"]\n",
    "df.dropna(subset=[\"average_salary\"], inplace=True)\n",
    "print(df.shape)\n",
    "df.head()"
   ]
  },
  {
   "cell_type": "markdown",
   "id": "72de9355-a317-402d-a262-736d38426497",
   "metadata": {},
   "source": [
    "Within the EDA, attributes have already been identified that are not relevant with regard to the salary of a job. These are excluded from the outset during model building. Subsequently, a test data set is split off from the remaining data, which will later be used to obtain an unbiased estimate of the model quality."
   ]
  },
  {
   "cell_type": "code",
   "execution_count": 3,
   "id": "10f63330-ddf7-4e6a-9af0-94e790e2349b",
   "metadata": {},
   "outputs": [
    {
     "data": {
      "text/plain": [
       "((1349, 17), (338, 17))"
      ]
     },
     "execution_count": 3,
     "metadata": {},
     "output_type": "execute_result"
    }
   ],
   "source": [
    "df = df[[\"company\", \"company_size\", \"home_office_possible\", \"part_time\", \"title_category\", \"experience_level\", \"average_salary\", \"main_location\", \n",
    "         \"main_region\", \"multiple_locations\", \"main_industry\", \"master\", \"phd\", \"bachelor\", \"little_experience\", \"much_experience\", \"some_experience\"]]\n",
    "df_train, df_test = train_test_split(df, test_size=0.2, random_state=0)\n",
    "df_train.shape, df_test.shape"
   ]
  },
  {
   "cell_type": "markdown",
   "id": "73f7d5bc-e81d-406a-b0ad-fefd3dcb51c5",
   "metadata": {},
   "source": [
    "There are three attributes with missing values. Since all attributes are categorical features, it is easy to add an additional category \"missing_value\" later."
   ]
  },
  {
   "cell_type": "code",
   "execution_count": 4,
   "id": "6522673b-50eb-413d-a3c3-0ab98c72ef93",
   "metadata": {},
   "outputs": [
    {
     "data": {
      "text/plain": [
       "company_size          345\n",
       "main_industry         217\n",
       "main_region            42\n",
       "multiple_locations      0\n",
       "much_experience         0\n",
       "little_experience       0\n",
       "bachelor                0\n",
       "phd                     0\n",
       "master                  0\n",
       "company                 0\n",
       "dtype: int64"
      ]
     },
     "execution_count": 4,
     "metadata": {},
     "output_type": "execute_result"
    }
   ],
   "source": [
    "df_train.isnull().sum().sort_values(ascending=False).head(10)"
   ]
  },
  {
   "cell_type": "markdown",
   "id": "1a39b893-5321-481c-a69a-00ccc7e0ef6f",
   "metadata": {},
   "source": [
    "The target variable is approximately normally distributed, but contains a relatively extreme outlier. Especially when using a linear model, it can therefore still be useful to transform the target to minimize the effect of the extremely large values and to better approximate the remaining data points."
   ]
  },
  {
   "cell_type": "code",
   "execution_count": 5,
   "id": "82bc4ab3-88ec-4742-9d74-1a63b3498670",
   "metadata": {},
   "outputs": [
    {
     "data": {
      "image/png": "[encoded data removed]",
      "text/plain": [
       "<Figure size 432x288 with 1 Axes>"
      ]
     },
     "metadata": {
      "needs_background": "light"
     },
     "output_type": "display_data"
    }
   ],
   "source": [
    "sns.histplot(x=df_train[\"average_salary\"]);"
   ]
  },
  {
   "cell_type": "markdown",
   "id": "1a9481fa-a1eb-4326-a27c-462d4c0cbb0e",
   "metadata": {},
   "source": [
    " "
   ]
  },
  {
   "cell_type": "markdown",
   "id": "1fb58470-ec49-4e87-8ac0-20165d0dd3d7",
   "metadata": {},
   "source": [
    "<a id=\"baseline\"></a>"
   ]
  },
  {
   "cell_type": "markdown",
   "id": "dd77701e-3ed6-4565-9304-0c621bc1675c",
   "metadata": {},
   "source": [
    "## Baseline"
   ]
  },
  {
   "cell_type": "markdown",
   "id": "33a25a63-a8ee-4a3d-85d3-bf022ffebcf0",
   "metadata": {},
   "source": [
    "To get a feel for the difficulty of the problem, the first step is to establish a simple baseline performance. In a regression problem, the use of the target mean for all predictions is usually suitable for this purpose. In the following, the Mean Absolute Error (MAE) is always used to evaluate the model, since large errors should not be weighted more heavily than small ones."
   ]
  },
  {
   "cell_type": "code",
   "execution_count": 6,
   "id": "c561cbe1-fe78-4fcf-b561-69f4d80b0c07",
   "metadata": {},
   "outputs": [
    {
     "name": "stdout",
     "output_type": "stream",
     "text": [
      "train score: 9328.610852440717\n",
      "test score: 9331.5807791647\n"
     ]
    }
   ],
   "source": [
    "X = df_train.drop(\"average_salary\", axis=1)\n",
    "y = df_train[\"average_salary\"]\n",
    "model = DummyRegressor(strategy=\"mean\")\n",
    "results = cross_validate(model, X, y, scoring=\"neg_mean_absolute_error\", return_train_score=True)\n",
    "print(f\"train score: {np.abs(np.mean(results['train_score']))}\")\n",
    "print(f\"test score: {np.abs(np.mean(results['test_score']))}\")"
   ]
  },
  {
   "cell_type": "markdown",
   "id": "b222e360-f43c-4863-8650-a0677165db45",
   "metadata": {},
   "source": [
    " "
   ]
  },
  {
   "cell_type": "markdown",
   "id": "673fd35f-2d97-48c3-a372-7190ed5d7a6b",
   "metadata": {},
   "source": [
    "<a id=\"linear_models\"></a>"
   ]
  },
  {
   "cell_type": "markdown",
   "id": "4e7ec298-81cb-4588-bd0c-d7f87713998a",
   "metadata": {},
   "source": [
    "## Linear Models"
   ]
  },
  {
   "cell_type": "markdown",
   "id": "d55ba07f-1667-4348-b56a-079e71af1b4c",
   "metadata": {},
   "source": [
    "As a first model, a linear regression without further modifications is tested on the problem. During preprocessing, all missing values are first replaced by the missing_value category. Then, all categorical features are converted to numeric features using one-hot encoding. Scaling of the data is not necessary because the dataset contains only categorical features."
   ]
  },
  {
   "cell_type": "code",
   "execution_count": 7,
   "id": "86520bd8-0f04-4c4a-b5a1-11bb693b830f",
   "metadata": {},
   "outputs": [
    {
     "name": "stdout",
     "output_type": "stream",
     "text": [
      "train score: 3119.9537800193493\n",
      "test score: 7090.860073052829\n"
     ]
    }
   ],
   "source": [
    "pipe = Pipeline([\n",
    "    (\"imputer\", SimpleImputer(strategy=\"constant\", fill_value=\"missing_value\")),\n",
    "    (\"encoder\", OneHotEncoder(handle_unknown=\"ignore\")),\n",
    "    (\"model\", LinearRegression())\n",
    "])\n",
    "\n",
    "results = cross_validate(pipe, X, y, scoring=\"neg_mean_absolute_error\", return_train_score=True)\n",
    "print(f\"train score: {np.abs(np.mean(results['train_score']))}\")\n",
    "print(f\"test score: {np.abs(np.mean(results['test_score']))}\")"
   ]
  },
  {
   "cell_type": "markdown",
   "id": "3d7d7246-6aab-409f-8e3a-5730d7cc21d0",
   "metadata": {},
   "source": [
    "The linear regression already provides a clear improvement over the baseline. However, the large difference between training and test error suggests that the model overfits the training data. Therefore, the effect of additional regularization will be investigated next. Three different models are tested for this purpose:\n",
    "- Lasso Regression (L1 regularization)\n",
    "- Ridge Regression (L2 regularization)\n",
    "- Elastic Net (combination of L1 and L2 regularization)\n",
    "\n",
    "Simultaneously, the effect of different variants in the coding of categorical variables is investigated. In one-hot encoding, the hyperparameter \"min_frequency\" is investigated, which influences when rare categories should be combined into one. Furthermore, target encoding is tested as an alternative. The hyperparameter \"smoothing\" is also used to avoid overfitting rare categories. An ordinal encoding is omitted at this point, since none of the features is assumed to have an ordinal relationship. "
   ]
  },
  {
   "cell_type": "code",
   "execution_count": 8,
   "id": "0b2aeed3-280d-4684-a22d-1dd4e7a052f2",
   "metadata": {},
   "outputs": [
    {
     "name": "stdout",
     "output_type": "stream",
     "text": [
      "train score: 5081.107324479164\n",
      "test score: 6369.832715922211\n"
     ]
    },
    {
     "data": {
      "text/plain": [
       "{'model__alpha': 9,\n",
       " 'encoder__ohe__min_frequency': None,\n",
       " 'encoder': Pipeline(steps=[('imputer',\n",
       "                  SimpleImputer(fill_value='missing_value',\n",
       "                                strategy='constant')),\n",
       "                 ('ohe', OneHotEncoder(handle_unknown='ignore'))])}"
      ]
     },
     "execution_count": 8,
     "metadata": {},
     "output_type": "execute_result"
    }
   ],
   "source": [
    "onehot_encoding = Pipeline([\n",
    "    (\"imputer\", SimpleImputer(strategy=\"constant\", fill_value=\"missing_value\")),\n",
    "    (\"ohe\", OneHotEncoder(handle_unknown=\"ignore\"))\n",
    "])\n",
    "\n",
    "pipe = Pipeline([\n",
    "    (\"encoder\", None),\n",
    "    (\"model\", Lasso())\n",
    "])\n",
    "\n",
    "param_grid = [{\"encoder\": [onehot_encoding],\n",
    "               \"encoder__ohe__min_frequency\": [None, 5, 10],\n",
    "               \"model__alpha\": list(range(1, 30))},\n",
    "              {\"encoder\": [TargetEncoder()],\n",
    "               \"encoder__smoothing\": [0.1, 1., 10., 100.],\n",
    "               \"model__alpha\": list(range(1, 30))}]\n",
    "\n",
    "search = RandomizedSearchCV(pipe, param_grid, n_iter=200, scoring=\"neg_mean_absolute_error\", return_train_score=True, n_jobs=-1, random_state=0)\n",
    "search.fit(X, y)\n",
    "\n",
    "print(f\"train score: {np.abs(search.cv_results_['mean_train_score'][search.best_index_])}\")\n",
    "print(f\"test score: {np.abs(search.cv_results_['mean_test_score'][search.best_index_])}\")\n",
    "search.best_params_"
   ]
  },
  {
   "cell_type": "code",
   "execution_count": 9,
   "id": "3413b894-60dd-4a43-a50a-be52326a8b38",
   "metadata": {},
   "outputs": [
    {
     "name": "stdout",
     "output_type": "stream",
     "text": [
      "train score: 5136.117273618794\n",
      "test score: 6361.139174789741\n"
     ]
    },
    {
     "data": {
      "text/plain": [
       "{'model__alpha': 4,\n",
       " 'encoder__ohe__min_frequency': None,\n",
       " 'encoder': Pipeline(steps=[('imputer',\n",
       "                  SimpleImputer(fill_value='missing_value',\n",
       "                                strategy='constant')),\n",
       "                 ('ohe', OneHotEncoder(handle_unknown='ignore'))])}"
      ]
     },
     "execution_count": 9,
     "metadata": {},
     "output_type": "execute_result"
    }
   ],
   "source": [
    "onehot_encoding = Pipeline([\n",
    "    (\"imputer\", SimpleImputer(strategy=\"constant\", fill_value=\"missing_value\")),\n",
    "    (\"ohe\", OneHotEncoder(handle_unknown=\"ignore\"))\n",
    "])\n",
    "\n",
    "pipe = Pipeline([\n",
    "    (\"encoder\", None),\n",
    "    (\"model\", Ridge())\n",
    "])\n",
    "\n",
    "param_grid = [{\"encoder\": [onehot_encoding],\n",
    "               \"encoder__ohe__min_frequency\": [None, 5, 10],\n",
    "               \"model__alpha\": list(range(1, 30))},\n",
    "              {\"encoder\": [TargetEncoder()],\n",
    "               \"encoder__smoothing\": [0.1, 1., 10., 100.],\n",
    "               \"model__alpha\": list(range(1, 30))}]\n",
    "\n",
    "search = RandomizedSearchCV(pipe, param_grid, n_iter=200, scoring=\"neg_mean_absolute_error\", return_train_score=True, n_jobs=-1, random_state=0)\n",
    "search.fit(X, y)\n",
    "\n",
    "print(f\"train score: {np.abs(search.cv_results_['mean_train_score'][search.best_index_])}\")\n",
    "print(f\"test score: {np.abs(search.cv_results_['mean_test_score'][search.best_index_])}\")\n",
    "search.best_params_"
   ]
  },
  {
   "cell_type": "code",
   "execution_count": 10,
   "id": "f425bae9-a936-497d-9b3d-fe467b81dd09",
   "metadata": {},
   "outputs": [
    {
     "name": "stdout",
     "output_type": "stream",
     "text": [
      "train score: 5049.485576493969\n",
      "test score: 6362.752335765758\n"
     ]
    },
    {
     "data": {
      "text/plain": [
       "{'model__l1_ratio': 0.8,\n",
       " 'model__alpha': 0.016,\n",
       " 'encoder__ohe__min_frequency': None,\n",
       " 'encoder': Pipeline(steps=[('imputer',\n",
       "                  SimpleImputer(fill_value='missing_value',\n",
       "                                strategy='constant')),\n",
       "                 ('ohe', OneHotEncoder(handle_unknown='ignore'))])}"
      ]
     },
     "execution_count": 10,
     "metadata": {},
     "output_type": "execute_result"
    }
   ],
   "source": [
    "onehot_encoding = Pipeline([\n",
    "    (\"imputer\", SimpleImputer(strategy=\"constant\", fill_value=\"missing_value\")),\n",
    "    (\"ohe\", OneHotEncoder(handle_unknown=\"ignore\"))\n",
    "])\n",
    "\n",
    "pipe = Pipeline([\n",
    "    (\"encoder\", None),\n",
    "    (\"model\", ElasticNet())\n",
    "])\n",
    "\n",
    "param_grid = [{\"encoder\": [onehot_encoding],\n",
    "               \"encoder__ohe__min_frequency\": [None, 5, 10],\n",
    "               \"model__alpha\": np.arange(0.001, 0.1, 0.001),\n",
    "               \"model__l1_ratio\": np.arange(0.1, 1, 0.1)},\n",
    "              {\"encoder\": [TargetEncoder()],\n",
    "               \"encoder__smoothing\": [0.1, 1., 10., 100.],\n",
    "               \"model__alpha\": np.arange(0.001, 0.1, 0.001),\n",
    "               \"model__l1_ratio\": np.arange(0.1, 1, 0.1)}]\n",
    "\n",
    "search = RandomizedSearchCV(pipe, param_grid, n_iter=200, scoring=\"neg_mean_absolute_error\", return_train_score=True, n_jobs=-1, random_state=0)\n",
    "search.fit(X, y)\n",
    "\n",
    "print(f\"train score: {np.abs(search.cv_results_['mean_train_score'][search.best_index_])}\")\n",
    "print(f\"test score: {np.abs(search.cv_results_['mean_test_score'][search.best_index_])}\")\n",
    "search.best_params_"
   ]
  },
  {
   "cell_type": "markdown",
   "id": "13405230-02e5-4ee1-ae91-8692ef49fb3b",
   "metadata": {},
   "source": [
    "All three variants of regularization deliver very similar results and show a significant improvement over the variant without regularization. In all three cases, pre-processing using One Hot Encoder without a summary of rare categories yielded the best results. Since neither the L1 regularization nor a summary of rare categories brought an improvement, it becomes clear that also in the rare categories obviously much information content is and the model for a best possible performance cannot do without these.\n",
    "\n",
    "Next, we check whether a log transformation of the target can lead to a further improvement."
   ]
  },
  {
   "cell_type": "code",
   "execution_count": 11,
   "id": "90005552-3091-45a8-846e-29af66101b30",
   "metadata": {},
   "outputs": [
    {
     "name": "stdout",
     "output_type": "stream",
     "text": [
      "train score: 4653.232568532231\n",
      "test score: 6261.439911716512\n"
     ]
    },
    {
     "data": {
      "text/plain": [
       "{'model__regressor__alpha': 0.0001,\n",
       " 'encoder__ohe__min_frequency': None,\n",
       " 'encoder': Pipeline(steps=[('imputer',\n",
       "                  SimpleImputer(fill_value='missing_value',\n",
       "                                strategy='constant')),\n",
       "                 ('ohe', OneHotEncoder(handle_unknown='ignore'))])}"
      ]
     },
     "execution_count": 11,
     "metadata": {},
     "output_type": "execute_result"
    }
   ],
   "source": [
    "onehot_encoding = Pipeline([\n",
    "    (\"imputer\", SimpleImputer(strategy=\"constant\", fill_value=\"missing_value\")),\n",
    "    (\"ohe\", OneHotEncoder(handle_unknown=\"ignore\"))\n",
    "])\n",
    "\n",
    "pipe = Pipeline([\n",
    "    (\"encoder\", None),\n",
    "    (\"model\", TransformedTargetRegressor(Lasso(), func=np.log, inverse_func=np.exp))\n",
    "])\n",
    "\n",
    "param_grid = [{\"encoder\": [onehot_encoding],\n",
    "               \"encoder__ohe__min_frequency\": [None, 5, 10],\n",
    "               \"model__regressor__alpha\": [1e-5, 1e-4, 1e-3]},\n",
    "              {\"encoder\": [TargetEncoder()],\n",
    "               \"encoder__smoothing\": [0.1, 1., 10., 100.],\n",
    "               \"model__regressor__alpha\": [1e-5, 1e-4, 1e-3]}]\n",
    "\n",
    "search = RandomizedSearchCV(pipe, param_grid, n_iter=200, scoring=\"neg_mean_absolute_error\", return_train_score=True, n_jobs=-1, random_state=0)\n",
    "search.fit(X, y)\n",
    "\n",
    "print(f\"train score: {np.abs(search.cv_results_['mean_train_score'][search.best_index_])}\")\n",
    "print(f\"test score: {np.abs(search.cv_results_['mean_test_score'][search.best_index_])}\")\n",
    "search.best_params_"
   ]
  },
  {
   "cell_type": "code",
   "execution_count": 12,
   "id": "625d04fe-a9f9-420b-b085-4329bbea8bc8",
   "metadata": {},
   "outputs": [
    {
     "name": "stdout",
     "output_type": "stream",
     "text": [
      "train score: 4879.94629980855\n",
      "test score: 6232.501559764298\n"
     ]
    },
    {
     "data": {
      "text/plain": [
       "{'model__regressor__alpha': 3,\n",
       " 'encoder__ohe__min_frequency': None,\n",
       " 'encoder': Pipeline(steps=[('imputer',\n",
       "                  SimpleImputer(fill_value='missing_value',\n",
       "                                strategy='constant')),\n",
       "                 ('ohe', OneHotEncoder(handle_unknown='ignore'))])}"
      ]
     },
     "execution_count": 12,
     "metadata": {},
     "output_type": "execute_result"
    }
   ],
   "source": [
    "onehot_encoding = Pipeline([\n",
    "    (\"imputer\", SimpleImputer(strategy=\"constant\", fill_value=\"missing_value\")),\n",
    "    (\"ohe\", OneHotEncoder(handle_unknown=\"ignore\"))\n",
    "])\n",
    "\n",
    "pipe = Pipeline([\n",
    "    (\"encoder\", None),\n",
    "    (\"model\", TransformedTargetRegressor(Ridge(), func=np.log, inverse_func=np.exp))\n",
    "])\n",
    "\n",
    "param_grid = [{\"encoder\": [onehot_encoding],\n",
    "               \"encoder__ohe__min_frequency\": [None, 5, 10],\n",
    "               \"model__regressor__alpha\": list(range(1, 30))},\n",
    "              {\"encoder\": [TargetEncoder()],\n",
    "               \"encoder__smoothing\": [0.1, 1., 10., 100.],\n",
    "               \"model__regressor__alpha\": list(range(1, 30))}]\n",
    "\n",
    "search = RandomizedSearchCV(pipe, param_grid, n_iter=200, scoring=\"neg_mean_absolute_error\", return_train_score=True, n_jobs=-1, random_state=0)\n",
    "search.fit(X, y)\n",
    "\n",
    "print(f\"train score: {np.abs(search.cv_results_['mean_train_score'][search.best_index_])}\")\n",
    "print(f\"test score: {np.abs(search.cv_results_['mean_test_score'][search.best_index_])}\")\n",
    "search.best_params_"
   ]
  },
  {
   "cell_type": "code",
   "execution_count": 13,
   "id": "55a632c1-b8c7-4e69-8004-3e287e7ef512",
   "metadata": {},
   "outputs": [
    {
     "name": "stdout",
     "output_type": "stream",
     "text": [
      "train score: 5104.673786607447\n",
      "test score: 6256.352444374201\n"
     ]
    },
    {
     "data": {
      "text/plain": [
       "{'model__regressor__l1_ratio': 0.1,\n",
       " 'model__regressor__alpha': 0.001,\n",
       " 'encoder__ohe__min_frequency': None,\n",
       " 'encoder': Pipeline(steps=[('imputer',\n",
       "                  SimpleImputer(fill_value='missing_value',\n",
       "                                strategy='constant')),\n",
       "                 ('ohe', OneHotEncoder(handle_unknown='ignore'))])}"
      ]
     },
     "execution_count": 13,
     "metadata": {},
     "output_type": "execute_result"
    }
   ],
   "source": [
    "onehot_encoding = Pipeline([\n",
    "    (\"imputer\", SimpleImputer(strategy=\"constant\", fill_value=\"missing_value\")),\n",
    "    (\"ohe\", OneHotEncoder(handle_unknown=\"ignore\"))\n",
    "])\n",
    "\n",
    "pipe = Pipeline([\n",
    "    (\"encoder\", None),\n",
    "    (\"model\", TransformedTargetRegressor(ElasticNet(), func=np.log, inverse_func=np.exp))\n",
    "])\n",
    "\n",
    "param_grid = [{\"encoder\": [onehot_encoding],\n",
    "               \"encoder__ohe__min_frequency\": [None, 5, 10],\n",
    "               \"model__regressor__alpha\": [1e-5, 1e-4, 1e-3],\n",
    "               \"model__regressor__l1_ratio\": np.arange(0.1, 1, 0.1)},\n",
    "              {\"encoder\": [TargetEncoder()],\n",
    "               \"encoder__smoothing\": [0.1, 1., 10., 100.],\n",
    "               \"model__regressor__alpha\": [1e-5, 1e-4, 1e-3],\n",
    "               \"model__regressor__l1_ratio\": np.arange(0.1, 1, 0.1)}]\n",
    "\n",
    "search = RandomizedSearchCV(pipe, param_grid, n_iter=200, scoring=\"neg_mean_absolute_error\", return_train_score=True, n_jobs=-1, random_state=0)\n",
    "search.fit(X, y)\n",
    "\n",
    "print(f\"train score: {np.abs(search.cv_results_['mean_train_score'][search.best_index_])}\")\n",
    "print(f\"test score: {np.abs(search.cv_results_['mean_test_score'][search.best_index_])}\")\n",
    "search.best_params_"
   ]
  },
  {
   "cell_type": "markdown",
   "id": "4af7a734-3890-4f11-b71b-ba34147bb118",
   "metadata": {},
   "source": [
    "The transformation of the target reduces the error significantly in all three cases. The ridge regression delivers slightly better results than the other two variants and will therefore be further improved in the following step. Finally, we will investigate whether the inclusion of interactions between features can improve the predictions. "
   ]
  },
  {
   "cell_type": "code",
   "execution_count": 14,
   "id": "aeaa3efc-da7e-45ab-a74e-478d5a4a9b1a",
   "metadata": {},
   "outputs": [
    {
     "name": "stdout",
     "output_type": "stream",
     "text": [
      "train score: 4132.892259535844\n",
      "test score: 6266.144746182386\n"
     ]
    },
    {
     "data": {
      "text/plain": [
       "{'model__regressor__alpha': 51,\n",
       " 'encoder__ohe__min_frequency': None,\n",
       " 'encoder': Pipeline(steps=[('imputer',\n",
       "                  SimpleImputer(fill_value='missing_value',\n",
       "                                strategy='constant')),\n",
       "                 ('ohe', OneHotEncoder(handle_unknown='ignore'))])}"
      ]
     },
     "execution_count": 14,
     "metadata": {},
     "output_type": "execute_result"
    }
   ],
   "source": [
    "onehot_encoding = Pipeline([\n",
    "    (\"imputer\", SimpleImputer(strategy=\"constant\", fill_value=\"missing_value\")),\n",
    "    (\"ohe\", OneHotEncoder(handle_unknown=\"ignore\"))\n",
    "])\n",
    "\n",
    "pipe = Pipeline([\n",
    "    (\"encoder\", None),\n",
    "    (\"features\", PolynomialFeatures(include_bias=False)),\n",
    "    (\"model\", TransformedTargetRegressor(Ridge(), func=np.log, inverse_func=np.exp))\n",
    "])\n",
    "\n",
    "param_grid = [{\"encoder\": [onehot_encoding],\n",
    "               \"encoder__ohe__min_frequency\": [None, 5, 10],\n",
    "               \"model__regressor__alpha\": list(range(30, 100))},\n",
    "              {\"encoder\": [TargetEncoder()],\n",
    "               \"encoder__smoothing\": [0.1, 1., 10., 100.],\n",
    "               \"model__regressor__alpha\": list(range(30, 100))}]\n",
    "\n",
    "search = RandomizedSearchCV(pipe, param_grid, n_iter=200, scoring=\"neg_mean_absolute_error\", return_train_score=True, n_jobs=-1, random_state=0)\n",
    "search.fit(X, y)\n",
    "\n",
    "print(f\"train score: {np.abs(search.cv_results_['mean_train_score'][search.best_index_])}\")\n",
    "print(f\"test score: {np.abs(search.cv_results_['mean_test_score'][search.best_index_])}\")\n",
    "search.best_params_"
   ]
  },
  {
   "cell_type": "markdown",
   "id": "35fd7915-a346-49c0-9298-d7c15ec6fcd4",
   "metadata": {},
   "source": [
    "Including nonlinear relationships in the regression did not improve it. Since there are now significantly more features available, the model is more susceptible to overfitting. This is evident from the larger difference between training and testing error. "
   ]
  },
  {
   "cell_type": "markdown",
   "id": "c8537dc9-aceb-4c9c-8b9c-3aee2c287d61",
   "metadata": {},
   "source": [
    " "
   ]
  },
  {
   "cell_type": "markdown",
   "id": "aa29c154-115d-4538-9e19-a07aeffffaa7",
   "metadata": {},
   "source": [
    "<a id=\"non-linear_models\"></a>"
   ]
  },
  {
   "cell_type": "markdown",
   "id": "7defc9da-f156-4e65-9a52-af55bc84df87",
   "metadata": {},
   "source": [
    "## Non-linear Models"
   ]
  },
  {
   "cell_type": "markdown",
   "id": "0ff40d51-651a-45a5-a74e-0c8890e090d7",
   "metadata": {},
   "source": [
    "Nachdem mit der Ridge Regression ein effizientes und leicht zu interpretierendes Modell gefunden wurde, soll an dieser Stelle überprüft werden, ob dessen Performanz durch eine Auswahl komplexerer Modelle noch übertroffen werden kann. Dafür werden im Folgenden drei unterschiedliche Modelle überprüft:\n",
    "- Support Vector Regression\n",
    "- Random Forest\n",
    "- Gradient Boosting (XGBoost)"
   ]
  },
  {
   "cell_type": "code",
   "execution_count": 15,
   "id": "7cb274bd-aeb6-4d7e-908a-0b55e518f215",
   "metadata": {},
   "outputs": [
    {
     "name": "stdout",
     "output_type": "stream",
     "text": [
      "train score: 4473.650892183423\n",
      "test score: 6237.354529326022\n"
     ]
    },
    {
     "data": {
      "text/plain": [
       "{'model__kernel': 'linear',\n",
       " 'model__epsilon': 0.1,\n",
       " 'model__C': 2500,\n",
       " 'encoder__ohe__min_frequency': None,\n",
       " 'encoder': Pipeline(steps=[('imputer',\n",
       "                  SimpleImputer(fill_value='missing_value',\n",
       "                                strategy='constant')),\n",
       "                 ('ohe', OneHotEncoder(handle_unknown='ignore'))])}"
      ]
     },
     "execution_count": 15,
     "metadata": {},
     "output_type": "execute_result"
    }
   ],
   "source": [
    "# Support Vector Regression\n",
    "onehot_encoding = Pipeline([\n",
    "    (\"imputer\", SimpleImputer(strategy=\"constant\", fill_value=\"missing_value\")),\n",
    "    (\"ohe\", OneHotEncoder(handle_unknown=\"ignore\"))\n",
    "])\n",
    "\n",
    "pipe = Pipeline([\n",
    "    (\"encoder\", None),\n",
    "    (\"model\", SVR(max_iter=10000))\n",
    "])\n",
    "\n",
    "param_grid = [{\"encoder\": [onehot_encoding],\n",
    "               \"encoder__ohe__min_frequency\": [None, 5, 10],\n",
    "               \"model__C\": [1000, 2500, 5000, 7500, 10000, 20000],\n",
    "               \"model__kernel\": [\"linear\", \"rbf\", \"poly\"],\n",
    "               \"model__epsilon\": [0.001, 0.01, 0.1, 1, 10]},\n",
    "              {\"encoder\": [TargetEncoder()],\n",
    "               \"encoder__smoothing\": [0.1, 1., 10., 100.],\n",
    "               \"model__C\": [1000, 2500, 5000, 7500, 10000, 20000],\n",
    "               \"model__kernel\": [\"linear\", \"rbf\", \"poly\"],\n",
    "               \"model__epsilon\": [0.001, 0.01, 0.1, 1, 10]}]\n",
    "\n",
    "search = RandomizedSearchCV(pipe, param_grid, n_iter=200, scoring=\"neg_mean_absolute_error\", return_train_score=True, n_jobs=-1, random_state=0)\n",
    "search.fit(X, y)\n",
    "\n",
    "print(f\"train score: {np.abs(search.cv_results_['mean_train_score'][search.best_index_])}\")\n",
    "print(f\"test score: {np.abs(search.cv_results_['mean_test_score'][search.best_index_])}\")\n",
    "search.best_params_"
   ]
  },
  {
   "cell_type": "code",
   "execution_count": 16,
   "id": "0b7a0238-c749-46b7-a5e1-feeb692fec9a",
   "metadata": {},
   "outputs": [
    {
     "name": "stdout",
     "output_type": "stream",
     "text": [
      "train score: 4531.509606666095\n",
      "test score: 6755.346330072041\n"
     ]
    },
    {
     "data": {
      "text/plain": [
       "{'model__regressor__kernel': 'rbf',\n",
       " 'model__regressor__epsilon': 0.1,\n",
       " 'model__regressor__C': 5000,\n",
       " 'encoder__ohe__min_frequency': None,\n",
       " 'encoder': Pipeline(steps=[('imputer',\n",
       "                  SimpleImputer(fill_value='missing_value',\n",
       "                                strategy='constant')),\n",
       "                 ('ohe', OneHotEncoder(handle_unknown='ignore'))])}"
      ]
     },
     "execution_count": 16,
     "metadata": {},
     "output_type": "execute_result"
    }
   ],
   "source": [
    "# Support Vector Regression with log transformed target\n",
    "onehot_encoding = Pipeline([\n",
    "    (\"imputer\", SimpleImputer(strategy=\"constant\", fill_value=\"missing_value\")),\n",
    "    (\"ohe\", OneHotEncoder(handle_unknown=\"ignore\"))\n",
    "])\n",
    "\n",
    "pipe = Pipeline([\n",
    "    (\"encoder\", None),\n",
    "    (\"model\", TransformedTargetRegressor(SVR(max_iter=10000), func=np.log, inverse_func=np.exp))\n",
    "])\n",
    "\n",
    "param_grid = [{\"encoder\": [onehot_encoding],\n",
    "               \"encoder__ohe__min_frequency\": [None, 5, 10],\n",
    "               \"model__regressor__C\": [1000, 2500, 5000, 10000, 20000],\n",
    "               \"model__regressor__kernel\": [\"linear\", \"rbf\", \"poly\"],\n",
    "               \"model__regressor__epsilon\": [0.001, 0.01, 0.1, 1, 10]},\n",
    "              {\"encoder\": [TargetEncoder()],\n",
    "               \"encoder__smoothing\": [0.1, 1., 10., 100.],\n",
    "               \"model__regressor__C\": [1000, 2500, 5000, 10000, 20000],\n",
    "               \"model__regressor__kernel\": [\"linear\", \"rbf\", \"poly\"],\n",
    "               \"model__regressor__epsilon\": [0.001, 0.01, 0.1, 1, 10]}]\n",
    "\n",
    "search = RandomizedSearchCV(pipe, param_grid, n_iter=200, scoring=\"neg_mean_absolute_error\", return_train_score=True, n_jobs=-1, random_state=0)\n",
    "search.fit(X, y)\n",
    "\n",
    "print(f\"train score: {np.abs(search.cv_results_['mean_train_score'][search.best_index_])}\")\n",
    "print(f\"test score: {np.abs(search.cv_results_['mean_test_score'][search.best_index_])}\")\n",
    "search.best_params_"
   ]
  },
  {
   "cell_type": "code",
   "execution_count": 17,
   "id": "78c13316-66de-41fb-9158-1ca16dc17cce",
   "metadata": {},
   "outputs": [
    {
     "name": "stdout",
     "output_type": "stream",
     "text": [
      "train score: 4624.1258015856165\n",
      "test score: 6470.90633349167\n"
     ]
    },
    {
     "data": {
      "text/plain": [
       "{'model__n_estimators': 2000,\n",
       " 'model__min_samples_leaf': 3,\n",
       " 'model__max_samples': 0.9,\n",
       " 'model__max_features': 0.5,\n",
       " 'model__max_depth': None,\n",
       " 'model__criterion': 'absolute_error',\n",
       " 'model__ccp_alpha': 10,\n",
       " 'encoder__smoothing': 10.0,\n",
       " 'encoder': TargetEncoder(smoothing=10.0)}"
      ]
     },
     "execution_count": 17,
     "metadata": {},
     "output_type": "execute_result"
    }
   ],
   "source": [
    "# Random Forest\n",
    "onehot_encoding = Pipeline([\n",
    "    (\"imputer\", SimpleImputer(strategy=\"constant\", fill_value=\"missing_value\")),\n",
    "    (\"ohe\", OneHotEncoder(handle_unknown=\"ignore\"))\n",
    "])\n",
    "\n",
    "pipe = Pipeline([\n",
    "    (\"encoder\", None),\n",
    "    (\"model\", RandomForestRegressor(random_state=0))\n",
    "])\n",
    "\n",
    "param_grid = [{\"encoder\": [onehot_encoding],               \n",
    "               \"encoder__ohe__min_frequency\": [None, 5, 10],\n",
    "               \"model__criterion\": [\"squared_error\", \"absolute_error\"],\n",
    "               \"model__n_estimators\": [100, 200, 500, 1000, 2000], \n",
    "               \"model__max_depth\": [5, 10, 15, 20, 30, None],\n",
    "               \"model__max_features\": [0.3, 0.5, 0.7, 0.9, 1],\n",
    "               \"model__max_samples\": [0.3, 0.5, 0.7, 0.9, 1],\n",
    "               \"model__min_samples_leaf\": [1, 3, 5],\n",
    "               \"model__ccp_alpha\": [0, 0.5, 1, 5, 10, 20, 50]},\n",
    "              {\"encoder\": [TargetEncoder()],\n",
    "               \"encoder__smoothing\": [0.1, 1., 10., 100.],\n",
    "               \"model__criterion\": [\"squared_error\", \"absolute_error\"],\n",
    "               \"model__n_estimators\": [100, 200, 500, 1000, 2000], \n",
    "               \"model__max_depth\": [5, 10, 15, 20, 30, None],\n",
    "               \"model__max_features\": [0.3, 0.5, 0.7, 0.9, 1],\n",
    "               \"model__max_samples\": [0.3, 0.5, 0.7, 0.9, 1],\n",
    "               \"model__min_samples_leaf\": [1, 3, 5],\n",
    "               \"model__ccp_alpha\": [0, 0.5, 1, 5, 10, 20, 50]}]\n",
    "\n",
    "search = RandomizedSearchCV(pipe, param_grid, n_iter=200, scoring=\"neg_mean_absolute_error\", return_train_score=True, n_jobs=-1, random_state=0)\n",
    "search.fit(X, y)\n",
    "\n",
    "print(f\"train score: {np.abs(search.cv_results_['mean_train_score'][search.best_index_])}\")\n",
    "print(f\"test score: {np.abs(search.cv_results_['mean_test_score'][search.best_index_])}\")\n",
    "search.best_params_"
   ]
  },
  {
   "cell_type": "code",
   "execution_count": 18,
   "id": "47dfc31d-5a56-4911-859d-8e77375e48dc",
   "metadata": {},
   "outputs": [
    {
     "name": "stdout",
     "output_type": "stream",
     "text": [
      "train score: 4624.1258015856165\n",
      "test score: 6470.90633349167\n"
     ]
    },
    {
     "data": {
      "text/plain": [
       "{'model__regressor__n_estimators': 2000,\n",
       " 'model__regressor__min_samples_leaf': 3,\n",
       " 'model__regressor__max_samples': 0.9,\n",
       " 'model__regressor__max_features': 0.5,\n",
       " 'model__regressor__max_depth': None,\n",
       " 'model__regressor__criterion': 'absolute_error',\n",
       " 'model__regressor__ccp_alpha': 10,\n",
       " 'encoder__smoothing': 10.0,\n",
       " 'encoder': TargetEncoder(smoothing=10.0)}"
      ]
     },
     "execution_count": 18,
     "metadata": {},
     "output_type": "execute_result"
    }
   ],
   "source": [
    "# Random Forest with log transformed target\n",
    "onehot_encoding = Pipeline([\n",
    "    (\"imputer\", SimpleImputer(strategy=\"constant\", fill_value=\"missing_value\")),\n",
    "    (\"ohe\", OneHotEncoder(handle_unknown=\"ignore\"))\n",
    "])\n",
    "\n",
    "pipe = Pipeline([\n",
    "    (\"encoder\", None),\n",
    "    (\"model\", TransformedTargetRegressor(RandomForestRegressor(random_state=0)))\n",
    "])\n",
    "\n",
    "param_grid = [{\"encoder\": [onehot_encoding],               \n",
    "               \"encoder__ohe__min_frequency\": [None, 5, 10],\n",
    "               \"model__regressor__criterion\": [\"squared_error\", \"absolute_error\"],\n",
    "               \"model__regressor__n_estimators\": [100, 200, 500, 1000, 2000], \n",
    "               \"model__regressor__max_depth\": [5, 10, 15, 20, 30, None],\n",
    "               \"model__regressor__max_features\": [0.3, 0.5, 0.7, 0.9, 1],\n",
    "               \"model__regressor__max_samples\": [0.3, 0.5, 0.7, 0.9, 1],\n",
    "               \"model__regressor__min_samples_leaf\": [1, 3, 5],\n",
    "               \"model__regressor__ccp_alpha\": [0, 0.5, 1, 5, 10, 20, 50]},\n",
    "              {\"encoder\": [TargetEncoder()],\n",
    "               \"encoder__smoothing\": [0.1, 1., 10., 100.],\n",
    "               \"model__regressor__criterion\": [\"squared_error\", \"absolute_error\"],\n",
    "               \"model__regressor__n_estimators\": [100, 200, 500, 1000, 2000], \n",
    "               \"model__regressor__max_depth\": [5, 10, 15, 20, 30, None],\n",
    "               \"model__regressor__max_features\": [0.3, 0.5, 0.7, 0.9, 1],\n",
    "               \"model__regressor__max_samples\": [0.3, 0.5, 0.7, 0.9, 1],\n",
    "               \"model__regressor__min_samples_leaf\": [1, 3, 5],\n",
    "               \"model__regressor__ccp_alpha\": [0, 0.5, 1, 5, 10, 20, 50]}]\n",
    "\n",
    "search = RandomizedSearchCV(pipe, param_grid, n_iter=200, scoring=\"neg_mean_absolute_error\", return_train_score=True, n_jobs=-1, random_state=0)\n",
    "search.fit(X, y)\n",
    "\n",
    "print(f\"train score: {np.abs(search.cv_results_['mean_train_score'][search.best_index_])}\")\n",
    "print(f\"test score: {np.abs(search.cv_results_['mean_test_score'][search.best_index_])}\")\n",
    "search.best_params_"
   ]
  },
  {
   "cell_type": "code",
   "execution_count": 19,
   "id": "2b18ea74-d46c-452e-9dd8-47fe53111375",
   "metadata": {},
   "outputs": [
    {
     "name": "stdout",
     "output_type": "stream",
     "text": [
      "train score: 3081.5454725204236\n",
      "test score: 6345.729486922157\n"
     ]
    },
    {
     "data": {
      "text/plain": [
       "{'model__subsample': 0.9,\n",
       " 'model__reg_lambda': 20,\n",
       " 'model__reg_alpha': 1,\n",
       " 'model__n_estimators': 200,\n",
       " 'model__max_depth': 20,\n",
       " 'model__learning_rate': 0.05,\n",
       " 'model__gamma': 1,\n",
       " 'model__colsample_bytree': 0.7,\n",
       " 'model__colsample_bynode': 0.9,\n",
       " 'model__colsample_bylevel': 0.9,\n",
       " 'encoder__smoothing': 1.0,\n",
       " 'encoder': TargetEncoder()}"
      ]
     },
     "execution_count": 19,
     "metadata": {},
     "output_type": "execute_result"
    }
   ],
   "source": [
    "# XGBoost\n",
    "onehot_encoding = Pipeline([\n",
    "    (\"imputer\", SimpleImputer(strategy=\"constant\", fill_value=\"missing_value\")),\n",
    "    (\"ohe\", OneHotEncoder(handle_unknown=\"ignore\"))\n",
    "])\n",
    "\n",
    "pipe = Pipeline([\n",
    "    (\"encoder\", None),\n",
    "    (\"model\", XGBRegressor(random_state=0))\n",
    "])\n",
    "\n",
    "param_grid = [{\"encoder\": [onehot_encoding],               \n",
    "               \"encoder__ohe__min_frequency\": [None, 5, 10],\n",
    "               \"model__n_estimators\": [200, 500, 1000, 2000], \n",
    "               \"model__learning_rate\": [0.01, 0.05, 0.1, 0.2],\n",
    "               \"model__max_depth\": [4, 6, 8, 10, 15, 20],\n",
    "               \"model__subsample\": [0.3, 0.5, 0.7, 0.9, 1],\n",
    "               \"model__colsample_bylevel\": [0.5, 0.7, 0.9, 1],\n",
    "               \"model__colsample_bytree\": [0.5, 0.7, 0.9, 1],\n",
    "               \"model__colsample_bynode\": [0.5, 0.7, 0.9, 1],\n",
    "               \"model__reg_lambda\": [0, 1, 3, 5, 10, 20],\n",
    "               \"model__reg_alpha\": [0, 1, 3, 5, 10, 20],\n",
    "               \"model__gamma\": [0, 1, 3, 5, 10, 20]},\n",
    "              {\"encoder\": [TargetEncoder()],\n",
    "               \"encoder__smoothing\": [0.1, 1., 10., 100.],\n",
    "               \"model__n_estimators\": [200, 500, 1000, 2000], \n",
    "               \"model__learning_rate\": [0.01, 0.05, 0.1, 0.2],\n",
    "               \"model__max_depth\": [4, 6, 8, 10, 15, 20],\n",
    "               \"model__subsample\": [0.3, 0.5, 0.7, 0.9, 1],\n",
    "               \"model__colsample_bylevel\": [0.5, 0.7, 0.9, 1],\n",
    "               \"model__colsample_bytree\": [0.5, 0.7, 0.9, 1],\n",
    "               \"model__colsample_bynode\": [0.5, 0.7, 0.9, 1],\n",
    "               \"model__reg_lambda\": [0, 1, 3, 5, 10, 20],\n",
    "               \"model__reg_alpha\": [0, 1, 3, 5, 10, 20],\n",
    "               \"model__gamma\": [0, 1, 3, 5, 10, 20]}]\n",
    "\n",
    "search = RandomizedSearchCV(pipe, param_grid, n_iter=200, scoring=\"neg_mean_absolute_error\", return_train_score=True, n_jobs=-1, random_state=0)\n",
    "search.fit(X, y)\n",
    "\n",
    "print(f\"train score: {np.abs(search.cv_results_['mean_train_score'][search.best_index_])}\")\n",
    "print(f\"test score: {np.abs(search.cv_results_['mean_test_score'][search.best_index_])}\")\n",
    "search.best_params_"
   ]
  },
  {
   "cell_type": "code",
   "execution_count": 20,
   "id": "722da89a-d1fb-4ed4-9cb7-cbb3e4fadfec",
   "metadata": {},
   "outputs": [
    {
     "name": "stdout",
     "output_type": "stream",
     "text": [
      "train score: 4679.1288462510565\n",
      "test score: 6403.120358989914\n"
     ]
    },
    {
     "data": {
      "text/plain": [
       "{'model__regressor__subsample': 0.9,\n",
       " 'model__regressor__reg_lambda': 20,\n",
       " 'model__regressor__reg_alpha': 1,\n",
       " 'model__regressor__n_estimators': 500,\n",
       " 'model__regressor__max_depth': 4,\n",
       " 'model__regressor__learning_rate': 0.1,\n",
       " 'model__regressor__gamma': 0,\n",
       " 'model__regressor__colsample_bytree': 0.9,\n",
       " 'model__regressor__colsample_bynode': 0.9,\n",
       " 'model__regressor__colsample_bylevel': 0.9,\n",
       " 'encoder__smoothing': 1.0,\n",
       " 'encoder': TargetEncoder()}"
      ]
     },
     "execution_count": 20,
     "metadata": {},
     "output_type": "execute_result"
    }
   ],
   "source": [
    "# XGBoost with log transformed Target\n",
    "onehot_encoding = Pipeline([\n",
    "    (\"imputer\", SimpleImputer(strategy=\"constant\", fill_value=\"missing_value\")),\n",
    "    (\"ohe\", OneHotEncoder(handle_unknown=\"ignore\"))\n",
    "])\n",
    "\n",
    "pipe = Pipeline([\n",
    "    (\"encoder\", None),\n",
    "    (\"model\", TransformedTargetRegressor(XGBRegressor(random_state=0), func=np.log, inverse_func=np.exp))\n",
    "])\n",
    "\n",
    "param_grid = [{\"encoder\": [onehot_encoding],               \n",
    "               \"encoder__ohe__min_frequency\": [None, 5, 10],\n",
    "               \"model__regressor__n_estimators\": [200, 500, 1000, 2000], \n",
    "               \"model__regressor__learning_rate\": [0.01, 0.05, 0.1, 0.2],\n",
    "               \"model__regressor__max_depth\": [4, 6, 8, 10, 15, 20],\n",
    "               \"model__regressor__subsample\": [0.3, 0.5, 0.7, 0.9, 1],\n",
    "               \"model__regressor__colsample_bylevel\": [0.5, 0.7, 0.9, 1],\n",
    "               \"model__regressor__colsample_bytree\": [0.5, 0.7, 0.9, 1],\n",
    "               \"model__regressor__colsample_bynode\": [0.5, 0.7, 0.9, 1],\n",
    "               \"model__regressor__reg_lambda\": [0, 1, 3, 5, 10, 20],\n",
    "               \"model__regressor__reg_alpha\": [0, 1, 3, 5, 10, 20],\n",
    "               \"model__regressor__gamma\": [0, 1, 3, 5, 10, 20]},\n",
    "              {\"encoder\": [TargetEncoder()],\n",
    "               \"encoder__smoothing\": [0.1, 1., 10., 100.],\n",
    "               \"model__regressor__n_estimators\": [200, 500, 1000, 2000], \n",
    "               \"model__regressor__learning_rate\": [0.01, 0.05, 0.1, 0.2],\n",
    "               \"model__regressor__max_depth\": [4, 6, 8, 10, 15, 20],\n",
    "               \"model__regressor__subsample\": [0.3, 0.5, 0.7, 0.9, 1],\n",
    "               \"model__regressor__colsample_bylevel\": [0.5, 0.7, 0.9, 1],\n",
    "               \"model__regressor__colsample_bytree\": [0.5, 0.7, 0.9, 1],\n",
    "               \"model__regressor__colsample_bynode\": [0.5, 0.7, 0.9, 1],\n",
    "               \"model__regressor__reg_lambda\": [0, 1, 3, 5, 10, 20],\n",
    "               \"model__regressor__reg_alpha\": [0, 1, 3, 5, 10, 20],\n",
    "               \"model__regressor__gamma\": [0, 1, 3, 5, 10, 20]}]\n",
    "\n",
    "search = RandomizedSearchCV(pipe, param_grid, n_iter=200, scoring=\"neg_mean_absolute_error\", return_train_score=True, n_jobs=-1, random_state=0)\n",
    "search.fit(X, y)\n",
    "\n",
    "print(f\"train score: {np.abs(search.cv_results_['mean_train_score'][search.best_index_])}\")\n",
    "print(f\"test score: {np.abs(search.cv_results_['mean_test_score'][search.best_index_])}\")\n",
    "search.best_params_"
   ]
  },
  {
   "cell_type": "markdown",
   "id": "3e93502a-e03e-492d-9e91-4af1aef526b2",
   "metadata": {},
   "source": [
    "None of the three models could outperform the linear model. The linear kernel also produced the best results for SVR. This can have two possible reasons:\n",
    "- since the values of the target itself are already predictions of a machine learning model trained by Stepstone, it may be that the underlying relationship of the variables is indeed linear, if Stepstone also used only a linear model for better interpretability\n",
    "- the amount of data available is too small to prevent the more complex models from overfitting on the training data.\n",
    "\n",
    "Since especially the XGBoost regressor has a lot of hyperparameters, it is certainly possible to improve the results by a finer tuning. Also further developments like LightGBM or CatBoost could possibly still lead to slight improvements. However, it is very unlikely that one would surpass the performance of the linear model by far. Since the linear model additionally ensures shorter training and inference times, lower memory requirements, and better interpretability, further optimization of the nonlinear models is not performed at this point.\n",
    "\n",
    "Finally, the best model is evaluated on the test data."
   ]
  },
  {
   "cell_type": "code",
   "execution_count": 21,
   "id": "5ab0688d-2d48-4389-aed7-219732cfc1b5",
   "metadata": {},
   "outputs": [
    {
     "name": "stdout",
     "output_type": "stream",
     "text": [
      "Mean Absolute Error on Test Set: 7124.973331637132\n"
     ]
    }
   ],
   "source": [
    "X_train = df_train.drop([\"average_salary\"], axis=1)\n",
    "y_train = df_train[\"average_salary\"]\n",
    "X_test = df_test.drop([\"average_salary\"], axis=1)\n",
    "y_test = df_test[\"average_salary\"]\n",
    "\n",
    "pipe = Pipeline([\n",
    "    (\"imputer\", SimpleImputer(strategy=\"constant\", fill_value=\"missing_value\")),\n",
    "    (\"encoder\", OneHotEncoder(handle_unknown=\"ignore\")),\n",
    "    (\"model\", Ridge(alpha=3))\n",
    "])\n",
    "\n",
    "pipe.fit(X_train, np.log(y_train))\n",
    "predictions = pipe.predict(X_test)\n",
    "print(f\"Mean Absolute Error on Test Set: {mean_absolute_error(y_test, np.exp(predictions))}\")"
   ]
  },
  {
   "cell_type": "markdown",
   "id": "98e0c848-191d-498a-90b5-844d8181e36a",
   "metadata": {},
   "source": [
    "The error on the test data is significantly higher than the cross validation score. This is an indication that the variance of the error is very large due to the small samples. For more precise statements about the quality of such a model, one would need significantly more data."
   ]
  },
  {
   "cell_type": "markdown",
   "id": "a954e269-ed99-4ad9-b623-d405b4def434",
   "metadata": {},
   "source": [
    " "
   ]
  },
  {
   "cell_type": "markdown",
   "id": "3dfcf55f-f1d2-4622-bbdf-ec1bcfd67536",
   "metadata": {},
   "source": [
    "<a id=\"interpretation\"></a>"
   ]
  },
  {
   "cell_type": "markdown",
   "id": "8415d174-ace6-4802-9cb7-3bc62960fd0e",
   "metadata": {},
   "source": [
    "## Interpretation"
   ]
  },
  {
   "cell_type": "markdown",
   "id": "a47c91ad-e2cb-47e8-b9be-0429990b7f11",
   "metadata": {},
   "source": [
    "Next, the coefficients of the model are to be interpreted. The OneHotEncoder of Scikit-Learn makes it relatively cumbersome to extract the names of the encoded features. Therefore, the pipeline is slightly modified in the following and the Pandas method get_dummies() is used instead, which leads to the same results, but chooses the names of the features better."
   ]
  },
  {
   "cell_type": "code",
   "execution_count": 22,
   "id": "9d54d0dd-45d0-49e7-a56d-7a37d39f2505",
   "metadata": {},
   "outputs": [
    {
     "data": {
      "text/html": [
       "<div>\n",
       "<style scoped>\n",
       "    .dataframe tbody tr th:only-of-type {\n",
       "        vertical-align: middle;\n",
       "    }\n",
       "\n",
       "    .dataframe tbody tr th {\n",
       "        vertical-align: top;\n",
       "    }\n",
       "\n",
       "    .dataframe thead th {\n",
       "        text-align: right;\n",
       "    }\n",
       "</style>\n",
       "<table border=\"1\" class=\"dataframe\">\n",
       "  <thead>\n",
       "    <tr style=\"text-align: right;\">\n",
       "      <th></th>\n",
       "      <th>feature</th>\n",
       "      <th>coefficient</th>\n",
       "    </tr>\n",
       "  </thead>\n",
       "  <tbody>\n",
       "    <tr>\n",
       "      <th>172</th>\n",
       "      <td>company_Evotec SE</td>\n",
       "      <td>20.142352</td>\n",
       "    </tr>\n",
       "    <tr>\n",
       "      <th>375</th>\n",
       "      <td>company_Ratbacher GmbH</td>\n",
       "      <td>16.914350</td>\n",
       "    </tr>\n",
       "    <tr>\n",
       "      <th>539</th>\n",
       "      <td>company_ifp | Personalberatung Managementdiagn...</td>\n",
       "      <td>16.293417</td>\n",
       "    </tr>\n",
       "    <tr>\n",
       "      <th>117</th>\n",
       "      <td>company_Condo Group GmbH</td>\n",
       "      <td>-16.021481</td>\n",
       "    </tr>\n",
       "    <tr>\n",
       "      <th>396</th>\n",
       "      <td>company_STRATO Customer Service GmbH</td>\n",
       "      <td>-13.103039</td>\n",
       "    </tr>\n",
       "    <tr>\n",
       "      <th>746</th>\n",
       "      <td>main_location_Ratingen</td>\n",
       "      <td>12.534066</td>\n",
       "    </tr>\n",
       "    <tr>\n",
       "      <th>260</th>\n",
       "      <td>company_JLL</td>\n",
       "      <td>12.513376</td>\n",
       "    </tr>\n",
       "    <tr>\n",
       "      <th>411</th>\n",
       "      <td>company_Schwarz Dienstleistungen</td>\n",
       "      <td>12.293918</td>\n",
       "    </tr>\n",
       "    <tr>\n",
       "      <th>598</th>\n",
       "      <td>experience_level_Junior</td>\n",
       "      <td>-11.698536</td>\n",
       "    </tr>\n",
       "    <tr>\n",
       "      <th>459</th>\n",
       "      <td>company_Temedica GmbH</td>\n",
       "      <td>11.527379</td>\n",
       "    </tr>\n",
       "  </tbody>\n",
       "</table>\n",
       "</div>"
      ],
      "text/plain": [
       "                                               feature  coefficient\n",
       "172                                  company_Evotec SE    20.142352\n",
       "375                             company_Ratbacher GmbH    16.914350\n",
       "539  company_ifp | Personalberatung Managementdiagn...    16.293417\n",
       "117                           company_Condo Group GmbH   -16.021481\n",
       "396               company_STRATO Customer Service GmbH   -13.103039\n",
       "746                             main_location_Ratingen    12.534066\n",
       "260                                        company_JLL    12.513376\n",
       "411                   company_Schwarz Dienstleistungen    12.293918\n",
       "598                            experience_level_Junior   -11.698536\n",
       "459                              company_Temedica GmbH    11.527379"
      ]
     },
     "execution_count": 22,
     "metadata": {},
     "output_type": "execute_result"
    }
   ],
   "source": [
    "X_test = df_test.drop([\"average_salary\"], axis=1)\n",
    "y_test = df_test[\"average_salary\"]\n",
    "\n",
    "# binary features should not be encoded in two columns\n",
    "X_train = X_train.apply(lambda x: x.astype(\"int\") if x.dtype == bool else x)\n",
    "X_train = pd.get_dummies(X_train, dummy_na=True)\n",
    "\n",
    "model = TransformedTargetRegressor(Ridge(alpha=3), func=np.log, inverse_func=np.exp)\n",
    "model.fit(X_train, y_train)\n",
    "\n",
    "coefficients = (np.exp(model.regressor_.coef_)-1)*100\n",
    "importances = pd.DataFrame({\"feature\": X_train.columns, \"coefficient\": coefficients})\n",
    "importances.sort_values(\"coefficient\", ascending=False, key=lambda x: np.abs(x)).head(10)"
   ]
  },
  {
   "cell_type": "markdown",
   "id": "f5d5fea3-fe73-47a5-a39e-3bc0c07fa38d",
   "metadata": {},
   "source": [
    "Normally, the coefficients of a regression indicate by how many units the target changes when a certain feature is increased by one unit. However, due to the log transformation, this method of interpretation is no longer possible. Instead, however, a percentage effect on the target can be read off via the performed transformation.\n",
    "\n",
    "A first overview shows that the largest coefficients of the model are mainly specific company names. While it is certainly interesting to know which companies pay the highest salaries, this analysis will focus primarily on somewhat more general factors. Therefore, all company names and city names are left out in the following."
   ]
  },
  {
   "cell_type": "code",
   "execution_count": 23,
   "id": "603c16f1-f35c-46ec-9437-80958386301a",
   "metadata": {},
   "outputs": [
    {
     "data": {
      "text/html": [
       "<div>\n",
       "<style scoped>\n",
       "    .dataframe tbody tr th:only-of-type {\n",
       "        vertical-align: middle;\n",
       "    }\n",
       "\n",
       "    .dataframe tbody tr th {\n",
       "        vertical-align: top;\n",
       "    }\n",
       "\n",
       "    .dataframe thead th {\n",
       "        text-align: right;\n",
       "    }\n",
       "</style>\n",
       "<table border=\"1\" class=\"dataframe\">\n",
       "  <thead>\n",
       "    <tr style=\"text-align: right;\">\n",
       "      <th></th>\n",
       "      <th>feature</th>\n",
       "      <th>coefficient</th>\n",
       "    </tr>\n",
       "  </thead>\n",
       "  <tbody>\n",
       "    <tr>\n",
       "      <th>832</th>\n",
       "      <td>main_industry_Pharmaindustrie</td>\n",
       "      <td>10.319546</td>\n",
       "    </tr>\n",
       "    <tr>\n",
       "      <th>828</th>\n",
       "      <td>main_industry_Medizintechnik</td>\n",
       "      <td>10.233042</td>\n",
       "    </tr>\n",
       "    <tr>\n",
       "      <th>600</th>\n",
       "      <td>experience_level_Senior</td>\n",
       "      <td>9.475483</td>\n",
       "    </tr>\n",
       "    <tr>\n",
       "      <th>593</th>\n",
       "      <td>title_category_Data Science Manager</td>\n",
       "      <td>6.901455</td>\n",
       "    </tr>\n",
       "    <tr>\n",
       "      <th>7</th>\n",
       "      <td>much_experience</td>\n",
       "      <td>6.629924</td>\n",
       "    </tr>\n",
       "    <tr>\n",
       "      <th>806</th>\n",
       "      <td>main_region_nan</td>\n",
       "      <td>5.323803</td>\n",
       "    </tr>\n",
       "    <tr>\n",
       "      <th>594</th>\n",
       "      <td>title_category_Data Scientist</td>\n",
       "      <td>5.129879</td>\n",
       "    </tr>\n",
       "    <tr>\n",
       "      <th>805</th>\n",
       "      <td>main_region_Thuringia</td>\n",
       "      <td>5.050193</td>\n",
       "    </tr>\n",
       "    <tr>\n",
       "      <th>826</th>\n",
       "      <td>main_industry_Maschinen- und Anlagenbau</td>\n",
       "      <td>4.115198</td>\n",
       "    </tr>\n",
       "    <tr>\n",
       "      <th>831</th>\n",
       "      <td>main_industry_Personaldienstleistungen</td>\n",
       "      <td>3.665585</td>\n",
       "    </tr>\n",
       "  </tbody>\n",
       "</table>\n",
       "</div>"
      ],
      "text/plain": [
       "                                     feature  coefficient\n",
       "832            main_industry_Pharmaindustrie    10.319546\n",
       "828             main_industry_Medizintechnik    10.233042\n",
       "600                  experience_level_Senior     9.475483\n",
       "593      title_category_Data Science Manager     6.901455\n",
       "7                            much_experience     6.629924\n",
       "806                          main_region_nan     5.323803\n",
       "594            title_category_Data Scientist     5.129879\n",
       "805                    main_region_Thuringia     5.050193\n",
       "826  main_industry_Maschinen- und Anlagenbau     4.115198\n",
       "831   main_industry_Personaldienstleistungen     3.665585"
      ]
     },
     "execution_count": 23,
     "metadata": {},
     "output_type": "execute_result"
    }
   ],
   "source": [
    "importances.loc[~importances[\"feature\"].str.contains(\"company|main_location\")].sort_values(\"coefficient\", ascending=False).head(10)"
   ]
  },
  {
   "cell_type": "markdown",
   "id": "8f358299-6f5c-4a70-b594-847205608210",
   "metadata": {},
   "source": [
    "In certain industries, such as medicine or mechanical engineering particularly high salaries are paid. In addition, positions where more experience is required pay better than others."
   ]
  },
  {
   "cell_type": "code",
   "execution_count": 24,
   "id": "4fa50953-f52d-4d54-9bdb-cda58f1af56d",
   "metadata": {},
   "outputs": [
    {
     "data": {
      "text/html": [
       "<div>\n",
       "<style scoped>\n",
       "    .dataframe tbody tr th:only-of-type {\n",
       "        vertical-align: middle;\n",
       "    }\n",
       "\n",
       "    .dataframe tbody tr th {\n",
       "        vertical-align: top;\n",
       "    }\n",
       "\n",
       "    .dataframe thead th {\n",
       "        text-align: right;\n",
       "    }\n",
       "</style>\n",
       "<table border=\"1\" class=\"dataframe\">\n",
       "  <thead>\n",
       "    <tr style=\"text-align: right;\">\n",
       "      <th></th>\n",
       "      <th>feature</th>\n",
       "      <th>coefficient</th>\n",
       "    </tr>\n",
       "  </thead>\n",
       "  <tbody>\n",
       "    <tr>\n",
       "      <th>598</th>\n",
       "      <td>experience_level_Junior</td>\n",
       "      <td>-11.698536</td>\n",
       "    </tr>\n",
       "    <tr>\n",
       "      <th>838</th>\n",
       "      <td>main_industry_Transport &amp; Logistik</td>\n",
       "      <td>-7.479637</td>\n",
       "    </tr>\n",
       "    <tr>\n",
       "      <th>843</th>\n",
       "      <td>main_industry_nan</td>\n",
       "      <td>-7.079603</td>\n",
       "    </tr>\n",
       "    <tr>\n",
       "      <th>801</th>\n",
       "      <td>main_region_Saarland</td>\n",
       "      <td>-6.689355</td>\n",
       "    </tr>\n",
       "    <tr>\n",
       "      <th>590</th>\n",
       "      <td>title_category_Data Analyst</td>\n",
       "      <td>-6.160621</td>\n",
       "    </tr>\n",
       "    <tr>\n",
       "      <th>809</th>\n",
       "      <td>main_industry_Baugewerbe/-industrie</td>\n",
       "      <td>-5.595263</td>\n",
       "    </tr>\n",
       "    <tr>\n",
       "      <th>816</th>\n",
       "      <td>main_industry_Freizeit, Touristik, Kultur &amp; Sport</td>\n",
       "      <td>-5.548269</td>\n",
       "    </tr>\n",
       "    <tr>\n",
       "      <th>802</th>\n",
       "      <td>main_region_Saxony</td>\n",
       "      <td>-5.398971</td>\n",
       "    </tr>\n",
       "    <tr>\n",
       "      <th>841</th>\n",
       "      <td>main_industry_Wissenschaft &amp; Forschung</td>\n",
       "      <td>-4.618028</td>\n",
       "    </tr>\n",
       "    <tr>\n",
       "      <th>834</th>\n",
       "      <td>main_industry_Sonstige Dienstleistungen</td>\n",
       "      <td>-4.543915</td>\n",
       "    </tr>\n",
       "  </tbody>\n",
       "</table>\n",
       "</div>"
      ],
      "text/plain": [
       "                                               feature  coefficient\n",
       "598                            experience_level_Junior   -11.698536\n",
       "838                 main_industry_Transport & Logistik    -7.479637\n",
       "843                                  main_industry_nan    -7.079603\n",
       "801                               main_region_Saarland    -6.689355\n",
       "590                        title_category_Data Analyst    -6.160621\n",
       "809                main_industry_Baugewerbe/-industrie    -5.595263\n",
       "816  main_industry_Freizeit, Touristik, Kultur & Sport    -5.548269\n",
       "802                                 main_region_Saxony    -5.398971\n",
       "841             main_industry_Wissenschaft & Forschung    -4.618028\n",
       "834            main_industry_Sonstige Dienstleistungen    -4.543915"
      ]
     },
     "execution_count": 24,
     "metadata": {},
     "output_type": "execute_result"
    }
   ],
   "source": [
    "importances.loc[~importances[\"feature\"].str.contains(\"company|main_location\")].sort_values(\"coefficient\", ascending=True).head(10)"
   ]
  },
  {
   "cell_type": "markdown",
   "id": "a838a92a-e257-44ca-876d-bfe3edf7cc5c",
   "metadata": {},
   "source": [
    "As expected, the lowest salaries are paid in junior level positions. It is also evident that particularly low salaries are paid in Saarland and Saxony. Furthermore, it becomes clear that certain industries are also paid significantly less than others on average.\n",
    "\n",
    "In the following, individual related categories will be discussed in more detail."
   ]
  },
  {
   "cell_type": "code",
   "execution_count": 25,
   "id": "45e15d5c-61e6-402f-8edd-661176c8f58f",
   "metadata": {},
   "outputs": [
    {
     "data": {
      "text/html": [
       "<div>\n",
       "<style scoped>\n",
       "    .dataframe tbody tr th:only-of-type {\n",
       "        vertical-align: middle;\n",
       "    }\n",
       "\n",
       "    .dataframe tbody tr th {\n",
       "        vertical-align: top;\n",
       "    }\n",
       "\n",
       "    .dataframe thead th {\n",
       "        text-align: right;\n",
       "    }\n",
       "</style>\n",
       "<table border=\"1\" class=\"dataframe\">\n",
       "  <thead>\n",
       "    <tr style=\"text-align: right;\">\n",
       "      <th></th>\n",
       "      <th>feature</th>\n",
       "      <th>coefficient</th>\n",
       "    </tr>\n",
       "  </thead>\n",
       "  <tbody>\n",
       "    <tr>\n",
       "      <th>593</th>\n",
       "      <td>title_category_Data Science Manager</td>\n",
       "      <td>6.901455</td>\n",
       "    </tr>\n",
       "    <tr>\n",
       "      <th>594</th>\n",
       "      <td>title_category_Data Scientist</td>\n",
       "      <td>5.129879</td>\n",
       "    </tr>\n",
       "    <tr>\n",
       "      <th>591</th>\n",
       "      <td>title_category_Data Engineer</td>\n",
       "      <td>1.032467</td>\n",
       "    </tr>\n",
       "    <tr>\n",
       "      <th>595</th>\n",
       "      <td>title_category_Machine Learning Engineer</td>\n",
       "      <td>0.644283</td>\n",
       "    </tr>\n",
       "    <tr>\n",
       "      <th>597</th>\n",
       "      <td>title_category_nan</td>\n",
       "      <td>0.000000</td>\n",
       "    </tr>\n",
       "    <tr>\n",
       "      <th>592</th>\n",
       "      <td>title_category_Data Science Consultant</td>\n",
       "      <td>-2.706723</td>\n",
       "    </tr>\n",
       "    <tr>\n",
       "      <th>596</th>\n",
       "      <td>title_category_Software Engineer</td>\n",
       "      <td>-4.154397</td>\n",
       "    </tr>\n",
       "    <tr>\n",
       "      <th>590</th>\n",
       "      <td>title_category_Data Analyst</td>\n",
       "      <td>-6.160621</td>\n",
       "    </tr>\n",
       "  </tbody>\n",
       "</table>\n",
       "</div>"
      ],
      "text/plain": [
       "                                      feature  coefficient\n",
       "593       title_category_Data Science Manager     6.901455\n",
       "594             title_category_Data Scientist     5.129879\n",
       "591              title_category_Data Engineer     1.032467\n",
       "595  title_category_Machine Learning Engineer     0.644283\n",
       "597                        title_category_nan     0.000000\n",
       "592    title_category_Data Science Consultant    -2.706723\n",
       "596          title_category_Software Engineer    -4.154397\n",
       "590               title_category_Data Analyst    -6.160621"
      ]
     },
     "execution_count": 25,
     "metadata": {},
     "output_type": "execute_result"
    }
   ],
   "source": [
    "importances.loc[importances[\"feature\"].str.contains(\"title_category_\")].sort_values(\"coefficient\", ascending=False)"
   ]
  },
  {
   "cell_type": "markdown",
   "id": "c8d292b9-3e0f-4666-b151-e47a91fcc8a9",
   "metadata": {},
   "source": [
    "There are sometimes strong differences between the individual job titles, as already became clear during the EDA."
   ]
  },
  {
   "cell_type": "code",
   "execution_count": 26,
   "id": "8987fe47-9f6d-4272-a27a-946660ac5594",
   "metadata": {},
   "outputs": [
    {
     "data": {
      "text/html": [
       "<div>\n",
       "<style scoped>\n",
       "    .dataframe tbody tr th:only-of-type {\n",
       "        vertical-align: middle;\n",
       "    }\n",
       "\n",
       "    .dataframe tbody tr th {\n",
       "        vertical-align: top;\n",
       "    }\n",
       "\n",
       "    .dataframe thead th {\n",
       "        text-align: right;\n",
       "    }\n",
       "</style>\n",
       "<table border=\"1\" class=\"dataframe\">\n",
       "  <thead>\n",
       "    <tr style=\"text-align: right;\">\n",
       "      <th></th>\n",
       "      <th>feature</th>\n",
       "      <th>coefficient</th>\n",
       "    </tr>\n",
       "  </thead>\n",
       "  <tbody>\n",
       "    <tr>\n",
       "      <th>600</th>\n",
       "      <td>experience_level_Senior</td>\n",
       "      <td>9.475483</td>\n",
       "    </tr>\n",
       "    <tr>\n",
       "      <th>599</th>\n",
       "      <td>experience_level_No Information</td>\n",
       "      <td>3.446363</td>\n",
       "    </tr>\n",
       "    <tr>\n",
       "      <th>601</th>\n",
       "      <td>experience_level_nan</td>\n",
       "      <td>0.000000</td>\n",
       "    </tr>\n",
       "    <tr>\n",
       "      <th>598</th>\n",
       "      <td>experience_level_Junior</td>\n",
       "      <td>-11.698536</td>\n",
       "    </tr>\n",
       "  </tbody>\n",
       "</table>\n",
       "</div>"
      ],
      "text/plain": [
       "                             feature  coefficient\n",
       "600          experience_level_Senior     9.475483\n",
       "599  experience_level_No Information     3.446363\n",
       "601             experience_level_nan     0.000000\n",
       "598          experience_level_Junior   -11.698536"
      ]
     },
     "execution_count": 26,
     "metadata": {},
     "output_type": "execute_result"
    }
   ],
   "source": [
    "importances.loc[importances[\"feature\"].str.contains(\"experience_level_\")].sort_values(\"coefficient\", ascending=False)"
   ]
  },
  {
   "cell_type": "markdown",
   "id": "28c89790-7510-4f7d-ac33-1b5a5eee1603",
   "metadata": {},
   "source": [
    "As expected, senior positions are paid better on average and junior positions are paid less."
   ]
  },
  {
   "cell_type": "code",
   "execution_count": 27,
   "id": "fcdfcef3-83c8-49ec-8fca-d9955cf5422f",
   "metadata": {},
   "outputs": [
    {
     "data": {
      "text/html": [
       "<div>\n",
       "<style scoped>\n",
       "    .dataframe tbody tr th:only-of-type {\n",
       "        vertical-align: middle;\n",
       "    }\n",
       "\n",
       "    .dataframe tbody tr th {\n",
       "        vertical-align: top;\n",
       "    }\n",
       "\n",
       "    .dataframe thead th {\n",
       "        text-align: right;\n",
       "    }\n",
       "</style>\n",
       "<table border=\"1\" class=\"dataframe\">\n",
       "  <thead>\n",
       "    <tr style=\"text-align: right;\">\n",
       "      <th></th>\n",
       "      <th>feature</th>\n",
       "      <th>coefficient</th>\n",
       "    </tr>\n",
       "  </thead>\n",
       "  <tbody>\n",
       "    <tr>\n",
       "      <th>7</th>\n",
       "      <td>much_experience</td>\n",
       "      <td>6.629924</td>\n",
       "    </tr>\n",
       "    <tr>\n",
       "      <th>8</th>\n",
       "      <td>some_experience</td>\n",
       "      <td>3.614364</td>\n",
       "    </tr>\n",
       "    <tr>\n",
       "      <th>6</th>\n",
       "      <td>little_experience</td>\n",
       "      <td>-1.288994</td>\n",
       "    </tr>\n",
       "  </tbody>\n",
       "</table>\n",
       "</div>"
      ],
      "text/plain": [
       "             feature  coefficient\n",
       "7    much_experience     6.629924\n",
       "8    some_experience     3.614364\n",
       "6  little_experience    -1.288994"
      ]
     },
     "execution_count": 27,
     "metadata": {},
     "output_type": "execute_result"
    }
   ],
   "source": [
    "importances.loc[importances[\"feature\"].str.contains(\"_experience\")].sort_values(\"coefficient\", ascending=False)"
   ]
  },
  {
   "cell_type": "markdown",
   "id": "943948bc-d1dc-4da5-a3b2-4ce94c73e791",
   "metadata": {},
   "source": [
    "The greater the professional experience required, the higher the pay."
   ]
  },
  {
   "cell_type": "code",
   "execution_count": 28,
   "id": "c24b7dc8-3ca0-4a03-8092-9ca2b3f1772f",
   "metadata": {},
   "outputs": [
    {
     "data": {
      "text/html": [
       "<div>\n",
       "<style scoped>\n",
       "    .dataframe tbody tr th:only-of-type {\n",
       "        vertical-align: middle;\n",
       "    }\n",
       "\n",
       "    .dataframe tbody tr th {\n",
       "        vertical-align: top;\n",
       "    }\n",
       "\n",
       "    .dataframe thead th {\n",
       "        text-align: right;\n",
       "    }\n",
       "</style>\n",
       "<table border=\"1\" class=\"dataframe\">\n",
       "  <thead>\n",
       "    <tr style=\"text-align: right;\">\n",
       "      <th></th>\n",
       "      <th>feature</th>\n",
       "      <th>coefficient</th>\n",
       "    </tr>\n",
       "  </thead>\n",
       "  <tbody>\n",
       "    <tr>\n",
       "      <th>3</th>\n",
       "      <td>master</td>\n",
       "      <td>2.496506</td>\n",
       "    </tr>\n",
       "    <tr>\n",
       "      <th>4</th>\n",
       "      <td>phd</td>\n",
       "      <td>2.183843</td>\n",
       "    </tr>\n",
       "    <tr>\n",
       "      <th>5</th>\n",
       "      <td>bachelor</td>\n",
       "      <td>1.461156</td>\n",
       "    </tr>\n",
       "  </tbody>\n",
       "</table>\n",
       "</div>"
      ],
      "text/plain": [
       "    feature  coefficient\n",
       "3    master     2.496506\n",
       "4       phd     2.183843\n",
       "5  bachelor     1.461156"
      ]
     },
     "execution_count": 28,
     "metadata": {},
     "output_type": "execute_result"
    }
   ],
   "source": [
    "importances.loc[importances[\"feature\"].str.contains(\"master|phd|bachelor|no_degree_info\")].sort_values(\"coefficient\", ascending=False)"
   ]
  },
  {
   "cell_type": "markdown",
   "id": "d97a9b46-9767-42df-b364-8fe004106df8",
   "metadata": {},
   "source": [
    "The higher the degree required, the higher the salary."
   ]
  },
  {
   "cell_type": "code",
   "execution_count": 29,
   "id": "fc2ce0c2-5734-44b0-8ddb-df5527b6d9e6",
   "metadata": {},
   "outputs": [
    {
     "data": {
      "text/html": [
       "<div>\n",
       "<style scoped>\n",
       "    .dataframe tbody tr th:only-of-type {\n",
       "        vertical-align: middle;\n",
       "    }\n",
       "\n",
       "    .dataframe tbody tr th {\n",
       "        vertical-align: top;\n",
       "    }\n",
       "\n",
       "    .dataframe thead th {\n",
       "        text-align: right;\n",
       "    }\n",
       "</style>\n",
       "<table border=\"1\" class=\"dataframe\">\n",
       "  <thead>\n",
       "    <tr style=\"text-align: right;\">\n",
       "      <th></th>\n",
       "      <th>feature</th>\n",
       "      <th>coefficient</th>\n",
       "    </tr>\n",
       "  </thead>\n",
       "  <tbody>\n",
       "    <tr>\n",
       "      <th>582</th>\n",
       "      <td>company_size_10,001+</td>\n",
       "      <td>6.890258</td>\n",
       "    </tr>\n",
       "    <tr>\n",
       "      <th>586</th>\n",
       "      <td>company_size_5001-10,000</td>\n",
       "      <td>5.190785</td>\n",
       "    </tr>\n",
       "    <tr>\n",
       "      <th>589</th>\n",
       "      <td>company_size_nan</td>\n",
       "      <td>3.242450</td>\n",
       "    </tr>\n",
       "    <tr>\n",
       "      <th>584</th>\n",
       "      <td>company_size_2501-5000</td>\n",
       "      <td>0.921639</td>\n",
       "    </tr>\n",
       "    <tr>\n",
       "      <th>587</th>\n",
       "      <td>company_size_501-1000</td>\n",
       "      <td>-0.486913</td>\n",
       "    </tr>\n",
       "    <tr>\n",
       "      <th>585</th>\n",
       "      <td>company_size_251-500</td>\n",
       "      <td>-2.881616</td>\n",
       "    </tr>\n",
       "    <tr>\n",
       "      <th>583</th>\n",
       "      <td>company_size_1001-2500</td>\n",
       "      <td>-3.127725</td>\n",
       "    </tr>\n",
       "    <tr>\n",
       "      <th>581</th>\n",
       "      <td>company_size_0-50</td>\n",
       "      <td>-4.026863</td>\n",
       "    </tr>\n",
       "    <tr>\n",
       "      <th>588</th>\n",
       "      <td>company_size_51-250</td>\n",
       "      <td>-5.002813</td>\n",
       "    </tr>\n",
       "  </tbody>\n",
       "</table>\n",
       "</div>"
      ],
      "text/plain": [
       "                      feature  coefficient\n",
       "582      company_size_10,001+     6.890258\n",
       "586  company_size_5001-10,000     5.190785\n",
       "589          company_size_nan     3.242450\n",
       "584    company_size_2501-5000     0.921639\n",
       "587     company_size_501-1000    -0.486913\n",
       "585      company_size_251-500    -2.881616\n",
       "583    company_size_1001-2500    -3.127725\n",
       "581         company_size_0-50    -4.026863\n",
       "588       company_size_51-250    -5.002813"
      ]
     },
     "execution_count": 29,
     "metadata": {},
     "output_type": "execute_result"
    }
   ],
   "source": [
    "importances.loc[importances[\"feature\"].str.contains(\"company_size_\")].sort_values(\"coefficient\", ascending=False)"
   ]
  },
  {
   "cell_type": "markdown",
   "id": "c4b2f7b3-fc09-4a9a-aab5-c407d326dda9",
   "metadata": {},
   "source": [
    "Overall, the trend that larger companies also pay higher salaries is confirmed. It is astonishing that in the company size 1001-2500 on average pay worse salaries than smaller companies. However, this may also be the result of a sample that is too small. It is also interesting to note that the negative coefficient of the smallest company size is significantly lower than that of the second smallest. This could indicate that employees in very small companies may have to take on several tasks at the same time and work longer hours to compensate for the lack of personnel, but are paid slightly better for this."
   ]
  },
  {
   "cell_type": "code",
   "execution_count": 30,
   "id": "a6b4293d-a8f1-4cf8-8b94-a96e95bfe9f0",
   "metadata": {},
   "outputs": [
    {
     "data": {
      "text/html": [
       "<div>\n",
       "<style scoped>\n",
       "    .dataframe tbody tr th:only-of-type {\n",
       "        vertical-align: middle;\n",
       "    }\n",
       "\n",
       "    .dataframe tbody tr th {\n",
       "        vertical-align: top;\n",
       "    }\n",
       "\n",
       "    .dataframe thead th {\n",
       "        text-align: right;\n",
       "    }\n",
       "</style>\n",
       "<table border=\"1\" class=\"dataframe\">\n",
       "  <thead>\n",
       "    <tr style=\"text-align: right;\">\n",
       "      <th></th>\n",
       "      <th>feature</th>\n",
       "      <th>coefficient</th>\n",
       "    </tr>\n",
       "  </thead>\n",
       "  <tbody>\n",
       "    <tr>\n",
       "      <th>806</th>\n",
       "      <td>main_region_nan</td>\n",
       "      <td>5.323803</td>\n",
       "    </tr>\n",
       "    <tr>\n",
       "      <th>805</th>\n",
       "      <td>main_region_Thuringia</td>\n",
       "      <td>5.050193</td>\n",
       "    </tr>\n",
       "    <tr>\n",
       "      <th>797</th>\n",
       "      <td>main_region_Hesse</td>\n",
       "      <td>3.652142</td>\n",
       "    </tr>\n",
       "    <tr>\n",
       "      <th>792</th>\n",
       "      <td>main_region_Baden-Württemberg</td>\n",
       "      <td>3.198506</td>\n",
       "    </tr>\n",
       "    <tr>\n",
       "      <th>796</th>\n",
       "      <td>main_region_Hamburg</td>\n",
       "      <td>3.168391</td>\n",
       "    </tr>\n",
       "    <tr>\n",
       "      <th>793</th>\n",
       "      <td>main_region_Bavaria</td>\n",
       "      <td>1.607394</td>\n",
       "    </tr>\n",
       "    <tr>\n",
       "      <th>794</th>\n",
       "      <td>main_region_Berlin</td>\n",
       "      <td>1.450499</td>\n",
       "    </tr>\n",
       "    <tr>\n",
       "      <th>798</th>\n",
       "      <td>main_region_Lower Saxony</td>\n",
       "      <td>-0.695488</td>\n",
       "    </tr>\n",
       "    <tr>\n",
       "      <th>799</th>\n",
       "      <td>main_region_North Rhine-Westphalia</td>\n",
       "      <td>-0.736374</td>\n",
       "    </tr>\n",
       "    <tr>\n",
       "      <th>804</th>\n",
       "      <td>main_region_Schleswig-Holstein</td>\n",
       "      <td>-1.388044</td>\n",
       "    </tr>\n",
       "    <tr>\n",
       "      <th>795</th>\n",
       "      <td>main_region_Brandenburg</td>\n",
       "      <td>-1.720449</td>\n",
       "    </tr>\n",
       "    <tr>\n",
       "      <th>800</th>\n",
       "      <td>main_region_Rhineland-Palatinate</td>\n",
       "      <td>-2.864927</td>\n",
       "    </tr>\n",
       "    <tr>\n",
       "      <th>803</th>\n",
       "      <td>main_region_Saxony-Anhalt</td>\n",
       "      <td>-3.006241</td>\n",
       "    </tr>\n",
       "    <tr>\n",
       "      <th>802</th>\n",
       "      <td>main_region_Saxony</td>\n",
       "      <td>-5.398971</td>\n",
       "    </tr>\n",
       "    <tr>\n",
       "      <th>801</th>\n",
       "      <td>main_region_Saarland</td>\n",
       "      <td>-6.689355</td>\n",
       "    </tr>\n",
       "  </tbody>\n",
       "</table>\n",
       "</div>"
      ],
      "text/plain": [
       "                                feature  coefficient\n",
       "806                     main_region_nan     5.323803\n",
       "805               main_region_Thuringia     5.050193\n",
       "797                   main_region_Hesse     3.652142\n",
       "792       main_region_Baden-Württemberg     3.198506\n",
       "796                 main_region_Hamburg     3.168391\n",
       "793                 main_region_Bavaria     1.607394\n",
       "794                  main_region_Berlin     1.450499\n",
       "798            main_region_Lower Saxony    -0.695488\n",
       "799  main_region_North Rhine-Westphalia    -0.736374\n",
       "804      main_region_Schleswig-Holstein    -1.388044\n",
       "795             main_region_Brandenburg    -1.720449\n",
       "800    main_region_Rhineland-Palatinate    -2.864927\n",
       "803           main_region_Saxony-Anhalt    -3.006241\n",
       "802                  main_region_Saxony    -5.398971\n",
       "801                main_region_Saarland    -6.689355"
      ]
     },
     "execution_count": 30,
     "metadata": {},
     "output_type": "execute_result"
    }
   ],
   "source": [
    "importances.loc[importances[\"feature\"].str.contains(\"main_region_\")].sort_values(\"coefficient\", ascending=False)"
   ]
  },
  {
   "cell_type": "markdown",
   "id": "f3ee27a4-eacf-4522-b899-0892bd0dc1c7",
   "metadata": {},
   "source": [
    "Salary differences also become apparent with regard to the federal states. In the western states, average salaries are still higher than in the eastern states. Thuringia is an outlier here due to its extremely small sample sizes."
   ]
  },
  {
   "cell_type": "markdown",
   "id": "c19ac52e-a6c7-48cf-b418-b260d52b9147",
   "metadata": {},
   "source": [
    " "
   ]
  },
  {
   "cell_type": "markdown",
   "id": "f3b997ca-b88d-4efa-a118-f1cb1f5d6849",
   "metadata": {},
   "source": [
    "<a id=\"summary\"></a>"
   ]
  },
  {
   "cell_type": "markdown",
   "id": "84ade0c3-db20-48d5-9585-60aa45e25039",
   "metadata": {},
   "source": [
    "## Summary"
   ]
  },
  {
   "cell_type": "markdown",
   "id": "89ee580e-a2d1-4032-be4e-e4224880af87",
   "metadata": {},
   "source": [
    "With the model found, it was possible to reduce the mean error of salary forecasts by 3000 euros. Nevertheless, the remaining error is still more than 6000 euros. All the features that Stepstone includes in its description of its machine learning model were also included in this model. The rules for extracting job titles, different skills, or work experience were made to the best of our ability. However, it is quite possible that Stepstone used a slightly different approach when extracting this information and may have evaluated other keywords as well. From the location information, only the states were additionally extracted in the context of this model with the help of an API. Here, one could possibly include other features such as population figures of the cities.\n",
    "\n",
    "The most likely reason for the poorer results is the insufficient amount of data. In the context of the EDA it became clear that some relationships to the target are still very distorted due to the too small sample (e.g. highest average salary in Thuringia). Most of the relationships in the model make sense in principle, but are still relatively subject to noise. For example, there is no monotonic dependence between salary and company size in the data used. A larger data set would help to minimize this noise in the data and better represent the true relationships. Also, the error obtained on the test data is relatively imprecise at the moment and would also benefit from a larger data set.\n",
    "\n",
    "Finally, it should also be mentioned that the values of the target are also in the predictions of a model and not real salaries. Attributes with Python, R or SQL, which hardly make a difference in the context of this analysis, could possibly be important for an analysis specifically designed for Data Science jobs."
   ]
  },
  {
   "cell_type": "code",
   "execution_count": null,
   "id": "e6421d8a-5327-4b26-9c98-a549b0f00b71",
   "metadata": {},
   "outputs": [],
   "source": []
  }
 ],
 "metadata": {
  "kernelspec": {
   "display_name": "jobsearch",
   "language": "python",
   "name": "jobsearch"
  },
  "language_info": {
   "codemirror_mode": {
    "name": "ipython",
    "version": 3
   },
   "file_extension": ".py",
   "mimetype": "text/x-python",
   "name": "python",
   "nbconvert_exporter": "python",
   "pygments_lexer": "ipython3",
   "version": "3.9.12"
  }
 },
 "nbformat": 4,
 "nbformat_minor": 5
}
