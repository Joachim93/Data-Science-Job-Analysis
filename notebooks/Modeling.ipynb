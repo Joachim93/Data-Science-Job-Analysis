{
 "cells": [
  {
   "cell_type": "markdown",
   "id": "e04d836b-082c-4ccb-9dbb-a09f8798737b",
   "metadata": {},
   "source": [
    "## Overview"
   ]
  },
  {
   "cell_type": "markdown",
   "id": "ce626497-4a90-4ff2-a1cc-1d05d510f819",
   "metadata": {},
   "source": [
    "The goal of this notebook is to design a machine learning model to predict the salary of a job as best as possible from the information in the job description and to interpret it afterwards. The procedure was as follows:\n",
    "\n",
    "- [Test of a baseline](#baseline)\n",
    "- [Test of linear models](#linear_models)\n",
    "- [Test of non-linear models](#non-linear_models)\n",
    "- [Feature selection](#feature_selection)\n",
    "- [Interpretation of the results](#interpretation)\n",
    "- [Summary of the results](#summary)"
   ]
  },
  {
   "cell_type": "code",
   "execution_count": 1,
   "id": "0467dbee-8cc9-41db-be64-88eec2dd42bf",
   "metadata": {},
   "outputs": [],
   "source": [
    "import warnings\n",
    "\n",
    "import numpy as np\n",
    "import pandas as pd\n",
    "import seaborn as sns\n",
    "import matplotlib.pyplot as plt\n",
    "from category_encoders.target_encoder import TargetEncoder\n",
    "from sklearn.compose import TransformedTargetRegressor\n",
    "from sklearn.dummy import DummyRegressor\n",
    "from sklearn.ensemble import RandomForestRegressor\n",
    "from sklearn.impute import SimpleImputer\n",
    "from sklearn.linear_model import LinearRegression, Lasso, Ridge, ElasticNet\n",
    "from sklearn.metrics import mean_absolute_error\n",
    "from sklearn.model_selection import cross_validate, KFold, train_test_split, RandomizedSearchCV\n",
    "from sklearn.pipeline import Pipeline\n",
    "from sklearn.preprocessing import OneHotEncoder, PolynomialFeatures\n",
    "from sklearn.svm import SVR\n",
    "from tqdm import tqdm\n",
    "from xgboost import XGBRegressor\n",
    "from lightgbm import LGBMRegressor\n",
    "from collections import defaultdict\n",
    "\n",
    "warnings.filterwarnings(\"ignore\")"
   ]
  },
  {
   "cell_type": "code",
   "execution_count": 2,
   "id": "4b869384-2b50-45aa-b96e-0d8354b9ee36",
   "metadata": {},
   "outputs": [
    {
     "name": "stdout",
     "output_type": "stream",
     "text": [
      "(1673, 96)\n"
     ]
    },
    {
     "data": {
      "text/html": [
       "<div>\n",
       "<style scoped>\n",
       "    .dataframe tbody tr th:only-of-type {\n",
       "        vertical-align: middle;\n",
       "    }\n",
       "\n",
       "    .dataframe tbody tr th {\n",
       "        vertical-align: top;\n",
       "    }\n",
       "\n",
       "    .dataframe thead th {\n",
       "        text-align: right;\n",
       "    }\n",
       "</style>\n",
       "<table border=\"1\" class=\"dataframe\">\n",
       "  <thead>\n",
       "    <tr style=\"text-align: right;\">\n",
       "      <th></th>\n",
       "      <th>company</th>\n",
       "      <th>company_size</th>\n",
       "      <th>permanent_employment</th>\n",
       "      <th>trainee</th>\n",
       "      <th>home_office_possible</th>\n",
       "      <th>part_time</th>\n",
       "      <th>full_time</th>\n",
       "      <th>title_category</th>\n",
       "      <th>experience_level</th>\n",
       "      <th>average_salary</th>\n",
       "      <th>...</th>\n",
       "      <th>creativity</th>\n",
       "      <th>leadership</th>\n",
       "      <th>flexibility</th>\n",
       "      <th>business_focus</th>\n",
       "      <th>initiative</th>\n",
       "      <th>structured_working</th>\n",
       "      <th>little_experience</th>\n",
       "      <th>much_experience</th>\n",
       "      <th>no_experience_information</th>\n",
       "      <th>some_experience</th>\n",
       "    </tr>\n",
       "  </thead>\n",
       "  <tbody>\n",
       "    <tr>\n",
       "      <th>1</th>\n",
       "      <td>BIG direkt gesund</td>\n",
       "      <td>NaN</td>\n",
       "      <td>True</td>\n",
       "      <td>False</td>\n",
       "      <td>True</td>\n",
       "      <td>False</td>\n",
       "      <td>True</td>\n",
       "      <td>Data Science Manager</td>\n",
       "      <td>No Information</td>\n",
       "      <td>59500.0</td>\n",
       "      <td>...</td>\n",
       "      <td>False</td>\n",
       "      <td>False</td>\n",
       "      <td>False</td>\n",
       "      <td>False</td>\n",
       "      <td>False</td>\n",
       "      <td>False</td>\n",
       "      <td>False</td>\n",
       "      <td>False</td>\n",
       "      <td>True</td>\n",
       "      <td>False</td>\n",
       "    </tr>\n",
       "    <tr>\n",
       "      <th>2</th>\n",
       "      <td>BIG direkt gesund</td>\n",
       "      <td>NaN</td>\n",
       "      <td>True</td>\n",
       "      <td>False</td>\n",
       "      <td>True</td>\n",
       "      <td>False</td>\n",
       "      <td>True</td>\n",
       "      <td>Data Science Manager</td>\n",
       "      <td>No Information</td>\n",
       "      <td>62500.0</td>\n",
       "      <td>...</td>\n",
       "      <td>False</td>\n",
       "      <td>False</td>\n",
       "      <td>False</td>\n",
       "      <td>False</td>\n",
       "      <td>False</td>\n",
       "      <td>False</td>\n",
       "      <td>False</td>\n",
       "      <td>False</td>\n",
       "      <td>True</td>\n",
       "      <td>False</td>\n",
       "    </tr>\n",
       "    <tr>\n",
       "      <th>3</th>\n",
       "      <td>METRO Markets GmbH</td>\n",
       "      <td>NaN</td>\n",
       "      <td>True</td>\n",
       "      <td>False</td>\n",
       "      <td>True</td>\n",
       "      <td>False</td>\n",
       "      <td>True</td>\n",
       "      <td>Data Science Manager</td>\n",
       "      <td>No Information</td>\n",
       "      <td>86000.0</td>\n",
       "      <td>...</td>\n",
       "      <td>False</td>\n",
       "      <td>False</td>\n",
       "      <td>True</td>\n",
       "      <td>False</td>\n",
       "      <td>False</td>\n",
       "      <td>False</td>\n",
       "      <td>False</td>\n",
       "      <td>True</td>\n",
       "      <td>False</td>\n",
       "      <td>False</td>\n",
       "    </tr>\n",
       "    <tr>\n",
       "      <th>4</th>\n",
       "      <td>R+V Allgemeine Versicherung AG</td>\n",
       "      <td>10,001+</td>\n",
       "      <td>True</td>\n",
       "      <td>False</td>\n",
       "      <td>False</td>\n",
       "      <td>False</td>\n",
       "      <td>True</td>\n",
       "      <td>Data Scientist</td>\n",
       "      <td>No Information</td>\n",
       "      <td>61000.0</td>\n",
       "      <td>...</td>\n",
       "      <td>False</td>\n",
       "      <td>False</td>\n",
       "      <td>False</td>\n",
       "      <td>False</td>\n",
       "      <td>True</td>\n",
       "      <td>False</td>\n",
       "      <td>False</td>\n",
       "      <td>False</td>\n",
       "      <td>True</td>\n",
       "      <td>False</td>\n",
       "    </tr>\n",
       "    <tr>\n",
       "      <th>8</th>\n",
       "      <td>CHECK24</td>\n",
       "      <td>2501-5000</td>\n",
       "      <td>True</td>\n",
       "      <td>False</td>\n",
       "      <td>True</td>\n",
       "      <td>False</td>\n",
       "      <td>True</td>\n",
       "      <td>Data Science Manager</td>\n",
       "      <td>No Information</td>\n",
       "      <td>78000.0</td>\n",
       "      <td>...</td>\n",
       "      <td>False</td>\n",
       "      <td>True</td>\n",
       "      <td>False</td>\n",
       "      <td>False</td>\n",
       "      <td>False</td>\n",
       "      <td>False</td>\n",
       "      <td>False</td>\n",
       "      <td>False</td>\n",
       "      <td>True</td>\n",
       "      <td>False</td>\n",
       "    </tr>\n",
       "  </tbody>\n",
       "</table>\n",
       "<p>5 rows × 96 columns</p>\n",
       "</div>"
      ],
      "text/plain": [
       "                          company company_size  permanent_employment  trainee  \\\n",
       "1               BIG direkt gesund          NaN                  True    False   \n",
       "2               BIG direkt gesund          NaN                  True    False   \n",
       "3              METRO Markets GmbH          NaN                  True    False   \n",
       "4  R+V Allgemeine Versicherung AG      10,001+                  True    False   \n",
       "8                         CHECK24    2501-5000                  True    False   \n",
       "\n",
       "   home_office_possible  part_time  full_time        title_category  \\\n",
       "1                  True      False       True  Data Science Manager   \n",
       "2                  True      False       True  Data Science Manager   \n",
       "3                  True      False       True  Data Science Manager   \n",
       "4                 False      False       True        Data Scientist   \n",
       "8                  True      False       True  Data Science Manager   \n",
       "\n",
       "  experience_level  average_salary  ... creativity  leadership flexibility  \\\n",
       "1   No Information         59500.0  ...      False       False       False   \n",
       "2   No Information         62500.0  ...      False       False       False   \n",
       "3   No Information         86000.0  ...      False       False        True   \n",
       "4   No Information         61000.0  ...      False       False       False   \n",
       "8   No Information         78000.0  ...      False        True       False   \n",
       "\n",
       "  business_focus  initiative  structured_working  little_experience  \\\n",
       "1          False       False               False              False   \n",
       "2          False       False               False              False   \n",
       "3          False       False               False              False   \n",
       "4          False        True               False              False   \n",
       "8          False       False               False              False   \n",
       "\n",
       "   much_experience  no_experience_information  some_experience  \n",
       "1            False                       True            False  \n",
       "2            False                       True            False  \n",
       "3             True                      False            False  \n",
       "4            False                       True            False  \n",
       "8            False                       True            False  \n",
       "\n",
       "[5 rows x 96 columns]"
      ]
     },
     "execution_count": 2,
     "metadata": {},
     "output_type": "execute_result"
    }
   ],
   "source": [
    "df = pd.read_csv(\"../data/data_wide.csv\")\n",
    "df = df.loc[df[\"title_category\"] != \"Others\"]\n",
    "df.dropna(subset=[\"average_salary\"], inplace=True)\n",
    "df = df.drop([\"link\", \"title\", \"content\", \"rating\", \"num_ratings\", \"company_link\", \"release_date\"], axis=1)\n",
    "print(df.shape)\n",
    "df.head()"
   ]
  },
  {
   "cell_type": "markdown",
   "id": "cf8bf8fb-381e-4923-875d-1fc4af068aba",
   "metadata": {},
   "source": [
    "After loading the data, irrelevant entries and attributes were first removed from the data set. Subsequently, a test data set is split off from the remaining data, which will later be used to obtain an unbiased estimate of the model quality."
   ]
  },
  {
   "cell_type": "code",
   "execution_count": 3,
   "id": "5deb03ba-efe6-4358-8a93-de9ca13360f7",
   "metadata": {},
   "outputs": [
    {
     "data": {
      "text/plain": [
       "((1338, 96), (335, 96))"
      ]
     },
     "execution_count": 3,
     "metadata": {},
     "output_type": "execute_result"
    }
   ],
   "source": [
    "df_train, df_test = train_test_split(df, test_size=0.2, random_state=0)\n",
    "df_train.shape, df_test.shape"
   ]
  },
  {
   "cell_type": "markdown",
   "id": "e9dadc45-0d87-48d1-a15c-bc332791dc5a",
   "metadata": {},
   "source": [
    "There are three attributes with missing values. Since all attributes are categorical features, it is easy to add an additional category \"missing_value\" later."
   ]
  },
  {
   "cell_type": "code",
   "execution_count": 4,
   "id": "0f481572-da14-4fcc-bd91-604f13c7214f",
   "metadata": {},
   "outputs": [
    {
     "data": {
      "text/plain": [
       "company_size        343\n",
       "main_industry       209\n",
       "main_region          46\n",
       "numpy                 0\n",
       "tensorflow/keras      0\n",
       "dtype: int64"
      ]
     },
     "execution_count": 4,
     "metadata": {},
     "output_type": "execute_result"
    }
   ],
   "source": [
    "df_train.isnull().sum().sort_values(ascending=False).head()"
   ]
  },
  {
   "cell_type": "markdown",
   "id": "436d63eb-f057-4c04-aa61-bfce798b71a7",
   "metadata": {},
   "source": [
    "The target variable is approximately normally distributed, but contains two relatively extreme outlier. Especially when using a linear model, it can therefore still be useful to transform the target to minimize the effect of the extremely large values and to better approximate the remaining data points."
   ]
  },
  {
   "cell_type": "code",
   "execution_count": 5,
   "id": "7bc0cb23-86cf-4f01-890a-610886e6a680",
   "metadata": {},
   "outputs": [
    {
     "data": {
      "image/png": "[encoded data removed]",
      "text/plain": [
       "<Figure size 432x288 with 1 Axes>"
      ]
     },
     "metadata": {
      "needs_background": "light"
     },
     "output_type": "display_data"
    }
   ],
   "source": [
    "sns.histplot(x=df_train[\"average_salary\"]);"
   ]
  },
  {
   "cell_type": "markdown",
   "id": "df50f4e4-baaf-4e9c-8f1d-20c60c5d715c",
   "metadata": {},
   "source": [
    " "
   ]
  },
  {
   "cell_type": "markdown",
   "id": "f0924110-6bdb-46e1-9d05-d3d8e3d72729",
   "metadata": {},
   "source": [
    "<a id=\"baseline\"></a>"
   ]
  },
  {
   "cell_type": "markdown",
   "id": "e189c059-4c17-4bf0-8c77-f212dcb6624c",
   "metadata": {},
   "source": [
    "## Baseline"
   ]
  },
  {
   "cell_type": "markdown",
   "id": "cd8987d2-4031-4b41-8cf1-d90ab5ff3cca",
   "metadata": {},
   "source": [
    "To get a feel for the difficulty of the problem, the first step is to establish a simple baseline performance. In a regression problem, the use of the target mean for all predictions is usually suitable for this purpose. In the following, the Mean Absolute Error (MAE) is always used to evaluate the model, since large errors should not be weighted more heavily than small ones."
   ]
  },
  {
   "cell_type": "code",
   "execution_count": 6,
   "id": "4f7aea5f-bd69-4522-b0d7-56ce7621b09b",
   "metadata": {},
   "outputs": [
    {
     "name": "stdout",
     "output_type": "stream",
     "text": [
      "train score: 9483.340221865987\n",
      "test score: 9485.667580834288\n"
     ]
    }
   ],
   "source": [
    "X = df_train.drop(\"average_salary\", axis=1)\n",
    "y = df_train[\"average_salary\"]\n",
    "model = DummyRegressor(strategy=\"mean\")\n",
    "results = cross_validate(model, X, y, scoring=\"neg_mean_absolute_error\", return_train_score=True)\n",
    "print(f\"train score: {np.abs(np.mean(results['train_score']))}\")\n",
    "print(f\"test score: {np.abs(np.mean(results['test_score']))}\")"
   ]
  },
  {
   "cell_type": "markdown",
   "id": "948090f6-3718-41da-b8c4-d574dc1b4d81",
   "metadata": {},
   "source": [
    " "
   ]
  },
  {
   "cell_type": "markdown",
   "id": "e5434100-6eed-4d7a-acbf-9e5f2a5100e0",
   "metadata": {},
   "source": [
    "<a id=\"linear_models\"></a>"
   ]
  },
  {
   "cell_type": "markdown",
   "id": "299cb86c-dcce-4034-9f5f-6446772281bb",
   "metadata": {},
   "source": [
    "## Linear Models"
   ]
  },
  {
   "cell_type": "markdown",
   "id": "eff36793-c2f2-4c80-98eb-fea03a100e7b",
   "metadata": {},
   "source": [
    "As a first model, a linear regression without further modifications is tested on the problem. During preprocessing, all missing values are first replaced by the missing_value category. Then, all categorical features are converted to numeric features using one-hot encoding. Scaling of the data is not necessary because the dataset contains only categorical features."
   ]
  },
  {
   "cell_type": "code",
   "execution_count": 7,
   "id": "bbde5e5a-0455-499b-a241-b647b02e8373",
   "metadata": {},
   "outputs": [
    {
     "name": "stdout",
     "output_type": "stream",
     "text": [
      "train score: 3059.6319354562015\n",
      "test score: 8236.912118272507\n"
     ]
    }
   ],
   "source": [
    "pipe = Pipeline([\n",
    "    (\"imputer\", SimpleImputer(strategy=\"constant\", fill_value=\"missing_value\")),\n",
    "    (\"encoder\", OneHotEncoder(handle_unknown=\"ignore\")),\n",
    "    (\"model\", LinearRegression())\n",
    "])\n",
    "\n",
    "results = cross_validate(pipe, X, y, scoring=\"neg_mean_absolute_error\", return_train_score=True)\n",
    "print(f\"train score: {np.abs(np.mean(results['train_score']))}\")\n",
    "print(f\"test score: {np.abs(np.mean(results['test_score']))}\")"
   ]
  },
  {
   "cell_type": "markdown",
   "id": "2bdf677c-f19c-467c-8874-c16b8e095c08",
   "metadata": {},
   "source": [
    "The linear regression already provides a clear improvement over the baseline. However, the large difference between training and test error suggests that the model overfits the training data. Therefore, the effect of additional regularization will be investigated next. Three different models are tested for this purpose:\n",
    "\n",
    "- Lasso Regression (L1 regularization)\n",
    "- Ridge Regression (L2 regularization)\n",
    "- Elastic Net (combination of L1 and L2 regularization)\n",
    "\n",
    "Simultaneously, the effect of different variants in the coding of categorical variables is investigated. In one-hot encoding, the hyperparameter \"min_frequency\" is investigated, which influences when rare categories should be combined into one. Furthermore, target encoding is tested as an alternative. The hyperparameter \"smoothing\" is also used to avoid overfitting rare categories. An ordinal encoding is omitted at this point, since none of the features is assumed to have an ordinal relationship."
   ]
  },
  {
   "cell_type": "code",
   "execution_count": 8,
   "id": "663b5b09-70cd-4f98-a4b3-3ddb06f96fde",
   "metadata": {},
   "outputs": [
    {
     "name": "stdout",
     "output_type": "stream",
     "text": [
      "train score: 5535.1184932889355\n",
      "test score: 6792.995119618749\n"
     ]
    },
    {
     "data": {
      "text/plain": [
       "{'model__alpha': 14.5,\n",
       " 'encoder__ohe__min_frequency': 1,\n",
       " 'encoder': Pipeline(steps=[('imputer',\n",
       "                  SimpleImputer(fill_value='missing_value',\n",
       "                                strategy='constant')),\n",
       "                 ('ohe',\n",
       "                  OneHotEncoder(handle_unknown='ignore', min_frequency=1))])}"
      ]
     },
     "execution_count": 8,
     "metadata": {},
     "output_type": "execute_result"
    }
   ],
   "source": [
    "onehot_encoding = Pipeline([\n",
    "    (\"imputer\", SimpleImputer(strategy=\"constant\", fill_value=\"missing_value\")),\n",
    "    (\"ohe\", OneHotEncoder(handle_unknown=\"ignore\"))\n",
    "])\n",
    "\n",
    "pipe = Pipeline([\n",
    "    (\"encoder\", None),\n",
    "    (\"model\", Lasso())\n",
    "])\n",
    "\n",
    "param_grid = [{\"encoder\": [onehot_encoding],\n",
    "               \"encoder__ohe__min_frequency\": list(range(1, 10)),\n",
    "               \"model__alpha\": np.arange(0.1, 50, 0.1)},\n",
    "              {\"encoder\": [TargetEncoder()],\n",
    "               \"encoder__smoothing\": [0.1, 0.5, 1.0, 5.0, 10., 20.],\n",
    "               \"model__alpha\": np.arange(0.1, 50, 0.1)}]\n",
    "\n",
    "search = RandomizedSearchCV(pipe, param_grid, n_iter=200, scoring=\"neg_mean_absolute_error\", return_train_score=True, n_jobs=-1, random_state=0)\n",
    "search.fit(X, y)\n",
    "\n",
    "print(f\"train score: {np.abs(search.cv_results_['mean_train_score'][search.best_index_])}\")\n",
    "print(f\"test score: {np.abs(search.cv_results_['mean_test_score'][search.best_index_])}\")\n",
    "search.best_params_"
   ]
  },
  {
   "cell_type": "code",
   "execution_count": 9,
   "id": "9cffec4e-f411-4a28-800f-eeedab07fa8e",
   "metadata": {},
   "outputs": [
    {
     "name": "stdout",
     "output_type": "stream",
     "text": [
      "train score: 5546.775129723873\n",
      "test score: 6924.780534000786\n"
     ]
    },
    {
     "data": {
      "text/plain": [
       "{'model__alpha': 7.3,\n",
       " 'encoder__ohe__min_frequency': 1,\n",
       " 'encoder': Pipeline(steps=[('imputer',\n",
       "                  SimpleImputer(fill_value='missing_value',\n",
       "                                strategy='constant')),\n",
       "                 ('ohe',\n",
       "                  OneHotEncoder(handle_unknown='ignore', min_frequency=1))])}"
      ]
     },
     "execution_count": 9,
     "metadata": {},
     "output_type": "execute_result"
    }
   ],
   "source": [
    "onehot_encoding = Pipeline([\n",
    "    (\"imputer\", SimpleImputer(strategy=\"constant\", fill_value=\"missing_value\")),\n",
    "    (\"ohe\", OneHotEncoder(handle_unknown=\"ignore\"))\n",
    "])\n",
    "\n",
    "pipe = Pipeline([\n",
    "    (\"encoder\", None),\n",
    "    (\"model\", Ridge())\n",
    "])\n",
    "\n",
    "param_grid = [{\"encoder\": [onehot_encoding],\n",
    "               \"encoder__ohe__min_frequency\": list(range(1, 10)),\n",
    "               \"model__alpha\": np.arange(0.1, 50, 0.1)},\n",
    "              {\"encoder\": [TargetEncoder()],\n",
    "               \"encoder__smoothing\": [0.1, 0.5, 1.0, 5.0, 10., 20.],\n",
    "               \"model__alpha\": np.arange(0.1, 50, 0.1)}]\n",
    "\n",
    "search = RandomizedSearchCV(pipe, param_grid, n_iter=200, scoring=\"neg_mean_absolute_error\", return_train_score=True, n_jobs=-1, random_state=0)\n",
    "search.fit(X, y)\n",
    "\n",
    "print(f\"train score: {np.abs(search.cv_results_['mean_train_score'][search.best_index_])}\")\n",
    "print(f\"test score: {np.abs(search.cv_results_['mean_test_score'][search.best_index_])}\")\n",
    "search.best_params_"
   ]
  },
  {
   "cell_type": "code",
   "execution_count": 10,
   "id": "32317f64-37ac-458c-b306-ef61f508c28d",
   "metadata": {},
   "outputs": [
    {
     "name": "stdout",
     "output_type": "stream",
     "text": [
      "train score: 5826.881961503484\n",
      "test score: 6931.5997561434\n"
     ]
    },
    {
     "data": {
      "text/plain": [
       "{'model__l1_ratio': 0.8699999999999996,\n",
       " 'model__alpha': 0.089,\n",
       " 'encoder__ohe__min_frequency': 1,\n",
       " 'encoder': Pipeline(steps=[('imputer',\n",
       "                  SimpleImputer(fill_value='missing_value',\n",
       "                                strategy='constant')),\n",
       "                 ('ohe',\n",
       "                  OneHotEncoder(handle_unknown='ignore', min_frequency=1))])}"
      ]
     },
     "execution_count": 10,
     "metadata": {},
     "output_type": "execute_result"
    }
   ],
   "source": [
    "onehot_encoding = Pipeline([\n",
    "    (\"imputer\", SimpleImputer(strategy=\"constant\", fill_value=\"missing_value\")),\n",
    "    (\"ohe\", OneHotEncoder(handle_unknown=\"ignore\"))\n",
    "])\n",
    "\n",
    "pipe = Pipeline([\n",
    "    (\"encoder\", None),\n",
    "    (\"model\", ElasticNet())\n",
    "])\n",
    "\n",
    "param_grid = [{\"encoder\": [onehot_encoding],\n",
    "               \"encoder__ohe__min_frequency\": list(range(1, 10)),\n",
    "               \"model__alpha\": np.arange(0.001, 0.1, 0.001),\n",
    "               \"model__l1_ratio\": np.arange(0.1, 1, 0.01)},\n",
    "              {\"encoder\": [TargetEncoder()],\n",
    "               \"encoder__smoothing\": [0.1, 0.5, 1.0, 5.0, 10., 20.],\n",
    "               \"model__alpha\": np.arange(0.001, 0.1, 0.001),\n",
    "               \"model__l1_ratio\": np.arange(0.1, 1, 0.01)}]\n",
    "\n",
    "search = RandomizedSearchCV(pipe, param_grid, n_iter=200, scoring=\"neg_mean_absolute_error\", return_train_score=True, n_jobs=-1, random_state=0)\n",
    "search.fit(X, y)\n",
    "\n",
    "print(f\"train score: {np.abs(search.cv_results_['mean_train_score'][search.best_index_])}\")\n",
    "print(f\"test score: {np.abs(search.cv_results_['mean_test_score'][search.best_index_])}\")\n",
    "search.best_params_"
   ]
  },
  {
   "cell_type": "markdown",
   "id": "78c55e02-a855-4072-add5-ba88ca751edd",
   "metadata": {},
   "source": [
    "All three variants of regularization offer a significant improvement over the variant without regularization. Lasso regression performs even slightly better than the other two variants, indicating that there are some irrelevant features in the data. In all three cases, pre-processing using One Hot Encoder without an aggregation of rare categories yielded the best results.\n",
    "\n",
    "Next, we check whether a log transformation of the target can lead to a further improvement."
   ]
  },
  {
   "cell_type": "code",
   "execution_count": 11,
   "id": "1b15ff14-3897-490e-98d3-a8961cd41101",
   "metadata": {},
   "outputs": [
    {
     "name": "stdout",
     "output_type": "stream",
     "text": [
      "train score: 5340.844975661702\n",
      "test score: 6684.044649814519\n"
     ]
    },
    {
     "data": {
      "text/plain": [
       "{'model__regressor__alpha': 0.00019,\n",
       " 'encoder__ohe__min_frequency': 1,\n",
       " 'encoder': Pipeline(steps=[('imputer',\n",
       "                  SimpleImputer(fill_value='missing_value',\n",
       "                                strategy='constant')),\n",
       "                 ('ohe',\n",
       "                  OneHotEncoder(handle_unknown='ignore', min_frequency=1))])}"
      ]
     },
     "execution_count": 11,
     "metadata": {},
     "output_type": "execute_result"
    }
   ],
   "source": [
    "onehot_encoding = Pipeline([\n",
    "    (\"imputer\", SimpleImputer(strategy=\"constant\", fill_value=\"missing_value\")),\n",
    "    (\"ohe\", OneHotEncoder(handle_unknown=\"ignore\"))\n",
    "])\n",
    "\n",
    "pipe = Pipeline([\n",
    "    (\"encoder\", None),\n",
    "    (\"model\", TransformedTargetRegressor(Lasso(), func=np.log, inverse_func=np.exp))\n",
    "])\n",
    "\n",
    "param_grid = [{\"encoder\": [onehot_encoding],\n",
    "               \"encoder__ohe__min_frequency\": list(range(1, 10)),\n",
    "               \"model__regressor__alpha\": np.arange(1e-5, 1e-3, 1e-5)},\n",
    "              {\"encoder\": [TargetEncoder()],\n",
    "               \"encoder__smoothing\": [0.1, 0.5, 1.0, 5.0, 10., 20.],\n",
    "               \"model__regressor__alpha\": np.arange(1e-5, 1e-3, 1e-5)}]\n",
    "\n",
    "search = RandomizedSearchCV(pipe, param_grid, n_iter=200, scoring=\"neg_mean_absolute_error\", return_train_score=True, n_jobs=-1, random_state=0)\n",
    "search.fit(X, y)\n",
    "\n",
    "print(f\"train score: {np.abs(search.cv_results_['mean_train_score'][search.best_index_])}\")\n",
    "print(f\"test score: {np.abs(search.cv_results_['mean_test_score'][search.best_index_])}\")\n",
    "search.best_params_"
   ]
  },
  {
   "cell_type": "code",
   "execution_count": 12,
   "id": "044cb755-1b4e-49fd-94c3-da45722af808",
   "metadata": {},
   "outputs": [
    {
     "name": "stdout",
     "output_type": "stream",
     "text": [
      "train score: 5237.564967640477\n",
      "test score: 6762.103891264776\n"
     ]
    },
    {
     "data": {
      "text/plain": [
       "{'model__regressor__alpha': 5.0,\n",
       " 'encoder__ohe__min_frequency': 1,\n",
       " 'encoder': Pipeline(steps=[('imputer',\n",
       "                  SimpleImputer(fill_value='missing_value',\n",
       "                                strategy='constant')),\n",
       "                 ('ohe',\n",
       "                  OneHotEncoder(handle_unknown='ignore', min_frequency=1))])}"
      ]
     },
     "execution_count": 12,
     "metadata": {},
     "output_type": "execute_result"
    }
   ],
   "source": [
    "onehot_encoding = Pipeline([\n",
    "    (\"imputer\", SimpleImputer(strategy=\"constant\", fill_value=\"missing_value\")),\n",
    "    (\"ohe\", OneHotEncoder(handle_unknown=\"ignore\"))\n",
    "])\n",
    "\n",
    "pipe = Pipeline([\n",
    "    (\"encoder\", None),\n",
    "    (\"model\", TransformedTargetRegressor(Ridge(), func=np.log, inverse_func=np.exp))\n",
    "])\n",
    "\n",
    "param_grid = [{\"encoder\": [onehot_encoding],\n",
    "               \"encoder__ohe__min_frequency\": list(range(1, 10)),\n",
    "               \"model__regressor__alpha\": np.arange(0.1, 50, 0.1)},\n",
    "              {\"encoder\": [TargetEncoder()],\n",
    "               \"encoder__smoothing\": [0.1, 0.5, 1.0, 5.0, 10., 20.],\n",
    "               \"model__regressor__alpha\": np.arange(0.1, 50, 0.1)}]\n",
    "\n",
    "search = RandomizedSearchCV(pipe, param_grid, n_iter=200, scoring=\"neg_mean_absolute_error\", return_train_score=True, n_jobs=-1, random_state=0)\n",
    "search.fit(X, y)\n",
    "\n",
    "print(f\"train score: {np.abs(search.cv_results_['mean_train_score'][search.best_index_])}\")\n",
    "print(f\"test score: {np.abs(search.cv_results_['mean_test_score'][search.best_index_])}\")\n",
    "search.best_params_"
   ]
  },
  {
   "cell_type": "code",
   "execution_count": 13,
   "id": "0d08c963-f557-4ee1-acf9-16fdde9a610c",
   "metadata": {},
   "outputs": [
    {
     "name": "stdout",
     "output_type": "stream",
     "text": [
      "train score: 5398.6269305724145\n",
      "test score: 6713.6180083879535\n"
     ]
    },
    {
     "data": {
      "text/plain": [
       "{'model__regressor__l1_ratio': 0.15999999999999998,\n",
       " 'model__regressor__alpha': 0.00093,\n",
       " 'encoder__ohe__min_frequency': 1,\n",
       " 'encoder': Pipeline(steps=[('imputer',\n",
       "                  SimpleImputer(fill_value='missing_value',\n",
       "                                strategy='constant')),\n",
       "                 ('ohe',\n",
       "                  OneHotEncoder(handle_unknown='ignore', min_frequency=1))])}"
      ]
     },
     "execution_count": 13,
     "metadata": {},
     "output_type": "execute_result"
    }
   ],
   "source": [
    "onehot_encoding = Pipeline([\n",
    "    (\"imputer\", SimpleImputer(strategy=\"constant\", fill_value=\"missing_value\")),\n",
    "    (\"ohe\", OneHotEncoder(handle_unknown=\"ignore\"))\n",
    "])\n",
    "\n",
    "pipe = Pipeline([\n",
    "    (\"encoder\", None),\n",
    "    (\"model\", TransformedTargetRegressor(ElasticNet(), func=np.log, inverse_func=np.exp))\n",
    "])\n",
    "\n",
    "param_grid = [{\"encoder\": [onehot_encoding],\n",
    "               \"encoder__ohe__min_frequency\": list(range(1, 10)),\n",
    "               \"model__regressor__alpha\": np.arange(1e-5, 1e-3, 1e-5),\n",
    "               \"model__regressor__l1_ratio\": np.arange(0.1, 1, 0.01)},\n",
    "              {\"encoder\": [TargetEncoder()],\n",
    "               \"encoder__smoothing\": [0.1, 0.5, 1.0, 5.0, 10., 20.],\n",
    "               \"model__regressor__alpha\": np.arange(1e-5, 1e-3, 1e-5),\n",
    "               \"model__regressor__l1_ratio\": np.arange(0.1, 1, 0.01)}]\n",
    "\n",
    "search = RandomizedSearchCV(pipe, param_grid, n_iter=200, scoring=\"neg_mean_absolute_error\", return_train_score=True, n_jobs=-1, random_state=0)\n",
    "search.fit(X, y)\n",
    "\n",
    "print(f\"train score: {np.abs(search.cv_results_['mean_train_score'][search.best_index_])}\")\n",
    "print(f\"test score: {np.abs(search.cv_results_['mean_test_score'][search.best_index_])}\")\n",
    "search.best_params_"
   ]
  },
  {
   "cell_type": "markdown",
   "id": "9a79e433-c6f3-491e-91ca-273483068320",
   "metadata": {},
   "source": [
    "The transformation of the target reduces the error significantly in all three cases. The lasso regression still delivers slightly better results than the other two variants and will therefore be further improved in the following step. Finally, we will investigate whether the inclusion of interactions between features can improve the predictions."
   ]
  },
  {
   "cell_type": "code",
   "execution_count": 14,
   "id": "53222b71-a392-4091-a084-4bf514ae118b",
   "metadata": {},
   "outputs": [
    {
     "name": "stdout",
     "output_type": "stream",
     "text": [
      "train score: 5487.235980491269\n",
      "test score: 7051.935364174463\n"
     ]
    },
    {
     "data": {
      "text/plain": [
       "{'model__regressor__alpha': 0.0009700000000000002,\n",
       " 'encoder__ohe__min_frequency': 4,\n",
       " 'encoder': Pipeline(steps=[('imputer',\n",
       "                  SimpleImputer(fill_value='missing_value',\n",
       "                                strategy='constant')),\n",
       "                 ('ohe',\n",
       "                  OneHotEncoder(handle_unknown='ignore', min_frequency=4))])}"
      ]
     },
     "execution_count": 14,
     "metadata": {},
     "output_type": "execute_result"
    }
   ],
   "source": [
    "onehot_encoding = Pipeline([\n",
    "    (\"imputer\", SimpleImputer(strategy=\"constant\", fill_value=\"missing_value\")),\n",
    "    (\"ohe\", OneHotEncoder(handle_unknown=\"ignore\"))\n",
    "])\n",
    "\n",
    "pipe = Pipeline([\n",
    "    (\"encoder\", None),\n",
    "    (\"features\", PolynomialFeatures(include_bias=False)),\n",
    "    (\"model\", TransformedTargetRegressor(Lasso(), func=np.log, inverse_func=np.exp))\n",
    "])\n",
    "\n",
    "param_grid = [{\"encoder\": [onehot_encoding],\n",
    "               \"encoder__ohe__min_frequency\": list(range(1, 10)),\n",
    "               \"model__regressor__alpha\": np.arange(1e-5, 1e-2, 1e-5)},\n",
    "              {\"encoder\": [TargetEncoder()],\n",
    "               \"encoder__smoothing\": [0.1, 0.5, 1.0, 5.0, 10., 20.],\n",
    "               \"model__regressor__alpha\": np.arange(1e-5, 1e-2, 1e-5)}]\n",
    "\n",
    "search = RandomizedSearchCV(pipe, param_grid, n_iter=200, scoring=\"neg_mean_absolute_error\", return_train_score=True, n_jobs=-1, random_state=0)\n",
    "search.fit(X, y)\n",
    "\n",
    "print(f\"train score: {np.abs(search.cv_results_['mean_train_score'][search.best_index_])}\")\n",
    "print(f\"test score: {np.abs(search.cv_results_['mean_test_score'][search.best_index_])}\")\n",
    "search.best_params_"
   ]
  },
  {
   "cell_type": "markdown",
   "id": "5af9acc1-0e6e-402f-9c83-4a4a7c491b3b",
   "metadata": {},
   "source": [
    "Including nonlinear relationships and interaction in the regression did not improve the performance. Since there are now significantly more features available, the model is more susceptible to overfitting, which could explain the larger error in contrast to the simpler model."
   ]
  },
  {
   "cell_type": "markdown",
   "id": "031fdf33-d4e1-4953-a1b4-9f31e1718dcd",
   "metadata": {},
   "source": [
    " "
   ]
  },
  {
   "cell_type": "markdown",
   "id": "fe3e03d0-3c96-4e9f-b615-2fcc3d2c0b2a",
   "metadata": {},
   "source": [
    "<a id=\"non-linear_models\"></a>"
   ]
  },
  {
   "cell_type": "markdown",
   "id": "6c78c891-5897-4b70-bee2-83bf9961b472",
   "metadata": {},
   "source": [
    "## Non-linear Models"
   ]
  },
  {
   "cell_type": "markdown",
   "id": "757de56f-aa50-4293-8e85-ef80b455e6be",
   "metadata": {},
   "source": [
    "Having found an efficient and easy-to-interpret model in Lasso Regression, we will now examine whether its performance can be surpassed by a selection of more complex models. For this purpose, three different algorithms are examined in the following:\n",
    "\n",
    "- Support Vector Regression\n",
    "- Random Forest\n",
    "- Gradient Boosting (XG Boost, Light GBM)"
   ]
  },
  {
   "cell_type": "code",
   "execution_count": 15,
   "id": "728e0503-70b2-4722-8806-50704ba97979",
   "metadata": {},
   "outputs": [
    {
     "name": "stdout",
     "output_type": "stream",
     "text": [
      "train score: 3477.392545830809\n",
      "test score: 6733.756571252081\n"
     ]
    },
    {
     "data": {
      "text/plain": [
       "{'model__kernel': 'rbf',\n",
       " 'model__epsilon': 0.001,\n",
       " 'model__C': 50000,\n",
       " 'encoder__ohe__min_frequency': 1,\n",
       " 'encoder': Pipeline(steps=[('imputer',\n",
       "                  SimpleImputer(fill_value='missing_value',\n",
       "                                strategy='constant')),\n",
       "                 ('ohe',\n",
       "                  OneHotEncoder(handle_unknown='ignore', min_frequency=1))])}"
      ]
     },
     "execution_count": 15,
     "metadata": {},
     "output_type": "execute_result"
    }
   ],
   "source": [
    "onehot_encoding = Pipeline([\n",
    "    (\"imputer\", SimpleImputer(strategy=\"constant\", fill_value=\"missing_value\")),\n",
    "    (\"ohe\", OneHotEncoder(handle_unknown=\"ignore\"))\n",
    "])\n",
    "\n",
    "pipe = Pipeline([\n",
    "    (\"encoder\", None),\n",
    "    (\"model\", SVR(max_iter=10000))\n",
    "])\n",
    "\n",
    "param_grid = [{\"encoder\": [onehot_encoding],\n",
    "               \"encoder__ohe__min_frequency\": list(range(1, 10)),\n",
    "               \"model__C\": [1000, 5000, 10000, 20000, 50000, 100000],\n",
    "               \"model__kernel\": [\"linear\", \"rbf\", \"poly\"],\n",
    "               \"model__epsilon\": [0.0001, 0.001, 0.01, 0.1, 1, 10]},\n",
    "              {\"encoder\": [TargetEncoder()],\n",
    "               \"encoder__smoothing\": [0.1, 0.5, 1.0, 5.0, 10., 20.],\n",
    "               \"model__C\": [1000, 2500, 5000, 7500, 10000, 20000, 50000, 100000],\n",
    "               \"model__kernel\": [\"linear\", \"rbf\", \"poly\"],\n",
    "               \"model__epsilon\": [0.0001, 0.001, 0.01, 0.1, 1, 10]}]\n",
    "\n",
    "search = RandomizedSearchCV(pipe, param_grid, n_iter=200, scoring=\"neg_mean_absolute_error\", return_train_score=True, n_jobs=-1, random_state=0)\n",
    "search.fit(X, y)\n",
    "\n",
    "print(f\"train score: {np.abs(search.cv_results_['mean_train_score'][search.best_index_])}\")\n",
    "print(f\"test score: {np.abs(search.cv_results_['mean_test_score'][search.best_index_])}\")\n",
    "search.best_params_"
   ]
  },
  {
   "cell_type": "code",
   "execution_count": 16,
   "id": "eeb9b94b-f32a-4305-a3e2-ec99ce501b33",
   "metadata": {},
   "outputs": [
    {
     "name": "stdout",
     "output_type": "stream",
     "text": [
      "train score: 4653.230951565922\n",
      "test score: 6849.8684672494255\n"
     ]
    },
    {
     "data": {
      "text/plain": [
       "{'model__n_estimators': 1000,\n",
       " 'model__min_samples_leaf': 3,\n",
       " 'model__max_samples': 0.9,\n",
       " 'model__max_features': 0.3,\n",
       " 'model__max_depth': 30,\n",
       " 'model__criterion': 'absolute_error',\n",
       " 'model__ccp_alpha': 10,\n",
       " 'encoder__smoothing': 0.5,\n",
       " 'encoder': TargetEncoder(smoothing=0.5)}"
      ]
     },
     "execution_count": 16,
     "metadata": {},
     "output_type": "execute_result"
    }
   ],
   "source": [
    "onehot_encoding = Pipeline([\n",
    "    (\"imputer\", SimpleImputer(strategy=\"constant\", fill_value=\"missing_value\")),\n",
    "    (\"ohe\", OneHotEncoder(handle_unknown=\"ignore\"))\n",
    "])\n",
    "\n",
    "pipe = Pipeline([\n",
    "    (\"encoder\", None),\n",
    "    (\"model\", RandomForestRegressor(random_state=0))\n",
    "])\n",
    "\n",
    "param_grid = [{\"encoder\": [onehot_encoding],               \n",
    "               \"encoder__ohe__min_frequency\": list(range(1, 10)),\n",
    "               \"model__criterion\": [\"squared_error\", \"absolute_error\"],\n",
    "               \"model__n_estimators\": [100, 200, 500, 1000, 2000], \n",
    "               \"model__max_depth\": [5, 10, 15, 20, 30, None],\n",
    "               \"model__max_features\": [0.3, 0.5, 0.7, 0.9, 1],\n",
    "               \"model__max_samples\": [0.3, 0.5, 0.7, 0.9, 1],\n",
    "               \"model__min_samples_leaf\": [1, 3, 5],\n",
    "               \"model__ccp_alpha\": [0, 0.5, 1, 5, 10, 20, 50]},\n",
    "              {\"encoder\": [TargetEncoder()],\n",
    "               \"encoder__smoothing\": [0.1, 0.5, 1.0, 5.0, 10., 20.],\n",
    "               \"model__criterion\": [\"squared_error\", \"absolute_error\"],\n",
    "               \"model__n_estimators\": [100, 200, 500, 1000, 2000], \n",
    "               \"model__max_depth\": [5, 10, 15, 20, 30, None],\n",
    "               \"model__max_features\": [0.3, 0.5, 0.7, 0.9, 1],\n",
    "               \"model__max_samples\": [0.3, 0.5, 0.7, 0.9, 1],\n",
    "               \"model__min_samples_leaf\": [1, 3, 5],\n",
    "               \"model__ccp_alpha\": [0, 0.5, 1, 5, 10, 20, 50]}]\n",
    "\n",
    "search = RandomizedSearchCV(pipe, param_grid, n_iter=200, scoring=\"neg_mean_absolute_error\", return_train_score=True, n_jobs=-1, random_state=0)\n",
    "search.fit(X, y)\n",
    "\n",
    "print(f\"train score: {np.abs(search.cv_results_['mean_train_score'][search.best_index_])}\")\n",
    "print(f\"test score: {np.abs(search.cv_results_['mean_test_score'][search.best_index_])}\")\n",
    "search.best_params_"
   ]
  },
  {
   "cell_type": "code",
   "execution_count": 17,
   "id": "891a5f27-8edf-4cc4-be8d-623cd08a27bb",
   "metadata": {},
   "outputs": [
    {
     "name": "stdout",
     "output_type": "stream",
     "text": [
      "train score: 3405.9639185662577\n",
      "test score: 6729.632623378018\n"
     ]
    },
    {
     "data": {
      "text/plain": [
       "{'model__subsample': 0.9,\n",
       " 'model__reg_lambda': 1,\n",
       " 'model__reg_alpha': 0,\n",
       " 'model__n_estimators': 1000,\n",
       " 'model__max_depth': 8,\n",
       " 'model__learning_rate': 0.01,\n",
       " 'model__gamma': 1,\n",
       " 'model__colsample_bytree': 0.5,\n",
       " 'model__colsample_bynode': 0.9,\n",
       " 'model__colsample_bylevel': 1,\n",
       " 'encoder__ohe__min_frequency': 1,\n",
       " 'encoder': Pipeline(steps=[('imputer',\n",
       "                  SimpleImputer(fill_value='missing_value',\n",
       "                                strategy='constant')),\n",
       "                 ('ohe',\n",
       "                  OneHotEncoder(handle_unknown='ignore', min_frequency=1))])}"
      ]
     },
     "execution_count": 17,
     "metadata": {},
     "output_type": "execute_result"
    }
   ],
   "source": [
    "onehot_encoding = Pipeline([\n",
    "    (\"imputer\", SimpleImputer(strategy=\"constant\", fill_value=\"missing_value\")),\n",
    "    (\"ohe\", OneHotEncoder(handle_unknown=\"ignore\"))\n",
    "])\n",
    "\n",
    "pipe = Pipeline([\n",
    "    (\"encoder\", None),\n",
    "    (\"model\", XGBRegressor(random_state=0))\n",
    "])\n",
    "\n",
    "param_grid = [{\"encoder\": [onehot_encoding],               \n",
    "               \"encoder__ohe__min_frequency\": list(range(1, 10)),\n",
    "               \"model__n_estimators\": np.arange(200, 2000, 100), \n",
    "               \"model__learning_rate\": [0.01, 0.05, 0.1, 0.2],\n",
    "               \"model__max_depth\": [4, 6, 8, 10, 15, 20],\n",
    "               \"model__subsample\": [0.3, 0.5, 0.7, 0.9, 1],\n",
    "               \"model__colsample_bylevel\": [0.5, 0.7, 0.9, 1],\n",
    "               \"model__colsample_bytree\": [0.5, 0.7, 0.9, 1],\n",
    "               \"model__colsample_bynode\": [0.5, 0.7, 0.9, 1],\n",
    "               \"model__reg_lambda\": [0, 1, 3, 5, 10, 20],\n",
    "               \"model__reg_alpha\": [0, 1, 3, 5, 10, 20],\n",
    "               \"model__gamma\": [0, 1, 3, 5, 10, 20]},\n",
    "              {\"encoder\": [TargetEncoder()],\n",
    "               \"encoder__smoothing\": [0.1, 0.5, 1.0, 5.0, 10., 20.],\n",
    "               \"model__n_estimators\": np.arange(200, 2000, 100), \n",
    "               \"model__learning_rate\": [0.01, 0.05, 0.1, 0.2],\n",
    "               \"model__max_depth\": [4, 6, 8, 10, 15, 20],\n",
    "               \"model__subsample\": [0.3, 0.5, 0.7, 0.9, 1],\n",
    "               \"model__colsample_bylevel\": [0.5, 0.7, 0.9, 1],\n",
    "               \"model__colsample_bytree\": [0.5, 0.7, 0.9, 1],\n",
    "               \"model__colsample_bynode\": [0.5, 0.7, 0.9, 1],\n",
    "               \"model__reg_lambda\": [0, 1, 3, 5, 10, 20],\n",
    "               \"model__reg_alpha\": [0, 1, 3, 5, 10, 20],\n",
    "               \"model__gamma\": [0, 1, 3, 5, 10, 20]}]\n",
    "\n",
    "search = RandomizedSearchCV(pipe, param_grid, n_iter=200, scoring=\"neg_mean_absolute_error\", return_train_score=True, n_jobs=-1, random_state=0)\n",
    "search.fit(X, y)\n",
    "\n",
    "print(f\"train score: {np.abs(search.cv_results_['mean_train_score'][search.best_index_])}\")\n",
    "print(f\"test score: {np.abs(search.cv_results_['mean_test_score'][search.best_index_])}\")\n",
    "search.best_params_"
   ]
  },
  {
   "cell_type": "code",
   "execution_count": 18,
   "id": "1ec6557a-1b55-4c89-a77c-0d448b077235",
   "metadata": {},
   "outputs": [
    {
     "name": "stdout",
     "output_type": "stream",
     "text": [
      "train score: 4371.077525454691\n",
      "test score: 6795.416013913809\n"
     ]
    },
    {
     "data": {
      "text/plain": [
       "{'model__subsample': 0.2,\n",
       " 'model__reg_lambda': 7,\n",
       " 'model__n_estimators': 700,\n",
       " 'model__min_split_gain': 4,\n",
       " 'model__max_depth': 7,\n",
       " 'model__learning_rate': 0.03,\n",
       " 'model__colsample_bytree': 0.2,\n",
       " 'encoder__smoothing': 20.0,\n",
       " 'encoder': TargetEncoder(smoothing=20.0)}"
      ]
     },
     "execution_count": 18,
     "metadata": {},
     "output_type": "execute_result"
    }
   ],
   "source": [
    "onehot_encoding = Pipeline([\n",
    "    (\"imputer\", SimpleImputer(strategy=\"constant\", fill_value=\"missing_value\")),\n",
    "    (\"ohe\", OneHotEncoder(handle_unknown=\"ignore\"))\n",
    "])\n",
    "\n",
    "pipe = Pipeline([\n",
    "    (\"encoder\", None),\n",
    "    (\"model\", LGBMRegressor(random_state=0))\n",
    "])\n",
    "\n",
    "param_grid = [{\"encoder\": [onehot_encoding],\n",
    "               \"encoder__ohe__min_frequency\": list(range(1, 10)),\n",
    "               \"model__colsample_bytree\": np.arange(0.1, 1, 0.1), \n",
    "               \"model__subsample\": np.arange(0.1, 1, 0.1),\n",
    "               \"model__learning_rate\": np.arange(0.01, 0.1, 0.01),\n",
    "               \"model__n_estimators\": np.arange(200, 2000, 100), \n",
    "               \"model__min_split_gain\": np.arange(0, 10, 1),\n",
    "               \"model__reg_lambda\": np.arange(0, 10, 1), \n",
    "               \"model__max_depth\": np.arange(5, 20, 2)},\n",
    "              {\"encoder\": [TargetEncoder()],\n",
    "               \"encoder__smoothing\": [0.1, 0.5, 1.0, 5.0, 10., 20.],\n",
    "               \"model__colsample_bytree\": np.arange(0.1, 1, 0.1), \n",
    "               \"model__subsample\": np.arange(0.1, 1, 0.1),\n",
    "               \"model__learning_rate\": np.arange(0.01, 0.1, 0.01),\n",
    "               \"model__n_estimators\": np.arange(200, 2000, 100), \n",
    "               \"model__min_split_gain\": np.arange(0, 10, 1),\n",
    "               \"model__reg_lambda\": np.arange(0, 10, 1), \n",
    "               \"model__max_depth\": np.arange(5, 20, 2)\n",
    "              }]\n",
    "\n",
    "search = RandomizedSearchCV(pipe, param_grid, n_iter=200, scoring=\"neg_mean_absolute_error\", return_train_score=True, n_jobs=-1, random_state=0)\n",
    "search.fit(X, y)\n",
    "\n",
    "print(f\"train score: {np.abs(search.cv_results_['mean_train_score'][search.best_index_])}\")\n",
    "print(f\"test score: {np.abs(search.cv_results_['mean_test_score'][search.best_index_])}\")\n",
    "search.best_params_"
   ]
  },
  {
   "cell_type": "markdown",
   "id": "bafe22a2-1898-4889-a5d1-d7f42c905aff",
   "metadata": {},
   "source": [
    "None of the models could outperform the linear model. This can have two possible reasons:\n",
    "\n",
    "- since the values of the target itself are already predictions of a machine learning model trained by Stepstone, it may be that the underlying relationship of the variables is indeed linear, if Stepstone also used only a linear model for better interpretability\n",
    "- the amount of data available is too small to prevent the more complex models from overfitting on the training data.\n",
    "\n",
    "Since especially the XGBoost and LightGBM regressor have a lot of hyperparameters, it can definitely possible to improve the results by a more exhaustive hyperparameter tuning. Also further developments like CatBoost could possibly still lead to slight improvements. However, it is very unlikely that one would surpass the performance of the linear model by far. Since the linear model additionally ensures shorter training and inference times, lower memory requirements, and better interpretability, further optimization of the nonlinear models is not performed at this point."
   ]
  },
  {
   "cell_type": "markdown",
   "id": "1a30ea7e-e018-4489-82ba-a8cd03dd596d",
   "metadata": {},
   "source": [
    " "
   ]
  },
  {
   "cell_type": "markdown",
   "id": "b17561a3-886c-4b7a-99e3-66ac42331150",
   "metadata": {},
   "source": [
    "<a id=\"feature_selection\"></a>"
   ]
  },
  {
   "cell_type": "markdown",
   "id": "4b9c6217-eaee-49bd-816e-29636483dbc1",
   "metadata": {},
   "source": [
    "## Feature Selection"
   ]
  },
  {
   "cell_type": "markdown",
   "id": "e81d52d0-fcb0-4a48-bb38-d2bf99925f70",
   "metadata": {},
   "source": [
    "The previous models were all trained with the full set of features. However, it is quite possible that only a subset of the features is important in terms of predicting the target. Therefore, at this point we try again to improve the model by using a wrapper based feature selection approach."
   ]
  },
  {
   "cell_type": "code",
   "execution_count": 19,
   "id": "e3fd5757-13a6-481d-aaac-3dd31eaaeeab",
   "metadata": {},
   "outputs": [
    {
     "name": "stderr",
     "output_type": "stream",
     "text": [
      "100%|█████████████████████████████████████████████████████████| 95/95 [1:52:09<00:00, 70.84s/it]\n"
     ]
    },
    {
     "data": {
      "text/html": [
       "<div>\n",
       "<style scoped>\n",
       "    .dataframe tbody tr th:only-of-type {\n",
       "        vertical-align: middle;\n",
       "    }\n",
       "\n",
       "    .dataframe tbody tr th {\n",
       "        vertical-align: top;\n",
       "    }\n",
       "\n",
       "    .dataframe thead th {\n",
       "        text-align: right;\n",
       "    }\n",
       "</style>\n",
       "<table border=\"1\" class=\"dataframe\">\n",
       "  <thead>\n",
       "    <tr style=\"text-align: right;\">\n",
       "      <th></th>\n",
       "      <th>num_features</th>\n",
       "      <th>last_features</th>\n",
       "      <th>scores</th>\n",
       "    </tr>\n",
       "  </thead>\n",
       "  <tbody>\n",
       "    <tr>\n",
       "      <th>0</th>\n",
       "      <td>95</td>\n",
       "      <td>initiative</td>\n",
       "      <td>6684.044650</td>\n",
       "    </tr>\n",
       "    <tr>\n",
       "      <th>1</th>\n",
       "      <td>94</td>\n",
       "      <td>engineering</td>\n",
       "      <td>6665.385866</td>\n",
       "    </tr>\n",
       "    <tr>\n",
       "      <th>2</th>\n",
       "      <td>93</td>\n",
       "      <td>flexibility</td>\n",
       "      <td>6647.342879</td>\n",
       "    </tr>\n",
       "    <tr>\n",
       "      <th>3</th>\n",
       "      <td>92</td>\n",
       "      <td>motivation</td>\n",
       "      <td>6630.802836</td>\n",
       "    </tr>\n",
       "    <tr>\n",
       "      <th>4</th>\n",
       "      <td>91</td>\n",
       "      <td>css</td>\n",
       "      <td>6614.155311</td>\n",
       "    </tr>\n",
       "    <tr>\n",
       "      <th>...</th>\n",
       "      <td>...</td>\n",
       "      <td>...</td>\n",
       "      <td>...</td>\n",
       "    </tr>\n",
       "    <tr>\n",
       "      <th>90</th>\n",
       "      <td>5</td>\n",
       "      <td>main_location</td>\n",
       "      <td>6741.606681</td>\n",
       "    </tr>\n",
       "    <tr>\n",
       "      <th>91</th>\n",
       "      <td>4</td>\n",
       "      <td>company_size</td>\n",
       "      <td>6898.304995</td>\n",
       "    </tr>\n",
       "    <tr>\n",
       "      <th>92</th>\n",
       "      <td>3</td>\n",
       "      <td>title_category</td>\n",
       "      <td>7065.936719</td>\n",
       "    </tr>\n",
       "    <tr>\n",
       "      <th>93</th>\n",
       "      <td>2</td>\n",
       "      <td>experience_level</td>\n",
       "      <td>7551.409275</td>\n",
       "    </tr>\n",
       "    <tr>\n",
       "      <th>94</th>\n",
       "      <td>1</td>\n",
       "      <td>company</td>\n",
       "      <td>8153.754062</td>\n",
       "    </tr>\n",
       "  </tbody>\n",
       "</table>\n",
       "<p>95 rows × 3 columns</p>\n",
       "</div>"
      ],
      "text/plain": [
       "    num_features     last_features       scores\n",
       "0             95        initiative  6684.044650\n",
       "1             94       engineering  6665.385866\n",
       "2             93       flexibility  6647.342879\n",
       "3             92        motivation  6630.802836\n",
       "4             91               css  6614.155311\n",
       "..           ...               ...          ...\n",
       "90             5     main_location  6741.606681\n",
       "91             4      company_size  6898.304995\n",
       "92             3    title_category  7065.936719\n",
       "93             2  experience_level  7551.409275\n",
       "94             1           company  8153.754062\n",
       "\n",
       "[95 rows x 3 columns]"
      ]
     },
     "execution_count": 19,
     "metadata": {},
     "output_type": "execute_result"
    }
   ],
   "source": [
    "X2 = X.copy()\n",
    "\n",
    "pipe = Pipeline([\n",
    "    (\"imputer\", SimpleImputer(strategy=\"constant\", fill_value=\"missing_value\")),\n",
    "    (\"encoder\", OneHotEncoder(handle_unknown=\"ignore\")),\n",
    "    (\"model\", TransformedTargetRegressor(Lasso(alpha=0.00019), func=np.log, inverse_func=np.exp))\n",
    "])\n",
    "\n",
    "scores = []\n",
    "features = []\n",
    "num_features = []\n",
    "\n",
    "for i in tqdm(range(len(X2.columns))):\n",
    "    importances = []\n",
    "    baselines = []\n",
    "    kfold = KFold(5)\n",
    "    diffs = defaultdict(list)\n",
    "    for train_idx, val_idx in kfold.split(X2):\n",
    "        X_train = X2.iloc[train_idx]\n",
    "        X_val = X2.iloc[val_idx]\n",
    "        y_train = y.iloc[train_idx]\n",
    "        y_val = y.iloc[val_idx]\n",
    "\n",
    "        pipe.fit(X_train, y_train)\n",
    "        preds = pipe.predict(X_val)\n",
    "        baseline = mean_absolute_error(y_val, preds)\n",
    "        baselines.append(baseline)\n",
    "\n",
    "        if len(X2.columns) > 1:\n",
    "            for col in X2.columns:\n",
    "                pipe.fit(X_train.drop(col, axis=1), y_train)\n",
    "                preds = pipe.predict(X_val.drop(col, axis=1))\n",
    "                mae = mean_absolute_error(y_val, preds)\n",
    "                diffs[col].append(mae-baseline)\n",
    "    \n",
    "    if len(X2.columns) > 1:\n",
    "        importances = pd.DataFrame(diffs).T.mean(axis=1).sort_values(ascending=False)\n",
    "        last = importances.index[-1]\n",
    "    else:\n",
    "        last = X2.columns[0]\n",
    "    scores.append(np.mean(baselines))\n",
    "    features.append(last)\n",
    "    num_features.append(len(X2.columns))\n",
    "    X2 = X2.drop(last, axis=1)\n",
    "    \n",
    "results_selection = pd.DataFrame({\"num_features\": num_features, \"last_features\": features, \"scores\": scores})\n",
    "results_selection"
   ]
  },
  {
   "cell_type": "code",
   "execution_count": 20,
   "id": "ab29a70c-b66c-41a6-bc01-d50e908c57ee",
   "metadata": {},
   "outputs": [
    {
     "data": {
      "text/html": [
       "<div>\n",
       "<style scoped>\n",
       "    .dataframe tbody tr th:only-of-type {\n",
       "        vertical-align: middle;\n",
       "    }\n",
       "\n",
       "    .dataframe tbody tr th {\n",
       "        vertical-align: top;\n",
       "    }\n",
       "\n",
       "    .dataframe thead th {\n",
       "        text-align: right;\n",
       "    }\n",
       "</style>\n",
       "<table border=\"1\" class=\"dataframe\">\n",
       "  <thead>\n",
       "    <tr style=\"text-align: right;\">\n",
       "      <th></th>\n",
       "      <th>num_features</th>\n",
       "      <th>last_features</th>\n",
       "      <th>scores</th>\n",
       "    </tr>\n",
       "  </thead>\n",
       "  <tbody>\n",
       "    <tr>\n",
       "      <th>45</th>\n",
       "      <td>50</td>\n",
       "      <td>azure</td>\n",
       "      <td>6464.060311</td>\n",
       "    </tr>\n",
       "    <tr>\n",
       "      <th>46</th>\n",
       "      <td>49</td>\n",
       "      <td>linux</td>\n",
       "      <td>6463.083223</td>\n",
       "    </tr>\n",
       "    <tr>\n",
       "      <th>47</th>\n",
       "      <td>48</td>\n",
       "      <td>computer_vision</td>\n",
       "      <td>6462.603836</td>\n",
       "    </tr>\n",
       "    <tr>\n",
       "      <th>48</th>\n",
       "      <td>47</td>\n",
       "      <td>trainee</td>\n",
       "      <td>6462.523611</td>\n",
       "    </tr>\n",
       "    <tr>\n",
       "      <th>49</th>\n",
       "      <td>46</td>\n",
       "      <td>databricks</td>\n",
       "      <td>6462.521513</td>\n",
       "    </tr>\n",
       "    <tr>\n",
       "      <th>50</th>\n",
       "      <td>45</td>\n",
       "      <td>streamlit</td>\n",
       "      <td>6462.520597</td>\n",
       "    </tr>\n",
       "    <tr>\n",
       "      <th>51</th>\n",
       "      <td>44</td>\n",
       "      <td>plotly</td>\n",
       "      <td>6462.520597</td>\n",
       "    </tr>\n",
       "    <tr>\n",
       "      <th>52</th>\n",
       "      <td>43</td>\n",
       "      <td>numpy</td>\n",
       "      <td>6462.520597</td>\n",
       "    </tr>\n",
       "    <tr>\n",
       "      <th>53</th>\n",
       "      <td>42</td>\n",
       "      <td>permanent_employment</td>\n",
       "      <td>6462.520597</td>\n",
       "    </tr>\n",
       "    <tr>\n",
       "      <th>54</th>\n",
       "      <td>41</td>\n",
       "      <td>full_time</td>\n",
       "      <td>6462.520597</td>\n",
       "    </tr>\n",
       "    <tr>\n",
       "      <th>55</th>\n",
       "      <td>40</td>\n",
       "      <td>nltk</td>\n",
       "      <td>6462.520597</td>\n",
       "    </tr>\n",
       "    <tr>\n",
       "      <th>56</th>\n",
       "      <td>39</td>\n",
       "      <td>statsmodels</td>\n",
       "      <td>6462.520597</td>\n",
       "    </tr>\n",
       "    <tr>\n",
       "      <th>57</th>\n",
       "      <td>38</td>\n",
       "      <td>seaborn</td>\n",
       "      <td>6462.520597</td>\n",
       "    </tr>\n",
       "    <tr>\n",
       "      <th>58</th>\n",
       "      <td>37</td>\n",
       "      <td>scipy</td>\n",
       "      <td>6462.520597</td>\n",
       "    </tr>\n",
       "    <tr>\n",
       "      <th>59</th>\n",
       "      <td>36</td>\n",
       "      <td>swift</td>\n",
       "      <td>6462.520653</td>\n",
       "    </tr>\n",
       "    <tr>\n",
       "      <th>60</th>\n",
       "      <td>35</td>\n",
       "      <td>bigquery</td>\n",
       "      <td>6462.520855</td>\n",
       "    </tr>\n",
       "    <tr>\n",
       "      <th>61</th>\n",
       "      <td>34</td>\n",
       "      <td>matplotlib</td>\n",
       "      <td>6462.521337</td>\n",
       "    </tr>\n",
       "    <tr>\n",
       "      <th>62</th>\n",
       "      <td>33</td>\n",
       "      <td>spacy</td>\n",
       "      <td>6462.529416</td>\n",
       "    </tr>\n",
       "    <tr>\n",
       "      <th>63</th>\n",
       "      <td>32</td>\n",
       "      <td>tensorflow/keras</td>\n",
       "      <td>6462.589122</td>\n",
       "    </tr>\n",
       "    <tr>\n",
       "      <th>64</th>\n",
       "      <td>31</td>\n",
       "      <td>c++</td>\n",
       "      <td>6462.869690</td>\n",
       "    </tr>\n",
       "    <tr>\n",
       "      <th>65</th>\n",
       "      <td>30</td>\n",
       "      <td>teamwork</td>\n",
       "      <td>6463.410246</td>\n",
       "    </tr>\n",
       "    <tr>\n",
       "      <th>66</th>\n",
       "      <td>29</td>\n",
       "      <td>matlab</td>\n",
       "      <td>6464.543723</td>\n",
       "    </tr>\n",
       "    <tr>\n",
       "      <th>67</th>\n",
       "      <td>28</td>\n",
       "      <td>autonomous_driving</td>\n",
       "      <td>6465.037134</td>\n",
       "    </tr>\n",
       "    <tr>\n",
       "      <th>68</th>\n",
       "      <td>27</td>\n",
       "      <td>no_degree_info</td>\n",
       "      <td>6467.209485</td>\n",
       "    </tr>\n",
       "    <tr>\n",
       "      <th>69</th>\n",
       "      <td>26</td>\n",
       "      <td>r</td>\n",
       "      <td>6469.192256</td>\n",
       "    </tr>\n",
       "    <tr>\n",
       "      <th>70</th>\n",
       "      <td>25</td>\n",
       "      <td>sas</td>\n",
       "      <td>6470.698014</td>\n",
       "    </tr>\n",
       "    <tr>\n",
       "      <th>71</th>\n",
       "      <td>24</td>\n",
       "      <td>computer_science</td>\n",
       "      <td>6472.168621</td>\n",
       "    </tr>\n",
       "    <tr>\n",
       "      <th>72</th>\n",
       "      <td>23</td>\n",
       "      <td>snowflake</td>\n",
       "      <td>6473.710184</td>\n",
       "    </tr>\n",
       "    <tr>\n",
       "      <th>73</th>\n",
       "      <td>22</td>\n",
       "      <td>business_focus</td>\n",
       "      <td>6476.203495</td>\n",
       "    </tr>\n",
       "    <tr>\n",
       "      <th>74</th>\n",
       "      <td>21</td>\n",
       "      <td>perl</td>\n",
       "      <td>6478.603753</td>\n",
       "    </tr>\n",
       "    <tr>\n",
       "      <th>75</th>\n",
       "      <td>20</td>\n",
       "      <td>google_cloud</td>\n",
       "      <td>6481.674599</td>\n",
       "    </tr>\n",
       "    <tr>\n",
       "      <th>76</th>\n",
       "      <td>19</td>\n",
       "      <td>tableau</td>\n",
       "      <td>6485.315020</td>\n",
       "    </tr>\n",
       "    <tr>\n",
       "      <th>77</th>\n",
       "      <td>18</td>\n",
       "      <td>critical_thinking</td>\n",
       "      <td>6487.765202</td>\n",
       "    </tr>\n",
       "    <tr>\n",
       "      <th>78</th>\n",
       "      <td>17</td>\n",
       "      <td>html</td>\n",
       "      <td>6491.578287</td>\n",
       "    </tr>\n",
       "    <tr>\n",
       "      <th>79</th>\n",
       "      <td>16</td>\n",
       "      <td>flask</td>\n",
       "      <td>6497.685814</td>\n",
       "    </tr>\n",
       "    <tr>\n",
       "      <th>80</th>\n",
       "      <td>15</td>\n",
       "      <td>home_office_possible</td>\n",
       "      <td>6505.203470</td>\n",
       "    </tr>\n",
       "    <tr>\n",
       "      <th>81</th>\n",
       "      <td>14</td>\n",
       "      <td>deep_learning</td>\n",
       "      <td>6517.073164</td>\n",
       "    </tr>\n",
       "    <tr>\n",
       "      <th>82</th>\n",
       "      <td>13</td>\n",
       "      <td>main_industry</td>\n",
       "      <td>6526.030255</td>\n",
       "    </tr>\n",
       "    <tr>\n",
       "      <th>83</th>\n",
       "      <td>12</td>\n",
       "      <td>julia</td>\n",
       "      <td>6536.051887</td>\n",
       "    </tr>\n",
       "    <tr>\n",
       "      <th>84</th>\n",
       "      <td>11</td>\n",
       "      <td>multiple_locations</td>\n",
       "      <td>6535.325474</td>\n",
       "    </tr>\n",
       "    <tr>\n",
       "      <th>85</th>\n",
       "      <td>10</td>\n",
       "      <td>no_experience_information</td>\n",
       "      <td>6545.167971</td>\n",
       "    </tr>\n",
       "    <tr>\n",
       "      <th>86</th>\n",
       "      <td>9</td>\n",
       "      <td>hadoop</td>\n",
       "      <td>6564.492998</td>\n",
       "    </tr>\n",
       "    <tr>\n",
       "      <th>87</th>\n",
       "      <td>8</td>\n",
       "      <td>docker</td>\n",
       "      <td>6585.835770</td>\n",
       "    </tr>\n",
       "    <tr>\n",
       "      <th>88</th>\n",
       "      <td>7</td>\n",
       "      <td>main_region</td>\n",
       "      <td>6612.386448</td>\n",
       "    </tr>\n",
       "    <tr>\n",
       "      <th>89</th>\n",
       "      <td>6</td>\n",
       "      <td>much_experience</td>\n",
       "      <td>6640.172791</td>\n",
       "    </tr>\n",
       "    <tr>\n",
       "      <th>90</th>\n",
       "      <td>5</td>\n",
       "      <td>main_location</td>\n",
       "      <td>6741.606681</td>\n",
       "    </tr>\n",
       "    <tr>\n",
       "      <th>91</th>\n",
       "      <td>4</td>\n",
       "      <td>company_size</td>\n",
       "      <td>6898.304995</td>\n",
       "    </tr>\n",
       "    <tr>\n",
       "      <th>92</th>\n",
       "      <td>3</td>\n",
       "      <td>title_category</td>\n",
       "      <td>7065.936719</td>\n",
       "    </tr>\n",
       "    <tr>\n",
       "      <th>93</th>\n",
       "      <td>2</td>\n",
       "      <td>experience_level</td>\n",
       "      <td>7551.409275</td>\n",
       "    </tr>\n",
       "    <tr>\n",
       "      <th>94</th>\n",
       "      <td>1</td>\n",
       "      <td>company</td>\n",
       "      <td>8153.754062</td>\n",
       "    </tr>\n",
       "  </tbody>\n",
       "</table>\n",
       "</div>"
      ],
      "text/plain": [
       "    num_features              last_features       scores\n",
       "45            50                      azure  6464.060311\n",
       "46            49                      linux  6463.083223\n",
       "47            48            computer_vision  6462.603836\n",
       "48            47                    trainee  6462.523611\n",
       "49            46                 databricks  6462.521513\n",
       "50            45                  streamlit  6462.520597\n",
       "51            44                     plotly  6462.520597\n",
       "52            43                      numpy  6462.520597\n",
       "53            42       permanent_employment  6462.520597\n",
       "54            41                  full_time  6462.520597\n",
       "55            40                       nltk  6462.520597\n",
       "56            39                statsmodels  6462.520597\n",
       "57            38                    seaborn  6462.520597\n",
       "58            37                      scipy  6462.520597\n",
       "59            36                      swift  6462.520653\n",
       "60            35                   bigquery  6462.520855\n",
       "61            34                 matplotlib  6462.521337\n",
       "62            33                      spacy  6462.529416\n",
       "63            32           tensorflow/keras  6462.589122\n",
       "64            31                        c++  6462.869690\n",
       "65            30                   teamwork  6463.410246\n",
       "66            29                     matlab  6464.543723\n",
       "67            28         autonomous_driving  6465.037134\n",
       "68            27             no_degree_info  6467.209485\n",
       "69            26                          r  6469.192256\n",
       "70            25                        sas  6470.698014\n",
       "71            24           computer_science  6472.168621\n",
       "72            23                  snowflake  6473.710184\n",
       "73            22             business_focus  6476.203495\n",
       "74            21                       perl  6478.603753\n",
       "75            20               google_cloud  6481.674599\n",
       "76            19                    tableau  6485.315020\n",
       "77            18          critical_thinking  6487.765202\n",
       "78            17                       html  6491.578287\n",
       "79            16                      flask  6497.685814\n",
       "80            15       home_office_possible  6505.203470\n",
       "81            14              deep_learning  6517.073164\n",
       "82            13              main_industry  6526.030255\n",
       "83            12                      julia  6536.051887\n",
       "84            11         multiple_locations  6535.325474\n",
       "85            10  no_experience_information  6545.167971\n",
       "86             9                     hadoop  6564.492998\n",
       "87             8                     docker  6585.835770\n",
       "88             7                main_region  6612.386448\n",
       "89             6            much_experience  6640.172791\n",
       "90             5              main_location  6741.606681\n",
       "91             4               company_size  6898.304995\n",
       "92             3             title_category  7065.936719\n",
       "93             2           experience_level  7551.409275\n",
       "94             1                    company  8153.754062"
      ]
     },
     "execution_count": 20,
     "metadata": {},
     "output_type": "execute_result"
    }
   ],
   "source": [
    "results_selection.tail(50)"
   ]
  },
  {
   "cell_type": "code",
   "execution_count": 21,
   "id": "e5af6ea8-fd94-43d7-9f88-39e35e4bdc06",
   "metadata": {},
   "outputs": [
    {
     "data": {
      "image/png": "[encoded data removed]",
      "text/plain": [
       "<Figure size 720x360 with 1 Axes>"
      ]
     },
     "metadata": {
      "needs_background": "light"
     },
     "output_type": "display_data"
    }
   ],
   "source": [
    "plt.figure(figsize=(10,5))\n",
    "plt.plot(results_selection[\"num_features\"], results_selection[\"scores\"], marker=\"o\");"
   ]
  },
  {
   "cell_type": "markdown",
   "id": "bd52978f-58ef-44cc-920f-0003926c26e1",
   "metadata": {},
   "source": [
    "The results show that the lowest error is achieved with 37 features, which is why this subset of features was chosen in the further course of the analysis. However, the graph shows that the number of features could be reduced even further without a great loss of performance and that comparatively good predictions can be generated with only the 5 to 10 most important features."
   ]
  },
  {
   "cell_type": "markdown",
   "id": "936190e1-ec37-4ff1-ad97-3072e683b00e",
   "metadata": {},
   "source": [
    "Finally, a second round of hyperparameter tuning is performed, since it is possible that the model can also get by with less regularization after feature selection."
   ]
  },
  {
   "cell_type": "code",
   "execution_count": 22,
   "id": "42539f09-e2f6-433e-a851-534fb5b63d5a",
   "metadata": {},
   "outputs": [
    {
     "name": "stdout",
     "output_type": "stream",
     "text": [
      "train score: 5194.011846168176\n",
      "test score: 6454.977700025533\n"
     ]
    },
    {
     "data": {
      "text/plain": [
       "{'model__regressor__alpha': 0.00015000000000000001,\n",
       " 'encoder__ohe__min_frequency': 1,\n",
       " 'encoder': Pipeline(steps=[('imputer',\n",
       "                  SimpleImputer(fill_value='missing_value',\n",
       "                                strategy='constant')),\n",
       "                 ('ohe',\n",
       "                  OneHotEncoder(handle_unknown='ignore', min_frequency=1))])}"
      ]
     },
     "execution_count": 22,
     "metadata": {},
     "output_type": "execute_result"
    }
   ],
   "source": [
    "selected = results_selection.loc[58:, \"last_features\"].tolist()\n",
    "cols = [col for col in X.columns if col in selected ]\n",
    "\n",
    "onehot_encoding = Pipeline([\n",
    "    (\"imputer\", SimpleImputer(strategy=\"constant\", fill_value=\"missing_value\")),\n",
    "    (\"ohe\", OneHotEncoder(handle_unknown=\"ignore\"))\n",
    "])\n",
    "\n",
    "pipe = Pipeline([\n",
    "    (\"encoder\", None),\n",
    "    (\"model\", TransformedTargetRegressor(Lasso(), func=np.log, inverse_func=np.exp))\n",
    "])\n",
    "\n",
    "param_grid = [{\"encoder\": [onehot_encoding],\n",
    "               \"encoder__ohe__min_frequency\": list(range(1, 10)),\n",
    "               \"model__regressor__alpha\": np.arange(1e-5, 1e-3, 1e-5)},\n",
    "              {\"encoder\": [TargetEncoder()],\n",
    "               \"encoder__smoothing\": [0.1, 0.5, 1.0, 5.0, 10., 20.],\n",
    "               \"model__regressor__alpha\": np.arange(1e-5, 1e-3, 1e-5)}]\n",
    "\n",
    "search = RandomizedSearchCV(pipe, param_grid, n_iter=200, scoring=\"neg_mean_absolute_error\", return_train_score=True, n_jobs=-1, random_state=0)\n",
    "search.fit(X[cols], y)\n",
    "\n",
    "print(f\"train score: {np.abs(search.cv_results_['mean_train_score'][search.best_index_])}\")\n",
    "print(f\"test score: {np.abs(search.cv_results_['mean_test_score'][search.best_index_])}\")\n",
    "search.best_params_"
   ]
  },
  {
   "cell_type": "markdown",
   "id": "95080a4e-c2ff-4354-87fc-c86e7a07dfb9",
   "metadata": {},
   "source": [
    " "
   ]
  },
  {
   "cell_type": "markdown",
   "id": "e94c9704-ce66-4d36-829e-430736b698e0",
   "metadata": {},
   "source": [
    " "
   ]
  },
  {
   "cell_type": "markdown",
   "id": "ca868c3b-0b56-43b2-97c1-121d1cbfaf58",
   "metadata": {},
   "source": [
    "## Performance on Test Data"
   ]
  },
  {
   "cell_type": "code",
   "execution_count": 23,
   "id": "16580add-cbaa-477e-be1a-690aa84026a9",
   "metadata": {},
   "outputs": [
    {
     "name": "stdout",
     "output_type": "stream",
     "text": [
      "Mean Absolute Error on Test Set: 6388.839580198969\n"
     ]
    }
   ],
   "source": [
    "X_test = df_test.drop([\"average_salary\"], axis=1)\n",
    "y_test = df_test[\"average_salary\"]\n",
    "\n",
    "pipe = Pipeline([\n",
    "    (\"imputer\", SimpleImputer(strategy=\"constant\", fill_value=\"missing_value\")),\n",
    "    (\"encoder\", OneHotEncoder(handle_unknown=\"ignore\")),\n",
    "    (\"model\", TransformedTargetRegressor(Lasso(alpha=0.00015), func=np.log, inverse_func=np.exp))\n",
    "])\n",
    "\n",
    "pipe.fit(X[cols], y)\n",
    "predictions = pipe.predict(X_test[cols])\n",
    "print(f\"Mean Absolute Error on Test Set: {mean_absolute_error(y_test, predictions)}\")"
   ]
  },
  {
   "cell_type": "markdown",
   "id": "e5f81836-2e09-4253-a803-7ab5fd4e2012",
   "metadata": {},
   "source": [
    "The performance of the model can also be confirmed on the test data. The fact that the performance here is even better than on the validation data is actually relatively rare and in this case is most likely due to the relatively small amount of data in the test data."
   ]
  },
  {
   "cell_type": "markdown",
   "id": "79f62426-0914-40b9-94f8-09f025f7caf0",
   "metadata": {},
   "source": [
    " "
   ]
  },
  {
   "cell_type": "markdown",
   "id": "22240cdf-eaab-4f67-84dc-6d230e7b0c6e",
   "metadata": {},
   "source": [
    "<a id=\"interpretation\"></a>"
   ]
  },
  {
   "cell_type": "markdown",
   "id": "83b462b0-66f3-4104-bc9d-8c52b27cb5a0",
   "metadata": {},
   "source": [
    "## Interpretation"
   ]
  },
  {
   "cell_type": "markdown",
   "id": "a9bbfdbb-3238-4aa2-9f88-1caf2934198b",
   "metadata": {},
   "source": [
    "Finally, we analyze how the model makes its predictions. For this purpose, two aspects are examined:\n",
    "\n",
    "- Which features contribute most to the performance of the model? ==> Drop column feature importances\n",
    "- Which categories have the most impact on the salary of a job? ==> Coefficients of the regression"
   ]
  },
  {
   "cell_type": "code",
   "execution_count": 24,
   "id": "729964ba-a0a1-4377-ae24-882550b6231e",
   "metadata": {},
   "outputs": [
    {
     "data": {
      "image/png": "[encoded data removed]",
      "text/plain": [
       "<Figure size 720x1440 with 1 Axes>"
      ]
     },
     "metadata": {
      "needs_background": "light"
     },
     "output_type": "display_data"
    }
   ],
   "source": [
    "X2 = X[cols].copy()\n",
    "\n",
    "pipe = Pipeline([\n",
    "    (\"imputer\", SimpleImputer(strategy=\"constant\", fill_value=\"missing_value\")),\n",
    "    (\"encoder\", OneHotEncoder(handle_unknown=\"ignore\")),\n",
    "    (\"model\", TransformedTargetRegressor(Lasso(alpha=0.00015), func=np.log, inverse_func=np.exp))\n",
    "])\n",
    "\n",
    "kfold = KFold(5)\n",
    "diffs = defaultdict(list)\n",
    "for train_idx, val_idx in kfold.split(X2):\n",
    "    X_train = X2.iloc[train_idx]\n",
    "    X_val = X2.iloc[val_idx]\n",
    "    y_train = y.iloc[train_idx]\n",
    "    y_val = y.iloc[val_idx]\n",
    "\n",
    "    pipe.fit(X_train, y_train)\n",
    "    preds = pipe.predict(X_val)\n",
    "    baseline = mean_absolute_error(y_val, preds)\n",
    "\n",
    "    for col in X2.columns:\n",
    "        pipe.fit(X_train.drop(col, axis=1), y_train)\n",
    "        preds = pipe.predict(X_val.drop(col, axis=1))\n",
    "        mae = mean_absolute_error(y_val, preds)\n",
    "        diffs[col].append(mae-baseline)\n",
    "\n",
    "importances = pd.DataFrame(diffs).T.mean(axis=1).sort_values(ascending=False)\n",
    "plt.figure(figsize=(10, 20))\n",
    "sns.barplot(importances.values, importances.index);"
   ]
  },
  {
   "cell_type": "markdown",
   "id": "123f63cb-d281-46bd-8fc0-3b63d320f769",
   "metadata": {},
   "source": [
    "As expected, the job title, the experience level, the company itself, the size of the company and the location have the greatest impact on the salary. The specific skills required in a job advertisement play only a comparatively minor role."
   ]
  },
  {
   "cell_type": "markdown",
   "id": "68cadd74-ee71-4cf6-9ba8-28ae3c83b854",
   "metadata": {},
   "source": [
    "Next, the coefficients of the model are to be interpreted. The OneHotEncoder of Scikit-Learn makes it relatively cumbersome to extract the names of the encoded features. Therefore, the pipeline is slightly modified in the following and the Pandas method get_dummies() is used instead, which leads to the same results, but chooses the names of the features better."
   ]
  },
  {
   "cell_type": "code",
   "execution_count": 25,
   "id": "ddb3f86a-a814-4950-a27e-7fcf3d2c7ad3",
   "metadata": {},
   "outputs": [
    {
     "data": {
      "text/html": [
       "<div>\n",
       "<style scoped>\n",
       "    .dataframe tbody tr th:only-of-type {\n",
       "        vertical-align: middle;\n",
       "    }\n",
       "\n",
       "    .dataframe tbody tr th {\n",
       "        vertical-align: top;\n",
       "    }\n",
       "\n",
       "    .dataframe thead th {\n",
       "        text-align: right;\n",
       "    }\n",
       "</style>\n",
       "<table border=\"1\" class=\"dataframe\">\n",
       "  <thead>\n",
       "    <tr style=\"text-align: right;\">\n",
       "      <th></th>\n",
       "      <th>feature</th>\n",
       "      <th>coefficient</th>\n",
       "    </tr>\n",
       "  </thead>\n",
       "  <tbody>\n",
       "    <tr>\n",
       "      <th>189</th>\n",
       "      <td>company_Elmar Hertzog und Partner Management C...</td>\n",
       "      <td>98.898115</td>\n",
       "    </tr>\n",
       "    <tr>\n",
       "      <th>198</th>\n",
       "      <td>company_Evotec SE</td>\n",
       "      <td>90.450531</td>\n",
       "    </tr>\n",
       "    <tr>\n",
       "      <th>569</th>\n",
       "      <td>company_ifp | Personalberatung Managementdiagn...</td>\n",
       "      <td>60.343568</td>\n",
       "    </tr>\n",
       "    <tr>\n",
       "      <th>290</th>\n",
       "      <td>company_JLL</td>\n",
       "      <td>36.636715</td>\n",
       "    </tr>\n",
       "    <tr>\n",
       "      <th>173</th>\n",
       "      <td>company_Dr. Werner Freyberg Chemische Fabrik D...</td>\n",
       "      <td>32.857534</td>\n",
       "    </tr>\n",
       "  </tbody>\n",
       "</table>\n",
       "</div>"
      ],
      "text/plain": [
       "                                               feature  coefficient\n",
       "189  company_Elmar Hertzog und Partner Management C...    98.898115\n",
       "198                                  company_Evotec SE    90.450531\n",
       "569  company_ifp | Personalberatung Managementdiagn...    60.343568\n",
       "290                                        company_JLL    36.636715\n",
       "173  company_Dr. Werner Freyberg Chemische Fabrik D...    32.857534"
      ]
     },
     "execution_count": 25,
     "metadata": {},
     "output_type": "execute_result"
    }
   ],
   "source": [
    "# binary features should not be encoded into two columns\n",
    "X_train = X[cols].apply(lambda x: x.astype(\"int\") if x.dtype == bool else x)\n",
    "X_train = X_train.fillna(\"missing_value\")\n",
    "X_train = pd.get_dummies(X_train)\n",
    "X_train.shape\n",
    "model = TransformedTargetRegressor(Lasso(alpha=0.00015), func=np.log, inverse_func=np.exp)\n",
    "model.fit(X_train, y)\n",
    "\n",
    "coefficients = (np.exp(model.regressor_.coef_)-1)*100\n",
    "importances = pd.DataFrame({\"feature\": X_train.columns, \"coefficient\": coefficients})\n",
    "importances.sort_values(\"coefficient\", ascending=False, key=lambda x: np.abs(x)).head()"
   ]
  },
  {
   "cell_type": "markdown",
   "id": "df538a73-20f2-4827-8d99-45aef37fe037",
   "metadata": {},
   "source": [
    "Normally, the coefficients of a regression indicate by how many units the target changes when a certain feature is increased by one unit. However, due to the log transformation, this method of interpretation is no longer possible. Instead, however, a percentage effect on the target can be read off via the performed transformation.\n",
    "\n",
    "A first overview shows that the largest coefficients of the model are mainly specific company names. While it is certainly interesting to know which companies pay the highest salaries, this analysis will focus primarily on somewhat more general factors."
   ]
  },
  {
   "cell_type": "code",
   "execution_count": 26,
   "id": "bf1a4797-46ce-40ea-b010-413c6951db53",
   "metadata": {},
   "outputs": [
    {
     "data": {
      "text/html": [
       "<div>\n",
       "<style scoped>\n",
       "    .dataframe tbody tr th:only-of-type {\n",
       "        vertical-align: middle;\n",
       "    }\n",
       "\n",
       "    .dataframe tbody tr th {\n",
       "        vertical-align: top;\n",
       "    }\n",
       "\n",
       "    .dataframe thead th {\n",
       "        text-align: right;\n",
       "    }\n",
       "</style>\n",
       "<table border=\"1\" class=\"dataframe\">\n",
       "  <thead>\n",
       "    <tr style=\"text-align: right;\">\n",
       "      <th></th>\n",
       "      <th>feature</th>\n",
       "      <th>coefficient</th>\n",
       "    </tr>\n",
       "  </thead>\n",
       "  <tbody>\n",
       "    <tr>\n",
       "      <th>617</th>\n",
       "      <td>title_category_Data Science Manager</td>\n",
       "      <td>7.854518</td>\n",
       "    </tr>\n",
       "    <tr>\n",
       "      <th>618</th>\n",
       "      <td>title_category_Data Scientist</td>\n",
       "      <td>4.313738</td>\n",
       "    </tr>\n",
       "    <tr>\n",
       "      <th>615</th>\n",
       "      <td>title_category_Data Engineer</td>\n",
       "      <td>1.667127</td>\n",
       "    </tr>\n",
       "    <tr>\n",
       "      <th>619</th>\n",
       "      <td>title_category_Machine Learning Engineer</td>\n",
       "      <td>0.000000</td>\n",
       "    </tr>\n",
       "    <tr>\n",
       "      <th>616</th>\n",
       "      <td>title_category_Data Science Consultant</td>\n",
       "      <td>-2.811339</td>\n",
       "    </tr>\n",
       "    <tr>\n",
       "      <th>620</th>\n",
       "      <td>title_category_Software Engineer</td>\n",
       "      <td>-4.771096</td>\n",
       "    </tr>\n",
       "    <tr>\n",
       "      <th>614</th>\n",
       "      <td>title_category_Data Analyst</td>\n",
       "      <td>-5.205430</td>\n",
       "    </tr>\n",
       "  </tbody>\n",
       "</table>\n",
       "</div>"
      ],
      "text/plain": [
       "                                      feature  coefficient\n",
       "617       title_category_Data Science Manager     7.854518\n",
       "618             title_category_Data Scientist     4.313738\n",
       "615              title_category_Data Engineer     1.667127\n",
       "619  title_category_Machine Learning Engineer     0.000000\n",
       "616    title_category_Data Science Consultant    -2.811339\n",
       "620          title_category_Software Engineer    -4.771096\n",
       "614               title_category_Data Analyst    -5.205430"
      ]
     },
     "execution_count": 26,
     "metadata": {},
     "output_type": "execute_result"
    }
   ],
   "source": [
    "importances.loc[importances[\"feature\"].str.contains(\"title_category_\")].sort_values(\"coefficient\", ascending=False)"
   ]
  },
  {
   "cell_type": "code",
   "execution_count": 27,
   "id": "583921bb-0641-4f44-a763-143db28febd8",
   "metadata": {},
   "outputs": [
    {
     "data": {
      "text/html": [
       "<div>\n",
       "<style scoped>\n",
       "    .dataframe tbody tr th:only-of-type {\n",
       "        vertical-align: middle;\n",
       "    }\n",
       "\n",
       "    .dataframe tbody tr th {\n",
       "        vertical-align: top;\n",
       "    }\n",
       "\n",
       "    .dataframe thead th {\n",
       "        text-align: right;\n",
       "    }\n",
       "</style>\n",
       "<table border=\"1\" class=\"dataframe\">\n",
       "  <thead>\n",
       "    <tr style=\"text-align: right;\">\n",
       "      <th></th>\n",
       "      <th>feature</th>\n",
       "      <th>coefficient</th>\n",
       "    </tr>\n",
       "  </thead>\n",
       "  <tbody>\n",
       "    <tr>\n",
       "      <th>623</th>\n",
       "      <td>experience_level_Senior</td>\n",
       "      <td>6.380835</td>\n",
       "    </tr>\n",
       "    <tr>\n",
       "      <th>622</th>\n",
       "      <td>experience_level_No Information</td>\n",
       "      <td>0.000000</td>\n",
       "    </tr>\n",
       "    <tr>\n",
       "      <th>621</th>\n",
       "      <td>experience_level_Junior</td>\n",
       "      <td>-14.656084</td>\n",
       "    </tr>\n",
       "  </tbody>\n",
       "</table>\n",
       "</div>"
      ],
      "text/plain": [
       "                             feature  coefficient\n",
       "623          experience_level_Senior     6.380835\n",
       "622  experience_level_No Information     0.000000\n",
       "621          experience_level_Junior   -14.656084"
      ]
     },
     "execution_count": 27,
     "metadata": {},
     "output_type": "execute_result"
    }
   ],
   "source": [
    "importances.loc[importances[\"feature\"].str.contains(\"experience_level_\")].sort_values(\"coefficient\", ascending=False)"
   ]
  },
  {
   "cell_type": "code",
   "execution_count": 28,
   "id": "f1ee0798-8079-4fe8-9e44-fe73f9748226",
   "metadata": {},
   "outputs": [
    {
     "data": {
      "text/html": [
       "<div>\n",
       "<style scoped>\n",
       "    .dataframe tbody tr th:only-of-type {\n",
       "        vertical-align: middle;\n",
       "    }\n",
       "\n",
       "    .dataframe tbody tr th {\n",
       "        vertical-align: top;\n",
       "    }\n",
       "\n",
       "    .dataframe thead th {\n",
       "        text-align: right;\n",
       "    }\n",
       "</style>\n",
       "<table border=\"1\" class=\"dataframe\">\n",
       "  <thead>\n",
       "    <tr style=\"text-align: right;\">\n",
       "      <th></th>\n",
       "      <th>feature</th>\n",
       "      <th>coefficient</th>\n",
       "    </tr>\n",
       "  </thead>\n",
       "  <tbody>\n",
       "    <tr>\n",
       "      <th>610</th>\n",
       "      <td>company_size_5001-10,000</td>\n",
       "      <td>8.776122</td>\n",
       "    </tr>\n",
       "    <tr>\n",
       "      <th>606</th>\n",
       "      <td>company_size_10,001+</td>\n",
       "      <td>8.301453</td>\n",
       "    </tr>\n",
       "    <tr>\n",
       "      <th>608</th>\n",
       "      <td>company_size_2501-5000</td>\n",
       "      <td>2.427020</td>\n",
       "    </tr>\n",
       "    <tr>\n",
       "      <th>613</th>\n",
       "      <td>company_size_missing_value</td>\n",
       "      <td>2.318861</td>\n",
       "    </tr>\n",
       "    <tr>\n",
       "      <th>611</th>\n",
       "      <td>company_size_501-1000</td>\n",
       "      <td>0.000000</td>\n",
       "    </tr>\n",
       "    <tr>\n",
       "      <th>607</th>\n",
       "      <td>company_size_1001-2500</td>\n",
       "      <td>-0.934573</td>\n",
       "    </tr>\n",
       "    <tr>\n",
       "      <th>609</th>\n",
       "      <td>company_size_251-500</td>\n",
       "      <td>-2.408260</td>\n",
       "    </tr>\n",
       "    <tr>\n",
       "      <th>605</th>\n",
       "      <td>company_size_0-50</td>\n",
       "      <td>-4.071244</td>\n",
       "    </tr>\n",
       "    <tr>\n",
       "      <th>612</th>\n",
       "      <td>company_size_51-250</td>\n",
       "      <td>-5.104402</td>\n",
       "    </tr>\n",
       "  </tbody>\n",
       "</table>\n",
       "</div>"
      ],
      "text/plain": [
       "                        feature  coefficient\n",
       "610    company_size_5001-10,000     8.776122\n",
       "606        company_size_10,001+     8.301453\n",
       "608      company_size_2501-5000     2.427020\n",
       "613  company_size_missing_value     2.318861\n",
       "611       company_size_501-1000     0.000000\n",
       "607      company_size_1001-2500    -0.934573\n",
       "609        company_size_251-500    -2.408260\n",
       "605           company_size_0-50    -4.071244\n",
       "612         company_size_51-250    -5.104402"
      ]
     },
     "execution_count": 28,
     "metadata": {},
     "output_type": "execute_result"
    }
   ],
   "source": [
    "importances.loc[importances[\"feature\"].str.contains(\"company_size_\")].sort_values(\"coefficient\", ascending=False)"
   ]
  },
  {
   "cell_type": "code",
   "execution_count": 29,
   "id": "6069c8e5-b2f5-422b-9c3a-a30401f11979",
   "metadata": {},
   "outputs": [
    {
     "data": {
      "text/html": [
       "<div>\n",
       "<style scoped>\n",
       "    .dataframe tbody tr th:only-of-type {\n",
       "        vertical-align: middle;\n",
       "    }\n",
       "\n",
       "    .dataframe tbody tr th {\n",
       "        vertical-align: top;\n",
       "    }\n",
       "\n",
       "    .dataframe thead th {\n",
       "        text-align: right;\n",
       "    }\n",
       "</style>\n",
       "<table border=\"1\" class=\"dataframe\">\n",
       "  <thead>\n",
       "    <tr style=\"text-align: right;\">\n",
       "      <th></th>\n",
       "      <th>feature</th>\n",
       "      <th>coefficient</th>\n",
       "    </tr>\n",
       "  </thead>\n",
       "  <tbody>\n",
       "    <tr>\n",
       "      <th>815</th>\n",
       "      <td>main_region_Hesse</td>\n",
       "      <td>5.962836</td>\n",
       "    </tr>\n",
       "    <tr>\n",
       "      <th>810</th>\n",
       "      <td>main_region_Baden-Württemberg</td>\n",
       "      <td>4.873253</td>\n",
       "    </tr>\n",
       "    <tr>\n",
       "      <th>814</th>\n",
       "      <td>main_region_Hamburg</td>\n",
       "      <td>2.241388</td>\n",
       "    </tr>\n",
       "    <tr>\n",
       "      <th>811</th>\n",
       "      <td>main_region_Bavaria</td>\n",
       "      <td>1.253215</td>\n",
       "    </tr>\n",
       "    <tr>\n",
       "      <th>812</th>\n",
       "      <td>main_region_Berlin</td>\n",
       "      <td>0.863119</td>\n",
       "    </tr>\n",
       "    <tr>\n",
       "      <th>818</th>\n",
       "      <td>main_region_North Rhine-Westphalia</td>\n",
       "      <td>0.295582</td>\n",
       "    </tr>\n",
       "    <tr>\n",
       "      <th>813</th>\n",
       "      <td>main_region_Brandenburg</td>\n",
       "      <td>0.000000</td>\n",
       "    </tr>\n",
       "    <tr>\n",
       "      <th>816</th>\n",
       "      <td>main_region_Lower Saxony</td>\n",
       "      <td>0.000000</td>\n",
       "    </tr>\n",
       "    <tr>\n",
       "      <th>817</th>\n",
       "      <td>main_region_Mecklenburg-Vorpommern</td>\n",
       "      <td>0.000000</td>\n",
       "    </tr>\n",
       "    <tr>\n",
       "      <th>822</th>\n",
       "      <td>main_region_Saxony-Anhalt</td>\n",
       "      <td>0.000000</td>\n",
       "    </tr>\n",
       "    <tr>\n",
       "      <th>824</th>\n",
       "      <td>main_region_Thuringia</td>\n",
       "      <td>0.000000</td>\n",
       "    </tr>\n",
       "    <tr>\n",
       "      <th>825</th>\n",
       "      <td>main_region_missing_value</td>\n",
       "      <td>0.000000</td>\n",
       "    </tr>\n",
       "    <tr>\n",
       "      <th>819</th>\n",
       "      <td>main_region_Rhineland-Palatinate</td>\n",
       "      <td>-0.617933</td>\n",
       "    </tr>\n",
       "    <tr>\n",
       "      <th>823</th>\n",
       "      <td>main_region_Schleswig-Holstein</td>\n",
       "      <td>-3.129086</td>\n",
       "    </tr>\n",
       "    <tr>\n",
       "      <th>821</th>\n",
       "      <td>main_region_Saxony</td>\n",
       "      <td>-3.222390</td>\n",
       "    </tr>\n",
       "    <tr>\n",
       "      <th>820</th>\n",
       "      <td>main_region_Saarland</td>\n",
       "      <td>-10.325999</td>\n",
       "    </tr>\n",
       "  </tbody>\n",
       "</table>\n",
       "</div>"
      ],
      "text/plain": [
       "                                feature  coefficient\n",
       "815                   main_region_Hesse     5.962836\n",
       "810       main_region_Baden-Württemberg     4.873253\n",
       "814                 main_region_Hamburg     2.241388\n",
       "811                 main_region_Bavaria     1.253215\n",
       "812                  main_region_Berlin     0.863119\n",
       "818  main_region_North Rhine-Westphalia     0.295582\n",
       "813             main_region_Brandenburg     0.000000\n",
       "816            main_region_Lower Saxony     0.000000\n",
       "817  main_region_Mecklenburg-Vorpommern     0.000000\n",
       "822           main_region_Saxony-Anhalt     0.000000\n",
       "824               main_region_Thuringia     0.000000\n",
       "825           main_region_missing_value     0.000000\n",
       "819    main_region_Rhineland-Palatinate    -0.617933\n",
       "823      main_region_Schleswig-Holstein    -3.129086\n",
       "821                  main_region_Saxony    -3.222390\n",
       "820                main_region_Saarland   -10.325999"
      ]
     },
     "execution_count": 29,
     "metadata": {},
     "output_type": "execute_result"
    }
   ],
   "source": [
    "importances.loc[importances[\"feature\"].str.contains(\"main_region_\")].sort_values(\"coefficient\", ascending=False)"
   ]
  },
  {
   "cell_type": "code",
   "execution_count": 30,
   "id": "50344c38-4ce1-46aa-82db-cedcfdc45885",
   "metadata": {},
   "outputs": [
    {
     "data": {
      "text/html": [
       "<div>\n",
       "<style scoped>\n",
       "    .dataframe tbody tr th:only-of-type {\n",
       "        vertical-align: middle;\n",
       "    }\n",
       "\n",
       "    .dataframe tbody tr th {\n",
       "        vertical-align: top;\n",
       "    }\n",
       "\n",
       "    .dataframe thead th {\n",
       "        text-align: right;\n",
       "    }\n",
       "</style>\n",
       "<table border=\"1\" class=\"dataframe\">\n",
       "  <thead>\n",
       "    <tr style=\"text-align: right;\">\n",
       "      <th></th>\n",
       "      <th>feature</th>\n",
       "      <th>coefficient</th>\n",
       "    </tr>\n",
       "  </thead>\n",
       "  <tbody>\n",
       "    <tr>\n",
       "      <th>846</th>\n",
       "      <td>main_industry_Medizintechnik</td>\n",
       "      <td>12.388583</td>\n",
       "    </tr>\n",
       "    <tr>\n",
       "      <th>830</th>\n",
       "      <td>main_industry_Chemie- und Erdölverarbeitende I...</td>\n",
       "      <td>7.748088</td>\n",
       "    </tr>\n",
       "    <tr>\n",
       "      <th>844</th>\n",
       "      <td>main_industry_Maschinen- und Anlagenbau</td>\n",
       "      <td>5.828395</td>\n",
       "    </tr>\n",
       "    <tr>\n",
       "      <th>827</th>\n",
       "      <td>main_industry_Banken</td>\n",
       "      <td>5.297015</td>\n",
       "    </tr>\n",
       "    <tr>\n",
       "      <th>850</th>\n",
       "      <td>main_industry_Pharmaindustrie</td>\n",
       "      <td>4.052738</td>\n",
       "    </tr>\n",
       "    <tr>\n",
       "      <th>834</th>\n",
       "      <td>main_industry_Finanzdienstleister</td>\n",
       "      <td>3.051679</td>\n",
       "    </tr>\n",
       "    <tr>\n",
       "      <th>832</th>\n",
       "      <td>main_industry_Energie- und Wasserversorgung &amp; ...</td>\n",
       "      <td>3.028892</td>\n",
       "    </tr>\n",
       "    <tr>\n",
       "      <th>857</th>\n",
       "      <td>main_industry_Unternehmensberatg., Wirtschafts...</td>\n",
       "      <td>1.990141</td>\n",
       "    </tr>\n",
       "    <tr>\n",
       "      <th>840</th>\n",
       "      <td>main_industry_IT &amp; Internet</td>\n",
       "      <td>1.346153</td>\n",
       "    </tr>\n",
       "    <tr>\n",
       "      <th>858</th>\n",
       "      <td>main_industry_Versicherungen</td>\n",
       "      <td>1.026706</td>\n",
       "    </tr>\n",
       "    <tr>\n",
       "      <th>831</th>\n",
       "      <td>main_industry_Elektrotechnik, Feinmechanik &amp; O...</td>\n",
       "      <td>0.990417</td>\n",
       "    </tr>\n",
       "    <tr>\n",
       "      <th>826</th>\n",
       "      <td>main_industry_Agentur, Werbung, Marketing &amp; PR</td>\n",
       "      <td>0.763672</td>\n",
       "    </tr>\n",
       "    <tr>\n",
       "      <th>838</th>\n",
       "      <td>main_industry_Handwerk</td>\n",
       "      <td>0.000000</td>\n",
       "    </tr>\n",
       "    <tr>\n",
       "      <th>847</th>\n",
       "      <td>main_industry_Metallindustrie</td>\n",
       "      <td>0.000000</td>\n",
       "    </tr>\n",
       "    <tr>\n",
       "      <th>859</th>\n",
       "      <td>main_industry_Wissenschaft &amp; Forschung</td>\n",
       "      <td>0.000000</td>\n",
       "    </tr>\n",
       "    <tr>\n",
       "      <th>828</th>\n",
       "      <td>main_industry_Baugewerbe/-industrie</td>\n",
       "      <td>0.000000</td>\n",
       "    </tr>\n",
       "    <tr>\n",
       "      <th>829</th>\n",
       "      <td>main_industry_Bildung &amp; Training</td>\n",
       "      <td>0.000000</td>\n",
       "    </tr>\n",
       "    <tr>\n",
       "      <th>855</th>\n",
       "      <td>main_industry_Textilien, Bekleidung &amp; Lederwaren</td>\n",
       "      <td>0.000000</td>\n",
       "    </tr>\n",
       "    <tr>\n",
       "      <th>853</th>\n",
       "      <td>main_industry_Sonstiges produzierendes Gewerbe</td>\n",
       "      <td>0.000000</td>\n",
       "    </tr>\n",
       "    <tr>\n",
       "      <th>839</th>\n",
       "      <td>main_industry_Hotel, Gastronomie &amp; Catering</td>\n",
       "      <td>0.000000</td>\n",
       "    </tr>\n",
       "    <tr>\n",
       "      <th>833</th>\n",
       "      <td>main_industry_Fahrzeugbau/-zulieferer</td>\n",
       "      <td>0.000000</td>\n",
       "    </tr>\n",
       "    <tr>\n",
       "      <th>845</th>\n",
       "      <td>main_industry_Medien (Film, Funk, TV, Verlage)</td>\n",
       "      <td>0.000000</td>\n",
       "    </tr>\n",
       "    <tr>\n",
       "      <th>836</th>\n",
       "      <td>main_industry_Gesundheit &amp; soziale Dienste</td>\n",
       "      <td>0.000000</td>\n",
       "    </tr>\n",
       "    <tr>\n",
       "      <th>842</th>\n",
       "      <td>main_industry_Konsumgüter/Gebrauchsgüter</td>\n",
       "      <td>0.000000</td>\n",
       "    </tr>\n",
       "    <tr>\n",
       "      <th>841</th>\n",
       "      <td>main_industry_Immobilien</td>\n",
       "      <td>0.000000</td>\n",
       "    </tr>\n",
       "    <tr>\n",
       "      <th>861</th>\n",
       "      <td>main_industry_Öffentlicher Dienst &amp; Verbände</td>\n",
       "      <td>0.000000</td>\n",
       "    </tr>\n",
       "    <tr>\n",
       "      <th>849</th>\n",
       "      <td>main_industry_Personaldienstleistungen</td>\n",
       "      <td>-0.296817</td>\n",
       "    </tr>\n",
       "    <tr>\n",
       "      <th>854</th>\n",
       "      <td>main_industry_Telekommunikation</td>\n",
       "      <td>-0.357090</td>\n",
       "    </tr>\n",
       "    <tr>\n",
       "      <th>835</th>\n",
       "      <td>main_industry_Freizeit, Touristik, Kultur &amp; Sport</td>\n",
       "      <td>-1.584790</td>\n",
       "    </tr>\n",
       "    <tr>\n",
       "      <th>848</th>\n",
       "      <td>main_industry_Nahrungs- &amp; Genussmittel</td>\n",
       "      <td>-1.979018</td>\n",
       "    </tr>\n",
       "    <tr>\n",
       "      <th>837</th>\n",
       "      <td>main_industry_Groß- &amp; Einzelhandel</td>\n",
       "      <td>-2.030514</td>\n",
       "    </tr>\n",
       "    <tr>\n",
       "      <th>852</th>\n",
       "      <td>main_industry_Sonstige Dienstleistungen</td>\n",
       "      <td>-2.200373</td>\n",
       "    </tr>\n",
       "    <tr>\n",
       "      <th>860</th>\n",
       "      <td>main_industry_missing_value</td>\n",
       "      <td>-3.169035</td>\n",
       "    </tr>\n",
       "    <tr>\n",
       "      <th>843</th>\n",
       "      <td>main_industry_Luft- und Raumfahrt</td>\n",
       "      <td>-4.201360</td>\n",
       "    </tr>\n",
       "    <tr>\n",
       "      <th>851</th>\n",
       "      <td>main_industry_Sonstige Branchen</td>\n",
       "      <td>-7.294942</td>\n",
       "    </tr>\n",
       "    <tr>\n",
       "      <th>856</th>\n",
       "      <td>main_industry_Transport &amp; Logistik</td>\n",
       "      <td>-10.821481</td>\n",
       "    </tr>\n",
       "  </tbody>\n",
       "</table>\n",
       "</div>"
      ],
      "text/plain": [
       "                                               feature  coefficient\n",
       "846                       main_industry_Medizintechnik    12.388583\n",
       "830  main_industry_Chemie- und Erdölverarbeitende I...     7.748088\n",
       "844            main_industry_Maschinen- und Anlagenbau     5.828395\n",
       "827                               main_industry_Banken     5.297015\n",
       "850                      main_industry_Pharmaindustrie     4.052738\n",
       "834                  main_industry_Finanzdienstleister     3.051679\n",
       "832  main_industry_Energie- und Wasserversorgung & ...     3.028892\n",
       "857  main_industry_Unternehmensberatg., Wirtschafts...     1.990141\n",
       "840                        main_industry_IT & Internet     1.346153\n",
       "858                       main_industry_Versicherungen     1.026706\n",
       "831  main_industry_Elektrotechnik, Feinmechanik & O...     0.990417\n",
       "826     main_industry_Agentur, Werbung, Marketing & PR     0.763672\n",
       "838                             main_industry_Handwerk     0.000000\n",
       "847                      main_industry_Metallindustrie     0.000000\n",
       "859             main_industry_Wissenschaft & Forschung     0.000000\n",
       "828                main_industry_Baugewerbe/-industrie     0.000000\n",
       "829                   main_industry_Bildung & Training     0.000000\n",
       "855   main_industry_Textilien, Bekleidung & Lederwaren     0.000000\n",
       "853     main_industry_Sonstiges produzierendes Gewerbe     0.000000\n",
       "839        main_industry_Hotel, Gastronomie & Catering     0.000000\n",
       "833              main_industry_Fahrzeugbau/-zulieferer     0.000000\n",
       "845     main_industry_Medien (Film, Funk, TV, Verlage)     0.000000\n",
       "836         main_industry_Gesundheit & soziale Dienste     0.000000\n",
       "842           main_industry_Konsumgüter/Gebrauchsgüter     0.000000\n",
       "841                           main_industry_Immobilien     0.000000\n",
       "861       main_industry_Öffentlicher Dienst & Verbände     0.000000\n",
       "849             main_industry_Personaldienstleistungen    -0.296817\n",
       "854                    main_industry_Telekommunikation    -0.357090\n",
       "835  main_industry_Freizeit, Touristik, Kultur & Sport    -1.584790\n",
       "848             main_industry_Nahrungs- & Genussmittel    -1.979018\n",
       "837                 main_industry_Groß- & Einzelhandel    -2.030514\n",
       "852            main_industry_Sonstige Dienstleistungen    -2.200373\n",
       "860                        main_industry_missing_value    -3.169035\n",
       "843                  main_industry_Luft- und Raumfahrt    -4.201360\n",
       "851                    main_industry_Sonstige Branchen    -7.294942\n",
       "856                 main_industry_Transport & Logistik   -10.821481"
      ]
     },
     "execution_count": 30,
     "metadata": {},
     "output_type": "execute_result"
    }
   ],
   "source": [
    "importances.loc[importances[\"feature\"].str.contains(\"main_industry_\")].sort_values(\"coefficient\", ascending=False)"
   ]
  },
  {
   "cell_type": "markdown",
   "id": "870c512a-11f0-426a-9cad-07d450d4a2a5",
   "metadata": {},
   "source": [
    " "
   ]
  },
  {
   "cell_type": "markdown",
   "id": "85f49eb0-de1d-480d-bd03-f6ad33250e7d",
   "metadata": {},
   "source": [
    "<a id=\"summary\"></a>"
   ]
  },
  {
   "cell_type": "markdown",
   "id": "0e541de2-7244-4058-b20b-cec646e148a5",
   "metadata": {},
   "source": [
    "## Summary"
   ]
  },
  {
   "cell_type": "markdown",
   "id": "c465707e-73fe-4d06-b19c-60312f6dbd35",
   "metadata": {},
   "source": [
    "With the model found, it was possible to reduce the mean error of salary forecasts by 3000 euros. Nevertheless, the remaining error is still more than 6000 euros. All the features that Stepstone includes in its description of its machine learning model were also included in this model. The rules for extracting job titles, different skills, or work experience were made to the best of our ability. However, it is quite possible that Stepstone used a slightly different approach when extracting this information and may have evaluated other keywords as well. From the location information, only the states were additionally extracted in the context of this model with the help of an API. Here, one could possibly include other features such as population figures of the cities.\n",
    "\n",
    "The most likely reason for the poorer results is the insufficient amount of data. In the context of the EDA it became clear that some relationships to the target are still very distorted due to the too small sample (e.g. highest average salary in Thuringia). Most of the relationships in the model make sense in principle, but are still relatively subject to noise. For example, there is no monotonic dependence between salary and company size in the data used. A larger data set would help to minimize this noise in the data and better represent the true relationships. Also, the error obtained on the test data is relatively imprecise at the moment and would also benefit from a larger data set.\n",
    "\n",
    "Finally, it should also be mentioned that the values of the target are also in the predictions of a model and not real salaries. Attributes with Python, R or SQL, which hardly make a difference in the context of this analysis, could possibly be important for an analysis specifically designed for Data Science jobs."
   ]
  },
  {
   "cell_type": "code",
   "execution_count": null,
   "id": "33a5f9dd-faa4-4d1e-9efb-856a5bfa6c36",
   "metadata": {},
   "outputs": [],
   "source": []
  }
 ],
 "metadata": {
  "kernelspec": {
   "display_name": "jobsearch",
   "language": "python",
   "name": "jobsearch"
  },
  "language_info": {
   "codemirror_mode": {
    "name": "ipython",
    "version": 3
   },
   "file_extension": ".py",
   "mimetype": "text/x-python",
   "name": "python",
   "nbconvert_exporter": "python",
   "pygments_lexer": "ipython3",
   "version": "3.9.12"
  }
 },
 "nbformat": 4,
 "nbformat_minor": 5
}
