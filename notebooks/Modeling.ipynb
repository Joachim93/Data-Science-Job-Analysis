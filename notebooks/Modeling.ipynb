{
 "cells": [
  {
   "cell_type": "markdown",
   "id": "dd8755bb-8b32-40ac-abbc-a1ce6d7fec97",
   "metadata": {},
   "source": [
    "# Overview\n",
    "\n",
    "The goal of this notebook is to design a machine learning model to predict the salary of a job as best as possible from the information in the job description and to inerpret it afterwards. The procedure was as follows:\n",
    "- [Test of a baseline](#baseline)\n",
    "- [Test of a linear model](#linear_model)\n",
    "- [Test of a non-linear model](#non-linear_model)\n",
    "- [Interpretation of the results](#interpretation)\n",
    "- [Summary of the results](#summary)"
   ]
  },
  {
   "cell_type": "code",
   "execution_count": 1,
   "id": "861f8e44-62cc-495b-982a-afb50afb6644",
   "metadata": {},
   "outputs": [],
   "source": [
    "import numpy as np\n",
    "import pandas as pd\n",
    "import seaborn as sns\n",
    "import matplotlib.pyplot as plt\n",
    "from sklearn.dummy import DummyRegressor\n",
    "from sklearn.metrics import mean_absolute_error\n",
    "from sklearn.model_selection import cross_validate, KFold, train_test_split, GridSearchCV, RandomizedSearchCV\n",
    "from sklearn.linear_model import LinearRegression, Lasso\n",
    "from sklearn.preprocessing import OneHotEncoder\n",
    "from sklearn.pipeline import Pipeline\n",
    "from sklearn.impute import SimpleImputer\n",
    "from xgboost import XGBRegressor\n",
    "from category_encoders.target_encoder import TargetEncoder\n",
    "from tqdm import tqdm\n",
    "import warnings\n",
    "warnings.filterwarnings(\"ignore\")"
   ]
  },
  {
   "cell_type": "code",
   "execution_count": 2,
   "id": "71b42505-b0b5-406a-ab89-54f620594d01",
   "metadata": {},
   "outputs": [
    {
     "data": {
      "text/html": [
       "<div>\n",
       "<style scoped>\n",
       "    .dataframe tbody tr th:only-of-type {\n",
       "        vertical-align: middle;\n",
       "    }\n",
       "\n",
       "    .dataframe tbody tr th {\n",
       "        vertical-align: top;\n",
       "    }\n",
       "\n",
       "    .dataframe thead th {\n",
       "        text-align: right;\n",
       "    }\n",
       "</style>\n",
       "<table border=\"1\" class=\"dataframe\">\n",
       "  <thead>\n",
       "    <tr style=\"text-align: right;\">\n",
       "      <th></th>\n",
       "      <th>link</th>\n",
       "      <th>company</th>\n",
       "      <th>title</th>\n",
       "      <th>content</th>\n",
       "      <th>rating</th>\n",
       "      <th>num_ratings</th>\n",
       "      <th>company_link</th>\n",
       "      <th>release_date</th>\n",
       "      <th>company_size</th>\n",
       "      <th>permanent_employment</th>\n",
       "      <th>...</th>\n",
       "      <th>creativity</th>\n",
       "      <th>leadership</th>\n",
       "      <th>flexibility</th>\n",
       "      <th>business_focus</th>\n",
       "      <th>initiative</th>\n",
       "      <th>structured_working</th>\n",
       "      <th>little_experience</th>\n",
       "      <th>much_experience</th>\n",
       "      <th>no_experience_information</th>\n",
       "      <th>some_experience</th>\n",
       "    </tr>\n",
       "  </thead>\n",
       "  <tbody>\n",
       "    <tr>\n",
       "      <th>1</th>\n",
       "      <td>https://www.stepstone.de/stellenangebote--Mana...</td>\n",
       "      <td>BIG direkt gesund</td>\n",
       "      <td>Manager (m/w/d) Data Science &amp; Statistik</td>\n",
       "      <td>Direkter geht Karriere nicht.Einstieg bei der ...</td>\n",
       "      <td>4.3</td>\n",
       "      <td>16 Bewertungen</td>\n",
       "      <td>NaN</td>\n",
       "      <td>2022-06-03</td>\n",
       "      <td>NaN</td>\n",
       "      <td>True</td>\n",
       "      <td>...</td>\n",
       "      <td>False</td>\n",
       "      <td>False</td>\n",
       "      <td>False</td>\n",
       "      <td>False</td>\n",
       "      <td>False</td>\n",
       "      <td>False</td>\n",
       "      <td>False</td>\n",
       "      <td>False</td>\n",
       "      <td>True</td>\n",
       "      <td>False</td>\n",
       "    </tr>\n",
       "    <tr>\n",
       "      <th>2</th>\n",
       "      <td>https://www.stepstone.de/stellenangebote--Mana...</td>\n",
       "      <td>BIG direkt gesund</td>\n",
       "      <td>Manager (m/w/d) Data Science &amp; Statistik</td>\n",
       "      <td>Direkter geht Karriere nicht.Einstieg bei der ...</td>\n",
       "      <td>4.3</td>\n",
       "      <td>16 Bewertungen</td>\n",
       "      <td>NaN</td>\n",
       "      <td>2022-06-03</td>\n",
       "      <td>NaN</td>\n",
       "      <td>True</td>\n",
       "      <td>...</td>\n",
       "      <td>False</td>\n",
       "      <td>False</td>\n",
       "      <td>False</td>\n",
       "      <td>False</td>\n",
       "      <td>False</td>\n",
       "      <td>False</td>\n",
       "      <td>False</td>\n",
       "      <td>False</td>\n",
       "      <td>True</td>\n",
       "      <td>False</td>\n",
       "    </tr>\n",
       "    <tr>\n",
       "      <th>3</th>\n",
       "      <td>https://www.stepstone.de/stellenangebote--Data...</td>\n",
       "      <td>METRO Markets GmbH</td>\n",
       "      <td>Data Science Lead</td>\n",
       "      <td>We create the future of B2B commerce by giving...</td>\n",
       "      <td>NaN</td>\n",
       "      <td>NaN</td>\n",
       "      <td>NaN</td>\n",
       "      <td>2022-06-01</td>\n",
       "      <td>NaN</td>\n",
       "      <td>True</td>\n",
       "      <td>...</td>\n",
       "      <td>False</td>\n",
       "      <td>False</td>\n",
       "      <td>True</td>\n",
       "      <td>False</td>\n",
       "      <td>False</td>\n",
       "      <td>False</td>\n",
       "      <td>False</td>\n",
       "      <td>True</td>\n",
       "      <td>False</td>\n",
       "      <td>False</td>\n",
       "    </tr>\n",
       "    <tr>\n",
       "      <th>4</th>\n",
       "      <td>https://www.stepstone.de/stellenangebote--Busi...</td>\n",
       "      <td>R+V Allgemeine Versicherung AG</td>\n",
       "      <td>Business Analyst / Data Science (m/w/d)</td>\n",
       "      <td>Wie sich die Versicherung von morgen anfühlen ...</td>\n",
       "      <td>4.4</td>\n",
       "      <td>247 Bewertungen</td>\n",
       "      <td>https://www.stepstone.de/cmp/de/R-V-Allgemeine...</td>\n",
       "      <td>2022-06-01</td>\n",
       "      <td>10,001+</td>\n",
       "      <td>True</td>\n",
       "      <td>...</td>\n",
       "      <td>False</td>\n",
       "      <td>False</td>\n",
       "      <td>False</td>\n",
       "      <td>False</td>\n",
       "      <td>True</td>\n",
       "      <td>False</td>\n",
       "      <td>False</td>\n",
       "      <td>False</td>\n",
       "      <td>True</td>\n",
       "      <td>False</td>\n",
       "    </tr>\n",
       "    <tr>\n",
       "      <th>8</th>\n",
       "      <td>https://www.stepstone.de/stellenangebote--Data...</td>\n",
       "      <td>CHECK24</td>\n",
       "      <td>Data Science &amp; Artificial Intelligence Manager...</td>\n",
       "      <td>CHECK24 ist eines der führenden Online-Unterne...</td>\n",
       "      <td>4.5</td>\n",
       "      <td>179 Bewertungen</td>\n",
       "      <td>https://www.stepstone.de/cmp/de/CHECK24-112642...</td>\n",
       "      <td>2022-05-28</td>\n",
       "      <td>2501-5000</td>\n",
       "      <td>True</td>\n",
       "      <td>...</td>\n",
       "      <td>False</td>\n",
       "      <td>True</td>\n",
       "      <td>False</td>\n",
       "      <td>False</td>\n",
       "      <td>False</td>\n",
       "      <td>False</td>\n",
       "      <td>False</td>\n",
       "      <td>False</td>\n",
       "      <td>True</td>\n",
       "      <td>False</td>\n",
       "    </tr>\n",
       "  </tbody>\n",
       "</table>\n",
       "<p>5 rows × 103 columns</p>\n",
       "</div>"
      ],
      "text/plain": [
       "                                                link  \\\n",
       "1  https://www.stepstone.de/stellenangebote--Mana...   \n",
       "2  https://www.stepstone.de/stellenangebote--Mana...   \n",
       "3  https://www.stepstone.de/stellenangebote--Data...   \n",
       "4  https://www.stepstone.de/stellenangebote--Busi...   \n",
       "8  https://www.stepstone.de/stellenangebote--Data...   \n",
       "\n",
       "                          company  \\\n",
       "1               BIG direkt gesund   \n",
       "2               BIG direkt gesund   \n",
       "3              METRO Markets GmbH   \n",
       "4  R+V Allgemeine Versicherung AG   \n",
       "8                         CHECK24   \n",
       "\n",
       "                                               title  \\\n",
       "1           Manager (m/w/d) Data Science & Statistik   \n",
       "2           Manager (m/w/d) Data Science & Statistik   \n",
       "3                                  Data Science Lead   \n",
       "4            Business Analyst / Data Science (m/w/d)   \n",
       "8  Data Science & Artificial Intelligence Manager...   \n",
       "\n",
       "                                             content  rating      num_ratings  \\\n",
       "1  Direkter geht Karriere nicht.Einstieg bei der ...     4.3   16 Bewertungen   \n",
       "2  Direkter geht Karriere nicht.Einstieg bei der ...     4.3   16 Bewertungen   \n",
       "3  We create the future of B2B commerce by giving...     NaN              NaN   \n",
       "4  Wie sich die Versicherung von morgen anfühlen ...     4.4  247 Bewertungen   \n",
       "8  CHECK24 ist eines der führenden Online-Unterne...     4.5  179 Bewertungen   \n",
       "\n",
       "                                        company_link release_date  \\\n",
       "1                                                NaN   2022-06-03   \n",
       "2                                                NaN   2022-06-03   \n",
       "3                                                NaN   2022-06-01   \n",
       "4  https://www.stepstone.de/cmp/de/R-V-Allgemeine...   2022-06-01   \n",
       "8  https://www.stepstone.de/cmp/de/CHECK24-112642...   2022-05-28   \n",
       "\n",
       "  company_size  permanent_employment  ...  creativity  leadership  \\\n",
       "1          NaN                  True  ...       False       False   \n",
       "2          NaN                  True  ...       False       False   \n",
       "3          NaN                  True  ...       False       False   \n",
       "4      10,001+                  True  ...       False       False   \n",
       "8    2501-5000                  True  ...       False        True   \n",
       "\n",
       "   flexibility  business_focus initiative structured_working  \\\n",
       "1        False           False      False              False   \n",
       "2        False           False      False              False   \n",
       "3         True           False      False              False   \n",
       "4        False           False       True              False   \n",
       "8        False           False      False              False   \n",
       "\n",
       "   little_experience much_experience  no_experience_information  \\\n",
       "1              False           False                       True   \n",
       "2              False           False                       True   \n",
       "3              False            True                      False   \n",
       "4              False           False                       True   \n",
       "8              False           False                       True   \n",
       "\n",
       "  some_experience  \n",
       "1           False  \n",
       "2           False  \n",
       "3           False  \n",
       "4           False  \n",
       "8           False  \n",
       "\n",
       "[5 rows x 103 columns]"
      ]
     },
     "execution_count": 2,
     "metadata": {},
     "output_type": "execute_result"
    }
   ],
   "source": [
    "df = pd.read_csv(\"../data2/cleaned_wide.csv\")\n",
    "df = df.loc[df[\"title_category\"] != \"Others\"]\n",
    "df.dropna(subset=[\"average_salary\"], inplace=True)\n",
    "df.head()"
   ]
  },
  {
   "cell_type": "code",
   "execution_count": 3,
   "id": "a75571b2-fc14-4b26-9b96-9adfee50e96f",
   "metadata": {},
   "outputs": [
    {
     "data": {
      "text/plain": [
       "(1687, 103)"
      ]
     },
     "execution_count": 3,
     "metadata": {},
     "output_type": "execute_result"
    }
   ],
   "source": [
    "df.shape"
   ]
  },
  {
   "cell_type": "markdown",
   "id": "df78585a-ea56-4d2c-8b05-de20307039b1",
   "metadata": {},
   "source": [
    "Within the EDA, attributes have already been identified that are not relevant with regard to the salary of a job. These are excluded from the outset during model building."
   ]
  },
  {
   "cell_type": "code",
   "execution_count": 4,
   "id": "3bfd8699-e25c-4fd6-9278-d4f2fdae49b7",
   "metadata": {},
   "outputs": [],
   "source": [
    "df = df[[\"company\", \"company_size\", \"home_office_possible\", \"part_time\", \"title_category\", \"experience_level\", \"average_salary\", \"main_location\", \n",
    "         \"multiple_locations\", \"main_region\", \"main_industry\", \"master\", \"phd\", \"bachelor\", \"no_degree_info\",\n",
    "         \"little_experience\", \"much_experience\", \"no_experience_information\", \"some_experience\"]]"
   ]
  },
  {
   "cell_type": "markdown",
   "id": "a58f79e0-97d2-479f-8f2c-560d26cbfc8b",
   "metadata": {},
   "source": [
    "In order to achieve an unbiased estimation of the model quality later on, the first step is to split off a part of the data as test data and put it away."
   ]
  },
  {
   "cell_type": "code",
   "execution_count": 5,
   "id": "ad5ad5c1-73d1-471b-9751-73f14d451bbf",
   "metadata": {},
   "outputs": [
    {
     "data": {
      "text/plain": [
       "((1349, 19), (338, 19))"
      ]
     },
     "execution_count": 5,
     "metadata": {},
     "output_type": "execute_result"
    }
   ],
   "source": [
    "df_train, df_test = train_test_split(df, test_size=0.2, random_state=0)\n",
    "df_train.shape, df_test.shape"
   ]
  },
  {
   "cell_type": "markdown",
   "id": "318fc700-95ee-42f1-a907-aebaecbcd398",
   "metadata": {},
   "source": [
    "There are three attributes with missing values. Since all attributes are categorical features, it was decided to add an additional category \"missing\" later."
   ]
  },
  {
   "cell_type": "code",
   "execution_count": 6,
   "id": "aa098cce-95be-42f4-ad55-29b72c7424ed",
   "metadata": {},
   "outputs": [
    {
     "data": {
      "text/plain": [
       "company_size                 345\n",
       "main_industry                217\n",
       "main_region                   42\n",
       "no_experience_information      0\n",
       "much_experience                0\n",
       "little_experience              0\n",
       "no_degree_info                 0\n",
       "bachelor                       0\n",
       "phd                            0\n",
       "master                         0\n",
       "dtype: int64"
      ]
     },
     "execution_count": 6,
     "metadata": {},
     "output_type": "execute_result"
    }
   ],
   "source": [
    "df_train.isnull().sum().sort_values(ascending=False).head(10)"
   ]
  },
  {
   "cell_type": "markdown",
   "id": "1beee9d4-4208-49b3-9b4a-f1fe233ee574",
   "metadata": {},
   "source": [
    "The target variable is approximately normally distributed, but contains a relatively extreme outlier. When using a linear model, it may be useful to remove this from the training data to better approximate the remaining data points."
   ]
  },
  {
   "cell_type": "code",
   "execution_count": 30,
   "id": "e6ec3d9c-f2b2-4172-a8cf-954f5534c179",
   "metadata": {},
   "outputs": [
    {
     "data": {
      "image/png": "[encoded data removed]",
      "text/plain": [
       "<Figure size 432x288 with 1 Axes>"
      ]
     },
     "metadata": {
      "needs_background": "light"
     },
     "output_type": "display_data"
    }
   ],
   "source": [
    "sns.histplot(x=df_train[\"average_salary\"]);"
   ]
  },
  {
   "cell_type": "markdown",
   "id": "b448cada-9170-465b-a532-628cbe8a308d",
   "metadata": {},
   "source": [
    " "
   ]
  },
  {
   "cell_type": "markdown",
   "id": "d967648b-a3be-4cb7-a83d-efba4be63f02",
   "metadata": {},
   "source": [
    "<a id=\"baseline\"></a>"
   ]
  },
  {
   "cell_type": "markdown",
   "id": "808f06f9-f43b-4d61-ac31-9e5650b4a886",
   "metadata": {},
   "source": [
    "# Baseline"
   ]
  },
  {
   "cell_type": "markdown",
   "id": "57689ebd-e73b-4265-999e-7821c5d2f03d",
   "metadata": {},
   "source": [
    "To get a feel for the difficulty of the problem, the first step is to establish a simple baseline performance. In a regression problem, the use of the target mean for all predictions is usually suitable for this purpose."
   ]
  },
  {
   "cell_type": "code",
   "execution_count": 8,
   "id": "2ab4c38b-1398-4571-8dae-c51a523ddf7b",
   "metadata": {},
   "outputs": [
    {
     "name": "stdout",
     "output_type": "stream",
     "text": [
      "train score: 9328.610852440717\n",
      "test score: 9331.5807791647\n"
     ]
    }
   ],
   "source": [
    "X = df_train.drop(\"average_salary\", axis=1)\n",
    "y = df_train[\"average_salary\"]\n",
    "model = DummyRegressor(strategy=\"mean\")\n",
    "results = cross_validate(model, X, y, scoring=\"neg_mean_absolute_error\", return_train_score=True)\n",
    "print(f\"train score: {np.abs(np.mean(results['train_score']))}\")\n",
    "print(f\"test score: {np.abs(np.mean(results['test_score']))}\")"
   ]
  },
  {
   "cell_type": "markdown",
   "id": "404d2102-b214-46de-9a46-15c97656a33e",
   "metadata": {},
   "source": [
    " "
   ]
  },
  {
   "cell_type": "markdown",
   "id": "45f42439-50f6-4bd2-9d5b-39c4b536af83",
   "metadata": {},
   "source": [
    "<a id=\"linear_model\"></a>"
   ]
  },
  {
   "cell_type": "markdown",
   "id": "9e308105-db57-4ca5-9d7f-0fb570bdf26c",
   "metadata": {},
   "source": [
    "# Lineares Modell"
   ]
  },
  {
   "cell_type": "markdown",
   "id": "45b88981-9901-4d73-8ac3-1e39bdf65c8d",
   "metadata": {},
   "source": [
    "During preprocessing, all missing values are first replaced by the missing_value category. Then, all categorical features are converted to numeric features using one-hot encoding. Scaling of the data is not necessary because the dataset contains only categorical features."
   ]
  },
  {
   "cell_type": "code",
   "execution_count": 10,
   "id": "a64a4d60-36f0-4d4a-aad6-e5ac487c3a28",
   "metadata": {},
   "outputs": [
    {
     "name": "stdout",
     "output_type": "stream",
     "text": [
      "train score: 3119.7781152269595\n",
      "test score: 7090.917786793207\n"
     ]
    }
   ],
   "source": [
    "X = df_train.drop([\"average_salary\"], axis=1)\n",
    "y = df_train[\"average_salary\"]\n",
    "\n",
    "pipe = Pipeline([\n",
    "    (\"imputer\", SimpleImputer(strategy=\"constant\", fill_value=\"missing_value\")),\n",
    "    (\"encoder\", OneHotEncoder(handle_unknown=\"ignore\")),\n",
    "    (\"model\", LinearRegression())\n",
    "])\n",
    "\n",
    "results = cross_validate(pipe, X, y, scoring=\"neg_mean_absolute_error\", return_train_score=True)\n",
    "print(f\"train score: {np.abs(np.mean(results['train_score']))}\")\n",
    "print(f\"test score: {np.abs(np.mean(results['test_score']))}\")"
   ]
  },
  {
   "cell_type": "markdown",
   "id": "60c592dc-847f-4a69-8c1f-e44018e62d57",
   "metadata": {},
   "source": [
    "The linear regression already provides a clear improvement over the baseline. However, the large difference between training and test error suggests that the model overfits the training data. Therefore, the effect of additional regularization will be investigated next."
   ]
  },
  {
   "cell_type": "code",
   "execution_count": 26,
   "id": "14b5bbe1-53e6-4493-b8e0-dc884b17f034",
   "metadata": {},
   "outputs": [
    {
     "data": {
      "text/html": [
       "<div>\n",
       "<style scoped>\n",
       "    .dataframe tbody tr th:only-of-type {\n",
       "        vertical-align: middle;\n",
       "    }\n",
       "\n",
       "    .dataframe tbody tr th {\n",
       "        vertical-align: top;\n",
       "    }\n",
       "\n",
       "    .dataframe thead th {\n",
       "        text-align: right;\n",
       "    }\n",
       "</style>\n",
       "<table border=\"1\" class=\"dataframe\">\n",
       "  <thead>\n",
       "    <tr style=\"text-align: right;\">\n",
       "      <th></th>\n",
       "      <th>alpha</th>\n",
       "      <th>train_error</th>\n",
       "      <th>test_error</th>\n",
       "    </tr>\n",
       "  </thead>\n",
       "  <tbody>\n",
       "    <tr>\n",
       "      <th>9</th>\n",
       "      <td>{'model__alpha': 9}</td>\n",
       "      <td>5081.473058</td>\n",
       "      <td>6370.336654</td>\n",
       "    </tr>\n",
       "  </tbody>\n",
       "</table>\n",
       "</div>"
      ],
      "text/plain": [
       "                 alpha  train_error   test_error\n",
       "9  {'model__alpha': 9}  5081.473058  6370.336654"
      ]
     },
     "execution_count": 26,
     "metadata": {},
     "output_type": "execute_result"
    }
   ],
   "source": [
    "X = df_train.drop([\"average_salary\"], axis=1)\n",
    "y = df_train[\"average_salary\"]\n",
    "\n",
    "pipe = Pipeline([\n",
    "    (\"imputer\", SimpleImputer(strategy=\"constant\", fill_value=\"missing_value\")),\n",
    "    (\"encoder\", OneHotEncoder(handle_unknown=\"ignore\")),\n",
    "    (\"model\", Lasso())\n",
    "])\n",
    "\n",
    "param_grid = {\"model__alpha\": list(range(0,50))}\n",
    "grid = GridSearchCV(pipe, param_grid, scoring=\"neg_mean_absolute_error\", return_train_score=True, n_jobs=-1)\n",
    "grid.fit(X, y)\n",
    "\n",
    "results = pd.DataFrame({\"alpha\": grid.cv_results_[\"params\"], \"train_error\": np.abs(grid.cv_results_[\"mean_train_score\"]), \"test_error\": np.abs(grid.cv_results_[\"mean_test_score\"])})\n",
    "results.loc[results[\"test_error\"] == results[\"test_error\"].min()]"
   ]
  },
  {
   "cell_type": "code",
   "execution_count": 29,
   "id": "37b01795-3ed9-4cc1-a889-091456060e89",
   "metadata": {},
   "outputs": [
    {
     "data": {
      "image/png": "[encoded data removed]",
      "text/plain": [
       "<Figure size 432x288 with 1 Axes>"
      ]
     },
     "metadata": {
      "needs_background": "light"
     },
     "output_type": "display_data"
    }
   ],
   "source": [
    "plt.plot(results[\"train_error\"])\n",
    "plt.plot(results[\"test_error\"])\n",
    "plt.xlabel(\"Alpha\")\n",
    "plt.ylabel(\"MAE\");"
   ]
  },
  {
   "cell_type": "markdown",
   "id": "b479160e-3c9f-4517-921d-b9de3af76691",
   "metadata": {},
   "source": [
    "The benefit of additional regularization leads to a significant improvement in the generalization error at the expense of a higher training error."
   ]
  },
  {
   "cell_type": "code",
   "execution_count": 13,
   "id": "b33de2db-5874-483a-859a-5dfc7a7ac4db",
   "metadata": {},
   "outputs": [
    {
     "name": "stderr",
     "output_type": "stream",
     "text": [
      "100%|██████████████████████████████████████████████████████████████████████████████████| 50/50 [01:55<00:00,  2.31s/it]\n"
     ]
    },
    {
     "data": {
      "text/html": [
       "<div>\n",
       "<style scoped>\n",
       "    .dataframe tbody tr th:only-of-type {\n",
       "        vertical-align: middle;\n",
       "    }\n",
       "\n",
       "    .dataframe tbody tr th {\n",
       "        vertical-align: top;\n",
       "    }\n",
       "\n",
       "    .dataframe thead th {\n",
       "        text-align: right;\n",
       "    }\n",
       "</style>\n",
       "<table border=\"1\" class=\"dataframe\">\n",
       "  <thead>\n",
       "    <tr style=\"text-align: right;\">\n",
       "      <th></th>\n",
       "      <th>alpha</th>\n",
       "      <th>train_error</th>\n",
       "      <th>test_error</th>\n",
       "    </tr>\n",
       "  </thead>\n",
       "  <tbody>\n",
       "    <tr>\n",
       "      <th>9</th>\n",
       "      <td>9</td>\n",
       "      <td>5071.690649</td>\n",
       "      <td>6356.108675</td>\n",
       "    </tr>\n",
       "  </tbody>\n",
       "</table>\n",
       "</div>"
      ],
      "text/plain": [
       "   alpha  train_error   test_error\n",
       "9      9  5071.690649  6356.108675"
      ]
     },
     "execution_count": 13,
     "metadata": {},
     "output_type": "execute_result"
    }
   ],
   "source": [
    "X = df_train.drop([\"average_salary\"], axis=1)\n",
    "y = df_train[\"average_salary\"]\n",
    "\n",
    "kfold = KFold(5)\n",
    "train_error_grid = []\n",
    "test_error_grid = []\n",
    "alpha_list = list(range(0,50))\n",
    "\n",
    "for alpha in tqdm(range(0,50)):\n",
    "    pipe = Pipeline([\n",
    "        (\"imputer\", SimpleImputer(strategy=\"constant\", fill_value=\"missing_value\")),\n",
    "        (\"encoder\", OneHotEncoder(handle_unknown=\"ignore\")),\n",
    "        (\"model\", Lasso(alpha=alpha))\n",
    "    ])\n",
    "    train_error = []\n",
    "    test_error = []\n",
    "    for train, test in kfold.split(X, y):\n",
    "        X_train = X.iloc[train]\n",
    "        y_train = y.iloc[train]\n",
    "        X_train = X_train.loc[y_train<120000]\n",
    "        y_train = y_train.loc[y_train<120000]\n",
    "        X_test = X.iloc[test]\n",
    "        y_test = y.iloc[test]\n",
    "        pipe.fit(X_train, y_train)\n",
    "        y_pred_train = pipe.predict(X_train)\n",
    "        y_pred_test = pipe.predict(X_test)\n",
    "        train_error.append(mean_absolute_error(y_train, y_pred_train))\n",
    "        test_error.append(mean_absolute_error(y_test, y_pred_test))\n",
    "\n",
    "    train_error_grid.append(np.mean(train_error))\n",
    "    test_error_grid.append(np.mean(test_error))\n",
    "    pipe.fit(X,y)\n",
    "\n",
    "results = pd.DataFrame({\"alpha\": alpha_list, \"train_error\": train_error_grid, \"test_error\": test_error_grid})\n",
    "results.loc[results[\"test_error\"] == results[\"test_error\"].min()]"
   ]
  },
  {
   "cell_type": "markdown",
   "id": "830dc95b-bd9a-4620-b492-8d490f8b710b",
   "metadata": {},
   "source": [
    "Removing the outlier once again brings a slight improvement on the test data, as the large mass of data points can now be displayed a little better."
   ]
  },
  {
   "cell_type": "markdown",
   "id": "d76c7e60-cb7c-4023-8fdc-06acd4cbedab",
   "metadata": {},
   "source": [
    " "
   ]
  },
  {
   "cell_type": "markdown",
   "id": "f8261717-0aaa-4452-991c-e257b8e23d22",
   "metadata": {},
   "source": [
    "<a id=\"non-linear_model\"></a>"
   ]
  },
  {
   "cell_type": "markdown",
   "id": "f51d8e33-82b1-4381-9dd8-e2c1615eaf22",
   "metadata": {},
   "source": [
    "# Nichtlineares Modell"
   ]
  },
  {
   "cell_type": "code",
   "execution_count": 14,
   "id": "6ffe1ccb-5b89-4a73-af9b-2c1959e8e8d4",
   "metadata": {},
   "outputs": [
    {
     "name": "stdout",
     "output_type": "stream",
     "text": [
      "Fitting 5 folds for each of 100 candidates, totalling 500 fits\n",
      "6327.943518873486\n"
     ]
    },
    {
     "data": {
      "text/plain": [
       "Pipeline(steps=[('encoder',\n",
       "                 Pipeline(steps=[('imputer',\n",
       "                                  SimpleImputer(fill_value='missing_value',\n",
       "                                                strategy='constant')),\n",
       "                                 ('encoder',\n",
       "                                  OneHotEncoder(handle_unknown='ignore'))])),\n",
       "                ('model',\n",
       "                 XGBRegressor(base_score=0.5, booster='gbtree', callbacks=None,\n",
       "                              colsample_bylevel=0.7, colsample_bynode=1,\n",
       "                              colsample_bytree=1, early_stopping_rounds=None,\n",
       "                              enable_categorical=Fals...\n",
       "                              gamma=5, gpu_id=-1, grow_policy='depthwise',\n",
       "                              importance_type=None, interaction_constraints='',\n",
       "                              learning_rate=0.05, max_bin=256,\n",
       "                              max_cat_to_onehot=4, max_delta_step=0,\n",
       "                              max_depth=5, max_leaves=0, min_child_weight=1,\n",
       "                              missing=nan, monotone_constraints='()',\n",
       "                              n_estimators=500, n_jobs=0, num_parallel_tree=1,\n",
       "                              predictor='auto', random_state=0, reg_alpha=5,\n",
       "                              reg_lambda=1, ...))])"
      ]
     },
     "execution_count": 14,
     "metadata": {},
     "output_type": "execute_result"
    }
   ],
   "source": [
    "X = df_train.drop([\"average_salary\"], axis=1)\n",
    "y = df_train[\"average_salary\"]\n",
    "\n",
    "onehot_encoding = Pipeline([\n",
    "    (\"imputer\", SimpleImputer(strategy=\"constant\", fill_value=\"missing_value\")),\n",
    "    (\"encoder\", OneHotEncoder(handle_unknown=\"ignore\"))\n",
    "])\n",
    "\n",
    "target_encoding = TargetEncoder()\n",
    "\n",
    "pipe = Pipeline([\n",
    "    (\"encoder\", None),\n",
    "    (\"model\", XGBRegressor(random_state=0))\n",
    "])\n",
    "\n",
    "param_grid = {\"encoder\": [onehot_encoding, target_encoding],\n",
    "              \"model__n_estimators\": [50, 100, 200, 500, 1000], \n",
    "              \"model__learning_rate\": [0.01, 0.05, 0.1, 0.2],\n",
    "              \"model__max_depth\": [5, 6, 7],\n",
    "              \"model__subsample\": [0.5, 0.7, 0.9, 1],\n",
    "              \"model__colsample_bylevel\": [0.5, 0.7, 0.9, 1],\n",
    "              \"model__reg_lambda\": [0, 1, 3, 5, 10],\n",
    "              \"model__reg_alpha\": [0, 1, 3, 5, 10],\n",
    "              \"model__gamma\": [0, 1, 3, 5, 10]}\n",
    "grid = RandomizedSearchCV(pipe, param_grid, n_iter=100, scoring=\"neg_mean_absolute_error\", return_train_score=True, verbose=1, n_jobs=-1, random_state=0)\n",
    "grid.fit(X, y)\n",
    "\n",
    "print(np.abs(grid.best_score_))\n",
    "grid.best_estimator_"
   ]
  },
  {
   "cell_type": "markdown",
   "id": "55017939-26b0-49cf-9ba1-a843039f87c9",
   "metadata": {},
   "source": [
    "A nonlinear model produced only a slight improvement over the linear model. With a GridSearch, it might have been possible to find a slightly better hyperparameter combination. In addition, other gradient boosting variants such as LightGBM or CatBoost could perform even minimally better. However, since the results so far do not suggest that a nonlinear model adds much value in this scenario, further tuning is foregone in favor of performance.\n",
    "\n",
    "On the other hand, the linear model provides shorter computation & inference times, lower memory requirements, and better interpretability. Therefore, the linear model was chosen for this scenario."
   ]
  },
  {
   "cell_type": "markdown",
   "id": "2eb6baa5-27c0-43ca-830f-b867864d5fc3",
   "metadata": {},
   "source": [
    " "
   ]
  },
  {
   "cell_type": "markdown",
   "id": "0a9ca36a-e8dc-45c2-b662-b77783796b02",
   "metadata": {},
   "source": [
    "<a id=\"interpretation\"></a>"
   ]
  },
  {
   "cell_type": "markdown",
   "id": "3e0418f9-aa5a-4cf2-bd8f-115b8871aed2",
   "metadata": {},
   "source": [
    "# Interpretation"
   ]
  },
  {
   "cell_type": "code",
   "execution_count": 15,
   "id": "a3f09f5d-32ed-4c08-9a44-06e8d8e4efc6",
   "metadata": {},
   "outputs": [
    {
     "name": "stdout",
     "output_type": "stream",
     "text": [
      "Mean Absolute Error on Test Set: 7190.746562402096\n"
     ]
    }
   ],
   "source": [
    "X_train = df_train.drop([\"average_salary\"], axis=1)\n",
    "y_train = df_train[\"average_salary\"]\n",
    "X_test = df_test.drop([\"average_salary\"], axis=1)\n",
    "y_test = df_test[\"average_salary\"]\n",
    "\n",
    "pipe = Pipeline([\n",
    "    (\"imputer\", SimpleImputer(strategy=\"constant\", fill_value=\"missing_value\")),\n",
    "    (\"encoder\", OneHotEncoder(handle_unknown=\"ignore\")),\n",
    "    (\"model\", Lasso(alpha=9))\n",
    "])\n",
    "\n",
    "X_train = X_train.loc[y_train<120000]\n",
    "y_train = y_train.loc[y_train<120000]\n",
    "pipe.fit(X_train, y_train)\n",
    "predictions = pipe.predict(X_test)\n",
    "print(f\"Mean Absolute Error on Test Set: {mean_absolute_error(y_test, predictions)}\")"
   ]
  },
  {
   "cell_type": "markdown",
   "id": "e989a512-cdd9-43db-9940-b4ec6b5280b0",
   "metadata": {},
   "source": [
    "The error on the test data is significantly higher than the cross validation score. This is an indication that the variance of the error is very large due to the small samples. For more precise statements about the quality of such a model, one would need significantly more data."
   ]
  },
  {
   "cell_type": "markdown",
   "id": "af645f2f-5cd3-4640-bf8d-b43392d4a1d5",
   "metadata": {},
   "source": [
    "Next, the coefficients of the model are to be interpreted. The OneHotEncoder of Scikit-Learn makes it relatively cumbersome to extract the names of the coded features. Therefore, the pipeline is slightly modified in the following and the Pandas method get_dummies() is used instead, which leads to the same results, but chooses the names of the features better."
   ]
  },
  {
   "cell_type": "code",
   "execution_count": 16,
   "id": "31c6c9c9-a4c9-41f5-b38e-637d23cbfcb7",
   "metadata": {},
   "outputs": [
    {
     "name": "stdout",
     "output_type": "stream",
     "text": [
      "train score: 5081.473503136437\n",
      "test score: 6370.539425477728\n"
     ]
    }
   ],
   "source": [
    "X_train = df_train.drop([\"average_salary\"], axis=1)\n",
    "y_train = df_train[\"average_salary\"]\n",
    "X_train = pd.get_dummies(X_train, dummy_na=True)\n",
    "\n",
    "model = Lasso(alpha=9)\n",
    "\n",
    "results = cross_validate(model, X_train, y_train, scoring=\"neg_mean_absolute_error\", return_train_score=True)\n",
    "print(f\"train score: {np.abs(np.mean(results['train_score']))}\")\n",
    "print(f\"test score: {np.abs(np.mean(results['test_score']))}\")"
   ]
  },
  {
   "cell_type": "code",
   "execution_count": 17,
   "id": "5cd989ba-1b5c-4ed9-9132-9f52193f19cc",
   "metadata": {},
   "outputs": [
    {
     "data": {
      "text/html": [
       "<div>\n",
       "<style scoped>\n",
       "    .dataframe tbody tr th:only-of-type {\n",
       "        vertical-align: middle;\n",
       "    }\n",
       "\n",
       "    .dataframe tbody tr th {\n",
       "        vertical-align: top;\n",
       "    }\n",
       "\n",
       "    .dataframe thead th {\n",
       "        text-align: right;\n",
       "    }\n",
       "</style>\n",
       "<table border=\"1\" class=\"dataframe\">\n",
       "  <thead>\n",
       "    <tr style=\"text-align: right;\">\n",
       "      <th></th>\n",
       "      <th>feature</th>\n",
       "      <th>coefficient</th>\n",
       "    </tr>\n",
       "  </thead>\n",
       "  <tbody>\n",
       "    <tr>\n",
       "      <th>262</th>\n",
       "      <td>company_JLL</td>\n",
       "      <td>33766.034251</td>\n",
       "    </tr>\n",
       "    <tr>\n",
       "      <th>116</th>\n",
       "      <td>company_Cofinpro AG</td>\n",
       "      <td>23770.464119</td>\n",
       "    </tr>\n",
       "    <tr>\n",
       "      <th>88</th>\n",
       "      <td>company_Biotronik SE &amp; Co. KG</td>\n",
       "      <td>20589.172679</td>\n",
       "    </tr>\n",
       "    <tr>\n",
       "      <th>497</th>\n",
       "      <td>company_Wall GmbH</td>\n",
       "      <td>16673.274421</td>\n",
       "    </tr>\n",
       "    <tr>\n",
       "      <th>186</th>\n",
       "      <td>company_GE Aviation</td>\n",
       "      <td>16571.173702</td>\n",
       "    </tr>\n",
       "    <tr>\n",
       "      <th>377</th>\n",
       "      <td>company_Ratbacher GmbH</td>\n",
       "      <td>16072.569748</td>\n",
       "    </tr>\n",
       "    <tr>\n",
       "      <th>419</th>\n",
       "      <td>company_Siemens AG</td>\n",
       "      <td>14697.750559</td>\n",
       "    </tr>\n",
       "    <tr>\n",
       "      <th>119</th>\n",
       "      <td>company_Condo Group GmbH</td>\n",
       "      <td>-14476.741017</td>\n",
       "    </tr>\n",
       "    <tr>\n",
       "      <th>398</th>\n",
       "      <td>company_STRATO Customer Service GmbH</td>\n",
       "      <td>-14215.481134</td>\n",
       "    </tr>\n",
       "    <tr>\n",
       "      <th>461</th>\n",
       "      <td>company_Temedica GmbH</td>\n",
       "      <td>13655.342143</td>\n",
       "    </tr>\n",
       "  </tbody>\n",
       "</table>\n",
       "</div>"
      ],
      "text/plain": [
       "                                  feature   coefficient\n",
       "262                           company_JLL  33766.034251\n",
       "116                   company_Cofinpro AG  23770.464119\n",
       "88          company_Biotronik SE & Co. KG  20589.172679\n",
       "497                     company_Wall GmbH  16673.274421\n",
       "186                   company_GE Aviation  16571.173702\n",
       "377                company_Ratbacher GmbH  16072.569748\n",
       "419                    company_Siemens AG  14697.750559\n",
       "119              company_Condo Group GmbH -14476.741017\n",
       "398  company_STRATO Customer Service GmbH -14215.481134\n",
       "461                 company_Temedica GmbH  13655.342143"
      ]
     },
     "execution_count": 17,
     "metadata": {},
     "output_type": "execute_result"
    }
   ],
   "source": [
    "X_train = X_train.loc[y_train<120000]\n",
    "y_train = y_train.loc[y_train<120000]\n",
    "model.fit(X_train, y_train)\n",
    "importances = pd.DataFrame({\"feature\": X_train.columns, \"coefficient\": model.coef_})\n",
    "importances.sort_values(\"coefficient\", ascending=False, key=lambda x: np.abs(x)).head(10)"
   ]
  },
  {
   "cell_type": "markdown",
   "id": "c14fc0dc-b6d0-4a4b-a993-ed98ce0a6675",
   "metadata": {},
   "source": [
    "A first overview shows that the largest coefficients of the model are mainly specific company names. While it is certainly interesting to know which companies pay the highest salaries, this analysis will focus primarily on somewhat more general factors. Therefore, all company names and city names are left out in the following."
   ]
  },
  {
   "cell_type": "code",
   "execution_count": 18,
   "id": "3ee4f89e-d215-46d5-8342-81ed208e3503",
   "metadata": {},
   "outputs": [
    {
     "data": {
      "text/html": [
       "<div>\n",
       "<style scoped>\n",
       "    .dataframe tbody tr th:only-of-type {\n",
       "        vertical-align: middle;\n",
       "    }\n",
       "\n",
       "    .dataframe tbody tr th {\n",
       "        vertical-align: top;\n",
       "    }\n",
       "\n",
       "    .dataframe thead th {\n",
       "        text-align: right;\n",
       "    }\n",
       "</style>\n",
       "<table border=\"1\" class=\"dataframe\">\n",
       "  <thead>\n",
       "    <tr style=\"text-align: right;\">\n",
       "      <th></th>\n",
       "      <th>feature</th>\n",
       "      <th>coefficient</th>\n",
       "    </tr>\n",
       "  </thead>\n",
       "  <tbody>\n",
       "    <tr>\n",
       "      <th>830</th>\n",
       "      <td>main_industry_Medizintechnik</td>\n",
       "      <td>6527.301626</td>\n",
       "    </tr>\n",
       "    <tr>\n",
       "      <th>602</th>\n",
       "      <td>experience_level_Senior</td>\n",
       "      <td>4006.961666</td>\n",
       "    </tr>\n",
       "    <tr>\n",
       "      <th>595</th>\n",
       "      <td>title_category_Data Science Manager</td>\n",
       "      <td>3907.909424</td>\n",
       "    </tr>\n",
       "    <tr>\n",
       "      <th>799</th>\n",
       "      <td>main_region_Hesse</td>\n",
       "      <td>3720.556975</td>\n",
       "    </tr>\n",
       "    <tr>\n",
       "      <th>808</th>\n",
       "      <td>main_region_nan</td>\n",
       "      <td>3439.558877</td>\n",
       "    </tr>\n",
       "    <tr>\n",
       "      <th>810</th>\n",
       "      <td>main_industry_Banken</td>\n",
       "      <td>2904.985586</td>\n",
       "    </tr>\n",
       "    <tr>\n",
       "      <th>828</th>\n",
       "      <td>main_industry_Maschinen- und Anlagenbau</td>\n",
       "      <td>2901.724841</td>\n",
       "    </tr>\n",
       "    <tr>\n",
       "      <th>8</th>\n",
       "      <td>much_experience</td>\n",
       "      <td>2892.301743</td>\n",
       "    </tr>\n",
       "    <tr>\n",
       "      <th>596</th>\n",
       "      <td>title_category_Data Scientist</td>\n",
       "      <td>2881.494522</td>\n",
       "    </tr>\n",
       "    <tr>\n",
       "      <th>842</th>\n",
       "      <td>main_industry_Versicherungen</td>\n",
       "      <td>2462.262544</td>\n",
       "    </tr>\n",
       "  </tbody>\n",
       "</table>\n",
       "</div>"
      ],
      "text/plain": [
       "                                     feature  coefficient\n",
       "830             main_industry_Medizintechnik  6527.301626\n",
       "602                  experience_level_Senior  4006.961666\n",
       "595      title_category_Data Science Manager  3907.909424\n",
       "799                        main_region_Hesse  3720.556975\n",
       "808                          main_region_nan  3439.558877\n",
       "810                     main_industry_Banken  2904.985586\n",
       "828  main_industry_Maschinen- und Anlagenbau  2901.724841\n",
       "8                            much_experience  2892.301743\n",
       "596            title_category_Data Scientist  2881.494522\n",
       "842             main_industry_Versicherungen  2462.262544"
      ]
     },
     "execution_count": 18,
     "metadata": {},
     "output_type": "execute_result"
    }
   ],
   "source": [
    "importances.loc[~importances[\"feature\"].str.contains(\"company|main_location\")].sort_values(\"coefficient\", ascending=False).head(10)"
   ]
  },
  {
   "cell_type": "markdown",
   "id": "c5a878ee-2d16-42c6-b13f-cce3f1401f59",
   "metadata": {},
   "source": [
    "In certain industries, such as medicine, engineering or banking, particularly high salaries are paid. In addition, positions where more experience is required pay better than others."
   ]
  },
  {
   "cell_type": "code",
   "execution_count": 19,
   "id": "ad0d76d1-7b69-4366-8ad7-c113d6059025",
   "metadata": {},
   "outputs": [
    {
     "data": {
      "text/html": [
       "<div>\n",
       "<style scoped>\n",
       "    .dataframe tbody tr th:only-of-type {\n",
       "        vertical-align: middle;\n",
       "    }\n",
       "\n",
       "    .dataframe tbody tr th {\n",
       "        vertical-align: top;\n",
       "    }\n",
       "\n",
       "    .dataframe thead th {\n",
       "        text-align: right;\n",
       "    }\n",
       "</style>\n",
       "<table border=\"1\" class=\"dataframe\">\n",
       "  <thead>\n",
       "    <tr style=\"text-align: right;\">\n",
       "      <th></th>\n",
       "      <th>feature</th>\n",
       "      <th>coefficient</th>\n",
       "    </tr>\n",
       "  </thead>\n",
       "  <tbody>\n",
       "    <tr>\n",
       "      <th>600</th>\n",
       "      <td>experience_level_Junior</td>\n",
       "      <td>-9280.859660</td>\n",
       "    </tr>\n",
       "    <tr>\n",
       "      <th>592</th>\n",
       "      <td>title_category_Data Analyst</td>\n",
       "      <td>-4404.333204</td>\n",
       "    </tr>\n",
       "    <tr>\n",
       "      <th>840</th>\n",
       "      <td>main_industry_Transport &amp; Logistik</td>\n",
       "      <td>-3928.854085</td>\n",
       "    </tr>\n",
       "    <tr>\n",
       "      <th>803</th>\n",
       "      <td>main_region_Saarland</td>\n",
       "      <td>-3755.609521</td>\n",
       "    </tr>\n",
       "    <tr>\n",
       "      <th>598</th>\n",
       "      <td>title_category_Software Engineer</td>\n",
       "      <td>-3537.064664</td>\n",
       "    </tr>\n",
       "    <tr>\n",
       "      <th>804</th>\n",
       "      <td>main_region_Saxony</td>\n",
       "      <td>-3043.637931</td>\n",
       "    </tr>\n",
       "    <tr>\n",
       "      <th>818</th>\n",
       "      <td>main_industry_Freizeit, Touristik, Kultur &amp; Sport</td>\n",
       "      <td>-2810.086057</td>\n",
       "    </tr>\n",
       "    <tr>\n",
       "      <th>845</th>\n",
       "      <td>main_industry_nan</td>\n",
       "      <td>-2612.309733</td>\n",
       "    </tr>\n",
       "    <tr>\n",
       "      <th>835</th>\n",
       "      <td>main_industry_Sonstige Branchen</td>\n",
       "      <td>-2181.772505</td>\n",
       "    </tr>\n",
       "    <tr>\n",
       "      <th>594</th>\n",
       "      <td>title_category_Data Science Consultant</td>\n",
       "      <td>-2174.963452</td>\n",
       "    </tr>\n",
       "  </tbody>\n",
       "</table>\n",
       "</div>"
      ],
      "text/plain": [
       "                                               feature  coefficient\n",
       "600                            experience_level_Junior -9280.859660\n",
       "592                        title_category_Data Analyst -4404.333204\n",
       "840                 main_industry_Transport & Logistik -3928.854085\n",
       "803                               main_region_Saarland -3755.609521\n",
       "598                   title_category_Software Engineer -3537.064664\n",
       "804                                 main_region_Saxony -3043.637931\n",
       "818  main_industry_Freizeit, Touristik, Kultur & Sport -2810.086057\n",
       "845                                  main_industry_nan -2612.309733\n",
       "835                    main_industry_Sonstige Branchen -2181.772505\n",
       "594             title_category_Data Science Consultant -2174.963452"
      ]
     },
     "execution_count": 19,
     "metadata": {},
     "output_type": "execute_result"
    }
   ],
   "source": [
    "importances.loc[~importances[\"feature\"].str.contains(\"company|main_location\")].sort_values(\"coefficient\", ascending=True).head(10)"
   ]
  },
  {
   "cell_type": "markdown",
   "id": "6a3d2c28-7276-47de-bc1a-f6f778396b29",
   "metadata": {},
   "source": [
    "As expected, the lowest salaries are paid in junior level positions. It is also evident that particularly low salaries are paid in Saarland. However, this coefficient may also be the result of the very small sample for this state. Furthermore, it becomes clear that certain job titles are also paid significantly less than others on average."
   ]
  },
  {
   "cell_type": "markdown",
   "id": "af53bcb2-05d4-443c-baff-0a00e983924c",
   "metadata": {},
   "source": [
    "In the following, individual related categories will be discussed in more detail."
   ]
  },
  {
   "cell_type": "code",
   "execution_count": 20,
   "id": "9fe0e191-57a9-40c9-9512-a8c49be2e8a3",
   "metadata": {},
   "outputs": [
    {
     "data": {
      "text/html": [
       "<div>\n",
       "<style scoped>\n",
       "    .dataframe tbody tr th:only-of-type {\n",
       "        vertical-align: middle;\n",
       "    }\n",
       "\n",
       "    .dataframe tbody tr th {\n",
       "        vertical-align: top;\n",
       "    }\n",
       "\n",
       "    .dataframe thead th {\n",
       "        text-align: right;\n",
       "    }\n",
       "</style>\n",
       "<table border=\"1\" class=\"dataframe\">\n",
       "  <thead>\n",
       "    <tr style=\"text-align: right;\">\n",
       "      <th></th>\n",
       "      <th>feature</th>\n",
       "      <th>coefficient</th>\n",
       "    </tr>\n",
       "  </thead>\n",
       "  <tbody>\n",
       "    <tr>\n",
       "      <th>595</th>\n",
       "      <td>title_category_Data Science Manager</td>\n",
       "      <td>3907.909424</td>\n",
       "    </tr>\n",
       "    <tr>\n",
       "      <th>596</th>\n",
       "      <td>title_category_Data Scientist</td>\n",
       "      <td>2881.494522</td>\n",
       "    </tr>\n",
       "    <tr>\n",
       "      <th>593</th>\n",
       "      <td>title_category_Data Engineer</td>\n",
       "      <td>0.000000</td>\n",
       "    </tr>\n",
       "    <tr>\n",
       "      <th>597</th>\n",
       "      <td>title_category_Machine Learning Engineer</td>\n",
       "      <td>0.000000</td>\n",
       "    </tr>\n",
       "    <tr>\n",
       "      <th>599</th>\n",
       "      <td>title_category_nan</td>\n",
       "      <td>0.000000</td>\n",
       "    </tr>\n",
       "    <tr>\n",
       "      <th>594</th>\n",
       "      <td>title_category_Data Science Consultant</td>\n",
       "      <td>-2174.963452</td>\n",
       "    </tr>\n",
       "    <tr>\n",
       "      <th>598</th>\n",
       "      <td>title_category_Software Engineer</td>\n",
       "      <td>-3537.064664</td>\n",
       "    </tr>\n",
       "    <tr>\n",
       "      <th>592</th>\n",
       "      <td>title_category_Data Analyst</td>\n",
       "      <td>-4404.333204</td>\n",
       "    </tr>\n",
       "  </tbody>\n",
       "</table>\n",
       "</div>"
      ],
      "text/plain": [
       "                                      feature  coefficient\n",
       "595       title_category_Data Science Manager  3907.909424\n",
       "596             title_category_Data Scientist  2881.494522\n",
       "593              title_category_Data Engineer     0.000000\n",
       "597  title_category_Machine Learning Engineer     0.000000\n",
       "599                        title_category_nan     0.000000\n",
       "594    title_category_Data Science Consultant -2174.963452\n",
       "598          title_category_Software Engineer -3537.064664\n",
       "592               title_category_Data Analyst -4404.333204"
      ]
     },
     "execution_count": 20,
     "metadata": {},
     "output_type": "execute_result"
    }
   ],
   "source": [
    "importances.loc[importances[\"feature\"].str.contains(\"title_category_\")].sort_values(\"coefficient\", ascending=False)"
   ]
  },
  {
   "cell_type": "markdown",
   "id": "d6060b2b-9ae0-4ba2-ab5d-dbf6daf68af1",
   "metadata": {},
   "source": [
    "There are sometimes strong differences between the individual job titles, as already became clear during the EDA."
   ]
  },
  {
   "cell_type": "code",
   "execution_count": 21,
   "id": "81e5e24e-1459-415f-a390-28e9146397d8",
   "metadata": {},
   "outputs": [
    {
     "data": {
      "text/html": [
       "<div>\n",
       "<style scoped>\n",
       "    .dataframe tbody tr th:only-of-type {\n",
       "        vertical-align: middle;\n",
       "    }\n",
       "\n",
       "    .dataframe tbody tr th {\n",
       "        vertical-align: top;\n",
       "    }\n",
       "\n",
       "    .dataframe thead th {\n",
       "        text-align: right;\n",
       "    }\n",
       "</style>\n",
       "<table border=\"1\" class=\"dataframe\">\n",
       "  <thead>\n",
       "    <tr style=\"text-align: right;\">\n",
       "      <th></th>\n",
       "      <th>feature</th>\n",
       "      <th>coefficient</th>\n",
       "    </tr>\n",
       "  </thead>\n",
       "  <tbody>\n",
       "    <tr>\n",
       "      <th>602</th>\n",
       "      <td>experience_level_Senior</td>\n",
       "      <td>4006.961666</td>\n",
       "    </tr>\n",
       "    <tr>\n",
       "      <th>601</th>\n",
       "      <td>experience_level_No Information</td>\n",
       "      <td>0.000000</td>\n",
       "    </tr>\n",
       "    <tr>\n",
       "      <th>603</th>\n",
       "      <td>experience_level_nan</td>\n",
       "      <td>0.000000</td>\n",
       "    </tr>\n",
       "    <tr>\n",
       "      <th>600</th>\n",
       "      <td>experience_level_Junior</td>\n",
       "      <td>-9280.859660</td>\n",
       "    </tr>\n",
       "  </tbody>\n",
       "</table>\n",
       "</div>"
      ],
      "text/plain": [
       "                             feature  coefficient\n",
       "602          experience_level_Senior  4006.961666\n",
       "601  experience_level_No Information     0.000000\n",
       "603             experience_level_nan     0.000000\n",
       "600          experience_level_Junior -9280.859660"
      ]
     },
     "execution_count": 21,
     "metadata": {},
     "output_type": "execute_result"
    }
   ],
   "source": [
    "importances.loc[importances[\"feature\"].str.contains(\"experience_level_\")].sort_values(\"coefficient\", ascending=False)"
   ]
  },
  {
   "cell_type": "markdown",
   "id": "d96ba28b-bf07-4756-bc0e-b714aa2f9cce",
   "metadata": {},
   "source": [
    "Even with the required experience level of a position, the coefficients obtained are as could be expected."
   ]
  },
  {
   "cell_type": "code",
   "execution_count": 22,
   "id": "1623dd4e-be78-488a-9919-a9c2ac4d7ff3",
   "metadata": {},
   "outputs": [
    {
     "data": {
      "text/html": [
       "<div>\n",
       "<style scoped>\n",
       "    .dataframe tbody tr th:only-of-type {\n",
       "        vertical-align: middle;\n",
       "    }\n",
       "\n",
       "    .dataframe tbody tr th {\n",
       "        vertical-align: top;\n",
       "    }\n",
       "\n",
       "    .dataframe thead th {\n",
       "        text-align: right;\n",
       "    }\n",
       "</style>\n",
       "<table border=\"1\" class=\"dataframe\">\n",
       "  <thead>\n",
       "    <tr style=\"text-align: right;\">\n",
       "      <th></th>\n",
       "      <th>feature</th>\n",
       "      <th>coefficient</th>\n",
       "    </tr>\n",
       "  </thead>\n",
       "  <tbody>\n",
       "    <tr>\n",
       "      <th>8</th>\n",
       "      <td>much_experience</td>\n",
       "      <td>2892.301743</td>\n",
       "    </tr>\n",
       "    <tr>\n",
       "      <th>10</th>\n",
       "      <td>some_experience</td>\n",
       "      <td>719.569279</td>\n",
       "    </tr>\n",
       "    <tr>\n",
       "      <th>9</th>\n",
       "      <td>no_experience_information</td>\n",
       "      <td>-1315.187991</td>\n",
       "    </tr>\n",
       "    <tr>\n",
       "      <th>7</th>\n",
       "      <td>little_experience</td>\n",
       "      <td>-1616.563572</td>\n",
       "    </tr>\n",
       "  </tbody>\n",
       "</table>\n",
       "</div>"
      ],
      "text/plain": [
       "                      feature  coefficient\n",
       "8             much_experience  2892.301743\n",
       "10            some_experience   719.569279\n",
       "9   no_experience_information -1315.187991\n",
       "7           little_experience -1616.563572"
      ]
     },
     "execution_count": 22,
     "metadata": {},
     "output_type": "execute_result"
    }
   ],
   "source": [
    "importances.loc[importances[\"feature\"].str.contains(\"_experience\")].sort_values(\"coefficient\", ascending=False)"
   ]
  },
  {
   "cell_type": "markdown",
   "id": "ec00a806-5e3f-4026-b6d4-506f67fd8b88",
   "metadata": {},
   "source": [
    "The greater the professional experience required, the higher the pay."
   ]
  },
  {
   "cell_type": "code",
   "execution_count": 23,
   "id": "e45ebb9a-ab61-454d-a9e9-be0af8281d89",
   "metadata": {},
   "outputs": [
    {
     "data": {
      "text/html": [
       "<div>\n",
       "<style scoped>\n",
       "    .dataframe tbody tr th:only-of-type {\n",
       "        vertical-align: middle;\n",
       "    }\n",
       "\n",
       "    .dataframe tbody tr th {\n",
       "        vertical-align: top;\n",
       "    }\n",
       "\n",
       "    .dataframe thead th {\n",
       "        text-align: right;\n",
       "    }\n",
       "</style>\n",
       "<table border=\"1\" class=\"dataframe\">\n",
       "  <thead>\n",
       "    <tr style=\"text-align: right;\">\n",
       "      <th></th>\n",
       "      <th>feature</th>\n",
       "      <th>coefficient</th>\n",
       "    </tr>\n",
       "  </thead>\n",
       "  <tbody>\n",
       "    <tr>\n",
       "      <th>4</th>\n",
       "      <td>phd</td>\n",
       "      <td>1275.416467</td>\n",
       "    </tr>\n",
       "    <tr>\n",
       "      <th>3</th>\n",
       "      <td>master</td>\n",
       "      <td>528.536099</td>\n",
       "    </tr>\n",
       "    <tr>\n",
       "      <th>5</th>\n",
       "      <td>bachelor</td>\n",
       "      <td>0.000000</td>\n",
       "    </tr>\n",
       "    <tr>\n",
       "      <th>6</th>\n",
       "      <td>no_degree_info</td>\n",
       "      <td>-558.848365</td>\n",
       "    </tr>\n",
       "  </tbody>\n",
       "</table>\n",
       "</div>"
      ],
      "text/plain": [
       "          feature  coefficient\n",
       "4             phd  1275.416467\n",
       "3          master   528.536099\n",
       "5        bachelor     0.000000\n",
       "6  no_degree_info  -558.848365"
      ]
     },
     "execution_count": 23,
     "metadata": {},
     "output_type": "execute_result"
    }
   ],
   "source": [
    "importances.loc[importances[\"feature\"].str.contains(\"master|phd|bachelor|no_degree_info\")].sort_values(\"coefficient\", ascending=False)"
   ]
  },
  {
   "cell_type": "markdown",
   "id": "a8666105-3f94-4521-839e-e15ec2bc04b4",
   "metadata": {},
   "source": [
    "The higher the required degree, the higher the payment. During the extraction of the corresponding information in the course of preprocessing, it was not yet entirely clear whether, in the case of a missing specification, no financial statement was required or the specification was merely forgotten. The negative coefficient makes it clear that, in these cases, a financial statement is probably really not required."
   ]
  },
  {
   "cell_type": "code",
   "execution_count": 24,
   "id": "22641a66-8e35-4132-9805-e44e2da5884c",
   "metadata": {},
   "outputs": [
    {
     "data": {
      "text/html": [
       "<div>\n",
       "<style scoped>\n",
       "    .dataframe tbody tr th:only-of-type {\n",
       "        vertical-align: middle;\n",
       "    }\n",
       "\n",
       "    .dataframe tbody tr th {\n",
       "        vertical-align: top;\n",
       "    }\n",
       "\n",
       "    .dataframe thead th {\n",
       "        text-align: right;\n",
       "    }\n",
       "</style>\n",
       "<table border=\"1\" class=\"dataframe\">\n",
       "  <thead>\n",
       "    <tr style=\"text-align: right;\">\n",
       "      <th></th>\n",
       "      <th>feature</th>\n",
       "      <th>coefficient</th>\n",
       "    </tr>\n",
       "  </thead>\n",
       "  <tbody>\n",
       "    <tr>\n",
       "      <th>584</th>\n",
       "      <td>company_size_10,001+</td>\n",
       "      <td>4424.074560</td>\n",
       "    </tr>\n",
       "    <tr>\n",
       "      <th>588</th>\n",
       "      <td>company_size_5001-10,000</td>\n",
       "      <td>3476.460542</td>\n",
       "    </tr>\n",
       "    <tr>\n",
       "      <th>591</th>\n",
       "      <td>company_size_nan</td>\n",
       "      <td>1597.320375</td>\n",
       "    </tr>\n",
       "    <tr>\n",
       "      <th>586</th>\n",
       "      <td>company_size_2501-5000</td>\n",
       "      <td>1425.311507</td>\n",
       "    </tr>\n",
       "    <tr>\n",
       "      <th>589</th>\n",
       "      <td>company_size_501-1000</td>\n",
       "      <td>-0.000000</td>\n",
       "    </tr>\n",
       "    <tr>\n",
       "      <th>585</th>\n",
       "      <td>company_size_1001-2500</td>\n",
       "      <td>-111.926836</td>\n",
       "    </tr>\n",
       "    <tr>\n",
       "      <th>587</th>\n",
       "      <td>company_size_251-500</td>\n",
       "      <td>-1359.178346</td>\n",
       "    </tr>\n",
       "    <tr>\n",
       "      <th>583</th>\n",
       "      <td>company_size_0-50</td>\n",
       "      <td>-1573.538280</td>\n",
       "    </tr>\n",
       "    <tr>\n",
       "      <th>590</th>\n",
       "      <td>company_size_51-250</td>\n",
       "      <td>-2640.527077</td>\n",
       "    </tr>\n",
       "  </tbody>\n",
       "</table>\n",
       "</div>"
      ],
      "text/plain": [
       "                      feature  coefficient\n",
       "584      company_size_10,001+  4424.074560\n",
       "588  company_size_5001-10,000  3476.460542\n",
       "591          company_size_nan  1597.320375\n",
       "586    company_size_2501-5000  1425.311507\n",
       "589     company_size_501-1000    -0.000000\n",
       "585    company_size_1001-2500  -111.926836\n",
       "587      company_size_251-500 -1359.178346\n",
       "583         company_size_0-50 -1573.538280\n",
       "590       company_size_51-250 -2640.527077"
      ]
     },
     "execution_count": 24,
     "metadata": {},
     "output_type": "execute_result"
    }
   ],
   "source": [
    "importances.loc[importances[\"feature\"].str.contains(\"company_size_\")].sort_values(\"coefficient\", ascending=False)"
   ]
  },
  {
   "cell_type": "markdown",
   "id": "2623cc2b-63cb-4988-865e-f25be2801a97",
   "metadata": {},
   "source": [
    "On the whole, the trend that larger companies also pay higher salaries is confirmed. In the context of the EDA, it still looked as if the company size 1001-2500 paid worse salaries on average than significantly smaller companies. However, this effect was obviously based on other factors and is clearly relativized in the multivariate analysis. It is also interesting that the negative coefficient of the smallest company size is significantly lower than that of the second smallest. This may indicate that employees in very small companies may have to take on several tasks at the same time and work longer hours to compensate for the lack of employees, but are compensated somewhat better for this."
   ]
  },
  {
   "cell_type": "code",
   "execution_count": 25,
   "id": "db74e4f6-d394-488e-883d-0bc9d4d7681a",
   "metadata": {},
   "outputs": [
    {
     "data": {
      "text/html": [
       "<div>\n",
       "<style scoped>\n",
       "    .dataframe tbody tr th:only-of-type {\n",
       "        vertical-align: middle;\n",
       "    }\n",
       "\n",
       "    .dataframe tbody tr th {\n",
       "        vertical-align: top;\n",
       "    }\n",
       "\n",
       "    .dataframe thead th {\n",
       "        text-align: right;\n",
       "    }\n",
       "</style>\n",
       "<table border=\"1\" class=\"dataframe\">\n",
       "  <thead>\n",
       "    <tr style=\"text-align: right;\">\n",
       "      <th></th>\n",
       "      <th>feature</th>\n",
       "      <th>coefficient</th>\n",
       "    </tr>\n",
       "  </thead>\n",
       "  <tbody>\n",
       "    <tr>\n",
       "      <th>799</th>\n",
       "      <td>main_region_Hesse</td>\n",
       "      <td>3720.556975</td>\n",
       "    </tr>\n",
       "    <tr>\n",
       "      <th>808</th>\n",
       "      <td>main_region_nan</td>\n",
       "      <td>3439.558877</td>\n",
       "    </tr>\n",
       "    <tr>\n",
       "      <th>794</th>\n",
       "      <td>main_region_Baden-Württemberg</td>\n",
       "      <td>2391.647652</td>\n",
       "    </tr>\n",
       "    <tr>\n",
       "      <th>798</th>\n",
       "      <td>main_region_Hamburg</td>\n",
       "      <td>1546.747797</td>\n",
       "    </tr>\n",
       "    <tr>\n",
       "      <th>796</th>\n",
       "      <td>main_region_Berlin</td>\n",
       "      <td>1190.787430</td>\n",
       "    </tr>\n",
       "    <tr>\n",
       "      <th>807</th>\n",
       "      <td>main_region_Thuringia</td>\n",
       "      <td>864.197659</td>\n",
       "    </tr>\n",
       "    <tr>\n",
       "      <th>795</th>\n",
       "      <td>main_region_Bavaria</td>\n",
       "      <td>686.816497</td>\n",
       "    </tr>\n",
       "    <tr>\n",
       "      <th>797</th>\n",
       "      <td>main_region_Brandenburg</td>\n",
       "      <td>-0.000000</td>\n",
       "    </tr>\n",
       "    <tr>\n",
       "      <th>800</th>\n",
       "      <td>main_region_Lower Saxony</td>\n",
       "      <td>-0.000000</td>\n",
       "    </tr>\n",
       "    <tr>\n",
       "      <th>802</th>\n",
       "      <td>main_region_Rhineland-Palatinate</td>\n",
       "      <td>-0.000000</td>\n",
       "    </tr>\n",
       "    <tr>\n",
       "      <th>805</th>\n",
       "      <td>main_region_Saxony-Anhalt</td>\n",
       "      <td>-0.000000</td>\n",
       "    </tr>\n",
       "    <tr>\n",
       "      <th>801</th>\n",
       "      <td>main_region_North Rhine-Westphalia</td>\n",
       "      <td>-305.501624</td>\n",
       "    </tr>\n",
       "    <tr>\n",
       "      <th>806</th>\n",
       "      <td>main_region_Schleswig-Holstein</td>\n",
       "      <td>-594.144308</td>\n",
       "    </tr>\n",
       "    <tr>\n",
       "      <th>804</th>\n",
       "      <td>main_region_Saxony</td>\n",
       "      <td>-3043.637931</td>\n",
       "    </tr>\n",
       "    <tr>\n",
       "      <th>803</th>\n",
       "      <td>main_region_Saarland</td>\n",
       "      <td>-3755.609521</td>\n",
       "    </tr>\n",
       "  </tbody>\n",
       "</table>\n",
       "</div>"
      ],
      "text/plain": [
       "                                feature  coefficient\n",
       "799                   main_region_Hesse  3720.556975\n",
       "808                     main_region_nan  3439.558877\n",
       "794       main_region_Baden-Württemberg  2391.647652\n",
       "798                 main_region_Hamburg  1546.747797\n",
       "796                  main_region_Berlin  1190.787430\n",
       "807               main_region_Thuringia   864.197659\n",
       "795                 main_region_Bavaria   686.816497\n",
       "797             main_region_Brandenburg    -0.000000\n",
       "800            main_region_Lower Saxony    -0.000000\n",
       "802    main_region_Rhineland-Palatinate    -0.000000\n",
       "805           main_region_Saxony-Anhalt    -0.000000\n",
       "801  main_region_North Rhine-Westphalia  -305.501624\n",
       "806      main_region_Schleswig-Holstein  -594.144308\n",
       "804                  main_region_Saxony -3043.637931\n",
       "803                main_region_Saarland -3755.609521"
      ]
     },
     "execution_count": 25,
     "metadata": {},
     "output_type": "execute_result"
    }
   ],
   "source": [
    "importances.loc[importances[\"feature\"].str.contains(\"main_region_\")].sort_values(\"coefficient\", ascending=False)"
   ]
  },
  {
   "cell_type": "markdown",
   "id": "bfd51a60-8657-42ec-b1cc-4f8d5991f6bf",
   "metadata": {},
   "source": [
    "It is striking that Bavaria, which had the second highest value in the EDA, has only a comparatively low positive coefficient in the multivariate analysis. However, this may also be due to the fact that a large part of this positive relationship is already integrated with cities such as Munich. The EDA has shown that adding the individual cities to the model is necessary. However, this introduces a certain degree of multicolinearity into the model, which makes the interpretation of the coefficients more difficult."
   ]
  },
  {
   "cell_type": "markdown",
   "id": "eb00a029-d647-42bf-b46d-16b0d8e248e7",
   "metadata": {},
   "source": [
    " "
   ]
  },
  {
   "cell_type": "markdown",
   "id": "8c4b8164-87f6-457c-8777-8b6534087c53",
   "metadata": {},
   "source": [
    "<a id=\"summary\"></a>"
   ]
  },
  {
   "cell_type": "markdown",
   "id": "ed6e9e90-1d28-4c00-b1b5-39d02f602eb0",
   "metadata": {},
   "source": [
    "# Summary"
   ]
  },
  {
   "cell_type": "markdown",
   "id": "1bec1ae3-037a-43a2-9090-22cd29b023ea",
   "metadata": {},
   "source": [
    "With the model found, it was possible to reduce the mean error of salary forecasts by 3000 euros. Nevertheless, the remaining error is still more than 6000 euros. All the features that Stepstone includes in its description of its machine learning model were also included in this model. The rules for extracting job titles, different skills, or work experience were made to the best of our ability. However, it is quite possible that Stepstone used a slightly different approach when extracting this information and may have evaluated other keywords as well. From the location information, only the states were additionally extracted in the context of this model with the help of an API. Here, one could possibly include other features such as population figures of the cities. \n",
    "\n",
    "The most likely reason for the poorer results is the insufficient amount of data. In the context of the EDA it became clear that some relationships to the target are still very distorted due to the too small sample (e.g. highest average salary in Thuringia). Most of the relationships in the model make sense in principle, but are still relatively subject to noise. For example, there is no monotonic dependence between salary and company size in the data used. A larger data set would help to minimize this noise in the data and better represent the true relationships. Also, the error obtained on the test data is relatively imprecise at the moment and would also benefit from a larger data set.\n",
    "\n",
    "Finally, it should also be mentioned that the values of the target are also in the predictions of a model and not real salaries. Attributes with Python, R or SQL, which hardly make a difference in the context of this analysis, could possibly be important for an analysis specifically designed for Data Science jobs."
   ]
  },
  {
   "cell_type": "code",
   "execution_count": null,
   "id": "9d9c4ced-ad55-4fb2-bb9d-83347041a53b",
   "metadata": {},
   "outputs": [],
   "source": []
  },
  {
   "cell_type": "code",
   "execution_count": null,
   "id": "59481c45-7483-4a19-8f4c-abdd21e96cb9",
   "metadata": {},
   "outputs": [],
   "source": []
  },
  {
   "cell_type": "code",
   "execution_count": null,
   "id": "aa1f915c-6c62-4500-bc54-1874ca8d08f4",
   "metadata": {},
   "outputs": [],
   "source": []
  }
 ],
 "metadata": {
  "kernelspec": {
   "display_name": "jobsearch",
   "language": "python",
   "name": "jobsearch"
  },
  "language_info": {
   "codemirror_mode": {
    "name": "ipython",
    "version": 3
   },
   "file_extension": ".py",
   "mimetype": "text/x-python",
   "name": "python",
   "nbconvert_exporter": "python",
   "pygments_lexer": "ipython3",
   "version": "3.9.12"
  }
 },
 "nbformat": 4,
 "nbformat_minor": 5
}
