{
 "cells": [
  {
   "cell_type": "markdown",
   "id": "9e1fbf52-0ead-4480-9523-5ce5b7bb22f0",
   "metadata": {},
   "source": [
    "# Overview\n",
    "\n",
    "This notebook deals with the preprocessing of the data to put it into a suitable format for later analysis and model building. In addition to the processing steps, it also contains some additional lines of code as well as comments, which should make the derivation of some transformations a little clearer. The actual preprocessing is again in a more compact form in preprocessing.py. The following steps are performed during the course of this notebook.\n",
    "\n",
    "- [Evaluate Contract Type](#evaluate_contract_type)\n",
    "- [Evaluate Work Type](#evaluate_work_type)\n",
    "- [Evaluate Job Title](#evaluate_job_title)\n",
    "- [Evaluate Salary](#evaluate_salary)\n",
    "- [Evaluate Location](#evaluate_location)\n",
    "- [Evaluate Industry](#evaluate_industry)\n",
    "- [Evaluate Company Size](#evaluate_company_size)\n",
    "- [Evaluate Content](#evaluate_content)"
   ]
  },
  {
   "cell_type": "code",
   "execution_count": 1,
   "id": "47e4a500-362a-41a0-96db-fd778e634cf1",
   "metadata": {},
   "outputs": [
    {
     "name": "stderr",
     "output_type": "stream",
     "text": [
      "[nltk_data] Downloading package stopwords to\n",
      "[nltk_data]     C:\\Users\\joach\\AppData\\Roaming\\nltk_data...\n",
      "[nltk_data]   Package stopwords is already up-to-date!\n"
     ]
    }
   ],
   "source": [
    "import re\n",
    "import warnings\n",
    "\n",
    "import nltk\n",
    "import numpy as np\n",
    "import pandas as pd\n",
    "import seaborn as sns\n",
    "import matplotlib.pyplot as plt\n",
    "from nltk.corpus import stopwords\n",
    "from sklearn.feature_extraction.text import CountVectorizer\n",
    "\n",
    "nltk.download('stopwords')\n",
    "warnings.filterwarnings('ignore')"
   ]
  },
  {
   "cell_type": "code",
   "execution_count": 2,
   "id": "87f8dc0c-e9e8-47d0-8f93-fc1f80a726e2",
   "metadata": {},
   "outputs": [
    {
     "data": {
      "text/plain": [
       "(3761, 14)"
      ]
     },
     "execution_count": 2,
     "metadata": {},
     "output_type": "execute_result"
    }
   ],
   "source": [
    "data_raw = pd.read_csv(\"../data/data_raw.csv\")\n",
    "data_raw.shape"
   ]
  },
  {
   "cell_type": "code",
   "execution_count": 3,
   "id": "3ee4f219-2e4a-4705-ad27-c3d4a7723331",
   "metadata": {},
   "outputs": [
    {
     "data": {
      "application/vnd.microsoft.datawrangler.viewer.v0+json": {
       "columns": [
        {
         "name": "index",
         "rawType": "int64",
         "type": "integer"
        },
        {
         "name": "link",
         "rawType": "object",
         "type": "string"
        },
        {
         "name": "company",
         "rawType": "object",
         "type": "string"
        },
        {
         "name": "title",
         "rawType": "object",
         "type": "string"
        },
        {
         "name": "location",
         "rawType": "object",
         "type": "string"
        },
        {
         "name": "content",
         "rawType": "object",
         "type": "string"
        },
        {
         "name": "industry",
         "rawType": "object",
         "type": "unknown"
        },
        {
         "name": "rating",
         "rawType": "float64",
         "type": "float"
        },
        {
         "name": "num_ratings",
         "rawType": "object",
         "type": "unknown"
        },
        {
         "name": "company_link",
         "rawType": "object",
         "type": "unknown"
        },
        {
         "name": "release_date",
         "rawType": "object",
         "type": "string"
        },
        {
         "name": "salary",
         "rawType": "object",
         "type": "unknown"
        },
        {
         "name": "company_size",
         "rawType": "object",
         "type": "unknown"
        },
        {
         "name": "contract_type",
         "rawType": "object",
         "type": "string"
        },
        {
         "name": "work_type",
         "rawType": "object",
         "type": "string"
        }
       ],
       "conversionMethod": "pd.DataFrame",
       "ref": "a7d10491-3923-4352-a379-df3211517257",
       "rows": [
        [
         "0",
         "https://www.stepstone.de/stellenangebote--Analyst-Data-Science-Artificial-Intelligence-m-w-d-Walldorf-Stuttgart-Muenchen-Leipzig-Hamburg-Frankfurt-am-Main-Duesseldorf-Berlin-BearingPoint-GmbH--7944366-inline.html",
         "BearingPoint GmbH",
         "Analyst Data Science & Artificial Intelligence (m/w/d)",
         "Walldorf, Stuttgart, München, Leipzig, Hamburg, Frankfurt am Main, Düsseldorf, Berlin",
         "Design your own career.Make your point @ BearingPoint.\nWir bieten Beratung, die Strategie mit Technologie vereint und verbinden Unternehmertum mit Innovationsgeist. Bei uns warten auf Sie außergewöhnliche Entwicklungschancen, vielfältige Gestaltungsräume und Kollegen, die schnell zu Freunden werden.\nConsulting. Software. Ventures.Ihre Aufgaben:Befeuert durch den technologischen Fortschritt wagen immer mehr weltweit führende Industrieunternehmen die digitale Transformation. Autonom fahrende Roboter übernehmen den Warenfluss in Werken, die Zukunft wird mit modernen Methoden vorhergesagt und Bestände werden von KI-Algorithmen optimiert. \nGestalten Sie Innovation! Am Puls der Zeit erkennen Sie Potentiale und Herausforderungen der Digitalisierung, entwickeln daraus Lösungen und leisten so Ihren Beitrag zu der digitalen Beschaffung, Logistik oder Produktion von Morgen. Dabei begleiten Sie jeden Schritt von der Konzeption über die Umsetzung bis hin zur Anwendung im Kundenprojekt.  \nIhre Aufgaben \n\n\nEntwicklung und Bewertung von wegweisenden Data Science Use Cases in Zusammenarbeit mit unseren Kunden bis zur Umsetzung, vorwiegend in den Bereichen Supply Chain Management, Intralogistik, Produktion \n\n\n\n\nImplementierung von Methoden und Konzepten aus den Bereichen Data Science, Artificial Intelligence, Machine Learning, Cognitive Computing, Predictive Forecasting und Robotic Process Automation \n\n\nÜbernahme von Verantwortung durch aktive fachliche und technische Weiterentwicklung und Mitgestaltung unserer Assets zur Festigung unserer Vordenkerposition \n\n\nDamit punkten Sie bei uns:\n\nErfolgreich abgeschlossenes Studium der (Wirtschafts-) Informatik, (Wirtschafts-) Mathematik, BWL, Statistik, Physik, des (Wirtschafts-) Ingenieurwesens oder vergleichbarer Studiengänge \n\n\nKenntnisse auf den Gebieten Machine Learning, Data Science oder Predictive Forecasting \n\n\n\n\nErfahrung mit Datenbanken und Datenmodellen sowie R oder Python sind wünschenswert \n\n\nErste Kenntnisse auf den Gebieten Supply Chain Management, intralogistische Prozesse, Produktionsmanagement oder Bestandsmanagement etc. sind von Vorteil \n\n\nKundenorientierte, aufgeschlossene und eigenverantwortliche Arbeitsweise innerhalb unserer Projektteams \n\n\nSchnelle, analytische und proaktive Denkweise mit einem Auge für Details \n\n\n\n\nBereitschaft zu nationaler und internationaler Reisetätigkeit \n\n\nSehr gute deutsche und englische Sprachkenntnisse \n\n\nDamit punkten wir bei Ihnen:\nVielfältige Karriereperspektiven in einem unbefristeten Arbeitsvertrag mit zahlreichen Trainings- und Coachingangeboten und individueller Betreuung durch persönlichen Development Manager\nEin attraktives Vergütungsmodell inklusive eines erfolgsabhängigen Bonus mit Option zur Umwandlung in zusätzliche Freizeittage\nHybrides Arbeiten mit neuestem technischem Equipment inkl. Smartphone: beim Kunden, in einer unserer top Office Locations oder zu Hause\nUmfangreiche Angebote für die Work-Life-Balance wie z.B. Familienservice & Firmenfitness sowie zahlreiche Corporate Benefits \nFlache Hierarchien und eine teamorientierte Unternehmenskultur, in der Diversity und Wertschätzung, ökologische Verantwortung und gesellschaftliches Engagement dazu gehören\nKontakt:Chevron bottom iconSie haben noch Fragen?Wir freuen uns auf Ihren Anruf: +49 / 221 / 65083638 oder schreiben Sie uns eine Mail an professionals@bearingpoint-careers.de.",
         "Unternehmensberatg., Wirtschaftsprüfg., Recht",
         "3.9",
         "312 Bewertungen",
         "https://www.stepstone.de/cmp/de/BearingPoint-GmbH-19656/?intcid=Button_listing_company-card_company-presentation",
         "2022-06-03",
         null,
         "2501-5000",
         "Feste Anstellung",
         "Vollzeit, Home Office möglich"
        ],
        [
         "1",
         "https://www.stepstone.de/stellenangebote--Manager-m-w-d-Data-Science-Statistik-Berlin-BIG-direkt-gesund--8362563-inline.html",
         "BIG direkt gesund",
         "Manager (m/w/d) Data Science & Statistik",
         "Berlin",
         "Direkter geht Karriere nicht.Einstieg bei der ersten Direktkrankenkasse Deutschlands: Seit über 25 Jahren setzen wir bei der BIG auf digitale Kommunikationswege und schlanke Strukturen mit vielen Extraleistungen für unsere Versicherten. Mit mehr als 500.000 Versicherten und über 900 Mitarbeiter*innen zählen wir zu den 30 größten Krankenkassen – aber wir sind auch eine der flexibelsten. Unsere Kund*innen erleben jeden Tag, was wir unter gutem Service verstehen: Kommunikation auf Augenhöhe und über den Kanal, den sie wünschen, schnelle Entscheidungen und eine bequeme Abwicklung ihrer Anliegen.\nZur Erweiterung unseres Expertenteams suchen wir Sie zum nächstmöglichen Zeitpunkt als Manager (m/w/d) Data Science & Statistik für den Standort Berlin.  Ihre Aufgaben\nErstellung von tiefgehenden Analysen für strategische Entscheidungen und Maßnahmen in allen Geschäftsbereichen sowie Präsentation der Ergebnisse vor Stakeholdern auf unterschiedlichen Ebenen\nDurchführung komplexer Datenanalysen, Datenaufbereitung und Entwicklung prognostischer Modelle auf Basis aktueller statistischer Methoden und auf Grundlage einer Identifikation und Analyse der im Unternehmen und außerhalb des Unternehmens vorhandenen Datenquellen\nGenerierung von Regeln und Programmierung von Scorings aus Massendaten (z.B. GKV-Routinedaten und Webdaten) unter Beachtung des Datenschutzes\nOptimierung datengetriebener Prozesse in den Bereichen medizinische Versorgung, Kunde und Markt sowie Financial und Risk\nEntwicklung von Use Cases, Machbarkeitsanalysen und Proof of Concepts insbesondere auch mit externen Partnern\nMitwirkung am Ausbau der digitalen Exzellenz der BIG direkt gesund und Aufbau der dazugehörigen Infrastruktur\nÜbernahme organisatorischer und kommunikativer Aufgaben in Projekten (Projektmanagement)\nIhr Profil\nBeherrschung der relevanten statistischen Methoden, KI und ML-Verfahren\ntiefgehende Kenntnisse in deskriptiver und induktiver Statistik (Stochastik) sowie Erfahrungen in der Anwendung multivariater Verfahren\nsehr gute Kenntnisse in Statistikwerkzeugen (z.B. SPSS, Python oder R)\nSensibilität für Belange des Datenschutzes sowie Kenntnis der datenschutzrechtlichen Rahmenbedingungen\nsmarte Kommunikation auch schwieriger Sachverhalte intern und extern (z.B. auf Kongressen)\nproaktive permanente fachliche Weiterbildung\nvorteilhaft sind Kenntnisse in SQL-Programmierung und in Bezug auf Web-Analytics\nWir bietenWir bieten ausgezeichnete Perspektiven und einen zukunftssicheren Arbeitsplatz. Flache Hierarchien und kurze Entscheidungswege ermöglichen Ihnen eigenverantwortliches Handeln. Darüber hinaus schaffen flexible Arbeitszeiten, die Möglichkeit von zu Hause zu arbeiten, eine ausgeprägte Feedbackkultur und unser Fokus auf praxisorientierte Weiterbildung für Sie ideale Rahmenbedingungen, um sich engagiert für unsere Kundinnen und Kunden einzusetzen. Zusätzlich bieten wir Ihnen unter anderem eine Unterstützung zur betrieblichen Altersvorsorge, VWL, ein Firmenbike sowie 30 Tage Urlaub.\nUmfassende Informationen über die Unternehmensphilosophie und das Arbeiten bei der BIG finden Sie auf unserer Website in der Rubrik „Karriere“.\n \n KontaktChevron bottom iconHaben wir Ihr Interesse geweckt? Dann bewerben Sie sich online mit Ihren aussagekräftigen Bewerbungsunterlagen. Bewerbungen von Schwerbehinderten werden begrüßt. Ziel des Gleichstellungsplans der BIG ist eine möglichst paritätische Verteilung der Positionen in den einzelnen Bereichen zwischen Mitarbeiterinnen und Mitarbeitern unter Berücksichtigung von Eignung, Befähigung und fachlicher Leistung.\nFür Fragen steht Carsten Griese, Manager HR / Recruiting, carsten.griese@big-direkt.de oder 0231.5557-3651, gerne zur Verfügung.",
         null,
         "4.3",
         "16 Bewertungen",
         null,
         "2022-06-03",
         "51.000 - 68.000 €",
         null,
         "Feste Anstellung",
         "Vollzeit, Home Office möglich"
        ],
        [
         "2",
         "https://www.stepstone.de/stellenangebote--Manager-m-w-d-Data-Science-Statistik-Dortmund-Duesseldorf-Aachen-BIG-direkt-gesund--8362548-inline.html",
         "BIG direkt gesund",
         "Manager (m/w/d) Data Science & Statistik",
         "Dortmund, Düsseldorf, Aachen",
         "Direkter geht Karriere nicht.Einstieg bei der ersten Direktkrankenkasse Deutschlands: Seit über 25 Jahren setzen wir bei der BIG auf digitale Kommunikationswege und schlanke Strukturen mit vielen Extraleistungen für unsere Versicherten. Mit mehr als 500.000 Versicherten und über 900 Mitarbeiter*innen zählen wir zu den 30 größten Krankenkassen – aber wir sind auch eine der flexibelsten. Unsere Kund*innen erleben jeden Tag, was wir unter gutem Service verstehen: Kommunikation auf Augenhöhe und über den Kanal, den sie wünschen, schnelle Entscheidungen und eine bequeme Abwicklung ihrer Anliegen.\nZur Erweiterung unseres Expertenteams suchen wir Sie zum nächstmöglichen Zeitpunkt als Manager (m/w/d) Data Science & Statistik für die Standorte Dortmund, Düsseldorf oder Aachen. Ihre Aufgaben\nErstellung von tiefgehenden Analysen für strategische Entscheidungen und Maßnahmen in allen Geschäftsbereichen sowie Präsentation der Ergebnisse vor Stakeholdern auf unterschiedlichen Ebenen\nDurchführung komplexer Datenanalysen, Datenaufbereitung und Entwicklung prognostischer Modelle auf Basis aktueller statistischer Methoden und auf Grundlage einer Identifikation und Analyse der im Unternehmen und außerhalb des Unternehmens vorhandenen Datenquellen\nGenerierung von Regeln und Programmierung von Scorings aus Massendaten (z.B. GKV-Routinedaten und Webdaten) unter Beachtung des Datenschutzes\nOptimierung datengetriebener Prozesse in den Bereichen medizinische Versorgung, Kunde und Markt sowie Financial und Risk\nEntwicklung von Use Cases, Machbarkeitsanalysen und Proof of Concepts insbesondere auch mit externen Partnern\nMitwirkung am Ausbau der digitalen Exzellenz der BIG direkt gesund und Aufbau der dazugehörigen Infrastruktur\nÜbernahme organisatorischer und kommunikativer Aufgaben in Projekten (Projektmanagement)\nIhr Profil\nBeherrschung der relevanten statistischen Methoden, KI und ML-Verfahren\ntiefgehende Kenntnisse in deskriptiver und induktiver Statistik (Stochastik) sowie Erfahrungen in der Anwendung multivariater Verfahren\nsehr gute Kenntnisse in Statistikwerkzeugen (z.B. SPSS, Python oder R)\nSensibilität für Belange des Datenschutzes sowie Kenntnis der datenschutzrechtlichen Rahmenbedingungen\nsmarte Kommunikation auch schwieriger Sachverhalte intern und extern (z.B. auf Kongressen)\nproaktive permanente fachliche Weiterbildung\nvorteilhaft sind Kenntnisse in SQL-Programmierung und in Bezug auf Web-Analytics\nWir bietenWir bieten ausgezeichnete Perspektiven und einen zukunftssicheren Arbeitsplatz. Flache Hierarchien und kurze Entscheidungswege ermöglichen Ihnen eigenverantwortliches Handeln. Darüber hinaus schaffen flexible Arbeitszeiten, die Möglichkeit von zu Hause zu arbeiten, eine ausgeprägte Feedbackkultur und unser Fokus auf praxisorientierte Weiterbildung für Sie ideale Rahmenbedingungen, um sich engagiert für unsere Kundinnen und Kunden einzusetzen. Zusätzlich bieten wir Ihnen unter anderem eine Unterstützung zur betrieblichen Altersvorsorge, VWL, ein Firmenbike sowie 30 Tage Urlaub.\nUmfassende Informationen über die Unternehmensphilosophie und das Arbeiten bei der BIG finden Sie auf unserer Website in der Rubrik „Karriere“.\n \n KontaktChevron bottom iconHaben wir Ihr Interesse geweckt? Dann bewerben Sie sich online mit Ihren aussagekräftigen Bewerbungsunterlagen. Bewerbungen von Schwerbehinderten werden begrüßt. Ziel des Gleichstellungsplans der BIG ist eine möglichst paritätische Verteilung der Positionen in den einzelnen Bereichen zwischen Mitarbeiterinnen und Mitarbeitern unter Berücksichtigung von Eignung, Befähigung und fachlicher Leistung.\nFür Fragen steht Carsten Griese, Manager HR / Recruiting, carsten.griese@big-direkt.de oder 0231.5557-3651, gerne zur Verfügung.",
         null,
         "4.3",
         "16 Bewertungen",
         null,
         "2022-06-03",
         "51.000 - 74.000 €",
         null,
         "Feste Anstellung",
         "Vollzeit, Home Office möglich"
        ],
        [
         "3",
         "https://www.stepstone.de/stellenangebote--Data-Science-Lead-Duesseldorf-Palma-de-Mallorca-METRO-Markets-GmbH--8300873-inline.html",
         "METRO Markets GmbH",
         "Data Science Lead",
         "Düsseldorf, Palma de Mallorca",
         "We create the future of B2B commerce by giving business relationships a platform. Our marketplace enables millions of business owners all over the world to focus on what they do best – delight others.Online marketplaces have never been this awesome.\nJoin our team of passionate technology enthusiasts and e-commerce specialists in our brand-new offices in Düsseldorf or in Palma de Mallorca!\nWe are looking for an experienced Data Scientist, that can help us to build and establish a scalable ecosystem (tools, processes, people and more) around Data Science to be rolled out across the entire company.\nYou will work within the Business Intelligence & Data Analytics department and will be working closely with our Data Engineers & Data Analysts but also with stakeholders and teams from all different functions across the company to empower them to generate value from data.In this role, you will have the fantastic and rare opportunity to define, build and influence a setup from scratch with the latest up-to-date technologies in a very fast-growing and scaling environment.\nSounds good? You will be responsible for:\n\nBuild and own a scalable Data Science ecosystem and team from scratch\nYou will be the key ambassador within the company for all Data Science topics\nYou will define and establish best practices and guidelines for all phases of data science process, from model conceptualization and tuning over model implementation to model testing and running them in the cloud\nLive and breathe an appropriate mixture between Strategy, Hands-On, Enabling and Education around kicking off Data Science at scale based on the maturity of our business\nTeam up with data engineers, data analysts, developers, product people and various other functions across the company on data science-related challenges\nEstablish a scalable Data Science mindest and culture across the company\nDefine the scope of the entire team and team lead it\n\nYou've got\n\nPassion for building and shaping things that will be having a real impact on our culture & business \nA degree in a Data Science related field\nStrong skills in Statistics & Mathematics and their application within the field of Data Science \n6+ years of professional experience working as a Data Scientist, ideally not purely within an agency setup\nProven experience in real-world-application of Data Science in an E-Commerce / Retail / Wholesale environment\nProven knowledge and experience with building a Data Science Platform from scratch and how to integrate with self developed and 3rd party software\nA strong track record in working with peers and stakeholders from many organizational hierarchy levels across different domains\nExperience with Big Data & Cloud technologies such as GCP, AWS, Docker, or similar\nStrong Python and SQL and skills and knowledge of software development best practices (git, packaging, deployment, etc…)\nA very good understanding of Data Engineering and how it integrates with Data Science\nExperience with at least one deep learning framework such as PyTorch, TensorFlow or similar\nAbility and willingness to switch between “hands on” and “strategic” working mode according to situational needs \nExperience with functional and disciplinary leadership will be a plus\n\nWe've got\n\nAn exciting product with a strong and long-term vision\nA hybrid work model with high flexibility\nTraining opportunities tailored to your individual career path\nOpportunities to work from abroad for some time\nAn amazing international team, lots of events and team activities\nLots of corporate benefits\nFunky offices in Palma and Düsseldorf with easy access by road & public transport\nIf you’re not from Germany/Spain, we’ll give you relocation support  \n\n",
         "IT & Internet",
         null,
         null,
         null,
         "2022-06-01",
         "74.000 - 98.000 €",
         null,
         "Feste Anstellung",
         "Vollzeit, Home Office möglich"
        ],
        [
         "4",
         "https://www.stepstone.de/stellenangebote--Werkstudent-BI-und-Data-Science-Manager-m-w-d-Strategy-Hub-Muenchen-CHECK24--8353172-inline.html",
         "CHECK24",
         "Werkstudent BI und Data Science Manager (m/w/d) Strategy Hub",
         "München",
         "Bist Du bereit, etwas zu bewegen und neue, spannende und innovative Produkte und Features für unsere Kunden zu entwickeln?\n \nAls Deutschlands führendes Vergleichsportal bieten wir unseren mehr als 15 Millionen Kunden bereits heute eine Vielzahl an innovativen Services für die unterschiedlichsten Lebensbereiche. Um unsere Innovationspower noch weiter anzuheizen, zielen wir mit unserem Strategy Hub darauf ab, kontinuierlich bestehende Vergleiche zu optimieren und neue Produkte zu entwickeln. Unser Team arbeitet dabei tagtäglich mit dem CHECK24 CEO- und Gründerteam zusammen.\n \nAls Werkstudent BI und Data Science Manager (m/w/d) unterstützt Du das Strategy Hub Team bei der Evaluierung neuer Technologien. Du erstellt eigenständige Analysen, technologische Benchmarkings und leitest darauf Empfehlungen für die strategische Roadmap ab.Zu Deinen Aufgaben zählen\nDu setzt Dich mit zentralen Bedürfnissen und Problemen unserer Kunden auseinander und entwickelst daraus neue Produkt- und Serviceideen\nFür neue Produkt-Features und Prozess-Optimierungen für einzelne Produktbereiche von CHECK24 analysierst Du große Datenmengen konzipierst Datenpipelines für Machine-Learning-Modelle und leitest darauf aufbauend Handlungsempfehlungen ab\nEntwickle Entscheidungsvorlagen welche Du dann vor unseren CEO-Gremien in Abstimmungsterminen präsentierst\nFür einen effizienten Wissenstransfer koordinierst Du den Austausch mit Stakeholdern und Teams innerhalb des Unternehmens\nWas Du mitbringst\nIn einem dynamischen Marktumfeld möchtest Du mit Deinem Beitrag und Deinen Kompetenzen Impact auf Deutschlands größtes Vergleichsportal haben\nDu bist eingeschriebener Student in Data Science, Computerlinguistik, Mathematik, Physik, Statistik, Informatik, Wirtschaftsinformatik oder einem vergleichbaren Studiengang\nEine strukturierte und lösungsorientierte Arbeitsweise zeichnet Dich aus und Du bist pragmatisch und übernimmst gerne Verantwortung für Deine Projekte und Aufgaben\nIdealerweise hast Du erste Erfahrung im Umgang mit relationalen Datenbanken (insb. SQL) gesammelt\nDu verfügst über solide Programmiererfahrung (z.B. Python, R)\nWas wir Dir bieten\nWir bringen Dich voran: Wir bieten Dir ein Umfeld, in dem Du von erfahrenen Internetunternehmern (m/w/d) und Product Ownern (m/w/d) lernen kannst. Wir fördern Deine Entwicklung mit individuellen fachlichen und persönlichen Trainingsangeboten. Durch unser starkes und nachhaltiges Wachstum bieten wir Dir Perspektiven für spannende Einstiegspositionen nach Deinem Studium.\nOwnership für Deine Themen: Wir geben Dir viel Raum für Eigeninitiative. Bringe Deine Ideen aktiv ein und beeinflusse somit direkt den Erfolg von CHECK24 – als Werkstudent im Strategy Hub Team mit Impact über eine Vielzahl von Produkten hinweg!\nWir sind auch neben der Arbeit ein super Team: Erfolge feiern wir gemeinsam auf zahlreichen Events wie unseren monatlichen Drinkouts sowie unseren Sommer- und Weihnachtsfeiern. Ob beim Kicker, Tischtennis oder beim After-Work-Get-Together: Teamspirit wird bei uns großgeschrieben!\nHier kannst Du Dich wohlfühlen: Durch unsere Duz-Kultur herrscht ein kollegiales und freundschaftliches Umfeld. Extras wie Getränke, Obst, Müsli oder CHECKito Lunches sind bei uns selbstverständlich!\nDu findest leicht zu uns: Wir arbeiten an der Donnersbergerbrücke mit ausgezeichneter Verkehrsanbindung direkt an der Münchner Stammstrecke.\nHast Du Fragen?Chevron bottom iconLuisa Thiele\nPersonalreferentin Recruiting\n\nluisa.thiele@check24.de\nhttps://jobs.check24.de\n\nBewerbungen können ausschließlich online über unser Bewerbungsformular angenommen werden.",
         "Finanzdienstleister|Versicherungen",
         "4.5",
         "179 Bewertungen",
         "https://www.stepstone.de/cmp/de/CHECK24-112642/?intcid=Button_listing_company-card_company-presentation",
         "2022-06-01",
         null,
         "2501-5000",
         "Studentenjobs, Werkstudent",
         "Teilzeit"
        ]
       ],
       "shape": {
        "columns": 14,
        "rows": 5
       }
      },
      "text/html": [
       "<div>\n",
       "<style scoped>\n",
       "    .dataframe tbody tr th:only-of-type {\n",
       "        vertical-align: middle;\n",
       "    }\n",
       "\n",
       "    .dataframe tbody tr th {\n",
       "        vertical-align: top;\n",
       "    }\n",
       "\n",
       "    .dataframe thead th {\n",
       "        text-align: right;\n",
       "    }\n",
       "</style>\n",
       "<table border=\"1\" class=\"dataframe\">\n",
       "  <thead>\n",
       "    <tr style=\"text-align: right;\">\n",
       "      <th></th>\n",
       "      <th>link</th>\n",
       "      <th>company</th>\n",
       "      <th>title</th>\n",
       "      <th>location</th>\n",
       "      <th>content</th>\n",
       "      <th>industry</th>\n",
       "      <th>rating</th>\n",
       "      <th>num_ratings</th>\n",
       "      <th>company_link</th>\n",
       "      <th>release_date</th>\n",
       "      <th>salary</th>\n",
       "      <th>company_size</th>\n",
       "      <th>contract_type</th>\n",
       "      <th>work_type</th>\n",
       "    </tr>\n",
       "  </thead>\n",
       "  <tbody>\n",
       "    <tr>\n",
       "      <th>0</th>\n",
       "      <td>https://www.stepstone.de/stellenangebote--Anal...</td>\n",
       "      <td>BearingPoint GmbH</td>\n",
       "      <td>Analyst Data Science &amp; Artificial Intelligence...</td>\n",
       "      <td>Walldorf, Stuttgart, München, Leipzig, Hamburg...</td>\n",
       "      <td>Design your own career.Make your point @ Beari...</td>\n",
       "      <td>Unternehmensberatg., Wirtschaftsprüfg., Recht</td>\n",
       "      <td>3.9</td>\n",
       "      <td>312 Bewertungen</td>\n",
       "      <td>https://www.stepstone.de/cmp/de/BearingPoint-G...</td>\n",
       "      <td>2022-06-03</td>\n",
       "      <td>NaN</td>\n",
       "      <td>2501-5000</td>\n",
       "      <td>Feste Anstellung</td>\n",
       "      <td>Vollzeit, Home Office möglich</td>\n",
       "    </tr>\n",
       "    <tr>\n",
       "      <th>1</th>\n",
       "      <td>https://www.stepstone.de/stellenangebote--Mana...</td>\n",
       "      <td>BIG direkt gesund</td>\n",
       "      <td>Manager (m/w/d) Data Science &amp; Statistik</td>\n",
       "      <td>Berlin</td>\n",
       "      <td>Direkter geht Karriere nicht.Einstieg bei der ...</td>\n",
       "      <td>NaN</td>\n",
       "      <td>4.3</td>\n",
       "      <td>16 Bewertungen</td>\n",
       "      <td>NaN</td>\n",
       "      <td>2022-06-03</td>\n",
       "      <td>51.000 - 68.000 €</td>\n",
       "      <td>NaN</td>\n",
       "      <td>Feste Anstellung</td>\n",
       "      <td>Vollzeit, Home Office möglich</td>\n",
       "    </tr>\n",
       "    <tr>\n",
       "      <th>2</th>\n",
       "      <td>https://www.stepstone.de/stellenangebote--Mana...</td>\n",
       "      <td>BIG direkt gesund</td>\n",
       "      <td>Manager (m/w/d) Data Science &amp; Statistik</td>\n",
       "      <td>Dortmund, Düsseldorf, Aachen</td>\n",
       "      <td>Direkter geht Karriere nicht.Einstieg bei der ...</td>\n",
       "      <td>NaN</td>\n",
       "      <td>4.3</td>\n",
       "      <td>16 Bewertungen</td>\n",
       "      <td>NaN</td>\n",
       "      <td>2022-06-03</td>\n",
       "      <td>51.000 - 74.000 €</td>\n",
       "      <td>NaN</td>\n",
       "      <td>Feste Anstellung</td>\n",
       "      <td>Vollzeit, Home Office möglich</td>\n",
       "    </tr>\n",
       "    <tr>\n",
       "      <th>3</th>\n",
       "      <td>https://www.stepstone.de/stellenangebote--Data...</td>\n",
       "      <td>METRO Markets GmbH</td>\n",
       "      <td>Data Science Lead</td>\n",
       "      <td>Düsseldorf, Palma de Mallorca</td>\n",
       "      <td>We create the future of B2B commerce by giving...</td>\n",
       "      <td>IT &amp; Internet</td>\n",
       "      <td>NaN</td>\n",
       "      <td>NaN</td>\n",
       "      <td>NaN</td>\n",
       "      <td>2022-06-01</td>\n",
       "      <td>74.000 - 98.000 €</td>\n",
       "      <td>NaN</td>\n",
       "      <td>Feste Anstellung</td>\n",
       "      <td>Vollzeit, Home Office möglich</td>\n",
       "    </tr>\n",
       "    <tr>\n",
       "      <th>4</th>\n",
       "      <td>https://www.stepstone.de/stellenangebote--Werk...</td>\n",
       "      <td>CHECK24</td>\n",
       "      <td>Werkstudent BI und Data Science Manager (m/w/d...</td>\n",
       "      <td>München</td>\n",
       "      <td>Bist Du bereit, etwas zu bewegen und neue, spa...</td>\n",
       "      <td>Finanzdienstleister|Versicherungen</td>\n",
       "      <td>4.5</td>\n",
       "      <td>179 Bewertungen</td>\n",
       "      <td>https://www.stepstone.de/cmp/de/CHECK24-112642...</td>\n",
       "      <td>2022-06-01</td>\n",
       "      <td>NaN</td>\n",
       "      <td>2501-5000</td>\n",
       "      <td>Studentenjobs, Werkstudent</td>\n",
       "      <td>Teilzeit</td>\n",
       "    </tr>\n",
       "  </tbody>\n",
       "</table>\n",
       "</div>"
      ],
      "text/plain": [
       "                                                link             company  \\\n",
       "0  https://www.stepstone.de/stellenangebote--Anal...   BearingPoint GmbH   \n",
       "1  https://www.stepstone.de/stellenangebote--Mana...   BIG direkt gesund   \n",
       "2  https://www.stepstone.de/stellenangebote--Mana...   BIG direkt gesund   \n",
       "3  https://www.stepstone.de/stellenangebote--Data...  METRO Markets GmbH   \n",
       "4  https://www.stepstone.de/stellenangebote--Werk...             CHECK24   \n",
       "\n",
       "                                               title  \\\n",
       "0  Analyst Data Science & Artificial Intelligence...   \n",
       "1           Manager (m/w/d) Data Science & Statistik   \n",
       "2           Manager (m/w/d) Data Science & Statistik   \n",
       "3                                  Data Science Lead   \n",
       "4  Werkstudent BI und Data Science Manager (m/w/d...   \n",
       "\n",
       "                                            location  \\\n",
       "0  Walldorf, Stuttgart, München, Leipzig, Hamburg...   \n",
       "1                                             Berlin   \n",
       "2                       Dortmund, Düsseldorf, Aachen   \n",
       "3                      Düsseldorf, Palma de Mallorca   \n",
       "4                                            München   \n",
       "\n",
       "                                             content  \\\n",
       "0  Design your own career.Make your point @ Beari...   \n",
       "1  Direkter geht Karriere nicht.Einstieg bei der ...   \n",
       "2  Direkter geht Karriere nicht.Einstieg bei der ...   \n",
       "3  We create the future of B2B commerce by giving...   \n",
       "4  Bist Du bereit, etwas zu bewegen und neue, spa...   \n",
       "\n",
       "                                        industry  rating      num_ratings  \\\n",
       "0  Unternehmensberatg., Wirtschaftsprüfg., Recht     3.9  312 Bewertungen   \n",
       "1                                            NaN     4.3   16 Bewertungen   \n",
       "2                                            NaN     4.3   16 Bewertungen   \n",
       "3                                  IT & Internet     NaN              NaN   \n",
       "4             Finanzdienstleister|Versicherungen     4.5  179 Bewertungen   \n",
       "\n",
       "                                        company_link release_date  \\\n",
       "0  https://www.stepstone.de/cmp/de/BearingPoint-G...   2022-06-03   \n",
       "1                                                NaN   2022-06-03   \n",
       "2                                                NaN   2022-06-03   \n",
       "3                                                NaN   2022-06-01   \n",
       "4  https://www.stepstone.de/cmp/de/CHECK24-112642...   2022-06-01   \n",
       "\n",
       "              salary company_size               contract_type  \\\n",
       "0                NaN    2501-5000            Feste Anstellung   \n",
       "1  51.000 - 68.000 €          NaN            Feste Anstellung   \n",
       "2  51.000 - 74.000 €          NaN            Feste Anstellung   \n",
       "3  74.000 - 98.000 €          NaN            Feste Anstellung   \n",
       "4                NaN    2501-5000  Studentenjobs, Werkstudent   \n",
       "\n",
       "                       work_type  \n",
       "0  Vollzeit, Home Office möglich  \n",
       "1  Vollzeit, Home Office möglich  \n",
       "2  Vollzeit, Home Office möglich  \n",
       "3  Vollzeit, Home Office möglich  \n",
       "4                       Teilzeit  "
      ]
     },
     "execution_count": 3,
     "metadata": {},
     "output_type": "execute_result"
    }
   ],
   "source": [
    "data_raw.head()"
   ]
  },
  {
   "cell_type": "code",
   "execution_count": 4,
   "id": "6c98c7ba-6968-42b6-8a85-23e04435922b",
   "metadata": {},
   "outputs": [
    {
     "data": {
      "text/plain": [
       "link                0\n",
       "company             0\n",
       "title               0\n",
       "location            0\n",
       "content             0\n",
       "industry          637\n",
       "rating           1137\n",
       "num_ratings      1137\n",
       "company_link      751\n",
       "release_date        0\n",
       "salary           1643\n",
       "company_size      974\n",
       "contract_type       0\n",
       "work_type           0\n",
       "dtype: int64"
      ]
     },
     "execution_count": 4,
     "metadata": {},
     "output_type": "execute_result"
    }
   ],
   "source": [
    "data_raw.isnull().sum()"
   ]
  },
  {
   "cell_type": "markdown",
   "id": "1174f81d-11fd-4ee6-b488-e13cb0b21ac3",
   "metadata": {},
   "source": [
    " "
   ]
  },
  {
   "cell_type": "markdown",
   "id": "d7fd2921-7f23-4a33-8171-a971b1d27232",
   "metadata": {},
   "source": [
    "<a id=\"evaluate_contract_type\"></a>"
   ]
  },
  {
   "cell_type": "markdown",
   "id": "a4dc9dd9-6ee8-4b76-baf5-c25f67229ec5",
   "metadata": {
    "tags": []
   },
   "source": [
    "# Evaluate Contract Type"
   ]
  },
  {
   "cell_type": "markdown",
   "id": "9db34c60-02ca-48b8-8482-aeb2b9dce52f",
   "metadata": {},
   "source": [
    "The job descriptions received fall into many different categories, many of which are not relevant to the analysis to come. Therefore, in this section, all irrelevant ads will be removed from the data."
   ]
  },
  {
   "cell_type": "code",
   "execution_count": 5,
   "id": "069eda74-d5f7-4677-83d0-d9ac3257a14b",
   "metadata": {},
   "outputs": [
    {
     "data": {
      "text/plain": [
       "contract_type\n",
       "Feste Anstellung                                                            3218\n",
       "Befristeter Vertrag                                                          151\n",
       "Studentenjobs, Werkstudent                                                   117\n",
       "Praktikum                                                                     95\n",
       "Berufseinstieg/Trainee                                                        47\n",
       "Ausbildung, Studium                                                           44\n",
       "Praktikum, Studentenjobs, Werkstudent                                         28\n",
       "Bachelor-/Master-/Diplom-Arbeiten                                             23\n",
       "Promotion/Habilitation                                                        14\n",
       "Feste Anstellung, Berufseinstieg/Trainee                                       9\n",
       "Bachelor-/Master-/Diplom-Arbeiten, Praktikum                                   5\n",
       "Arbeitnehmerüberlassung                                                        4\n",
       "Feste Anstellung, Ausbildung, Studium                                          1\n",
       "Freie Mitarbeit/Projektmitarbeit                                               1\n",
       "Bachelor-/Master-/Diplom-Arbeiten, Studentenjobs, Werkstudent                  1\n",
       "Bachelor-/Master-/Diplom-Arbeiten, Praktikum, Studentenjobs, Werkstudent       1\n",
       "Arbeitnehmerüberlassung, Feste Anstellung                                      1\n",
       "Feste Anstellung, Studentenjobs, Werkstudent                                   1\n",
       "Name: count, dtype: int64"
      ]
     },
     "execution_count": 5,
     "metadata": {},
     "output_type": "execute_result"
    }
   ],
   "source": [
    "data_raw[\"contract_type\"].value_counts()"
   ]
  },
  {
   "cell_type": "code",
   "execution_count": 6,
   "id": "d221cbfe-3c2b-4e7b-bacc-639bc365a4b1",
   "metadata": {},
   "outputs": [
    {
     "data": {
      "text/plain": [
       "Feste Anstellung                     3230\n",
       "Befristeter Vertrag                   151\n",
       "Studentenjobs                         148\n",
       "Werkstudent                           148\n",
       "Praktikum                             129\n",
       "Berufseinstieg/Trainee                 56\n",
       "Ausbildung                             45\n",
       "Studium                                45\n",
       "Bachelor-/Master-/Diplom-Arbeiten      30\n",
       "Promotion/Habilitation                 14\n",
       "Arbeitnehmerüberlassung                 5\n",
       "Freie Mitarbeit/Projektmitarbeit        1\n",
       "dtype: int64"
      ]
     },
     "execution_count": 6,
     "metadata": {},
     "output_type": "execute_result"
    }
   ],
   "source": [
    "contracts = data_raw[\"contract_type\"].str.replace(\", \", \",\").str.get_dummies(\",\")\n",
    "contracts.sum().sort_values(ascending=False)"
   ]
  },
  {
   "cell_type": "markdown",
   "id": "d7f97a95-859b-4bdd-98ce-eadea4db270d",
   "metadata": {},
   "source": [
    "The only categories of interest in the remainder of the data analysis are \"permanent employment\" and \"trainee\"."
   ]
  },
  {
   "cell_type": "code",
   "execution_count": 7,
   "id": "3933d910-8e4c-4451-91d2-4a0ea36514ba",
   "metadata": {},
   "outputs": [
    {
     "data": {
      "text/plain": [
       "(3277, 15)"
      ]
     },
     "execution_count": 7,
     "metadata": {},
     "output_type": "execute_result"
    }
   ],
   "source": [
    "def filter_contract_types(df):\n",
    "    df[\"permanent_employment\"] = df[\"contract_type\"].str.contains(\"Feste Anstellung\")\n",
    "    df[\"trainee\"] = df[\"contract_type\"].str.contains(\"Trainee\")\n",
    "    df = df.loc[(df[\"permanent_employment\"] == 1) | (df[\"trainee\"] == 1)]\n",
    "    df = df.drop(\"contract_type\", axis=1)\n",
    "    return df\n",
    "\n",
    "data_cleaned = filter_contract_types(data_raw)\n",
    "data_cleaned.shape"
   ]
  },
  {
   "cell_type": "code",
   "execution_count": 8,
   "id": "a323f476-bf58-44f7-9921-f038f245a6e4",
   "metadata": {},
   "outputs": [
    {
     "data": {
      "text/plain": [
       "Index(['link', 'company', 'title', 'location', 'content', 'industry', 'rating',\n",
       "       'num_ratings', 'company_link', 'release_date', 'salary', 'company_size',\n",
       "       'work_type', 'permanent_employment', 'trainee'],\n",
       "      dtype='object')"
      ]
     },
     "execution_count": 8,
     "metadata": {},
     "output_type": "execute_result"
    }
   ],
   "source": [
    "data_cleaned.columns"
   ]
  },
  {
   "cell_type": "markdown",
   "id": "cb1eeb60-f7d0-431a-8fab-64d99c1655ee",
   "metadata": {},
   "source": [
    " "
   ]
  },
  {
   "cell_type": "markdown",
   "id": "97aab859-6412-4398-bbea-f474e0c23a4a",
   "metadata": {},
   "source": [
    "<a id=\"evaluate_work_type\"></a>"
   ]
  },
  {
   "cell_type": "markdown",
   "id": "cb4cf3d0-ec59-4044-836b-a41ca5234725",
   "metadata": {
    "tags": []
   },
   "source": [
    "# Evaluate Work Type"
   ]
  },
  {
   "cell_type": "code",
   "execution_count": 9,
   "id": "c6809a47-70c1-4f13-bb59-51d1f42dac9b",
   "metadata": {},
   "outputs": [
    {
     "data": {
      "text/plain": [
       "work_type\n",
       "Vollzeit                                   1893\n",
       "Vollzeit, Home Office möglich              1093\n",
       "Vollzeit, Teilzeit, Home Office möglich     171\n",
       "Vollzeit, Teilzeit                          107\n",
       "Teilzeit                                     10\n",
       "Teilzeit, Home Office möglich                 3\n",
       "Name: count, dtype: int64"
      ]
     },
     "execution_count": 9,
     "metadata": {},
     "output_type": "execute_result"
    }
   ],
   "source": [
    "data_cleaned[\"work_type\"].value_counts()"
   ]
  },
  {
   "cell_type": "markdown",
   "id": "355d4a27-bcd7-472d-97c9-3eb6432dc20d",
   "metadata": {},
   "source": [
    "Among the job descriptions are both full-time and part-time jobs. Some of these jobs can also optionally be performed in the home office. Since the attribute \"work_type\" can also contain several of these categories, it is split into three individual attributes below."
   ]
  },
  {
   "cell_type": "code",
   "execution_count": 10,
   "id": "9b07d94a-0f19-4744-be21-9129bb5ac15b",
   "metadata": {},
   "outputs": [
    {
     "data": {
      "text/plain": [
       "(3277, 17)"
      ]
     },
     "execution_count": 10,
     "metadata": {},
     "output_type": "execute_result"
    }
   ],
   "source": [
    "def convert_work_types(df):\n",
    "    work_types = df[\"work_type\"].str.replace(\", \", \",\").str.get_dummies(\",\").astype(\"bool\")\n",
    "    work_types = work_types.rename({\"Vollzeit\": \"full_time\", \"Teilzeit\": \"part_time\", \"Home Office möglich\": \"home_office_possible\"}, axis=1)\n",
    "    df = pd.concat([df, work_types], axis=1)\n",
    "    df = df.drop(\"work_type\", axis=1)\n",
    "    return df\n",
    "\n",
    "data_cleaned = convert_work_types(data_cleaned)\n",
    "data_cleaned.shape"
   ]
  },
  {
   "cell_type": "markdown",
   "id": "1e734fc9-1beb-4943-a393-c72447248e1f",
   "metadata": {},
   "source": [
    " "
   ]
  },
  {
   "cell_type": "markdown",
   "id": "f8de5563-6d87-4b02-a875-5745db3a8837",
   "metadata": {},
   "source": [
    "<a id=\"evaluate_job_title\"></a>"
   ]
  },
  {
   "cell_type": "markdown",
   "id": "e66155ef-04d3-4b05-bfb5-13bfbe41caef",
   "metadata": {
    "tags": []
   },
   "source": [
    "# Evaluate Job Title"
   ]
  },
  {
   "cell_type": "markdown",
   "id": "efbc9d19-9971-4eb2-b824-1ec5a9eda4b0",
   "metadata": {},
   "source": [
    "The problem with analyzing job titles is that they are not in a uniform format and thus almost every name is unique. Therefore, at this point we will try to divide the titles into different categories with the help of some rule."
   ]
  },
  {
   "cell_type": "code",
   "execution_count": 11,
   "id": "46ace5af-9068-4c12-9c80-b479e4347421",
   "metadata": {},
   "outputs": [
    {
     "data": {
      "text/plain": [
       "3041"
      ]
     },
     "execution_count": 11,
     "metadata": {},
     "output_type": "execute_result"
    }
   ],
   "source": [
    "data_cleaned[\"title\"].nunique()"
   ]
  },
  {
   "cell_type": "code",
   "execution_count": 12,
   "id": "e1e345a0-20f5-4781-8cf0-71a37948631c",
   "metadata": {},
   "outputs": [
    {
     "data": {
      "text/plain": [
       "title\n",
       "Data Engineer (m/w/d)                                                            22\n",
       "Data Scientist (m/w/d)                                                           18\n",
       "Data Analyst (m/w/d)                                                             17\n",
       "Data Engineer (w/m/d)                                                             9\n",
       "Data Engineer (m/f/d)                                                             7\n",
       "                                                                                 ..\n",
       "Senior Sales Manager IT Solutions (m/w/d)                                         1\n",
       "W2‑Professur für Industrie 4.0 / IoT / Cyberphysische Systeme (m/w/d)             1\n",
       "Spezialist Global Pricing (m/w/d)                                                 1\n",
       "Sensor Fusion Data Engineer C++ / Python for L4 Autonomous Driving (f/m/div.)     1\n",
       "Senior Analyst im Bereich Economic Intelligence (w/m/d)                           1\n",
       "Name: count, Length: 3041, dtype: int64"
      ]
     },
     "execution_count": 12,
     "metadata": {},
     "output_type": "execute_result"
    }
   ],
   "source": [
    "data_cleaned[\"title\"].value_counts()"
   ]
  },
  {
   "cell_type": "markdown",
   "id": "a24c5190-7163-4cb9-8b01-74a9a3270ab0",
   "metadata": {},
   "source": [
    "To get an overview of frequently occurring patterns in the job titles, all titles are combined into a single string and the occurrence of individual words and combinations of words is counted. "
   ]
  },
  {
   "cell_type": "code",
   "execution_count": 13,
   "id": "fee303fd-3d2e-4396-9409-7eb01853f7d0",
   "metadata": {},
   "outputs": [
    {
     "data": {
      "text/plain": [
       "424"
      ]
     },
     "execution_count": 13,
     "metadata": {},
     "output_type": "execute_result"
    }
   ],
   "source": [
    "stop_eng = set(stopwords.words('english'))\n",
    "stop_ger = set(stopwords.words('german'))\n",
    "stop_all = stop_eng.union(stop_ger)\n",
    "len(stop_all)"
   ]
  },
  {
   "cell_type": "code",
   "execution_count": 14,
   "id": "5076d4a5-d382-4d39-951c-6bd08676590b",
   "metadata": {},
   "outputs": [
    {
     "data": {
      "application/vnd.microsoft.datawrangler.viewer.v0+json": {
       "columns": [
        {
         "name": "index",
         "rawType": "int64",
         "type": "integer"
        },
        {
         "name": "keyword",
         "rawType": "object",
         "type": "string"
        },
        {
         "name": "count",
         "rawType": "int64",
         "type": "integer"
        }
       ],
       "conversionMethod": "pd.DataFrame",
       "ref": "fcd17b1f-489b-4a1e-85bb-280c1b3ffb04",
       "rows": [
        [
         "5063",
         "data engineer",
         "270"
        ],
        [
         "4836",
         "data analyst",
         "204"
        ],
        [
         "5370",
         "data scientist",
         "191"
        ],
        [
         "18236",
         "senior consultant",
         "151"
        ],
        [
         "18301",
         "senior data",
         "150"
        ],
        [
         "7606",
         "engineer data",
         "106"
        ],
        [
         "12944",
         "machine learning",
         "77"
        ],
        [
         "19033",
         "software engineer",
         "75"
        ],
        [
         "4937",
         "data analytics",
         "74"
        ],
        [
         "3167",
         "business intelligence",
         "74"
        ],
        [
         "10392",
         "im bereich",
         "68"
        ],
        [
         "18306",
         "senior data engineer",
         "64"
        ],
        [
         "5335",
         "data science",
         "64"
        ],
        [
         "766",
         "analyst data",
         "62"
        ],
        [
         "5091",
         "data engineer data",
         "59"
        ],
        [
         "18985",
         "software developer",
         "57"
        ],
        [
         "3069",
         "business analyst",
         "55"
        ],
        [
         "15928",
         "product owner",
         "55"
        ],
        [
         "2920",
         "big data",
         "49"
        ],
        [
         "18410",
         "senior manager",
         "48"
        ]
       ],
       "shape": {
        "columns": 2,
        "rows": 20
       }
      },
      "text/html": [
       "<div>\n",
       "<style scoped>\n",
       "    .dataframe tbody tr th:only-of-type {\n",
       "        vertical-align: middle;\n",
       "    }\n",
       "\n",
       "    .dataframe tbody tr th {\n",
       "        vertical-align: top;\n",
       "    }\n",
       "\n",
       "    .dataframe thead th {\n",
       "        text-align: right;\n",
       "    }\n",
       "</style>\n",
       "<table border=\"1\" class=\"dataframe\">\n",
       "  <thead>\n",
       "    <tr style=\"text-align: right;\">\n",
       "      <th></th>\n",
       "      <th>keyword</th>\n",
       "      <th>count</th>\n",
       "    </tr>\n",
       "  </thead>\n",
       "  <tbody>\n",
       "    <tr>\n",
       "      <th>5063</th>\n",
       "      <td>data engineer</td>\n",
       "      <td>270</td>\n",
       "    </tr>\n",
       "    <tr>\n",
       "      <th>4836</th>\n",
       "      <td>data analyst</td>\n",
       "      <td>204</td>\n",
       "    </tr>\n",
       "    <tr>\n",
       "      <th>5370</th>\n",
       "      <td>data scientist</td>\n",
       "      <td>191</td>\n",
       "    </tr>\n",
       "    <tr>\n",
       "      <th>18236</th>\n",
       "      <td>senior consultant</td>\n",
       "      <td>151</td>\n",
       "    </tr>\n",
       "    <tr>\n",
       "      <th>18301</th>\n",
       "      <td>senior data</td>\n",
       "      <td>150</td>\n",
       "    </tr>\n",
       "    <tr>\n",
       "      <th>7606</th>\n",
       "      <td>engineer data</td>\n",
       "      <td>106</td>\n",
       "    </tr>\n",
       "    <tr>\n",
       "      <th>12944</th>\n",
       "      <td>machine learning</td>\n",
       "      <td>77</td>\n",
       "    </tr>\n",
       "    <tr>\n",
       "      <th>19033</th>\n",
       "      <td>software engineer</td>\n",
       "      <td>75</td>\n",
       "    </tr>\n",
       "    <tr>\n",
       "      <th>4937</th>\n",
       "      <td>data analytics</td>\n",
       "      <td>74</td>\n",
       "    </tr>\n",
       "    <tr>\n",
       "      <th>3167</th>\n",
       "      <td>business intelligence</td>\n",
       "      <td>74</td>\n",
       "    </tr>\n",
       "    <tr>\n",
       "      <th>10392</th>\n",
       "      <td>im bereich</td>\n",
       "      <td>68</td>\n",
       "    </tr>\n",
       "    <tr>\n",
       "      <th>18306</th>\n",
       "      <td>senior data engineer</td>\n",
       "      <td>64</td>\n",
       "    </tr>\n",
       "    <tr>\n",
       "      <th>5335</th>\n",
       "      <td>data science</td>\n",
       "      <td>64</td>\n",
       "    </tr>\n",
       "    <tr>\n",
       "      <th>766</th>\n",
       "      <td>analyst data</td>\n",
       "      <td>62</td>\n",
       "    </tr>\n",
       "    <tr>\n",
       "      <th>5091</th>\n",
       "      <td>data engineer data</td>\n",
       "      <td>59</td>\n",
       "    </tr>\n",
       "    <tr>\n",
       "      <th>18985</th>\n",
       "      <td>software developer</td>\n",
       "      <td>57</td>\n",
       "    </tr>\n",
       "    <tr>\n",
       "      <th>3069</th>\n",
       "      <td>business analyst</td>\n",
       "      <td>55</td>\n",
       "    </tr>\n",
       "    <tr>\n",
       "      <th>15928</th>\n",
       "      <td>product owner</td>\n",
       "      <td>55</td>\n",
       "    </tr>\n",
       "    <tr>\n",
       "      <th>2920</th>\n",
       "      <td>big data</td>\n",
       "      <td>49</td>\n",
       "    </tr>\n",
       "    <tr>\n",
       "      <th>18410</th>\n",
       "      <td>senior manager</td>\n",
       "      <td>48</td>\n",
       "    </tr>\n",
       "  </tbody>\n",
       "</table>\n",
       "</div>"
      ],
      "text/plain": [
       "                     keyword  count\n",
       "5063           data engineer    270\n",
       "4836            data analyst    204\n",
       "5370          data scientist    191\n",
       "18236      senior consultant    151\n",
       "18301            senior data    150\n",
       "7606           engineer data    106\n",
       "12944       machine learning     77\n",
       "19033      software engineer     75\n",
       "4937          data analytics     74\n",
       "3167   business intelligence     74\n",
       "10392             im bereich     68\n",
       "18306   senior data engineer     64\n",
       "5335            data science     64\n",
       "766             analyst data     62\n",
       "5091      data engineer data     59\n",
       "18985     software developer     57\n",
       "3069        business analyst     55\n",
       "15928          product owner     55\n",
       "2920                big data     49\n",
       "18410         senior manager     48"
      ]
     },
     "execution_count": 14,
     "metadata": {},
     "output_type": "execute_result"
    }
   ],
   "source": [
    "# CountVectorizer actually expects several examples\n",
    "title_text = \" | \".join(data_cleaned[\"title\"])\n",
    "l = []\n",
    "l.append(title_text)\n",
    "\n",
    "vectorizer = CountVectorizer(ngram_range=(2,3))\n",
    "vector = vectorizer.fit_transform(l)\n",
    "results = pd.DataFrame({\"keyword\": vectorizer.get_feature_names_out(), \"count\": vector.toarray().reshape(-1)})\n",
    "results = results.loc[~results[\"keyword\"].isin(stop_eng.union(stop_ger))]\n",
    "results.sort_values(\"count\", ascending=False).head(20)"
   ]
  },
  {
   "cell_type": "markdown",
   "id": "89fd7aaa-83e0-4595-9227-88c29df50017",
   "metadata": {},
   "source": [
    "Based on the obtained findings, a set of rules was formed using regular expressions to classify the existing job titles into the following categories:\n",
    "- Software Engineer\n",
    "- Data Analyst\n",
    "- Data Scientist\n",
    "- Data Engineer\n",
    "- Machine Learning Engineer\n",
    "- Data Science Consultant\n",
    "- Data Science Manager\n",
    "\n",
    "One problem that became clear during the derivation of the rules is that the categories obtained are not exclusive. For example, some job titles contain the term \"Data Analyst/Scientist\". For this reason, it was decided to make the classification hierarchical and to overwrite ambiguous job titles with the superordinate category in case of doubt."
   ]
  },
  {
   "cell_type": "code",
   "execution_count": 15,
   "id": "7dfcf0d6-94cc-4ac1-bcd2-6ebb4082821d",
   "metadata": {},
   "outputs": [
    {
     "name": "stdout",
     "output_type": "stream",
     "text": [
      "3041\n"
     ]
    },
    {
     "data": {
      "text/plain": [
       "title_category\n",
       "Data Science Manager         746\n",
       "Others                       660\n",
       "Data Science Consultant      401\n",
       "Software Engineer            400\n",
       "Data Analyst                 362\n",
       "Data Engineer                358\n",
       "Data Scientist               202\n",
       "Machine Learning Engineer    148\n",
       "Name: count, dtype: int64"
      ]
     },
     "execution_count": 15,
     "metadata": {},
     "output_type": "execute_result"
    }
   ],
   "source": [
    "def convert_title(df):\n",
    "    df[\"title_category\"] = \"Others\"\n",
    "    df.loc[df[\"title\"].str.contains(\"Software|Developer|Entwickler\", case=False, regex=True), \"title_category\"] = \"Software Engineer\"\n",
    "    df.loc[df[\"title\"].str.contains(\"Analyst|Business[- ]*Intelligence|Analytics|Reporting\", case=False, regex=True), \"title_category\"] = \"Data Analyst\"\n",
    "    df.loc[df[\"title\"].str.contains(\"Data[ \\S]*Scien|Research[ \\S]*(Scientist|Engineer)|Statistik\", case=False, regex=True), \"title_category\"] = \"Data Scientist\"\n",
    "    df.loc[df[\"title\"].str.contains(\"(Data|Cloud)[ \\S]*(Engineer|Archite(c|k)t|Specialist)|Data Warehouse|Datenbank|Database\", case=False, regex=True), \"title_category\"] = \"Data Engineer\"\n",
    "    df.loc[df[\"title\"].str.contains(\"Machine[- ]*Learning|Deep[- ]*Learning|(\\W|^)(AI|KI|ML|DL)(\\W|$)|Artificial[- ]*Intelligence|Künstliche[- ]*Intelligenz|MLOps\", case=False, regex=True), \"title_category\"] = \"Machine Learning Engineer\"   \n",
    "    df.loc[df[\"title\"].str.contains(\"Consultant|Berater|Consulting\", case=False, regex=True), \"title_category\"] = \"Data Science Consultant\"\n",
    "    df.loc[df[\"title\"].str.contains(\"Manager|Head|Lead|Leiter|Leitung|Vorstand|Chief|Owner|Partner|Director\", case=False, regex=True), \"title_category\"] = \"Data Science Manager\" \n",
    "    return df\n",
    "\n",
    "data_cleaned = convert_title(data_cleaned)\n",
    "print(data_cleaned[\"title\"].nunique())\n",
    "data_cleaned[\"title_category\"].value_counts()"
   ]
  },
  {
   "cell_type": "markdown",
   "id": "0b184ba3-22dc-4971-af39-48747b6aa5ea",
   "metadata": {},
   "source": [
    "It is clear that several job ads could not be assigned to any of the defined categories. This is due to the fact that when scraping the ads, not only exact job titles but also keywords such as \"Data Science\" or \"Machine Learning\" were searched for in order to integrate as many possible job titles as possible. However, this also included jobs where the company is oriented towards Data Science, but the actual job does not have much to do with it. Since the existing rule was used to try to capture all relevant jobs as best as possible, all other entries can be excluded from the subsequent analysis."
   ]
  },
  {
   "cell_type": "code",
   "execution_count": 16,
   "id": "0cdd8b79-f565-4878-b56d-24a6ce42a7c9",
   "metadata": {},
   "outputs": [
    {
     "name": "stdout",
     "output_type": "stream",
     "text": [
      "133                                                        Sr. Experience Researcher, International Product Led Growth\n",
      "137                                                                                            DevOps Engineer (m/w/d)\n",
      "162                                                                        Referent RTL Data (w/m/d) (RTL Deutschland)\n",
      "195                                                                                     Digital Health Experte (m/w/d)\n",
      "202                                                                                     IT Systemadministrator (m/w/d)\n",
      "203                                                                                     Mathematiker (m/w/d) Aktuariat\n",
      "206    IT-Experte/IT-Spezialist/in (m/w/d)\\nTelekommunikationsüberwachung und Elektronische Schnittstelle der Behörden\n",
      "207            IT-Experte/IT-Spezialist/in (w/m/d)\\nTelekommunikationsüberwachung / Informationstechnische Überwachung\n",
      "212                                                                             Wissenschaftlichen Mitarbeiter (w/m/d)\n",
      "219                            Produktverantwortlicher Werkstattliteratur im Bereich Global Services and Parts (w/m/d)\n",
      "Name: title, dtype: object\n"
     ]
    }
   ],
   "source": [
    "with pd.option_context(\"display.max_colwidth\", None):\n",
    "    print(data_cleaned.loc[data_cleaned[\"title_category\"] == \"Others\", \"title\"].head(10))"
   ]
  },
  {
   "cell_type": "markdown",
   "id": "115d4f52-def8-449d-b017-cc3308d80b49",
   "metadata": {},
   "source": [
    "Furthermore, some job titles may additionally indicate the required experience level for the position."
   ]
  },
  {
   "cell_type": "code",
   "execution_count": 17,
   "id": "e4d183ef-7566-4e98-bffa-afe766df6f1d",
   "metadata": {},
   "outputs": [
    {
     "data": {
      "text/plain": [
       "experience_level\n",
       "No Information    2438\n",
       "Senior             684\n",
       "Junior             155\n",
       "Name: count, dtype: int64"
      ]
     },
     "execution_count": 17,
     "metadata": {},
     "output_type": "execute_result"
    }
   ],
   "source": [
    "def extract_experience_level(df):\n",
    "    df[\"experience_level\"] = \"No Information\"\n",
    "    df.loc[df[\"title\"].str.contains(\"Junior|Jr.\", case=False), \"experience_level\"] = \"Junior\"\n",
    "    df.loc[df[\"title\"].str.contains(\"Senior|Sr.\", case=False), \"experience_level\"] = \"Senior\"\n",
    "    return df\n",
    "\n",
    "data_cleaned = extract_experience_level(data_cleaned)\n",
    "data_cleaned[\"experience_level\"].value_counts()"
   ]
  },
  {
   "cell_type": "markdown",
   "id": "cd2f9189-60f0-4795-a24e-311034180adc",
   "metadata": {},
   "source": [
    " "
   ]
  },
  {
   "cell_type": "markdown",
   "id": "59b5dcde-957b-4d82-92d7-181e2118849c",
   "metadata": {},
   "source": [
    "<a id=\"evaluate_salary\"></a>"
   ]
  },
  {
   "cell_type": "markdown",
   "id": "076e1415-c9da-4a06-b0d5-23c892571f6b",
   "metadata": {
    "tags": []
   },
   "source": [
    "# Evaluate Salary"
   ]
  },
  {
   "cell_type": "code",
   "execution_count": 18,
   "id": "8759f729-570f-42b4-a13f-ae1006798fe3",
   "metadata": {},
   "outputs": [
    {
     "data": {
      "text/plain": [
       "(3277, 19)"
      ]
     },
     "execution_count": 18,
     "metadata": {},
     "output_type": "execute_result"
    }
   ],
   "source": [
    "def convert_salary(df):\n",
    "    min_salaries = df[\"salary\"].str.split(\" \").str[0].str.replace(\".\", \"\", regex=False).astype(\"float\")\n",
    "    max_salaries = df[\"salary\"].str.split(\" \").str[2].str.replace(\".\", \"\", regex=False).astype(\"float\")\n",
    "    df[\"average_salary\"] = (min_salaries + max_salaries) / 2\n",
    "    df.drop(\"salary\", axis=1, inplace=True)\n",
    "    return df\n",
    "\n",
    "data_cleaned = convert_salary(data_cleaned)\n",
    "data_cleaned.shape"
   ]
  },
  {
   "cell_type": "code",
   "execution_count": 19,
   "id": "c0ff132d-6089-4483-acb2-8b044c9d1a91",
   "metadata": {},
   "outputs": [
    {
     "data": {
      "image/png": "[encoded data removed]",
      "text/plain": [
       "<Figure size 640x480 with 1 Axes>"
      ]
     },
     "metadata": {},
     "output_type": "display_data"
    }
   ],
   "source": [
    "sns.boxplot(x=data_cleaned[\"average_salary\"]);"
   ]
  },
  {
   "cell_type": "markdown",
   "id": "ed27b5f4-5762-47b3-8d08-530560bf1e15",
   "metadata": {},
   "source": [
    "When looking at the salaries, an outlier close to 0 becomes apparent, which should not really exist. A closer look at the job ad shows that the rest of the data is completely fine. Therefore, it was decided at this point to keep the ad in the data and set the salary to NaN."
   ]
  },
  {
   "cell_type": "code",
   "execution_count": 20,
   "id": "afb53593-52ad-443a-a137-fa78c7e6176a",
   "metadata": {},
   "outputs": [
    {
     "data": {
      "application/vnd.microsoft.datawrangler.viewer.v0+json": {
       "columns": [
        {
         "name": "index",
         "rawType": "int64",
         "type": "integer"
        },
        {
         "name": "link",
         "rawType": "object",
         "type": "string"
        },
        {
         "name": "company",
         "rawType": "object",
         "type": "string"
        },
        {
         "name": "title",
         "rawType": "object",
         "type": "string"
        },
        {
         "name": "location",
         "rawType": "object",
         "type": "string"
        },
        {
         "name": "content",
         "rawType": "object",
         "type": "string"
        },
        {
         "name": "industry",
         "rawType": "object",
         "type": "string"
        },
        {
         "name": "rating",
         "rawType": "float64",
         "type": "float"
        },
        {
         "name": "num_ratings",
         "rawType": "object",
         "type": "string"
        },
        {
         "name": "company_link",
         "rawType": "object",
         "type": "string"
        },
        {
         "name": "release_date",
         "rawType": "object",
         "type": "string"
        },
        {
         "name": "company_size",
         "rawType": "object",
         "type": "string"
        },
        {
         "name": "permanent_employment",
         "rawType": "bool",
         "type": "boolean"
        },
        {
         "name": "trainee",
         "rawType": "bool",
         "type": "boolean"
        },
        {
         "name": "home_office_possible",
         "rawType": "bool",
         "type": "boolean"
        },
        {
         "name": "part_time",
         "rawType": "bool",
         "type": "boolean"
        },
        {
         "name": "full_time",
         "rawType": "bool",
         "type": "boolean"
        },
        {
         "name": "title_category",
         "rawType": "object",
         "type": "string"
        },
        {
         "name": "experience_level",
         "rawType": "object",
         "type": "string"
        },
        {
         "name": "average_salary",
         "rawType": "float64",
         "type": "float"
        }
       ],
       "conversionMethod": "pd.DataFrame",
       "ref": "10583e8e-365c-4531-9660-633816ba3038",
       "rows": [
        [
         "2486",
         "https://www.stepstone.de/stellenangebote--Expert-m-w-d-Operations-Analytics-Ismaning-Raum-Muenchen-Home-Shopping-Europe-GmbH--8329622-inline.html",
         "Home Shopping Europe GmbH",
         "Expert (m/w/d) Operations Analytics",
         "Ismaning, Raum München",
         "Zwischen Excelsheets und Live-TV, zwischen Forecast-Analysen und Prognosen, zwischen Kundenbedürfnissen und Einkauf hast Du im Bereich Vertriebsplanung, Vertriebscontrolling und Business Analytics Einfluss auf die gesamte Wertschöpfungskette von HSE und trägst unmittelbar zum Erfolg bei. Du hast keine Scheu vor Data-Mining und durchblickst komplexe Zusammenhänge?\nHSE ist die moderne Marke für Lifestyle-Shopping. Seit den Anfängen im Jahr 1995 haben wir immer wieder Pionier­arbeit geleistet: Als erster Shopping­sender in Deutschland gestartet, hat HSE bereits 1998 die Branche ins E-Commerce-Zeitalter überführt und ist heute auf allen relevanten Platt­formen präsent. Wir begeistern unsere Kund*innen mit einzig­artigen Einkaufs­erlebnissen. Jeden Tag aufs Neue. Deshalb suchen wir Menschen mit Persön­lichkeit und Leiden­schaft, die mit ihren Ideen die multi­medialen Einkaufs­welten von HSE gestalten und weiter­entwickeln wollen.\nKlingt gut? Dann willkommen im Team, als\n Expert (m/w/d) Operations Analytics \n*Geschlecht egal, Hauptsache, Du passt zu uns!Das erwartet Dich:\nGewährleistung der Verfügbarkeit und Richtigkeit bereichsrelevanter Kennzahlen\nAufbau und Erstellung von Regelreports, Präsentationen und Ad-hoc-Analysen sowie Ableitung klarer Handlungsempfehlungen und Zusammenführung von Management-Informationen \nBeauftragung und Koordination der Umsetzung neuer Kennzahlen und Datenanbindungen\nDokumentation von Kennzahlendefinitionen\nSchnittstelle zwischen Operations Stakeholdern und BI / IT\nErarbeitung statistischer Modelle für Lang-, Mittel- und Kurzfristplanung\nUnterstützung im Financial Forecasting und Budgeting der Operations-Bereiche\nOptimierung und Weiterentwicklung der bestehenden Analyseprozesse und notwendigen Messinstrumente im Verantwortungsbereich\nWeitere Aufgaben nach Anforderungen\nDas bringst Du mit:\nStudium: Wirtschaftsinformatik, Mathematik oder vergleichbar relevante Berufsausbildung, idealerweise im Handlungsumfeld\nMehrjährige relevante Berufserfahrung\nErfahrung im Umgang mit Data-Warehouse- bzw. BI-Systemen, idealerweise im Handelsumfeld Operations (Beispiel Supply Chain oder Customer Experience)\nExcel Spezialist (m/w/d), fundierte Kenntnisse in SQL und Datenbank-Know-how, BI-Tools (Beispiel: Power BI)\nMS Office im gesamten Paket (erweiterte Kenntnisse)\nSAP-Kenntnisse: ERP Finance, CRM\nSehr hohes Interesse an Operations-Prozessen und den daraus resultierenden Kennzahlen\nSehr schnelle Auffassungsgabe, fachliche Anforderungen aus den Operations-Bereichen zu verstehen, um dafür Lösungen zu schaffen\nAusgeprägte Dienstleistermentalität, hohe soziale Kompetenz und hohes Maß an Eigeninitiative\nFließende Deutsch- und Englischkenntnisse in Wort und Schrift\nDas sind Deine Vorteile:\nKantine auf dem Campus\nShopping-Gutschein\n30 Tage Urlaub\nMobiles Arbeiten\nSommerfest und Weihnachtsfeier\nFlexible Arbeitszeiten\nWeiterbildungsmöglichkeiten\nCorporate Benefits\nWeihnachtsgeld\nBetriebliche Altersvorsorge\nUnfallversicherung\nLeistungsbezogener Bonus\nDeine Ansprechpartnerin:Chevron bottom iconDu hast Lust, unser Team zu unter­stützen und das Home­shopping in eine goldene Zukunft zu führen?\nDu willst etwas bewegen und Deine Karriere selbst in die Hand nehmen? Dann ist es Zeit für Deine Erfolgsgeschichte bei HSE.\nVesna Mader, Manager Talent Acquisition\n Jetzt bewerben als Expert (m/w/d) Operations Analytics ",
         "IT & Internet",
         "4.3",
         "49 Bewertungen",
         "https://www.stepstone.de/cmp/de/Home-Shopping-Europe-GmbH-1264/?intcid=Button_listing_company-card_company-presentation",
         "2022-05-25",
         "501-1000",
         "True",
         "False",
         "True",
         "False",
         "True",
         "Data Analyst",
         "No Information",
         "1.0"
        ]
       ],
       "shape": {
        "columns": 19,
        "rows": 1
       }
      },
      "text/html": [
       "<div>\n",
       "<style scoped>\n",
       "    .dataframe tbody tr th:only-of-type {\n",
       "        vertical-align: middle;\n",
       "    }\n",
       "\n",
       "    .dataframe tbody tr th {\n",
       "        vertical-align: top;\n",
       "    }\n",
       "\n",
       "    .dataframe thead th {\n",
       "        text-align: right;\n",
       "    }\n",
       "</style>\n",
       "<table border=\"1\" class=\"dataframe\">\n",
       "  <thead>\n",
       "    <tr style=\"text-align: right;\">\n",
       "      <th></th>\n",
       "      <th>link</th>\n",
       "      <th>company</th>\n",
       "      <th>title</th>\n",
       "      <th>location</th>\n",
       "      <th>content</th>\n",
       "      <th>industry</th>\n",
       "      <th>rating</th>\n",
       "      <th>num_ratings</th>\n",
       "      <th>company_link</th>\n",
       "      <th>release_date</th>\n",
       "      <th>company_size</th>\n",
       "      <th>permanent_employment</th>\n",
       "      <th>trainee</th>\n",
       "      <th>home_office_possible</th>\n",
       "      <th>part_time</th>\n",
       "      <th>full_time</th>\n",
       "      <th>title_category</th>\n",
       "      <th>experience_level</th>\n",
       "      <th>average_salary</th>\n",
       "    </tr>\n",
       "  </thead>\n",
       "  <tbody>\n",
       "    <tr>\n",
       "      <th>2486</th>\n",
       "      <td>https://www.stepstone.de/stellenangebote--Expe...</td>\n",
       "      <td>Home Shopping Europe GmbH</td>\n",
       "      <td>Expert (m/w/d) Operations Analytics</td>\n",
       "      <td>Ismaning, Raum München</td>\n",
       "      <td>Zwischen Excelsheets und Live-TV, zwischen For...</td>\n",
       "      <td>IT &amp; Internet</td>\n",
       "      <td>4.3</td>\n",
       "      <td>49 Bewertungen</td>\n",
       "      <td>https://www.stepstone.de/cmp/de/Home-Shopping-...</td>\n",
       "      <td>2022-05-25</td>\n",
       "      <td>501-1000</td>\n",
       "      <td>True</td>\n",
       "      <td>False</td>\n",
       "      <td>True</td>\n",
       "      <td>False</td>\n",
       "      <td>True</td>\n",
       "      <td>Data Analyst</td>\n",
       "      <td>No Information</td>\n",
       "      <td>1.0</td>\n",
       "    </tr>\n",
       "  </tbody>\n",
       "</table>\n",
       "</div>"
      ],
      "text/plain": [
       "                                                   link  \\\n",
       "2486  https://www.stepstone.de/stellenangebote--Expe...   \n",
       "\n",
       "                        company                                title  \\\n",
       "2486  Home Shopping Europe GmbH  Expert (m/w/d) Operations Analytics   \n",
       "\n",
       "                    location  \\\n",
       "2486  Ismaning, Raum München   \n",
       "\n",
       "                                                content       industry  \\\n",
       "2486  Zwischen Excelsheets und Live-TV, zwischen For...  IT & Internet   \n",
       "\n",
       "      rating     num_ratings  \\\n",
       "2486     4.3  49 Bewertungen   \n",
       "\n",
       "                                           company_link release_date  \\\n",
       "2486  https://www.stepstone.de/cmp/de/Home-Shopping-...   2022-05-25   \n",
       "\n",
       "     company_size  permanent_employment  trainee  home_office_possible  \\\n",
       "2486     501-1000                  True    False                  True   \n",
       "\n",
       "      part_time  full_time title_category experience_level  average_salary  \n",
       "2486      False       True   Data Analyst   No Information             1.0  "
      ]
     },
     "execution_count": 20,
     "metadata": {},
     "output_type": "execute_result"
    }
   ],
   "source": [
    "data_cleaned.loc[data_cleaned[\"average_salary\"]<25000]"
   ]
  },
  {
   "cell_type": "code",
   "execution_count": 21,
   "id": "0344d59e-561f-45bc-9a4f-73a491097fd6",
   "metadata": {},
   "outputs": [],
   "source": [
    "data_cleaned.loc[data_cleaned[\"average_salary\"]<25000, \"average_salary\"] = np.nan"
   ]
  },
  {
   "cell_type": "code",
   "execution_count": 22,
   "id": "7117e614-9ea8-465a-863b-a7403851a030",
   "metadata": {},
   "outputs": [
    {
     "data": {
      "image/png": "[encoded data removed]",
      "text/plain": [
       "<Figure size 640x480 with 1 Axes>"
      ]
     },
     "metadata": {},
     "output_type": "display_data"
    }
   ],
   "source": [
    "sns.boxplot(x=data_cleaned[\"average_salary\"]);"
   ]
  },
  {
   "cell_type": "markdown",
   "id": "0d8aae59-099b-473b-9297-c94eb49992c7",
   "metadata": {},
   "source": [
    "There are also two outliers on the right side. However, a closer look shows that these are valid data points. Therefore, they are not removed from the data. However, when training a machine learning model later on, it may be useful to exclude them from the training data in order not to distort the learned relationships."
   ]
  },
  {
   "cell_type": "code",
   "execution_count": 23,
   "id": "4045149c-700e-41fd-870d-f76beff5cdca",
   "metadata": {},
   "outputs": [
    {
     "data": {
      "application/vnd.microsoft.datawrangler.viewer.v0+json": {
       "columns": [
        {
         "name": "index",
         "rawType": "int64",
         "type": "integer"
        },
        {
         "name": "link",
         "rawType": "object",
         "type": "string"
        },
        {
         "name": "company",
         "rawType": "object",
         "type": "string"
        },
        {
         "name": "title",
         "rawType": "object",
         "type": "string"
        },
        {
         "name": "location",
         "rawType": "object",
         "type": "string"
        },
        {
         "name": "content",
         "rawType": "object",
         "type": "string"
        },
        {
         "name": "industry",
         "rawType": "object",
         "type": "unknown"
        },
        {
         "name": "rating",
         "rawType": "float64",
         "type": "float"
        },
        {
         "name": "num_ratings",
         "rawType": "object",
         "type": "unknown"
        },
        {
         "name": "company_link",
         "rawType": "object",
         "type": "unknown"
        },
        {
         "name": "release_date",
         "rawType": "object",
         "type": "string"
        },
        {
         "name": "company_size",
         "rawType": "object",
         "type": "unknown"
        },
        {
         "name": "permanent_employment",
         "rawType": "bool",
         "type": "boolean"
        },
        {
         "name": "trainee",
         "rawType": "bool",
         "type": "boolean"
        },
        {
         "name": "home_office_possible",
         "rawType": "bool",
         "type": "boolean"
        },
        {
         "name": "part_time",
         "rawType": "bool",
         "type": "boolean"
        },
        {
         "name": "full_time",
         "rawType": "bool",
         "type": "boolean"
        },
        {
         "name": "title_category",
         "rawType": "object",
         "type": "string"
        },
        {
         "name": "experience_level",
         "rawType": "object",
         "type": "string"
        },
        {
         "name": "average_salary",
         "rawType": "float64",
         "type": "float"
        }
       ],
       "conversionMethod": "pd.DataFrame",
       "ref": "d64c927d-a8a4-42f0-85bc-547296c5a544",
       "rows": [
        [
         "1060",
         "https://www.stepstone.de/stellenangebote--VP-Global-Head-Cellular-Sciences-f-m-d-Hamburg-Evotec-SE--8312085-inline.html",
         "Evotec SE",
         "VP Global Head Cellular Sciences (f/m/d)",
         "Hamburg",
         " Evotec is a life science company with a unique business model focused on delivering highly effective new therapeutics to the patients. The Company leverages its multimodality platform, the “Data-driven R&D Autobahn to Cures”, for proprietary projects and within a network of partners including Pharma, Biotech, academics, and other healthcare stakeholders. With more than 4,000 highly qualified people at 14 sites, Evotec aims to create the world-leading co-owned pipeline for innovative therapeutics. For additional information please go to www.evotec.com and follow us on Twitter (@Evotec) and LinkedIn. \n At Evotec’s headquarters in Hamburg, Germany, the Global Drug Discovery Team is seeking a highly motivated and dedicated \nVP Global Head Cellular Sciences (f/m/d) Full-time and permanent\nYour key responsibilities\nResponsible and accountable for all aspects of the department, including, but not limited to, operations, budget, logistics, financial and strategy\nDefine and execute on a growth strategy plan\nLead the development and implementation of new or expanded technical capabilities that will impact future customer and research projects\nProvide regular updates on the strategy of the department and groups to key stakeholders internal and external, including to higher management\nResponsible for the development of the members of the team; direct oversight for performance management, career development etc.\nBuild and maintain professional working relationships with partners to agree and influence scientific direction and project plans and ensure successful outcomes for both parties\nAssume responsibility for global matrix leadership and high-level strategic management of project teams\nRepresent Evotec’s capabilities across multiple areas of technology or science to potential new clients and collaborators\nEssential to have an entrepreneurial approach to science, able to identify key future opportunities and balance risk against investment\n\nYour ideal qualifications\nPh.D. in Molecular or Cellular Biology or a relevant discipline\nSound professional working experience / postdoctoral in Pharmaceutical industry, Biotech, or in a CRO setting\nProven deep knowledge and background in cellular sciences (cell line generation, culture and scale-up) with a track record of contributing to the delivery or validation of targets for pre-clinical development (Drug Discovery)\nBroad understanding and expertise in Drug Discovery\nProven track record in leading multi-site, matrixed, or larger projects and people on a strategic level\nVery good experience in leading a team and developing team members on an individual basis\nClear and open communication style to interact effectively across functional, geographic and cultural boundaries within the company and externally\nDynamic personality with high levels of drive, enthusiasm and commitment and the ability to cope with pressure\nSelf-starting ability and capability of working with a wide degree of autonomy and independence\nProficiency in oral and written English, German is a plus\n\nOur offer\nA position within a vigorous and exciting professional environment promoted by an open culture and a spirit of community\nA diverse, international workforce with a dynamic working environment that fosters creativity, innovations and teamwork\n30 days of annual holiday, monthly allowance for public transportation, and in-house canteen\nCapital forming benefits, flexible working hours, holiday pay, and annual bonus depending on performance\n\nContactChevron bottom icon To apply, please click on the “Start application” button and provide your application documents (CV and cover letter including earliest possible start date and salary requirements). We are looking forward to get to know you and to your application. \n Evotec SE · Human Resources · Essener Bogen 7 · 22419 Hamburg \n For further information, please visit our homepage: www.evotec.com \n",
         "Pharmaindustrie",
         "3.6",
         "5 Bewertungen",
         null,
         "2022-06-03",
         null,
         "True",
         "False",
         "False",
         "False",
         "True",
         "Data Science Manager",
         "No Information",
         "158000.0"
        ],
        [
         "3124",
         "https://www.stepstone.de/stellenangebote--Supply-Chain-Strategy-Director-f-m-d-Berlin-Elmar-Hertzog-und-Partner-Management-Consultants-GmbH--8299333-inline.html",
         "Elmar Hertzog und Partner Management Consultants GmbH",
         "Supply Chain Strategy Director (f/m/d)",
         "Berlin",
         "Hertzog & Partner was founded in 1978 and since then is a German and nowadays also an Austrian market-leading consultancy for logistics service providers with a wide range of experience in the maritime industry, in supply chain and contract logistics and in the international transportation and forwarding industry.   In five offices in Germany and Austria, at present 8 senior consultants plus 15 junior consultants, researchers and back office staff warrant our market presence and success. Quality, customer dedication, in-depth know-how about the logistics market and professional search and evaluation methods characterize our work. Our German and Austrian companies are also members and shareholders of experts for experts - global logistics consultants, one of the leading global consulting networks in logistics and forwarding. Our client is Europe’s leading online retailer in a specific and fascinating business with around 5,000 dedicated employees and headquarters in Berlin, Germany. Thanks to its successful expansion, our customer is represented in around 30 countries. The company culture is entrepreneurial, dynamic, open and transparent. Our customer’s core competency is merchandising a product portfolio of several million articles throughout Europe with second-to-none velocity and quality. In order to secure and expand this core business, our client has invested into an own logistics and supply chain structure which is steadily being expanded. In this context our customer is establishing the role  Supply Chain Strategy Director (f/m/d) in Berlin and has mandated us exclusively with the search for seasoned supply chain professionals.Targets and Responsibilities: Development, design and implementation of a long-term strategic vision of a global supply chain infrastructure that supports the growth of our client Management and implementation of multiple projects to support the underlying supply chain strategy across all relevant functional interfaces (e.g., network planning, warehousing, outsourcing, automation, transport management) Optimization of customer centricity and service, as well as forecasting and allocation of resources to support our customer’s ambitious growth targets Business partnering as well as being a sparring partner to the key stakeholders and technical experts, internally and externally Drive strategic planning and execution to reduce costs, improve productivity and enhance profitability for the distribution and logistics functions Analysis and implementation of process improvement potential along the entire supply chain at all locations Ensure company-wide use of best practices through the integration of technology and information systems affecting value, reliability, quality and cost Support a culture and environment of continuous improvement which focuses on finding ways to improve the efficiency of existing operations through new technologies and processes Ensure compliance with all policies and procedures, maintaining high ethical standards to protect the company's reputation within the market Requirements:Functional:  University degree in business administration (or related), ideally with a focus on supply chain or logistics A minimum of 10-15 years of relevant professional experience, ideally in e-commerce Well versed with multi-channel and digital supply chain structures with exposure to SC models, digital supply chain, AI and automation Track record in leading challenging supply chain projects, including developing and executing a strategy A combination of strategy consultancy and e-commerce industry background is a plus Business fluent in German and English (written and spoken), additional languages are considered as a plus  Personal:  High level of initiative, solution and process orientation as well as analytical skills; strategic and holistic way of thinking Interested in people, customers and consumers with a high degree of customer orientation Gravitas and an excellent reputation for winning the respect of the Board of Directors, management team and colleagues Sets clear goals, works hard, hands-on and ambitious, delivers results, always looking for ways to improve in all areas, shows ownership, holds responsibility and accountability Works well with others – as leader and part of the team; drives change with a certain humbleness and respect for others by anticipating the impact of words and actions Communicates direct and open with others to secure their buy-in and win them over to an idea Ability to make difficult decisions based on reason and emotional intelligence Potential for development into bigger roles in the future Travel willingness (around 30% of the time, both nationally and internationally) Offer:This challenging and exciting task offers the opportunity to develop further in the ongoing growth of the company and thus provide an interesting long-term perspective.Contact:Chevron bottom iconIf you are interested in this exciting position, we look forward to your application. Please send your complete application documents and your salary expectations by e-mail, quoting the reference number AJ/4567, to Anke Jacobs, a.jacobs@hertzog.de. Ms. Jacobs will be happy to answer any questions you may have at +49 40 789192-41. Of course, we will treat your application with absolute confidentiality - www.hertzog.de -.   Elmar Hertzog und Partner Management Consultants GmbH Anke Jacobs +49 40 789192-41 a.jacobs@hertzog.de ",
         null,
         null,
         null,
         null,
         "2022-06-01",
         null,
         "True",
         "False",
         "False",
         "False",
         "True",
         "Data Science Manager",
         "No Information",
         "150000.0"
        ]
       ],
       "shape": {
        "columns": 19,
        "rows": 2
       }
      },
      "text/html": [
       "<div>\n",
       "<style scoped>\n",
       "    .dataframe tbody tr th:only-of-type {\n",
       "        vertical-align: middle;\n",
       "    }\n",
       "\n",
       "    .dataframe tbody tr th {\n",
       "        vertical-align: top;\n",
       "    }\n",
       "\n",
       "    .dataframe thead th {\n",
       "        text-align: right;\n",
       "    }\n",
       "</style>\n",
       "<table border=\"1\" class=\"dataframe\">\n",
       "  <thead>\n",
       "    <tr style=\"text-align: right;\">\n",
       "      <th></th>\n",
       "      <th>link</th>\n",
       "      <th>company</th>\n",
       "      <th>title</th>\n",
       "      <th>location</th>\n",
       "      <th>content</th>\n",
       "      <th>industry</th>\n",
       "      <th>rating</th>\n",
       "      <th>num_ratings</th>\n",
       "      <th>company_link</th>\n",
       "      <th>release_date</th>\n",
       "      <th>company_size</th>\n",
       "      <th>permanent_employment</th>\n",
       "      <th>trainee</th>\n",
       "      <th>home_office_possible</th>\n",
       "      <th>part_time</th>\n",
       "      <th>full_time</th>\n",
       "      <th>title_category</th>\n",
       "      <th>experience_level</th>\n",
       "      <th>average_salary</th>\n",
       "    </tr>\n",
       "  </thead>\n",
       "  <tbody>\n",
       "    <tr>\n",
       "      <th>1060</th>\n",
       "      <td>https://www.stepstone.de/stellenangebote--VP-G...</td>\n",
       "      <td>Evotec SE</td>\n",
       "      <td>VP Global Head Cellular Sciences (f/m/d)</td>\n",
       "      <td>Hamburg</td>\n",
       "      <td>Evotec is a life science company with a uniqu...</td>\n",
       "      <td>Pharmaindustrie</td>\n",
       "      <td>3.6</td>\n",
       "      <td>5 Bewertungen</td>\n",
       "      <td>NaN</td>\n",
       "      <td>2022-06-03</td>\n",
       "      <td>NaN</td>\n",
       "      <td>True</td>\n",
       "      <td>False</td>\n",
       "      <td>False</td>\n",
       "      <td>False</td>\n",
       "      <td>True</td>\n",
       "      <td>Data Science Manager</td>\n",
       "      <td>No Information</td>\n",
       "      <td>158000.0</td>\n",
       "    </tr>\n",
       "    <tr>\n",
       "      <th>3124</th>\n",
       "      <td>https://www.stepstone.de/stellenangebote--Supp...</td>\n",
       "      <td>Elmar Hertzog und Partner Management Consultan...</td>\n",
       "      <td>Supply Chain Strategy Director (f/m/d)</td>\n",
       "      <td>Berlin</td>\n",
       "      <td>Hertzog &amp; Partner was founded in 1978 and sinc...</td>\n",
       "      <td>NaN</td>\n",
       "      <td>NaN</td>\n",
       "      <td>NaN</td>\n",
       "      <td>NaN</td>\n",
       "      <td>2022-06-01</td>\n",
       "      <td>NaN</td>\n",
       "      <td>True</td>\n",
       "      <td>False</td>\n",
       "      <td>False</td>\n",
       "      <td>False</td>\n",
       "      <td>True</td>\n",
       "      <td>Data Science Manager</td>\n",
       "      <td>No Information</td>\n",
       "      <td>150000.0</td>\n",
       "    </tr>\n",
       "  </tbody>\n",
       "</table>\n",
       "</div>"
      ],
      "text/plain": [
       "                                                   link  \\\n",
       "1060  https://www.stepstone.de/stellenangebote--VP-G...   \n",
       "3124  https://www.stepstone.de/stellenangebote--Supp...   \n",
       "\n",
       "                                                company  \\\n",
       "1060                                          Evotec SE   \n",
       "3124  Elmar Hertzog und Partner Management Consultan...   \n",
       "\n",
       "                                         title location  \\\n",
       "1060  VP Global Head Cellular Sciences (f/m/d)  Hamburg   \n",
       "3124    Supply Chain Strategy Director (f/m/d)   Berlin   \n",
       "\n",
       "                                                content         industry  \\\n",
       "1060   Evotec is a life science company with a uniqu...  Pharmaindustrie   \n",
       "3124  Hertzog & Partner was founded in 1978 and sinc...              NaN   \n",
       "\n",
       "      rating    num_ratings company_link release_date company_size  \\\n",
       "1060     3.6  5 Bewertungen          NaN   2022-06-03          NaN   \n",
       "3124     NaN            NaN          NaN   2022-06-01          NaN   \n",
       "\n",
       "      permanent_employment  trainee  home_office_possible  part_time  \\\n",
       "1060                  True    False                 False      False   \n",
       "3124                  True    False                 False      False   \n",
       "\n",
       "      full_time        title_category experience_level  average_salary  \n",
       "1060       True  Data Science Manager   No Information        158000.0  \n",
       "3124       True  Data Science Manager   No Information        150000.0  "
      ]
     },
     "execution_count": 23,
     "metadata": {},
     "output_type": "execute_result"
    }
   ],
   "source": [
    "data_cleaned.loc[data_cleaned[\"average_salary\"]>120000]"
   ]
  },
  {
   "cell_type": "markdown",
   "id": "ffb33fee-c641-4e6f-8c9d-360e5925a431",
   "metadata": {},
   "source": [
    " "
   ]
  },
  {
   "cell_type": "markdown",
   "id": "462b7895-c943-410d-8c60-43bc6dcef603",
   "metadata": {},
   "source": [
    "<a id=\"evaluate_location\"></a>"
   ]
  },
  {
   "cell_type": "markdown",
   "id": "504c4992-66e8-4249-8f4c-86cca595320a",
   "metadata": {
    "tags": []
   },
   "source": [
    "# Evaluate Location"
   ]
  },
  {
   "cell_type": "markdown",
   "id": "ec6b42f0-cb00-4bd1-8f6e-9deecaf2e050",
   "metadata": {},
   "source": [
    "In this section, the geographical information of the job ads is processed. An initial overview of the data shows that there are entries for which multiple locations are specified. For a closer analysis, these entries have to be split into several lines so that each entry contains only a single location."
   ]
  },
  {
   "cell_type": "code",
   "execution_count": 24,
   "id": "bfc3e925-d338-41aa-bb56-0be19419537d",
   "metadata": {},
   "outputs": [
    {
     "data": {
      "text/plain": [
       "location\n",
       "München                                                         258\n",
       "Berlin                                                          252\n",
       "Hamburg                                                         143\n",
       "Stuttgart                                                       141\n",
       "Düsseldorf                                                       92\n",
       "Köln                                                             71\n",
       "Frankfurt am Main                                                70\n",
       "bundesweit                                                       55\n",
       "Renningen                                                        36\n",
       "Berlin, Frankfurt am Main, Hamburg, Köln, München, Stuttgart     32\n",
       "Karlsruhe                                                        31\n",
       "Heidelberg                                                       31\n",
       "Frankfurt (Main)                                                 25\n",
       "Essen                                                            25\n",
       "Hannover                                                         25\n",
       "Ulm                                                              23\n",
       "Mannheim                                                         20\n",
       "Weiden                                                           20\n",
       "Oberkochen (Baden-Württemberg)                                   18\n",
       "Nürnberg                                                         18\n",
       "Name: count, dtype: int64"
      ]
     },
     "execution_count": 24,
     "metadata": {},
     "output_type": "execute_result"
    }
   ],
   "source": [
    "data_cleaned[\"location\"].value_counts().head(20)"
   ]
  },
  {
   "cell_type": "code",
   "execution_count": 25,
   "id": "1b441bcb-eb09-4248-a1cb-cb90749cc3b3",
   "metadata": {},
   "outputs": [
    {
     "data": {
      "text/plain": [
       "location\n",
       "1     2304\n",
       "2      235\n",
       "3      146\n",
       "6      123\n",
       "4       89\n",
       "5       82\n",
       "10      82\n",
       "7       73\n",
       "8       63\n",
       "9       54\n",
       "11      25\n",
       "12       1\n",
       "Name: count, dtype: int64"
      ]
     },
     "execution_count": 25,
     "metadata": {},
     "output_type": "execute_result"
    }
   ],
   "source": [
    "num_words = data_cleaned[\"location\"].str.split(\",\").str.len()\n",
    "num_words.value_counts()"
   ]
  },
  {
   "cell_type": "markdown",
   "id": "09d69bc5-7908-4567-a903-06fefe1b3f51",
   "metadata": {},
   "source": [
    "When looking at the split values, it becomes clear that the data are not available in a uniform format. Four different spellings are available for the city \"Frankfurt\". In addition, terms such as \"bundesweit\" or \"home office\" need to be standardized."
   ]
  },
  {
   "cell_type": "code",
   "execution_count": 26,
   "id": "b27aa028-4bac-41cd-88bd-3213ea90af20",
   "metadata": {},
   "outputs": [
    {
     "data": {
      "text/plain": [
       "location\n",
       "München              825\n",
       "Berlin               770\n",
       "Hamburg              603\n",
       "Stuttgart            514\n",
       "Düsseldorf           415\n",
       "Köln                 410\n",
       "Frankfurt am Main    281\n",
       "Hannover             186\n",
       "Frankfurt            184\n",
       "Nürnberg             157\n",
       "Leipzig               99\n",
       "Dortmund              94\n",
       "Karlsruhe             84\n",
       "bundesweit            82\n",
       "Frankfurt (Main)      80\n",
       "Essen                 74\n",
       "Ratingen              53\n",
       "Münster               49\n",
       "Ludwigshafen          48\n",
       "Dresden               46\n",
       "Name: count, dtype: int64"
      ]
     },
     "execution_count": 26,
     "metadata": {},
     "output_type": "execute_result"
    }
   ],
   "source": [
    "data_cleaned[\"location\"].str.split(\", \").explode().value_counts().head(20)"
   ]
  },
  {
   "cell_type": "markdown",
   "id": "96992e95-d071-451d-8195-43065bead3e2",
   "metadata": {},
   "source": [
    "In order to bring all data into a uniform format, a number of different rules are required. For the sake of clarity, all the rules received have been combined into one function here and the derivation and operation of the individual rules has been omitted."
   ]
  },
  {
   "cell_type": "code",
   "execution_count": 27,
   "id": "7a8095a0-4dfc-4c7c-918f-76cee87da778",
   "metadata": {},
   "outputs": [
    {
     "name": "stdout",
     "output_type": "stream",
     "text": [
      "3277\n"
     ]
    },
    {
     "data": {
      "text/plain": [
       "location\n",
       "München         868\n",
       "Berlin          802\n",
       "Frankfurt       657\n",
       "Hamburg         628\n",
       "Stuttgart       537\n",
       "Köln            436\n",
       "Düsseldorf      431\n",
       "bundesweit      276\n",
       "Hannover        197\n",
       "Nürnberg        173\n",
       "Leipzig         103\n",
       "Dortmund         96\n",
       "Main             88\n",
       "Karlsruhe        87\n",
       "Essen            84\n",
       "Ratingen         58\n",
       "Ludwigshafen     52\n",
       "Mannheim         49\n",
       "Münster          49\n",
       "Ulm              47\n",
       "Name: count, dtype: int64"
      ]
     },
     "execution_count": 27,
     "metadata": {},
     "output_type": "execute_result"
    }
   ],
   "source": [
    "# the following function extracts the individual city names using regular expressions\n",
    "# the last rules are relatively individual to the used data\n",
    "# ==> would have to be revised for new data possibly again\n",
    "\n",
    "def extract_locations(df):\n",
    "    locations = df[\"location\"].str.strip(\" ,\")\n",
    "    locations = locations.str.split(\", ?\").explode()\n",
    "    locations = locations.str.split(\" ?/ ?\").explode()\n",
    "    locations = locations.str.split(\" oder \").explode()\n",
    "    locations = locations.str.split(\" und \").explode()\n",
    "    locations = locations.str.split(\" - \").explode()\n",
    "    locations = locations.str.split(\"; \").explode()\n",
    "    locations = locations.str.split(\" ?\\+ ?\").explode()\n",
    "    locations = locations.replace(\"^Raum \", \"\", regex=True)\n",
    "    locations = locations.str.replace(\" \\(?(bei|b\\.|an|am|a\\.|ob|in|im|vor|v\\.|\\+|%|u\\.a\\.|Raum)[)\\w\\d .]+\", \"\", regex=True)\n",
    "    locations = locations.str.replace(\"[ \\w-]*(Home|Office|Mobile|Remote|Bundes|Deutschland|Wahl|Standort|DACH|keine Angabe)[( \\w-]*\", \"bundesweit\", case=False, regex=True)\n",
    "    locations = locations.str.replace(\" ?(a\\.M\\.|Main|M\\.|\\.\\.\\.und weitere|Gutenbergquartier)$\", \"\", regex=True)\n",
    "    locations = locations.str.replace(\"(MBTI|bei|\\d{5}|Metropolregion|Fürstentum|Großraum|100%) ?\", \"\", regex=True)\n",
    "    locations = locations.str.replace(\"St.\", \"Sankt\", regex=False)\n",
    "    locations = locations.str.replace(\".\", \"\", regex=False)\n",
    "    locations = locations.str.split(\" \\(\").explode()\n",
    "    locations = locations.where(locations.str.contains(\"^(Bad|Sankt|Palma|New|Den|Schwäbisch|Lindau) \", regex=True), locations.str.split(\" \")).explode()\n",
    "    locations = locations.str.strip(\"[ )]\")\n",
    "    locations = locations.replace(\"^$\", np.nan, regex=True)\n",
    "    return locations\n",
    "\n",
    "locs = extract_locations(data_cleaned)\n",
    "# Joining via the index is possible, since this is duplicated in the explode() method\n",
    "data_long = pd.merge(data_cleaned, locs, left_index=True, right_index=True, how=\"left\", suffixes=[\"_x\", None])\n",
    "data_long = data_long.drop(\"location_x\", axis=1)\n",
    "print(data_long.index.nunique())\n",
    "data_long[\"location\"].value_counts().head(20)"
   ]
  },
  {
   "cell_type": "code",
   "execution_count": 28,
   "id": "81da9604-01e1-4a74-b861-03e3ed5ee6ba",
   "metadata": {},
   "outputs": [
    {
     "data": {
      "text/plain": [
       "(7548, 19)"
      ]
     },
     "execution_count": 28,
     "metadata": {},
     "output_type": "execute_result"
    }
   ],
   "source": [
    "data_long.shape"
   ]
  },
  {
   "cell_type": "code",
   "execution_count": 29,
   "id": "a8c9f467-36be-4815-a51f-877334c6d983",
   "metadata": {},
   "outputs": [],
   "source": [
    "data_long.to_csv(\"../data/data_long.csv\", index=False)"
   ]
  },
  {
   "cell_type": "markdown",
   "id": "c1152fdf-22d6-4029-b517-40df59c64194",
   "metadata": {},
   "source": [
    "For a regional analysis of the jobs, it was necessary to collect additional information. The website https://positionstack.com/ provides a free API to return the geo-coordinates to any address, as well as additional information such as country or state. In the positionstack.py code, a GET request is sent to the positionstack API for each location contained in the saved dataframe to obtain the desired information."
   ]
  },
  {
   "cell_type": "code",
   "execution_count": 30,
   "id": "3c32bf2c-e674-4188-ac8c-502b2a17d6e6",
   "metadata": {},
   "outputs": [
    {
     "data": {
      "application/vnd.microsoft.datawrangler.viewer.v0+json": {
       "columns": [
        {
         "name": "index",
         "rawType": "int64",
         "type": "integer"
        },
        {
         "name": "latitude",
         "rawType": "float64",
         "type": "float"
        },
        {
         "name": "longitude",
         "rawType": "float64",
         "type": "float"
        },
        {
         "name": "type",
         "rawType": "object",
         "type": "string"
        },
        {
         "name": "name",
         "rawType": "object",
         "type": "string"
        },
        {
         "name": "number",
         "rawType": "float64",
         "type": "float"
        },
        {
         "name": "postal_code",
         "rawType": "float64",
         "type": "float"
        },
        {
         "name": "street",
         "rawType": "object",
         "type": "unknown"
        },
        {
         "name": "confidence",
         "rawType": "float64",
         "type": "float"
        },
        {
         "name": "region",
         "rawType": "object",
         "type": "string"
        },
        {
         "name": "region_code",
         "rawType": "object",
         "type": "string"
        },
        {
         "name": "county",
         "rawType": "object",
         "type": "string"
        },
        {
         "name": "locality",
         "rawType": "object",
         "type": "string"
        },
        {
         "name": "administrative_area",
         "rawType": "object",
         "type": "string"
        },
        {
         "name": "neighbourhood",
         "rawType": "object",
         "type": "unknown"
        },
        {
         "name": "country",
         "rawType": "object",
         "type": "string"
        },
        {
         "name": "country_code",
         "rawType": "object",
         "type": "string"
        },
        {
         "name": "continent",
         "rawType": "object",
         "type": "string"
        },
        {
         "name": "label",
         "rawType": "object",
         "type": "string"
        },
        {
         "name": "location",
         "rawType": "object",
         "type": "string"
        },
        {
         "name": "map_url",
         "rawType": "object",
         "type": "unknown"
        }
       ],
       "conversionMethod": "pd.DataFrame",
       "ref": "c8bf8dd5-4093-4cc6-befb-d8b8d3c850c6",
       "rows": [
        [
         "0",
         "49.307822",
         "8.64145",
         "locality",
         "Walldorf",
         null,
         null,
         null,
         "1.0",
         "Baden-Württemberg",
         "BW",
         "Rhein-Neckar-Kreis",
         "Walldorf",
         "Walldorf",
         null,
         "Germany",
         "DEU",
         "Europe",
         "Walldorf, BW, Germany",
         "Walldorf",
         null
        ],
        [
         "1",
         "48.70631",
         "9.11924",
         "locality",
         "Stuttgart",
         null,
         null,
         null,
         "1.0",
         "Baden-Württemberg",
         "BW",
         "Esslingen",
         "Stuttgart",
         "Leinfelden-Echterdingen",
         null,
         "Germany",
         "DEU",
         "Europe",
         "Stuttgart, BW, Germany",
         "Stuttgart",
         null
        ],
        [
         "2",
         "48.152126",
         "11.544467",
         "locality",
         "Munich",
         null,
         null,
         null,
         "1.0",
         "Bavaria",
         "BY",
         "Munich",
         "Munich",
         "München",
         null,
         "Germany",
         "DEU",
         "Europe",
         "Munich, BY, Germany",
         "München",
         null
        ],
        [
         "3",
         "51.341053",
         "12.404024",
         "locality",
         "Leipzig",
         null,
         null,
         null,
         "1.0",
         "Saxony",
         "SN",
         "Leipzig",
         "Leipzig",
         "Leipzig",
         null,
         "Germany",
         "DEU",
         "Europe",
         "Leipzig, SN, Germany",
         "Leipzig",
         null
        ],
        [
         "4",
         "53.576158",
         "10.007046",
         "locality",
         "Hamburg",
         null,
         null,
         null,
         "1.0",
         "Hamburg",
         "HH",
         "Hamburg",
         "Hamburg",
         "Hamburg",
         null,
         "Germany",
         "DEU",
         "Europe",
         "Hamburg, Germany",
         "Hamburg",
         null
        ]
       ],
       "shape": {
        "columns": 20,
        "rows": 5
       }
      },
      "text/html": [
       "<div>\n",
       "<style scoped>\n",
       "    .dataframe tbody tr th:only-of-type {\n",
       "        vertical-align: middle;\n",
       "    }\n",
       "\n",
       "    .dataframe tbody tr th {\n",
       "        vertical-align: top;\n",
       "    }\n",
       "\n",
       "    .dataframe thead th {\n",
       "        text-align: right;\n",
       "    }\n",
       "</style>\n",
       "<table border=\"1\" class=\"dataframe\">\n",
       "  <thead>\n",
       "    <tr style=\"text-align: right;\">\n",
       "      <th></th>\n",
       "      <th>latitude</th>\n",
       "      <th>longitude</th>\n",
       "      <th>type</th>\n",
       "      <th>name</th>\n",
       "      <th>number</th>\n",
       "      <th>postal_code</th>\n",
       "      <th>street</th>\n",
       "      <th>confidence</th>\n",
       "      <th>region</th>\n",
       "      <th>region_code</th>\n",
       "      <th>county</th>\n",
       "      <th>locality</th>\n",
       "      <th>administrative_area</th>\n",
       "      <th>neighbourhood</th>\n",
       "      <th>country</th>\n",
       "      <th>country_code</th>\n",
       "      <th>continent</th>\n",
       "      <th>label</th>\n",
       "      <th>location</th>\n",
       "      <th>map_url</th>\n",
       "    </tr>\n",
       "  </thead>\n",
       "  <tbody>\n",
       "    <tr>\n",
       "      <th>0</th>\n",
       "      <td>49.307822</td>\n",
       "      <td>8.641450</td>\n",
       "      <td>locality</td>\n",
       "      <td>Walldorf</td>\n",
       "      <td>NaN</td>\n",
       "      <td>NaN</td>\n",
       "      <td>NaN</td>\n",
       "      <td>1.0</td>\n",
       "      <td>Baden-Württemberg</td>\n",
       "      <td>BW</td>\n",
       "      <td>Rhein-Neckar-Kreis</td>\n",
       "      <td>Walldorf</td>\n",
       "      <td>Walldorf</td>\n",
       "      <td>NaN</td>\n",
       "      <td>Germany</td>\n",
       "      <td>DEU</td>\n",
       "      <td>Europe</td>\n",
       "      <td>Walldorf, BW, Germany</td>\n",
       "      <td>Walldorf</td>\n",
       "      <td>NaN</td>\n",
       "    </tr>\n",
       "    <tr>\n",
       "      <th>1</th>\n",
       "      <td>48.706310</td>\n",
       "      <td>9.119240</td>\n",
       "      <td>locality</td>\n",
       "      <td>Stuttgart</td>\n",
       "      <td>NaN</td>\n",
       "      <td>NaN</td>\n",
       "      <td>NaN</td>\n",
       "      <td>1.0</td>\n",
       "      <td>Baden-Württemberg</td>\n",
       "      <td>BW</td>\n",
       "      <td>Esslingen</td>\n",
       "      <td>Stuttgart</td>\n",
       "      <td>Leinfelden-Echterdingen</td>\n",
       "      <td>NaN</td>\n",
       "      <td>Germany</td>\n",
       "      <td>DEU</td>\n",
       "      <td>Europe</td>\n",
       "      <td>Stuttgart, BW, Germany</td>\n",
       "      <td>Stuttgart</td>\n",
       "      <td>NaN</td>\n",
       "    </tr>\n",
       "    <tr>\n",
       "      <th>2</th>\n",
       "      <td>48.152126</td>\n",
       "      <td>11.544467</td>\n",
       "      <td>locality</td>\n",
       "      <td>Munich</td>\n",
       "      <td>NaN</td>\n",
       "      <td>NaN</td>\n",
       "      <td>NaN</td>\n",
       "      <td>1.0</td>\n",
       "      <td>Bavaria</td>\n",
       "      <td>BY</td>\n",
       "      <td>Munich</td>\n",
       "      <td>Munich</td>\n",
       "      <td>München</td>\n",
       "      <td>NaN</td>\n",
       "      <td>Germany</td>\n",
       "      <td>DEU</td>\n",
       "      <td>Europe</td>\n",
       "      <td>Munich, BY, Germany</td>\n",
       "      <td>München</td>\n",
       "      <td>NaN</td>\n",
       "    </tr>\n",
       "    <tr>\n",
       "      <th>3</th>\n",
       "      <td>51.341053</td>\n",
       "      <td>12.404024</td>\n",
       "      <td>locality</td>\n",
       "      <td>Leipzig</td>\n",
       "      <td>NaN</td>\n",
       "      <td>NaN</td>\n",
       "      <td>NaN</td>\n",
       "      <td>1.0</td>\n",
       "      <td>Saxony</td>\n",
       "      <td>SN</td>\n",
       "      <td>Leipzig</td>\n",
       "      <td>Leipzig</td>\n",
       "      <td>Leipzig</td>\n",
       "      <td>NaN</td>\n",
       "      <td>Germany</td>\n",
       "      <td>DEU</td>\n",
       "      <td>Europe</td>\n",
       "      <td>Leipzig, SN, Germany</td>\n",
       "      <td>Leipzig</td>\n",
       "      <td>NaN</td>\n",
       "    </tr>\n",
       "    <tr>\n",
       "      <th>4</th>\n",
       "      <td>53.576158</td>\n",
       "      <td>10.007046</td>\n",
       "      <td>locality</td>\n",
       "      <td>Hamburg</td>\n",
       "      <td>NaN</td>\n",
       "      <td>NaN</td>\n",
       "      <td>NaN</td>\n",
       "      <td>1.0</td>\n",
       "      <td>Hamburg</td>\n",
       "      <td>HH</td>\n",
       "      <td>Hamburg</td>\n",
       "      <td>Hamburg</td>\n",
       "      <td>Hamburg</td>\n",
       "      <td>NaN</td>\n",
       "      <td>Germany</td>\n",
       "      <td>DEU</td>\n",
       "      <td>Europe</td>\n",
       "      <td>Hamburg, Germany</td>\n",
       "      <td>Hamburg</td>\n",
       "      <td>NaN</td>\n",
       "    </tr>\n",
       "  </tbody>\n",
       "</table>\n",
       "</div>"
      ],
      "text/plain": [
       "    latitude  longitude      type       name  number  postal_code street  \\\n",
       "0  49.307822   8.641450  locality   Walldorf     NaN          NaN    NaN   \n",
       "1  48.706310   9.119240  locality  Stuttgart     NaN          NaN    NaN   \n",
       "2  48.152126  11.544467  locality     Munich     NaN          NaN    NaN   \n",
       "3  51.341053  12.404024  locality    Leipzig     NaN          NaN    NaN   \n",
       "4  53.576158  10.007046  locality    Hamburg     NaN          NaN    NaN   \n",
       "\n",
       "   confidence             region region_code              county   locality  \\\n",
       "0         1.0  Baden-Württemberg          BW  Rhein-Neckar-Kreis   Walldorf   \n",
       "1         1.0  Baden-Württemberg          BW           Esslingen  Stuttgart   \n",
       "2         1.0            Bavaria          BY              Munich     Munich   \n",
       "3         1.0             Saxony          SN             Leipzig    Leipzig   \n",
       "4         1.0            Hamburg          HH             Hamburg    Hamburg   \n",
       "\n",
       "       administrative_area neighbourhood  country country_code continent  \\\n",
       "0                 Walldorf           NaN  Germany          DEU    Europe   \n",
       "1  Leinfelden-Echterdingen           NaN  Germany          DEU    Europe   \n",
       "2                  München           NaN  Germany          DEU    Europe   \n",
       "3                  Leipzig           NaN  Germany          DEU    Europe   \n",
       "4                  Hamburg           NaN  Germany          DEU    Europe   \n",
       "\n",
       "                    label   location map_url  \n",
       "0   Walldorf, BW, Germany   Walldorf     NaN  \n",
       "1  Stuttgart, BW, Germany  Stuttgart     NaN  \n",
       "2     Munich, BY, Germany    München     NaN  \n",
       "3    Leipzig, SN, Germany    Leipzig     NaN  \n",
       "4        Hamburg, Germany    Hamburg     NaN  "
      ]
     },
     "execution_count": 30,
     "metadata": {},
     "output_type": "execute_result"
    }
   ],
   "source": [
    "geo_data = pd.read_csv(\"../data/geo_data.csv\")\n",
    "geo_data.head()"
   ]
  },
  {
   "cell_type": "markdown",
   "id": "152828a9-b574-4482-8651-963aac60351e",
   "metadata": {},
   "source": [
    "The overview of all missing values shows that no information could be retrieved for some locations. A closer analysis shows that these are either jobs without a fixed location or locations abroad. Since this is only an analysis in Germany, these locations can be removed from the data without any problems."
   ]
  },
  {
   "cell_type": "code",
   "execution_count": 31,
   "id": "c59bf28c-5dec-460a-a9df-8a4af1349790",
   "metadata": {},
   "outputs": [
    {
     "data": {
      "text/plain": [
       "latitude                16\n",
       "longitude               16\n",
       "type                    16\n",
       "name                    16\n",
       "number                 424\n",
       "postal_code            424\n",
       "street                 424\n",
       "confidence              16\n",
       "region                  17\n",
       "region_code             17\n",
       "county                  28\n",
       "locality                25\n",
       "administrative_area     25\n",
       "neighbourhood          415\n",
       "country                 16\n",
       "country_code            16\n",
       "continent               16\n",
       "label                   16\n",
       "location                 1\n",
       "map_url                436\n",
       "dtype: int64"
      ]
     },
     "execution_count": 31,
     "metadata": {},
     "output_type": "execute_result"
    }
   ],
   "source": [
    "geo_data.isnull().sum()"
   ]
  },
  {
   "cell_type": "code",
   "execution_count": 32,
   "id": "1b4a7f95-3e2a-4ec1-8d9c-e61a79970c85",
   "metadata": {},
   "outputs": [
    {
     "data": {
      "text/plain": [
       "array(['bundesweit', 'Abingdon', 'Villach', 'Weiterstadt', 'Oensingen',\n",
       "       'Zell', 'Tallin', 'Liechtenstein', 'Dordrecht', 'Fuschl',\n",
       "       'Bregenz', 'Gutenbergquartier', 'MĂŒnster', 'Pilsen',\n",
       "       'bundesweit–bundesweit', 'Österreichweit'], dtype=object)"
      ]
     },
     "execution_count": 32,
     "metadata": {},
     "output_type": "execute_result"
    }
   ],
   "source": [
    "geo_data.loc[geo_data[\"latitude\"].isnull(), \"location\"].unique()"
   ]
  },
  {
   "cell_type": "markdown",
   "id": "615d7ab7-2d6e-4c46-98c2-bd41f4b15f4c",
   "metadata": {},
   "source": [
    "Unfortunately, with the Positionstack API it is not possible to specify in the parameters that only locations should be filtered. Therefore it is possible that the name of some foreign locations coincidentally matches the name of a venue, neighborhood etc. in Germany. These entries must also be excluded from the analysis."
   ]
  },
  {
   "cell_type": "code",
   "execution_count": 33,
   "id": "9de7b680-7b26-49bc-9c6f-1cf47c4ac294",
   "metadata": {},
   "outputs": [
    {
     "data": {
      "text/plain": [
       "type\n",
       "locality         369\n",
       "venue             27\n",
       "neighbourhood     16\n",
       "region             5\n",
       "county             2\n",
       "country            1\n",
       "macrocounty        1\n",
       "Name: count, dtype: int64"
      ]
     },
     "execution_count": 33,
     "metadata": {},
     "output_type": "execute_result"
    }
   ],
   "source": [
    "geo_data[\"type\"].value_counts()"
   ]
  },
  {
   "cell_type": "code",
   "execution_count": 34,
   "id": "1b9a20d5-7cca-48d1-b408-5f9f470ef0e4",
   "metadata": {},
   "outputs": [
    {
     "data": {
      "text/plain": [
       "array(['Palma de Mallorca', nan, 'Wien', 'Stockholm', 'Wiesloch-Walldorf',\n",
       "       'Zürich', 'Innsbruck', 'London', 'Brüssel', 'Brussels', 'Zagreb',\n",
       "       'hybrid', 'Europa', 'Luxembourg', 'Amsterdam', 'New York',\n",
       "       'Kolding', 'Austria', 'Österreich', 'Koblach', 'Ohm', 'Denver',\n",
       "       'FFM', 'Sankt Florian', 'Bern', 'Graz', 'weitere'], dtype=object)"
      ]
     },
     "execution_count": 34,
     "metadata": {},
     "output_type": "execute_result"
    }
   ],
   "source": [
    "geo_data.loc[geo_data[\"type\"] == \"venue\", \"location\"].unique()"
   ]
  },
  {
   "cell_type": "markdown",
   "id": "f3207724-5aeb-4463-98f3-be44133af335",
   "metadata": {},
   "source": [
    "For the further investigations, the job ads can be connected with the geodata via an inner join."
   ]
  },
  {
   "cell_type": "code",
   "execution_count": 35,
   "id": "f4be78a4-3fc2-42dc-9dca-0206916f5303",
   "metadata": {},
   "outputs": [
    {
     "data": {
      "application/vnd.microsoft.datawrangler.viewer.v0+json": {
       "columns": [
        {
         "name": "index",
         "rawType": "int64",
         "type": "integer"
        },
        {
         "name": "link",
         "rawType": "object",
         "type": "string"
        },
        {
         "name": "company",
         "rawType": "object",
         "type": "string"
        },
        {
         "name": "title",
         "rawType": "object",
         "type": "string"
        },
        {
         "name": "content",
         "rawType": "object",
         "type": "string"
        },
        {
         "name": "industry",
         "rawType": "object",
         "type": "string"
        },
        {
         "name": "rating",
         "rawType": "float64",
         "type": "float"
        },
        {
         "name": "num_ratings",
         "rawType": "object",
         "type": "string"
        },
        {
         "name": "company_link",
         "rawType": "object",
         "type": "string"
        },
        {
         "name": "release_date",
         "rawType": "object",
         "type": "string"
        },
        {
         "name": "company_size",
         "rawType": "object",
         "type": "string"
        },
        {
         "name": "permanent_employment",
         "rawType": "bool",
         "type": "boolean"
        },
        {
         "name": "trainee",
         "rawType": "bool",
         "type": "boolean"
        },
        {
         "name": "home_office_possible",
         "rawType": "bool",
         "type": "boolean"
        },
        {
         "name": "part_time",
         "rawType": "bool",
         "type": "boolean"
        },
        {
         "name": "full_time",
         "rawType": "bool",
         "type": "boolean"
        },
        {
         "name": "title_category",
         "rawType": "object",
         "type": "string"
        },
        {
         "name": "experience_level",
         "rawType": "object",
         "type": "string"
        },
        {
         "name": "average_salary",
         "rawType": "float64",
         "type": "float"
        },
        {
         "name": "location",
         "rawType": "object",
         "type": "string"
        },
        {
         "name": "latitude",
         "rawType": "float64",
         "type": "float"
        },
        {
         "name": "longitude",
         "rawType": "float64",
         "type": "float"
        },
        {
         "name": "region",
         "rawType": "object",
         "type": "string"
        }
       ],
       "conversionMethod": "pd.DataFrame",
       "ref": "24cf69e1-6a8e-41b0-bde0-0b694e3be1b7",
       "rows": [
        [
         "0",
         "https://www.stepstone.de/stellenangebote--Analyst-Data-Science-Artificial-Intelligence-m-w-d-Walldorf-Stuttgart-Muenchen-Leipzig-Hamburg-Frankfurt-am-Main-Duesseldorf-Berlin-BearingPoint-GmbH--7944366-inline.html",
         "BearingPoint GmbH",
         "Analyst Data Science & Artificial Intelligence (m/w/d)",
         "Design your own career.Make your point @ BearingPoint.\nWir bieten Beratung, die Strategie mit Technologie vereint und verbinden Unternehmertum mit Innovationsgeist. Bei uns warten auf Sie außergewöhnliche Entwicklungschancen, vielfältige Gestaltungsräume und Kollegen, die schnell zu Freunden werden.\nConsulting. Software. Ventures.Ihre Aufgaben:Befeuert durch den technologischen Fortschritt wagen immer mehr weltweit führende Industrieunternehmen die digitale Transformation. Autonom fahrende Roboter übernehmen den Warenfluss in Werken, die Zukunft wird mit modernen Methoden vorhergesagt und Bestände werden von KI-Algorithmen optimiert. \nGestalten Sie Innovation! Am Puls der Zeit erkennen Sie Potentiale und Herausforderungen der Digitalisierung, entwickeln daraus Lösungen und leisten so Ihren Beitrag zu der digitalen Beschaffung, Logistik oder Produktion von Morgen. Dabei begleiten Sie jeden Schritt von der Konzeption über die Umsetzung bis hin zur Anwendung im Kundenprojekt.  \nIhre Aufgaben \n\n\nEntwicklung und Bewertung von wegweisenden Data Science Use Cases in Zusammenarbeit mit unseren Kunden bis zur Umsetzung, vorwiegend in den Bereichen Supply Chain Management, Intralogistik, Produktion \n\n\n\n\nImplementierung von Methoden und Konzepten aus den Bereichen Data Science, Artificial Intelligence, Machine Learning, Cognitive Computing, Predictive Forecasting und Robotic Process Automation \n\n\nÜbernahme von Verantwortung durch aktive fachliche und technische Weiterentwicklung und Mitgestaltung unserer Assets zur Festigung unserer Vordenkerposition \n\n\nDamit punkten Sie bei uns:\n\nErfolgreich abgeschlossenes Studium der (Wirtschafts-) Informatik, (Wirtschafts-) Mathematik, BWL, Statistik, Physik, des (Wirtschafts-) Ingenieurwesens oder vergleichbarer Studiengänge \n\n\nKenntnisse auf den Gebieten Machine Learning, Data Science oder Predictive Forecasting \n\n\n\n\nErfahrung mit Datenbanken und Datenmodellen sowie R oder Python sind wünschenswert \n\n\nErste Kenntnisse auf den Gebieten Supply Chain Management, intralogistische Prozesse, Produktionsmanagement oder Bestandsmanagement etc. sind von Vorteil \n\n\nKundenorientierte, aufgeschlossene und eigenverantwortliche Arbeitsweise innerhalb unserer Projektteams \n\n\nSchnelle, analytische und proaktive Denkweise mit einem Auge für Details \n\n\n\n\nBereitschaft zu nationaler und internationaler Reisetätigkeit \n\n\nSehr gute deutsche und englische Sprachkenntnisse \n\n\nDamit punkten wir bei Ihnen:\nVielfältige Karriereperspektiven in einem unbefristeten Arbeitsvertrag mit zahlreichen Trainings- und Coachingangeboten und individueller Betreuung durch persönlichen Development Manager\nEin attraktives Vergütungsmodell inklusive eines erfolgsabhängigen Bonus mit Option zur Umwandlung in zusätzliche Freizeittage\nHybrides Arbeiten mit neuestem technischem Equipment inkl. Smartphone: beim Kunden, in einer unserer top Office Locations oder zu Hause\nUmfangreiche Angebote für die Work-Life-Balance wie z.B. Familienservice & Firmenfitness sowie zahlreiche Corporate Benefits \nFlache Hierarchien und eine teamorientierte Unternehmenskultur, in der Diversity und Wertschätzung, ökologische Verantwortung und gesellschaftliches Engagement dazu gehören\nKontakt:Chevron bottom iconSie haben noch Fragen?Wir freuen uns auf Ihren Anruf: +49 / 221 / 65083638 oder schreiben Sie uns eine Mail an professionals@bearingpoint-careers.de.",
         "Unternehmensberatg., Wirtschaftsprüfg., Recht",
         "3.9",
         "312 Bewertungen",
         "https://www.stepstone.de/cmp/de/BearingPoint-GmbH-19656/?intcid=Button_listing_company-card_company-presentation",
         "2022-06-03",
         "2501-5000",
         "True",
         "False",
         "True",
         "False",
         "True",
         "Machine Learning Engineer",
         "No Information",
         null,
         "Walldorf",
         "49.307822",
         "8.64145",
         "Baden-Württemberg"
        ],
        [
         "1",
         "https://www.stepstone.de/stellenangebote--Analyst-Data-Science-Artificial-Intelligence-m-w-d-Walldorf-Stuttgart-Muenchen-Leipzig-Hamburg-Frankfurt-am-Main-Duesseldorf-Berlin-BearingPoint-GmbH--7944366-inline.html",
         "BearingPoint GmbH",
         "Analyst Data Science & Artificial Intelligence (m/w/d)",
         "Design your own career.Make your point @ BearingPoint.\nWir bieten Beratung, die Strategie mit Technologie vereint und verbinden Unternehmertum mit Innovationsgeist. Bei uns warten auf Sie außergewöhnliche Entwicklungschancen, vielfältige Gestaltungsräume und Kollegen, die schnell zu Freunden werden.\nConsulting. Software. Ventures.Ihre Aufgaben:Befeuert durch den technologischen Fortschritt wagen immer mehr weltweit führende Industrieunternehmen die digitale Transformation. Autonom fahrende Roboter übernehmen den Warenfluss in Werken, die Zukunft wird mit modernen Methoden vorhergesagt und Bestände werden von KI-Algorithmen optimiert. \nGestalten Sie Innovation! Am Puls der Zeit erkennen Sie Potentiale und Herausforderungen der Digitalisierung, entwickeln daraus Lösungen und leisten so Ihren Beitrag zu der digitalen Beschaffung, Logistik oder Produktion von Morgen. Dabei begleiten Sie jeden Schritt von der Konzeption über die Umsetzung bis hin zur Anwendung im Kundenprojekt.  \nIhre Aufgaben \n\n\nEntwicklung und Bewertung von wegweisenden Data Science Use Cases in Zusammenarbeit mit unseren Kunden bis zur Umsetzung, vorwiegend in den Bereichen Supply Chain Management, Intralogistik, Produktion \n\n\n\n\nImplementierung von Methoden und Konzepten aus den Bereichen Data Science, Artificial Intelligence, Machine Learning, Cognitive Computing, Predictive Forecasting und Robotic Process Automation \n\n\nÜbernahme von Verantwortung durch aktive fachliche und technische Weiterentwicklung und Mitgestaltung unserer Assets zur Festigung unserer Vordenkerposition \n\n\nDamit punkten Sie bei uns:\n\nErfolgreich abgeschlossenes Studium der (Wirtschafts-) Informatik, (Wirtschafts-) Mathematik, BWL, Statistik, Physik, des (Wirtschafts-) Ingenieurwesens oder vergleichbarer Studiengänge \n\n\nKenntnisse auf den Gebieten Machine Learning, Data Science oder Predictive Forecasting \n\n\n\n\nErfahrung mit Datenbanken und Datenmodellen sowie R oder Python sind wünschenswert \n\n\nErste Kenntnisse auf den Gebieten Supply Chain Management, intralogistische Prozesse, Produktionsmanagement oder Bestandsmanagement etc. sind von Vorteil \n\n\nKundenorientierte, aufgeschlossene und eigenverantwortliche Arbeitsweise innerhalb unserer Projektteams \n\n\nSchnelle, analytische und proaktive Denkweise mit einem Auge für Details \n\n\n\n\nBereitschaft zu nationaler und internationaler Reisetätigkeit \n\n\nSehr gute deutsche und englische Sprachkenntnisse \n\n\nDamit punkten wir bei Ihnen:\nVielfältige Karriereperspektiven in einem unbefristeten Arbeitsvertrag mit zahlreichen Trainings- und Coachingangeboten und individueller Betreuung durch persönlichen Development Manager\nEin attraktives Vergütungsmodell inklusive eines erfolgsabhängigen Bonus mit Option zur Umwandlung in zusätzliche Freizeittage\nHybrides Arbeiten mit neuestem technischem Equipment inkl. Smartphone: beim Kunden, in einer unserer top Office Locations oder zu Hause\nUmfangreiche Angebote für die Work-Life-Balance wie z.B. Familienservice & Firmenfitness sowie zahlreiche Corporate Benefits \nFlache Hierarchien und eine teamorientierte Unternehmenskultur, in der Diversity und Wertschätzung, ökologische Verantwortung und gesellschaftliches Engagement dazu gehören\nKontakt:Chevron bottom iconSie haben noch Fragen?Wir freuen uns auf Ihren Anruf: +49 / 221 / 65083638 oder schreiben Sie uns eine Mail an professionals@bearingpoint-careers.de.",
         "Unternehmensberatg., Wirtschaftsprüfg., Recht",
         "3.9",
         "312 Bewertungen",
         "https://www.stepstone.de/cmp/de/BearingPoint-GmbH-19656/?intcid=Button_listing_company-card_company-presentation",
         "2022-06-03",
         "2501-5000",
         "True",
         "False",
         "True",
         "False",
         "True",
         "Machine Learning Engineer",
         "No Information",
         null,
         "Stuttgart",
         "48.70631",
         "9.11924",
         "Baden-Württemberg"
        ],
        [
         "2",
         "https://www.stepstone.de/stellenangebote--Analyst-Data-Science-Artificial-Intelligence-m-w-d-Walldorf-Stuttgart-Muenchen-Leipzig-Hamburg-Frankfurt-am-Main-Duesseldorf-Berlin-BearingPoint-GmbH--7944366-inline.html",
         "BearingPoint GmbH",
         "Analyst Data Science & Artificial Intelligence (m/w/d)",
         "Design your own career.Make your point @ BearingPoint.\nWir bieten Beratung, die Strategie mit Technologie vereint und verbinden Unternehmertum mit Innovationsgeist. Bei uns warten auf Sie außergewöhnliche Entwicklungschancen, vielfältige Gestaltungsräume und Kollegen, die schnell zu Freunden werden.\nConsulting. Software. Ventures.Ihre Aufgaben:Befeuert durch den technologischen Fortschritt wagen immer mehr weltweit führende Industrieunternehmen die digitale Transformation. Autonom fahrende Roboter übernehmen den Warenfluss in Werken, die Zukunft wird mit modernen Methoden vorhergesagt und Bestände werden von KI-Algorithmen optimiert. \nGestalten Sie Innovation! Am Puls der Zeit erkennen Sie Potentiale und Herausforderungen der Digitalisierung, entwickeln daraus Lösungen und leisten so Ihren Beitrag zu der digitalen Beschaffung, Logistik oder Produktion von Morgen. Dabei begleiten Sie jeden Schritt von der Konzeption über die Umsetzung bis hin zur Anwendung im Kundenprojekt.  \nIhre Aufgaben \n\n\nEntwicklung und Bewertung von wegweisenden Data Science Use Cases in Zusammenarbeit mit unseren Kunden bis zur Umsetzung, vorwiegend in den Bereichen Supply Chain Management, Intralogistik, Produktion \n\n\n\n\nImplementierung von Methoden und Konzepten aus den Bereichen Data Science, Artificial Intelligence, Machine Learning, Cognitive Computing, Predictive Forecasting und Robotic Process Automation \n\n\nÜbernahme von Verantwortung durch aktive fachliche und technische Weiterentwicklung und Mitgestaltung unserer Assets zur Festigung unserer Vordenkerposition \n\n\nDamit punkten Sie bei uns:\n\nErfolgreich abgeschlossenes Studium der (Wirtschafts-) Informatik, (Wirtschafts-) Mathematik, BWL, Statistik, Physik, des (Wirtschafts-) Ingenieurwesens oder vergleichbarer Studiengänge \n\n\nKenntnisse auf den Gebieten Machine Learning, Data Science oder Predictive Forecasting \n\n\n\n\nErfahrung mit Datenbanken und Datenmodellen sowie R oder Python sind wünschenswert \n\n\nErste Kenntnisse auf den Gebieten Supply Chain Management, intralogistische Prozesse, Produktionsmanagement oder Bestandsmanagement etc. sind von Vorteil \n\n\nKundenorientierte, aufgeschlossene und eigenverantwortliche Arbeitsweise innerhalb unserer Projektteams \n\n\nSchnelle, analytische und proaktive Denkweise mit einem Auge für Details \n\n\n\n\nBereitschaft zu nationaler und internationaler Reisetätigkeit \n\n\nSehr gute deutsche und englische Sprachkenntnisse \n\n\nDamit punkten wir bei Ihnen:\nVielfältige Karriereperspektiven in einem unbefristeten Arbeitsvertrag mit zahlreichen Trainings- und Coachingangeboten und individueller Betreuung durch persönlichen Development Manager\nEin attraktives Vergütungsmodell inklusive eines erfolgsabhängigen Bonus mit Option zur Umwandlung in zusätzliche Freizeittage\nHybrides Arbeiten mit neuestem technischem Equipment inkl. Smartphone: beim Kunden, in einer unserer top Office Locations oder zu Hause\nUmfangreiche Angebote für die Work-Life-Balance wie z.B. Familienservice & Firmenfitness sowie zahlreiche Corporate Benefits \nFlache Hierarchien und eine teamorientierte Unternehmenskultur, in der Diversity und Wertschätzung, ökologische Verantwortung und gesellschaftliches Engagement dazu gehören\nKontakt:Chevron bottom iconSie haben noch Fragen?Wir freuen uns auf Ihren Anruf: +49 / 221 / 65083638 oder schreiben Sie uns eine Mail an professionals@bearingpoint-careers.de.",
         "Unternehmensberatg., Wirtschaftsprüfg., Recht",
         "3.9",
         "312 Bewertungen",
         "https://www.stepstone.de/cmp/de/BearingPoint-GmbH-19656/?intcid=Button_listing_company-card_company-presentation",
         "2022-06-03",
         "2501-5000",
         "True",
         "False",
         "True",
         "False",
         "True",
         "Machine Learning Engineer",
         "No Information",
         null,
         "München",
         "48.152126",
         "11.544467",
         "Bavaria"
        ],
        [
         "3",
         "https://www.stepstone.de/stellenangebote--Analyst-Data-Science-Artificial-Intelligence-m-w-d-Walldorf-Stuttgart-Muenchen-Leipzig-Hamburg-Frankfurt-am-Main-Duesseldorf-Berlin-BearingPoint-GmbH--7944366-inline.html",
         "BearingPoint GmbH",
         "Analyst Data Science & Artificial Intelligence (m/w/d)",
         "Design your own career.Make your point @ BearingPoint.\nWir bieten Beratung, die Strategie mit Technologie vereint und verbinden Unternehmertum mit Innovationsgeist. Bei uns warten auf Sie außergewöhnliche Entwicklungschancen, vielfältige Gestaltungsräume und Kollegen, die schnell zu Freunden werden.\nConsulting. Software. Ventures.Ihre Aufgaben:Befeuert durch den technologischen Fortschritt wagen immer mehr weltweit führende Industrieunternehmen die digitale Transformation. Autonom fahrende Roboter übernehmen den Warenfluss in Werken, die Zukunft wird mit modernen Methoden vorhergesagt und Bestände werden von KI-Algorithmen optimiert. \nGestalten Sie Innovation! Am Puls der Zeit erkennen Sie Potentiale und Herausforderungen der Digitalisierung, entwickeln daraus Lösungen und leisten so Ihren Beitrag zu der digitalen Beschaffung, Logistik oder Produktion von Morgen. Dabei begleiten Sie jeden Schritt von der Konzeption über die Umsetzung bis hin zur Anwendung im Kundenprojekt.  \nIhre Aufgaben \n\n\nEntwicklung und Bewertung von wegweisenden Data Science Use Cases in Zusammenarbeit mit unseren Kunden bis zur Umsetzung, vorwiegend in den Bereichen Supply Chain Management, Intralogistik, Produktion \n\n\n\n\nImplementierung von Methoden und Konzepten aus den Bereichen Data Science, Artificial Intelligence, Machine Learning, Cognitive Computing, Predictive Forecasting und Robotic Process Automation \n\n\nÜbernahme von Verantwortung durch aktive fachliche und technische Weiterentwicklung und Mitgestaltung unserer Assets zur Festigung unserer Vordenkerposition \n\n\nDamit punkten Sie bei uns:\n\nErfolgreich abgeschlossenes Studium der (Wirtschafts-) Informatik, (Wirtschafts-) Mathematik, BWL, Statistik, Physik, des (Wirtschafts-) Ingenieurwesens oder vergleichbarer Studiengänge \n\n\nKenntnisse auf den Gebieten Machine Learning, Data Science oder Predictive Forecasting \n\n\n\n\nErfahrung mit Datenbanken und Datenmodellen sowie R oder Python sind wünschenswert \n\n\nErste Kenntnisse auf den Gebieten Supply Chain Management, intralogistische Prozesse, Produktionsmanagement oder Bestandsmanagement etc. sind von Vorteil \n\n\nKundenorientierte, aufgeschlossene und eigenverantwortliche Arbeitsweise innerhalb unserer Projektteams \n\n\nSchnelle, analytische und proaktive Denkweise mit einem Auge für Details \n\n\n\n\nBereitschaft zu nationaler und internationaler Reisetätigkeit \n\n\nSehr gute deutsche und englische Sprachkenntnisse \n\n\nDamit punkten wir bei Ihnen:\nVielfältige Karriereperspektiven in einem unbefristeten Arbeitsvertrag mit zahlreichen Trainings- und Coachingangeboten und individueller Betreuung durch persönlichen Development Manager\nEin attraktives Vergütungsmodell inklusive eines erfolgsabhängigen Bonus mit Option zur Umwandlung in zusätzliche Freizeittage\nHybrides Arbeiten mit neuestem technischem Equipment inkl. Smartphone: beim Kunden, in einer unserer top Office Locations oder zu Hause\nUmfangreiche Angebote für die Work-Life-Balance wie z.B. Familienservice & Firmenfitness sowie zahlreiche Corporate Benefits \nFlache Hierarchien und eine teamorientierte Unternehmenskultur, in der Diversity und Wertschätzung, ökologische Verantwortung und gesellschaftliches Engagement dazu gehören\nKontakt:Chevron bottom iconSie haben noch Fragen?Wir freuen uns auf Ihren Anruf: +49 / 221 / 65083638 oder schreiben Sie uns eine Mail an professionals@bearingpoint-careers.de.",
         "Unternehmensberatg., Wirtschaftsprüfg., Recht",
         "3.9",
         "312 Bewertungen",
         "https://www.stepstone.de/cmp/de/BearingPoint-GmbH-19656/?intcid=Button_listing_company-card_company-presentation",
         "2022-06-03",
         "2501-5000",
         "True",
         "False",
         "True",
         "False",
         "True",
         "Machine Learning Engineer",
         "No Information",
         null,
         "Leipzig",
         "51.341053",
         "12.404024",
         "Saxony"
        ],
        [
         "4",
         "https://www.stepstone.de/stellenangebote--Analyst-Data-Science-Artificial-Intelligence-m-w-d-Walldorf-Stuttgart-Muenchen-Leipzig-Hamburg-Frankfurt-am-Main-Duesseldorf-Berlin-BearingPoint-GmbH--7944366-inline.html",
         "BearingPoint GmbH",
         "Analyst Data Science & Artificial Intelligence (m/w/d)",
         "Design your own career.Make your point @ BearingPoint.\nWir bieten Beratung, die Strategie mit Technologie vereint und verbinden Unternehmertum mit Innovationsgeist. Bei uns warten auf Sie außergewöhnliche Entwicklungschancen, vielfältige Gestaltungsräume und Kollegen, die schnell zu Freunden werden.\nConsulting. Software. Ventures.Ihre Aufgaben:Befeuert durch den technologischen Fortschritt wagen immer mehr weltweit führende Industrieunternehmen die digitale Transformation. Autonom fahrende Roboter übernehmen den Warenfluss in Werken, die Zukunft wird mit modernen Methoden vorhergesagt und Bestände werden von KI-Algorithmen optimiert. \nGestalten Sie Innovation! Am Puls der Zeit erkennen Sie Potentiale und Herausforderungen der Digitalisierung, entwickeln daraus Lösungen und leisten so Ihren Beitrag zu der digitalen Beschaffung, Logistik oder Produktion von Morgen. Dabei begleiten Sie jeden Schritt von der Konzeption über die Umsetzung bis hin zur Anwendung im Kundenprojekt.  \nIhre Aufgaben \n\n\nEntwicklung und Bewertung von wegweisenden Data Science Use Cases in Zusammenarbeit mit unseren Kunden bis zur Umsetzung, vorwiegend in den Bereichen Supply Chain Management, Intralogistik, Produktion \n\n\n\n\nImplementierung von Methoden und Konzepten aus den Bereichen Data Science, Artificial Intelligence, Machine Learning, Cognitive Computing, Predictive Forecasting und Robotic Process Automation \n\n\nÜbernahme von Verantwortung durch aktive fachliche und technische Weiterentwicklung und Mitgestaltung unserer Assets zur Festigung unserer Vordenkerposition \n\n\nDamit punkten Sie bei uns:\n\nErfolgreich abgeschlossenes Studium der (Wirtschafts-) Informatik, (Wirtschafts-) Mathematik, BWL, Statistik, Physik, des (Wirtschafts-) Ingenieurwesens oder vergleichbarer Studiengänge \n\n\nKenntnisse auf den Gebieten Machine Learning, Data Science oder Predictive Forecasting \n\n\n\n\nErfahrung mit Datenbanken und Datenmodellen sowie R oder Python sind wünschenswert \n\n\nErste Kenntnisse auf den Gebieten Supply Chain Management, intralogistische Prozesse, Produktionsmanagement oder Bestandsmanagement etc. sind von Vorteil \n\n\nKundenorientierte, aufgeschlossene und eigenverantwortliche Arbeitsweise innerhalb unserer Projektteams \n\n\nSchnelle, analytische und proaktive Denkweise mit einem Auge für Details \n\n\n\n\nBereitschaft zu nationaler und internationaler Reisetätigkeit \n\n\nSehr gute deutsche und englische Sprachkenntnisse \n\n\nDamit punkten wir bei Ihnen:\nVielfältige Karriereperspektiven in einem unbefristeten Arbeitsvertrag mit zahlreichen Trainings- und Coachingangeboten und individueller Betreuung durch persönlichen Development Manager\nEin attraktives Vergütungsmodell inklusive eines erfolgsabhängigen Bonus mit Option zur Umwandlung in zusätzliche Freizeittage\nHybrides Arbeiten mit neuestem technischem Equipment inkl. Smartphone: beim Kunden, in einer unserer top Office Locations oder zu Hause\nUmfangreiche Angebote für die Work-Life-Balance wie z.B. Familienservice & Firmenfitness sowie zahlreiche Corporate Benefits \nFlache Hierarchien und eine teamorientierte Unternehmenskultur, in der Diversity und Wertschätzung, ökologische Verantwortung und gesellschaftliches Engagement dazu gehören\nKontakt:Chevron bottom iconSie haben noch Fragen?Wir freuen uns auf Ihren Anruf: +49 / 221 / 65083638 oder schreiben Sie uns eine Mail an professionals@bearingpoint-careers.de.",
         "Unternehmensberatg., Wirtschaftsprüfg., Recht",
         "3.9",
         "312 Bewertungen",
         "https://www.stepstone.de/cmp/de/BearingPoint-GmbH-19656/?intcid=Button_listing_company-card_company-presentation",
         "2022-06-03",
         "2501-5000",
         "True",
         "False",
         "True",
         "False",
         "True",
         "Machine Learning Engineer",
         "No Information",
         null,
         "Hamburg",
         "53.576158",
         "10.007046",
         "Hamburg"
        ]
       ],
       "shape": {
        "columns": 22,
        "rows": 5
       }
      },
      "text/html": [
       "<div>\n",
       "<style scoped>\n",
       "    .dataframe tbody tr th:only-of-type {\n",
       "        vertical-align: middle;\n",
       "    }\n",
       "\n",
       "    .dataframe tbody tr th {\n",
       "        vertical-align: top;\n",
       "    }\n",
       "\n",
       "    .dataframe thead th {\n",
       "        text-align: right;\n",
       "    }\n",
       "</style>\n",
       "<table border=\"1\" class=\"dataframe\">\n",
       "  <thead>\n",
       "    <tr style=\"text-align: right;\">\n",
       "      <th></th>\n",
       "      <th>link</th>\n",
       "      <th>company</th>\n",
       "      <th>title</th>\n",
       "      <th>content</th>\n",
       "      <th>industry</th>\n",
       "      <th>rating</th>\n",
       "      <th>num_ratings</th>\n",
       "      <th>company_link</th>\n",
       "      <th>release_date</th>\n",
       "      <th>company_size</th>\n",
       "      <th>...</th>\n",
       "      <th>home_office_possible</th>\n",
       "      <th>part_time</th>\n",
       "      <th>full_time</th>\n",
       "      <th>title_category</th>\n",
       "      <th>experience_level</th>\n",
       "      <th>average_salary</th>\n",
       "      <th>location</th>\n",
       "      <th>latitude</th>\n",
       "      <th>longitude</th>\n",
       "      <th>region</th>\n",
       "    </tr>\n",
       "  </thead>\n",
       "  <tbody>\n",
       "    <tr>\n",
       "      <th>0</th>\n",
       "      <td>https://www.stepstone.de/stellenangebote--Anal...</td>\n",
       "      <td>BearingPoint GmbH</td>\n",
       "      <td>Analyst Data Science &amp; Artificial Intelligence...</td>\n",
       "      <td>Design your own career.Make your point @ Beari...</td>\n",
       "      <td>Unternehmensberatg., Wirtschaftsprüfg., Recht</td>\n",
       "      <td>3.9</td>\n",
       "      <td>312 Bewertungen</td>\n",
       "      <td>https://www.stepstone.de/cmp/de/BearingPoint-G...</td>\n",
       "      <td>2022-06-03</td>\n",
       "      <td>2501-5000</td>\n",
       "      <td>...</td>\n",
       "      <td>True</td>\n",
       "      <td>False</td>\n",
       "      <td>True</td>\n",
       "      <td>Machine Learning Engineer</td>\n",
       "      <td>No Information</td>\n",
       "      <td>NaN</td>\n",
       "      <td>Walldorf</td>\n",
       "      <td>49.307822</td>\n",
       "      <td>8.641450</td>\n",
       "      <td>Baden-Württemberg</td>\n",
       "    </tr>\n",
       "    <tr>\n",
       "      <th>1</th>\n",
       "      <td>https://www.stepstone.de/stellenangebote--Anal...</td>\n",
       "      <td>BearingPoint GmbH</td>\n",
       "      <td>Analyst Data Science &amp; Artificial Intelligence...</td>\n",
       "      <td>Design your own career.Make your point @ Beari...</td>\n",
       "      <td>Unternehmensberatg., Wirtschaftsprüfg., Recht</td>\n",
       "      <td>3.9</td>\n",
       "      <td>312 Bewertungen</td>\n",
       "      <td>https://www.stepstone.de/cmp/de/BearingPoint-G...</td>\n",
       "      <td>2022-06-03</td>\n",
       "      <td>2501-5000</td>\n",
       "      <td>...</td>\n",
       "      <td>True</td>\n",
       "      <td>False</td>\n",
       "      <td>True</td>\n",
       "      <td>Machine Learning Engineer</td>\n",
       "      <td>No Information</td>\n",
       "      <td>NaN</td>\n",
       "      <td>Stuttgart</td>\n",
       "      <td>48.706310</td>\n",
       "      <td>9.119240</td>\n",
       "      <td>Baden-Württemberg</td>\n",
       "    </tr>\n",
       "    <tr>\n",
       "      <th>2</th>\n",
       "      <td>https://www.stepstone.de/stellenangebote--Anal...</td>\n",
       "      <td>BearingPoint GmbH</td>\n",
       "      <td>Analyst Data Science &amp; Artificial Intelligence...</td>\n",
       "      <td>Design your own career.Make your point @ Beari...</td>\n",
       "      <td>Unternehmensberatg., Wirtschaftsprüfg., Recht</td>\n",
       "      <td>3.9</td>\n",
       "      <td>312 Bewertungen</td>\n",
       "      <td>https://www.stepstone.de/cmp/de/BearingPoint-G...</td>\n",
       "      <td>2022-06-03</td>\n",
       "      <td>2501-5000</td>\n",
       "      <td>...</td>\n",
       "      <td>True</td>\n",
       "      <td>False</td>\n",
       "      <td>True</td>\n",
       "      <td>Machine Learning Engineer</td>\n",
       "      <td>No Information</td>\n",
       "      <td>NaN</td>\n",
       "      <td>München</td>\n",
       "      <td>48.152126</td>\n",
       "      <td>11.544467</td>\n",
       "      <td>Bavaria</td>\n",
       "    </tr>\n",
       "    <tr>\n",
       "      <th>3</th>\n",
       "      <td>https://www.stepstone.de/stellenangebote--Anal...</td>\n",
       "      <td>BearingPoint GmbH</td>\n",
       "      <td>Analyst Data Science &amp; Artificial Intelligence...</td>\n",
       "      <td>Design your own career.Make your point @ Beari...</td>\n",
       "      <td>Unternehmensberatg., Wirtschaftsprüfg., Recht</td>\n",
       "      <td>3.9</td>\n",
       "      <td>312 Bewertungen</td>\n",
       "      <td>https://www.stepstone.de/cmp/de/BearingPoint-G...</td>\n",
       "      <td>2022-06-03</td>\n",
       "      <td>2501-5000</td>\n",
       "      <td>...</td>\n",
       "      <td>True</td>\n",
       "      <td>False</td>\n",
       "      <td>True</td>\n",
       "      <td>Machine Learning Engineer</td>\n",
       "      <td>No Information</td>\n",
       "      <td>NaN</td>\n",
       "      <td>Leipzig</td>\n",
       "      <td>51.341053</td>\n",
       "      <td>12.404024</td>\n",
       "      <td>Saxony</td>\n",
       "    </tr>\n",
       "    <tr>\n",
       "      <th>4</th>\n",
       "      <td>https://www.stepstone.de/stellenangebote--Anal...</td>\n",
       "      <td>BearingPoint GmbH</td>\n",
       "      <td>Analyst Data Science &amp; Artificial Intelligence...</td>\n",
       "      <td>Design your own career.Make your point @ Beari...</td>\n",
       "      <td>Unternehmensberatg., Wirtschaftsprüfg., Recht</td>\n",
       "      <td>3.9</td>\n",
       "      <td>312 Bewertungen</td>\n",
       "      <td>https://www.stepstone.de/cmp/de/BearingPoint-G...</td>\n",
       "      <td>2022-06-03</td>\n",
       "      <td>2501-5000</td>\n",
       "      <td>...</td>\n",
       "      <td>True</td>\n",
       "      <td>False</td>\n",
       "      <td>True</td>\n",
       "      <td>Machine Learning Engineer</td>\n",
       "      <td>No Information</td>\n",
       "      <td>NaN</td>\n",
       "      <td>Hamburg</td>\n",
       "      <td>53.576158</td>\n",
       "      <td>10.007046</td>\n",
       "      <td>Hamburg</td>\n",
       "    </tr>\n",
       "  </tbody>\n",
       "</table>\n",
       "<p>5 rows × 22 columns</p>\n",
       "</div>"
      ],
      "text/plain": [
       "                                                link            company  \\\n",
       "0  https://www.stepstone.de/stellenangebote--Anal...  BearingPoint GmbH   \n",
       "1  https://www.stepstone.de/stellenangebote--Anal...  BearingPoint GmbH   \n",
       "2  https://www.stepstone.de/stellenangebote--Anal...  BearingPoint GmbH   \n",
       "3  https://www.stepstone.de/stellenangebote--Anal...  BearingPoint GmbH   \n",
       "4  https://www.stepstone.de/stellenangebote--Anal...  BearingPoint GmbH   \n",
       "\n",
       "                                               title  \\\n",
       "0  Analyst Data Science & Artificial Intelligence...   \n",
       "1  Analyst Data Science & Artificial Intelligence...   \n",
       "2  Analyst Data Science & Artificial Intelligence...   \n",
       "3  Analyst Data Science & Artificial Intelligence...   \n",
       "4  Analyst Data Science & Artificial Intelligence...   \n",
       "\n",
       "                                             content  \\\n",
       "0  Design your own career.Make your point @ Beari...   \n",
       "1  Design your own career.Make your point @ Beari...   \n",
       "2  Design your own career.Make your point @ Beari...   \n",
       "3  Design your own career.Make your point @ Beari...   \n",
       "4  Design your own career.Make your point @ Beari...   \n",
       "\n",
       "                                        industry  rating      num_ratings  \\\n",
       "0  Unternehmensberatg., Wirtschaftsprüfg., Recht     3.9  312 Bewertungen   \n",
       "1  Unternehmensberatg., Wirtschaftsprüfg., Recht     3.9  312 Bewertungen   \n",
       "2  Unternehmensberatg., Wirtschaftsprüfg., Recht     3.9  312 Bewertungen   \n",
       "3  Unternehmensberatg., Wirtschaftsprüfg., Recht     3.9  312 Bewertungen   \n",
       "4  Unternehmensberatg., Wirtschaftsprüfg., Recht     3.9  312 Bewertungen   \n",
       "\n",
       "                                        company_link release_date  \\\n",
       "0  https://www.stepstone.de/cmp/de/BearingPoint-G...   2022-06-03   \n",
       "1  https://www.stepstone.de/cmp/de/BearingPoint-G...   2022-06-03   \n",
       "2  https://www.stepstone.de/cmp/de/BearingPoint-G...   2022-06-03   \n",
       "3  https://www.stepstone.de/cmp/de/BearingPoint-G...   2022-06-03   \n",
       "4  https://www.stepstone.de/cmp/de/BearingPoint-G...   2022-06-03   \n",
       "\n",
       "  company_size  ...  home_office_possible  part_time  full_time  \\\n",
       "0    2501-5000  ...                  True      False       True   \n",
       "1    2501-5000  ...                  True      False       True   \n",
       "2    2501-5000  ...                  True      False       True   \n",
       "3    2501-5000  ...                  True      False       True   \n",
       "4    2501-5000  ...                  True      False       True   \n",
       "\n",
       "              title_category  experience_level average_salary   location  \\\n",
       "0  Machine Learning Engineer    No Information            NaN   Walldorf   \n",
       "1  Machine Learning Engineer    No Information            NaN  Stuttgart   \n",
       "2  Machine Learning Engineer    No Information            NaN    München   \n",
       "3  Machine Learning Engineer    No Information            NaN    Leipzig   \n",
       "4  Machine Learning Engineer    No Information            NaN    Hamburg   \n",
       "\n",
       "    latitude  longitude             region  \n",
       "0  49.307822   8.641450  Baden-Württemberg  \n",
       "1  48.706310   9.119240  Baden-Württemberg  \n",
       "2  48.152126  11.544467            Bavaria  \n",
       "3  51.341053  12.404024             Saxony  \n",
       "4  53.576158  10.007046            Hamburg  \n",
       "\n",
       "[5 rows x 22 columns]"
      ]
     },
     "execution_count": 35,
     "metadata": {},
     "output_type": "execute_result"
    }
   ],
   "source": [
    "geo_data = geo_data.loc[(geo_data[\"type\"] == \"locality\") & (geo_data[\"confidence\"] == 1)]\n",
    "data_long_geo = pd.merge(data_long, geo_data[[\"latitude\", \"longitude\", \"location\", \"region\"]], on=\"location\", how=\"inner\")\n",
    "data_long_geo.head()"
   ]
  },
  {
   "cell_type": "code",
   "execution_count": 36,
   "id": "e5081989-18de-4824-add4-f90c3bf4a0ee",
   "metadata": {},
   "outputs": [
    {
     "data": {
      "text/plain": [
       "(6923, 22)"
      ]
     },
     "execution_count": 36,
     "metadata": {},
     "output_type": "execute_result"
    }
   ],
   "source": [
    "data_long_geo.shape"
   ]
  },
  {
   "cell_type": "code",
   "execution_count": 37,
   "id": "749bf75a-6e4a-440a-b8f9-c2474a1ec2e3",
   "metadata": {},
   "outputs": [],
   "source": [
    "data_long_geo.to_csv(\"../data/data_long.csv\", index=False)"
   ]
  },
  {
   "cell_type": "markdown",
   "id": "df7856bc-f6ad-4f55-834b-19f8f7902054",
   "metadata": {},
   "source": [
    "## Prepare Geo Data for Modeling"
   ]
  },
  {
   "cell_type": "markdown",
   "id": "16750562-a316-4c09-a1c8-f8a825aac4b3",
   "metadata": {},
   "source": [
    "For a later model, the data in long format cannot be used, because otherwise job ads with several locations would be included in the model more than those with few. Therefore, these must first be converted back into wide format in order to subsequently generate meaningful features."
   ]
  },
  {
   "cell_type": "code",
   "execution_count": 38,
   "id": "c9b10f13-8c69-402b-bf20-2a72034a6c8c",
   "metadata": {},
   "outputs": [
    {
     "data": {
      "application/vnd.microsoft.datawrangler.viewer.v0+json": {
       "columns": [
        {
         "name": "index",
         "rawType": "int64",
         "type": "integer"
        },
        {
         "name": "link",
         "rawType": "object",
         "type": "string"
        },
        {
         "name": "company",
         "rawType": "object",
         "type": "string"
        },
        {
         "name": "title",
         "rawType": "object",
         "type": "string"
        },
        {
         "name": "content",
         "rawType": "object",
         "type": "string"
        },
        {
         "name": "industry",
         "rawType": "object",
         "type": "unknown"
        },
        {
         "name": "rating",
         "rawType": "float64",
         "type": "float"
        },
        {
         "name": "num_ratings",
         "rawType": "object",
         "type": "unknown"
        },
        {
         "name": "company_link",
         "rawType": "object",
         "type": "unknown"
        },
        {
         "name": "release_date",
         "rawType": "object",
         "type": "string"
        },
        {
         "name": "company_size",
         "rawType": "object",
         "type": "unknown"
        },
        {
         "name": "permanent_employment",
         "rawType": "bool",
         "type": "boolean"
        },
        {
         "name": "trainee",
         "rawType": "bool",
         "type": "boolean"
        },
        {
         "name": "home_office_possible",
         "rawType": "bool",
         "type": "boolean"
        },
        {
         "name": "part_time",
         "rawType": "bool",
         "type": "boolean"
        },
        {
         "name": "full_time",
         "rawType": "bool",
         "type": "boolean"
        },
        {
         "name": "title_category",
         "rawType": "object",
         "type": "string"
        },
        {
         "name": "experience_level",
         "rawType": "object",
         "type": "string"
        },
        {
         "name": "average_salary",
         "rawType": "float64",
         "type": "float"
        },
        {
         "name": "location",
         "rawType": "object",
         "type": "unknown"
        }
       ],
       "conversionMethod": "pd.DataFrame",
       "ref": "15da0a2c-fc55-4452-8758-49588391743a",
       "rows": [
        [
         "0",
         "https://www.stepstone.de/stellenangebote--Analyst-Data-Science-Artificial-Intelligence-m-w-d-Walldorf-Stuttgart-Muenchen-Leipzig-Hamburg-Frankfurt-am-Main-Duesseldorf-Berlin-BearingPoint-GmbH--7944366-inline.html",
         "BearingPoint GmbH",
         "Analyst Data Science & Artificial Intelligence (m/w/d)",
         "Design your own career.Make your point @ BearingPoint.\nWir bieten Beratung, die Strategie mit Technologie vereint und verbinden Unternehmertum mit Innovationsgeist. Bei uns warten auf Sie außergewöhnliche Entwicklungschancen, vielfältige Gestaltungsräume und Kollegen, die schnell zu Freunden werden.\nConsulting. Software. Ventures.Ihre Aufgaben:Befeuert durch den technologischen Fortschritt wagen immer mehr weltweit führende Industrieunternehmen die digitale Transformation. Autonom fahrende Roboter übernehmen den Warenfluss in Werken, die Zukunft wird mit modernen Methoden vorhergesagt und Bestände werden von KI-Algorithmen optimiert. \nGestalten Sie Innovation! Am Puls der Zeit erkennen Sie Potentiale und Herausforderungen der Digitalisierung, entwickeln daraus Lösungen und leisten so Ihren Beitrag zu der digitalen Beschaffung, Logistik oder Produktion von Morgen. Dabei begleiten Sie jeden Schritt von der Konzeption über die Umsetzung bis hin zur Anwendung im Kundenprojekt.  \nIhre Aufgaben \n\n\nEntwicklung und Bewertung von wegweisenden Data Science Use Cases in Zusammenarbeit mit unseren Kunden bis zur Umsetzung, vorwiegend in den Bereichen Supply Chain Management, Intralogistik, Produktion \n\n\n\n\nImplementierung von Methoden und Konzepten aus den Bereichen Data Science, Artificial Intelligence, Machine Learning, Cognitive Computing, Predictive Forecasting und Robotic Process Automation \n\n\nÜbernahme von Verantwortung durch aktive fachliche und technische Weiterentwicklung und Mitgestaltung unserer Assets zur Festigung unserer Vordenkerposition \n\n\nDamit punkten Sie bei uns:\n\nErfolgreich abgeschlossenes Studium der (Wirtschafts-) Informatik, (Wirtschafts-) Mathematik, BWL, Statistik, Physik, des (Wirtschafts-) Ingenieurwesens oder vergleichbarer Studiengänge \n\n\nKenntnisse auf den Gebieten Machine Learning, Data Science oder Predictive Forecasting \n\n\n\n\nErfahrung mit Datenbanken und Datenmodellen sowie R oder Python sind wünschenswert \n\n\nErste Kenntnisse auf den Gebieten Supply Chain Management, intralogistische Prozesse, Produktionsmanagement oder Bestandsmanagement etc. sind von Vorteil \n\n\nKundenorientierte, aufgeschlossene und eigenverantwortliche Arbeitsweise innerhalb unserer Projektteams \n\n\nSchnelle, analytische und proaktive Denkweise mit einem Auge für Details \n\n\n\n\nBereitschaft zu nationaler und internationaler Reisetätigkeit \n\n\nSehr gute deutsche und englische Sprachkenntnisse \n\n\nDamit punkten wir bei Ihnen:\nVielfältige Karriereperspektiven in einem unbefristeten Arbeitsvertrag mit zahlreichen Trainings- und Coachingangeboten und individueller Betreuung durch persönlichen Development Manager\nEin attraktives Vergütungsmodell inklusive eines erfolgsabhängigen Bonus mit Option zur Umwandlung in zusätzliche Freizeittage\nHybrides Arbeiten mit neuestem technischem Equipment inkl. Smartphone: beim Kunden, in einer unserer top Office Locations oder zu Hause\nUmfangreiche Angebote für die Work-Life-Balance wie z.B. Familienservice & Firmenfitness sowie zahlreiche Corporate Benefits \nFlache Hierarchien und eine teamorientierte Unternehmenskultur, in der Diversity und Wertschätzung, ökologische Verantwortung und gesellschaftliches Engagement dazu gehören\nKontakt:Chevron bottom iconSie haben noch Fragen?Wir freuen uns auf Ihren Anruf: +49 / 221 / 65083638 oder schreiben Sie uns eine Mail an professionals@bearingpoint-careers.de.",
         "Unternehmensberatg., Wirtschaftsprüfg., Recht",
         "3.9",
         "312 Bewertungen",
         "https://www.stepstone.de/cmp/de/BearingPoint-GmbH-19656/?intcid=Button_listing_company-card_company-presentation",
         "2022-06-03",
         "2501-5000",
         "True",
         "False",
         "True",
         "False",
         "True",
         "Machine Learning Engineer",
         "No Information",
         null,
         "['Walldorf', 'Stuttgart', 'München', 'Leipzig', 'Hamburg', 'Frankfurt', 'Düsseldorf', 'Berlin']"
        ],
        [
         "1",
         "https://www.stepstone.de/stellenangebote--Manager-m-w-d-Data-Science-Statistik-Berlin-BIG-direkt-gesund--8362563-inline.html",
         "BIG direkt gesund",
         "Manager (m/w/d) Data Science & Statistik",
         "Direkter geht Karriere nicht.Einstieg bei der ersten Direktkrankenkasse Deutschlands: Seit über 25 Jahren setzen wir bei der BIG auf digitale Kommunikationswege und schlanke Strukturen mit vielen Extraleistungen für unsere Versicherten. Mit mehr als 500.000 Versicherten und über 900 Mitarbeiter*innen zählen wir zu den 30 größten Krankenkassen – aber wir sind auch eine der flexibelsten. Unsere Kund*innen erleben jeden Tag, was wir unter gutem Service verstehen: Kommunikation auf Augenhöhe und über den Kanal, den sie wünschen, schnelle Entscheidungen und eine bequeme Abwicklung ihrer Anliegen.\nZur Erweiterung unseres Expertenteams suchen wir Sie zum nächstmöglichen Zeitpunkt als Manager (m/w/d) Data Science & Statistik für den Standort Berlin.  Ihre Aufgaben\nErstellung von tiefgehenden Analysen für strategische Entscheidungen und Maßnahmen in allen Geschäftsbereichen sowie Präsentation der Ergebnisse vor Stakeholdern auf unterschiedlichen Ebenen\nDurchführung komplexer Datenanalysen, Datenaufbereitung und Entwicklung prognostischer Modelle auf Basis aktueller statistischer Methoden und auf Grundlage einer Identifikation und Analyse der im Unternehmen und außerhalb des Unternehmens vorhandenen Datenquellen\nGenerierung von Regeln und Programmierung von Scorings aus Massendaten (z.B. GKV-Routinedaten und Webdaten) unter Beachtung des Datenschutzes\nOptimierung datengetriebener Prozesse in den Bereichen medizinische Versorgung, Kunde und Markt sowie Financial und Risk\nEntwicklung von Use Cases, Machbarkeitsanalysen und Proof of Concepts insbesondere auch mit externen Partnern\nMitwirkung am Ausbau der digitalen Exzellenz der BIG direkt gesund und Aufbau der dazugehörigen Infrastruktur\nÜbernahme organisatorischer und kommunikativer Aufgaben in Projekten (Projektmanagement)\nIhr Profil\nBeherrschung der relevanten statistischen Methoden, KI und ML-Verfahren\ntiefgehende Kenntnisse in deskriptiver und induktiver Statistik (Stochastik) sowie Erfahrungen in der Anwendung multivariater Verfahren\nsehr gute Kenntnisse in Statistikwerkzeugen (z.B. SPSS, Python oder R)\nSensibilität für Belange des Datenschutzes sowie Kenntnis der datenschutzrechtlichen Rahmenbedingungen\nsmarte Kommunikation auch schwieriger Sachverhalte intern und extern (z.B. auf Kongressen)\nproaktive permanente fachliche Weiterbildung\nvorteilhaft sind Kenntnisse in SQL-Programmierung und in Bezug auf Web-Analytics\nWir bietenWir bieten ausgezeichnete Perspektiven und einen zukunftssicheren Arbeitsplatz. Flache Hierarchien und kurze Entscheidungswege ermöglichen Ihnen eigenverantwortliches Handeln. Darüber hinaus schaffen flexible Arbeitszeiten, die Möglichkeit von zu Hause zu arbeiten, eine ausgeprägte Feedbackkultur und unser Fokus auf praxisorientierte Weiterbildung für Sie ideale Rahmenbedingungen, um sich engagiert für unsere Kundinnen und Kunden einzusetzen. Zusätzlich bieten wir Ihnen unter anderem eine Unterstützung zur betrieblichen Altersvorsorge, VWL, ein Firmenbike sowie 30 Tage Urlaub.\nUmfassende Informationen über die Unternehmensphilosophie und das Arbeiten bei der BIG finden Sie auf unserer Website in der Rubrik „Karriere“.\n \n KontaktChevron bottom iconHaben wir Ihr Interesse geweckt? Dann bewerben Sie sich online mit Ihren aussagekräftigen Bewerbungsunterlagen. Bewerbungen von Schwerbehinderten werden begrüßt. Ziel des Gleichstellungsplans der BIG ist eine möglichst paritätische Verteilung der Positionen in den einzelnen Bereichen zwischen Mitarbeiterinnen und Mitarbeitern unter Berücksichtigung von Eignung, Befähigung und fachlicher Leistung.\nFür Fragen steht Carsten Griese, Manager HR / Recruiting, carsten.griese@big-direkt.de oder 0231.5557-3651, gerne zur Verfügung.",
         null,
         "4.3",
         "16 Bewertungen",
         null,
         "2022-06-03",
         null,
         "True",
         "False",
         "True",
         "False",
         "True",
         "Data Science Manager",
         "No Information",
         "59500.0",
         "['Berlin']"
        ],
        [
         "2",
         "https://www.stepstone.de/stellenangebote--Manager-m-w-d-Data-Science-Statistik-Dortmund-Duesseldorf-Aachen-BIG-direkt-gesund--8362548-inline.html",
         "BIG direkt gesund",
         "Manager (m/w/d) Data Science & Statistik",
         "Direkter geht Karriere nicht.Einstieg bei der ersten Direktkrankenkasse Deutschlands: Seit über 25 Jahren setzen wir bei der BIG auf digitale Kommunikationswege und schlanke Strukturen mit vielen Extraleistungen für unsere Versicherten. Mit mehr als 500.000 Versicherten und über 900 Mitarbeiter*innen zählen wir zu den 30 größten Krankenkassen – aber wir sind auch eine der flexibelsten. Unsere Kund*innen erleben jeden Tag, was wir unter gutem Service verstehen: Kommunikation auf Augenhöhe und über den Kanal, den sie wünschen, schnelle Entscheidungen und eine bequeme Abwicklung ihrer Anliegen.\nZur Erweiterung unseres Expertenteams suchen wir Sie zum nächstmöglichen Zeitpunkt als Manager (m/w/d) Data Science & Statistik für die Standorte Dortmund, Düsseldorf oder Aachen. Ihre Aufgaben\nErstellung von tiefgehenden Analysen für strategische Entscheidungen und Maßnahmen in allen Geschäftsbereichen sowie Präsentation der Ergebnisse vor Stakeholdern auf unterschiedlichen Ebenen\nDurchführung komplexer Datenanalysen, Datenaufbereitung und Entwicklung prognostischer Modelle auf Basis aktueller statistischer Methoden und auf Grundlage einer Identifikation und Analyse der im Unternehmen und außerhalb des Unternehmens vorhandenen Datenquellen\nGenerierung von Regeln und Programmierung von Scorings aus Massendaten (z.B. GKV-Routinedaten und Webdaten) unter Beachtung des Datenschutzes\nOptimierung datengetriebener Prozesse in den Bereichen medizinische Versorgung, Kunde und Markt sowie Financial und Risk\nEntwicklung von Use Cases, Machbarkeitsanalysen und Proof of Concepts insbesondere auch mit externen Partnern\nMitwirkung am Ausbau der digitalen Exzellenz der BIG direkt gesund und Aufbau der dazugehörigen Infrastruktur\nÜbernahme organisatorischer und kommunikativer Aufgaben in Projekten (Projektmanagement)\nIhr Profil\nBeherrschung der relevanten statistischen Methoden, KI und ML-Verfahren\ntiefgehende Kenntnisse in deskriptiver und induktiver Statistik (Stochastik) sowie Erfahrungen in der Anwendung multivariater Verfahren\nsehr gute Kenntnisse in Statistikwerkzeugen (z.B. SPSS, Python oder R)\nSensibilität für Belange des Datenschutzes sowie Kenntnis der datenschutzrechtlichen Rahmenbedingungen\nsmarte Kommunikation auch schwieriger Sachverhalte intern und extern (z.B. auf Kongressen)\nproaktive permanente fachliche Weiterbildung\nvorteilhaft sind Kenntnisse in SQL-Programmierung und in Bezug auf Web-Analytics\nWir bietenWir bieten ausgezeichnete Perspektiven und einen zukunftssicheren Arbeitsplatz. Flache Hierarchien und kurze Entscheidungswege ermöglichen Ihnen eigenverantwortliches Handeln. Darüber hinaus schaffen flexible Arbeitszeiten, die Möglichkeit von zu Hause zu arbeiten, eine ausgeprägte Feedbackkultur und unser Fokus auf praxisorientierte Weiterbildung für Sie ideale Rahmenbedingungen, um sich engagiert für unsere Kundinnen und Kunden einzusetzen. Zusätzlich bieten wir Ihnen unter anderem eine Unterstützung zur betrieblichen Altersvorsorge, VWL, ein Firmenbike sowie 30 Tage Urlaub.\nUmfassende Informationen über die Unternehmensphilosophie und das Arbeiten bei der BIG finden Sie auf unserer Website in der Rubrik „Karriere“.\n \n KontaktChevron bottom iconHaben wir Ihr Interesse geweckt? Dann bewerben Sie sich online mit Ihren aussagekräftigen Bewerbungsunterlagen. Bewerbungen von Schwerbehinderten werden begrüßt. Ziel des Gleichstellungsplans der BIG ist eine möglichst paritätische Verteilung der Positionen in den einzelnen Bereichen zwischen Mitarbeiterinnen und Mitarbeitern unter Berücksichtigung von Eignung, Befähigung und fachlicher Leistung.\nFür Fragen steht Carsten Griese, Manager HR / Recruiting, carsten.griese@big-direkt.de oder 0231.5557-3651, gerne zur Verfügung.",
         null,
         "4.3",
         "16 Bewertungen",
         null,
         "2022-06-03",
         null,
         "True",
         "False",
         "True",
         "False",
         "True",
         "Data Science Manager",
         "No Information",
         "62500.0",
         "['Dortmund', 'Düsseldorf', 'Aachen']"
        ],
        [
         "3",
         "https://www.stepstone.de/stellenangebote--Data-Science-Lead-Duesseldorf-Palma-de-Mallorca-METRO-Markets-GmbH--8300873-inline.html",
         "METRO Markets GmbH",
         "Data Science Lead",
         "We create the future of B2B commerce by giving business relationships a platform. Our marketplace enables millions of business owners all over the world to focus on what they do best – delight others.Online marketplaces have never been this awesome.\nJoin our team of passionate technology enthusiasts and e-commerce specialists in our brand-new offices in Düsseldorf or in Palma de Mallorca!\nWe are looking for an experienced Data Scientist, that can help us to build and establish a scalable ecosystem (tools, processes, people and more) around Data Science to be rolled out across the entire company.\nYou will work within the Business Intelligence & Data Analytics department and will be working closely with our Data Engineers & Data Analysts but also with stakeholders and teams from all different functions across the company to empower them to generate value from data.In this role, you will have the fantastic and rare opportunity to define, build and influence a setup from scratch with the latest up-to-date technologies in a very fast-growing and scaling environment.\nSounds good? You will be responsible for:\n\nBuild and own a scalable Data Science ecosystem and team from scratch\nYou will be the key ambassador within the company for all Data Science topics\nYou will define and establish best practices and guidelines for all phases of data science process, from model conceptualization and tuning over model implementation to model testing and running them in the cloud\nLive and breathe an appropriate mixture between Strategy, Hands-On, Enabling and Education around kicking off Data Science at scale based on the maturity of our business\nTeam up with data engineers, data analysts, developers, product people and various other functions across the company on data science-related challenges\nEstablish a scalable Data Science mindest and culture across the company\nDefine the scope of the entire team and team lead it\n\nYou've got\n\nPassion for building and shaping things that will be having a real impact on our culture & business \nA degree in a Data Science related field\nStrong skills in Statistics & Mathematics and their application within the field of Data Science \n6+ years of professional experience working as a Data Scientist, ideally not purely within an agency setup\nProven experience in real-world-application of Data Science in an E-Commerce / Retail / Wholesale environment\nProven knowledge and experience with building a Data Science Platform from scratch and how to integrate with self developed and 3rd party software\nA strong track record in working with peers and stakeholders from many organizational hierarchy levels across different domains\nExperience with Big Data & Cloud technologies such as GCP, AWS, Docker, or similar\nStrong Python and SQL and skills and knowledge of software development best practices (git, packaging, deployment, etc…)\nA very good understanding of Data Engineering and how it integrates with Data Science\nExperience with at least one deep learning framework such as PyTorch, TensorFlow or similar\nAbility and willingness to switch between “hands on” and “strategic” working mode according to situational needs \nExperience with functional and disciplinary leadership will be a plus\n\nWe've got\n\nAn exciting product with a strong and long-term vision\nA hybrid work model with high flexibility\nTraining opportunities tailored to your individual career path\nOpportunities to work from abroad for some time\nAn amazing international team, lots of events and team activities\nLots of corporate benefits\nFunky offices in Palma and Düsseldorf with easy access by road & public transport\nIf you’re not from Germany/Spain, we’ll give you relocation support  \n\n",
         "IT & Internet",
         null,
         null,
         null,
         "2022-06-01",
         null,
         "True",
         "False",
         "True",
         "False",
         "True",
         "Data Science Manager",
         "No Information",
         "86000.0",
         "['Düsseldorf', 'Palma de Mallorca']"
        ],
        [
         "4",
         "https://www.stepstone.de/stellenangebote--Business-Analyst-Data-Science-m-w-d-Wiesbaden-R-V-Allgemeine-Versicherung-AG--8243604-inline.html",
         "R+V Allgemeine Versicherung AG",
         "Business Analyst / Data Science (m/w/d)",
         "Wie sich die Versicherung von morgen anfühlen wird, entscheiden Sie schon heute – als Mitarbeiter (m/w/d) der R+V Versicherung. Unser Anspruch: Ihrem Talent und Ihrer Leidenschaft den passenden Rahmen bieten. Unser Ziel: Zukunftsweisenden Versicherungslösungen den Weg ebnen und die gemeinsamen Werte mit Leben füllen. \nLassen Sie uns gemeinsam neue Wege gehen! Denn genau das tun wir bei der R+V, einem der größten Versicherer Deutschlands. \nBusiness Analyst / Data Science (m/w/d) \nStandort: Wiesbaden · R+V CampusBreit gefächert: Ihre Aufgaben\nAls Teil unseres Teams:\n\nsetzen Sie Lösungen in den Bereichen Machine Learning, Künstliche Intelligenz und Predictive Analytics um\nentwickeln Sie eigenständig Python-Lösungen und begleiten die dazugehörigen Deployment-Prozesse\nunterstützen Sie unsere Fachbereiche bei der Umsetzung und Anwendung von datengetriebenen Lösungen\nbegleiten Sie spannende Projekte und Arbeitskreise bezüglich der Einsatzmöglichkeiten von Data-Science-Methoden\nBestens aufgestellt: Ihr Profil\n\nAbgeschlossenes Studium in Informatik, Data Science, Data Analytics oder eines vergleichbaren Studiengangs\nKenntnisse in der Aufbereitung und Auswertung von komplexen und umfangreichen Datenstrukturen\nErfahrung in der Programmierung mit Python sowie mit komplexen Abfragen und der Datenmodellierung in SQL & NoSQL\nSicherer Umgang mit den üblichen Entwicklungstools wie GitHub, Azure DevOps, Visual Studio Code, etc.\nAgiles Mindset und Erfahrung in agiler Projektarbeit\nTeamplayer mit schneller Auffassungsgabe und analytischer Denkweise\nIdealerweise Kenntnisse in der Rückversicherung\nSehr gutes Deutsch und Englisch in Wort und Schrift\nDas erwartet Sie bei uns:\nDie Gruppe Data Management & Analytics ist verantwortlich für unser Data Warehouse und die Reporting-Werkzeuge im Ressort Aktive Rückversicherung. Wir unterstützen unsere Kollegen bei allen Fragestellungen rund um Auswertungen und Analysen von Daten und kümmern uns um die Bereitstellung von einfachen und innovativen Lösungen, anhand derer unsere Kollegen selbstständig Antworten auf ihre Fragen finden können. Neben dem klassischen Data Warehousing & Reporting setzen wir außerdem auf die Integration von Machine Learning und künstlicher Intelligenz um explorative Analysen auf Basis unseres umfangreichen Datenbestandes durchführen zu können.\nBenefits:\n\nWork-Life-Balance\n Entwicklungsperspektiven \n Job-Ticket \n Betriebsrestaurant \n Fitnessstudio \nAttraktive Vergütung und Zusatzleistung\n Altersvorsorge \nKontaktChevron bottom iconInteressiert? Dann werde Teil eines starken Teams. Hier direkt online bewerben. Referenzcode: 22553\nOffene Fragen beantworten wir Ihnen gerne unter 0611 533-5210.",
         "Versicherungen",
         "4.4",
         "247 Bewertungen",
         "https://www.stepstone.de/cmp/de/R-V-Allgemeine-Versicherung-AG-113145/?intcid=Button_listing_company-card_company-presentation",
         "2022-06-01",
         "10,001+",
         "True",
         "False",
         "False",
         "False",
         "True",
         "Data Scientist",
         "No Information",
         "61000.0",
         "['Wiesbaden']"
        ]
       ],
       "shape": {
        "columns": 19,
        "rows": 5
       }
      },
      "text/html": [
       "<div>\n",
       "<style scoped>\n",
       "    .dataframe tbody tr th:only-of-type {\n",
       "        vertical-align: middle;\n",
       "    }\n",
       "\n",
       "    .dataframe tbody tr th {\n",
       "        vertical-align: top;\n",
       "    }\n",
       "\n",
       "    .dataframe thead th {\n",
       "        text-align: right;\n",
       "    }\n",
       "</style>\n",
       "<table border=\"1\" class=\"dataframe\">\n",
       "  <thead>\n",
       "    <tr style=\"text-align: right;\">\n",
       "      <th></th>\n",
       "      <th>link</th>\n",
       "      <th>company</th>\n",
       "      <th>title</th>\n",
       "      <th>content</th>\n",
       "      <th>industry</th>\n",
       "      <th>rating</th>\n",
       "      <th>num_ratings</th>\n",
       "      <th>company_link</th>\n",
       "      <th>release_date</th>\n",
       "      <th>company_size</th>\n",
       "      <th>permanent_employment</th>\n",
       "      <th>trainee</th>\n",
       "      <th>home_office_possible</th>\n",
       "      <th>part_time</th>\n",
       "      <th>full_time</th>\n",
       "      <th>title_category</th>\n",
       "      <th>experience_level</th>\n",
       "      <th>average_salary</th>\n",
       "      <th>location</th>\n",
       "    </tr>\n",
       "  </thead>\n",
       "  <tbody>\n",
       "    <tr>\n",
       "      <th>0</th>\n",
       "      <td>https://www.stepstone.de/stellenangebote--Anal...</td>\n",
       "      <td>BearingPoint GmbH</td>\n",
       "      <td>Analyst Data Science &amp; Artificial Intelligence...</td>\n",
       "      <td>Design your own career.Make your point @ Beari...</td>\n",
       "      <td>Unternehmensberatg., Wirtschaftsprüfg., Recht</td>\n",
       "      <td>3.9</td>\n",
       "      <td>312 Bewertungen</td>\n",
       "      <td>https://www.stepstone.de/cmp/de/BearingPoint-G...</td>\n",
       "      <td>2022-06-03</td>\n",
       "      <td>2501-5000</td>\n",
       "      <td>True</td>\n",
       "      <td>False</td>\n",
       "      <td>True</td>\n",
       "      <td>False</td>\n",
       "      <td>True</td>\n",
       "      <td>Machine Learning Engineer</td>\n",
       "      <td>No Information</td>\n",
       "      <td>NaN</td>\n",
       "      <td>[Walldorf, Stuttgart, München, Leipzig, Hambur...</td>\n",
       "    </tr>\n",
       "    <tr>\n",
       "      <th>1</th>\n",
       "      <td>https://www.stepstone.de/stellenangebote--Mana...</td>\n",
       "      <td>BIG direkt gesund</td>\n",
       "      <td>Manager (m/w/d) Data Science &amp; Statistik</td>\n",
       "      <td>Direkter geht Karriere nicht.Einstieg bei der ...</td>\n",
       "      <td>NaN</td>\n",
       "      <td>4.3</td>\n",
       "      <td>16 Bewertungen</td>\n",
       "      <td>NaN</td>\n",
       "      <td>2022-06-03</td>\n",
       "      <td>NaN</td>\n",
       "      <td>True</td>\n",
       "      <td>False</td>\n",
       "      <td>True</td>\n",
       "      <td>False</td>\n",
       "      <td>True</td>\n",
       "      <td>Data Science Manager</td>\n",
       "      <td>No Information</td>\n",
       "      <td>59500.0</td>\n",
       "      <td>[Berlin]</td>\n",
       "    </tr>\n",
       "    <tr>\n",
       "      <th>2</th>\n",
       "      <td>https://www.stepstone.de/stellenangebote--Mana...</td>\n",
       "      <td>BIG direkt gesund</td>\n",
       "      <td>Manager (m/w/d) Data Science &amp; Statistik</td>\n",
       "      <td>Direkter geht Karriere nicht.Einstieg bei der ...</td>\n",
       "      <td>NaN</td>\n",
       "      <td>4.3</td>\n",
       "      <td>16 Bewertungen</td>\n",
       "      <td>NaN</td>\n",
       "      <td>2022-06-03</td>\n",
       "      <td>NaN</td>\n",
       "      <td>True</td>\n",
       "      <td>False</td>\n",
       "      <td>True</td>\n",
       "      <td>False</td>\n",
       "      <td>True</td>\n",
       "      <td>Data Science Manager</td>\n",
       "      <td>No Information</td>\n",
       "      <td>62500.0</td>\n",
       "      <td>[Dortmund, Düsseldorf, Aachen]</td>\n",
       "    </tr>\n",
       "    <tr>\n",
       "      <th>3</th>\n",
       "      <td>https://www.stepstone.de/stellenangebote--Data...</td>\n",
       "      <td>METRO Markets GmbH</td>\n",
       "      <td>Data Science Lead</td>\n",
       "      <td>We create the future of B2B commerce by giving...</td>\n",
       "      <td>IT &amp; Internet</td>\n",
       "      <td>NaN</td>\n",
       "      <td>NaN</td>\n",
       "      <td>NaN</td>\n",
       "      <td>2022-06-01</td>\n",
       "      <td>NaN</td>\n",
       "      <td>True</td>\n",
       "      <td>False</td>\n",
       "      <td>True</td>\n",
       "      <td>False</td>\n",
       "      <td>True</td>\n",
       "      <td>Data Science Manager</td>\n",
       "      <td>No Information</td>\n",
       "      <td>86000.0</td>\n",
       "      <td>[Düsseldorf, Palma de Mallorca]</td>\n",
       "    </tr>\n",
       "    <tr>\n",
       "      <th>4</th>\n",
       "      <td>https://www.stepstone.de/stellenangebote--Busi...</td>\n",
       "      <td>R+V Allgemeine Versicherung AG</td>\n",
       "      <td>Business Analyst / Data Science (m/w/d)</td>\n",
       "      <td>Wie sich die Versicherung von morgen anfühlen ...</td>\n",
       "      <td>Versicherungen</td>\n",
       "      <td>4.4</td>\n",
       "      <td>247 Bewertungen</td>\n",
       "      <td>https://www.stepstone.de/cmp/de/R-V-Allgemeine...</td>\n",
       "      <td>2022-06-01</td>\n",
       "      <td>10,001+</td>\n",
       "      <td>True</td>\n",
       "      <td>False</td>\n",
       "      <td>False</td>\n",
       "      <td>False</td>\n",
       "      <td>True</td>\n",
       "      <td>Data Scientist</td>\n",
       "      <td>No Information</td>\n",
       "      <td>61000.0</td>\n",
       "      <td>[Wiesbaden]</td>\n",
       "    </tr>\n",
       "  </tbody>\n",
       "</table>\n",
       "</div>"
      ],
      "text/plain": [
       "                                                link  \\\n",
       "0  https://www.stepstone.de/stellenangebote--Anal...   \n",
       "1  https://www.stepstone.de/stellenangebote--Mana...   \n",
       "2  https://www.stepstone.de/stellenangebote--Mana...   \n",
       "3  https://www.stepstone.de/stellenangebote--Data...   \n",
       "4  https://www.stepstone.de/stellenangebote--Busi...   \n",
       "\n",
       "                          company  \\\n",
       "0               BearingPoint GmbH   \n",
       "1               BIG direkt gesund   \n",
       "2               BIG direkt gesund   \n",
       "3              METRO Markets GmbH   \n",
       "4  R+V Allgemeine Versicherung AG   \n",
       "\n",
       "                                               title  \\\n",
       "0  Analyst Data Science & Artificial Intelligence...   \n",
       "1           Manager (m/w/d) Data Science & Statistik   \n",
       "2           Manager (m/w/d) Data Science & Statistik   \n",
       "3                                  Data Science Lead   \n",
       "4            Business Analyst / Data Science (m/w/d)   \n",
       "\n",
       "                                             content  \\\n",
       "0  Design your own career.Make your point @ Beari...   \n",
       "1  Direkter geht Karriere nicht.Einstieg bei der ...   \n",
       "2  Direkter geht Karriere nicht.Einstieg bei der ...   \n",
       "3  We create the future of B2B commerce by giving...   \n",
       "4  Wie sich die Versicherung von morgen anfühlen ...   \n",
       "\n",
       "                                        industry  rating      num_ratings  \\\n",
       "0  Unternehmensberatg., Wirtschaftsprüfg., Recht     3.9  312 Bewertungen   \n",
       "1                                            NaN     4.3   16 Bewertungen   \n",
       "2                                            NaN     4.3   16 Bewertungen   \n",
       "3                                  IT & Internet     NaN              NaN   \n",
       "4                                 Versicherungen     4.4  247 Bewertungen   \n",
       "\n",
       "                                        company_link release_date  \\\n",
       "0  https://www.stepstone.de/cmp/de/BearingPoint-G...   2022-06-03   \n",
       "1                                                NaN   2022-06-03   \n",
       "2                                                NaN   2022-06-03   \n",
       "3                                                NaN   2022-06-01   \n",
       "4  https://www.stepstone.de/cmp/de/R-V-Allgemeine...   2022-06-01   \n",
       "\n",
       "  company_size  permanent_employment  trainee  home_office_possible  \\\n",
       "0    2501-5000                  True    False                  True   \n",
       "1          NaN                  True    False                  True   \n",
       "2          NaN                  True    False                  True   \n",
       "3          NaN                  True    False                  True   \n",
       "4      10,001+                  True    False                 False   \n",
       "\n",
       "   part_time  full_time             title_category experience_level  \\\n",
       "0      False       True  Machine Learning Engineer   No Information   \n",
       "1      False       True       Data Science Manager   No Information   \n",
       "2      False       True       Data Science Manager   No Information   \n",
       "3      False       True       Data Science Manager   No Information   \n",
       "4      False       True             Data Scientist   No Information   \n",
       "\n",
       "   average_salary                                           location  \n",
       "0             NaN  [Walldorf, Stuttgart, München, Leipzig, Hambur...  \n",
       "1         59500.0                                           [Berlin]  \n",
       "2         62500.0                     [Dortmund, Düsseldorf, Aachen]  \n",
       "3         86000.0                    [Düsseldorf, Palma de Mallorca]  \n",
       "4         61000.0                                        [Wiesbaden]  "
      ]
     },
     "execution_count": 38,
     "metadata": {},
     "output_type": "execute_result"
    }
   ],
   "source": [
    "df_locations = data_long.groupby(\"link\")[\"location\"].apply(lambda x: x.tolist())\n",
    "data_cleaned = pd.merge(data_cleaned, df_locations, on=\"link\", suffixes=[\"_x\", None], how=\"left\")\n",
    "data_cleaned = data_cleaned.drop(\"location_x\", axis=1)\n",
    "data_cleaned.head()"
   ]
  },
  {
   "cell_type": "code",
   "execution_count": 39,
   "id": "8267b542-a6ed-40dc-94ee-05115c608816",
   "metadata": {},
   "outputs": [
    {
     "data": {
      "text/plain": [
       "(3277, 19)"
      ]
     },
     "execution_count": 39,
     "metadata": {},
     "output_type": "execute_result"
    }
   ],
   "source": [
    "data_cleaned.shape"
   ]
  },
  {
   "cell_type": "markdown",
   "id": "8af8e380-7e69-4279-b9db-58f5a56363d9",
   "metadata": {},
   "source": [
    "Due to the transformations carried out above, the data is already available in a clean and consistent format. The only difference is that the category \"bundesweit\" can be present both individually and in combination with other locations."
   ]
  },
  {
   "cell_type": "code",
   "execution_count": 40,
   "id": "f899a4b9-bf5a-4efb-9f06-1820d3c64d62",
   "metadata": {},
   "outputs": [
    {
     "data": {
      "text/plain": [
       "location\n",
       "[München]                                                           271\n",
       "[Berlin]                                                            253\n",
       "[Hamburg]                                                           144\n",
       "[Stuttgart]                                                         141\n",
       "[bundesweit]                                                         97\n",
       "[Düsseldorf]                                                         93\n",
       "[Frankfurt]                                                          82\n",
       "[Köln]                                                               71\n",
       "[Renningen]                                                          36\n",
       "[Berlin, Frankfurt, Hamburg, Köln, München, Stuttgart]               32\n",
       "[Karlsruhe]                                                          31\n",
       "[Heidelberg]                                                         31\n",
       "[Essen]                                                              31\n",
       "[bundesweit, Berlin, Frankfurt, Hamburg, Köln, Leipzig, München]     27\n",
       "[Hannover]                                                           27\n",
       "[Frankfurt, Main]                                                    25\n",
       "[Ulm]                                                                23\n",
       "[Weiden]                                                             21\n",
       "[Mannheim]                                                           20\n",
       "[Leonberg]                                                           19\n",
       "Name: count, dtype: int64"
      ]
     },
     "execution_count": 40,
     "metadata": {},
     "output_type": "execute_result"
    }
   ],
   "source": [
    "data_cleaned[\"location\"].value_counts().head(20)"
   ]
  },
  {
   "cell_type": "markdown",
   "id": "baab6918-924a-4e07-8656-f6f56d77ae08",
   "metadata": {},
   "source": [
    "The following strategy was chosen for handling such cases:\n",
    "- if \"bundesweit\" occurs alone, it is left in the entry\n",
    "- if it occurs in combination with other locations, it is removed from the list (in order not to hide true number of locations)\n",
    "\n",
    "The function must be executed twice, because some entries may contain the word \"bundesweit\" twice due to the transformations of the location names."
   ]
  },
  {
   "cell_type": "code",
   "execution_count": 41,
   "id": "53f4d194-6eac-4939-a52f-20ea2d500e04",
   "metadata": {},
   "outputs": [
    {
     "data": {
      "text/plain": [
       "0       8\n",
       "1       1\n",
       "2       3\n",
       "3       2\n",
       "4       1\n",
       "       ..\n",
       "3272    1\n",
       "3273    2\n",
       "3274    1\n",
       "3275    1\n",
       "3276    1\n",
       "Name: location, Length: 3277, dtype: int64"
      ]
     },
     "execution_count": 41,
     "metadata": {},
     "output_type": "execute_result"
    }
   ],
   "source": [
    "data_cleaned[\"location\"].str.len()"
   ]
  },
  {
   "cell_type": "code",
   "execution_count": 42,
   "id": "663753b4-fa68-47a5-95b2-805492032bec",
   "metadata": {},
   "outputs": [
    {
     "data": {
      "text/plain": [
       "Index(['link', 'company', 'title', 'content', 'industry', 'rating',\n",
       "       'num_ratings', 'company_link', 'release_date', 'company_size',\n",
       "       'permanent_employment', 'trainee', 'home_office_possible', 'part_time',\n",
       "       'full_time', 'title_category', 'experience_level', 'average_salary',\n",
       "       'main_location', 'multiple_locations', 'main_region'],\n",
       "      dtype='object')"
      ]
     },
     "execution_count": 42,
     "metadata": {},
     "output_type": "execute_result"
    }
   ],
   "source": [
    "def remove_element(x):\n",
    "    x.remove(\"bundesweit\")\n",
    "    return x\n",
    "\n",
    "def get_location_features(df, geo_df):\n",
    "    df.loc[(df[\"location\"].apply(lambda x: \"bundesweit\" in x)) & (df[\"location\"].apply(lambda x: len(x)) > 1), \"location\"].apply(remove_element)\n",
    "    df.loc[(df[\"location\"].apply(lambda x: \"bundesweit\" in x)) & (df[\"location\"].apply(lambda x: len(x)) > 1), \"location\"].apply(remove_element)\n",
    "    df[\"main_location\"] = df[\"location\"].str[0]\n",
    "    df[\"multiple_locations\"] = df[\"location\"].apply(lambda x: len(x) > 1)\n",
    "    df = pd.merge(df, geo_df[[\"location\", \"region\"]], left_on=\"main_location\", right_on=\"location\", suffixes=[None, \"_y\"], how=\"left\")\n",
    "    df.drop(\"location_y\", axis=1, inplace=True)\n",
    "    df.drop(\"location\", axis=1, inplace=True)\n",
    "    df.rename({\"region\": \"main_region\"}, axis=1, inplace=True)\n",
    "    return df\n",
    "\n",
    "data_cleaned = get_location_features(data_cleaned, geo_data)\n",
    "data_cleaned.columns"
   ]
  },
  {
   "cell_type": "markdown",
   "id": "05816bab-cae6-44f0-9448-8b7b57a23127",
   "metadata": {},
   "source": [
    "Since the lists of locations are not optimal features, a number of other features were extracted for the later model to use:\n",
    "- main_location ==> as first specified location within the lists\n",
    "- multiple_locations ==> if multiple locations exist\n",
    "- main_region ==> associated state to main_location"
   ]
  },
  {
   "cell_type": "markdown",
   "id": "7a7a8293-07eb-497f-96a7-e55324b4f017",
   "metadata": {},
   "source": [
    " "
   ]
  },
  {
   "cell_type": "markdown",
   "id": "d0976633-3b2b-472b-9848-0d4a8ef11375",
   "metadata": {},
   "source": [
    "<a id=\"evaluate_industry\"></a>"
   ]
  },
  {
   "cell_type": "markdown",
   "id": "2c15c1c3-fcff-46bc-ab3c-fe79dde307fc",
   "metadata": {
    "tags": []
   },
   "source": [
    "# Evaluate Industry"
   ]
  },
  {
   "cell_type": "markdown",
   "id": "f38d9e20-7b1a-4752-a3aa-d3acb34b9f68",
   "metadata": {},
   "source": [
    "An overview of the industries shows that many of the companies belong to several industries at the same time."
   ]
  },
  {
   "cell_type": "code",
   "execution_count": 43,
   "id": "26c9bf49-2b1f-4b74-8657-c79cd2004e05",
   "metadata": {},
   "outputs": [
    {
     "data": {
      "text/plain": [
       "industry\n",
       "IT & Internet                                                               559\n",
       "Unternehmensberatg., Wirtschaftsprüfg., Recht                               281\n",
       "Fahrzeugbau/-zulieferer                                                     234\n",
       "Fahrzeugbau/-zulieferer|IT & Internet|Konsumgüter/Gebrauchsgüter            198\n",
       "Elektrotechnik, Feinmechanik & Optik                                        101\n",
       "                                                                           ... \n",
       "IT & Internet|Medien (Film, Funk, TV, Verlage)                                1\n",
       "Unternehmensberatg., Wirtschaftsprüfg., Recht|Fahrzeugbau/-zulieferer         1\n",
       "Groß- & Einzelhandel|Holz- und Möbelindustrie|Konsumgüter/Gebrauchsgüter      1\n",
       "Fahrzeugbau/-zulieferer|Groß- & Einzelhandel|Transport & Logistik             1\n",
       "IT & Internet|Transport & Logistik|Nahrungs- & Genussmittel                   1\n",
       "Name: count, Length: 148, dtype: int64"
      ]
     },
     "execution_count": 43,
     "metadata": {},
     "output_type": "execute_result"
    }
   ],
   "source": [
    "data_cleaned[\"industry\"].value_counts()"
   ]
  },
  {
   "cell_type": "markdown",
   "id": "7331086d-8300-4040-860d-86812d0e38ea",
   "metadata": {},
   "source": [
    "In order to use this attribute for a later model, it was decided to keep only the first mentioned category (main industry) as a feature."
   ]
  },
  {
   "cell_type": "code",
   "execution_count": 44,
   "id": "4a58f7e9-bbad-4924-9c94-95666f87ac03",
   "metadata": {},
   "outputs": [
    {
     "data": {
      "text/plain": [
       "main_industry\n",
       "IT & Internet                                    726\n",
       "Fahrzeugbau/-zulieferer                          502\n",
       "Unternehmensberatg., Wirtschaftsprüfg., Recht    283\n",
       "Groß- & Einzelhandel                             151\n",
       "Elektrotechnik, Feinmechanik & Optik             118\n",
       "Finanzdienstleister                              110\n",
       "Sonstige Branchen                                 93\n",
       "Versicherungen                                    88\n",
       "Maschinen- und Anlagenbau                         62\n",
       "Personaldienstleistungen                          58\n",
       "Banken                                            49\n",
       "Medizintechnik                                    48\n",
       "Medien (Film, Funk, TV, Verlage)                  43\n",
       "Energie- und Wasserversorgung & Entsorgung        38\n",
       "Baugewerbe/-industrie                             33\n",
       "Sonstige Dienstleistungen                         32\n",
       "Transport & Logistik                              31\n",
       "Telekommunikation                                 29\n",
       "Textilien, Bekleidung & Lederwaren                29\n",
       "Agentur, Werbung, Marketing & PR                  26\n",
       "Konsumgüter/Gebrauchsgüter                        25\n",
       "Pharmaindustrie                                   23\n",
       "Gesundheit & soziale Dienste                      20\n",
       "Bildung & Training                                20\n",
       "Immobilien                                        17\n",
       "Wissenschaft & Forschung                          14\n",
       "Öffentlicher Dienst & Verbände                    12\n",
       "Chemie- und Erdölverarbeitende Industrie          11\n",
       "Freizeit, Touristik, Kultur & Sport                9\n",
       "Luft- und Raumfahrt                                8\n",
       "Nahrungs- & Genussmittel                           5\n",
       "Metallindustrie                                    5\n",
       "Druck-, Papier- und Verpackungsindustrie           4\n",
       "Holz- und Möbelindustrie                           2\n",
       "Handwerk                                           2\n",
       "Sonstiges produzierendes Gewerbe                   1\n",
       "Hotel, Gastronomie & Catering                      1\n",
       "Glas-, Keramik-Herstellung & -verarbeitung         1\n",
       "Land-, Forst- und Fischwirtschaft, Gartenbau       1\n",
       "Name: count, dtype: int64"
      ]
     },
     "execution_count": 44,
     "metadata": {},
     "output_type": "execute_result"
    }
   ],
   "source": [
    "def convert_industries(df):\n",
    "    df[\"main_industry\"] = df[\"industry\"].str.split(\"|\").str[0]\n",
    "    df.drop(\"industry\", axis=1, inplace=True)\n",
    "    return df\n",
    "        \n",
    "data_cleaned = convert_industries(data_cleaned)\n",
    "data_cleaned[\"main_industry\"].value_counts()"
   ]
  },
  {
   "cell_type": "markdown",
   "id": "6b8c1375-4c9e-473c-9288-7ac8e025acc3",
   "metadata": {},
   "source": [
    "It becomes clear that some categories exist with very few entries. Such categories can unnecessarily increase the complexity of the model, even though they contain little useful information due to their small sample size. One way to avoid this is to combine all rare categories into one. However, in order not to choose an arbitrary threshold for this classification at this point, it was decided to solve this problem later automatically by L1 regularization."
   ]
  },
  {
   "cell_type": "markdown",
   "id": "a05f597c-4005-451c-b3cb-4c106cd8f15b",
   "metadata": {},
   "source": [
    " "
   ]
  },
  {
   "cell_type": "markdown",
   "id": "65ad38db-a2e4-458f-9880-d33d4ee4a96b",
   "metadata": {},
   "source": [
    "<a id=\"evaluate_company_size\"></a>"
   ]
  },
  {
   "cell_type": "markdown",
   "id": "912c1031-d069-4897-a94c-0d6c9464f3e1",
   "metadata": {
    "tags": []
   },
   "source": [
    "# Evaluate Company Size"
   ]
  },
  {
   "cell_type": "code",
   "execution_count": 45,
   "id": "8976c885-6ac1-4a51-9267-ddb19a64d23c",
   "metadata": {},
   "outputs": [
    {
     "data": {
      "text/plain": [
       "company_size\n",
       "10,001+                1295\n",
       "2501-5000               280\n",
       "5001-10,000             191\n",
       "1001-2500               188\n",
       "51-250                  133\n",
       "251-500                 128\n",
       "501-1000                122\n",
       "11-50                    41\n",
       "1000+                    34\n",
       "1-10                     20\n",
       "approx. 250              14\n",
       "0-50                      3\n",
       "201-500 Mitarbeiter       2\n",
       "130                       1\n",
       "120                       1\n",
       ">15                       1\n",
       "Name: count, dtype: int64"
      ]
     },
     "execution_count": 45,
     "metadata": {},
     "output_type": "execute_result"
    }
   ],
   "source": [
    "data_cleaned[\"company_size\"].value_counts()"
   ]
  },
  {
   "cell_type": "code",
   "execution_count": 46,
   "id": "f4ef8bf5-e3c7-46a4-9e02-d3a8feb77754",
   "metadata": {},
   "outputs": [
    {
     "data": {
      "text/plain": [
       "company_size\n",
       "10,001+        1295\n",
       "2501-5000       280\n",
       "1001-2500       222\n",
       "5001-10,000     191\n",
       "251-500         145\n",
       "51-250          134\n",
       "501-1000        122\n",
       "0-50             65\n",
       "Name: count, dtype: int64"
      ]
     },
     "execution_count": 46,
     "metadata": {},
     "output_type": "execute_result"
    }
   ],
   "source": [
    "def convert_company_size(df):\n",
    "    df[\"company_size\"] = df[\"company_size\"].replace({\"11-50\": \"0-50\", \"1-10\": \"0-50\", \">15\": \"0-50\", \"1000+\": \"1001-2500\", \"130\": \"51-250\", \n",
    "                                                     \"approx. 250\": \"251-500\", \"201-500 Mitarbeiter\": \"251-500\", \"120\": \"251-500\"})\n",
    "    return df\n",
    "\n",
    "data_cleaned = convert_company_size(data_cleaned)\n",
    "data_cleaned[\"company_size\"].value_counts()"
   ]
  },
  {
   "cell_type": "markdown",
   "id": "62b974f3-60bb-4317-8a0c-a163bbb933c9",
   "metadata": {},
   "source": [
    " "
   ]
  },
  {
   "cell_type": "markdown",
   "id": "50a200df-890a-4a00-82ca-de8843d43592",
   "metadata": {},
   "source": [
    "<a id=\"evaluate_content\"></a>"
   ]
  },
  {
   "cell_type": "markdown",
   "id": "4e29c7e8-c153-4e1c-9671-c36c047d790c",
   "metadata": {
    "tags": []
   },
   "source": [
    "# Evaluate Content"
   ]
  },
  {
   "cell_type": "markdown",
   "id": "ba708a45-a017-4b04-a700-7e55c38b4f70",
   "metadata": {},
   "source": [
    "This section deals with extracting information from the job description text. This includes:\n",
    "- technical skills (programming languages, tools, Python libraries)\n",
    "- degree required\n",
    "- possible courses of study\n",
    "- required work experience\n",
    "\n",
    "The first three aspects can be extracted relatively easily from the text data. Finding the required work experience is a bit more complicated and is therefore considered separately below."
   ]
  },
  {
   "cell_type": "code",
   "execution_count": 47,
   "id": "287472b9-cd72-4c80-a501-1fd117e5d448",
   "metadata": {},
   "outputs": [
    {
     "data": {
      "text/plain": [
       "java                  148\n",
       "javascript            174\n",
       "c                      38\n",
       "c++                   283\n",
       "c#                    162\n",
       "                     ... \n",
       "leadership            131\n",
       "flexibility           453\n",
       "business_focus        153\n",
       "initiative            892\n",
       "structured_working    426\n",
       "Length: 117, dtype: int64"
      ]
     },
     "execution_count": 47,
     "metadata": {},
     "output_type": "execute_result"
    }
   ],
   "source": [
    "def extract_requirements(df):\n",
    "    # programming languages (18)\n",
    "    df[\"python\"] = df[\"content\"].str.contains(\"Python\", case=False)\n",
    "    df[\"r\"] = df[\"content\"].str.contains(\"\\WR(\\W|Studio)\", case=False, regex=True)\n",
    "    df[\"sql\"] = df[\"content\"].str.contains(\"(?<!No)SQL\", case=False)\n",
    "    df[\"java\"] = df[\"content\"].str.contains(\"Java \", case=False)\n",
    "    df[\"javascript\"] = df[\"content\"].str.contains(\"Javascript\", case=False)\n",
    "    df[\"c\"] = df[\"content\"].str.contains(\"\\WC \", case=False, regex=True)\n",
    "    df[\"c++\"] = df[\"content\"].str.contains(\"C\\+\\+\", case=False, regex=True)\n",
    "    df[\"c#\"] = df[\"content\"].str.contains(\"C#\", case=False, regex=True)\n",
    "    df[\"scala\"] = df[\"content\"].str.contains(\"Scala \", case=False)\n",
    "    df[\"julia\"] = df[\"content\"].str.contains(\"Julia\", case=False)\n",
    "    df[\"matlab\"] = df[\"content\"].str.contains(\"Matlab\", case=False)\n",
    "    df[\"swift\"] = df[\"content\"].str.contains(\"Swift\", case=False)\n",
    "    df[\"go\"] = df[\"content\"].str.contains(\"\\WGo |Golang\", case=True)\n",
    "    df[\"perl\"] = df[\"content\"].str.contains(\"Perl\", case=False)\n",
    "    df[\"php\"] = df[\"content\"].str.contains(\"Php\", case=False)\n",
    "    df[\"html\"] = df[\"content\"].str.contains(\"HTML\", case=False)\n",
    "    df[\"css\"] = df[\"content\"].str.contains(\"CSS\", case=False)\n",
    "    df[\"rust\"] = df[\"content\"].str.contains(\"\\WRust\\W\", case=False, regex=True)\n",
    "    # tools (31)\n",
    "    df[\"excel\"] = df[\"content\"].str.contains(\"Excel\", case=True)\n",
    "    df[\"tableau\"] = df[\"content\"].str.contains(\"Tableau\", case=False)\n",
    "    df[\"power_bi\"] = df[\"content\"].str.contains(\"Power ?BI|PBI\", case=False, regex=True)\n",
    "    df[\"spark\"] = df[\"content\"].str.contains(\"Spark\", case=False)\n",
    "    df[\"hadoop\"] = df[\"content\"].str.contains(\"Hadoop\", case=False)\n",
    "    df[\"hive\"] = df[\"content\"].str.contains(\"Hive\", case=False)\n",
    "    df[\"aws\"] = df[\"content\"].str.contains(\"AWS|Amazon ?Web ?Services|Redshift\", case=False, regex=True)\n",
    "    df[\"kafka\"] = df[\"content\"].str.contains(\"Kafka\", case=False)\n",
    "    df[\"azure\"] = df[\"content\"].str.contains(\"Azure|Synapse\", case=False)\n",
    "    df[\"google_cloud\"] = df[\"content\"].str.contains(\"Google ?Cloud|GCP|Big ?query\", case=False)\n",
    "    df[\"docker\"] = df[\"content\"].str.contains(\"Docker\", case=False)\n",
    "    df[\"git\"] = df[\"content\"].str.contains(\"\\WGit\", case=False, regex=True)\n",
    "    df[\"linux\"] = df[\"content\"].str.contains(\"Linux|Unix|Bash|Shell\", case=False, regex=True)\n",
    "    df[\"kubernetes\"] = df[\"content\"].str.contains(\"Kubernetes\", case=False)\n",
    "    df[\"jenkins\"] = df[\"content\"].str.contains(\"Jenkins\", case=False)\n",
    "    df[\"airflow\"] = df[\"content\"].str.contains(\"Airflow\", case=False)\n",
    "    df[\"databricks\"] = df[\"content\"].str.contains(\"Databricks\", case=False)\n",
    "    df[\"sas\"] = df[\"content\"].str.contains(\"\\WSas\\W\", case=False, regex=True)\n",
    "    df[\"spss\"] = df[\"content\"].str.contains(\"Spss\", case=False, regex=True)\n",
    "    df[\"terraform\"] = df[\"content\"].str.contains(\"Terraform\", case=False, regex=True)\n",
    "    df[\"ansible\"] = df[\"content\"].str.contains(\"Ansible\", case=False, regex=True)\n",
    "    df[\"puppet\"] = df[\"content\"].str.contains(\"Puppet\", case=False, regex=True)\n",
    "    df[\"mlflow\"] = df[\"content\"].str.contains(\"Mlflow\", case=False, regex=True)\n",
    "    df[\"kubeflow\"] = df[\"content\"].str.contains(\"Kubeflow\", case=False, regex=True)\n",
    "    df[\"splunk\"] = df[\"content\"].str.contains(\"Splunk\", case=False, regex=True)\n",
    "    df[\"talend\"] = df[\"content\"].str.contains(\"Talend\", case=False, regex=True)\n",
    "    df[\"prometheus\"] = df[\"content\"].str.contains(\"Prometheus\", case=False, regex=True)\n",
    "    df[\"grafana\"] = df[\"content\"].str.contains(\"Grafana\", case=False, regex=True)\n",
    "    df[\"flink\"] = df[\"content\"].str.contains(\"Flink\", case=False, regex=True)\n",
    "    df[\"storm\"] = df[\"content\"].str.contains(\"Storm\", case=False, regex=True)\n",
    "    df[\"looker\"] = df[\"content\"].str.contains(\"Looker\", case=False, regex=True)\n",
    "    # databases / data warehouses (21)\n",
    "    df[\"mysql\"] = df[\"content\"].str.contains(\"My ?SQL\", case=False, regex=True)\n",
    "    df[\"postgresql\"] = df[\"content\"].str.contains(\"Postgre\", case=False, regex=True)\n",
    "    df[\"oracle\"] = df[\"content\"].str.contains(\"Oracle\", case=False, regex=True)\n",
    "    df[\"sql_server\"] = df[\"content\"].str.contains(\"SQL ?Server\", case=False, regex=True)\n",
    "    df[\"maria_db\"] = df[\"content\"].str.contains(\"Maria ?DB\", case=False, regex=True)\n",
    "    df[\"sqlite\"] = df[\"content\"].str.contains(\"Sqlite\", case=False, regex=True)\n",
    "    df[\"ibm_db2\"] = df[\"content\"].str.contains(\"DB2\", case=False, regex=True)\n",
    "    df[\"amazon_redshift\"] = df[\"content\"].str.contains(\"Redshift\", case=False, regex=True)\n",
    "    df[\"google_bigquery\"] = df[\"content\"].str.contains(\"Big ?Query\", case=False, regex=True)\n",
    "    df[\"azure_synapse\"] = df[\"content\"].str.contains(\"Synapse\", case=False, regex=True)\n",
    "    df[\"snowflake\"] = df[\"content\"].str.contains(\"Snowflake\", case=False, regex=True)\n",
    "    df[\"redis\"] = df[\"content\"].str.contains(\"Redis\", case=False, regex=True)\n",
    "    df[\"dynamo_db\"] = df[\"content\"].str.contains(\"Dynamo ?DB\", case=False, regex=True)\n",
    "    df[\"mongo_db\"] = df[\"content\"].str.contains(\"Mongo ?DB\", case=False, regex=True)\n",
    "    df[\"firebase\"] = df[\"content\"].str.contains(\"Firebase\", case=False, regex=True)\n",
    "    df[\"couch_db\"] = df[\"content\"].str.contains(\"Couch ?DB|Couchbase\", case=False, regex=True)\n",
    "    df[\"cassandra\"] = df[\"content\"].str.contains(\"Cassandra\", case=False, regex=True)\n",
    "    df[\"hbase\"] = df[\"content\"].str.contains(\"H ?Base\", case=False, regex=True)\n",
    "    df[\"neo4j\"] = df[\"content\"].str.contains(\"Neo4j\", case=False, regex=True)\n",
    "    df[\"amazon_neptune\"] = df[\"content\"].str.contains(\"Amazon ?Neptune\", case=False, regex=True)\n",
    "    df[\"elastic_search\"] = df[\"content\"].str.contains(\"Elastic ?Search\", case=False, regex=True)\n",
    "    # python libraries (18)\n",
    "    df[\"pandas\"] = df[\"content\"].str.contains(\"Pandas\", case=False)\n",
    "    df[\"numpy\"] = df[\"content\"].str.contains(\"Numpy\", case=False)\n",
    "    df[\"tensorflow/keras\"] = df[\"content\"].str.contains(\"Tensorflow|Keras\", case=False)\n",
    "    df[\"pytorch\"] = df[\"content\"].str.contains(\"Pytorch\", case=False)\n",
    "    df[\"matplotlib\"] = df[\"content\"].str.contains(\"Matplotlib\", case=False)\n",
    "    df[\"seaborn\"] = df[\"content\"].str.contains(\"Seaborn\", case=False)\n",
    "    df[\"scikit-learn\"] = df[\"content\"].str.contains(\"(scikit[ -]?learn|sklearn)\", case=False, regex=True)\n",
    "    df[\"plotly\"] = df[\"content\"].str.contains(\"plotly\", case=False)\n",
    "    df[\"streamlit\"] = df[\"content\"].str.contains(\"stream[ -]lit\", case=False)\n",
    "    df[\"spacy\"] = df[\"content\"].str.contains(\"spacy\", case=False)\n",
    "    df[\"nltk\"] = df[\"content\"].str.contains(\"nltk\", case=False)\n",
    "    df[\"scipy\"] = df[\"content\"].str.contains(\"scipy\", case=False)\n",
    "    df[\"statsmodels\"] = df[\"content\"].str.contains(\"statsmodels\", case=False)\n",
    "    df[\"flask\"] = df[\"content\"].str.contains(\"flask\", case=False)\n",
    "    df[\"fastapi\"] = df[\"content\"].str.contains(\"fast ?api\", case=False)\n",
    "    df[\"dask\"] = df[\"content\"].str.contains(\"dask\", case=False)\n",
    "    df[\"xgboost\"] = df[\"content\"].str.contains(\"xg ?boost|light ?gbm\", case=False)\n",
    "    df[\"pyspark\"] = df[\"content\"].str.contains(\"pyspark\", case=False)\n",
    "    # degrees (4)\n",
    "    df[\"master\"] = df[\"content\"].str.contains(\"(master|diplom)\", case=False, regex=True)\n",
    "    df[\"phd\"] = df[\"content\"].str.contains(\"(doktor|phd|promotion)\", case=False, regex=True)\n",
    "    df[\"bachelor\"] = (df[\"content\"].str.contains(\"(Studium|degree|Hochschulabschluss|studiert|Studienabschluss|studies|bachelor)\", case=False, regex=True)) & ~df[\"master\"]\n",
    "    df[\"no_degree_info\"] = ~df[\"bachelor\"] & ~df[\"master\"] & ~df[\"phd\"]\n",
    "    # majors (5)\n",
    "    df[\"computer_science\"] = df[\"content\"].str.contains(\"(computer science|informatik|informatics)\", case=False, regex=True)\n",
    "    df[\"math/statistics\"] = df[\"content\"].str.contains(\"(math|Statistik|statistics|stats)\", case=False, regex=True)\n",
    "    df[\"natural_science\"] = df[\"content\"].str.contains(\"(Physik|physics|Naturwissenschaft|natural science|Chemie|chemistry|Biologie|biology|natur-)\", case=False, regex=True)\n",
    "    df[\"engineering\"] = df[\"content\"].str.contains(\"(Ingenieurwesen|Ingenieurwissenschaft|Engineering)\", case=False, regex=True)\n",
    "    df[\"business\"] = df[\"content\"].str.contains(\"(bwl|Betriebswirtschaft|vwl|Volkswirtschaft|Wirtschaftswissenschaft)\", case=False, regex=True)\n",
    "    # knowledge (13)\n",
    "    df[\"machine_learning\"] = df[\"content\"].str.contains(\"(Machine Learning|Machinelle[sn]? Lern)\", case=False, regex=True)\n",
    "    df[\"deep_learning\"] = df[\"content\"].str.contains(\"Deep Learning|Neural|Neuronal\", case=False, regex=True)\n",
    "    df[\"computer_vision\"] = df[\"content\"].str.contains(\"computer vision|convolution|cnn|image processing|Bildverarbeitung\", case=False, regex=True)\n",
    "    df[\"natural_language_processing\"] = df[\"content\"].str.contains(\"nlp|natural language|speech recognition|Spracherkennung\", case=False, regex=True)\n",
    "    df[\"autonomous_driving\"] = df[\"content\"].str.contains(\"autonomous driving|autonomes fahren\", case=False, regex=True)\n",
    "    df[\"robotics\"] = df[\"content\"].str.contains(\"roboti\", case=False, regex=True)\n",
    "    df[\"reinforcement_learning\"] = df[\"content\"].str.contains(\"reinforcement\", case=False, regex=True)\n",
    "    df[\"regression\"] = df[\"content\"].str.contains(\"regression\", case=False, regex=True)\n",
    "    df[\"classification\"] = df[\"content\"].str.contains(\"classification|Klassifikation|Klassifizierung\", case=False, regex=True)\n",
    "    df[\"clustering\"] = df[\"content\"].str.contains(\"cluster\", case=False, regex=True)\n",
    "    df[\"forecasting\"] = df[\"content\"].str.contains(\"forecast|time ?series|Zeitreihe\", case=False, regex=True)\n",
    "    df[\"recommender_systems\"] = df[\"content\"].str.contains(\"recommender system|recommendation system|Empfehlungssystem\", case=False, regex=True)\n",
    "    df[\"anomaly_detection\"] = df[\"content\"].str.contains(\"anomaly|Anomalie\", case=False, regex=True)\n",
    "    # soft skills (10)\n",
    "    df[\"communication\"] = df[\"content\"].str.contains(\"communication| Kommunikation|storytelling\", case=False, regex=True)\n",
    "    df[\"teamwork\"] = df[\"content\"].str.contains(\"teamfähig|teamplay|teamwork|teamorient|interpersonal|zwischenmenschlich\", case=False, regex=True)\n",
    "    df[\"motivation\"] = df[\"content\"].str.contains(\"motivation |Neugier|curiosity|lernbereit|to learn|persönlich[\\S]* weiterentwick|Engagement|Leidenschaft|passion\", case=False, regex=True)\n",
    "    df[\"critical_thinking\"] = df[\"content\"].str.contains(\"(analytisch|struktur|logisch|kritisch)[\\S]* denk|(analytic|structur|logic|critical)[\\S]* think|Auffassungsgabe|problemlös|problem solv\", case=False, regex=True)\n",
    "    df[\"creativity\"] = df[\"content\"].str.contains(\"kreativität|creativity\", case=False, regex=True)\n",
    "    df[\"leadership\"] = df[\"content\"].str.contains(\"Führungs(kraft|stärke|kompetenz)|leadership skill|verantwortungsbereit\", case=False, regex=True)\n",
    "    df[\"flexibility\"] = df[\"content\"].str.contains(\"belastbarkeit|flexibilit|anpassungsfähig\", case=False, regex=True)\n",
    "    df[\"business_focus\"] = df[\"content\"].str.contains(\"unternehmerisch|Geschäftssinn\", case=False, regex=True)\n",
    "    df[\"initiative\"] = df[\"content\"].str.contains(\"(selbst|eigen)ständig|eigen(initiative|verantwortung)\", case=False, regex=True)\n",
    "    df[\"structured_working\"] = df[\"content\"].str.contains(\"(struktur|strategi|orientiert)[\\S]* Arbeit|sorgfalt|sorgfältig|(slebst|Zeit|time )manage\", case=False, regex=True)\n",
    "    return df\n",
    "\n",
    "data_cleaned = extract_requirements(data_cleaned)\n",
    "data_cleaned.iloc[:, 24:].sum()"
   ]
  },
  {
   "cell_type": "markdown",
   "id": "20a54929-4091-4150-87cd-405ff561beef",
   "metadata": {},
   "source": [
    "The next goal was to extract all available information regarding required work experience. The required information is usually found in front of certain keywords such as years or years. However, since the mentioned terms can also appear under a different context in the job descriptions, some additional rule had to be defined. The following list shows which terms occur most frequently in connection with the word \"Jahr\" in the existing descriptions."
   ]
  },
  {
   "cell_type": "code",
   "execution_count": 48,
   "id": "b65dc6e2-52cb-4967-9870-c4b1720a0151",
   "metadata": {},
   "outputs": [
    {
     "data": {
      "text/plain": [
       "0\n",
       "Jahre Berufserfahrung          138\n",
       "Jahre Erfahrung                 76\n",
       "Jahr und                        45\n",
       "Jahres                          24\n",
       "Jahren Erfahrung                22\n",
       "Jahren                          20\n",
       "Jahre                           18\n",
       "Jahresurlaub                    17\n",
       "Jahre relevante                 17\n",
       "Jahren in                       14\n",
       "Jahr 1990                       14\n",
       "Jahren Entwicklungslösungen     13\n",
       "Jahren entlasten                13\n",
       "jahrzehntelanges                12\n",
       "Jahren erfolgreich              11\n",
       "Jahren motiviert                11\n",
       "Jahren das                      10\n",
       "Jahrzehnten                     10\n",
       "Jahren steht                     9\n",
       "Jahr Plus                        9\n",
       "Name: count, dtype: int64"
      ]
     },
     "execution_count": 48,
     "metadata": {},
     "output_type": "execute_result"
    }
   ],
   "source": [
    "experience = data_cleaned[\"content\"].str.extract(\"(Jahre?n? ?(\\w+))\", flags=re.IGNORECASE)\n",
    "experience[0].value_counts().head(20)"
   ]
  },
  {
   "cell_type": "markdown",
   "id": "c5456bf0-92fe-4193-8b84-58d25ef19bf2",
   "metadata": {},
   "source": [
    "In most cases, the relevant information will be found before expressions such as \"Berufserfahrung\" or \"Erfahrung\". Expressions like \"Jahresurlaub\" or \"Jahrzehnten\", on the other hand, do not indicate the desired information. Therefore, the developed regular expression contains some additional rules to pick out only the relevant occurrences. Next, the structure of the searched information is examined before the developed expression."
   ]
  },
  {
   "cell_type": "code",
   "execution_count": 49,
   "id": "05b59323-a7f1-4dce-9e74-187d66a5ec90",
   "metadata": {},
   "outputs": [
    {
     "data": {
      "text/plain": [
       "0\n",
       "3          53\n",
       "2          41\n",
       "5          39\n",
       "drei       36\n",
       "zwei       35\n",
       "mehrere    18\n",
       "fünf       17\n",
       "3-5        13\n",
       "25         12\n",
       "2-3         9\n",
       "vier        7\n",
       "1-3         7\n",
       "Mehrere     7\n",
       "20          7\n",
       "4           7\n",
       "2-4         6\n",
       "einige      6\n",
       "ein         5\n",
       "120         5\n",
       "30          4\n",
       "Name: count, dtype: int64"
      ]
     },
     "execution_count": 49,
     "metadata": {},
     "output_type": "execute_result"
    }
   ],
   "source": [
    "experience = data_cleaned[\"content\"].str.extract(\"(\\S+) ?Jahre?n? ?(Beruf|\\S*erfahrung|relevant|praktisch|einschlägig|fundiert|Expertise)\", flags=re.IGNORECASE)\n",
    "experience[0].value_counts().head(20)"
   ]
  },
  {
   "cell_type": "markdown",
   "id": "0e1c0577-7da4-46d2-bc4d-08a7c8c71dd2",
   "metadata": {},
   "source": [
    "It is clear that the data is not in a consistent format. Inconsistencies that still need to be fixed:\n",
    "- convert written out numbers to digits\n",
    "- replace intervals with the mean value\n",
    "- remove additional characters like a plus symbol or brackets\n",
    "- remove outliers (all values greater than 10)\n",
    "\n",
    "In the following, this is done for all data. In addition, other expressions for similar patterns were derived and implemented in the same way as the first one. However, for clarity, the derivation is not explained further here."
   ]
  },
  {
   "cell_type": "code",
   "execution_count": 50,
   "id": "0a8ab7ba-04fe-455a-8cb9-1899da82c92d",
   "metadata": {},
   "outputs": [],
   "source": [
    "# Helper Functions\n",
    "def drop_outliers(x):\n",
    "    try:\n",
    "        int_value = int(x)\n",
    "        if int_value > 10:\n",
    "            return np.nan\n",
    "        else:\n",
    "            return x\n",
    "    except ValueError:\n",
    "        return x\n",
    "\n",
    "def convert_ranges(x):\n",
    "    try:\n",
    "        splits = x.split(\"-\")\n",
    "    except AttributeError:\n",
    "        return x \n",
    "    try:\n",
    "        if len(splits) > 1:\n",
    "            return str(int((int(splits[0]) + int(splits[1])) / 2))\n",
    "        else:\n",
    "            return x\n",
    "    except ValueError:\n",
    "        return x \n",
    "\n",
    "def unify_words(x):\n",
    "    try:\n",
    "        x = x.lower()\n",
    "        return x\n",
    "    except AttributeError:\n",
    "        return x\n",
    "    \n",
    "def drop_useless(x):\n",
    "    try:\n",
    "        int_value = int(x)\n",
    "        return x\n",
    "    except ValueError:\n",
    "        if x == \"much\":\n",
    "            return x\n",
    "        else:\n",
    "            return np.nan\n",
    "        \n",
    "def convert_keywords(x):\n",
    "    if type(x) == float:\n",
    "        return x\n",
    "    else:\n",
    "        if x in (\"erste\", \"first\", \"initial\"):\n",
    "            return \"little\"\n",
    "        else:\n",
    "            return \"some\""
   ]
  },
  {
   "cell_type": "code",
   "execution_count": 51,
   "id": "03c75946-5d1f-4a01-91fe-d9d63441cf79",
   "metadata": {},
   "outputs": [
    {
     "data": {
      "text/plain": [
       "0.35428745804089107"
      ]
     },
     "execution_count": 51,
     "metadata": {},
     "output_type": "execute_result"
    }
   ],
   "source": [
    "def extract_experience(df):\n",
    "    # first pattern\n",
    "    pattern = df[\"content\"].str.extract(\"(\\S+) ?Jahre?n? ?(Beruf|\\S*erfahrung|relevant|praktisch|einschlägig|fundiert|Expertise)\", flags=re.IGNORECASE)[0]\n",
    "    pattern = pattern.apply(drop_outliers)\n",
    "    pattern = pattern.apply(convert_ranges)\n",
    "    pattern = pattern.replace({\"ein\": \"1\", \"zwei\": \"2\", \"drei\": \"3\", \"vier\": \"4\", \"fünf\": \"5\", \"sechs\": \"6\", \"sieben\": \"7\", \"acht\": \"8\", \"neun\": \"9\", \"zehn\": \"10\"})\n",
    "    pattern = pattern.apply(unify_words)\n",
    "    pattern = pattern.replace({\"einigen\": \"much\", \"einige\": \"much\", \"mehr\": \"much\", \"mehrere\": \"much\"})\n",
    "    digits = pattern.str.extract(\"\\D*(\\d+)\\D*\")[0]\n",
    "    pattern = digits.combine_first(pattern)\n",
    "    experience = pattern.apply(drop_useless)\n",
    "    # second pattern\n",
    "    pattern = df[\"content\"].str.extract(\"(\\S+) ?jährige[rn]? ?(Beruf|\\S*erfahrung|,? praktisch|,? relevant|,? einschlägig|,? fundiert|Expertise)\", flags=re.IGNORECASE)[0]\n",
    "    pattern = pattern.where(~(pattern.str.contains(\"(mehr|lang)\", case=False, regex=True, na=False)), \"much\")\n",
    "    pattern = pattern.str.strip(\"- \")\n",
    "    pattern = pattern.apply(drop_outliers)\n",
    "    pattern = pattern.apply(unify_words)\n",
    "    pattern = pattern.replace({\"ein\": \"1\", \"zwei\": \"2\", \"drei\": \"3\", \"vier\": \"4\", \"fünf\": \"5\", \"sechs\": \"6\", \"sieben\": \"7\", \"acht\": \"8\", \"neun\": \"9\", \"zehn\": \"10\"})\n",
    "    pattern = pattern.apply(drop_useless)\n",
    "    experience = experience.combine_first(pattern)\n",
    "    # third pattern\n",
    "    pattern = df[\"content\"].str.extract(\"(\\S+) ?years?( of)? ?(\\S* ?experience|professional|relevant|work|employment|proven|practical)\", flags=re.IGNORECASE)[0]\n",
    "    pattern = pattern.apply(convert_ranges)\n",
    "    digits = pattern.str.extract(\"\\D*(\\d+)\\D*\")[0]\n",
    "    pattern = digits.combine_first(pattern)\n",
    "    pattern = pattern.apply(unify_words)\n",
    "    pattern = pattern.where(~(pattern.str.contains(\"(several|multiple)\", case=False, regex=True, na=False)), \"much\")\n",
    "    pattern = pattern.replace({\"one\": \"1\", \"two\": \"2\", \"three\": \"3\", \"four\": \"4\", \"five\": \"5\", \"six\": \"6\", \"seven\": \"7\", \"eight\": \"8\", \"nine\": \"9\", \"ten\": \"10\"})\n",
    "    pattern = pattern.apply(drop_outliers)\n",
    "    pattern = pattern.apply(drop_useless)\n",
    "    experience = experience.combine_first(pattern)\n",
    "    # fourth pattern\n",
    "    pattern = df[\"content\"].str.extract(\"(\\S+) ?Berufserfahrung\", flags=re.IGNORECASE)[0]\n",
    "    pattern = pattern.apply(unify_words)\n",
    "    pattern = pattern.apply(convert_keywords)\n",
    "    experience = experience.combine_first(pattern)\n",
    "    # fifth pattern\n",
    "    pattern = df[\"content\"].str.extract(\"(\\S+) ?(professional|work|working|practical) experience\", flags=re.IGNORECASE)[0]\n",
    "    pattern = pattern.apply(unify_words)\n",
    "    pattern = pattern.apply(convert_keywords)\n",
    "    experience = experience.combine_first(pattern)\n",
    "    # sixth pattern \n",
    "    pattern = df[\"content\"].str.extract(\"(Berufseinstieg|Berufseinsteiger)\", flags=re.IGNORECASE)[0]\n",
    "    pattern = pattern.replace({\"Berufseinstieg\": \"little\", \"Berufseinsteiger\": \"little\"})\n",
    "    experience = experience.combine_first(pattern)\n",
    "    # seventh pattern\n",
    "    pattern = df[\"experience_level\"].str.extract(\"(Junior|Senior)\", flags=re.IGNORECASE)[0]\n",
    "    pattern = pattern.replace({\"Junior\": \"little\", \"Senior\": \"much\"})\n",
    "    experience = experience.combine_first(pattern)\n",
    "    # eighth pattern\n",
    "    pattern = df[\"trainee\"]\n",
    "    pattern = pattern.replace({True: \"little\", False: np.nan})\n",
    "    experience = experience.combine_first(pattern)\n",
    "    return experience\n",
    "\n",
    "experience = extract_experience(data_cleaned)\n",
    "experience.isnull().sum() / len(experience)"
   ]
  },
  {
   "cell_type": "code",
   "execution_count": 52,
   "id": "379d24d7-5710-469e-ba03-ff0f25f76912",
   "metadata": {},
   "outputs": [
    {
     "data": {
      "text/plain": [
       "0\n",
       "much      931\n",
       "some      360\n",
       "little    262\n",
       "3         170\n",
       "5         138\n",
       "2         137\n",
       "4          52\n",
       "1          20\n",
       "6          13\n",
       "7          13\n",
       "8          13\n",
       "10          7\n",
       "Name: count, dtype: int64"
      ]
     },
     "execution_count": 52,
     "metadata": {},
     "output_type": "execute_result"
    }
   ],
   "source": [
    "experience.value_counts()"
   ]
  },
  {
   "cell_type": "markdown",
   "id": "b260db5c-7e81-4be1-ae38-7b2fd7ac7f5d",
   "metadata": {},
   "source": [
    "Since there are relatively few entries for some values, it was decided to group the annual data into somewhat coarser categories."
   ]
  },
  {
   "cell_type": "code",
   "execution_count": 53,
   "id": "9b42e7c0-f0cf-4bf6-8122-78a1e315da26",
   "metadata": {},
   "outputs": [
    {
     "data": {
      "text/plain": [
       "1161"
      ]
     },
     "execution_count": 53,
     "metadata": {},
     "output_type": "execute_result"
    }
   ],
   "source": [
    "experience.isnull().sum()"
   ]
  },
  {
   "cell_type": "code",
   "execution_count": 54,
   "id": "476f1355-6202-435e-ae21-0398fda57c98",
   "metadata": {},
   "outputs": [
    {
     "data": {
      "text/plain": [
       "0\n",
       "no_experience_information    1161\n",
       "much_experience              1115\n",
       "some_experience               582\n",
       "little_experience             419\n",
       "Name: count, dtype: int64"
      ]
     },
     "execution_count": 54,
     "metadata": {},
     "output_type": "execute_result"
    }
   ],
   "source": [
    "experience_bins = experience.replace({\"1\": \"little_experience\", \"2\": \"little_experience\", \"3\": \"some_experience\", \"4\": \"some_experience\", \"5\": \"much_experience\", \n",
    "                                      \"6\": \"much_experience\", \"7\": \"much_experience\", \"8\": \"much_experience\", \"9\": \"much_experience\", \"10\": \"much_experience\",\n",
    "                                      \"little\": \"little_experience\", \"some\": \"some_experience\", \"much\": \"much_experience\"})\n",
    "experience_bins.fillna(\"no_experience_information\", inplace=True)\n",
    "experience_bins.value_counts()"
   ]
  },
  {
   "cell_type": "code",
   "execution_count": 55,
   "id": "32a8b0c3-b5a6-4176-955f-fc3c4f173232",
   "metadata": {},
   "outputs": [
    {
     "data": {
      "application/vnd.microsoft.datawrangler.viewer.v0+json": {
       "columns": [
        {
         "name": "index",
         "rawType": "int64",
         "type": "integer"
        },
        {
         "name": "little_experience",
         "rawType": "bool",
         "type": "boolean"
        },
        {
         "name": "much_experience",
         "rawType": "bool",
         "type": "boolean"
        },
        {
         "name": "no_experience_information",
         "rawType": "bool",
         "type": "boolean"
        },
        {
         "name": "some_experience",
         "rawType": "bool",
         "type": "boolean"
        }
       ],
       "conversionMethod": "pd.DataFrame",
       "ref": "132feb76-24c7-4f8c-aa71-8c8188c8d722",
       "rows": [
        [
         "0",
         "False",
         "False",
         "True",
         "False"
        ],
        [
         "1",
         "False",
         "False",
         "True",
         "False"
        ],
        [
         "2",
         "False",
         "False",
         "True",
         "False"
        ],
        [
         "3",
         "False",
         "True",
         "False",
         "False"
        ],
        [
         "4",
         "False",
         "False",
         "True",
         "False"
        ]
       ],
       "shape": {
        "columns": 4,
        "rows": 5
       }
      },
      "text/html": [
       "<div>\n",
       "<style scoped>\n",
       "    .dataframe tbody tr th:only-of-type {\n",
       "        vertical-align: middle;\n",
       "    }\n",
       "\n",
       "    .dataframe tbody tr th {\n",
       "        vertical-align: top;\n",
       "    }\n",
       "\n",
       "    .dataframe thead th {\n",
       "        text-align: right;\n",
       "    }\n",
       "</style>\n",
       "<table border=\"1\" class=\"dataframe\">\n",
       "  <thead>\n",
       "    <tr style=\"text-align: right;\">\n",
       "      <th></th>\n",
       "      <th>little_experience</th>\n",
       "      <th>much_experience</th>\n",
       "      <th>no_experience_information</th>\n",
       "      <th>some_experience</th>\n",
       "    </tr>\n",
       "  </thead>\n",
       "  <tbody>\n",
       "    <tr>\n",
       "      <th>0</th>\n",
       "      <td>False</td>\n",
       "      <td>False</td>\n",
       "      <td>True</td>\n",
       "      <td>False</td>\n",
       "    </tr>\n",
       "    <tr>\n",
       "      <th>1</th>\n",
       "      <td>False</td>\n",
       "      <td>False</td>\n",
       "      <td>True</td>\n",
       "      <td>False</td>\n",
       "    </tr>\n",
       "    <tr>\n",
       "      <th>2</th>\n",
       "      <td>False</td>\n",
       "      <td>False</td>\n",
       "      <td>True</td>\n",
       "      <td>False</td>\n",
       "    </tr>\n",
       "    <tr>\n",
       "      <th>3</th>\n",
       "      <td>False</td>\n",
       "      <td>True</td>\n",
       "      <td>False</td>\n",
       "      <td>False</td>\n",
       "    </tr>\n",
       "    <tr>\n",
       "      <th>4</th>\n",
       "      <td>False</td>\n",
       "      <td>False</td>\n",
       "      <td>True</td>\n",
       "      <td>False</td>\n",
       "    </tr>\n",
       "  </tbody>\n",
       "</table>\n",
       "</div>"
      ],
      "text/plain": [
       "   little_experience  much_experience  no_experience_information  \\\n",
       "0              False            False                       True   \n",
       "1              False            False                       True   \n",
       "2              False            False                       True   \n",
       "3              False             True                      False   \n",
       "4              False            False                       True   \n",
       "\n",
       "   some_experience  \n",
       "0            False  \n",
       "1            False  \n",
       "2            False  \n",
       "3            False  \n",
       "4            False  "
      ]
     },
     "execution_count": 55,
     "metadata": {},
     "output_type": "execute_result"
    }
   ],
   "source": [
    "experience_dummies = pd.get_dummies(experience_bins, dtype=\"bool\")\n",
    "experience_dummies.head()"
   ]
  },
  {
   "cell_type": "code",
   "execution_count": 56,
   "id": "7edb9f15-72d1-4055-a6a3-0d79972067e2",
   "metadata": {},
   "outputs": [
    {
     "data": {
      "application/vnd.microsoft.datawrangler.viewer.v0+json": {
       "columns": [
        {
         "name": "index",
         "rawType": "int64",
         "type": "integer"
        },
        {
         "name": "link",
         "rawType": "object",
         "type": "string"
        },
        {
         "name": "company",
         "rawType": "object",
         "type": "string"
        },
        {
         "name": "title",
         "rawType": "object",
         "type": "string"
        },
        {
         "name": "content",
         "rawType": "object",
         "type": "string"
        },
        {
         "name": "rating",
         "rawType": "float64",
         "type": "float"
        },
        {
         "name": "num_ratings",
         "rawType": "object",
         "type": "unknown"
        },
        {
         "name": "company_link",
         "rawType": "object",
         "type": "unknown"
        },
        {
         "name": "release_date",
         "rawType": "object",
         "type": "string"
        },
        {
         "name": "company_size",
         "rawType": "object",
         "type": "unknown"
        },
        {
         "name": "permanent_employment",
         "rawType": "bool",
         "type": "boolean"
        },
        {
         "name": "trainee",
         "rawType": "bool",
         "type": "boolean"
        },
        {
         "name": "home_office_possible",
         "rawType": "bool",
         "type": "boolean"
        },
        {
         "name": "part_time",
         "rawType": "bool",
         "type": "boolean"
        },
        {
         "name": "full_time",
         "rawType": "bool",
         "type": "boolean"
        },
        {
         "name": "title_category",
         "rawType": "object",
         "type": "string"
        },
        {
         "name": "experience_level",
         "rawType": "object",
         "type": "string"
        },
        {
         "name": "average_salary",
         "rawType": "float64",
         "type": "float"
        },
        {
         "name": "main_location",
         "rawType": "object",
         "type": "string"
        },
        {
         "name": "multiple_locations",
         "rawType": "bool",
         "type": "boolean"
        },
        {
         "name": "main_region",
         "rawType": "object",
         "type": "string"
        },
        {
         "name": "main_industry",
         "rawType": "object",
         "type": "unknown"
        },
        {
         "name": "python",
         "rawType": "bool",
         "type": "boolean"
        },
        {
         "name": "r",
         "rawType": "bool",
         "type": "boolean"
        },
        {
         "name": "sql",
         "rawType": "bool",
         "type": "boolean"
        },
        {
         "name": "java",
         "rawType": "bool",
         "type": "boolean"
        },
        {
         "name": "javascript",
         "rawType": "bool",
         "type": "boolean"
        },
        {
         "name": "c",
         "rawType": "bool",
         "type": "boolean"
        },
        {
         "name": "c++",
         "rawType": "bool",
         "type": "boolean"
        },
        {
         "name": "c#",
         "rawType": "bool",
         "type": "boolean"
        },
        {
         "name": "scala",
         "rawType": "bool",
         "type": "boolean"
        },
        {
         "name": "julia",
         "rawType": "bool",
         "type": "boolean"
        },
        {
         "name": "matlab",
         "rawType": "bool",
         "type": "boolean"
        },
        {
         "name": "swift",
         "rawType": "bool",
         "type": "boolean"
        },
        {
         "name": "go",
         "rawType": "bool",
         "type": "boolean"
        },
        {
         "name": "perl",
         "rawType": "bool",
         "type": "boolean"
        },
        {
         "name": "php",
         "rawType": "bool",
         "type": "boolean"
        },
        {
         "name": "html",
         "rawType": "bool",
         "type": "boolean"
        },
        {
         "name": "css",
         "rawType": "bool",
         "type": "boolean"
        },
        {
         "name": "rust",
         "rawType": "bool",
         "type": "boolean"
        },
        {
         "name": "excel",
         "rawType": "bool",
         "type": "boolean"
        },
        {
         "name": "tableau",
         "rawType": "bool",
         "type": "boolean"
        },
        {
         "name": "power_bi",
         "rawType": "bool",
         "type": "boolean"
        },
        {
         "name": "spark",
         "rawType": "bool",
         "type": "boolean"
        },
        {
         "name": "hadoop",
         "rawType": "bool",
         "type": "boolean"
        },
        {
         "name": "hive",
         "rawType": "bool",
         "type": "boolean"
        },
        {
         "name": "aws",
         "rawType": "bool",
         "type": "boolean"
        },
        {
         "name": "kafka",
         "rawType": "bool",
         "type": "boolean"
        },
        {
         "name": "azure",
         "rawType": "bool",
         "type": "boolean"
        },
        {
         "name": "google_cloud",
         "rawType": "bool",
         "type": "boolean"
        },
        {
         "name": "docker",
         "rawType": "bool",
         "type": "boolean"
        },
        {
         "name": "git",
         "rawType": "bool",
         "type": "boolean"
        },
        {
         "name": "linux",
         "rawType": "bool",
         "type": "boolean"
        },
        {
         "name": "kubernetes",
         "rawType": "bool",
         "type": "boolean"
        },
        {
         "name": "jenkins",
         "rawType": "bool",
         "type": "boolean"
        },
        {
         "name": "airflow",
         "rawType": "bool",
         "type": "boolean"
        },
        {
         "name": "databricks",
         "rawType": "bool",
         "type": "boolean"
        },
        {
         "name": "sas",
         "rawType": "bool",
         "type": "boolean"
        },
        {
         "name": "spss",
         "rawType": "bool",
         "type": "boolean"
        },
        {
         "name": "terraform",
         "rawType": "bool",
         "type": "boolean"
        },
        {
         "name": "ansible",
         "rawType": "bool",
         "type": "boolean"
        },
        {
         "name": "puppet",
         "rawType": "bool",
         "type": "boolean"
        },
        {
         "name": "mlflow",
         "rawType": "bool",
         "type": "boolean"
        },
        {
         "name": "kubeflow",
         "rawType": "bool",
         "type": "boolean"
        },
        {
         "name": "splunk",
         "rawType": "bool",
         "type": "boolean"
        },
        {
         "name": "talend",
         "rawType": "bool",
         "type": "boolean"
        },
        {
         "name": "prometheus",
         "rawType": "bool",
         "type": "boolean"
        },
        {
         "name": "grafana",
         "rawType": "bool",
         "type": "boolean"
        },
        {
         "name": "flink",
         "rawType": "bool",
         "type": "boolean"
        },
        {
         "name": "storm",
         "rawType": "bool",
         "type": "boolean"
        },
        {
         "name": "looker",
         "rawType": "bool",
         "type": "boolean"
        },
        {
         "name": "mysql",
         "rawType": "bool",
         "type": "boolean"
        },
        {
         "name": "postgresql",
         "rawType": "bool",
         "type": "boolean"
        },
        {
         "name": "oracle",
         "rawType": "bool",
         "type": "boolean"
        },
        {
         "name": "sql_server",
         "rawType": "bool",
         "type": "boolean"
        },
        {
         "name": "maria_db",
         "rawType": "bool",
         "type": "boolean"
        },
        {
         "name": "sqlite",
         "rawType": "bool",
         "type": "boolean"
        },
        {
         "name": "ibm_db2",
         "rawType": "bool",
         "type": "boolean"
        },
        {
         "name": "amazon_redshift",
         "rawType": "bool",
         "type": "boolean"
        },
        {
         "name": "google_bigquery",
         "rawType": "bool",
         "type": "boolean"
        },
        {
         "name": "azure_synapse",
         "rawType": "bool",
         "type": "boolean"
        },
        {
         "name": "snowflake",
         "rawType": "bool",
         "type": "boolean"
        },
        {
         "name": "redis",
         "rawType": "bool",
         "type": "boolean"
        },
        {
         "name": "dynamo_db",
         "rawType": "bool",
         "type": "boolean"
        },
        {
         "name": "mongo_db",
         "rawType": "bool",
         "type": "boolean"
        },
        {
         "name": "firebase",
         "rawType": "bool",
         "type": "boolean"
        },
        {
         "name": "couch_db",
         "rawType": "bool",
         "type": "boolean"
        },
        {
         "name": "cassandra",
         "rawType": "bool",
         "type": "boolean"
        },
        {
         "name": "hbase",
         "rawType": "bool",
         "type": "boolean"
        },
        {
         "name": "neo4j",
         "rawType": "bool",
         "type": "boolean"
        },
        {
         "name": "amazon_neptune",
         "rawType": "bool",
         "type": "boolean"
        },
        {
         "name": "elastic_search",
         "rawType": "bool",
         "type": "boolean"
        },
        {
         "name": "pandas",
         "rawType": "bool",
         "type": "boolean"
        },
        {
         "name": "numpy",
         "rawType": "bool",
         "type": "boolean"
        },
        {
         "name": "tensorflow/keras",
         "rawType": "bool",
         "type": "boolean"
        },
        {
         "name": "pytorch",
         "rawType": "bool",
         "type": "boolean"
        },
        {
         "name": "matplotlib",
         "rawType": "bool",
         "type": "boolean"
        },
        {
         "name": "seaborn",
         "rawType": "bool",
         "type": "boolean"
        },
        {
         "name": "scikit-learn",
         "rawType": "bool",
         "type": "boolean"
        },
        {
         "name": "plotly",
         "rawType": "bool",
         "type": "boolean"
        },
        {
         "name": "streamlit",
         "rawType": "bool",
         "type": "boolean"
        },
        {
         "name": "spacy",
         "rawType": "bool",
         "type": "boolean"
        },
        {
         "name": "nltk",
         "rawType": "bool",
         "type": "boolean"
        },
        {
         "name": "scipy",
         "rawType": "bool",
         "type": "boolean"
        },
        {
         "name": "statsmodels",
         "rawType": "bool",
         "type": "boolean"
        },
        {
         "name": "flask",
         "rawType": "bool",
         "type": "boolean"
        },
        {
         "name": "fastapi",
         "rawType": "bool",
         "type": "boolean"
        },
        {
         "name": "dask",
         "rawType": "bool",
         "type": "boolean"
        },
        {
         "name": "xgboost",
         "rawType": "bool",
         "type": "boolean"
        },
        {
         "name": "pyspark",
         "rawType": "bool",
         "type": "boolean"
        },
        {
         "name": "master",
         "rawType": "bool",
         "type": "boolean"
        },
        {
         "name": "phd",
         "rawType": "bool",
         "type": "boolean"
        },
        {
         "name": "bachelor",
         "rawType": "bool",
         "type": "boolean"
        },
        {
         "name": "no_degree_info",
         "rawType": "bool",
         "type": "boolean"
        },
        {
         "name": "computer_science",
         "rawType": "bool",
         "type": "boolean"
        },
        {
         "name": "math/statistics",
         "rawType": "bool",
         "type": "boolean"
        },
        {
         "name": "natural_science",
         "rawType": "bool",
         "type": "boolean"
        },
        {
         "name": "engineering",
         "rawType": "bool",
         "type": "boolean"
        },
        {
         "name": "business",
         "rawType": "bool",
         "type": "boolean"
        },
        {
         "name": "machine_learning",
         "rawType": "bool",
         "type": "boolean"
        },
        {
         "name": "deep_learning",
         "rawType": "bool",
         "type": "boolean"
        },
        {
         "name": "computer_vision",
         "rawType": "bool",
         "type": "boolean"
        },
        {
         "name": "natural_language_processing",
         "rawType": "bool",
         "type": "boolean"
        },
        {
         "name": "autonomous_driving",
         "rawType": "bool",
         "type": "boolean"
        },
        {
         "name": "robotics",
         "rawType": "bool",
         "type": "boolean"
        },
        {
         "name": "reinforcement_learning",
         "rawType": "bool",
         "type": "boolean"
        },
        {
         "name": "regression",
         "rawType": "bool",
         "type": "boolean"
        },
        {
         "name": "classification",
         "rawType": "bool",
         "type": "boolean"
        },
        {
         "name": "clustering",
         "rawType": "bool",
         "type": "boolean"
        },
        {
         "name": "forecasting",
         "rawType": "bool",
         "type": "boolean"
        },
        {
         "name": "recommender_systems",
         "rawType": "bool",
         "type": "boolean"
        },
        {
         "name": "anomaly_detection",
         "rawType": "bool",
         "type": "boolean"
        },
        {
         "name": "communication",
         "rawType": "bool",
         "type": "boolean"
        },
        {
         "name": "teamwork",
         "rawType": "bool",
         "type": "boolean"
        },
        {
         "name": "motivation",
         "rawType": "bool",
         "type": "boolean"
        },
        {
         "name": "critical_thinking",
         "rawType": "bool",
         "type": "boolean"
        },
        {
         "name": "creativity",
         "rawType": "bool",
         "type": "boolean"
        },
        {
         "name": "leadership",
         "rawType": "bool",
         "type": "boolean"
        },
        {
         "name": "flexibility",
         "rawType": "bool",
         "type": "boolean"
        },
        {
         "name": "business_focus",
         "rawType": "bool",
         "type": "boolean"
        },
        {
         "name": "initiative",
         "rawType": "bool",
         "type": "boolean"
        },
        {
         "name": "structured_working",
         "rawType": "bool",
         "type": "boolean"
        },
        {
         "name": "little_experience",
         "rawType": "bool",
         "type": "boolean"
        },
        {
         "name": "much_experience",
         "rawType": "bool",
         "type": "boolean"
        },
        {
         "name": "no_experience_information",
         "rawType": "bool",
         "type": "boolean"
        },
        {
         "name": "some_experience",
         "rawType": "bool",
         "type": "boolean"
        }
       ],
       "conversionMethod": "pd.DataFrame",
       "ref": "ce32112d-3a2a-4acb-9105-305ae575670f",
       "rows": [
        [
         "0",
         "https://www.stepstone.de/stellenangebote--Analyst-Data-Science-Artificial-Intelligence-m-w-d-Walldorf-Stuttgart-Muenchen-Leipzig-Hamburg-Frankfurt-am-Main-Duesseldorf-Berlin-BearingPoint-GmbH--7944366-inline.html",
         "BearingPoint GmbH",
         "Analyst Data Science & Artificial Intelligence (m/w/d)",
         "Design your own career.Make your point @ BearingPoint.\nWir bieten Beratung, die Strategie mit Technologie vereint und verbinden Unternehmertum mit Innovationsgeist. Bei uns warten auf Sie außergewöhnliche Entwicklungschancen, vielfältige Gestaltungsräume und Kollegen, die schnell zu Freunden werden.\nConsulting. Software. Ventures.Ihre Aufgaben:Befeuert durch den technologischen Fortschritt wagen immer mehr weltweit führende Industrieunternehmen die digitale Transformation. Autonom fahrende Roboter übernehmen den Warenfluss in Werken, die Zukunft wird mit modernen Methoden vorhergesagt und Bestände werden von KI-Algorithmen optimiert. \nGestalten Sie Innovation! Am Puls der Zeit erkennen Sie Potentiale und Herausforderungen der Digitalisierung, entwickeln daraus Lösungen und leisten so Ihren Beitrag zu der digitalen Beschaffung, Logistik oder Produktion von Morgen. Dabei begleiten Sie jeden Schritt von der Konzeption über die Umsetzung bis hin zur Anwendung im Kundenprojekt.  \nIhre Aufgaben \n\n\nEntwicklung und Bewertung von wegweisenden Data Science Use Cases in Zusammenarbeit mit unseren Kunden bis zur Umsetzung, vorwiegend in den Bereichen Supply Chain Management, Intralogistik, Produktion \n\n\n\n\nImplementierung von Methoden und Konzepten aus den Bereichen Data Science, Artificial Intelligence, Machine Learning, Cognitive Computing, Predictive Forecasting und Robotic Process Automation \n\n\nÜbernahme von Verantwortung durch aktive fachliche und technische Weiterentwicklung und Mitgestaltung unserer Assets zur Festigung unserer Vordenkerposition \n\n\nDamit punkten Sie bei uns:\n\nErfolgreich abgeschlossenes Studium der (Wirtschafts-) Informatik, (Wirtschafts-) Mathematik, BWL, Statistik, Physik, des (Wirtschafts-) Ingenieurwesens oder vergleichbarer Studiengänge \n\n\nKenntnisse auf den Gebieten Machine Learning, Data Science oder Predictive Forecasting \n\n\n\n\nErfahrung mit Datenbanken und Datenmodellen sowie R oder Python sind wünschenswert \n\n\nErste Kenntnisse auf den Gebieten Supply Chain Management, intralogistische Prozesse, Produktionsmanagement oder Bestandsmanagement etc. sind von Vorteil \n\n\nKundenorientierte, aufgeschlossene und eigenverantwortliche Arbeitsweise innerhalb unserer Projektteams \n\n\nSchnelle, analytische und proaktive Denkweise mit einem Auge für Details \n\n\n\n\nBereitschaft zu nationaler und internationaler Reisetätigkeit \n\n\nSehr gute deutsche und englische Sprachkenntnisse \n\n\nDamit punkten wir bei Ihnen:\nVielfältige Karriereperspektiven in einem unbefristeten Arbeitsvertrag mit zahlreichen Trainings- und Coachingangeboten und individueller Betreuung durch persönlichen Development Manager\nEin attraktives Vergütungsmodell inklusive eines erfolgsabhängigen Bonus mit Option zur Umwandlung in zusätzliche Freizeittage\nHybrides Arbeiten mit neuestem technischem Equipment inkl. Smartphone: beim Kunden, in einer unserer top Office Locations oder zu Hause\nUmfangreiche Angebote für die Work-Life-Balance wie z.B. Familienservice & Firmenfitness sowie zahlreiche Corporate Benefits \nFlache Hierarchien und eine teamorientierte Unternehmenskultur, in der Diversity und Wertschätzung, ökologische Verantwortung und gesellschaftliches Engagement dazu gehören\nKontakt:Chevron bottom iconSie haben noch Fragen?Wir freuen uns auf Ihren Anruf: +49 / 221 / 65083638 oder schreiben Sie uns eine Mail an professionals@bearingpoint-careers.de.",
         "3.9",
         "312 Bewertungen",
         "https://www.stepstone.de/cmp/de/BearingPoint-GmbH-19656/?intcid=Button_listing_company-card_company-presentation",
         "2022-06-03",
         "2501-5000",
         "True",
         "False",
         "True",
         "False",
         "True",
         "Machine Learning Engineer",
         "No Information",
         null,
         "Walldorf",
         "True",
         "Baden-Württemberg",
         "Unternehmensberatg., Wirtschaftsprüfg., Recht",
         "True",
         "True",
         "False",
         "False",
         "False",
         "False",
         "False",
         "False",
         "False",
         "False",
         "False",
         "False",
         "False",
         "False",
         "False",
         "False",
         "False",
         "False",
         "False",
         "False",
         "False",
         "False",
         "False",
         "False",
         "False",
         "False",
         "False",
         "False",
         "False",
         "False",
         "False",
         "False",
         "False",
         "False",
         "False",
         "False",
         "False",
         "False",
         "False",
         "False",
         "False",
         "False",
         "False",
         "False",
         "False",
         "False",
         "False",
         "False",
         "False",
         "False",
         "False",
         "False",
         "False",
         "False",
         "False",
         "False",
         "False",
         "False",
         "False",
         "False",
         "False",
         "False",
         "False",
         "False",
         "False",
         "False",
         "False",
         "False",
         "False",
         "False",
         "False",
         "False",
         "False",
         "False",
         "False",
         "False",
         "False",
         "False",
         "False",
         "False",
         "False",
         "False",
         "False",
         "False",
         "False",
         "False",
         "False",
         "False",
         "False",
         "False",
         "True",
         "False",
         "True",
         "True",
         "True",
         "True",
         "True",
         "True",
         "False",
         "False",
         "False",
         "False",
         "True",
         "False",
         "False",
         "False",
         "False",
         "True",
         "False",
         "False",
         "False",
         "True",
         "True",
         "False",
         "False",
         "False",
         "False",
         "False",
         "False",
         "False",
         "False",
         "False",
         "True",
         "False"
        ],
        [
         "1",
         "https://www.stepstone.de/stellenangebote--Manager-m-w-d-Data-Science-Statistik-Berlin-BIG-direkt-gesund--8362563-inline.html",
         "BIG direkt gesund",
         "Manager (m/w/d) Data Science & Statistik",
         "Direkter geht Karriere nicht.Einstieg bei der ersten Direktkrankenkasse Deutschlands: Seit über 25 Jahren setzen wir bei der BIG auf digitale Kommunikationswege und schlanke Strukturen mit vielen Extraleistungen für unsere Versicherten. Mit mehr als 500.000 Versicherten und über 900 Mitarbeiter*innen zählen wir zu den 30 größten Krankenkassen – aber wir sind auch eine der flexibelsten. Unsere Kund*innen erleben jeden Tag, was wir unter gutem Service verstehen: Kommunikation auf Augenhöhe und über den Kanal, den sie wünschen, schnelle Entscheidungen und eine bequeme Abwicklung ihrer Anliegen.\nZur Erweiterung unseres Expertenteams suchen wir Sie zum nächstmöglichen Zeitpunkt als Manager (m/w/d) Data Science & Statistik für den Standort Berlin.  Ihre Aufgaben\nErstellung von tiefgehenden Analysen für strategische Entscheidungen und Maßnahmen in allen Geschäftsbereichen sowie Präsentation der Ergebnisse vor Stakeholdern auf unterschiedlichen Ebenen\nDurchführung komplexer Datenanalysen, Datenaufbereitung und Entwicklung prognostischer Modelle auf Basis aktueller statistischer Methoden und auf Grundlage einer Identifikation und Analyse der im Unternehmen und außerhalb des Unternehmens vorhandenen Datenquellen\nGenerierung von Regeln und Programmierung von Scorings aus Massendaten (z.B. GKV-Routinedaten und Webdaten) unter Beachtung des Datenschutzes\nOptimierung datengetriebener Prozesse in den Bereichen medizinische Versorgung, Kunde und Markt sowie Financial und Risk\nEntwicklung von Use Cases, Machbarkeitsanalysen und Proof of Concepts insbesondere auch mit externen Partnern\nMitwirkung am Ausbau der digitalen Exzellenz der BIG direkt gesund und Aufbau der dazugehörigen Infrastruktur\nÜbernahme organisatorischer und kommunikativer Aufgaben in Projekten (Projektmanagement)\nIhr Profil\nBeherrschung der relevanten statistischen Methoden, KI und ML-Verfahren\ntiefgehende Kenntnisse in deskriptiver und induktiver Statistik (Stochastik) sowie Erfahrungen in der Anwendung multivariater Verfahren\nsehr gute Kenntnisse in Statistikwerkzeugen (z.B. SPSS, Python oder R)\nSensibilität für Belange des Datenschutzes sowie Kenntnis der datenschutzrechtlichen Rahmenbedingungen\nsmarte Kommunikation auch schwieriger Sachverhalte intern und extern (z.B. auf Kongressen)\nproaktive permanente fachliche Weiterbildung\nvorteilhaft sind Kenntnisse in SQL-Programmierung und in Bezug auf Web-Analytics\nWir bietenWir bieten ausgezeichnete Perspektiven und einen zukunftssicheren Arbeitsplatz. Flache Hierarchien und kurze Entscheidungswege ermöglichen Ihnen eigenverantwortliches Handeln. Darüber hinaus schaffen flexible Arbeitszeiten, die Möglichkeit von zu Hause zu arbeiten, eine ausgeprägte Feedbackkultur und unser Fokus auf praxisorientierte Weiterbildung für Sie ideale Rahmenbedingungen, um sich engagiert für unsere Kundinnen und Kunden einzusetzen. Zusätzlich bieten wir Ihnen unter anderem eine Unterstützung zur betrieblichen Altersvorsorge, VWL, ein Firmenbike sowie 30 Tage Urlaub.\nUmfassende Informationen über die Unternehmensphilosophie und das Arbeiten bei der BIG finden Sie auf unserer Website in der Rubrik „Karriere“.\n \n KontaktChevron bottom iconHaben wir Ihr Interesse geweckt? Dann bewerben Sie sich online mit Ihren aussagekräftigen Bewerbungsunterlagen. Bewerbungen von Schwerbehinderten werden begrüßt. Ziel des Gleichstellungsplans der BIG ist eine möglichst paritätische Verteilung der Positionen in den einzelnen Bereichen zwischen Mitarbeiterinnen und Mitarbeitern unter Berücksichtigung von Eignung, Befähigung und fachlicher Leistung.\nFür Fragen steht Carsten Griese, Manager HR / Recruiting, carsten.griese@big-direkt.de oder 0231.5557-3651, gerne zur Verfügung.",
         "4.3",
         "16 Bewertungen",
         null,
         "2022-06-03",
         null,
         "True",
         "False",
         "True",
         "False",
         "True",
         "Data Science Manager",
         "No Information",
         "59500.0",
         "Berlin",
         "False",
         "Berlin",
         null,
         "True",
         "True",
         "True",
         "False",
         "False",
         "False",
         "False",
         "False",
         "False",
         "False",
         "False",
         "False",
         "False",
         "False",
         "False",
         "False",
         "False",
         "False",
         "False",
         "False",
         "False",
         "False",
         "False",
         "False",
         "False",
         "False",
         "False",
         "False",
         "False",
         "False",
         "False",
         "False",
         "False",
         "False",
         "False",
         "False",
         "True",
         "False",
         "False",
         "False",
         "False",
         "False",
         "False",
         "False",
         "False",
         "False",
         "False",
         "False",
         "False",
         "False",
         "False",
         "False",
         "False",
         "False",
         "False",
         "False",
         "False",
         "False",
         "False",
         "False",
         "False",
         "False",
         "False",
         "False",
         "False",
         "False",
         "False",
         "False",
         "False",
         "False",
         "False",
         "False",
         "False",
         "False",
         "False",
         "False",
         "False",
         "False",
         "False",
         "False",
         "False",
         "False",
         "False",
         "False",
         "False",
         "False",
         "False",
         "False",
         "False",
         "False",
         "False",
         "True",
         "False",
         "True",
         "False",
         "False",
         "True",
         "False",
         "False",
         "False",
         "False",
         "False",
         "False",
         "False",
         "False",
         "False",
         "False",
         "False",
         "False",
         "False",
         "True",
         "False",
         "False",
         "False",
         "False",
         "False",
         "False",
         "False",
         "False",
         "False",
         "False",
         "False",
         "True",
         "False"
        ],
        [
         "2",
         "https://www.stepstone.de/stellenangebote--Manager-m-w-d-Data-Science-Statistik-Dortmund-Duesseldorf-Aachen-BIG-direkt-gesund--8362548-inline.html",
         "BIG direkt gesund",
         "Manager (m/w/d) Data Science & Statistik",
         "Direkter geht Karriere nicht.Einstieg bei der ersten Direktkrankenkasse Deutschlands: Seit über 25 Jahren setzen wir bei der BIG auf digitale Kommunikationswege und schlanke Strukturen mit vielen Extraleistungen für unsere Versicherten. Mit mehr als 500.000 Versicherten und über 900 Mitarbeiter*innen zählen wir zu den 30 größten Krankenkassen – aber wir sind auch eine der flexibelsten. Unsere Kund*innen erleben jeden Tag, was wir unter gutem Service verstehen: Kommunikation auf Augenhöhe und über den Kanal, den sie wünschen, schnelle Entscheidungen und eine bequeme Abwicklung ihrer Anliegen.\nZur Erweiterung unseres Expertenteams suchen wir Sie zum nächstmöglichen Zeitpunkt als Manager (m/w/d) Data Science & Statistik für die Standorte Dortmund, Düsseldorf oder Aachen. Ihre Aufgaben\nErstellung von tiefgehenden Analysen für strategische Entscheidungen und Maßnahmen in allen Geschäftsbereichen sowie Präsentation der Ergebnisse vor Stakeholdern auf unterschiedlichen Ebenen\nDurchführung komplexer Datenanalysen, Datenaufbereitung und Entwicklung prognostischer Modelle auf Basis aktueller statistischer Methoden und auf Grundlage einer Identifikation und Analyse der im Unternehmen und außerhalb des Unternehmens vorhandenen Datenquellen\nGenerierung von Regeln und Programmierung von Scorings aus Massendaten (z.B. GKV-Routinedaten und Webdaten) unter Beachtung des Datenschutzes\nOptimierung datengetriebener Prozesse in den Bereichen medizinische Versorgung, Kunde und Markt sowie Financial und Risk\nEntwicklung von Use Cases, Machbarkeitsanalysen und Proof of Concepts insbesondere auch mit externen Partnern\nMitwirkung am Ausbau der digitalen Exzellenz der BIG direkt gesund und Aufbau der dazugehörigen Infrastruktur\nÜbernahme organisatorischer und kommunikativer Aufgaben in Projekten (Projektmanagement)\nIhr Profil\nBeherrschung der relevanten statistischen Methoden, KI und ML-Verfahren\ntiefgehende Kenntnisse in deskriptiver und induktiver Statistik (Stochastik) sowie Erfahrungen in der Anwendung multivariater Verfahren\nsehr gute Kenntnisse in Statistikwerkzeugen (z.B. SPSS, Python oder R)\nSensibilität für Belange des Datenschutzes sowie Kenntnis der datenschutzrechtlichen Rahmenbedingungen\nsmarte Kommunikation auch schwieriger Sachverhalte intern und extern (z.B. auf Kongressen)\nproaktive permanente fachliche Weiterbildung\nvorteilhaft sind Kenntnisse in SQL-Programmierung und in Bezug auf Web-Analytics\nWir bietenWir bieten ausgezeichnete Perspektiven und einen zukunftssicheren Arbeitsplatz. Flache Hierarchien und kurze Entscheidungswege ermöglichen Ihnen eigenverantwortliches Handeln. Darüber hinaus schaffen flexible Arbeitszeiten, die Möglichkeit von zu Hause zu arbeiten, eine ausgeprägte Feedbackkultur und unser Fokus auf praxisorientierte Weiterbildung für Sie ideale Rahmenbedingungen, um sich engagiert für unsere Kundinnen und Kunden einzusetzen. Zusätzlich bieten wir Ihnen unter anderem eine Unterstützung zur betrieblichen Altersvorsorge, VWL, ein Firmenbike sowie 30 Tage Urlaub.\nUmfassende Informationen über die Unternehmensphilosophie und das Arbeiten bei der BIG finden Sie auf unserer Website in der Rubrik „Karriere“.\n \n KontaktChevron bottom iconHaben wir Ihr Interesse geweckt? Dann bewerben Sie sich online mit Ihren aussagekräftigen Bewerbungsunterlagen. Bewerbungen von Schwerbehinderten werden begrüßt. Ziel des Gleichstellungsplans der BIG ist eine möglichst paritätische Verteilung der Positionen in den einzelnen Bereichen zwischen Mitarbeiterinnen und Mitarbeitern unter Berücksichtigung von Eignung, Befähigung und fachlicher Leistung.\nFür Fragen steht Carsten Griese, Manager HR / Recruiting, carsten.griese@big-direkt.de oder 0231.5557-3651, gerne zur Verfügung.",
         "4.3",
         "16 Bewertungen",
         null,
         "2022-06-03",
         null,
         "True",
         "False",
         "True",
         "False",
         "True",
         "Data Science Manager",
         "No Information",
         "62500.0",
         "Dortmund",
         "True",
         "North Rhine-Westphalia",
         null,
         "True",
         "True",
         "True",
         "False",
         "False",
         "False",
         "False",
         "False",
         "False",
         "False",
         "False",
         "False",
         "False",
         "False",
         "False",
         "False",
         "False",
         "False",
         "False",
         "False",
         "False",
         "False",
         "False",
         "False",
         "False",
         "False",
         "False",
         "False",
         "False",
         "False",
         "False",
         "False",
         "False",
         "False",
         "False",
         "False",
         "True",
         "False",
         "False",
         "False",
         "False",
         "False",
         "False",
         "False",
         "False",
         "False",
         "False",
         "False",
         "False",
         "False",
         "False",
         "False",
         "False",
         "False",
         "False",
         "False",
         "False",
         "False",
         "False",
         "False",
         "False",
         "False",
         "False",
         "False",
         "False",
         "False",
         "False",
         "False",
         "False",
         "False",
         "False",
         "False",
         "False",
         "False",
         "False",
         "False",
         "False",
         "False",
         "False",
         "False",
         "False",
         "False",
         "False",
         "False",
         "False",
         "False",
         "False",
         "False",
         "False",
         "False",
         "False",
         "True",
         "False",
         "True",
         "False",
         "False",
         "True",
         "False",
         "False",
         "False",
         "False",
         "False",
         "False",
         "False",
         "False",
         "False",
         "False",
         "False",
         "False",
         "False",
         "True",
         "False",
         "False",
         "False",
         "False",
         "False",
         "False",
         "False",
         "False",
         "False",
         "False",
         "False",
         "True",
         "False"
        ],
        [
         "3",
         "https://www.stepstone.de/stellenangebote--Data-Science-Lead-Duesseldorf-Palma-de-Mallorca-METRO-Markets-GmbH--8300873-inline.html",
         "METRO Markets GmbH",
         "Data Science Lead",
         "We create the future of B2B commerce by giving business relationships a platform. Our marketplace enables millions of business owners all over the world to focus on what they do best – delight others.Online marketplaces have never been this awesome.\nJoin our team of passionate technology enthusiasts and e-commerce specialists in our brand-new offices in Düsseldorf or in Palma de Mallorca!\nWe are looking for an experienced Data Scientist, that can help us to build and establish a scalable ecosystem (tools, processes, people and more) around Data Science to be rolled out across the entire company.\nYou will work within the Business Intelligence & Data Analytics department and will be working closely with our Data Engineers & Data Analysts but also with stakeholders and teams from all different functions across the company to empower them to generate value from data.In this role, you will have the fantastic and rare opportunity to define, build and influence a setup from scratch with the latest up-to-date technologies in a very fast-growing and scaling environment.\nSounds good? You will be responsible for:\n\nBuild and own a scalable Data Science ecosystem and team from scratch\nYou will be the key ambassador within the company for all Data Science topics\nYou will define and establish best practices and guidelines for all phases of data science process, from model conceptualization and tuning over model implementation to model testing and running them in the cloud\nLive and breathe an appropriate mixture between Strategy, Hands-On, Enabling and Education around kicking off Data Science at scale based on the maturity of our business\nTeam up with data engineers, data analysts, developers, product people and various other functions across the company on data science-related challenges\nEstablish a scalable Data Science mindest and culture across the company\nDefine the scope of the entire team and team lead it\n\nYou've got\n\nPassion for building and shaping things that will be having a real impact on our culture & business \nA degree in a Data Science related field\nStrong skills in Statistics & Mathematics and their application within the field of Data Science \n6+ years of professional experience working as a Data Scientist, ideally not purely within an agency setup\nProven experience in real-world-application of Data Science in an E-Commerce / Retail / Wholesale environment\nProven knowledge and experience with building a Data Science Platform from scratch and how to integrate with self developed and 3rd party software\nA strong track record in working with peers and stakeholders from many organizational hierarchy levels across different domains\nExperience with Big Data & Cloud technologies such as GCP, AWS, Docker, or similar\nStrong Python and SQL and skills and knowledge of software development best practices (git, packaging, deployment, etc…)\nA very good understanding of Data Engineering and how it integrates with Data Science\nExperience with at least one deep learning framework such as PyTorch, TensorFlow or similar\nAbility and willingness to switch between “hands on” and “strategic” working mode according to situational needs \nExperience with functional and disciplinary leadership will be a plus\n\nWe've got\n\nAn exciting product with a strong and long-term vision\nA hybrid work model with high flexibility\nTraining opportunities tailored to your individual career path\nOpportunities to work from abroad for some time\nAn amazing international team, lots of events and team activities\nLots of corporate benefits\nFunky offices in Palma and Düsseldorf with easy access by road & public transport\nIf you’re not from Germany/Spain, we’ll give you relocation support  \n\n",
         null,
         null,
         null,
         "2022-06-01",
         null,
         "True",
         "False",
         "True",
         "False",
         "True",
         "Data Science Manager",
         "No Information",
         "86000.0",
         "Düsseldorf",
         "True",
         "North Rhine-Westphalia",
         "IT & Internet",
         "True",
         "False",
         "True",
         "False",
         "False",
         "False",
         "False",
         "False",
         "False",
         "False",
         "False",
         "False",
         "False",
         "False",
         "False",
         "False",
         "False",
         "False",
         "False",
         "False",
         "False",
         "False",
         "False",
         "False",
         "True",
         "False",
         "False",
         "True",
         "True",
         "True",
         "False",
         "False",
         "False",
         "False",
         "False",
         "False",
         "False",
         "False",
         "False",
         "False",
         "False",
         "False",
         "False",
         "False",
         "False",
         "False",
         "False",
         "False",
         "False",
         "False",
         "False",
         "False",
         "False",
         "False",
         "False",
         "False",
         "False",
         "False",
         "False",
         "False",
         "False",
         "False",
         "False",
         "False",
         "False",
         "False",
         "False",
         "False",
         "False",
         "False",
         "False",
         "False",
         "True",
         "True",
         "False",
         "False",
         "False",
         "False",
         "False",
         "False",
         "False",
         "False",
         "False",
         "False",
         "False",
         "False",
         "False",
         "False",
         "False",
         "False",
         "True",
         "False",
         "False",
         "True",
         "False",
         "True",
         "False",
         "False",
         "True",
         "False",
         "False",
         "False",
         "False",
         "False",
         "False",
         "False",
         "False",
         "False",
         "False",
         "False",
         "False",
         "False",
         "True",
         "False",
         "False",
         "False",
         "True",
         "False",
         "False",
         "False",
         "False",
         "True",
         "False",
         "False"
        ],
        [
         "4",
         "https://www.stepstone.de/stellenangebote--Business-Analyst-Data-Science-m-w-d-Wiesbaden-R-V-Allgemeine-Versicherung-AG--8243604-inline.html",
         "R+V Allgemeine Versicherung AG",
         "Business Analyst / Data Science (m/w/d)",
         "Wie sich die Versicherung von morgen anfühlen wird, entscheiden Sie schon heute – als Mitarbeiter (m/w/d) der R+V Versicherung. Unser Anspruch: Ihrem Talent und Ihrer Leidenschaft den passenden Rahmen bieten. Unser Ziel: Zukunftsweisenden Versicherungslösungen den Weg ebnen und die gemeinsamen Werte mit Leben füllen. \nLassen Sie uns gemeinsam neue Wege gehen! Denn genau das tun wir bei der R+V, einem der größten Versicherer Deutschlands. \nBusiness Analyst / Data Science (m/w/d) \nStandort: Wiesbaden · R+V CampusBreit gefächert: Ihre Aufgaben\nAls Teil unseres Teams:\n\nsetzen Sie Lösungen in den Bereichen Machine Learning, Künstliche Intelligenz und Predictive Analytics um\nentwickeln Sie eigenständig Python-Lösungen und begleiten die dazugehörigen Deployment-Prozesse\nunterstützen Sie unsere Fachbereiche bei der Umsetzung und Anwendung von datengetriebenen Lösungen\nbegleiten Sie spannende Projekte und Arbeitskreise bezüglich der Einsatzmöglichkeiten von Data-Science-Methoden\nBestens aufgestellt: Ihr Profil\n\nAbgeschlossenes Studium in Informatik, Data Science, Data Analytics oder eines vergleichbaren Studiengangs\nKenntnisse in der Aufbereitung und Auswertung von komplexen und umfangreichen Datenstrukturen\nErfahrung in der Programmierung mit Python sowie mit komplexen Abfragen und der Datenmodellierung in SQL & NoSQL\nSicherer Umgang mit den üblichen Entwicklungstools wie GitHub, Azure DevOps, Visual Studio Code, etc.\nAgiles Mindset und Erfahrung in agiler Projektarbeit\nTeamplayer mit schneller Auffassungsgabe und analytischer Denkweise\nIdealerweise Kenntnisse in der Rückversicherung\nSehr gutes Deutsch und Englisch in Wort und Schrift\nDas erwartet Sie bei uns:\nDie Gruppe Data Management & Analytics ist verantwortlich für unser Data Warehouse und die Reporting-Werkzeuge im Ressort Aktive Rückversicherung. Wir unterstützen unsere Kollegen bei allen Fragestellungen rund um Auswertungen und Analysen von Daten und kümmern uns um die Bereitstellung von einfachen und innovativen Lösungen, anhand derer unsere Kollegen selbstständig Antworten auf ihre Fragen finden können. Neben dem klassischen Data Warehousing & Reporting setzen wir außerdem auf die Integration von Machine Learning und künstlicher Intelligenz um explorative Analysen auf Basis unseres umfangreichen Datenbestandes durchführen zu können.\nBenefits:\n\nWork-Life-Balance\n Entwicklungsperspektiven \n Job-Ticket \n Betriebsrestaurant \n Fitnessstudio \nAttraktive Vergütung und Zusatzleistung\n Altersvorsorge \nKontaktChevron bottom iconInteressiert? Dann werde Teil eines starken Teams. Hier direkt online bewerben. Referenzcode: 22553\nOffene Fragen beantworten wir Ihnen gerne unter 0611 533-5210.",
         "4.4",
         "247 Bewertungen",
         "https://www.stepstone.de/cmp/de/R-V-Allgemeine-Versicherung-AG-113145/?intcid=Button_listing_company-card_company-presentation",
         "2022-06-01",
         "10,001+",
         "True",
         "False",
         "False",
         "False",
         "True",
         "Data Scientist",
         "No Information",
         "61000.0",
         "Wiesbaden",
         "False",
         "Hesse",
         "Versicherungen",
         "True",
         "True",
         "True",
         "False",
         "False",
         "False",
         "False",
         "False",
         "False",
         "False",
         "False",
         "False",
         "False",
         "False",
         "False",
         "False",
         "False",
         "False",
         "False",
         "False",
         "False",
         "False",
         "False",
         "False",
         "False",
         "False",
         "True",
         "False",
         "False",
         "True",
         "False",
         "False",
         "False",
         "False",
         "False",
         "False",
         "False",
         "False",
         "False",
         "False",
         "False",
         "False",
         "False",
         "False",
         "False",
         "False",
         "False",
         "False",
         "False",
         "False",
         "False",
         "False",
         "False",
         "False",
         "False",
         "False",
         "False",
         "False",
         "False",
         "False",
         "False",
         "False",
         "False",
         "False",
         "False",
         "False",
         "False",
         "False",
         "False",
         "False",
         "False",
         "False",
         "False",
         "False",
         "False",
         "False",
         "False",
         "False",
         "False",
         "False",
         "False",
         "False",
         "False",
         "False",
         "False",
         "False",
         "False",
         "False",
         "False",
         "False",
         "True",
         "False",
         "True",
         "False",
         "False",
         "False",
         "False",
         "True",
         "False",
         "False",
         "False",
         "False",
         "False",
         "False",
         "False",
         "False",
         "False",
         "False",
         "False",
         "False",
         "False",
         "True",
         "True",
         "True",
         "False",
         "False",
         "False",
         "False",
         "True",
         "False",
         "False",
         "False",
         "True",
         "False"
        ]
       ],
       "shape": {
        "columns": 145,
        "rows": 5
       }
      },
      "text/html": [
       "<div>\n",
       "<style scoped>\n",
       "    .dataframe tbody tr th:only-of-type {\n",
       "        vertical-align: middle;\n",
       "    }\n",
       "\n",
       "    .dataframe tbody tr th {\n",
       "        vertical-align: top;\n",
       "    }\n",
       "\n",
       "    .dataframe thead th {\n",
       "        text-align: right;\n",
       "    }\n",
       "</style>\n",
       "<table border=\"1\" class=\"dataframe\">\n",
       "  <thead>\n",
       "    <tr style=\"text-align: right;\">\n",
       "      <th></th>\n",
       "      <th>link</th>\n",
       "      <th>company</th>\n",
       "      <th>title</th>\n",
       "      <th>content</th>\n",
       "      <th>rating</th>\n",
       "      <th>num_ratings</th>\n",
       "      <th>company_link</th>\n",
       "      <th>release_date</th>\n",
       "      <th>company_size</th>\n",
       "      <th>permanent_employment</th>\n",
       "      <th>...</th>\n",
       "      <th>creativity</th>\n",
       "      <th>leadership</th>\n",
       "      <th>flexibility</th>\n",
       "      <th>business_focus</th>\n",
       "      <th>initiative</th>\n",
       "      <th>structured_working</th>\n",
       "      <th>little_experience</th>\n",
       "      <th>much_experience</th>\n",
       "      <th>no_experience_information</th>\n",
       "      <th>some_experience</th>\n",
       "    </tr>\n",
       "  </thead>\n",
       "  <tbody>\n",
       "    <tr>\n",
       "      <th>0</th>\n",
       "      <td>https://www.stepstone.de/stellenangebote--Anal...</td>\n",
       "      <td>BearingPoint GmbH</td>\n",
       "      <td>Analyst Data Science &amp; Artificial Intelligence...</td>\n",
       "      <td>Design your own career.Make your point @ Beari...</td>\n",
       "      <td>3.9</td>\n",
       "      <td>312 Bewertungen</td>\n",
       "      <td>https://www.stepstone.de/cmp/de/BearingPoint-G...</td>\n",
       "      <td>2022-06-03</td>\n",
       "      <td>2501-5000</td>\n",
       "      <td>True</td>\n",
       "      <td>...</td>\n",
       "      <td>False</td>\n",
       "      <td>False</td>\n",
       "      <td>False</td>\n",
       "      <td>False</td>\n",
       "      <td>False</td>\n",
       "      <td>False</td>\n",
       "      <td>False</td>\n",
       "      <td>False</td>\n",
       "      <td>True</td>\n",
       "      <td>False</td>\n",
       "    </tr>\n",
       "    <tr>\n",
       "      <th>1</th>\n",
       "      <td>https://www.stepstone.de/stellenangebote--Mana...</td>\n",
       "      <td>BIG direkt gesund</td>\n",
       "      <td>Manager (m/w/d) Data Science &amp; Statistik</td>\n",
       "      <td>Direkter geht Karriere nicht.Einstieg bei der ...</td>\n",
       "      <td>4.3</td>\n",
       "      <td>16 Bewertungen</td>\n",
       "      <td>NaN</td>\n",
       "      <td>2022-06-03</td>\n",
       "      <td>NaN</td>\n",
       "      <td>True</td>\n",
       "      <td>...</td>\n",
       "      <td>False</td>\n",
       "      <td>False</td>\n",
       "      <td>False</td>\n",
       "      <td>False</td>\n",
       "      <td>False</td>\n",
       "      <td>False</td>\n",
       "      <td>False</td>\n",
       "      <td>False</td>\n",
       "      <td>True</td>\n",
       "      <td>False</td>\n",
       "    </tr>\n",
       "    <tr>\n",
       "      <th>2</th>\n",
       "      <td>https://www.stepstone.de/stellenangebote--Mana...</td>\n",
       "      <td>BIG direkt gesund</td>\n",
       "      <td>Manager (m/w/d) Data Science &amp; Statistik</td>\n",
       "      <td>Direkter geht Karriere nicht.Einstieg bei der ...</td>\n",
       "      <td>4.3</td>\n",
       "      <td>16 Bewertungen</td>\n",
       "      <td>NaN</td>\n",
       "      <td>2022-06-03</td>\n",
       "      <td>NaN</td>\n",
       "      <td>True</td>\n",
       "      <td>...</td>\n",
       "      <td>False</td>\n",
       "      <td>False</td>\n",
       "      <td>False</td>\n",
       "      <td>False</td>\n",
       "      <td>False</td>\n",
       "      <td>False</td>\n",
       "      <td>False</td>\n",
       "      <td>False</td>\n",
       "      <td>True</td>\n",
       "      <td>False</td>\n",
       "    </tr>\n",
       "    <tr>\n",
       "      <th>3</th>\n",
       "      <td>https://www.stepstone.de/stellenangebote--Data...</td>\n",
       "      <td>METRO Markets GmbH</td>\n",
       "      <td>Data Science Lead</td>\n",
       "      <td>We create the future of B2B commerce by giving...</td>\n",
       "      <td>NaN</td>\n",
       "      <td>NaN</td>\n",
       "      <td>NaN</td>\n",
       "      <td>2022-06-01</td>\n",
       "      <td>NaN</td>\n",
       "      <td>True</td>\n",
       "      <td>...</td>\n",
       "      <td>False</td>\n",
       "      <td>False</td>\n",
       "      <td>True</td>\n",
       "      <td>False</td>\n",
       "      <td>False</td>\n",
       "      <td>False</td>\n",
       "      <td>False</td>\n",
       "      <td>True</td>\n",
       "      <td>False</td>\n",
       "      <td>False</td>\n",
       "    </tr>\n",
       "    <tr>\n",
       "      <th>4</th>\n",
       "      <td>https://www.stepstone.de/stellenangebote--Busi...</td>\n",
       "      <td>R+V Allgemeine Versicherung AG</td>\n",
       "      <td>Business Analyst / Data Science (m/w/d)</td>\n",
       "      <td>Wie sich die Versicherung von morgen anfühlen ...</td>\n",
       "      <td>4.4</td>\n",
       "      <td>247 Bewertungen</td>\n",
       "      <td>https://www.stepstone.de/cmp/de/R-V-Allgemeine...</td>\n",
       "      <td>2022-06-01</td>\n",
       "      <td>10,001+</td>\n",
       "      <td>True</td>\n",
       "      <td>...</td>\n",
       "      <td>False</td>\n",
       "      <td>False</td>\n",
       "      <td>False</td>\n",
       "      <td>False</td>\n",
       "      <td>True</td>\n",
       "      <td>False</td>\n",
       "      <td>False</td>\n",
       "      <td>False</td>\n",
       "      <td>True</td>\n",
       "      <td>False</td>\n",
       "    </tr>\n",
       "  </tbody>\n",
       "</table>\n",
       "<p>5 rows × 145 columns</p>\n",
       "</div>"
      ],
      "text/plain": [
       "                                                link  \\\n",
       "0  https://www.stepstone.de/stellenangebote--Anal...   \n",
       "1  https://www.stepstone.de/stellenangebote--Mana...   \n",
       "2  https://www.stepstone.de/stellenangebote--Mana...   \n",
       "3  https://www.stepstone.de/stellenangebote--Data...   \n",
       "4  https://www.stepstone.de/stellenangebote--Busi...   \n",
       "\n",
       "                          company  \\\n",
       "0               BearingPoint GmbH   \n",
       "1               BIG direkt gesund   \n",
       "2               BIG direkt gesund   \n",
       "3              METRO Markets GmbH   \n",
       "4  R+V Allgemeine Versicherung AG   \n",
       "\n",
       "                                               title  \\\n",
       "0  Analyst Data Science & Artificial Intelligence...   \n",
       "1           Manager (m/w/d) Data Science & Statistik   \n",
       "2           Manager (m/w/d) Data Science & Statistik   \n",
       "3                                  Data Science Lead   \n",
       "4            Business Analyst / Data Science (m/w/d)   \n",
       "\n",
       "                                             content  rating      num_ratings  \\\n",
       "0  Design your own career.Make your point @ Beari...     3.9  312 Bewertungen   \n",
       "1  Direkter geht Karriere nicht.Einstieg bei der ...     4.3   16 Bewertungen   \n",
       "2  Direkter geht Karriere nicht.Einstieg bei der ...     4.3   16 Bewertungen   \n",
       "3  We create the future of B2B commerce by giving...     NaN              NaN   \n",
       "4  Wie sich die Versicherung von morgen anfühlen ...     4.4  247 Bewertungen   \n",
       "\n",
       "                                        company_link release_date  \\\n",
       "0  https://www.stepstone.de/cmp/de/BearingPoint-G...   2022-06-03   \n",
       "1                                                NaN   2022-06-03   \n",
       "2                                                NaN   2022-06-03   \n",
       "3                                                NaN   2022-06-01   \n",
       "4  https://www.stepstone.de/cmp/de/R-V-Allgemeine...   2022-06-01   \n",
       "\n",
       "  company_size  permanent_employment  ...  creativity  leadership  \\\n",
       "0    2501-5000                  True  ...       False       False   \n",
       "1          NaN                  True  ...       False       False   \n",
       "2          NaN                  True  ...       False       False   \n",
       "3          NaN                  True  ...       False       False   \n",
       "4      10,001+                  True  ...       False       False   \n",
       "\n",
       "   flexibility  business_focus initiative structured_working  \\\n",
       "0        False           False      False              False   \n",
       "1        False           False      False              False   \n",
       "2        False           False      False              False   \n",
       "3         True           False      False              False   \n",
       "4        False           False       True              False   \n",
       "\n",
       "   little_experience much_experience  no_experience_information  \\\n",
       "0              False           False                       True   \n",
       "1              False           False                       True   \n",
       "2              False           False                       True   \n",
       "3              False            True                      False   \n",
       "4              False           False                       True   \n",
       "\n",
       "  some_experience  \n",
       "0           False  \n",
       "1           False  \n",
       "2           False  \n",
       "3           False  \n",
       "4           False  \n",
       "\n",
       "[5 rows x 145 columns]"
      ]
     },
     "execution_count": 56,
     "metadata": {},
     "output_type": "execute_result"
    }
   ],
   "source": [
    "data_cleaned = pd.merge(data_cleaned, experience_dummies, left_index=True, right_index=True)\n",
    "data_cleaned.head()"
   ]
  },
  {
   "cell_type": "markdown",
   "id": "ae6fc54e",
   "metadata": {},
   "source": []
  },
  {
   "cell_type": "markdown",
   "id": "4eecdbe6",
   "metadata": {},
   "source": []
  },
  {
   "cell_type": "markdown",
   "id": "fa7e193c-4323-453b-849d-26c8c6d147d5",
   "metadata": {},
   "source": [
    "## Remove Duplicates"
   ]
  },
  {
   "cell_type": "markdown",
   "id": "6b2a0318-f88d-4e84-ad6a-2cf419439df9",
   "metadata": {},
   "source": [
    "The current record may contain multiple ads for the same job, as many companies republish their job ads periodically to remain among the most relevant listings. However, the redundant job ads may differ slightly in terms of the job title and the wording of the job description. Therefore, the corresponding columns must be left out when searching for duplicates."
   ]
  },
  {
   "cell_type": "code",
   "execution_count": 57,
   "id": "92a1626d-3b25-4d88-874c-ccc502d92230",
   "metadata": {},
   "outputs": [
    {
     "data": {
      "application/vnd.microsoft.datawrangler.viewer.v0+json": {
       "columns": [
        {
         "name": "index",
         "rawType": "int64",
         "type": "integer"
        },
        {
         "name": "link",
         "rawType": "object",
         "type": "string"
        },
        {
         "name": "company",
         "rawType": "object",
         "type": "string"
        },
        {
         "name": "title",
         "rawType": "object",
         "type": "string"
        },
        {
         "name": "content",
         "rawType": "object",
         "type": "string"
        },
        {
         "name": "rating",
         "rawType": "float64",
         "type": "float"
        },
        {
         "name": "num_ratings",
         "rawType": "object",
         "type": "string"
        },
        {
         "name": "company_link",
         "rawType": "object",
         "type": "string"
        },
        {
         "name": "release_date",
         "rawType": "object",
         "type": "string"
        },
        {
         "name": "company_size",
         "rawType": "object",
         "type": "string"
        },
        {
         "name": "permanent_employment",
         "rawType": "bool",
         "type": "boolean"
        },
        {
         "name": "trainee",
         "rawType": "bool",
         "type": "boolean"
        },
        {
         "name": "home_office_possible",
         "rawType": "bool",
         "type": "boolean"
        },
        {
         "name": "part_time",
         "rawType": "bool",
         "type": "boolean"
        },
        {
         "name": "full_time",
         "rawType": "bool",
         "type": "boolean"
        },
        {
         "name": "title_category",
         "rawType": "object",
         "type": "string"
        },
        {
         "name": "experience_level",
         "rawType": "object",
         "type": "string"
        },
        {
         "name": "average_salary",
         "rawType": "float64",
         "type": "float"
        },
        {
         "name": "main_location",
         "rawType": "object",
         "type": "string"
        },
        {
         "name": "multiple_locations",
         "rawType": "bool",
         "type": "boolean"
        },
        {
         "name": "main_region",
         "rawType": "object",
         "type": "string"
        },
        {
         "name": "main_industry",
         "rawType": "object",
         "type": "string"
        },
        {
         "name": "python",
         "rawType": "bool",
         "type": "boolean"
        },
        {
         "name": "r",
         "rawType": "bool",
         "type": "boolean"
        },
        {
         "name": "sql",
         "rawType": "bool",
         "type": "boolean"
        },
        {
         "name": "java",
         "rawType": "bool",
         "type": "boolean"
        },
        {
         "name": "javascript",
         "rawType": "bool",
         "type": "boolean"
        },
        {
         "name": "c",
         "rawType": "bool",
         "type": "boolean"
        },
        {
         "name": "c++",
         "rawType": "bool",
         "type": "boolean"
        },
        {
         "name": "c#",
         "rawType": "bool",
         "type": "boolean"
        },
        {
         "name": "scala",
         "rawType": "bool",
         "type": "boolean"
        },
        {
         "name": "julia",
         "rawType": "bool",
         "type": "boolean"
        },
        {
         "name": "matlab",
         "rawType": "bool",
         "type": "boolean"
        },
        {
         "name": "swift",
         "rawType": "bool",
         "type": "boolean"
        },
        {
         "name": "go",
         "rawType": "bool",
         "type": "boolean"
        },
        {
         "name": "perl",
         "rawType": "bool",
         "type": "boolean"
        },
        {
         "name": "php",
         "rawType": "bool",
         "type": "boolean"
        },
        {
         "name": "html",
         "rawType": "bool",
         "type": "boolean"
        },
        {
         "name": "css",
         "rawType": "bool",
         "type": "boolean"
        },
        {
         "name": "rust",
         "rawType": "bool",
         "type": "boolean"
        },
        {
         "name": "excel",
         "rawType": "bool",
         "type": "boolean"
        },
        {
         "name": "tableau",
         "rawType": "bool",
         "type": "boolean"
        },
        {
         "name": "power_bi",
         "rawType": "bool",
         "type": "boolean"
        },
        {
         "name": "spark",
         "rawType": "bool",
         "type": "boolean"
        },
        {
         "name": "hadoop",
         "rawType": "bool",
         "type": "boolean"
        },
        {
         "name": "hive",
         "rawType": "bool",
         "type": "boolean"
        },
        {
         "name": "aws",
         "rawType": "bool",
         "type": "boolean"
        },
        {
         "name": "kafka",
         "rawType": "bool",
         "type": "boolean"
        },
        {
         "name": "azure",
         "rawType": "bool",
         "type": "boolean"
        },
        {
         "name": "google_cloud",
         "rawType": "bool",
         "type": "boolean"
        },
        {
         "name": "docker",
         "rawType": "bool",
         "type": "boolean"
        },
        {
         "name": "git",
         "rawType": "bool",
         "type": "boolean"
        },
        {
         "name": "linux",
         "rawType": "bool",
         "type": "boolean"
        },
        {
         "name": "kubernetes",
         "rawType": "bool",
         "type": "boolean"
        },
        {
         "name": "jenkins",
         "rawType": "bool",
         "type": "boolean"
        },
        {
         "name": "airflow",
         "rawType": "bool",
         "type": "boolean"
        },
        {
         "name": "databricks",
         "rawType": "bool",
         "type": "boolean"
        },
        {
         "name": "sas",
         "rawType": "bool",
         "type": "boolean"
        },
        {
         "name": "spss",
         "rawType": "bool",
         "type": "boolean"
        },
        {
         "name": "terraform",
         "rawType": "bool",
         "type": "boolean"
        },
        {
         "name": "ansible",
         "rawType": "bool",
         "type": "boolean"
        },
        {
         "name": "puppet",
         "rawType": "bool",
         "type": "boolean"
        },
        {
         "name": "mlflow",
         "rawType": "bool",
         "type": "boolean"
        },
        {
         "name": "kubeflow",
         "rawType": "bool",
         "type": "boolean"
        },
        {
         "name": "splunk",
         "rawType": "bool",
         "type": "boolean"
        },
        {
         "name": "talend",
         "rawType": "bool",
         "type": "boolean"
        },
        {
         "name": "prometheus",
         "rawType": "bool",
         "type": "boolean"
        },
        {
         "name": "grafana",
         "rawType": "bool",
         "type": "boolean"
        },
        {
         "name": "flink",
         "rawType": "bool",
         "type": "boolean"
        },
        {
         "name": "storm",
         "rawType": "bool",
         "type": "boolean"
        },
        {
         "name": "looker",
         "rawType": "bool",
         "type": "boolean"
        },
        {
         "name": "mysql",
         "rawType": "bool",
         "type": "boolean"
        },
        {
         "name": "postgresql",
         "rawType": "bool",
         "type": "boolean"
        },
        {
         "name": "oracle",
         "rawType": "bool",
         "type": "boolean"
        },
        {
         "name": "sql_server",
         "rawType": "bool",
         "type": "boolean"
        },
        {
         "name": "maria_db",
         "rawType": "bool",
         "type": "boolean"
        },
        {
         "name": "sqlite",
         "rawType": "bool",
         "type": "boolean"
        },
        {
         "name": "ibm_db2",
         "rawType": "bool",
         "type": "boolean"
        },
        {
         "name": "amazon_redshift",
         "rawType": "bool",
         "type": "boolean"
        },
        {
         "name": "google_bigquery",
         "rawType": "bool",
         "type": "boolean"
        },
        {
         "name": "azure_synapse",
         "rawType": "bool",
         "type": "boolean"
        },
        {
         "name": "snowflake",
         "rawType": "bool",
         "type": "boolean"
        },
        {
         "name": "redis",
         "rawType": "bool",
         "type": "boolean"
        },
        {
         "name": "dynamo_db",
         "rawType": "bool",
         "type": "boolean"
        },
        {
         "name": "mongo_db",
         "rawType": "bool",
         "type": "boolean"
        },
        {
         "name": "firebase",
         "rawType": "bool",
         "type": "boolean"
        },
        {
         "name": "couch_db",
         "rawType": "bool",
         "type": "boolean"
        },
        {
         "name": "cassandra",
         "rawType": "bool",
         "type": "boolean"
        },
        {
         "name": "hbase",
         "rawType": "bool",
         "type": "boolean"
        },
        {
         "name": "neo4j",
         "rawType": "bool",
         "type": "boolean"
        },
        {
         "name": "amazon_neptune",
         "rawType": "bool",
         "type": "boolean"
        },
        {
         "name": "elastic_search",
         "rawType": "bool",
         "type": "boolean"
        },
        {
         "name": "pandas",
         "rawType": "bool",
         "type": "boolean"
        },
        {
         "name": "numpy",
         "rawType": "bool",
         "type": "boolean"
        },
        {
         "name": "tensorflow/keras",
         "rawType": "bool",
         "type": "boolean"
        },
        {
         "name": "pytorch",
         "rawType": "bool",
         "type": "boolean"
        },
        {
         "name": "matplotlib",
         "rawType": "bool",
         "type": "boolean"
        },
        {
         "name": "seaborn",
         "rawType": "bool",
         "type": "boolean"
        },
        {
         "name": "scikit-learn",
         "rawType": "bool",
         "type": "boolean"
        },
        {
         "name": "plotly",
         "rawType": "bool",
         "type": "boolean"
        },
        {
         "name": "streamlit",
         "rawType": "bool",
         "type": "boolean"
        },
        {
         "name": "spacy",
         "rawType": "bool",
         "type": "boolean"
        },
        {
         "name": "nltk",
         "rawType": "bool",
         "type": "boolean"
        },
        {
         "name": "scipy",
         "rawType": "bool",
         "type": "boolean"
        },
        {
         "name": "statsmodels",
         "rawType": "bool",
         "type": "boolean"
        },
        {
         "name": "flask",
         "rawType": "bool",
         "type": "boolean"
        },
        {
         "name": "fastapi",
         "rawType": "bool",
         "type": "boolean"
        },
        {
         "name": "dask",
         "rawType": "bool",
         "type": "boolean"
        },
        {
         "name": "xgboost",
         "rawType": "bool",
         "type": "boolean"
        },
        {
         "name": "pyspark",
         "rawType": "bool",
         "type": "boolean"
        },
        {
         "name": "master",
         "rawType": "bool",
         "type": "boolean"
        },
        {
         "name": "phd",
         "rawType": "bool",
         "type": "boolean"
        },
        {
         "name": "bachelor",
         "rawType": "bool",
         "type": "boolean"
        },
        {
         "name": "no_degree_info",
         "rawType": "bool",
         "type": "boolean"
        },
        {
         "name": "computer_science",
         "rawType": "bool",
         "type": "boolean"
        },
        {
         "name": "math/statistics",
         "rawType": "bool",
         "type": "boolean"
        },
        {
         "name": "natural_science",
         "rawType": "bool",
         "type": "boolean"
        },
        {
         "name": "engineering",
         "rawType": "bool",
         "type": "boolean"
        },
        {
         "name": "business",
         "rawType": "bool",
         "type": "boolean"
        },
        {
         "name": "machine_learning",
         "rawType": "bool",
         "type": "boolean"
        },
        {
         "name": "deep_learning",
         "rawType": "bool",
         "type": "boolean"
        },
        {
         "name": "computer_vision",
         "rawType": "bool",
         "type": "boolean"
        },
        {
         "name": "natural_language_processing",
         "rawType": "bool",
         "type": "boolean"
        },
        {
         "name": "autonomous_driving",
         "rawType": "bool",
         "type": "boolean"
        },
        {
         "name": "robotics",
         "rawType": "bool",
         "type": "boolean"
        },
        {
         "name": "reinforcement_learning",
         "rawType": "bool",
         "type": "boolean"
        },
        {
         "name": "regression",
         "rawType": "bool",
         "type": "boolean"
        },
        {
         "name": "classification",
         "rawType": "bool",
         "type": "boolean"
        },
        {
         "name": "clustering",
         "rawType": "bool",
         "type": "boolean"
        },
        {
         "name": "forecasting",
         "rawType": "bool",
         "type": "boolean"
        },
        {
         "name": "recommender_systems",
         "rawType": "bool",
         "type": "boolean"
        },
        {
         "name": "anomaly_detection",
         "rawType": "bool",
         "type": "boolean"
        },
        {
         "name": "communication",
         "rawType": "bool",
         "type": "boolean"
        },
        {
         "name": "teamwork",
         "rawType": "bool",
         "type": "boolean"
        },
        {
         "name": "motivation",
         "rawType": "bool",
         "type": "boolean"
        },
        {
         "name": "critical_thinking",
         "rawType": "bool",
         "type": "boolean"
        },
        {
         "name": "creativity",
         "rawType": "bool",
         "type": "boolean"
        },
        {
         "name": "leadership",
         "rawType": "bool",
         "type": "boolean"
        },
        {
         "name": "flexibility",
         "rawType": "bool",
         "type": "boolean"
        },
        {
         "name": "business_focus",
         "rawType": "bool",
         "type": "boolean"
        },
        {
         "name": "initiative",
         "rawType": "bool",
         "type": "boolean"
        },
        {
         "name": "structured_working",
         "rawType": "bool",
         "type": "boolean"
        },
        {
         "name": "little_experience",
         "rawType": "bool",
         "type": "boolean"
        },
        {
         "name": "much_experience",
         "rawType": "bool",
         "type": "boolean"
        },
        {
         "name": "no_experience_information",
         "rawType": "bool",
         "type": "boolean"
        },
        {
         "name": "some_experience",
         "rawType": "bool",
         "type": "boolean"
        }
       ],
       "conversionMethod": "pd.DataFrame",
       "ref": "b0afe834-150f-4a52-8e57-1580d0a36142",
       "rows": [
        [
         "151",
         "https://www.stepstone.de/stellenangebote--Data-Scientist-m-w-d-Frankfurt-am-Main-Bertrandt-AG--8228142-inline.html",
         "Bertrandt AG",
         "Data Scientist (m/w/d)",
         "Der Bertrandt-Konzern bietet seit über 40 Jahren Entwicklungslösungen für die internationale Automobil- und Luftfahrtindustrie sowie die Branchen Maschinen- und Anlagenbau, Energie, Medizintechnik und Elektroindustrie in Europa, China und den USA. Insgesamt stehen unsere Mitarbeiterinnen und Mitarbeiter für tiefes Know-how, zukunftsfähige Projektlösungen und hohe Kundenorientierung.Data Scientist (m/w/d)Ort: Frankfurt am MainWas Sie erwartet:Analyse von Daten zur Erkennung von Mustern, Identifikation von Anomalien und Modellierung von Signalen bzw. SensorenEntwicklung von neuen analytischen Methoden, die unter anderem durch die Verwendung von KI Ansätzen gestützt sindAufbau und Implementierung von performanten Datenanalysen, die auf bestehende Dateninfrastrukturen aufsetzenBeratung von internen und externen Kollegen in Themen der Data ScienceSolution Design für Data Science Anwendungen in verschiedenen Industrien (Automotive, Medical, Werkzeuge, Luft/Raumfahrt etc.)Enge Zusammenarbeit mit Data EngineersWas Sie mitbringen:Abgeschlossenes Studium der Mathematik, Naturwissenschaften, Informatik oder vergleichbare StudiengängeMehrjährige relevante BerufserfahrungSehr gute Kenntnisse in mind. einer OOP-Sprache (Python von Vorteil) Kenntnisse im Umgang mit Methoden der Datenvisualisierung (z.B. Tableau, Kibana)Sicherer Umgang mit Cloud- und Edge-Technologien sowie Data Processing MethodenGrundkenntnisse im Umgang mit Datenbanken Kenntnisse in modernen Softwareentwicklungsmethoden sind von VorteilKommunikationsstärke und Überzeugungskraft Hohe Proaktivität und EigenverantwortungSehr gute Englisch- und DeutschkenntnisseWas wir können:Verantwortungsvolle Aufgaben  Intensive Einarbeitung  Flexible Arbeitszeiten  Eigenverantwortliches Arbeiten  Rabatte  Mobiles Arbeiten  Sabbatical  Flache HierarchienKontakt:Chevron bottom iconWir suchen auch in der jetzigen Corona-Krise (COVID-19) - aktiv und zeitnah - nach Kandidaten (m/w/d) für unseren Standort in Frankfurt am Main.Werden Sie Teil unserer Software Community mit modernen und agilen Entwicklungsmethoden!Gerne geben wir engagierten Absolventen (m/w/d) eine Chance zum Berufseinstieg!Leon WaidelichTel.: +49 170 7135314",
         "3.6",
         "494 Bewertungen",
         "https://www.stepstone.de/cmp/de/Bertrandt-AG-179/?intcid=Button_listing_company-card_company-presentation",
         "2022-05-28",
         "10,001+",
         "True",
         "False",
         "True",
         "False",
         "True",
         "Data Scientist",
         "No Information",
         null,
         "Frankfurt",
         "False",
         "Hesse",
         "Fahrzeugbau/-zulieferer",
         "True",
         "False",
         "False",
         "False",
         "False",
         "False",
         "False",
         "False",
         "False",
         "False",
         "False",
         "False",
         "False",
         "False",
         "False",
         "False",
         "False",
         "False",
         "False",
         "True",
         "False",
         "False",
         "False",
         "False",
         "False",
         "False",
         "False",
         "False",
         "False",
         "False",
         "False",
         "False",
         "False",
         "False",
         "False",
         "False",
         "False",
         "False",
         "False",
         "False",
         "False",
         "False",
         "False",
         "False",
         "False",
         "False",
         "False",
         "False",
         "False",
         "False",
         "False",
         "False",
         "False",
         "False",
         "False",
         "False",
         "False",
         "False",
         "False",
         "False",
         "False",
         "False",
         "False",
         "False",
         "False",
         "False",
         "False",
         "False",
         "False",
         "False",
         "False",
         "False",
         "False",
         "False",
         "False",
         "False",
         "False",
         "False",
         "False",
         "False",
         "False",
         "False",
         "False",
         "False",
         "False",
         "False",
         "False",
         "False",
         "False",
         "False",
         "True",
         "False",
         "True",
         "True",
         "True",
         "False",
         "False",
         "False",
         "False",
         "False",
         "False",
         "False",
         "False",
         "False",
         "False",
         "False",
         "False",
         "False",
         "False",
         "True",
         "False",
         "False",
         "False",
         "False",
         "False",
         "False",
         "False",
         "False",
         "True",
         "False",
         "False",
         "True",
         "False",
         "False"
        ],
        [
         "169",
         "https://www.stepstone.de/stellenangebote--Data-Scientist-m-w-d-Frankfurt-am-Main-Bertrandt-AG--8337184-inline.html",
         "Bertrandt AG",
         "Data Scientist (m/w/d)",
         "Der Bertrandt-Konzern bietet seit über 40 Jahren Entwicklungslösungen für die internationale Automobil- und Luftfahrtindustrie sowie die Branchen Maschinen- und Anlagenbau, Energie, Medizintechnik und Elektroindustrie in Europa, China und den USA. Insgesamt stehen unsere Mitarbeiterinnen und Mitarbeiter für tiefes Know-how, zukunftsfähige Projektlösungen und hohe Kundenorientierung.Data Scientist (m/w/d)Ort: Frankfurt am MainWas Sie erwartet:Analyse von Daten zur Erkennung von Mustern, Identifikation von Anomalien und Modellierung von Signalen bzw. SensorenEntwicklung von neuen analytischen Methoden, die unter anderem durch die Verwendung von KI Ansätzen gestützt sindAufbau und Implementierung von performanten Datenanalysen, die auf bestehende Dateninfrastrukturen aufsetzenBeratung von internen und externen Kollegen in Themen der Data ScienceSolution Design für Data Science Anwendungen in verschiedenen Industrien (Automotive, Medical, Werkzeuge, Luft/Raumfahrt etc.)Enge Zusammenarbeit mit Data EngineersWas Sie mitbringen:Abgeschlossenes Studium der Mathematik, Naturwissenschaften, Informatik oder vergleichbare StudiengängeMehrjährige relevante BerufserfahrungSehr gute Kenntnisse in mind. einer OOP-Sprache (Python von Vorteil) Kenntnisse im Umgang mit Methoden der Datenvisualisierung (z.B. Tableau, Kibana)Sicherer Umgang mit Cloud- und Edge-Technologien sowie Data Processing MethodenGrundkenntnisse im Umgang mit Datenbanken Kenntnisse in modernen Softwareentwicklungsmethoden sind von VorteilKommunikationsstärke und Überzeugungskraft Hohe Proaktivität und EigenverantwortungSehr gute Englisch- und DeutschkenntnisseWas wir können:Verantwortungsvolle Aufgaben  Intensive Einarbeitung  Flexible Arbeitszeiten  Eigenverantwortliches Arbeiten  Rabatte  Mobiles Arbeiten  Sabbatical  Flache HierarchienKontakt:Chevron bottom iconWir suchen auch in der jetzigen Corona-Krise (COVID-19) - aktiv und zeitnah - nach Kandidaten (m/w/d) für unseren Standort in Frankfurt am Main.Werden Sie Teil unserer Software Community mit modernen und agilen Entwicklungsmethoden!Gerne geben wir engagierten Absolventen (m/w/d) eine Chance zum Berufseinstieg!Leon WaidelichTel.: +49 170 7135314",
         "3.6",
         "494 Bewertungen",
         "https://www.stepstone.de/cmp/de/Bertrandt-AG-179/?intcid=Button_listing_company-card_company-presentation",
         "2022-05-27",
         "10,001+",
         "True",
         "False",
         "True",
         "False",
         "True",
         "Data Scientist",
         "No Information",
         null,
         "Frankfurt",
         "False",
         "Hesse",
         "Fahrzeugbau/-zulieferer",
         "True",
         "False",
         "False",
         "False",
         "False",
         "False",
         "False",
         "False",
         "False",
         "False",
         "False",
         "False",
         "False",
         "False",
         "False",
         "False",
         "False",
         "False",
         "False",
         "True",
         "False",
         "False",
         "False",
         "False",
         "False",
         "False",
         "False",
         "False",
         "False",
         "False",
         "False",
         "False",
         "False",
         "False",
         "False",
         "False",
         "False",
         "False",
         "False",
         "False",
         "False",
         "False",
         "False",
         "False",
         "False",
         "False",
         "False",
         "False",
         "False",
         "False",
         "False",
         "False",
         "False",
         "False",
         "False",
         "False",
         "False",
         "False",
         "False",
         "False",
         "False",
         "False",
         "False",
         "False",
         "False",
         "False",
         "False",
         "False",
         "False",
         "False",
         "False",
         "False",
         "False",
         "False",
         "False",
         "False",
         "False",
         "False",
         "False",
         "False",
         "False",
         "False",
         "False",
         "False",
         "False",
         "False",
         "False",
         "False",
         "False",
         "False",
         "True",
         "False",
         "True",
         "True",
         "True",
         "False",
         "False",
         "False",
         "False",
         "False",
         "False",
         "False",
         "False",
         "False",
         "False",
         "False",
         "False",
         "False",
         "False",
         "True",
         "False",
         "False",
         "False",
         "False",
         "False",
         "False",
         "False",
         "False",
         "True",
         "False",
         "False",
         "True",
         "False",
         "False"
        ],
        [
         "316",
         "https://www.stepstone.de/stellenangebote--Business-Consultant-Artificial-Intelligence-m-w-d-Neckarsulm-Schwarz-Dienstleistungen--8270944-inline.html",
         "Schwarz Dienstleistungen",
         "Business Consultant Artificial Intelligence (m/w/d)",
         "Die Schwarz IT KG ist als zentraler IT-Dienstleister für Auswahl, Bereitstellung und Betrieb sowie Weiterentwicklung von IT-Infrastrukturen, IT-Plattformen und Business-Anwendungen zuständig. Damit erbringt die Schwarz IT sowohl für Kaufland und Lidl als auch für die Schwarz Dienstleistung KG und die Schwarz Zentrale Dienste KG IT-Dienstleistungen. Um die Fachbereiche durch IT-Lösungen optimal bei deren Geschäftsprozessen zu unterstützen, nimmt die Schwarz IT Anforderungen der Fachbereiche in Beratungsgesprächen auf und erarbeitet gemeinsam mit diesen professionelle und leistungsfähige IT-Lösungen.\nEinsatzbereich: IT - Business & Artificial Intelligence // Ort: Raum Neckarsulm // Arbeitsmodell: Vollzeit\nDeine Aufgaben\nAls Business Consultant Artificial Intelligence (m/w/d) bist du für die Lidl- und Kaufland Fachbereiche der erste Ansprechpartner für den Einsatz von AI-Produkten und verantwortest deren Entwicklung sowie ihren Betrieb über den gesamten Lebenszyklus\nIn den initialen Phasen des Produktlebenszyklus konzeptionierst du hierzu gemeinsam mit fachlichen und technischen Stakeholdern Produktvisionen, weist deren technische Machbarkeit zielgerichtet nach und bewertest ihren betriebswirtschaftlichen Mehrwert\nIn der Industrialisierungsphase stellst du anschließend realistische Meilensteinpläne auf und ermöglichst durch effektives Stakeholdermanagement, dass diese Visionen in standardisierte, automatisierte und skalierbare Produkte überführt werden können\nInnerhalb des Entwicklungsprozesses bist du als Product Owner Teil agil arbeitender Scrum-Teams. In den von dir gepflegten Backlogs definierst du mehrwertstiftende Produktinkremente, die durch deine Unterstützung kontinuierlich entwickelt, qualitätsgesichert und integriert werden können\nNach der Integration leistest du für den Fachbereich notwendigen Support, unterstützt den DevOps-Betrieb durch die Klassifikation aufkommender Tickets und kannst auf dieser Basis auch neu aufkommende Anforderungen schnell aufnehmen und effizient managen\n\nDein Profil\nTheoretische Kenntnisse und praktische Erfahrungen in den Bereichen des agilen Projekt- bzw. Produktmanagements, idealerweise in der Entwicklung von Software/AI-Produkten\nAnalytische Denkweise sowie Begeisterung für Data Science Methoden, um komplexe Probleme in den typischen Geschäftsprozessen des Einzelhandels zu lösen\nPraktische Erfahrungen im Umgang mit Daten bzw. eine hohe Bereitschaft, sich in analytische Fragestellungen sowie die eingesetzten Technologien einzuarbeiten\nSicheres Auftreten, sehr gute Präsentationsfähigkeiten und Freude an der Kommunikation mit Stakeholdern aus unterschiedlichen fachlichen und technischen Bereichen\nDeutsch- und Englischkenntnisse (verhandlungssicher in Wort und Schrift)\nAbgeschlossenes Hochschulstudium in (Wirtschafts-)Informatik, Wirtschaftswissenschaften, Physik, Mathematik, Data Science oder einer anderen relevanten Fachrichtung\n\nUnser Angebot\nTeam: Wir ermöglichen dir Teil eines ambitionierten Teams zu werden, das mit AI-Technologien in einer international tätigen Unternehmensgruppe echte Mehrwerte schafft\nVerantwortung: Dein Einsatz an der Schnittstelle ist zentral für den Erfolg des Produkts\nEinarbeitung: Wir arbeiten dich fachlich und technisch intensiv in deine Themen ein\nFortbildung: Dich erwarten individuelle Angebote zur persönlichen und beruflichen Weiterentwicklung, die es dir erlauben deine Fähigkeiten entsprechend deinen Neigungen sowohl fachlich als auch technisch zu vertiefen und so deine Karriere zu strukturieren\nRahmenbedingungen: Wir bieten flexible Arbeitszeiten, eine attraktive Vergütung, viele Sozialleistungen und eine gute Vereinbarkeit von Berufs- und Privatleben\n\nInteresse geweckt?Chevron bottom iconWir freuen uns auf deine Bewerbung!\nSchwarz Dienstleistung KG · Julia Huyoff · Referenz-Nr. 30245 \nStiftsbergstraße 1 · 74172 Neckarsulm \nwww.it.schwarz\n\nERFAHRE MEHR ÜBER DIE SCHWARZ DIENSTLEISTUNGEN\nAuf unserer Karriereseite kannst du dich über unsere Einstiegsmöglichkeiten und uns als Arbeitgeber informieren.\nJetzt mehr erfahren.\n",
         "3.7",
         "67 Bewertungen",
         "https://www.stepstone.de/cmp/de/Schwarz-Dienstleistungen-152212/?intcid=Button_listing_company-card_company-presentation",
         "2022-05-25",
         "2501-5000",
         "True",
         "False",
         "False",
         "False",
         "True",
         "Data Science Consultant",
         "No Information",
         "72500.0",
         "Neckarsulm",
         "False",
         "Baden-Württemberg",
         "IT & Internet",
         "False",
         "False",
         "False",
         "False",
         "False",
         "False",
         "False",
         "False",
         "False",
         "True",
         "False",
         "False",
         "False",
         "False",
         "False",
         "False",
         "False",
         "False",
         "False",
         "False",
         "False",
         "False",
         "False",
         "False",
         "False",
         "False",
         "False",
         "False",
         "False",
         "False",
         "False",
         "False",
         "False",
         "False",
         "False",
         "False",
         "False",
         "False",
         "False",
         "False",
         "False",
         "False",
         "False",
         "False",
         "False",
         "False",
         "False",
         "False",
         "False",
         "False",
         "False",
         "False",
         "False",
         "False",
         "False",
         "False",
         "False",
         "False",
         "False",
         "False",
         "False",
         "False",
         "False",
         "False",
         "False",
         "False",
         "False",
         "False",
         "False",
         "False",
         "False",
         "False",
         "False",
         "False",
         "False",
         "False",
         "False",
         "False",
         "False",
         "False",
         "False",
         "False",
         "False",
         "False",
         "False",
         "False",
         "False",
         "False",
         "False",
         "False",
         "True",
         "False",
         "True",
         "True",
         "True",
         "False",
         "True",
         "False",
         "False",
         "False",
         "False",
         "False",
         "False",
         "False",
         "False",
         "True",
         "False",
         "False",
         "False",
         "False",
         "True",
         "False",
         "False",
         "True",
         "False",
         "False",
         "False",
         "False",
         "False",
         "False",
         "False",
         "False",
         "True",
         "False"
        ],
        [
         "323",
         "https://www.stepstone.de/stellenangebote--Berufseinstieg-als-Entwicklungsingenieur-m-w-d-im-Bereich-Elektromobilitaet-Batteriesysteme-Muenchen-Bertrandt-AG--8245292-inline.html",
         "Bertrandt AG",
         "Berufseinstieg als Entwicklungsingenieur (m/w/d) im Bereich Elektromobilität/ Batteriesysteme",
         "Der Bertrandt-Konzern bietet seit über 40 Jahren Entwicklungslösungen für die internationale Automobil- und Luftfahrtindustrie sowie die Branchen Maschinen- und Anlagenbau, Energie, Medizintechnik und Elektroindustrie in Europa, China und den USA. Insgesamt stehen unsere Mitarbeiterinnen und Mitarbeiter für tiefes Know-how, zukunftsfähige Projektlösungen und hohe Kundenorientierung.Berufseinstieg als Entwicklungsingenieur (m/w/d) im Bereich Elektromobilität/ BatteriesystemeOrt: MünchenWas Sie erwartet:Im stetig wachsenden Markt der Elektrifizierung von Antriebskonzepten im Automotive-Sektor verstärken Sie unser Team bei der Entwicklung von Hochvoltspeichersystemen.Die Aufgabenbereiche erstrecken sich über die Themenfelder Funktions- und Modellentwicklung, energetische Auslegung und Simulation, Speicher-architektur, Data Science über das Lieferanten-management für die Batteriezelle sowie E/E-Umfänge bis hin zum technischen Projektmanagement.Was Sie mitbringen:Abgeschlossenes Studium im Bereich, Elektrotechnik, Wirtschaftsingenieurwesen, Fahrzeugtechnik, Mechatronik oder einer ähnlichen FachrichtungErste relevante Erfahrungen, die Sie während des Studiums gewonnen haben (z.B.  durch Praktika oder Abschlussarbeiten)Hohe Eigenmotivation, Ihre Ideen einzubringenVerhandlungssichere Deutsch- (mind. Level C1) und EnglischkenntnisseStarke Team- und Kommunikationsfähigkeiten sowie eine selbstständige und strukturierte ArbeitsweiseWas wir bieten:Verantwortungsvolle Aufgaben  Intensive Einarbeitung  Patenmodell  Flexible Arbeitszeiten  Eigenverantwortliches Arbeiten  Sportliche Aktivitäten  Mobiles Arbeiten  Mitarbeiter-Events  Attraktive Vergütung  Betriebliche Altersvorsorge und BU-VersicherungKontakt:Chevron bottom iconSie finden sich in dieser Stellenbeschreibung wieder und teilen unsere Begeisterung für das Thema Elektromobilität? Dann überzeugen Sie uns mit Ihrem aussagekräftigen Lebenslauf und Ihrem Motivationsschreiben, in dem Sie auch darauf eingehen, in welche(m) der o.g. Themenfelder Sie sich einbringen möchten.Wir freuen uns auf Ihre Bewerbung!Ute SpahnTel.: +49 221 7022-159",
         "3.6",
         "494 Bewertungen",
         "https://www.stepstone.de/cmp/de/Bertrandt-AG-179/?intcid=Button_listing_company-card_company-presentation",
         "2022-06-01",
         "10,001+",
         "False",
         "True",
         "True",
         "False",
         "True",
         "Others",
         "No Information",
         null,
         "München",
         "False",
         "Bavaria",
         "Fahrzeugbau/-zulieferer",
         "False",
         "False",
         "False",
         "False",
         "False",
         "False",
         "False",
         "False",
         "False",
         "False",
         "False",
         "False",
         "False",
         "False",
         "False",
         "False",
         "False",
         "False",
         "False",
         "False",
         "False",
         "False",
         "False",
         "False",
         "False",
         "False",
         "False",
         "False",
         "False",
         "False",
         "False",
         "False",
         "False",
         "False",
         "False",
         "False",
         "False",
         "False",
         "False",
         "False",
         "False",
         "False",
         "False",
         "False",
         "False",
         "False",
         "False",
         "False",
         "False",
         "False",
         "False",
         "False",
         "False",
         "False",
         "False",
         "False",
         "False",
         "False",
         "False",
         "False",
         "False",
         "False",
         "False",
         "False",
         "False",
         "False",
         "False",
         "False",
         "False",
         "False",
         "False",
         "False",
         "False",
         "False",
         "False",
         "False",
         "False",
         "False",
         "False",
         "False",
         "False",
         "False",
         "False",
         "False",
         "False",
         "False",
         "False",
         "False",
         "False",
         "False",
         "True",
         "False",
         "False",
         "False",
         "False",
         "True",
         "False",
         "False",
         "False",
         "False",
         "False",
         "False",
         "False",
         "False",
         "False",
         "False",
         "False",
         "False",
         "False",
         "False",
         "True",
         "False",
         "False",
         "False",
         "False",
         "False",
         "False",
         "False",
         "True",
         "True",
         "True",
         "False",
         "False",
         "False"
        ],
        [
         "341",
         "https://www.stepstone.de/stellenangebote--Berufseinstieg-als-Entwicklungsingenieur-im-Bereich-Elektromobilitaet-Batteriesysteme-m-w-d-Muenchen-Bertrandt-AG--8351897-inline.html",
         "Bertrandt AG",
         "Berufseinstieg als Entwicklungsingenieur im Bereich Elektromobilität/ Batteriesysteme (m/w/d)",
         "Der Bertrandt-Konzern bietet seit über 40 Jahren Entwicklungslösungen für die internationale Automobil- und Luftfahrtindustrie sowie die Branchen Maschinen- und Anlagenbau, Energie, Medizintechnik und Elektroindustrie in Europa, China und den USA. Insgesamt stehen unsere Mitarbeiterinnen und Mitarbeiter für tiefes Know-how, zukunftsfähige Projektlösungen und hohe Kundenorientierung.Berufseinstieg als Entwicklungsingenieur im Bereich Elektromobilität/ Batteriesysteme (m/w/d)Ort: MünchenWas Sie erwartet:Im stetig wachsenden Markt der Elektrifizierung von Antriebskonzepten im Automotive-Sektor verstärken Sie unser Team bei der Entwicklung von Hochvoltspeichersystemen.Die Aufgabenbereiche erstrecken sich über die Themenfelder Funktions- und Modellentwicklung, energetische Auslegung und Simulation, Speicher-architektur, Data Science über das Lieferanten-management für die Batteriezelle sowie E/E-Umfänge bis hin zum technischen Projektmanagement.Was Sie mitbringen:Abgeschlossenes Studium im Bereich, Elektrotechnik, Wirtschaftsingenieurwesen, Fahrzeugtechnik, Mechatronik oder einer ähnlichen FachrichtungErste relevante Erfahrungen, die Sie während des Studiums gewonnen haben (z.B.  durch Praktika oder Abschlussarbeiten)Hohe Eigenmotivation, Ihre Ideen einzubringenVerhandlungssichere Deutsch- (mind. Level C1) und EnglischkenntnisseStarke Team- und Kommunikationsfähigkeiten sowie eine selbstständige und strukturierte ArbeitsweiseWas wir bieten:Verantwortungsvolle Aufgaben  Intensive Einarbeitung  Patenmodell  Flexible Arbeitszeiten  Eigenverantwortliches Arbeiten  Sportliche Aktivitäten  Mobiles Arbeiten  Mitarbeiter-Events  Attraktive Vergütung  Betriebliche Altersvorsorge und BU-VersicherungKontakt:Chevron bottom iconSie finden sich in dieser Stellenbeschreibung wieder und teilen unsere Begeisterung für das Thema Elektromobilität? Dann überzeugen Sie uns mit Ihrem aussagekräftigen Lebenslauf und Ihrem Motivationsschreiben, in dem Sie auch darauf eingehen, in welche(m) der o.g. Themenfelder Sie sich einbringen möchten.Wir freuen uns auf Ihre Bewerbung!Ute SpahnTel.: +49 221 7022-159",
         "3.6",
         "494 Bewertungen",
         "https://www.stepstone.de/cmp/de/Bertrandt-AG-179/?intcid=Button_listing_company-card_company-presentation",
         "2022-06-01",
         "10,001+",
         "False",
         "True",
         "True",
         "False",
         "True",
         "Others",
         "No Information",
         null,
         "München",
         "False",
         "Bavaria",
         "Fahrzeugbau/-zulieferer",
         "False",
         "False",
         "False",
         "False",
         "False",
         "False",
         "False",
         "False",
         "False",
         "False",
         "False",
         "False",
         "False",
         "False",
         "False",
         "False",
         "False",
         "False",
         "False",
         "False",
         "False",
         "False",
         "False",
         "False",
         "False",
         "False",
         "False",
         "False",
         "False",
         "False",
         "False",
         "False",
         "False",
         "False",
         "False",
         "False",
         "False",
         "False",
         "False",
         "False",
         "False",
         "False",
         "False",
         "False",
         "False",
         "False",
         "False",
         "False",
         "False",
         "False",
         "False",
         "False",
         "False",
         "False",
         "False",
         "False",
         "False",
         "False",
         "False",
         "False",
         "False",
         "False",
         "False",
         "False",
         "False",
         "False",
         "False",
         "False",
         "False",
         "False",
         "False",
         "False",
         "False",
         "False",
         "False",
         "False",
         "False",
         "False",
         "False",
         "False",
         "False",
         "False",
         "False",
         "False",
         "False",
         "False",
         "False",
         "False",
         "False",
         "False",
         "True",
         "False",
         "False",
         "False",
         "False",
         "True",
         "False",
         "False",
         "False",
         "False",
         "False",
         "False",
         "False",
         "False",
         "False",
         "False",
         "False",
         "False",
         "False",
         "False",
         "True",
         "False",
         "False",
         "False",
         "False",
         "False",
         "False",
         "False",
         "True",
         "True",
         "True",
         "False",
         "False",
         "False"
        ]
       ],
       "shape": {
        "columns": 145,
        "rows": 5
       }
      },
      "text/html": [
       "<div>\n",
       "<style scoped>\n",
       "    .dataframe tbody tr th:only-of-type {\n",
       "        vertical-align: middle;\n",
       "    }\n",
       "\n",
       "    .dataframe tbody tr th {\n",
       "        vertical-align: top;\n",
       "    }\n",
       "\n",
       "    .dataframe thead th {\n",
       "        text-align: right;\n",
       "    }\n",
       "</style>\n",
       "<table border=\"1\" class=\"dataframe\">\n",
       "  <thead>\n",
       "    <tr style=\"text-align: right;\">\n",
       "      <th></th>\n",
       "      <th>link</th>\n",
       "      <th>company</th>\n",
       "      <th>title</th>\n",
       "      <th>content</th>\n",
       "      <th>rating</th>\n",
       "      <th>num_ratings</th>\n",
       "      <th>company_link</th>\n",
       "      <th>release_date</th>\n",
       "      <th>company_size</th>\n",
       "      <th>permanent_employment</th>\n",
       "      <th>...</th>\n",
       "      <th>creativity</th>\n",
       "      <th>leadership</th>\n",
       "      <th>flexibility</th>\n",
       "      <th>business_focus</th>\n",
       "      <th>initiative</th>\n",
       "      <th>structured_working</th>\n",
       "      <th>little_experience</th>\n",
       "      <th>much_experience</th>\n",
       "      <th>no_experience_information</th>\n",
       "      <th>some_experience</th>\n",
       "    </tr>\n",
       "  </thead>\n",
       "  <tbody>\n",
       "    <tr>\n",
       "      <th>151</th>\n",
       "      <td>https://www.stepstone.de/stellenangebote--Data...</td>\n",
       "      <td>Bertrandt AG</td>\n",
       "      <td>Data Scientist (m/w/d)</td>\n",
       "      <td>Der Bertrandt-Konzern bietet seit über 40 Jahr...</td>\n",
       "      <td>3.6</td>\n",
       "      <td>494 Bewertungen</td>\n",
       "      <td>https://www.stepstone.de/cmp/de/Bertrandt-AG-1...</td>\n",
       "      <td>2022-05-28</td>\n",
       "      <td>10,001+</td>\n",
       "      <td>True</td>\n",
       "      <td>...</td>\n",
       "      <td>False</td>\n",
       "      <td>False</td>\n",
       "      <td>False</td>\n",
       "      <td>False</td>\n",
       "      <td>True</td>\n",
       "      <td>False</td>\n",
       "      <td>False</td>\n",
       "      <td>True</td>\n",
       "      <td>False</td>\n",
       "      <td>False</td>\n",
       "    </tr>\n",
       "    <tr>\n",
       "      <th>169</th>\n",
       "      <td>https://www.stepstone.de/stellenangebote--Data...</td>\n",
       "      <td>Bertrandt AG</td>\n",
       "      <td>Data Scientist (m/w/d)</td>\n",
       "      <td>Der Bertrandt-Konzern bietet seit über 40 Jahr...</td>\n",
       "      <td>3.6</td>\n",
       "      <td>494 Bewertungen</td>\n",
       "      <td>https://www.stepstone.de/cmp/de/Bertrandt-AG-1...</td>\n",
       "      <td>2022-05-27</td>\n",
       "      <td>10,001+</td>\n",
       "      <td>True</td>\n",
       "      <td>...</td>\n",
       "      <td>False</td>\n",
       "      <td>False</td>\n",
       "      <td>False</td>\n",
       "      <td>False</td>\n",
       "      <td>True</td>\n",
       "      <td>False</td>\n",
       "      <td>False</td>\n",
       "      <td>True</td>\n",
       "      <td>False</td>\n",
       "      <td>False</td>\n",
       "    </tr>\n",
       "    <tr>\n",
       "      <th>316</th>\n",
       "      <td>https://www.stepstone.de/stellenangebote--Busi...</td>\n",
       "      <td>Schwarz Dienstleistungen</td>\n",
       "      <td>Business Consultant Artificial Intelligence (m...</td>\n",
       "      <td>Die Schwarz IT KG ist als zentraler IT-Dienstl...</td>\n",
       "      <td>3.7</td>\n",
       "      <td>67 Bewertungen</td>\n",
       "      <td>https://www.stepstone.de/cmp/de/Schwarz-Dienst...</td>\n",
       "      <td>2022-05-25</td>\n",
       "      <td>2501-5000</td>\n",
       "      <td>True</td>\n",
       "      <td>...</td>\n",
       "      <td>False</td>\n",
       "      <td>False</td>\n",
       "      <td>False</td>\n",
       "      <td>False</td>\n",
       "      <td>False</td>\n",
       "      <td>False</td>\n",
       "      <td>False</td>\n",
       "      <td>False</td>\n",
       "      <td>True</td>\n",
       "      <td>False</td>\n",
       "    </tr>\n",
       "    <tr>\n",
       "      <th>323</th>\n",
       "      <td>https://www.stepstone.de/stellenangebote--Beru...</td>\n",
       "      <td>Bertrandt AG</td>\n",
       "      <td>Berufseinstieg als Entwicklungsingenieur (m/w/...</td>\n",
       "      <td>Der Bertrandt-Konzern bietet seit über 40 Jahr...</td>\n",
       "      <td>3.6</td>\n",
       "      <td>494 Bewertungen</td>\n",
       "      <td>https://www.stepstone.de/cmp/de/Bertrandt-AG-1...</td>\n",
       "      <td>2022-06-01</td>\n",
       "      <td>10,001+</td>\n",
       "      <td>False</td>\n",
       "      <td>...</td>\n",
       "      <td>False</td>\n",
       "      <td>False</td>\n",
       "      <td>False</td>\n",
       "      <td>False</td>\n",
       "      <td>True</td>\n",
       "      <td>True</td>\n",
       "      <td>True</td>\n",
       "      <td>False</td>\n",
       "      <td>False</td>\n",
       "      <td>False</td>\n",
       "    </tr>\n",
       "    <tr>\n",
       "      <th>341</th>\n",
       "      <td>https://www.stepstone.de/stellenangebote--Beru...</td>\n",
       "      <td>Bertrandt AG</td>\n",
       "      <td>Berufseinstieg als Entwicklungsingenieur im Be...</td>\n",
       "      <td>Der Bertrandt-Konzern bietet seit über 40 Jahr...</td>\n",
       "      <td>3.6</td>\n",
       "      <td>494 Bewertungen</td>\n",
       "      <td>https://www.stepstone.de/cmp/de/Bertrandt-AG-1...</td>\n",
       "      <td>2022-06-01</td>\n",
       "      <td>10,001+</td>\n",
       "      <td>False</td>\n",
       "      <td>...</td>\n",
       "      <td>False</td>\n",
       "      <td>False</td>\n",
       "      <td>False</td>\n",
       "      <td>False</td>\n",
       "      <td>True</td>\n",
       "      <td>True</td>\n",
       "      <td>True</td>\n",
       "      <td>False</td>\n",
       "      <td>False</td>\n",
       "      <td>False</td>\n",
       "    </tr>\n",
       "  </tbody>\n",
       "</table>\n",
       "<p>5 rows × 145 columns</p>\n",
       "</div>"
      ],
      "text/plain": [
       "                                                  link  \\\n",
       "151  https://www.stepstone.de/stellenangebote--Data...   \n",
       "169  https://www.stepstone.de/stellenangebote--Data...   \n",
       "316  https://www.stepstone.de/stellenangebote--Busi...   \n",
       "323  https://www.stepstone.de/stellenangebote--Beru...   \n",
       "341  https://www.stepstone.de/stellenangebote--Beru...   \n",
       "\n",
       "                      company  \\\n",
       "151              Bertrandt AG   \n",
       "169              Bertrandt AG   \n",
       "316  Schwarz Dienstleistungen   \n",
       "323              Bertrandt AG   \n",
       "341              Bertrandt AG   \n",
       "\n",
       "                                                 title  \\\n",
       "151                             Data Scientist (m/w/d)   \n",
       "169                             Data Scientist (m/w/d)   \n",
       "316  Business Consultant Artificial Intelligence (m...   \n",
       "323  Berufseinstieg als Entwicklungsingenieur (m/w/...   \n",
       "341  Berufseinstieg als Entwicklungsingenieur im Be...   \n",
       "\n",
       "                                               content  rating  \\\n",
       "151  Der Bertrandt-Konzern bietet seit über 40 Jahr...     3.6   \n",
       "169  Der Bertrandt-Konzern bietet seit über 40 Jahr...     3.6   \n",
       "316  Die Schwarz IT KG ist als zentraler IT-Dienstl...     3.7   \n",
       "323  Der Bertrandt-Konzern bietet seit über 40 Jahr...     3.6   \n",
       "341  Der Bertrandt-Konzern bietet seit über 40 Jahr...     3.6   \n",
       "\n",
       "         num_ratings                                       company_link  \\\n",
       "151  494 Bewertungen  https://www.stepstone.de/cmp/de/Bertrandt-AG-1...   \n",
       "169  494 Bewertungen  https://www.stepstone.de/cmp/de/Bertrandt-AG-1...   \n",
       "316   67 Bewertungen  https://www.stepstone.de/cmp/de/Schwarz-Dienst...   \n",
       "323  494 Bewertungen  https://www.stepstone.de/cmp/de/Bertrandt-AG-1...   \n",
       "341  494 Bewertungen  https://www.stepstone.de/cmp/de/Bertrandt-AG-1...   \n",
       "\n",
       "    release_date company_size  permanent_employment  ...  creativity  \\\n",
       "151   2022-05-28      10,001+                  True  ...       False   \n",
       "169   2022-05-27      10,001+                  True  ...       False   \n",
       "316   2022-05-25    2501-5000                  True  ...       False   \n",
       "323   2022-06-01      10,001+                 False  ...       False   \n",
       "341   2022-06-01      10,001+                 False  ...       False   \n",
       "\n",
       "     leadership  flexibility  business_focus initiative structured_working  \\\n",
       "151       False        False           False       True              False   \n",
       "169       False        False           False       True              False   \n",
       "316       False        False           False      False              False   \n",
       "323       False        False           False       True               True   \n",
       "341       False        False           False       True               True   \n",
       "\n",
       "     little_experience much_experience  no_experience_information  \\\n",
       "151              False            True                      False   \n",
       "169              False            True                      False   \n",
       "316              False           False                       True   \n",
       "323               True           False                      False   \n",
       "341               True           False                      False   \n",
       "\n",
       "    some_experience  \n",
       "151           False  \n",
       "169           False  \n",
       "316           False  \n",
       "323           False  \n",
       "341           False  \n",
       "\n",
       "[5 rows x 145 columns]"
      ]
     },
     "execution_count": 57,
     "metadata": {},
     "output_type": "execute_result"
    }
   ],
   "source": [
    "data_cleaned[data_cleaned.drop([\"link\", \"release_date\", \"title\", \"content\"], axis=1).duplicated(keep=False)].head()"
   ]
  },
  {
   "cell_type": "markdown",
   "id": "51e24ae8-2393-45c6-93f2-210dca2a1294",
   "metadata": {},
   "source": [
    "From the samples displayed, it is clear that the first occurrence of the job ad is the more relevant version. Therefore, this version is kept for further analysis."
   ]
  },
  {
   "cell_type": "code",
   "execution_count": 58,
   "id": "cfcefe70-f9cf-484a-8bac-0448098bde7b",
   "metadata": {},
   "outputs": [
    {
     "data": {
      "text/plain": [
       "(3237, 145)"
      ]
     },
     "execution_count": 58,
     "metadata": {},
     "output_type": "execute_result"
    }
   ],
   "source": [
    "data_cleaned = data_cleaned[~data_cleaned.drop([\"link\", \"title\", \"content\", \"release_date\"], axis=1).duplicated()]\n",
    "data_cleaned.shape"
   ]
  },
  {
   "cell_type": "code",
   "execution_count": 59,
   "id": "778986d8-7feb-4d85-8966-c433ab256628",
   "metadata": {},
   "outputs": [],
   "source": [
    "data_cleaned.to_csv(\"../data/data_wide.csv\", index=False)"
   ]
  },
  {
   "cell_type": "code",
   "execution_count": null,
   "id": "ef54dbdb",
   "metadata": {},
   "outputs": [],
   "source": []
  }
 ],
 "metadata": {
  "kernelspec": {
   "display_name": "jobsearch_new",
   "language": "python",
   "name": "python3"
  },
  "language_info": {
   "codemirror_mode": {
    "name": "ipython",
    "version": 3
   },
   "file_extension": ".py",
   "mimetype": "text/x-python",
   "name": "python",
   "nbconvert_exporter": "python",
   "pygments_lexer": "ipython3",
   "version": "3.11.10"
  }
 },
 "nbformat": 4,
 "nbformat_minor": 5
}
